{
 "cells": [
  {
   "cell_type": "code",
   "execution_count": 40,
   "id": "c114a9d9",
   "metadata": {},
   "outputs": [],
   "source": [
    "from skimage import io\n",
    "import scipy.ndimage as ndi\n",
    "import random\n",
    "from tqdm import tqdm\n",
    "import numpy as np\n",
    "from sklearn.model_selection import KFold\n",
    "from sklearn.neural_network import MLPClassifier\n",
    "from sklearn.linear_model import LogisticRegression\n",
    "from sklearn.metrics import roc_curve, auc, jaccard_score\n",
    "import matplotlib.pyplot as plt\n",
    "from scipy.spatial.distance import dice\n",
    "\n",
    "from pathlib import Path\n",
    "import os"
   ]
  },
  {
   "cell_type": "code",
   "execution_count": 41,
   "id": "9c3b7465",
   "metadata": {},
   "outputs": [],
   "source": [
    "import torch\n",
    "from torch import nn\n",
    "from torch.utils.data import DataLoader\n",
    "from torchvision import datasets\n",
    "from torchvision.transforms import ToTensor, Lambda, Compose\n",
    "import matplotlib.pyplot as plt\n",
    "from sklearn.metrics import accuracy_score, precision_score, recall_score, precision_recall_curve"
   ]
  },
  {
   "cell_type": "code",
   "execution_count": 42,
   "id": "8809d925",
   "metadata": {},
   "outputs": [
    {
     "name": "stdout",
     "output_type": "stream",
     "text": [
      "Downloading segments to /users/shrey2/Documents/NDD/brainlit/docs/notebooks/utils/data\n"
     ]
    }
   ],
   "source": [
    "data_dir = \"/users/shrey2/Documents/NDD/brainlit/docs/notebooks/utils/data\"\n",
    "print(f\"Downloading segments to {data_dir}\")\n",
    "if not os.path.exists(data_dir):\n",
    "    os.makedirs(data_dir)\n",
    "\n",
    "im_dir = Path(os.path.join(data_dir, \"sample-tif-location\"))\n",
    "if not os.path.exists(im_dir):\n",
    "    os.makedirs(im_dir)\n",
    "\n",
    "swc_dir = os.path.join(data_dir, \"sample-swc-location\")\n",
    "if not os.path.exists(swc_dir):\n",
    "    os.makedirs(swc_dir)\n",
    "\n",
    "mask_dir = Path(os.path.join(data_dir, \"mask-location\"))\n",
    "\n",
    "swc_base_path = Path(swc_dir) / \"Manual-GT\"\n",
    "\n",
    "gfp_files = list(im_dir.glob(\"**/*-gfp.tif\"))\n",
    "\n",
    "ms = \"\""
   ]
  },
  {
   "cell_type": "code",
   "execution_count": 43,
   "id": "0354dfe0",
   "metadata": {},
   "outputs": [
    {
     "name": "stderr",
     "output_type": "stream",
     "text": [
      "100%|███████████████████████████████████████████| 50/50 [00:10<00:00,  4.61it/s]\n"
     ]
    }
   ],
   "source": [
    "X_torch = []\n",
    "y_torch = []\n",
    "\n",
    "for i, im_path in enumerate(tqdm(gfp_files)):\n",
    "\n",
    "    f = im_path.parts[-1][:-8].split(\"_\")\n",
    "    image = f[0]\n",
    "    num = int(f[1])\n",
    "\n",
    "    if (image == \"test\" and num in [9,10,24]) or (image == \"validation\" and num in [11]):\n",
    "        continue\n",
    "\n",
    "    #getting image\n",
    "    im = io.imread(im_path, plugin=\"tifffile\")\n",
    "    im = (im - np.amin(im)) / (np.amax(im) - np.amin(im))\n",
    "    im = np.swapaxes(im,0,2)\n",
    "    im_padded = np.pad(im, ((4,4), (4,4), (3,3)) )\n",
    "    \n",
    "    #getting ground truth mask\n",
    "    file_name = str(im_path)[str(im_path).find(\"\\\\\", 80) + 1 : (str(im_path).find(\"sample\"))] + \"/mask-location/\"\n",
    "    file_num = file_name[file_name.find(\"_\")+1:]\n",
    "    if file_name[0] == 'v':\n",
    "        file_num = str(int(file_num)+25)\n",
    "    mask_path = Path(file_name + f[0] + \"_\" + f[1] + \"_mask.npy\")\n",
    "    mask = np.load(mask_path)\n",
    "    \n",
    "    X_torch.append(im)\n",
    "    y_torch.append(mask)"
   ]
  },
  {
   "cell_type": "code",
   "execution_count": 44,
   "id": "b0873219",
   "metadata": {},
   "outputs": [],
   "source": [
    "X_torch_train = X_torch[0:30]\n",
    "y_torch_train = y_torch[0:30]\n",
    "x_torch_test = X_torch[31:45]\n",
    "y_torch_test = y_torch[31:45]\n",
    "\n",
    "training_data = torch.tensor([X_torch_train, y_torch_train]).float()\n",
    "test_data = torch.tensor([x_torch_test, y_torch_test]).float()\n",
    "\n",
    "batch_size = 2\n",
    "\n",
    "# Create data loaders.\n",
    "train_dataloader = DataLoader(training_data, batch_size=batch_size)\n",
    "test_dataloader = DataLoader(test_data, batch_size=batch_size)"
   ]
  },
  {
   "cell_type": "code",
   "execution_count": 45,
   "id": "eff21f3b",
   "metadata": {},
   "outputs": [
    {
     "name": "stdout",
     "output_type": "stream",
     "text": [
      "Feature batch shape: torch.Size([30, 330, 330, 100])\n",
      "Labels batch shape: torch.Size([30, 330, 330, 100])\n",
      "Using cpu device\n"
     ]
    }
   ],
   "source": [
    "train_features, train_labels = next(iter(train_dataloader))\n",
    "print(f\"Feature batch shape: {train_features.size()}\")\n",
    "print(f\"Labels batch shape: {train_labels.size()}\")\n",
    "\n",
    "device = 'cuda' if torch.cuda.is_available() else 'cpu'\n",
    "print('Using {} device'.format(device))"
   ]
  },
  {
   "cell_type": "markdown",
   "id": "db730628",
   "metadata": {},
   "source": [
    "### Manual Baseline Pytorch Model"
   ]
  },
  {
   "cell_type": "code",
   "execution_count": 47,
   "id": "c1383a2d",
   "metadata": {},
   "outputs": [
    {
     "name": "stdout",
     "output_type": "stream",
     "text": [
      "NeuralNetwork(\n",
      "  (linear_relu_stack): Sequential(\n",
      "    (0): Conv2d(330, 660, kernel_size=(1, 1), stride=(1, 1))\n",
      "    (1): ReLU()\n",
      "    (2): Conv2d(660, 990, kernel_size=(1, 1), stride=(1, 1))\n",
      "    (3): ReLU()\n",
      "    (4): Conv2d(990, 10, kernel_size=(1, 1), stride=(1, 1))\n",
      "    (5): ReLU()\n",
      "    (6): Conv2d(10, 330, kernel_size=(1, 1), stride=(1, 1))\n",
      "    (7): ConvTranspose2d(330, 330, kernel_size=(1, 1), stride=(1, 1))\n",
      "  )\n",
      ")\n"
     ]
    }
   ],
   "source": [
    "class NeuralNetwork(nn.Module):\n",
    "    def __init__(self):\n",
    "        super(NeuralNetwork, self).__init__()\n",
    "        #self.flatten = nn.Flatten()\n",
    "        self.linear_relu_stack = nn.Sequential(\n",
    "            #nn.Linear(10890000, 46),\n",
    "            #nn.ReLU(),\n",
    "            #nn.Linear(46, 46),\n",
    "            #nn.ReLU(),\n",
    "            #nn.Linear(46, 10),\n",
    "            nn.Conv2d(330, 660, 1, 1),\n",
    "            nn.ReLU(),\n",
    "            nn.Conv2d(660, 990, 1, 1),\n",
    "            nn.ReLU(),\n",
    "            nn.Conv2d(990, 10, 1, 1),\n",
    "            nn.ReLU(),\n",
    "            nn.Conv2d(10, 330, 1, 1),\n",
    "            \n",
    "            nn.ConvTranspose2d(330, 330, 1, 1),\n",
    "\n",
    "            #nn.ConvTranspose2D(330, 330, 1, 1)\n",
    "            #nn.Conv2d(330, 330, 1, 1),\n",
    "            #nn.Conv2d(330, 330, 1, 1),\n",
    "\n",
    "            #nn.Conv2d(660, 660, 1, 1),\n",
    "            #nn.Conv2d(660, 330, 1, 1),\n",
    "\n",
    "            #nn.MaxPool2d(330),\n",
    "            #nn.Linear(1000, 330),\n",
    "\n",
    "            #nn.Conv2d(100, 100, 1, 1),\n",
    "            #nn.Conv2d(100, 330, 1, 1),\n",
    "            #nn.Linear(330,330),\n",
    "        )\n",
    "\n",
    "    def forward(self, x):\n",
    "        #x = self.flatten(x)\n",
    "        logits = self.linear_relu_stack(x)\n",
    "        #logits = self.linear(x)\n",
    "        #logits = nn.Softmax(dim=1)(logits)\n",
    "        self.Sigmoid = nn.Sigmoid()\n",
    "        logits = self.Sigmoid(logits)\n",
    "        #logits = torch.round(x).clone()\n",
    "        return logits\n",
    "    \n",
    "model = NeuralNetwork().to(device)\n",
    "print(model)"
   ]
  },
  {
   "cell_type": "code",
   "execution_count": 48,
   "id": "3c16154b",
   "metadata": {},
   "outputs": [],
   "source": [
    "def train_loop(dataloader, model, loss_fn, optimizer):\n",
    "    size = len(dataloader.dataset)\n",
    "    #size = 330*330*100*14\n",
    "    y_true = []\n",
    "    y_pred = []\n",
    "    for batch, (X, y) in enumerate(dataloader):\n",
    "    #for (X, y) in enumerate(dataloader):\n",
    "        #print(X)\n",
    "        # Compute prediction and loss\n",
    "        #print(batch)\n",
    "        #print(X.shape)\n",
    "        #X = X.unsqueeze(3)\n",
    "        #print(X.shape)\n",
    "        optimizer.zero_grad()\n",
    "        pred = model(X)\n",
    "        pred = torch.squeeze(pred, 3).clone()\n",
    "        #pred = torch.squeeze(pred, 3)\n",
    "        #print(pred.shape)\n",
    "        #print(y.shape)\n",
    "\n",
    "        loss = loss_fn(pred, y)\n",
    "\n",
    "        # Backpropagation\n",
    "        #optimizer.zero_grad()\n",
    "        loss.backward()\n",
    "        optimizer.step()\n",
    "        \n",
    "        #getting accuracy\n",
    "        #pred_r = np.round(pred.detach().numpy())\n",
    "        #target = y.float()\n",
    "        #y_true.extend(target.tolist()) \n",
    "        #y_pred.extend(pred_r.reshape(-1).tolist())\n",
    "        #print(len(y_true))\n",
    "        #print(len(y_pred))\n",
    "                \n",
    "        if batch % 100 == 0:\n",
    "            loss, current = loss.item(), batch * len(X)\n",
    "            print(f\"loss: {loss:>7f}  [{current:>5d}/{size:>5d}]\")\n",
    "        \n",
    "    #print(\"Accuracy on training set is\", accuracy_score(y_true,y_pred))\n",
    "\n",
    "\n",
    "\n",
    "def test_loop(dataloader, model, loss_fn):\n",
    "    #size = len(dataloader.dataset)\n",
    "    size = 330*330*100*14\n",
    "    print(\"Size: \", size)\n",
    "    num_batches = len(dataloader)\n",
    "    test_loss, correct = 0, 0\n",
    "    \n",
    "    y_true = []\n",
    "    y_pred = []\n",
    "\n",
    "\n",
    "    with torch.no_grad():\n",
    "        for X, y in dataloader:\n",
    "            #X = X.unsqueeze(3)\n",
    "            pred = model(X)\n",
    "            pred = torch.squeeze(pred, 3)\n",
    "            test_loss += loss_fn(pred, y).item()\n",
    "            #print(pred.shape)\n",
    "            #print(y.shape)\n",
    "            correct += (pred == y).type(torch.float).sum().item()\n",
    "            #correct += y.sum()\n",
    "            \n",
    "            #PREDICTIONS\n",
    "            #pred_r = np.round(pred)\n",
    "            #target = y.float()\n",
    "            #y_true.extend(target.tolist()) \n",
    "            #y_pred.extend(pred_r.reshape(-1).tolist())\n",
    "    \n",
    "    #print(\"Accuracy on test set is\" , accuracy_score(y_true,y_pred))\n",
    "    \n",
    "    test_loss /= num_batches\n",
    "    correct /= size\n",
    "    print(\"Correct: \", correct)\n",
    "    print(f\"Test Error: \\n Accuracy: {(100*correct):>0.1f}%, Avg loss: {test_loss:>8f} \\n\")\n",
    "    \n",
    "    return pred, test_loss"
   ]
  },
  {
   "cell_type": "code",
   "execution_count": 49,
   "id": "03cb1ccb",
   "metadata": {},
   "outputs": [],
   "source": [
    "#pred, pred_list, loss_list = test_loop(test_dataloader, model, loss_fn)"
   ]
  },
  {
   "cell_type": "code",
   "execution_count": 50,
   "id": "1a85b50f",
   "metadata": {},
   "outputs": [
    {
     "name": "stdout",
     "output_type": "stream",
     "text": [
      "Epoch 1\n",
      "-------------------------------\n",
      "loss: 0.696159  [    0/    2]\n",
      "Size:  152460000\n",
      "Correct:  0.0\n",
      "Test Error: \n",
      " Accuracy: 0.0%, Avg loss: 0.688285 \n",
      "\n",
      "Epoch 2\n",
      "-------------------------------\n",
      "loss: 0.688274  [    0/    2]\n",
      "Size:  152460000\n",
      "Correct:  0.0\n",
      "Test Error: \n",
      " Accuracy: 0.0%, Avg loss: 0.680542 \n",
      "\n",
      "Epoch 3\n",
      "-------------------------------\n",
      "loss: 0.680528  [    0/    2]\n",
      "Size:  152460000\n",
      "Correct:  0.0\n",
      "Test Error: \n",
      " Accuracy: 0.0%, Avg loss: 0.672908 \n",
      "\n",
      "Done!\n"
     ]
    }
   ],
   "source": [
    "loss_fn = nn.BCELoss()\n",
    "learning_rate = 0.8\n",
    "optimizer = torch.optim.SGD(model.parameters(), lr=learning_rate)\n",
    "epochs = 3\n",
    "\n",
    "pred_list = []\n",
    "loss_list = []\n",
    "\n",
    "for t in range(epochs):\n",
    "    print(f\"Epoch {t+1}\\n-------------------------------\")\n",
    "    train_loop(train_dataloader, model, loss_fn, optimizer)\n",
    "    pred, loss = test_loop(test_dataloader, model, loss_fn)\n",
    "    pred_list.append(pred)\n",
    "    loss_list.append(loss)\n",
    "print(\"Done!\")"
   ]
  },
  {
   "cell_type": "code",
   "execution_count": 51,
   "id": "43045fd3",
   "metadata": {},
   "outputs": [
    {
     "name": "stdout",
     "output_type": "stream",
     "text": [
      "Accuracy:  0.6448780532598715\n",
      "Precision:  0.0013692552851777792\n",
      "Recall:  0.31793854110289255\n",
      "Nonzeros:  3861223\n",
      "Nonzeros percent:  35.456593204775025\n"
     ]
    }
   ],
   "source": [
    "preds_0 = pred.numpy()[0].round().astype(int)\n",
    "\n",
    "print(\"Accuracy: \", accuracy_score(y_torch_test[0].astype(int).flatten(), preds_0.flatten()))\n",
    "print(\"Precision: \", precision_score(y_torch_test[0].astype(int).flatten(), preds_0.flatten()))\n",
    "print(\"Recall: \", recall_score(y_torch_test[0].astype(int).flatten(), preds_0.flatten()))\n",
    "print(\"Nonzeros: \", np.count_nonzero(preds_0.flatten()))\n",
    "print(\"Nonzeros percent: \", np.count_nonzero(preds_0.flatten()) / len(y_torch_test[0].astype(int).flatten()) * 100)"
   ]
  },
  {
   "cell_type": "code",
   "execution_count": 57,
   "id": "b42ebefd",
   "metadata": {},
   "outputs": [
    {
     "data": {
      "text/plain": [
       "torch.Size([14, 330, 330, 100])"
      ]
     },
     "execution_count": 57,
     "metadata": {},
     "output_type": "execute_result"
    }
   ],
   "source": [
    "pred_list[0].shape"
   ]
  },
  {
   "cell_type": "code",
   "execution_count": 75,
   "id": "ffd0a468",
   "metadata": {},
   "outputs": [
    {
     "name": "stdout",
     "output_type": "stream",
     "text": [
      "330\n",
      "330\n",
      "330\n"
     ]
    },
    {
     "data": {
      "text/plain": [
       "[<matplotlib.lines.Line2D at 0x7fb1b89806a0>]"
      ]
     },
     "execution_count": 75,
     "metadata": {},
     "output_type": "execute_result"
    },
    {
     "data": {
      "image/png": "[encoded data removed]",
      "text/plain": [
       "<Figure size 432x288 with 1 Axes>"
      ]
     },
     "metadata": {
      "needs_background": "light"
     },
     "output_type": "display_data"
    },
    {
     "data": {
      "image/png": "[encoded data removed]",
      "text/plain": [
       "<Figure size 432x288 with 1 Axes>"
      ]
     },
     "metadata": {
      "needs_background": "light"
     },
     "output_type": "display_data"
    }
   ],
   "source": [
    "import matplotlib.pyplot as plt\n",
    "\n",
    "acc_list = []\n",
    "nonzero_list = []\n",
    "for i in range(len(loss_list)):\n",
    "    pred = pred_list[0][i].numpy().round().astype(int)\n",
    "    print(len(pred))\n",
    "    acc = accuracy_score(y_torch_test[i].astype(int).flatten(), pred.flatten())\n",
    "    acc_list.append(acc)\n",
    "    \n",
    "    nonzero = np.count_nonzero(pred.flatten()) / len(y_torch_test[i].astype(int).flatten()) * 100\n",
    "    nonzero_list.append(nonzero)\n",
    "\n",
    "plt.figure()\n",
    "plt.title(\"Accuracy over 3 epochs\")\n",
    "plt.xlabel(\"epochs\")\n",
    "plt.ylabel(\"accuracy\")\n",
    "plt.plot(acc_list)\n",
    "\n",
    "plt.figure()\n",
    "plt.title(\"% of nonzero predictions over 2 epochs\")\n",
    "plt.xlabel(\"epochs\")\n",
    "plt.ylabel(\"% nonzero preds\")\n",
    "plt.plot(nonzero_list)"
   ]
  },
  {
   "cell_type": "code",
   "execution_count": 64,
   "id": "e7f1674c",
   "metadata": {},
   "outputs": [
    {
     "data": {
      "text/plain": [
       "[0.6882847547531128, 0.6805418133735657, 0.6729077696800232]"
      ]
     },
     "execution_count": 64,
     "metadata": {},
     "output_type": "execute_result"
    },
    {
     "data": {
      "image/png": "[encoded data removed]",
      "text/plain": [
       "<Figure size 432x288 with 1 Axes>"
      ]
     },
     "metadata": {
      "needs_background": "light"
     },
     "output_type": "display_data"
    }
   ],
   "source": [
    "plt.figure()\n",
    "plt.title(\"Loss over 3 epochs\")\n",
    "plt.xlabel(\"epochs\")\n",
    "plt.ylabel(\"Loss\")\n",
    "plt.plot(loss_list)\n",
    "\n",
    "loss_list"
   ]
  },
  {
   "cell_type": "code",
   "execution_count": 73,
   "id": "2c8fea0b",
   "metadata": {},
   "outputs": [
    {
     "data": {
      "text/plain": [
       "(330, 330, 100)"
      ]
     },
     "execution_count": 73,
     "metadata": {},
     "output_type": "execute_result"
    }
   ],
   "source": [
    "pred_list[0][0].numpy().round().astype(int).shape"
   ]
  },
  {
   "cell_type": "code",
   "execution_count": 74,
   "id": "eaa8e3ec",
   "metadata": {},
   "outputs": [
    {
     "name": "stderr",
     "output_type": "stream",
     "text": [
      "/Users/shrey2/opt/anaconda3/envs/nd/lib/python3.9/site-packages/napari/_qt/qt_event_loop.py:256: FutureWarning: \n",
      "The 'gui_qt()' context manager is deprecated.\n",
      "If you are running napari from a script, please use 'napari.run()' as follows:\n",
      "\n",
      "    import napari\n",
      "\n",
      "    viewer = napari.Viewer()  # no prior setup needed\n",
      "    # other code using the viewer...\n",
      "    napari.run()\n",
      "\n",
      "In IPython or Jupyter, 'napari.run()' is not necessary. napari will automatically\n",
      "start an interactive event loop for you: \n",
      "\n",
      "    import napari\n",
      "    viewer = napari.Viewer()  # that's it!\n",
      "\n",
      "  warn(\n"
     ]
    }
   ],
   "source": [
    "import napari\n",
    "with napari.gui_qt():\n",
    "    viewer = napari.Viewer(ndisplay=3)\n",
    "    viewer.add_image((x_torch_test[0]))\n",
    "    viewer.add_labels((y_torch_test[0]).astype(int))\n",
    "    viewer.add_labels(pred_list[0][0].numpy().round().astype(int))"
   ]
  },
  {
   "cell_type": "code",
   "execution_count": null,
   "id": "189b418e",
   "metadata": {},
   "outputs": [],
   "source": [
    "precision, recall, thresholds = precision_recall_curve(y_torch_test[0].astype(int).flatten(), pred.numpy()[0].astype(int).flatten())\n",
    "\n",
    "plt.plot(precision, recall)"
   ]
  },
  {
   "cell_type": "code",
   "execution_count": null,
   "id": "10eb0c6c",
   "metadata": {},
   "outputs": [],
   "source": []
  },
  {
   "cell_type": "markdown",
   "id": "626fc9a5",
   "metadata": {},
   "source": [
    "### AlexNet"
   ]
  },
  {
   "cell_type": "code",
   "execution_count": null,
   "id": "0a1fa990",
   "metadata": {},
   "outputs": [],
   "source": [
    "import torch\n",
    "model = torch.hub.load('pytorch/vision:v0.10.0', 'alexnet', pretrained=True)\n",
    "model.eval()"
   ]
  },
  {
   "cell_type": "code",
   "execution_count": null,
   "id": "1a6a0cd8",
   "metadata": {},
   "outputs": [],
   "source": [
    "#model.features[0] = nn.Conv2d(330, 3, 1, 1),\n",
    "#model.Conv2D = nn.Conv2D(330, 330, 1, 1)\n",
    "model.features[0] = nn.Conv2d(330, 64, 1, 1)\n",
    "#model.features[12] = nn.Conv2d(256, 9216, 1, 1)\n",
    "\n",
    "#model.fc = nn.Linear(4096, 330) \n",
    "#model.classifier[1] = nn.Conv2d(9216, 4096, 1, 1)\n",
    "#model.classifier[4] = nn.Conv2d(4096, 4096, 1, 1)\n",
    "model.classifier[6] = nn.Conv2d(4096, 330, 1, 1)\n",
    "\n",
    "#model.classifier[6] = nn.ConvTranspose2d(4096, 330, 1, 1)\n",
    "model.eval()"
   ]
  },
  {
   "cell_type": "code",
   "execution_count": null,
   "id": "d37ade53",
   "metadata": {},
   "outputs": [],
   "source": [
    "correct = 0\n",
    "with torch.no_grad():\n",
    "    for X, y in test_dataloader:\n",
    "        pred = model(X)\n",
    "        #pred = torch.squeeze(pred, 3)\n",
    "        #test_loss += loss_fn(pred, y).item()\n",
    "            \n",
    "        #correct += (pred == y).type(torch.float).sum().item()\n",
    "            \n",
    "\n",
    "#print(\"Correct: \", correct)\n",
    "#print(f\"Test Error: \\n Accuracy: {(100*correct):>0.1f}%Avg loss: {test_loss:>8f} \\n\")\n",
    "    \n"
   ]
  },
  {
   "cell_type": "code",
   "execution_count": null,
   "id": "23850803",
   "metadata": {
    "scrolled": false
   },
   "outputs": [],
   "source": [
    "with torch.no_grad():\n",
    "    output = model(test_dataloader)\n",
    "print(output[0])"
   ]
  },
  {
   "cell_type": "code",
   "execution_count": null,
   "id": "f06b9541",
   "metadata": {},
   "outputs": [],
   "source": []
  },
  {
   "cell_type": "markdown",
   "id": "e0590064",
   "metadata": {},
   "source": [
    "### uNet"
   ]
  },
  {
   "cell_type": "code",
   "execution_count": null,
   "id": "3a18c23b",
   "metadata": {},
   "outputs": [],
   "source": [
    "import torch\n",
    "import torch.nn as nn\n",
    "import torch.nn.functional as F\n",
    "\n",
    "\n",
    "class DoubleConv(nn.Module):\n",
    "    \"\"\"(convolution => [BN] => ReLU) * 2\"\"\"\n",
    "\n",
    "    def __init__(self, in_channels, out_channels, mid_channels=None):\n",
    "        super().__init__()\n",
    "        if not mid_channels:\n",
    "            mid_channels = out_channels\n",
    "        self.double_conv = nn.Sequential(\n",
    "            nn.Conv2d(in_channels, mid_channels, kernel_size=1, padding=1),\n",
    "            nn.BatchNorm2d(mid_channels),\n",
    "            nn.ReLU(inplace=True),\n",
    "            nn.Conv2d(mid_channels, out_channels, kernel_size=1, padding=1),\n",
    "            nn.BatchNorm2d(out_channels),\n",
    "            nn.ReLU(inplace=True)\n",
    "        )\n",
    "\n",
    "    def forward(self, x):\n",
    "        return self.double_conv(x)\n",
    "\n",
    "\n",
    "class Down(nn.Module):\n",
    "    \"\"\"Downscaling with maxpool then double conv\"\"\"\n",
    "\n",
    "    def __init__(self, in_channels, out_channels):\n",
    "        super().__init__()\n",
    "        self.maxpool_conv = nn.Sequential(\n",
    "            nn.MaxPool2d(2),\n",
    "            DoubleConv(in_channels, out_channels)\n",
    "        )\n",
    "        \n",
    "\n",
    "    def forward(self, x):\n",
    "        return self.maxpool_conv(x)\n",
    "\n",
    "\n",
    "class Up(nn.Module):\n",
    "    \"\"\"Upscaling then double conv\"\"\"\n",
    "\n",
    "    def __init__(self, in_channels, out_channels, bilinear=True):\n",
    "        super().__init__()\n",
    "\n",
    "        # if bilinear, use the normal convolutions to reduce the number of channels\n",
    "        if bilinear:\n",
    "            self.up = nn.Upsample(scale_factor=2, mode='bilinear', align_corners=True)\n",
    "            self.conv = DoubleConv(in_channels, out_channels, in_channels // 2)\n",
    "        else:\n",
    "            self.up = nn.ConvTranspose2d(in_channels, in_channels // 2, kernel_size=1, stride=1)\n",
    "            self.conv = DoubleConv(in_channels, out_channels)\n",
    "\n",
    "    def forward(self, x1, x2):\n",
    "        x1 = self.up(x1)\n",
    "        # input is CHW\n",
    "        diffY = x2.size()[2] - x1.size()[2]\n",
    "        diffX = x2.size()[3] - x1.size()[3]\n",
    "\n",
    "        x1 = F.pad(x1, [diffX // 2, diffX - diffX // 2,\n",
    "                        diffY // 2, diffY - diffY // 2])\n",
    "        # if you have padding issues, see\n",
    "        # https://github.com/HaiyongJiang/U-Net-Pytorch-Unstructured-Buggy/commit/0e854509c2cea854e247a9c615f175f76fbb2e3a\n",
    "        # https://github.com/xiaopeng-liao/Pytorch-UNet/commit/8ebac70e633bac59fc22bb5195e513d5832fb3bd\n",
    "        x = torch.cat([x2, x1], dim=1)\n",
    "        return self.conv(x)\n",
    "\n",
    "\n",
    "class OutConv(nn.Module):\n",
    "    def __init__(self, in_channels, out_channels):\n",
    "        super(OutConv, self).__init__()\n",
    "        self.conv = nn.Conv2d(in_channels, out_channels, kernel_size=1)\n",
    "\n",
    "    def forward(self, x):\n",
    "        return self.conv(x)\n",
    "    "
   ]
  },
  {
   "cell_type": "code",
   "execution_count": null,
   "id": "be4f852a",
   "metadata": {},
   "outputs": [],
   "source": [
    "class UNet(nn.Module):\n",
    "    def __init__(self, n_channels, n_classes, bilinear=False):\n",
    "        super(UNet, self).__init__()\n",
    "        self.n_channels = n_channels\n",
    "        self.n_classes = n_classes\n",
    "        self.bilinear = bilinear\n",
    "\n",
    "        self.inc = DoubleConv(n_channels, 330)\n",
    "        self.down1 = Down(330, 330)\n",
    "        self.down2 = Down(330, 330)\n",
    "        self.down3 = Down(330, 330)\n",
    "        factor = 2 if bilinear else 1\n",
    "        self.down4 = Down(330, 330 // factor)\n",
    "        self.up1 = Up(330, 330 // factor, bilinear)\n",
    "        self.up2 = Up(330, 330 // factor, bilinear)\n",
    "        self.up3 = Up(330, 330 // factor, bilinear)\n",
    "        self.up4 = Up(330, 330, bilinear)\n",
    "        self.outc = OutConv(330, n_classes)\n",
    "\n",
    "    def forward(self, x):\n",
    "        x1 = self.inc(x)\n",
    "        x2 = self.down1(x1)\n",
    "        x3 = self.down2(x2)\n",
    "        x4 = self.down3(x3)\n",
    "        x5 = self.down4(x4)\n",
    "        x = self.up1(x5, x4)\n",
    "        x = self.up2(x, x3)\n",
    "        x = self.up3(x, x2)\n",
    "        x = self.up4(x, x1)\n",
    "        logits = self.outc(x)\n",
    "        return logits\n",
    "    \n",
    "UNetModel = UNet(330, 330).to(device)\n"
   ]
  },
  {
   "cell_type": "code",
   "execution_count": null,
   "id": "51ba0a57",
   "metadata": {
    "scrolled": true
   },
   "outputs": [],
   "source": [
    "#for X, y in test_dataloader:\n",
    "#    with torch.no_grad():\n",
    "#        output = UNetModel(X)\n",
    "#    # Tensor of shape 1000, with confidence scores over Imagenet's 1000 classes\n",
    "#    print(output[0].shape)"
   ]
  },
  {
   "cell_type": "code",
   "execution_count": null,
   "id": "ab8bd0c0",
   "metadata": {},
   "outputs": [],
   "source": [
    "def train_loop(dataloader, model, loss_fn, optimizer):\n",
    "    size = len(dataloader.dataset)\n",
    "    #size = 330*330*100*14\n",
    "    y_true = []\n",
    "    y_pred = []\n",
    "    for batch, (X, y) in enumerate(dataloader):\n",
    "\n",
    "        optimizer.zero_grad()\n",
    "        pred = model(X)\n",
    "        pred = torch.squeeze(pred, 3).clone()\n",
    "        #pred = torch.squeeze(pred, 3)\n",
    "        #print(pred.shape)\n",
    "        #print(y.shape)\n",
    "\n",
    "        loss = loss_fn(pred, y)\n",
    "\n",
    "        # Backpropagation\n",
    "        #optimizer.zero_grad()\n",
    "        loss.backward()\n",
    "        optimizer.step()\n",
    "        \n",
    "        #getting accuracy\n",
    "        #pred_r = np.round(pred.detach().numpy())\n",
    "        #target = y.float()\n",
    "        #y_true.extend(target.tolist()) \n",
    "        #y_pred.extend(pred_r.reshape(-1).tolist())\n",
    "        #print(len(y_true))\n",
    "        #print(len(y_pred))\n",
    "                \n",
    "        if batch % 100 == 0:\n",
    "            loss, current = loss.item(), batch * len(X)\n",
    "            print(f\"loss: {loss:>7f}  [{current:>5d}/{size:>5d}]\")\n",
    "        \n",
    "    #print(\"Accuracy on training set is\", accuracy_score(y_true,y_pred))\n",
    "\n",
    "\n",
    "def test_loop(dataloader, model, loss_fn):\n",
    "    #size = len(dataloader.dataset)\n",
    "    size = 330*330*100*14\n",
    "    print(\"Size: \", size)\n",
    "    num_batches = len(dataloader)\n",
    "    test_loss, correct = 0, 0\n",
    "    \n",
    "    y_true = []\n",
    "    y_pred = []\n",
    "\n",
    "    with torch.no_grad():\n",
    "        for X, y in dataloader:\n",
    "            #X = X.unsqueeze(3)\n",
    "            pred = model(X)\n",
    "            #pred = torch.squeeze(pred, 3)\n",
    "            test_loss += loss_fn(pred, y).item()\n",
    "            #print(pred.shape)\n",
    "            #print(y.shape)\n",
    "            correct += (pred == y).type(torch.float).sum().item()\n",
    "            #correct += y.sum()\n",
    "            \n",
    "            #PREDICTIONS\n",
    "            #pred_r = np.round(pred)\n",
    "            #target = y.float()\n",
    "            #y_true.extend(target.tolist()) \n",
    "            #y_pred.extend(pred_r.reshape(-1).tolist())\n",
    "    \n",
    "    #print(\"Accuracy on test set is\" , accuracy_score(y_true,y_pred))\n",
    "    \n",
    "    test_loss /= num_batches\n",
    "    correct /= size\n",
    "    print(\"Correct: \", correct)\n",
    "    print(f\"Test Error: \\n Accuracy: {(100*correct):>0.1f}%, Avg loss: {test_loss:>8f} \\n\")\n",
    "    \n",
    "    return pred"
   ]
  },
  {
   "cell_type": "code",
   "execution_count": null,
   "id": "54b501cb",
   "metadata": {
    "scrolled": true
   },
   "outputs": [],
   "source": [
    "loss_fn = nn.BCELoss()\n",
    "learning_rate = 0.8\n",
    "optimizer = torch.optim.SGD(UNetModel.parameters(), lr=learning_rate)\n",
    "epochs = 5\n",
    "\n",
    "for t in range(epochs):\n",
    "    print(f\"Epoch {t+1}\\n-------------------------------\")\n",
    "    train_loop(train_dataloader, UNetModel, loss_fn, optimizer)\n",
    "    pred = test_loop(test_dataloader, UNetModel, loss_fn)\n",
    "print(\"Done!\")"
   ]
  },
  {
   "cell_type": "code",
   "execution_count": null,
   "id": "f305f74e",
   "metadata": {},
   "outputs": [],
   "source": [
    "output_norm = output.numpy()\n",
    "output_norm = abs(output_norm).astype(int)\n",
    "print(\"nonzero num: \", np.count_nonzero(output_norm))\n",
    "print(output_norm[0].shape)"
   ]
  },
  {
   "cell_type": "code",
   "execution_count": null,
   "id": "32789ee6",
   "metadata": {},
   "outputs": [],
   "source": [
    "preds_0 = output_norm[0]\n",
    "\n",
    "print(\"Accuracy: \", accuracy_score(y_torch_test[0].astype(int).flatten(), preds_0.flatten()))\n",
    "print(\"Precision: \", precision_score(y_torch_test[0].astype(int).flatten(), preds_0.flatten()))\n",
    "print(\"Recall: \", recall_score(y_torch_test[0].astype(int).flatten(), preds_0.flatten()))\n",
    "print(\"Nonzeros: \", np.count_nonzero(preds_0.flatten()))\n",
    "print(\"Nonzeros percent: \", np.count_nonzero(preds_0.flatten()) / len(y_torch_test[0].astype(int).flatten()) * 100)"
   ]
  },
  {
   "cell_type": "code",
   "execution_count": null,
   "id": "1b42e5cc",
   "metadata": {},
   "outputs": [],
   "source": []
  }
 ],
 "metadata": {
  "kernelspec": {
   "display_name": "Python 3 (ipykernel)",
   "language": "python",
   "name": "python3"
  },
  "language_info": {
   "codemirror_mode": {
    "name": "ipython",
    "version": 3
   },
   "file_extension": ".py",
   "mimetype": "text/x-python",
   "name": "python",
   "nbconvert_exporter": "python",
   "pygments_lexer": "ipython3",
   "version": "3.9.7"
  }
 },
 "nbformat": 4,
 "nbformat_minor": 5
}

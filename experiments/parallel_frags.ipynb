{
 "cells": [
  {
   "cell_type": "code",
   "execution_count": 1,
   "metadata": {},
   "outputs": [
    {
     "name": "stderr",
     "output_type": "stream",
     "text": [
      "/Users/thomasathey/Documents/mimlab/mouselight/docs_env/lib/python3.8/site-packages/nilearn/datasets/__init__.py:86: FutureWarning: Fetchers from the nilearn.datasets module will be updated in version 0.9 to return python strings instead of bytes and Pandas dataframes instead of Numpy arrays.\n",
      "  warn(\"Fetchers from the nilearn.datasets module will be \"\n"
     ]
    }
   ],
   "source": [
    "from skimage import io\n",
    "import napari\n",
    "from brainlit.preprocessing.image_process import compute_frags, split_frags, remove_somas\n",
    "import h5py\n",
    "from skimage import measure\n",
    "import numpy as np"
   ]
  },
  {
   "cell_type": "code",
   "execution_count": 12,
   "metadata": {},
   "outputs": [],
   "source": [
    "im = io.imread(\"/Users/thomasathey/Documents/mimlab/mouselight/input/images/first10_quantitative/images/2018-08-01_0_first10_quantitative.tif\")\n",
    "scale = [0.3, 0.3, 1]\n",
    "soma_coords = [[360, 240, 120]]\n",
    "threshold = 0.9\n",
    "\n",
    "pred_path =\"/Users/thomasathey/Documents/mimlab/mouselight/input/images/first10_quantitative/2018-08-01_0_first10_quantitative_Probabilities.h5\"\n",
    "f = h5py.File(pred_path, 'r')\n",
    "pred = f.get('exported_data')\n",
    "pred = pred[:,:,:,1]\n",
    "\n",
    "\n",
    "mask = pred > threshold\n",
    "labels = measure.label(mask)"
   ]
  },
  {
   "cell_type": "code",
   "execution_count": 16,
   "metadata": {},
   "outputs": [
    {
     "name": "stdout",
     "output_type": "stream",
     "text": [
      "(200, 200, 0) to (400, 400, 155) with soma [360, 240, 120] now [160  40 120]\n"
     ]
    },
    {
     "name": "stderr",
     "output_type": "stream",
     "text": [
      "/Users/thomasathey/Documents/mimlab/mouselight/docs_env/lib/python3.8/site-packages/nilearn/datasets/__init__.py:86: FutureWarning: Fetchers from the nilearn.datasets module will be updated in version 0.9 to return python strings instead of bytes and Pandas dataframes instead of Numpy arrays.\n",
      "  warn(\"Fetchers from the nilearn.datasets module will be \"\n",
      "removing somas: 0it [00:00, ?it/s]\n",
      "looking for components to remove:   0%|          | 0/130 [00:00<?, ?it/s]"
     ]
    },
    {
     "name": "stdout",
     "output_type": "stream",
     "text": [
      "***************[]**********\n"
     ]
    },
    {
     "name": "stderr",
     "output_type": "stream",
     "text": [
      "looking for components to remove: 100%|██████████| 130/130 [00:00<00:00, 409.93it/s]\n",
      "Adding points...: 100%|██████████| 28921/28921 [00:00<00:00, 38577.23it/s]\n",
      "Splitting Fragments: 100%|██████████| 38/38 [00:00<00:00, 401.13it/s]\n",
      "Split fractured components: 100%|██████████| 162/162 [00:00<00:00, 6958.51it/s]\n",
      "remove small fragments: 100%|██████████| 165/165 [00:00<00:00, 605.66it/s]\n",
      "/Users/thomasathey/Documents/mimlab/mouselight/docs_env/lib/python3.8/site-packages/nilearn/datasets/__init__.py:86: FutureWarning: Fetchers from the nilearn.datasets module will be updated in version 0.9 to return python strings instead of bytes and Pandas dataframes instead of Numpy arrays.\n",
      "  warn(\"Fetchers from the nilearn.datasets module will be \"\n",
      "removing somas: 0it [00:00, ?it/s]\n",
      "looking for components to remove:   0%|          | 0/189 [00:00<?, ?it/s]"
     ]
    },
    {
     "name": "stdout",
     "output_type": "stream",
     "text": [
      "***************[]**********\n"
     ]
    },
    {
     "name": "stderr",
     "output_type": "stream",
     "text": [
      "looking for components to remove: 100%|██████████| 189/189 [00:00<00:00, 418.28it/s]\n",
      "Adding points...: 100%|██████████| 18212/18212 [00:00<00:00, 21928.82it/s]\n",
      "Splitting Fragments: 100%|██████████| 56/56 [00:00<00:00, 204.86it/s]\n",
      "Split fractured components: 100%|██████████| 211/211 [00:00<00:00, 5264.09it/s]\n",
      "remove small fragments: 100%|██████████| 214/214 [00:00<00:00, 520.12it/s]\n",
      "/Users/thomasathey/Documents/mimlab/mouselight/docs_env/lib/python3.8/site-packages/nilearn/datasets/__init__.py:86: FutureWarning: Fetchers from the nilearn.datasets module will be updated in version 0.9 to return python strings instead of bytes and Pandas dataframes instead of Numpy arrays.\n",
      "  warn(\"Fetchers from the nilearn.datasets module will be \"\n",
      "removing somas: 0it [00:00, ?it/s]\n",
      "looking for components to remove:   0%|          | 0/268 [00:00<?, ?it/s]"
     ]
    },
    {
     "name": "stdout",
     "output_type": "stream",
     "text": [
      "***************[]**********\n"
     ]
    },
    {
     "name": "stderr",
     "output_type": "stream",
     "text": [
      "looking for components to remove: 100%|██████████| 268/268 [00:00<00:00, 440.03it/s]\n",
      "Adding points...: 100%|██████████| 25163/25163 [00:01<00:00, 22233.97it/s]\n",
      "Splitting Fragments: 100%|██████████| 71/71 [00:00<00:00, 217.76it/s]\n",
      "Split fractured components: 100%|██████████| 298/298 [00:00<00:00, 6697.69it/s]\n",
      "remove small fragments: 100%|██████████| 304/304 [00:00<00:00, 510.90it/s]\n",
      "/Users/thomasathey/Documents/mimlab/mouselight/docs_env/lib/python3.8/site-packages/nilearn/datasets/__init__.py:86: FutureWarning: Fetchers from the nilearn.datasets module will be updated in version 0.9 to return python strings instead of bytes and Pandas dataframes instead of Numpy arrays.\n",
      "  warn(\"Fetchers from the nilearn.datasets module will be \"\n",
      "removing somas: 0it [00:00, ?it/s]\n",
      "looking for components to remove: 100%|██████████| 162/162 [00:00<00:00, 367.99it/s]\n",
      "Adding points...: 100%|██████████| 19467/19467 [00:00<00:00, 29912.91it/s]\n",
      "Splitting Fragments: 100%|██████████| 41/41 [00:00<00:00, 176.76it/s]\n",
      "Split fractured components: 100%|██████████| 182/182 [00:00<00:00, 5001.92it/s]\n",
      "remove small fragments: 100%|██████████| 184/184 [00:00<00:00, 459.73it/s]\n",
      "/Users/thomasathey/Documents/mimlab/mouselight/docs_env/lib/python3.8/site-packages/nilearn/datasets/__init__.py:86: FutureWarning: Fetchers from the nilearn.datasets module will be updated in version 0.9 to return python strings instead of bytes and Pandas dataframes instead of Numpy arrays.\n",
      "  warn(\"Fetchers from the nilearn.datasets module will be \"\n",
      "removing somas: 0it [00:00, ?it/s]\n",
      "looking for components to remove: 100%|██████████| 11/11 [00:00<00:00, 3717.46it/s]\n",
      "Adding points...: 100%|██████████| 957/957 [00:00<00:00, 287841.44it/s]\n",
      "Splitting Fragments: 100%|██████████| 3/3 [00:00<00:00, 79137.81it/s]\n",
      "Split fractured components: 100%|██████████| 11/11 [00:00<00:00, 4221.17it/s]\n",
      "remove small fragments: 100%|██████████| 11/11 [00:00<00:00, 3242.26it/s]\n",
      "/Users/thomasathey/Documents/mimlab/mouselight/docs_env/lib/python3.8/site-packages/nilearn/datasets/__init__.py:86: FutureWarning: Fetchers from the nilearn.datasets module will be updated in version 0.9 to return python strings instead of bytes and Pandas dataframes instead of Numpy arrays.\n",
      "  warn(\"Fetchers from the nilearn.datasets module will be \"\n",
      "removing somas: 0it [00:00, ?it/s]\n",
      "looking for components to remove: 100%|██████████| 129/129 [00:00<00:00, 480.30it/s]\n",
      "Adding points...: 100%|██████████| 62380/62380 [00:01<00:00, 49140.91it/s]\n",
      "Splitting Fragments: 100%|██████████| 38/38 [00:00<00:00, 212.07it/s]\n",
      "Split fractured components: 100%|██████████| 217/217 [00:00<00:00, 5392.00it/s]\n",
      "remove small fragments: 100%|██████████| 235/235 [00:00<00:00, 859.09it/s]\n",
      "/Users/thomasathey/Documents/mimlab/mouselight/docs_env/lib/python3.8/site-packages/nilearn/datasets/__init__.py:86: FutureWarning: Fetchers from the nilearn.datasets module will be updated in version 0.9 to return python strings instead of bytes and Pandas dataframes instead of Numpy arrays.\n",
      "  warn(\"Fetchers from the nilearn.datasets module will be \"\n",
      "removing somas: 100%|██████████| 1/1 [00:00<00:00,  1.22it/s]\n",
      "looking for components to remove: 100%|██████████| 219/219 [00:00<00:00, 500.77it/s]\n",
      "Adding points...: 100%|██████████| 68764/68764 [00:01<00:00, 40714.99it/s]\n",
      "Splitting Fragments: 100%|██████████| 62/62 [00:00<00:00, 140.10it/s]\n",
      "Split fractured components: 100%|██████████| 309/309 [00:00<00:00, 4586.34it/s]\n",
      "remove small fragments: 100%|██████████| 339/339 [00:00<00:00, 606.78it/s]\n",
      "/Users/thomasathey/Documents/mimlab/mouselight/docs_env/lib/python3.8/site-packages/nilearn/datasets/__init__.py:86: FutureWarning: Fetchers from the nilearn.datasets module will be updated in version 0.9 to return python strings instead of bytes and Pandas dataframes instead of Numpy arrays.\n",
      "  warn(\"Fetchers from the nilearn.datasets module will be \"\n",
      "removing somas: 0it [00:00, ?it/s]\n",
      "looking for components to remove: 100%|██████████| 314/314 [00:00<00:00, 398.84it/s]\n",
      "Adding points...: 100%|██████████| 89502/89502 [00:02<00:00, 39961.48it/s]\n",
      "Splitting Fragments: 100%|██████████| 86/86 [00:00<00:00, 180.57it/s]\n",
      "Split fractured components: 100%|██████████| 395/395 [00:00<00:00, 4562.88it/s]\n",
      "remove small fragments: 100%|██████████| 431/431 [00:00<00:00, 575.24it/s]\n",
      "/Users/thomasathey/Documents/mimlab/mouselight/docs_env/lib/python3.8/site-packages/nilearn/datasets/__init__.py:86: FutureWarning: Fetchers from the nilearn.datasets module will be updated in version 0.9 to return python strings instead of bytes and Pandas dataframes instead of Numpy arrays.\n",
      "  warn(\"Fetchers from the nilearn.datasets module will be \"\n",
      "removing somas: 0it [00:00, ?it/s]\n",
      "looking for components to remove: 100%|██████████| 184/184 [00:00<00:00, 516.64it/s]\n",
      "Adding points...: 100%|██████████| 43832/43832 [00:01<00:00, 43257.41it/s]\n",
      "Splitting Fragments: 100%|██████████| 62/62 [00:00<00:00, 272.13it/s]\n",
      "Split fractured components: 100%|██████████| 225/225 [00:00<00:00, 5794.38it/s]\n",
      "remove small fragments: 100%|██████████| 233/233 [00:00<00:00, 624.00it/s]\n",
      "/Users/thomasathey/Documents/mimlab/mouselight/docs_env/lib/python3.8/site-packages/nilearn/datasets/__init__.py:86: FutureWarning: Fetchers from the nilearn.datasets module will be updated in version 0.9 to return python strings instead of bytes and Pandas dataframes instead of Numpy arrays.\n",
      "  warn(\"Fetchers from the nilearn.datasets module will be \"\n",
      "removing somas: 0it [00:00, ?it/s]\n",
      "looking for components to remove: 100%|██████████| 15/15 [00:00<00:00, 5023.52it/s]\n",
      "Adding points...: 100%|██████████| 1271/1271 [00:00<00:00, 130843.59it/s]\n",
      "Splitting Fragments: 100%|██████████| 7/7 [00:00<00:00, 2887.79it/s]\n",
      "Split fractured components: 100%|██████████| 16/16 [00:00<00:00, 5182.95it/s]\n",
      "remove small fragments: 100%|██████████| 16/16 [00:00<00:00, 7060.37it/s]\n"
     ]
    },
    {
     "name": "stdout",
     "output_type": "stream",
     "text": [
      "***************[]**********\n"
     ]
    },
    {
     "name": "stderr",
     "output_type": "stream",
     "text": [
      "removing somas: 0it [00:00, ?it/s]\n",
      "looking for components to remove: 100%|██████████| 82/82 [00:00<00:00, 740.05it/s]\n",
      "Adding points...: 100%|██████████| 34217/34217 [00:00<00:00, 65557.49it/s]\n",
      "Splitting Fragments: 100%|██████████| 22/22 [00:00<00:00, 326.93it/s]\n",
      "Split fractured components: 100%|██████████| 127/127 [00:00<00:00, 5507.81it/s]\n",
      "remove small fragments: 100%|██████████| 142/142 [00:00<00:00, 1473.68it/s]\n"
     ]
    },
    {
     "name": "stdout",
     "output_type": "stream",
     "text": [
      "***************[]**********\n"
     ]
    },
    {
     "name": "stderr",
     "output_type": "stream",
     "text": [
      "removing somas: 0it [00:00, ?it/s]\n",
      "looking for components to remove: 100%|██████████| 107/107 [00:00<00:00, 791.85it/s]\n",
      "Adding points...: 100%|██████████| 57476/57476 [00:00<00:00, 71775.29it/s]\n",
      "Splitting Fragments: 100%|██████████| 33/33 [00:00<00:00, 310.43it/s]\n",
      "Split fractured components: 100%|██████████| 183/183 [00:00<00:00, 5508.76it/s]\n",
      "remove small fragments: 100%|██████████| 215/215 [00:00<00:00, 1471.34it/s]\n"
     ]
    },
    {
     "name": "stdout",
     "output_type": "stream",
     "text": [
      "***************[]**********\n"
     ]
    },
    {
     "name": "stderr",
     "output_type": "stream",
     "text": [
      "removing somas: 0it [00:00, ?it/s]\n",
      "looking for components to remove: 100%|██████████| 94/94 [00:00<00:00, 862.81it/s]\n",
      "Adding points...: 100%|██████████| 54361/54361 [00:00<00:00, 76352.52it/s]\n",
      "Splitting Fragments: 100%|██████████| 30/30 [00:00<00:00, 244.75it/s]\n",
      "Split fractured components: 100%|██████████| 160/160 [00:00<00:00, 5338.47it/s]\n",
      "remove small fragments: 100%|██████████| 185/185 [00:00<00:00, 1412.88it/s]\n",
      "removing somas: 0it [00:00, ?it/s]\n",
      "looking for components to remove: 100%|██████████| 61/61 [00:00<00:00, 826.81it/s]\n",
      "Adding points...: 100%|██████████| 12980/12980 [00:00<00:00, 47896.65it/s]\n",
      "Splitting Fragments: 100%|██████████| 21/21 [00:00<00:00, 347.54it/s]\n",
      "Split fractured components: 100%|██████████| 77/77 [00:00<00:00, 6300.70it/s]\n",
      "remove small fragments: 100%|██████████| 80/80 [00:00<00:00, 1292.78it/s]\n",
      "removing somas: 0it [00:00, ?it/s]\n",
      "looking for components to remove: 100%|██████████| 6/6 [00:00<00:00, 7125.09it/s]\n",
      "Adding points...: 100%|██████████| 246/246 [00:00<00:00, 94982.86it/s]\n",
      "Splitting Fragments: 100%|██████████| 2/2 [00:00<00:00, 1013.24it/s]\n",
      "Split fractured components: 100%|██████████| 7/7 [00:00<00:00, 5993.09it/s]\n",
      "remove small fragments: 100%|██████████| 7/7 [00:00<00:00, 5551.17it/s]\n"
     ]
    }
   ],
   "source": [
    "new_labels = compute_frags(soma_coords=soma_coords, labels=labels, im_processed = pred, threshold = threshold, res=scale, chunk_size=[200,200,200], ncpu=10)\n",
    "#new_labels2 = split_frags(soma_coords=soma_coords, labels=labels, im_processed = pred, threshold = threshold, res=scale)"
   ]
  },
  {
   "cell_type": "code",
   "execution_count": 17,
   "metadata": {},
   "outputs": [
    {
     "data": {
      "text/plain": [
       "<Labels layer 'labels [1]' at 0x16b8876d0>"
      ]
     },
     "execution_count": 17,
     "metadata": {},
     "output_type": "execute_result"
    }
   ],
   "source": [
    "viewer = napari.Viewer(ndisplay=3)\n",
    "viewer.add_image(im, name=\"image\", scale=scale)\n",
    "viewer.add_labels(labels, name=\"labels\", scale=scale)\n",
    "viewer.add_labels(new_labels, name=\"labels\", scale=scale)\n",
    "#viewer.add_labels(new_labels2, name=\"labels\", scale=scale)"
   ]
  },
  {
   "cell_type": "code",
   "execution_count": null,
   "metadata": {},
   "outputs": [],
   "source": []
  }
 ],
 "metadata": {
  "interpreter": {
   "hash": "5dc00d68ff54f8375e99934614da4863299fb9e10af4294c095b7f517546ff26"
  },
  "kernelspec": {
   "display_name": "Python 3.8.10 64-bit ('docs_env': venv)",
   "name": "python3"
  },
  "language_info": {
   "codemirror_mode": {
    "name": "ipython",
    "version": 3
   },
   "file_extension": ".py",
   "mimetype": "text/x-python",
   "name": "python",
   "nbconvert_exporter": "python",
   "pygments_lexer": "ipython3",
   "version": "3.8.10"
  },
  "orig_nbformat": 4
 },
 "nbformat": 4,
 "nbformat_minor": 2
}

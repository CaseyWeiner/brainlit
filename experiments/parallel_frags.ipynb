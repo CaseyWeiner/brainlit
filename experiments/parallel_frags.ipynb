{
 "cells": [
  {
   "cell_type": "code",
   "execution_count": 1,
   "metadata": {},
   "outputs": [
    {
     "name": "stderr",
     "output_type": "stream",
     "text": [
      "/Users/thomasathey/Documents/mimlab/mouselight/docs_env/lib/python3.8/site-packages/nilearn/datasets/__init__.py:86: FutureWarning: Fetchers from the nilearn.datasets module will be updated in version 0.9 to return python strings instead of bytes and Pandas dataframes instead of Numpy arrays.\n",
      "  warn(\"Fetchers from the nilearn.datasets module will be \"\n"
     ]
    }
   ],
   "source": [
    "from skimage import io\n",
    "import napari\n",
    "from brainlit.preprocessing.image_process import compute_frags, split_frags, remove_somas, label_points\n",
    "from brainlit.algorithms import dynamic_programming_viterbi2\n",
    "import h5py\n",
    "from skimage import measure\n",
    "import numpy as np\n",
    "import time"
   ]
  },
  {
   "cell_type": "code",
   "execution_count": 2,
   "metadata": {},
   "outputs": [],
   "source": [
    "im = io.imread(\"/Users/thomasathey/Documents/mimlab/mouselight/input/images/first10_quantitative/images/2018-08-01_0_first10_quantitative.tif\")\n",
    "scale = [0.3, 0.3, 1]\n",
    "soma_coords = [[360, 240, 120]]\n",
    "threshold = 0.9\n",
    "\n",
    "pred_path =\"/Users/thomasathey/Documents/mimlab/mouselight/input/images/first10_quantitative/2018-08-01_0_first10_quantitative_Probabilities.h5\"\n",
    "f = h5py.File(pred_path, 'r')\n",
    "pred = f.get('exported_data')\n",
    "pred = pred[:,:,:,1]\n",
    "\n",
    "\n",
    "mask = pred > threshold\n",
    "labels = measure.label(mask)"
   ]
  },
  {
   "cell_type": "code",
   "execution_count": 3,
   "metadata": {},
   "outputs": [
    {
     "name": "stdout",
     "output_type": "stream",
     "text": [
      "Parallelizing with 8 cpus\n"
     ]
    },
    {
     "name": "stderr",
     "output_type": "stream",
     "text": [
      "/Users/thomasathey/Documents/mimlab/mouselight/docs_env/lib/python3.8/site-packages/nilearn/datasets/__init__.py:86: FutureWarning: Fetchers from the nilearn.datasets module will be updated in version 0.9 to return python strings instead of bytes and Pandas dataframes instead of Numpy arrays.\n",
      "  warn(\"Fetchers from the nilearn.datasets module will be \"\n",
      "removing somas: 0it [00:00, ?it/s]\n",
      "looking for components to remove:  22%|██▏       | 29/130 [00:00<00:00, 281.66it/s]/Users/thomasathey/Documents/mimlab/mouselight/docs_env/lib/python3.8/site-packages/nilearn/datasets/__init__.py:86: FutureWarning: Fetchers from the nilearn.datasets module will be updated in version 0.9 to return python strings instead of bytes and Pandas dataframes instead of Numpy arrays.\n",
      "  warn(\"Fetchers from the nilearn.datasets module will be \"\n",
      "removing somas: 0it [00:00, ?it/s]\n",
      "looking for components to remove: 100%|██████████| 130/130 [00:00<00:00, 233.72it/s]\n",
      "Adding points...:  25%|██▍       | 7157/28921 [00:00<00:00, 66086.86it/s]/Users/thomasathey/Documents/mimlab/mouselight/docs_env/lib/python3.8/site-packages/nilearn/datasets/__init__.py:86: FutureWarning: Fetchers from the nilearn.datasets module will be updated in version 0.9 to return python strings instead of bytes and Pandas dataframes instead of Numpy arrays.\n",
      "  warn(\"Fetchers from the nilearn.datasets module will be \"\n",
      "removing somas: 0it [00:00, ?it/s]\n",
      "looking for components to remove: 100%|██████████| 189/189 [00:00<00:00, 212.65it/s]\n",
      "Adding points...:  80%|███████▉  | 23021/28921 [00:00<00:00, 27904.06it/s]/Users/thomasathey/Documents/mimlab/mouselight/docs_env/lib/python3.8/site-packages/nilearn/datasets/__init__.py:86: FutureWarning: Fetchers from the nilearn.datasets module will be updated in version 0.9 to return python strings instead of bytes and Pandas dataframes instead of Numpy arrays.\n",
      "  warn(\"Fetchers from the nilearn.datasets module will be \"\n",
      "/Users/thomasathey/Documents/mimlab/mouselight/docs_env/lib/python3.8/site-packages/nilearn/datasets/__init__.py:86: FutureWarning: Fetchers from the nilearn.datasets module will be updated in version 0.9 to return python strings instead of bytes and Pandas dataframes instead of Numpy arrays.\n",
      "  warn(\"Fetchers from the nilearn.datasets module will be \"\n",
      "removing somas: 0it [00:00, ?it/s]\n",
      "looking for components to remove: 100%|██████████| 11/11 [00:00<00:00, 3401.20it/s]\n",
      "Adding points...: 100%|██████████| 957/957 [00:00<00:00, 117528.44it/s]\n",
      "Splitting Fragments: 100%|██████████| 3/3 [00:00<00:00, 46091.25it/s]\n",
      "Split fractured components: 100%|██████████| 11/11 [00:00<00:00, 3128.80it/s]\n",
      "remove small fragments: 100%|██████████| 11/11 [00:00<00:00, 1392.95it/s]\n",
      "removing somas: 0it [00:00, ?it/s]\n",
      "looking for components to remove:  51%|█████     | 136/268 [00:00<00:00, 196.68it/s]/Users/thomasathey/Documents/mimlab/mouselight/docs_env/lib/python3.8/site-packages/nilearn/datasets/__init__.py:86: FutureWarning: Fetchers from the nilearn.datasets module will be updated in version 0.9 to return python strings instead of bytes and Pandas dataframes instead of Numpy arrays.\n",
      "  warn(\"Fetchers from the nilearn.datasets module will be \"\n",
      "removing somas: 0it [00:00, ?it/s]\n",
      "removing somas: 0it [00:00, ?it/s]\n",
      "Adding points...: 100%|██████████| 28921/28921 [00:01<00:00, 20197.50it/s]\n",
      "Splitting Fragments: 100%|██████████| 38/38 [00:00<00:00, 178.47it/s]\n",
      "looking for components to remove:  57%|█████▋    | 92/162 [00:00<00:00, 162.20it/s]/Users/thomasathey/Documents/mimlab/mouselight/docs_env/lib/python3.8/site-packages/nilearn/datasets/__init__.py:86: FutureWarning: Fetchers from the nilearn.datasets module will be updated in version 0.9 to return python strings instead of bytes and Pandas dataframes instead of Numpy arrays.\n",
      "  warn(\"Fetchers from the nilearn.datasets module will be \"\n",
      "Split fractured components: 100%|██████████| 162/162 [00:00<00:00, 3490.76it/s]\n",
      "looking for components to remove: 100%|██████████| 268/268 [00:01<00:00, 184.11it/s]\n",
      "looking for components to remove: 100%|██████████| 162/162 [00:01<00:00, 157.86it/s]\n",
      "/Users/thomasathey/Documents/mimlab/mouselight/docs_env/lib/python3.8/site-packages/nilearn/datasets/__init__.py:86: FutureWarning: Fetchers from the nilearn.datasets module will be updated in version 0.9 to return python strings instead of bytes and Pandas dataframes instead of Numpy arrays.\n",
      "  warn(\"Fetchers from the nilearn.datasets module will be \"\n",
      "removing somas: 0it [00:00, ?it/s]\n",
      "looking for components to remove: 100%|██████████| 129/129 [00:00<00:00, 148.76it/s]\n",
      "remove small fragments: 100%|██████████| 165/165 [00:00<00:00, 206.45it/s]\n",
      "looking for components to remove: 100%|██████████| 184/184 [00:01<00:00, 162.03it/s]\n",
      "Adding points...: 100%|██████████| 18212/18212 [00:01<00:00, 9522.91it/s]\n",
      "Splitting Fragments: 100%|██████████| 56/56 [00:00<00:00, 121.62it/s]\n",
      "Split fractured components: 100%|██████████| 211/211 [00:00<00:00, 3892.63it/s]\n",
      "removing somas: 100%|██████████| 1/1 [00:01<00:00,  1.59s/it]\n",
      "Adding points...: 100%|██████████| 19467/19467 [00:01<00:00, 12585.06it/s]\n",
      "removing somas: 0it [00:00, ?it/s]\n",
      "looking for components to remove: 100%|██████████| 15/15 [00:00<00:00, 1785.27it/s]\n",
      "Adding points...: 100%|██████████| 1271/1271 [00:00<00:00, 66835.00it/s]\n",
      "Splitting Fragments: 100%|██████████| 7/7 [00:00<00:00, 2203.39it/s]\n",
      "Split fractured components: 100%|██████████| 16/16 [00:00<00:00, 3589.86it/s]\n",
      "remove small fragments: 100%|██████████| 16/16 [00:00<00:00, 3298.38it/s]\n",
      "Splitting Fragments: 100%|██████████| 41/41 [00:00<00:00, 104.11it/s]\n",
      "removing somas: 0it [00:00, ?it/s]\n",
      "Split fractured components: 100%|██████████| 182/182 [00:00<00:00, 3205.23it/s]\n",
      "remove small fragments: 100%|██████████| 214/214 [00:01<00:00, 196.60it/s]\n",
      "looking for components to remove: 100%|██████████| 314/314 [00:01<00:00, 161.01it/s]\n",
      "Adding points...: 100%|██████████| 25163/25163 [00:02<00:00, 9697.17it/s]\n",
      "looking for components to remove: 100%|██████████| 82/82 [00:00<00:00, 255.17it/s]\n",
      "looking for components to remove: 100%|██████████| 219/219 [00:01<00:00, 168.38it/s]\n",
      "remove small fragments: 100%|██████████| 184/184 [00:00<00:00, 197.34it/s]\n",
      "Adding points...: 100%|██████████| 43832/43832 [00:02<00:00, 17481.88it/s]\n",
      "Splitting Fragments: 100%|██████████| 71/71 [00:00<00:00, 106.78it/s]\n",
      "Split fractured components: 100%|██████████| 298/298 [00:00<00:00, 3367.47it/s]\n",
      "Adding points...: 100%|██████████| 62380/62380 [00:03<00:00, 20097.88it/s]\n",
      "Adding points...: 100%|██████████| 34217/34217 [00:00<00:00, 35392.54it/s]\n",
      "removing somas: 0it [00:00, ?it/s]\n",
      "Splitting Fragments: 100%|██████████| 22/22 [00:00<00:00, 185.76it/s]\n",
      "Splitting Fragments: 100%|██████████| 62/62 [00:00<00:00, 120.85it/s]\n",
      "Split fractured components: 100%|██████████| 127/127 [00:00<00:00, 2997.77it/s]\n",
      "Split fractured components: 100%|██████████| 225/225 [00:00<00:00, 2982.15it/s]\n",
      "Splitting Fragments: 100%|██████████| 38/38 [00:00<00:00, 98.41it/s]\n",
      "remove small fragments: 100%|██████████| 142/142 [00:00<00:00, 509.51it/s]\n",
      "Split fractured components: 100%|██████████| 217/217 [00:00<00:00, 2852.53it/s]\n",
      "looking for components to remove: 100%|██████████| 107/107 [00:00<00:00, 299.76it/s]\n",
      "removing somas: 0it [00:00, ?it/s]\n",
      "remove small fragments: 100%|██████████| 233/233 [00:01<00:00, 212.94it/s]\n",
      "looking for components to remove: 100%|██████████| 94/94 [00:00<00:00, 249.93it/s]\n",
      "remove small fragments: 100%|██████████| 235/235 [00:00<00:00, 263.90it/s]\n",
      "remove small fragments: 100%|██████████| 304/304 [00:01<00:00, 182.60it/s]\n",
      "removing somas: 0it [00:00, ?it/s]\n",
      "looking for components to remove: 100%|██████████| 61/61 [00:00<00:00, 417.28it/s]\n",
      "removing somas: 0it [00:00, ?it/s]\n",
      "looking for components to remove: 100%|██████████| 6/6 [00:00<00:00, 2485.51it/s]\n",
      "Adding points...: 100%|██████████| 246/246 [00:00<00:00, 83075.59it/s]\n",
      "Splitting Fragments: 100%|██████████| 2/2 [00:00<00:00, 1079.34it/s]\n",
      "Split fractured components: 100%|██████████| 7/7 [00:00<00:00, 3093.14it/s]\n",
      "remove small fragments: 100%|██████████| 7/7 [00:00<00:00, 2942.49it/s]\n",
      "Adding points...: 100%|██████████| 57476/57476 [00:01<00:00, 35025.73it/s]\n",
      "Adding points...: 100%|██████████| 12980/12980 [00:00<00:00, 30577.08it/s]\n",
      "Splitting Fragments: 100%|██████████| 33/33 [00:00<00:00, 198.08it/s]\n",
      "Split fractured components: 100%|██████████| 183/183 [00:00<00:00, 2781.12it/s]\n",
      "Splitting Fragments: 100%|██████████| 21/21 [00:00<00:00, 213.46it/s]\n",
      "Split fractured components: 100%|██████████| 77/77 [00:00<00:00, 4416.20it/s]\n",
      "Adding points...: 100%|██████████| 54361/54361 [00:01<00:00, 46430.93it/s]\n",
      "remove small fragments: 100%|██████████| 80/80 [00:00<00:00, 581.69it/s]\n",
      "remove small fragments: 100%|██████████| 215/215 [00:00<00:00, 817.33it/s]\n",
      "Splitting Fragments: 100%|██████████| 30/30 [00:00<00:00, 148.28it/s]\n",
      "Adding points...: 100%|██████████| 68764/68764 [00:03<00:00, 19540.19it/s]\n",
      "Split fractured components: 100%|██████████| 160/160 [00:00<00:00, 3095.13it/s]\n",
      "Adding points...: 100%|██████████| 89502/89502 [00:04<00:00, 21850.25it/s]\n",
      "remove small fragments: 100%|██████████| 185/185 [00:00<00:00, 1022.46it/s]\n",
      "Splitting Fragments: 100%|██████████| 62/62 [00:00<00:00, 107.85it/s]\n",
      "Split fractured components: 100%|██████████| 309/309 [00:00<00:00, 4159.43it/s]\n",
      "Splitting Fragments: 100%|██████████| 86/86 [00:00<00:00, 151.69it/s]\n",
      "Split fractured components: 100%|██████████| 395/395 [00:00<00:00, 4540.27it/s]\n",
      "remove small fragments: 100%|██████████| 339/339 [00:00<00:00, 597.58it/s]\n",
      "remove small fragments: 100%|██████████| 431/431 [00:00<00:00, 523.56it/s]\n"
     ]
    },
    {
     "name": "stdout",
     "output_type": "stream",
     "text": [
      "16.211377119\n"
     ]
    }
   ],
   "source": [
    "t1 = time.perf_counter()\n",
    "new_labels = compute_frags(soma_coords=soma_coords, labels=labels, im_processed = pred, threshold = threshold, res=scale, chunk_size=[200,200,200], ncpu=8)\n",
    "#new_labels2 = split_frags(soma_coords=soma_coords, labels=labels, im_processed = pred, threshold = threshold, res=scale)\n",
    "print(time.perf_counter()-t1)"
   ]
  },
  {
   "cell_type": "code",
   "execution_count": null,
   "metadata": {},
   "outputs": [],
   "source": [
    "viewer = napari.Viewer(ndisplay=3)\n",
    "viewer.add_image(im, name=\"image\", scale=scale)\n",
    "viewer.add_labels(labels, name=\"labels\", scale=scale)\n",
    "viewer.add_labels(new_labels, name=\"labels\", scale=scale)\n",
    "#viewer.add_labels(new_labels2, name=\"labels\", scale=scale)"
   ]
  },
  {
   "cell_type": "code",
   "execution_count": 4,
   "metadata": {},
   "outputs": [
    {
     "name": "stdout",
     "output_type": "stream",
     "text": [
      "Setting up emission distribution...\n",
      "18.241046716000003\n"
     ]
    }
   ],
   "source": [
    "_, soma_lbls = label_points(new_labels, soma_coords, scale)\n",
    "t1 = time.perf_counter()\n",
    "mpnp = dynamic_programming_viterbi2.most_probable_neuron_path(image=im.astype(float), labels=new_labels, soma_lbls=soma_lbls, resolution=scale, coef_dist=10, coef_curv=1000)\n",
    "print(time.perf_counter()-t1)\n"
   ]
  },
  {
   "cell_type": "code",
   "execution_count": 5,
   "metadata": {},
   "outputs": [
    {
     "name": "stdout",
     "output_type": "stream",
     "text": [
      "Parallelizing x8\n"
     ]
    },
    {
     "name": "stderr",
     "output_type": "stream",
     "text": [
      "/Users/thomasathey/Documents/mimlab/mouselight/docs_env/lib/python3.8/site-packages/nilearn/datasets/__init__.py:86: FutureWarning: Fetchers from the nilearn.datasets module will be updated in version 0.9 to return python strings instead of bytes and Pandas dataframes instead of Numpy arrays.\n",
      "  warn(\"Fetchers from the nilearn.datasets module will be \"\n",
      "/Users/thomasathey/Documents/mimlab/mouselight/docs_env/lib/python3.8/site-packages/nilearn/datasets/__init__.py:86: FutureWarning: Fetchers from the nilearn.datasets module will be updated in version 0.9 to return python strings instead of bytes and Pandas dataframes instead of Numpy arrays.\n",
      "  warn(\"Fetchers from the nilearn.datasets module will be \"\n",
      "/Users/thomasathey/Documents/mimlab/mouselight/docs_env/lib/python3.8/site-packages/nilearn/datasets/__init__.py:86: FutureWarning: Fetchers from the nilearn.datasets module will be updated in version 0.9 to return python strings instead of bytes and Pandas dataframes instead of Numpy arrays.\n",
      "  warn(\"Fetchers from the nilearn.datasets module will be \"\n",
      "/Users/thomasathey/Documents/mimlab/mouselight/docs_env/lib/python3.8/site-packages/nilearn/datasets/__init__.py:86: FutureWarning: Fetchers from the nilearn.datasets module will be updated in version 0.9 to return python strings instead of bytes and Pandas dataframes instead of Numpy arrays.\n",
      "  warn(\"Fetchers from the nilearn.datasets module will be \"\n",
      "/Users/thomasathey/Documents/mimlab/mouselight/docs_env/lib/python3.8/site-packages/nilearn/datasets/__init__.py:86: FutureWarning: Fetchers from the nilearn.datasets module will be updated in version 0.9 to return python strings instead of bytes and Pandas dataframes instead of Numpy arrays.\n",
      "  warn(\"Fetchers from the nilearn.datasets module will be \"\n",
      "/Users/thomasathey/Documents/mimlab/mouselight/docs_env/lib/python3.8/site-packages/nilearn/datasets/__init__.py:86: FutureWarning: Fetchers from the nilearn.datasets module will be updated in version 0.9 to return python strings instead of bytes and Pandas dataframes instead of Numpy arrays.\n",
      "  warn(\"Fetchers from the nilearn.datasets module will be \"\n",
      "/Users/thomasathey/Documents/mimlab/mouselight/docs_env/lib/python3.8/site-packages/nilearn/datasets/__init__.py:86: FutureWarning: Fetchers from the nilearn.datasets module will be updated in version 0.9 to return python strings instead of bytes and Pandas dataframes instead of Numpy arrays.\n",
      "  warn(\"Fetchers from the nilearn.datasets module will be \"\n",
      "/Users/thomasathey/Documents/mimlab/mouselight/docs_env/lib/python3.8/site-packages/nilearn/datasets/__init__.py:86: FutureWarning: Fetchers from the nilearn.datasets module will be updated in version 0.9 to return python strings instead of bytes and Pandas dataframes instead of Numpy arrays.\n",
      "  warn(\"Fetchers from the nilearn.datasets module will be \"\n",
      "Computing line representations: 100%|██████████| 210/210 [00:54<00:00,  3.87it/s]\n",
      "Computing line representations: 100%|██████████| 210/210 [00:54<00:00,  3.87it/s]\n",
      "Computing line representations: 100%|██████████| 210/210 [00:54<00:00,  3.86it/s]\n",
      "Computing line representations: 100%|██████████| 210/210 [00:54<00:00,  3.86it/s]\n",
      "Computing line representations: 100%|██████████| 211/211 [00:54<00:00,  3.87it/s]\n",
      "Computing line representations: 100%|██████████| 210/210 [00:54<00:00,  3.85it/s]\n",
      "Computing line representations: 100%|██████████| 210/210 [00:54<00:00,  3.84it/s]\n",
      "Computing line representations: 100%|██████████| 210/210 [00:54<00:00,  3.84it/s]\n"
     ]
    }
   ],
   "source": [
    "mpnp.frags_to_lines(ncpu=8)"
   ]
  },
  {
   "cell_type": "code",
   "execution_count": 6,
   "metadata": {},
   "outputs": [
    {
     "name": "stdout",
     "output_type": "stream",
     "text": [
      "Parallelizing x8\n"
     ]
    },
    {
     "name": "stderr",
     "output_type": "stream",
     "text": [
      "computing state costs (geometry): 100%|██████████| 420/420 [01:08<00:00,  6.11it/s]\n",
      "computing state costs (geometry): 100%|██████████| 421/421 [01:08<00:00,  6.11it/s]\n",
      "computing state costs (geometry): 100%|██████████| 420/420 [01:09<00:00,  6.08it/s]\n",
      "computing state costs (geometry): 100%|██████████| 420/420 [01:09<00:00,  6.05it/s]\n",
      "filling in costs: 100%|██████████| 11296321/11296321 [00:06<00:00, 1752890.57it/s]\n",
      "Normalizing: 100%|██████████| 3361/3361 [00:00<00:00, 11937.96it/s]"
     ]
    },
    {
     "name": "stdout",
     "output_type": "stream",
     "text": [
      "83.93235287000002\n"
     ]
    },
    {
     "name": "stderr",
     "output_type": "stream",
     "text": [
      "\n"
     ]
    }
   ],
   "source": [
    "t1 = time.perf_counter()\n",
    "mpnp.reset_dists(type=\"all\")\n",
    "mpnp.compute_all_costs_dist_par(point_point_func=mpnp.point_point_dist, point_blob_func=mpnp.point_blob_dist, ncpu=8)\n",
    "print(time.perf_counter()-t1)"
   ]
  },
  {
   "cell_type": "markdown",
   "metadata": {},
   "source": [
    "smart pairs=174s\n",
    "\n",
    "all pairs =307s\n",
    "\n",
    "allpairs ncpu=8: 92"
   ]
  },
  {
   "cell_type": "code",
   "execution_count": 11,
   "metadata": {},
   "outputs": [
    {
     "name": "stdout",
     "output_type": "stream",
     "text": [
      "Parallelizing x8\n"
     ]
    },
    {
     "name": "stderr",
     "output_type": "stream",
     "text": [
      "filling in costs: 100%|██████████| 11296321/11296321 [00:05<00:00, 2195798.70it/s]"
     ]
    },
    {
     "name": "stdout",
     "output_type": "stream",
     "text": [
      "33.43447029599997\n"
     ]
    },
    {
     "name": "stderr",
     "output_type": "stream",
     "text": [
      "\n"
     ]
    }
   ],
   "source": [
    "t1 = time.perf_counter()\n",
    "mpnp.reset_dists(type=\"int\")\n",
    "mpnp.compute_all_costs_int_par(ncpu=8)\n",
    "print(time.perf_counter()-t1)"
   ]
  },
  {
   "cell_type": "markdown",
   "metadata": {},
   "source": [
    "before: 84\n",
    "\n",
    "ncpu=1: 82\n",
    "\n",
    "ncpu=8: 33"
   ]
  },
  {
   "cell_type": "code",
   "execution_count": null,
   "metadata": {},
   "outputs": [
    {
     "data": {
      "text/plain": [
       "('fragment',\n",
       " 2,\n",
       " {'coord1': [20, 89, 48],\n",
       "  'orientation1': array([-0.14744196, -0.88465174, -0.44232587]),\n",
       "  'coord2': [19, 83, 45],\n",
       "  'orientation2': array([0.14744196, 0.88465174, 0.44232587]),\n",
       "  'soma connection point': None})"
      ]
     },
     "execution_count": 11,
     "metadata": {},
     "output_type": "execute_result"
    }
   ],
   "source": [
    "mpnp.state_to_comp[3]"
   ]
  },
  {
   "cell_type": "markdown",
   "metadata": {},
   "source": []
  }
 ],
 "metadata": {
  "interpreter": {
   "hash": "5dc00d68ff54f8375e99934614da4863299fb9e10af4294c095b7f517546ff26"
  },
  "kernelspec": {
   "display_name": "Python 3.8.10 64-bit ('docs_env': venv)",
   "name": "python3"
  },
  "language_info": {
   "codemirror_mode": {
    "name": "ipython",
    "version": 3
   },
   "file_extension": ".py",
   "mimetype": "text/x-python",
   "name": "python",
   "nbconvert_exporter": "python",
   "pygments_lexer": "ipython3",
   "version": "3.8.10"
  },
  "orig_nbformat": 4
 },
 "nbformat": 4,
 "nbformat_minor": 2
}

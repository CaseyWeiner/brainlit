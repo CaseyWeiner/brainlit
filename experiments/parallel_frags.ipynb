{
 "cells": [
  {
   "cell_type": "code",
   "execution_count": 1,
   "metadata": {},
   "outputs": [
    {
     "name": "stderr",
     "output_type": "stream",
     "text": [
      "/Users/thomasathey/Documents/mimlab/mouselight/docs_env/lib/python3.8/site-packages/nilearn/datasets/__init__.py:86: FutureWarning: Fetchers from the nilearn.datasets module will be updated in version 0.9 to return python strings instead of bytes and Pandas dataframes instead of Numpy arrays.\n",
      "  warn(\"Fetchers from the nilearn.datasets module will be \"\n"
     ]
    }
   ],
   "source": [
    "from skimage import io\n",
    "import napari\n",
    "from brainlit.preprocessing.image_process import compute_frags, split_frags, remove_somas, label_points\n",
    "from brainlit.algorithms import dynamic_programming_viterbi2\n",
    "import h5py\n",
    "from skimage import measure\n",
    "import numpy as np\n",
    "import time"
   ]
  },
  {
   "cell_type": "code",
   "execution_count": 2,
   "metadata": {},
   "outputs": [],
   "source": [
    "im = io.imread(\"/Users/thomasathey/Documents/mimlab/mouselight/input/images/first10_quantitative/images/2018-08-01_0_first10_quantitative.tif\")\n",
    "scale = [0.3, 0.3, 1]\n",
    "soma_coords = [[360, 240, 120]]\n",
    "threshold = 0.9\n",
    "\n",
    "pred_path =\"/Users/thomasathey/Documents/mimlab/mouselight/input/images/first10_quantitative/2018-08-01_0_first10_quantitative_Probabilities.h5\"\n",
    "f = h5py.File(pred_path, 'r')\n",
    "pred = f.get('exported_data')\n",
    "pred = pred[:,:,:,1]\n",
    "\n",
    "\n",
    "mask = pred > threshold\n",
    "labels = measure.label(mask)"
   ]
  },
  {
   "cell_type": "code",
   "execution_count": 3,
   "metadata": {},
   "outputs": [
    {
     "name": "stdout",
     "output_type": "stream",
     "text": [
      "Parallelizing with 8 cpus\n"
     ]
    },
    {
     "name": "stderr",
     "output_type": "stream",
     "text": [
      "/Users/thomasathey/Documents/mimlab/mouselight/docs_env/lib/python3.8/site-packages/nilearn/datasets/__init__.py:86: FutureWarning: Fetchers from the nilearn.datasets module will be updated in version 0.9 to return python strings instead of bytes and Pandas dataframes instead of Numpy arrays.\n",
      "  warn(\"Fetchers from the nilearn.datasets module will be \"\n",
      "removing somas: 0it [00:00, ?it/s]\n",
      "looking for components to remove:  25%|██▍       | 32/130 [00:00<00:00, 304.69it/s]/Users/thomasathey/Documents/mimlab/mouselight/docs_env/lib/python3.8/site-packages/nilearn/datasets/__init__.py:86: FutureWarning: Fetchers from the nilearn.datasets module will be updated in version 0.9 to return python strings instead of bytes and Pandas dataframes instead of Numpy arrays.\n",
      "  warn(\"Fetchers from the nilearn.datasets module will be \"\n",
      "removing somas: 0it [00:00, ?it/s]\n",
      "looking for components to remove: 100%|██████████| 130/130 [00:00<00:00, 277.28it/s]\n",
      "/Users/thomasathey/Documents/mimlab/mouselight/docs_env/lib/python3.8/site-packages/nilearn/datasets/__init__.py:86: FutureWarning: Fetchers from the nilearn.datasets module will be updated in version 0.9 to return python strings instead of bytes and Pandas dataframes instead of Numpy arrays.\n",
      "  warn(\"Fetchers from the nilearn.datasets module will be \"\n",
      "removing somas: 0it [00:00, ?it/s]\n",
      "looking for components to remove:  65%|██████▌   | 123/189 [00:00<00:00, 227.21it/s]/Users/thomasathey/Documents/mimlab/mouselight/docs_env/lib/python3.8/site-packages/nilearn/datasets/__init__.py:86: FutureWarning: Fetchers from the nilearn.datasets module will be updated in version 0.9 to return python strings instead of bytes and Pandas dataframes instead of Numpy arrays.\n",
      "  warn(\"Fetchers from the nilearn.datasets module will be \"\n",
      "/Users/thomasathey/Documents/mimlab/mouselight/docs_env/lib/python3.8/site-packages/nilearn/datasets/__init__.py:86: FutureWarning: Fetchers from the nilearn.datasets module will be updated in version 0.9 to return python strings instead of bytes and Pandas dataframes instead of Numpy arrays.\n",
      "  warn(\"Fetchers from the nilearn.datasets module will be \"\n",
      "removing somas: 0it [00:00, ?it/s]\n",
      "looking for components to remove: 100%|██████████| 11/11 [00:00<00:00, 1650.95it/s]\n",
      "Adding points...: 100%|██████████| 957/957 [00:00<00:00, 141172.19it/s]\n",
      "Splitting Fragments: 100%|██████████| 3/3 [00:00<00:00, 40459.52it/s]\n",
      "Split fractured components: 100%|██████████| 11/11 [00:00<00:00, 4537.95it/s]\n",
      "remove small fragments: 100%|██████████| 11/11 [00:00<00:00, 1642.95it/s]\n",
      "removing somas: 0it [00:00, ?it/s]\n",
      "looking for components to remove: 100%|██████████| 189/189 [00:00<00:00, 227.28it/s]\n",
      "looking for components to remove:   8%|▊         | 13/162 [00:00<00:01, 125.18it/s]/Users/thomasathey/Documents/mimlab/mouselight/docs_env/lib/python3.8/site-packages/nilearn/datasets/__init__.py:86: FutureWarning: Fetchers from the nilearn.datasets module will be updated in version 0.9 to return python strings instead of bytes and Pandas dataframes instead of Numpy arrays.\n",
      "  warn(\"Fetchers from the nilearn.datasets module will be \"\n",
      "removing somas: 0it [00:00, ?it/s]\n",
      "removing somas: 0it [00:00, ?it/s]\n",
      "looking for components to remove:  23%|██▎       | 43/184 [00:00<00:00, 168.16it/s]/Users/thomasathey/Documents/mimlab/mouselight/docs_env/lib/python3.8/site-packages/nilearn/datasets/__init__.py:86: FutureWarning: Fetchers from the nilearn.datasets module will be updated in version 0.9 to return python strings instead of bytes and Pandas dataframes instead of Numpy arrays.\n",
      "  warn(\"Fetchers from the nilearn.datasets module will be \"\n",
      "Adding points...: 100%|██████████| 28921/28921 [00:01<00:00, 20074.18it/s]\n",
      "Splitting Fragments: 100%|██████████| 38/38 [00:00<00:00, 163.67it/s]\n",
      "looking for components to remove: 100%|██████████| 268/268 [00:01<00:00, 182.88it/s]\n",
      "looking for components to remove: 100%|██████████| 162/162 [00:01<00:00, 157.88it/s]\n",
      "Split fractured components: 100%|██████████| 162/162 [00:00<00:00, 2718.12it/s]\n",
      "looking for components to remove: 100%|██████████| 129/129 [00:00<00:00, 162.44it/s]\n",
      "Adding points...:  11%|█         | 2805/25163 [00:00<00:01, 13792.75it/s]/Users/thomasathey/Documents/mimlab/mouselight/docs_env/lib/python3.8/site-packages/nilearn/datasets/__init__.py:86: FutureWarning: Fetchers from the nilearn.datasets module will be updated in version 0.9 to return python strings instead of bytes and Pandas dataframes instead of Numpy arrays.\n",
      "  warn(\"Fetchers from the nilearn.datasets module will be \"\n",
      "removing somas: 0it [00:00, ?it/s]\n",
      "looking for components to remove: 100%|██████████| 184/184 [00:01<00:00, 166.04it/s]\n",
      "remove small fragments: 100%|██████████| 165/165 [00:00<00:00, 222.71it/s]\n",
      "Adding points...: 100%|██████████| 18212/18212 [00:01<00:00, 9499.71it/s]\n",
      "removing somas: 100%|██████████| 1/1 [00:01<00:00,  1.54s/it]\n",
      "Splitting Fragments: 100%|██████████| 56/56 [00:00<00:00, 119.44it/s]\n",
      "Split fractured components: 100%|██████████| 211/211 [00:00<00:00, 3867.68it/s]\n",
      "Adding points...: 100%|██████████| 19467/19467 [00:01<00:00, 13059.54it/s]\n",
      "removing somas: 0it [00:00, ?it/s]\n",
      "looking for components to remove: 100%|██████████| 15/15 [00:00<00:00, 2584.93it/s]\n",
      "Adding points...: 100%|██████████| 1271/1271 [00:00<00:00, 52030.18it/s]\n",
      "Splitting Fragments: 100%|██████████| 7/7 [00:00<00:00, 1553.77it/s]\n",
      "Split fractured components: 100%|██████████| 16/16 [00:00<00:00, 1853.32it/s]\n",
      "remove small fragments: 100%|██████████| 16/16 [00:00<00:00, 3165.96it/s]\n",
      "Splitting Fragments: 100%|██████████| 41/41 [00:00<00:00, 78.40it/s]\n",
      "Split fractured components: 100%|██████████| 182/182 [00:00<00:00, 2882.03it/s]\n",
      "removing somas: 0it [00:00, ?it/s]\n",
      "looking for components to remove: 100%|██████████| 314/314 [00:01<00:00, 158.19it/s]\n",
      "Adding points...: 100%|██████████| 25163/25163 [00:02<00:00, 9415.65it/s]\n",
      "remove small fragments: 100%|██████████| 214/214 [00:01<00:00, 183.42it/s]\n",
      "looking for components to remove: 100%|██████████| 82/82 [00:00<00:00, 227.33it/s]\n",
      "looking for components to remove: 100%|██████████| 219/219 [00:01<00:00, 159.46it/s]\n",
      "Adding points...: 100%|██████████| 43832/43832 [00:02<00:00, 16984.67it/s]\n",
      "remove small fragments: 100%|██████████| 184/184 [00:00<00:00, 193.10it/s]\n",
      "Adding points...: 100%|██████████| 62380/62380 [00:03<00:00, 20008.78it/s]\n",
      "Splitting Fragments: 100%|██████████| 71/71 [00:00<00:00, 111.02it/s]\n",
      "Split fractured components: 100%|██████████| 298/298 [00:00<00:00, 3737.11it/s]\n",
      "Splitting Fragments: 100%|██████████| 62/62 [00:00<00:00, 132.11it/s]\n",
      "removing somas: 0it [00:00, ?it/s]\n",
      "Adding points...: 100%|██████████| 34217/34217 [00:00<00:00, 38300.32it/s]\n",
      "Splitting Fragments: 100%|██████████| 38/38 [00:00<00:00, 113.24it/s]\n",
      "Split fractured components: 100%|██████████| 225/225 [00:00<00:00, 3406.67it/s]\n",
      "Splitting Fragments: 100%|██████████| 22/22 [00:00<00:00, 231.53it/s]\n",
      "Split fractured components: 100%|██████████| 217/217 [00:00<00:00, 3027.85it/s]\n",
      "Split fractured components: 100%|██████████| 127/127 [00:00<00:00, 3332.64it/s]\n",
      "looking for components to remove: 100%|██████████| 107/107 [00:00<00:00, 293.65it/s]\n",
      "remove small fragments: 100%|██████████| 142/142 [00:00<00:00, 474.37it/s]\n",
      "removing somas: 0it [00:00, ?it/s]\n",
      "remove small fragments: 100%|██████████| 235/235 [00:00<00:00, 295.71it/s]\n",
      "remove small fragments: 100%|██████████| 233/233 [00:00<00:00, 240.85it/s]\n",
      "looking for components to remove: 100%|██████████| 94/94 [00:00<00:00, 315.43it/s]\n",
      "removing somas: 0it [00:00, ?it/s]\n",
      "remove small fragments: 100%|██████████| 304/304 [00:01<00:00, 205.55it/s]\n",
      "looking for components to remove: 100%|██████████| 61/61 [00:00<00:00, 372.04it/s]\n",
      "Adding points...:  83%|████████▎ | 57176/68764 [00:02<00:00, 30504.30it/s]"
     ]
    },
    {
     "name": "stdout",
     "output_type": "stream",
     "text": [
      "15.018212747000007\n"
     ]
    }
   ],
   "source": [
    "t1 = time.perf_counter()\n",
    "new_labels = compute_frags(soma_coords=soma_coords, labels=labels, im_processed = pred, threshold = threshold, res=scale, chunk_size=[200,200,200], ncpu=8)\n",
    "#new_labels2 = split_frags(soma_coords=soma_coords, labels=labels, im_processed = pred, threshold = threshold, res=scale)\n",
    "print(time.perf_counter()-t1)"
   ]
  },
  {
   "cell_type": "code",
   "execution_count": null,
   "metadata": {},
   "outputs": [],
   "source": [
    "viewer = napari.Viewer(ndisplay=3)\n",
    "viewer.add_image(im, name=\"image\", scale=scale)\n",
    "viewer.add_labels(labels, name=\"labels\", scale=scale)\n",
    "viewer.add_labels(new_labels, name=\"labels\", scale=scale)\n",
    "#viewer.add_labels(new_labels2, name=\"labels\", scale=scale)"
   ]
  },
  {
   "cell_type": "code",
   "execution_count": 4,
   "metadata": {},
   "outputs": [
    {
     "name": "stdout",
     "output_type": "stream",
     "text": [
      "Setting up emission distribution...\n",
      "18.013899616000003\n"
     ]
    }
   ],
   "source": [
    "_, soma_lbls = label_points(new_labels, soma_coords, scale)\n",
    "t1 = time.perf_counter()\n",
    "mpnp = dynamic_programming_viterbi2.most_probable_neuron_path(image=im.astype(float), labels=new_labels, soma_lbls=soma_lbls, resolution=scale, coef_dist=10, coef_curv=1000)\n",
    "print(time.perf_counter()-t1)\n"
   ]
  },
  {
   "cell_type": "code",
   "execution_count": 6,
   "metadata": {},
   "outputs": [
    {
     "name": "stdout",
     "output_type": "stream",
     "text": [
      "Parallelizing x8\n"
     ]
    }
   ],
   "source": [
    "mpnp.frags_to_lines(ncpu=8)"
   ]
  },
  {
   "cell_type": "code",
   "execution_count": null,
   "metadata": {},
   "outputs": [
    {
     "name": "stderr",
     "output_type": "stream",
     "text": [
      "Computing state costs (geometry): 100%|██████████| 11296321/11296321 [04:45<00:00, 39566.87it/s]\n",
      "filling in costs: 100%|██████████| 11296321/11296321 [00:03<00:00, 2961101.39it/s]\n",
      "Normalizing: 100%|██████████| 3361/3361 [00:00<00:00, 17488.56it/s]"
     ]
    },
    {
     "name": "stdout",
     "output_type": "stream",
     "text": [
      "289.62475736299996\n"
     ]
    },
    {
     "name": "stderr",
     "output_type": "stream",
     "text": [
      "\n"
     ]
    }
   ],
   "source": [
    "t1 = time.perf_counter()\n",
    "mpnp.reset_dists(type=\"all\")\n",
    "mpnp.compute_all_costs_dist_par(point_point_func=mpnp.point_point_dist, point_blob_func=mpnp.point_blob_dist, ncpu=1)\n",
    "print(time.perf_counter()-t1)"
   ]
  },
  {
   "cell_type": "markdown",
   "metadata": {},
   "source": [
    "smart pairs=174s\n",
    "\n",
    "all pairs =289s"
   ]
  },
  {
   "cell_type": "markdown",
   "metadata": {},
   "source": []
  }
 ],
 "metadata": {
  "interpreter": {
   "hash": "5dc00d68ff54f8375e99934614da4863299fb9e10af4294c095b7f517546ff26"
  },
  "kernelspec": {
   "display_name": "Python 3.8.10 64-bit ('docs_env': venv)",
   "name": "python3"
  },
  "language_info": {
   "codemirror_mode": {
    "name": "ipython",
    "version": 3
   },
   "file_extension": ".py",
   "mimetype": "text/x-python",
   "name": "python",
   "nbconvert_exporter": "python",
   "pygments_lexer": "ipython3",
   "version": "3.8.10"
  },
  "orig_nbformat": 4
 },
 "nbformat": 4,
 "nbformat_minor": 2
}

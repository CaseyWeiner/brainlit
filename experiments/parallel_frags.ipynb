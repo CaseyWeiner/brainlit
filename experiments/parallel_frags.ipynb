{
 "cells": [
  {
   "cell_type": "code",
   "execution_count": 1,
   "metadata": {},
   "outputs": [
    {
     "name": "stderr",
     "output_type": "stream",
     "text": [
      "/Users/thomasathey/Documents/mimlab/mouselight/docs_env/lib/python3.8/site-packages/nilearn/datasets/__init__.py:86: FutureWarning: Fetchers from the nilearn.datasets module will be updated in version 0.9 to return python strings instead of bytes and Pandas dataframes instead of Numpy arrays.\n",
      "  warn(\"Fetchers from the nilearn.datasets module will be \"\n"
     ]
    }
   ],
   "source": [
    "from skimage import io\n",
    "import napari\n",
    "from brainlit.preprocessing.image_process import compute_frags, split_frags, remove_somas, label_points\n",
    "from brainlit.algorithms import dynamic_programming_viterbi2\n",
    "import h5py\n",
    "from skimage import measure\n",
    "import numpy as np\n",
    "import time"
   ]
  },
  {
   "cell_type": "code",
   "execution_count": 2,
   "metadata": {},
   "outputs": [],
   "source": [
    "im = io.imread(\"/Users/thomasathey/Documents/mimlab/mouselight/input/images/first10_quantitative/images/2018-08-01_0_first10_quantitative.tif\")\n",
    "scale = [0.3, 0.3, 1]\n",
    "soma_coords = [[360, 240, 120]]\n",
    "threshold = 0.9\n",
    "\n",
    "pred_path =\"/Users/thomasathey/Documents/mimlab/mouselight/input/images/first10_quantitative/2018-08-01_0_first10_quantitative_Probabilities.h5\"\n",
    "f = h5py.File(pred_path, 'r')\n",
    "pred = f.get('exported_data')\n",
    "pred = pred[:,:,:,1]\n",
    "\n",
    "\n",
    "mask = pred > threshold\n",
    "labels = measure.label(mask)"
   ]
  },
  {
   "cell_type": "code",
   "execution_count": 4,
   "metadata": {},
   "outputs": [
    {
     "name": "stdout",
     "output_type": "stream",
     "text": [
      "Parallelizing with 8 cpus\n"
     ]
    },
    {
     "name": "stderr",
     "output_type": "stream",
     "text": [
      "/Users/thomasathey/Documents/mimlab/mouselight/docs_env/lib/python3.8/site-packages/nilearn/datasets/__init__.py:86: FutureWarning: Fetchers from the nilearn.datasets module will be updated in version 0.9 to return python strings instead of bytes and Pandas dataframes instead of Numpy arrays.\n",
      "  warn(\"Fetchers from the nilearn.datasets module will be \"\n",
      "removing somas: 0it [00:00, ?it/s]\n",
      "looking for components to remove:  25%|██▍       | 32/130 [00:00<00:00, 312.74it/s]/Users/thomasathey/Documents/mimlab/mouselight/docs_env/lib/python3.8/site-packages/nilearn/datasets/__init__.py:86: FutureWarning: Fetchers from the nilearn.datasets module will be updated in version 0.9 to return python strings instead of bytes and Pandas dataframes instead of Numpy arrays.\n",
      "  warn(\"Fetchers from the nilearn.datasets module will be \"\n",
      "removing somas: 0it [00:00, ?it/s]\n",
      "looking for components to remove:  99%|█████████▉| 129/130 [00:00<00:00, 259.64it/s]/Users/thomasathey/Documents/mimlab/mouselight/docs_env/lib/python3.8/site-packages/nilearn/datasets/__init__.py:86: FutureWarning: Fetchers from the nilearn.datasets module will be updated in version 0.9 to return python strings instead of bytes and Pandas dataframes instead of Numpy arrays.\n",
      "  warn(\"Fetchers from the nilearn.datasets module will be \"\n",
      "looking for components to remove: 100%|██████████| 130/130 [00:00<00:00, 274.18it/s]\n",
      "removing somas: 0it [00:00, ?it/s]\n",
      "looking for components to remove: 100%|██████████| 189/189 [00:00<00:00, 232.97it/s]\n",
      "looking for components to remove:  29%|██▊       | 77/268 [00:00<00:01, 178.46it/s]/Users/thomasathey/Documents/mimlab/mouselight/docs_env/lib/python3.8/site-packages/nilearn/datasets/__init__.py:86: FutureWarning: Fetchers from the nilearn.datasets module will be updated in version 0.9 to return python strings instead of bytes and Pandas dataframes instead of Numpy arrays.\n",
      "  warn(\"Fetchers from the nilearn.datasets module will be \"\n",
      "/Users/thomasathey/Documents/mimlab/mouselight/docs_env/lib/python3.8/site-packages/nilearn/datasets/__init__.py:86: FutureWarning: Fetchers from the nilearn.datasets module will be updated in version 0.9 to return python strings instead of bytes and Pandas dataframes instead of Numpy arrays.\n",
      "  warn(\"Fetchers from the nilearn.datasets module will be \"\n",
      "removing somas: 0it [00:00, ?it/s]\n",
      "looking for components to remove: 100%|██████████| 11/11 [00:00<00:00, 2358.88it/s]\n",
      "Adding points...: 100%|██████████| 957/957 [00:00<00:00, 128578.03it/s]\n",
      "Splitting Fragments: 100%|██████████| 3/3 [00:00<00:00, 40072.97it/s]\n",
      "Split fractured components: 100%|██████████| 11/11 [00:00<00:00, 3245.91it/s]\n",
      "remove small fragments: 100%|██████████| 11/11 [00:00<00:00, 1214.52it/s]\n",
      "removing somas: 0it [00:00, ?it/s]\n",
      "Adding points...:  26%|██▌       | 4709/18212 [00:00<00:00, 16374.13it/s]/Users/thomasathey/Documents/mimlab/mouselight/docs_env/lib/python3.8/site-packages/nilearn/datasets/__init__.py:86: FutureWarning: Fetchers from the nilearn.datasets module will be updated in version 0.9 to return python strings instead of bytes and Pandas dataframes instead of Numpy arrays.\n",
      "  warn(\"Fetchers from the nilearn.datasets module will be \"\n",
      "removing somas: 0it [00:00, ?it/s]\n",
      "removing somas: 0it [00:00, ?it/s]\n",
      "Adding points...: 100%|██████████| 28921/28921 [00:01<00:00, 21381.50it/s]\n",
      "Splitting Fragments:  21%|██        | 8/38 [00:00<00:00, 65.75it/s]/Users/thomasathey/Documents/mimlab/mouselight/docs_env/lib/python3.8/site-packages/nilearn/datasets/__init__.py:86: FutureWarning: Fetchers from the nilearn.datasets module will be updated in version 0.9 to return python strings instead of bytes and Pandas dataframes instead of Numpy arrays.\n",
      "  warn(\"Fetchers from the nilearn.datasets module will be \"\n",
      "looking for components to remove: 100%|██████████| 268/268 [00:01<00:00, 207.08it/s]\n",
      "Splitting Fragments: 100%|██████████| 38/38 [00:00<00:00, 195.17it/s]\n",
      "Split fractured components: 100%|██████████| 162/162 [00:00<00:00, 3928.05it/s]\n",
      "looking for components to remove:  72%|███████▏  | 93/129 [00:00<00:00, 186.05it/s]/Users/thomasathey/Documents/mimlab/mouselight/docs_env/lib/python3.8/site-packages/nilearn/datasets/__init__.py:86: FutureWarning: Fetchers from the nilearn.datasets module will be updated in version 0.9 to return python strings instead of bytes and Pandas dataframes instead of Numpy arrays.\n",
      "  warn(\"Fetchers from the nilearn.datasets module will be \"\n",
      "looking for components to remove: 100%|██████████| 162/162 [00:00<00:00, 164.55it/s]\n",
      "removing somas: 0it [00:00, ?it/s]\n",
      "looking for components to remove: 100%|██████████| 129/129 [00:00<00:00, 166.75it/s]\n",
      "remove small fragments: 100%|██████████| 165/165 [00:00<00:00, 210.79it/s]\n",
      "Adding points...: 100%|██████████| 18212/18212 [00:01<00:00, 10030.98it/s]\n",
      "looking for components to remove: 100%|██████████| 184/184 [00:01<00:00, 166.16it/s]\n",
      "Splitting Fragments: 100%|██████████| 56/56 [00:00<00:00, 118.95it/s]\n",
      "Split fractured components: 100%|██████████| 211/211 [00:00<00:00, 3544.53it/s]\n",
      "removing somas: 100%|██████████| 1/1 [00:01<00:00,  1.58s/it]\n",
      "Adding points...: 100%|██████████| 19467/19467 [00:01<00:00, 12455.92it/s]\n",
      "removing somas: 0it [00:00, ?it/s]\n",
      "looking for components to remove: 100%|██████████| 15/15 [00:00<00:00, 1595.20it/s]\n",
      "Adding points...: 100%|██████████| 1271/1271 [00:00<00:00, 61798.21it/s]\n",
      "Splitting Fragments: 100%|██████████| 7/7 [00:00<00:00, 1421.59it/s]\n",
      "Split fractured components: 100%|██████████| 16/16 [00:00<00:00, 3391.22it/s]\n",
      "remove small fragments: 100%|██████████| 16/16 [00:00<00:00, 1783.53it/s]\n",
      "Splitting Fragments: 100%|██████████| 41/41 [00:00<00:00, 99.63it/s]\n",
      "removing somas: 0it [00:00, ?it/s]\n",
      "Split fractured components: 100%|██████████| 182/182 [00:00<00:00, 3626.43it/s]\n",
      "Adding points...: 100%|██████████| 25163/25163 [00:02<00:00, 9795.06it/s]\n",
      "remove small fragments: 100%|██████████| 214/214 [00:01<00:00, 210.56it/s]\n",
      "looking for components to remove: 100%|██████████| 314/314 [00:01<00:00, 162.18it/s]\n",
      "looking for components to remove: 100%|██████████| 82/82 [00:00<00:00, 266.95it/s]\n",
      "looking for components to remove: 100%|██████████| 219/219 [00:01<00:00, 168.55it/s]\n",
      "Splitting Fragments: 100%|██████████| 71/71 [00:00<00:00, 106.06it/s]\n",
      "Split fractured components: 100%|██████████| 298/298 [00:00<00:00, 4376.35it/s]\n",
      "remove small fragments: 100%|██████████| 184/184 [00:00<00:00, 203.60it/s]\n",
      "Adding points...: 100%|██████████| 43832/43832 [00:02<00:00, 17611.50it/s]\n",
      "Adding points...: 100%|██████████| 62380/62380 [00:03<00:00, 20018.43it/s]\n",
      "Adding points...: 100%|██████████| 34217/34217 [00:00<00:00, 34273.51it/s]\n",
      "removing somas: 0it [00:00, ?it/s]\n",
      "Splitting Fragments: 100%|██████████| 22/22 [00:00<00:00, 199.01it/s]\n",
      "Splitting Fragments: 100%|██████████| 62/62 [00:00<00:00, 111.28it/s]\n",
      "Split fractured components: 100%|██████████| 127/127 [00:00<00:00, 3149.71it/s]\n",
      "Splitting Fragments: 100%|██████████| 38/38 [00:00<00:00, 92.88it/s]\n",
      "Split fractured components: 100%|██████████| 225/225 [00:00<00:00, 3096.91it/s]\n",
      "Split fractured components: 100%|██████████| 217/217 [00:00<00:00, 2896.51it/s]\n",
      "remove small fragments: 100%|██████████| 142/142 [00:00<00:00, 486.31it/s]\n",
      "looking for components to remove: 100%|██████████| 107/107 [00:00<00:00, 271.68it/s]\n",
      "removing somas: 0it [00:00, ?it/s]\n",
      "remove small fragments: 100%|██████████| 304/304 [00:01<00:00, 186.17it/s]\n",
      "remove small fragments: 100%|██████████| 235/235 [00:00<00:00, 256.96it/s]\n",
      "remove small fragments: 100%|██████████| 233/233 [00:01<00:00, 207.01it/s]\n",
      "looking for components to remove: 100%|██████████| 94/94 [00:00<00:00, 283.21it/s]\n",
      "removing somas: 0it [00:00, ?it/s]\n",
      "looking for components to remove: 100%|██████████| 61/61 [00:00<00:00, 376.34it/s]\n",
      "removing somas: 0it [00:00, ?it/s]\n",
      "looking for components to remove: 100%|██████████| 6/6 [00:00<00:00, 3084.80it/s]\n",
      "Adding points...: 100%|██████████| 246/246 [00:00<00:00, 77948.08it/s]\n",
      "Splitting Fragments: 100%|██████████| 2/2 [00:00<00:00, 1075.88it/s]\n",
      "Split fractured components: 100%|██████████| 7/7 [00:00<00:00, 4801.33it/s]\n",
      "remove small fragments: 100%|██████████| 7/7 [00:00<00:00, 2070.38it/s]\n",
      "Adding points...: 100%|██████████| 57476/57476 [00:01<00:00, 36103.74it/s]\n",
      "Adding points...: 100%|██████████| 12980/12980 [00:00<00:00, 31919.34it/s]\n",
      "Splitting Fragments: 100%|██████████| 21/21 [00:00<00:00, 193.45it/s]\n",
      "Splitting Fragments: 100%|██████████| 33/33 [00:00<00:00, 190.35it/s]\n",
      "Split fractured components: 100%|██████████| 77/77 [00:00<00:00, 3763.07it/s]\n",
      "Split fractured components: 100%|██████████| 183/183 [00:00<00:00, 2751.89it/s]\n",
      "remove small fragments: 100%|██████████| 80/80 [00:00<00:00, 532.85it/s]\n",
      "Adding points...: 100%|██████████| 54361/54361 [00:01<00:00, 46976.43it/s]\n",
      "remove small fragments: 100%|██████████| 215/215 [00:00<00:00, 732.42it/s]\n",
      "Adding points...: 100%|██████████| 68764/68764 [00:03<00:00, 18910.02it/s]\n",
      "Splitting Fragments: 100%|██████████| 30/30 [00:00<00:00, 151.34it/s]\n",
      "Split fractured components: 100%|██████████| 160/160 [00:00<00:00, 2480.47it/s]\n",
      "Adding points...: 100%|██████████| 89502/89502 [00:04<00:00, 21283.11it/s]\n",
      "remove small fragments: 100%|██████████| 185/185 [00:00<00:00, 968.32it/s]\n",
      "Splitting Fragments: 100%|██████████| 62/62 [00:00<00:00, 104.20it/s]\n",
      "Splitting Fragments: 100%|██████████| 86/86 [00:00<00:00, 149.75it/s]\n",
      "Split fractured components: 100%|██████████| 309/309 [00:00<00:00, 3991.75it/s]\n",
      "Split fractured components: 100%|██████████| 395/395 [00:00<00:00, 4525.55it/s]\n",
      "remove small fragments: 100%|██████████| 339/339 [00:00<00:00, 564.49it/s]\n",
      "remove small fragments: 100%|██████████| 431/431 [00:00<00:00, 492.81it/s]\n"
     ]
    },
    {
     "name": "stdout",
     "output_type": "stream",
     "text": [
      "16.134737585000003\n"
     ]
    }
   ],
   "source": [
    "t1 = time.perf_counter()\n",
    "new_labels = compute_frags(soma_coords=soma_coords, labels=labels, im_processed = pred, threshold = threshold, res=scale, chunk_size=[200,200,200], ncpu=8)\n",
    "#new_labels2 = split_frags(soma_coords=soma_coords, labels=labels, im_processed = pred, threshold = threshold, res=scale)\n",
    "print(time.perf_counter()-t1)"
   ]
  },
  {
   "cell_type": "code",
   "execution_count": null,
   "metadata": {},
   "outputs": [],
   "source": [
    "viewer = napari.Viewer(ndisplay=3)\n",
    "viewer.add_image(im, name=\"image\", scale=scale)\n",
    "viewer.add_labels(labels, name=\"labels\", scale=scale)\n",
    "viewer.add_labels(new_labels, name=\"labels\", scale=scale)\n",
    "#viewer.add_labels(new_labels2, name=\"labels\", scale=scale)"
   ]
  },
  {
   "cell_type": "code",
   "execution_count": 5,
   "metadata": {},
   "outputs": [
    {
     "name": "stdout",
     "output_type": "stream",
     "text": [
      "Setting up emission distribution...\n"
     ]
    }
   ],
   "source": [
    "_, soma_lbls = label_points(new_labels, soma_coords, scale)\n",
    "t1 = time.perf_counter()\n",
    "mpnp = dynamic_programming_viterbi2.most_probable_neuron_path(image=im.astype(float), labels=new_labels, soma_lbls=soma_lbls, resolution=scale, coef_dist=10, coef_curv=1000)\n",
    "print(time.perf_counter()-t1)\n"
   ]
  },
  {
   "cell_type": "code",
   "execution_count": null,
   "metadata": {},
   "outputs": [],
   "source": [
    "t1 = time.perf_counter()\n",
    "mpnp.frags_to_lines()\n",
    "print(time.perf_counter()-t1)"
   ]
  }
 ],
 "metadata": {
  "interpreter": {
   "hash": "5dc00d68ff54f8375e99934614da4863299fb9e10af4294c095b7f517546ff26"
  },
  "kernelspec": {
   "display_name": "Python 3.8.10 64-bit ('docs_env': venv)",
   "name": "python3"
  },
  "language_info": {
   "codemirror_mode": {
    "name": "ipython",
    "version": 3
   },
   "file_extension": ".py",
   "mimetype": "text/x-python",
   "name": "python",
   "nbconvert_exporter": "python",
   "pygments_lexer": "ipython3",
   "version": "3.8.10"
  },
  "orig_nbformat": 4
 },
 "nbformat": 4,
 "nbformat_minor": 2
}

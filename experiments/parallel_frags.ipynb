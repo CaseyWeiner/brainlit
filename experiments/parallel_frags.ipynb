{
 "cells": [
  {
   "cell_type": "code",
   "execution_count": 1,
   "metadata": {},
   "outputs": [
    {
     "name": "stderr",
     "output_type": "stream",
     "text": [
      "/Users/thomasathey/Documents/mimlab/mouselight/docs_env/lib/python3.8/site-packages/nilearn/datasets/__init__.py:86: FutureWarning: Fetchers from the nilearn.datasets module will be updated in version 0.9 to return python strings instead of bytes and Pandas dataframes instead of Numpy arrays.\n",
      "  warn(\"Fetchers from the nilearn.datasets module will be \"\n"
     ]
    }
   ],
   "source": [
    "from skimage import io\n",
    "import napari\n",
    "from brainlit.preprocessing.image_process import compute_frags, split_frags, remove_somas\n",
    "import h5py\n",
    "from skimage import measure\n",
    "import numpy as np\n",
    "import time"
   ]
  },
  {
   "cell_type": "code",
   "execution_count": 2,
   "metadata": {},
   "outputs": [],
   "source": [
    "im = io.imread(\"/Users/thomasathey/Documents/mimlab/mouselight/input/images/first10_quantitative/images/2018-08-01_0_first10_quantitative.tif\")\n",
    "scale = [0.3, 0.3, 1]\n",
    "soma_coords = [[360, 240, 120]]\n",
    "threshold = 0.9\n",
    "\n",
    "pred_path =\"/Users/thomasathey/Documents/mimlab/mouselight/input/images/first10_quantitative/2018-08-01_0_first10_quantitative_Probabilities.h5\"\n",
    "f = h5py.File(pred_path, 'r')\n",
    "pred = f.get('exported_data')\n",
    "pred = pred[:,:,:,1]\n",
    "\n",
    "\n",
    "mask = pred > threshold\n",
    "labels = measure.label(mask)"
   ]
  },
  {
   "cell_type": "code",
   "execution_count": 5,
   "metadata": {},
   "outputs": [
    {
     "name": "stdout",
     "output_type": "stream",
     "text": [
      "Parallelizing with 8 cpus\n"
     ]
    },
    {
     "name": "stderr",
     "output_type": "stream",
     "text": [
      "/Users/thomasathey/Documents/mimlab/mouselight/docs_env/lib/python3.8/site-packages/nilearn/datasets/__init__.py:86: FutureWarning: Fetchers from the nilearn.datasets module will be updated in version 0.9 to return python strings instead of bytes and Pandas dataframes instead of Numpy arrays.\n",
      "  warn(\"Fetchers from the nilearn.datasets module will be \"\n",
      "removing somas: 0it [00:00, ?it/s]\n",
      "looking for components to remove:  22%|██▏       | 29/130 [00:00<00:00, 278.06it/s]/Users/thomasathey/Documents/mimlab/mouselight/docs_env/lib/python3.8/site-packages/nilearn/datasets/__init__.py:86: FutureWarning: Fetchers from the nilearn.datasets module will be updated in version 0.9 to return python strings instead of bytes and Pandas dataframes instead of Numpy arrays.\n",
      "  warn(\"Fetchers from the nilearn.datasets module will be \"\n",
      "removing somas: 0it [00:00, ?it/s]\n",
      "looking for components to remove: 100%|██████████| 130/130 [00:00<00:00, 273.85it/s]\n",
      "Adding points...:   0%|          | 0/28921 [00:00<?, ?it/s]/Users/thomasathey/Documents/mimlab/mouselight/docs_env/lib/python3.8/site-packages/nilearn/datasets/__init__.py:86: FutureWarning: Fetchers from the nilearn.datasets module will be updated in version 0.9 to return python strings instead of bytes and Pandas dataframes instead of Numpy arrays.\n",
      "  warn(\"Fetchers from the nilearn.datasets module will be \"\n",
      "removing somas: 0it [00:00, ?it/s]\n",
      "looking for components to remove: 100%|██████████| 189/189 [00:00<00:00, 235.70it/s]\n",
      "looking for components to remove:  29%|██▉       | 78/268 [00:00<00:01, 184.79it/s]/Users/thomasathey/Documents/mimlab/mouselight/docs_env/lib/python3.8/site-packages/nilearn/datasets/__init__.py:86: FutureWarning: Fetchers from the nilearn.datasets module will be updated in version 0.9 to return python strings instead of bytes and Pandas dataframes instead of Numpy arrays.\n",
      "  warn(\"Fetchers from the nilearn.datasets module will be \"\n",
      "/Users/thomasathey/Documents/mimlab/mouselight/docs_env/lib/python3.8/site-packages/nilearn/datasets/__init__.py:86: FutureWarning: Fetchers from the nilearn.datasets module will be updated in version 0.9 to return python strings instead of bytes and Pandas dataframes instead of Numpy arrays.\n",
      "  warn(\"Fetchers from the nilearn.datasets module will be \"\n",
      "removing somas: 0it [00:00, ?it/s]\n",
      "looking for components to remove: 100%|██████████| 11/11 [00:00<00:00, 2167.09it/s]\n",
      "Adding points...: 100%|██████████| 957/957 [00:00<00:00, 168370.34it/s]\n",
      "Splitting Fragments: 100%|██████████| 3/3 [00:00<00:00, 68015.74it/s]\n",
      "Split fractured components: 100%|██████████| 11/11 [00:00<00:00, 3433.09it/s]\n",
      "remove small fragments: 100%|██████████| 11/11 [00:00<00:00, 1872.99it/s]\n",
      "removing somas: 0it [00:00, ?it/s]\n",
      "looking for components to remove:  18%|█▊        | 29/162 [00:00<00:00, 139.10it/s]/Users/thomasathey/Documents/mimlab/mouselight/docs_env/lib/python3.8/site-packages/nilearn/datasets/__init__.py:86: FutureWarning: Fetchers from the nilearn.datasets module will be updated in version 0.9 to return python strings instead of bytes and Pandas dataframes instead of Numpy arrays.\n",
      "  warn(\"Fetchers from the nilearn.datasets module will be \"\n",
      "Adding points...: 100%|██████████| 28921/28921 [00:01<00:00, 22271.64it/s]\n",
      "removing somas: 0it [00:00, ?it/s]\n",
      "removing somas: 0it [00:00, ?it/s]\n",
      "Splitting Fragments: 100%|██████████| 38/38 [00:00<00:00, 181.26it/s]\n",
      "looking for components to remove: 100%|██████████| 268/268 [00:01<00:00, 210.43it/s]\n",
      "Split fractured components: 100%|██████████| 162/162 [00:00<00:00, 3721.14it/s]\n",
      "remove small fragments:  14%|█▍        | 23/165 [00:00<00:00, 222.17it/s]/Users/thomasathey/Documents/mimlab/mouselight/docs_env/lib/python3.8/site-packages/nilearn/datasets/__init__.py:86: FutureWarning: Fetchers from the nilearn.datasets module will be updated in version 0.9 to return python strings instead of bytes and Pandas dataframes instead of Numpy arrays.\n",
      "  warn(\"Fetchers from the nilearn.datasets module will be \"\n",
      "looking for components to remove: 100%|██████████| 162/162 [00:00<00:00, 177.00it/s]\n",
      "looking for components to remove:  46%|████▌     | 85/184 [00:00<00:00, 163.50it/s]/Users/thomasathey/Documents/mimlab/mouselight/docs_env/lib/python3.8/site-packages/nilearn/datasets/__init__.py:86: FutureWarning: Fetchers from the nilearn.datasets module will be updated in version 0.9 to return python strings instead of bytes and Pandas dataframes instead of Numpy arrays.\n",
      "  warn(\"Fetchers from the nilearn.datasets module will be \"\n",
      "removing somas: 0it [00:00, ?it/s]\n",
      "remove small fragments: 100%|██████████| 165/165 [00:00<00:00, 220.40it/s]\n",
      "looking for components to remove: 100%|██████████| 129/129 [00:00<00:00, 158.72it/s]\n",
      "Adding points...: 100%|██████████| 18212/18212 [00:01<00:00, 10383.64it/s]\n",
      "looking for components to remove: 100%|██████████| 184/184 [00:01<00:00, 169.33it/s]\n",
      "Splitting Fragments: 100%|██████████| 56/56 [00:00<00:00, 123.65it/s]\n",
      "Split fractured components: 100%|██████████| 211/211 [00:00<00:00, 3404.93it/s]\n",
      "removing somas: 100%|██████████| 1/1 [00:01<00:00,  1.61s/it]\n",
      "removing somas: 0it [00:00, ?it/s]\n",
      "looking for components to remove: 100%|██████████| 15/15 [00:00<00:00, 1412.41it/s]\n",
      "Adding points...: 100%|██████████| 1271/1271 [00:00<00:00, 50976.41it/s]\n",
      "Splitting Fragments: 100%|██████████| 7/7 [00:00<00:00, 1103.06it/s]\n",
      "Split fractured components: 100%|██████████| 16/16 [00:00<00:00, 2677.82it/s]\n",
      "Adding points...: 100%|██████████| 19467/19467 [00:01<00:00, 12313.30it/s]\n",
      "remove small fragments: 100%|██████████| 16/16 [00:00<00:00, 1567.12it/s]\n",
      "Splitting Fragments: 100%|██████████| 41/41 [00:00<00:00, 94.89it/s]\n",
      "Split fractured components: 100%|██████████| 182/182 [00:00<00:00, 2552.70it/s]\n",
      "remove small fragments: 100%|██████████| 214/214 [00:01<00:00, 187.91it/s]\n",
      "Adding points...: 100%|██████████| 25163/25163 [00:02<00:00, 9419.33it/s]\n",
      "removing somas: 0it [00:00, ?it/s]\n",
      "looking for components to remove: 100%|██████████| 314/314 [00:02<00:00, 147.56it/s]\n",
      "looking for components to remove: 100%|██████████| 82/82 [00:00<00:00, 260.95it/s]\n",
      "Splitting Fragments: 100%|██████████| 71/71 [00:00<00:00, 103.22it/s]\n",
      "looking for components to remove: 100%|██████████| 219/219 [00:01<00:00, 169.33it/s]\n",
      "Split fractured components: 100%|██████████| 298/298 [00:00<00:00, 3996.94it/s]\n",
      "remove small fragments: 100%|██████████| 184/184 [00:00<00:00, 193.32it/s]\n",
      "Adding points...: 100%|██████████| 43832/43832 [00:02<00:00, 16780.66it/s]\n",
      "Adding points...: 100%|██████████| 62380/62380 [00:03<00:00, 19477.43it/s]\n",
      "Adding points...: 100%|██████████| 34217/34217 [00:00<00:00, 34870.50it/s]\n",
      "removing somas: 0it [00:00, ?it/s]\n",
      "Splitting Fragments: 100%|██████████| 62/62 [00:00<00:00, 127.98it/s]\n",
      "Splitting Fragments: 100%|██████████| 22/22 [00:00<00:00, 203.03it/s]\n",
      "Split fractured components: 100%|██████████| 127/127 [00:00<00:00, 3582.51it/s]\n",
      "Split fractured components: 100%|██████████| 225/225 [00:00<00:00, 3567.97it/s]\n",
      "Splitting Fragments: 100%|██████████| 38/38 [00:00<00:00, 103.08it/s]\n",
      "Split fractured components: 100%|██████████| 217/217 [00:00<00:00, 2811.13it/s]\n",
      "looking for components to remove: 100%|██████████| 107/107 [00:00<00:00, 322.44it/s]\n",
      "remove small fragments: 100%|██████████| 142/142 [00:00<00:00, 512.80it/s]\n",
      "removing somas: 0it [00:00, ?it/s]\n",
      "remove small fragments: 100%|██████████| 304/304 [00:01<00:00, 212.20it/s]\n",
      "looking for components to remove: 100%|██████████| 94/94 [00:00<00:00, 305.29it/s]\n",
      "remove small fragments: 100%|██████████| 235/235 [00:00<00:00, 294.43it/s]\n",
      "remove small fragments: 100%|██████████| 233/233 [00:00<00:00, 239.42it/s]\n",
      "removing somas: 0it [00:00, ?it/s]\n",
      "removing somas: 0it [00:00, ?it/s]\n",
      "looking for components to remove: 100%|██████████| 6/6 [00:00<00:00, 4622.67it/s]\n",
      "Adding points...: 100%|██████████| 246/246 [00:00<00:00, 47343.25it/s]\n",
      "Splitting Fragments: 100%|██████████| 2/2 [00:00<00:00, 619.54it/s]\n",
      "Split fractured components: 100%|██████████| 7/7 [00:00<00:00, 3705.68it/s]\n",
      "remove small fragments: 100%|██████████| 7/7 [00:00<00:00, 2427.86it/s]\n",
      "looking for components to remove: 100%|██████████| 61/61 [00:00<00:00, 355.26it/s]\n",
      "Adding points...: 100%|██████████| 57476/57476 [00:01<00:00, 37663.17it/s]\n",
      "Splitting Fragments: 100%|██████████| 33/33 [00:00<00:00, 191.15it/s]\n",
      "Split fractured components: 100%|██████████| 183/183 [00:00<00:00, 2869.74it/s]\n",
      "Adding points...: 100%|██████████| 54361/54361 [00:01<00:00, 45193.30it/s]\n",
      "Adding points...: 100%|██████████| 12980/12980 [00:00<00:00, 29001.31it/s]\n",
      "Splitting Fragments: 100%|██████████| 21/21 [00:00<00:00, 188.21it/s]\n",
      "Split fractured components: 100%|██████████| 77/77 [00:00<00:00, 3689.34it/s]\n",
      "remove small fragments: 100%|██████████| 215/215 [00:00<00:00, 798.31it/s]\n",
      "Splitting Fragments: 100%|██████████| 30/30 [00:00<00:00, 147.52it/s]\n",
      "Split fractured components: 100%|██████████| 160/160 [00:00<00:00, 3264.02it/s]\n",
      "remove small fragments: 100%|██████████| 80/80 [00:00<00:00, 681.69it/s]\n",
      "Adding points...: 100%|██████████| 68764/68764 [00:03<00:00, 19883.93it/s]\n",
      "Adding points...: 100%|██████████| 89502/89502 [00:03<00:00, 22384.86it/s]\n",
      "remove small fragments: 100%|██████████| 185/185 [00:00<00:00, 609.52it/s]\n",
      "Splitting Fragments: 100%|██████████| 62/62 [00:00<00:00, 87.50it/s]\n",
      "Split fractured components: 100%|██████████| 309/309 [00:00<00:00, 4084.05it/s]\n",
      "Splitting Fragments: 100%|██████████| 86/86 [00:00<00:00, 136.50it/s]\n",
      "Split fractured components: 100%|██████████| 395/395 [00:00<00:00, 3374.45it/s]\n",
      "remove small fragments: 100%|██████████| 339/339 [00:00<00:00, 479.53it/s]\n",
      "remove small fragments: 100%|██████████| 431/431 [00:01<00:00, 430.36it/s]\n"
     ]
    },
    {
     "name": "stdout",
     "output_type": "stream",
     "text": [
      "16.36556802300001\n"
     ]
    }
   ],
   "source": [
    "t1 = time.perf_counter()\n",
    "new_labels = compute_frags(soma_coords=soma_coords, labels=labels, im_processed = pred, threshold = threshold, res=scale, chunk_size=[200,200,200], ncpu=8)\n",
    "#new_labels2 = split_frags(soma_coords=soma_coords, labels=labels, im_processed = pred, threshold = threshold, res=scale)\n",
    "print(time.perf_counter()-t1)"
   ]
  },
  {
   "cell_type": "code",
   "execution_count": 4,
   "metadata": {},
   "outputs": [
    {
     "data": {
      "text/plain": [
       "<Labels layer 'labels [1]' at 0x166420df0>"
      ]
     },
     "execution_count": 4,
     "metadata": {},
     "output_type": "execute_result"
    }
   ],
   "source": [
    "viewer = napari.Viewer(ndisplay=3)\n",
    "viewer.add_image(im, name=\"image\", scale=scale)\n",
    "viewer.add_labels(labels, name=\"labels\", scale=scale)\n",
    "viewer.add_labels(new_labels, name=\"labels\", scale=scale)\n",
    "#viewer.add_labels(new_labels2, name=\"labels\", scale=scale)"
   ]
  },
  {
   "cell_type": "code",
   "execution_count": null,
   "metadata": {},
   "outputs": [],
   "source": []
  }
 ],
 "metadata": {
  "interpreter": {
   "hash": "5dc00d68ff54f8375e99934614da4863299fb9e10af4294c095b7f517546ff26"
  },
  "kernelspec": {
   "display_name": "Python 3.8.10 64-bit ('docs_env': venv)",
   "name": "python3"
  },
  "language_info": {
   "codemirror_mode": {
    "name": "ipython",
    "version": 3
   },
   "file_extension": ".py",
   "mimetype": "text/x-python",
   "name": "python",
   "nbconvert_exporter": "python",
   "pygments_lexer": "ipython3",
   "version": "3.8.10"
  },
  "orig_nbformat": 4
 },
 "nbformat": 4,
 "nbformat_minor": 2
}

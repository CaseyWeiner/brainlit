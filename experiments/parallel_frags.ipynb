{
 "cells": [
  {
   "cell_type": "code",
   "execution_count": 1,
   "metadata": {},
   "outputs": [
    {
     "name": "stderr",
     "output_type": "stream",
     "text": [
      "/Users/thomasathey/Documents/mimlab/mouselight/docs_env/lib/python3.8/site-packages/nilearn/datasets/__init__.py:86: FutureWarning: Fetchers from the nilearn.datasets module will be updated in version 0.9 to return python strings instead of bytes and Pandas dataframes instead of Numpy arrays.\n",
      "  warn(\"Fetchers from the nilearn.datasets module will be \"\n"
     ]
    }
   ],
   "source": [
    "from skimage import io\n",
    "import napari\n",
    "from brainlit.preprocessing.image_process import compute_frags, split_frags, remove_somas, label_points\n",
    "from brainlit.algorithms import dynamic_programming_viterbi2\n",
    "import h5py\n",
    "from skimage import measure\n",
    "import numpy as np\n",
    "import time"
   ]
  },
  {
   "cell_type": "code",
   "execution_count": 2,
   "metadata": {},
   "outputs": [],
   "source": [
    "im = io.imread(\"/Users/thomasathey/Documents/mimlab/mouselight/input/images/first10_quantitative/images/2018-08-01_0_first10_quantitative.tif\")\n",
    "scale = [0.3, 0.3, 1]\n",
    "soma_coords = [[360, 240, 120]]\n",
    "threshold = 0.9\n",
    "\n",
    "pred_path =\"/Users/thomasathey/Documents/mimlab/mouselight/input/images/first10_quantitative/2018-08-01_0_first10_quantitative_Probabilities.h5\"\n",
    "f = h5py.File(pred_path, 'r')\n",
    "pred = f.get('exported_data')\n",
    "pred = pred[:,:,:,1]\n",
    "\n",
    "\n",
    "mask = pred > threshold\n",
    "labels = measure.label(mask)"
   ]
  },
  {
   "cell_type": "code",
   "execution_count": 3,
   "metadata": {},
   "outputs": [
    {
     "name": "stdout",
     "output_type": "stream",
     "text": [
      "Parallelizing with 8 cpus\n"
     ]
    },
    {
     "name": "stderr",
     "output_type": "stream",
     "text": [
      "/Users/thomasathey/Documents/mimlab/mouselight/docs_env/lib/python3.8/site-packages/nilearn/datasets/__init__.py:86: FutureWarning: Fetchers from the nilearn.datasets module will be updated in version 0.9 to return python strings instead of bytes and Pandas dataframes instead of Numpy arrays.\n",
      "  warn(\"Fetchers from the nilearn.datasets module will be \"\n",
      "removing somas: 0it [00:00, ?it/s]\n",
      "looking for components to remove:  29%|██▉       | 38/130 [00:00<00:00, 370.84it/s]/Users/thomasathey/Documents/mimlab/mouselight/docs_env/lib/python3.8/site-packages/nilearn/datasets/__init__.py:86: FutureWarning: Fetchers from the nilearn.datasets module will be updated in version 0.9 to return python strings instead of bytes and Pandas dataframes instead of Numpy arrays.\n",
      "  warn(\"Fetchers from the nilearn.datasets module will be \"\n",
      "removing somas: 0it [00:00, ?it/s]\n",
      "looking for components to remove: 100%|██████████| 130/130 [00:00<00:00, 301.52it/s]\n",
      "Adding points...:   0%|          | 0/28921 [00:00<?, ?it/s]/Users/thomasathey/Documents/mimlab/mouselight/docs_env/lib/python3.8/site-packages/nilearn/datasets/__init__.py:86: FutureWarning: Fetchers from the nilearn.datasets module will be updated in version 0.9 to return python strings instead of bytes and Pandas dataframes instead of Numpy arrays.\n",
      "  warn(\"Fetchers from the nilearn.datasets module will be \"\n",
      "removing somas: 0it [00:00, ?it/s]\n",
      "looking for components to remove:  57%|█████▋    | 108/189 [00:00<00:00, 260.23it/s]/Users/thomasathey/Documents/mimlab/mouselight/docs_env/lib/python3.8/site-packages/nilearn/datasets/__init__.py:86: FutureWarning: Fetchers from the nilearn.datasets module will be updated in version 0.9 to return python strings instead of bytes and Pandas dataframes instead of Numpy arrays.\n",
      "  warn(\"Fetchers from the nilearn.datasets module will be \"\n",
      "removing somas: 0it [00:00, ?it/s]\n",
      "looking for components to remove: 100%|██████████| 11/11 [00:00<00:00, 2443.84it/s]\n",
      "Adding points...: 100%|██████████| 957/957 [00:00<00:00, 223034.34it/s]\n",
      "Splitting Fragments: 100%|██████████| 3/3 [00:00<00:00, 77195.78it/s]\n",
      "Split fractured components: 100%|██████████| 11/11 [00:00<00:00, 3575.15it/s]\n",
      "remove small fragments: 100%|██████████| 11/11 [00:00<00:00, 2765.86it/s]\n",
      "looking for components to remove:  71%|███████▏  | 135/189 [00:00<00:00, 243.54it/s]/Users/thomasathey/Documents/mimlab/mouselight/docs_env/lib/python3.8/site-packages/nilearn/datasets/__init__.py:86: FutureWarning: Fetchers from the nilearn.datasets module will be updated in version 0.9 to return python strings instead of bytes and Pandas dataframes instead of Numpy arrays.\n",
      "  warn(\"Fetchers from the nilearn.datasets module will be \"\n",
      "removing somas: 0it [00:00, ?it/s]\n",
      "looking for components to remove: 100%|██████████| 189/189 [00:00<00:00, 253.81it/s]\n",
      "looking for components to remove:  56%|█████▌    | 149/268 [00:00<00:00, 199.94it/s]/Users/thomasathey/Documents/mimlab/mouselight/docs_env/lib/python3.8/site-packages/nilearn/datasets/__init__.py:86: FutureWarning: Fetchers from the nilearn.datasets module will be updated in version 0.9 to return python strings instead of bytes and Pandas dataframes instead of Numpy arrays.\n",
      "  warn(\"Fetchers from the nilearn.datasets module will be \"\n",
      "removing somas: 0it [00:00, ?it/s]\n",
      "removing somas: 0it [00:00, ?it/s]\n",
      "Adding points...: 100%|██████████| 28921/28921 [00:01<00:00, 22516.06it/s]\n",
      "looking for components to remove:  94%|█████████▍| 252/268 [00:01<00:00, 225.43it/s]/Users/thomasathey/Documents/mimlab/mouselight/docs_env/lib/python3.8/site-packages/nilearn/datasets/__init__.py:86: FutureWarning: Fetchers from the nilearn.datasets module will be updated in version 0.9 to return python strings instead of bytes and Pandas dataframes instead of Numpy arrays.\n",
      "  warn(\"Fetchers from the nilearn.datasets module will be \"\n",
      "Splitting Fragments: 100%|██████████| 38/38 [00:00<00:00, 184.86it/s]\n",
      "looking for components to remove: 100%|██████████| 268/268 [00:01<00:00, 208.55it/s]\n",
      "Split fractured components: 100%|██████████| 162/162 [00:00<00:00, 4139.32it/s]\n",
      "looking for components to remove:  94%|█████████▍| 152/162 [00:00<00:00, 212.95it/s]/Users/thomasathey/Documents/mimlab/mouselight/docs_env/lib/python3.8/site-packages/nilearn/datasets/__init__.py:86: FutureWarning: Fetchers from the nilearn.datasets module will be updated in version 0.9 to return python strings instead of bytes and Pandas dataframes instead of Numpy arrays.\n",
      "  warn(\"Fetchers from the nilearn.datasets module will be \"\n",
      "looking for components to remove: 100%|██████████| 162/162 [00:00<00:00, 181.59it/s]\n",
      "removing somas: 0it [00:00, ?it/s]\n",
      "looking for components to remove: 100%|██████████| 129/129 [00:00<00:00, 167.31it/s]\n",
      "looking for components to remove: 100%|██████████| 184/184 [00:01<00:00, 174.63it/s]\n",
      "remove small fragments: 100%|██████████| 165/165 [00:00<00:00, 219.86it/s]\n",
      "Adding points...: 100%|██████████| 18212/18212 [00:01<00:00, 10133.83it/s]\n",
      "Splitting Fragments: 100%|██████████| 56/56 [00:00<00:00, 126.84it/s]\n",
      "removing somas: 100%|██████████| 1/1 [00:01<00:00,  1.42s/it]\n",
      "Split fractured components: 100%|██████████| 211/211 [00:00<00:00, 4626.69it/s]\n",
      "Adding points...: 100%|██████████| 19467/19467 [00:01<00:00, 13261.86it/s]\n",
      "removing somas: 0it [00:00, ?it/s]\n",
      "looking for components to remove: 100%|██████████| 15/15 [00:00<00:00, 2228.25it/s]\n",
      "Splitting Fragments: 100%|██████████| 41/41 [00:00<00:00, 104.75it/s]\n",
      "Adding points...: 100%|██████████| 1271/1271 [00:00<00:00, 83727.98it/s]\n",
      "Splitting Fragments: 100%|██████████| 7/7 [00:00<00:00, 1635.94it/s]\n",
      "Split fractured components: 100%|██████████| 16/16 [00:00<00:00, 4012.01it/s]\n",
      "remove small fragments: 100%|██████████| 16/16 [00:00<00:00, 2502.75it/s]\n",
      "Split fractured components: 100%|██████████| 182/182 [00:00<00:00, 4254.21it/s]\n",
      "looking for components to remove: 100%|██████████| 314/314 [00:01<00:00, 166.52it/s]\n",
      "removing somas: 0it [00:00, ?it/s]\n",
      "Adding points...: 100%|██████████| 25163/25163 [00:02<00:00, 10188.65it/s]\n",
      "remove small fragments: 100%|██████████| 214/214 [00:01<00:00, 203.82it/s]\n",
      "looking for components to remove: 100%|██████████| 82/82 [00:00<00:00, 306.96it/s]\n",
      "looking for components to remove: 100%|██████████| 219/219 [00:01<00:00, 169.33it/s]\n",
      "remove small fragments: 100%|██████████| 184/184 [00:00<00:00, 194.85it/s]\n",
      "Splitting Fragments: 100%|██████████| 71/71 [00:00<00:00, 114.40it/s]\n",
      "Adding points...: 100%|██████████| 43832/43832 [00:02<00:00, 18355.61it/s]\n",
      "Split fractured components: 100%|██████████| 298/298 [00:00<00:00, 3797.48it/s]\n",
      "Adding points...: 100%|██████████| 62380/62380 [00:02<00:00, 21136.34it/s]\n",
      "Adding points...: 100%|██████████| 34217/34217 [00:00<00:00, 38377.97it/s]\n",
      "removing somas: 0it [00:00, ?it/s]\n",
      "Splitting Fragments: 100%|██████████| 62/62 [00:00<00:00, 134.55it/s]\n",
      "Splitting Fragments: 100%|██████████| 22/22 [00:00<00:00, 214.50it/s]\n",
      "Split fractured components: 100%|██████████| 225/225 [00:00<00:00, 3418.06it/s]\n",
      "Split fractured components: 100%|██████████| 127/127 [00:00<00:00, 3258.24it/s]\n",
      "Splitting Fragments: 100%|██████████| 38/38 [00:00<00:00, 104.87it/s]\n",
      "Split fractured components: 100%|██████████| 217/217 [00:00<00:00, 3146.08it/s]\n",
      "looking for components to remove: 100%|██████████| 107/107 [00:00<00:00, 343.63it/s]\n",
      "remove small fragments: 100%|██████████| 142/142 [00:00<00:00, 598.87it/s]\n",
      "removing somas: 0it [00:00, ?it/s]\n",
      "looking for components to remove: 100%|██████████| 94/94 [00:00<00:00, 330.76it/s]\n",
      "remove small fragments: 100%|██████████| 233/233 [00:00<00:00, 244.93it/s]\n",
      "remove small fragments: 100%|██████████| 304/304 [00:01<00:00, 209.48it/s]\n",
      "remove small fragments: 100%|██████████| 235/235 [00:00<00:00, 312.61it/s]\n",
      "removing somas: 0it [00:00, ?it/s]\n",
      "looking for components to remove: 100%|██████████| 61/61 [00:00<00:00, 311.36it/s]\n",
      "removing somas: 0it [00:00, ?it/s]\n",
      "looking for components to remove: 100%|██████████| 6/6 [00:00<00:00, 5016.11it/s]\n",
      "Adding points...: 100%|██████████| 246/246 [00:00<00:00, 83981.67it/s]\n",
      "Splitting Fragments: 100%|██████████| 2/2 [00:00<00:00, 1075.74it/s]\n",
      "Split fractured components: 100%|██████████| 7/7 [00:00<00:00, 4983.05it/s]\n",
      "remove small fragments: 100%|██████████| 7/7 [00:00<00:00, 5704.32it/s]\n",
      "Adding points...: 100%|██████████| 12980/12980 [00:00<00:00, 38599.62it/s]\n",
      "Adding points...: 100%|██████████| 57476/57476 [00:01<00:00, 40073.13it/s]\n",
      "Splitting Fragments: 100%|██████████| 21/21 [00:00<00:00, 214.22it/s]\n",
      "Split fractured components: 100%|██████████| 77/77 [00:00<00:00, 4127.14it/s]\n",
      "Splitting Fragments: 100%|██████████| 33/33 [00:00<00:00, 221.88it/s]\n",
      "Split fractured components: 100%|██████████| 183/183 [00:00<00:00, 3967.92it/s]\n",
      "remove small fragments: 100%|██████████| 80/80 [00:00<00:00, 812.84it/s]\n",
      "Adding points...: 100%|██████████| 54361/54361 [00:01<00:00, 52554.08it/s]\n",
      "remove small fragments: 100%|██████████| 215/215 [00:00<00:00, 897.48it/s]\n",
      "Splitting Fragments: 100%|██████████| 30/30 [00:00<00:00, 172.14it/s]\n",
      "Split fractured components: 100%|██████████| 160/160 [00:00<00:00, 4272.03it/s]\n",
      "Adding points...: 100%|██████████| 89502/89502 [00:03<00:00, 23896.88it/s]\n",
      "Adding points...: 100%|██████████| 68764/68764 [00:03<00:00, 21671.19it/s]\n",
      "remove small fragments: 100%|██████████| 185/185 [00:00<00:00, 1055.51it/s]\n",
      "Splitting Fragments: 100%|██████████| 62/62 [00:00<00:00, 135.69it/s]\n",
      "Splitting Fragments: 100%|██████████| 86/86 [00:00<00:00, 173.24it/s]\n",
      "Split fractured components: 100%|██████████| 309/309 [00:00<00:00, 6060.17it/s]\n",
      "Split fractured components: 100%|██████████| 395/395 [00:00<00:00, 6558.30it/s]\n",
      "remove small fragments: 100%|██████████| 339/339 [00:00<00:00, 624.04it/s]\n",
      "remove small fragments: 100%|██████████| 431/431 [00:00<00:00, 580.84it/s]\n"
     ]
    },
    {
     "name": "stdout",
     "output_type": "stream",
     "text": [
      "14.193739495\n"
     ]
    }
   ],
   "source": [
    "t1 = time.perf_counter()\n",
    "new_labels = compute_frags(soma_coords=soma_coords, labels=labels, im_processed = pred, threshold = threshold, res=scale, chunk_size=[200,200,200], ncpu=8)\n",
    "#new_labels2 = split_frags(soma_coords=soma_coords, labels=labels, im_processed = pred, threshold = threshold, res=scale)\n",
    "print(time.perf_counter()-t1)"
   ]
  },
  {
   "cell_type": "code",
   "execution_count": null,
   "metadata": {},
   "outputs": [],
   "source": [
    "viewer = napari.Viewer(ndisplay=3)\n",
    "viewer.add_image(im, name=\"image\", scale=scale)\n",
    "viewer.add_labels(labels, name=\"labels\", scale=scale)\n",
    "viewer.add_labels(new_labels, name=\"labels\", scale=scale)\n",
    "#viewer.add_labels(new_labels2, name=\"labels\", scale=scale)"
   ]
  },
  {
   "cell_type": "code",
   "execution_count": 4,
   "metadata": {},
   "outputs": [
    {
     "name": "stdout",
     "output_type": "stream",
     "text": [
      "Setting up emission distribution...\n",
      "19.383234457000004\n"
     ]
    }
   ],
   "source": [
    "_, soma_lbls = label_points(new_labels, soma_coords, scale)\n",
    "t1 = time.perf_counter()\n",
    "mpnp = dynamic_programming_viterbi2.most_probable_neuron_path(image=im.astype(float), labels=new_labels, soma_lbls=soma_lbls, resolution=scale, coef_dist=10, coef_curv=1000)\n",
    "print(time.perf_counter()-t1)\n"
   ]
  },
  {
   "cell_type": "code",
   "execution_count": 5,
   "metadata": {},
   "outputs": [
    {
     "name": "stdout",
     "output_type": "stream",
     "text": [
      "Parallelizing x8\n"
     ]
    },
    {
     "name": "stderr",
     "output_type": "stream",
     "text": [
      "/Users/thomasathey/Documents/mimlab/mouselight/docs_env/lib/python3.8/site-packages/nilearn/datasets/__init__.py:86: FutureWarning: Fetchers from the nilearn.datasets module will be updated in version 0.9 to return python strings instead of bytes and Pandas dataframes instead of Numpy arrays.\n",
      "  warn(\"Fetchers from the nilearn.datasets module will be \"\n",
      "/Users/thomasathey/Documents/mimlab/mouselight/docs_env/lib/python3.8/site-packages/nilearn/datasets/__init__.py:86: FutureWarning: Fetchers from the nilearn.datasets module will be updated in version 0.9 to return python strings instead of bytes and Pandas dataframes instead of Numpy arrays.\n",
      "  warn(\"Fetchers from the nilearn.datasets module will be \"\n",
      "/Users/thomasathey/Documents/mimlab/mouselight/docs_env/lib/python3.8/site-packages/nilearn/datasets/__init__.py:86: FutureWarning: Fetchers from the nilearn.datasets module will be updated in version 0.9 to return python strings instead of bytes and Pandas dataframes instead of Numpy arrays.\n",
      "  warn(\"Fetchers from the nilearn.datasets module will be \"\n",
      "/Users/thomasathey/Documents/mimlab/mouselight/docs_env/lib/python3.8/site-packages/nilearn/datasets/__init__.py:86: FutureWarning: Fetchers from the nilearn.datasets module will be updated in version 0.9 to return python strings instead of bytes and Pandas dataframes instead of Numpy arrays.\n",
      "  warn(\"Fetchers from the nilearn.datasets module will be \"\n",
      "/Users/thomasathey/Documents/mimlab/mouselight/docs_env/lib/python3.8/site-packages/nilearn/datasets/__init__.py:86: FutureWarning: Fetchers from the nilearn.datasets module will be updated in version 0.9 to return python strings instead of bytes and Pandas dataframes instead of Numpy arrays.\n",
      "  warn(\"Fetchers from the nilearn.datasets module will be \"\n",
      "/Users/thomasathey/Documents/mimlab/mouselight/docs_env/lib/python3.8/site-packages/nilearn/datasets/__init__.py:86: FutureWarning: Fetchers from the nilearn.datasets module will be updated in version 0.9 to return python strings instead of bytes and Pandas dataframes instead of Numpy arrays.\n",
      "  warn(\"Fetchers from the nilearn.datasets module will be \"\n",
      "/Users/thomasathey/Documents/mimlab/mouselight/docs_env/lib/python3.8/site-packages/nilearn/datasets/__init__.py:86: FutureWarning: Fetchers from the nilearn.datasets module will be updated in version 0.9 to return python strings instead of bytes and Pandas dataframes instead of Numpy arrays.\n",
      "  warn(\"Fetchers from the nilearn.datasets module will be \"\n",
      "/Users/thomasathey/Documents/mimlab/mouselight/docs_env/lib/python3.8/site-packages/nilearn/datasets/__init__.py:86: FutureWarning: Fetchers from the nilearn.datasets module will be updated in version 0.9 to return python strings instead of bytes and Pandas dataframes instead of Numpy arrays.\n",
      "  warn(\"Fetchers from the nilearn.datasets module will be \"\n",
      "Computing line representations: 100%|██████████| 210/210 [00:53<00:00,  3.96it/s]\n",
      "Computing line representations: 100%|██████████| 210/210 [00:53<00:00,  3.95it/s]\n",
      "Computing line representations: 100%|██████████| 210/210 [00:53<00:00,  3.95it/s]\n",
      "Computing line representations: 100%|██████████| 210/210 [00:53<00:00,  3.95it/s]\n",
      "Computing line representations: 100%|██████████| 210/210 [00:53<00:00,  3.94it/s]\n",
      "Computing line representations: 100%|██████████| 211/211 [00:53<00:00,  3.96it/s]\n",
      "Computing line representations: 100%|██████████| 210/210 [00:53<00:00,  3.94it/s]\n",
      "Computing line representations: 100%|█████████▉| 209/210 [00:53<00:00,  4.06it/s]"
     ]
    },
    {
     "name": "stdout",
     "output_type": "stream",
     "text": [
      "58.88811248099999\n"
     ]
    },
    {
     "name": "stderr",
     "output_type": "stream",
     "text": [
      "Computing line representations: 100%|██████████| 210/210 [00:53<00:00,  3.93it/s]\n"
     ]
    }
   ],
   "source": [
    "t1 = time.perf_counter()\n",
    "mpnp.frags_to_lines(ncpu=8)\n",
    "print(time.perf_counter()-t1)"
   ]
  },
  {
   "cell_type": "code",
   "execution_count": null,
   "metadata": {},
   "outputs": [
    {
     "data": {
      "text/plain": [
       "('fragment',\n",
       " 51,\n",
       " {'coord1': [158, 46, 94],\n",
       "  'orientation1': array([-0.62988978, -0.76486616,  0.13497638]),\n",
       "  'coord2': [144, 29, 97],\n",
       "  'orientation2': array([-0.62988978, -0.76486616,  0.13497638]),\n",
       "  'soma connection point': None})"
      ]
     },
     "execution_count": 7,
     "metadata": {},
     "output_type": "execute_result"
    }
   ],
   "source": [
    "mpnp.state_to_comp[100]"
   ]
  },
  {
   "cell_type": "markdown",
   "metadata": {},
   "source": [
    "[158, 46, 94]"
   ]
  }
 ],
 "metadata": {
  "interpreter": {
   "hash": "5dc00d68ff54f8375e99934614da4863299fb9e10af4294c095b7f517546ff26"
  },
  "kernelspec": {
   "display_name": "Python 3.8.10 64-bit ('docs_env': venv)",
   "name": "python3"
  },
  "language_info": {
   "codemirror_mode": {
    "name": "ipython",
    "version": 3
   },
   "file_extension": ".py",
   "mimetype": "text/x-python",
   "name": "python",
   "nbconvert_exporter": "python",
   "pygments_lexer": "ipython3",
   "version": "3.8.10"
  },
  "orig_nbformat": 4
 },
 "nbformat": 4,
 "nbformat_minor": 2
}

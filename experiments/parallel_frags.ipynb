{
 "cells": [
  {
   "cell_type": "code",
   "execution_count": 1,
   "metadata": {},
   "outputs": [
    {
     "name": "stderr",
     "output_type": "stream",
     "text": [
      "/Users/thomasathey/Documents/mimlab/mouselight/docs_env/lib/python3.8/site-packages/nilearn/datasets/__init__.py:86: FutureWarning: Fetchers from the nilearn.datasets module will be updated in version 0.9 to return python strings instead of bytes and Pandas dataframes instead of Numpy arrays.\n",
      "  warn(\"Fetchers from the nilearn.datasets module will be \"\n"
     ]
    }
   ],
   "source": [
    "from skimage import io\n",
    "import napari\n",
    "from brainlit.preprocessing.image_process import compute_frags\n",
    "import h5py\n",
    "from skimage import measure\n",
    "import numpy as np"
   ]
  },
  {
   "cell_type": "code",
   "execution_count": 2,
   "metadata": {},
   "outputs": [],
   "source": [
    "im = io.imread(\"/Users/thomasathey/Documents/mimlab/mouselight/input/images/first10_quantitative/images/2018-08-01_0_first10_quantitative.tif\")\n",
    "scale = [0.3, 0.3, 1]\n",
    "soma_coords = [[110, 70, 123]]\n",
    "threshold = 0.9\n",
    "\n",
    "pred_path =\"/Users/thomasathey/Documents/mimlab/mouselight/input/images/first10_quantitative/2018-08-01_0_first10_quantitative_Probabilities.h5\"\n",
    "f = h5py.File(pred_path, 'r')\n",
    "pred = f.get('exported_data')\n",
    "pred = pred[:,:,:,1]\n",
    "\n",
    "\n",
    "mask = pred > threshold\n",
    "labels = measure.label(mask)"
   ]
  },
  {
   "cell_type": "code",
   "execution_count": 8,
   "metadata": {},
   "outputs": [
    {
     "name": "stderr",
     "output_type": "stream",
     "text": [
      "/Users/thomasathey/Documents/mimlab/mouselight/docs_env/lib/python3.8/site-packages/nilearn/datasets/__init__.py:86: FutureWarning: Fetchers from the nilearn.datasets module will be updated in version 0.9 to return python strings instead of bytes and Pandas dataframes instead of Numpy arrays.\n",
      "  warn(\"Fetchers from the nilearn.datasets module will be \"\n",
      "removing somas: 100%|██████████| 1/1 [00:00<00:00,  1.46it/s]\n",
      "Adding points...: 100%|██████████| 28798/28798 [00:00<00:00, 35223.47it/s]\n",
      "Splitting Fragments: 100%|██████████| 38/38 [00:00<00:00, 330.92it/s]\n",
      "Split fractured components: 100%|██████████| 162/162 [00:00<00:00, 6928.99it/s]\n",
      "remove small fragments: 100%|██████████| 165/165 [00:00<00:00, 588.47it/s]\n",
      "/Users/thomasathey/Documents/mimlab/mouselight/docs_env/lib/python3.8/site-packages/nilearn/datasets/__init__.py:86: FutureWarning: Fetchers from the nilearn.datasets module will be updated in version 0.9 to return python strings instead of bytes and Pandas dataframes instead of Numpy arrays.\n",
      "  warn(\"Fetchers from the nilearn.datasets module will be \"\n",
      "removing somas: 0it [00:00, ?it/s]\n",
      "Adding points...: 100%|██████████| 18212/18212 [00:00<00:00, 19902.85it/s]\n",
      "Splitting Fragments: 100%|██████████| 56/56 [00:00<00:00, 222.68it/s]\n",
      "Split fractured components: 100%|██████████| 211/211 [00:00<00:00, 5856.42it/s]\n",
      "remove small fragments: 100%|██████████| 214/214 [00:00<00:00, 544.05it/s]\n",
      "/Users/thomasathey/Documents/mimlab/mouselight/docs_env/lib/python3.8/site-packages/nilearn/datasets/__init__.py:86: FutureWarning: Fetchers from the nilearn.datasets module will be updated in version 0.9 to return python strings instead of bytes and Pandas dataframes instead of Numpy arrays.\n",
      "  warn(\"Fetchers from the nilearn.datasets module will be \"\n",
      "removing somas: 0it [00:00, ?it/s]\n",
      "Adding points...: 100%|██████████| 25163/25163 [00:01<00:00, 20715.37it/s]\n",
      "Splitting Fragments: 100%|██████████| 71/71 [00:00<00:00, 191.86it/s]\n",
      "Split fractured components: 100%|██████████| 298/298 [00:00<00:00, 7003.51it/s]\n",
      "remove small fragments: 100%|██████████| 304/304 [00:00<00:00, 482.27it/s]\n",
      "/Users/thomasathey/Documents/mimlab/mouselight/docs_env/lib/python3.8/site-packages/nilearn/datasets/__init__.py:86: FutureWarning: Fetchers from the nilearn.datasets module will be updated in version 0.9 to return python strings instead of bytes and Pandas dataframes instead of Numpy arrays.\n",
      "  warn(\"Fetchers from the nilearn.datasets module will be \"\n",
      "removing somas: 0it [00:00, ?it/s]\n",
      "Adding points...: 100%|██████████| 19467/19467 [00:00<00:00, 26827.35it/s]\n",
      "Splitting Fragments: 100%|██████████| 41/41 [00:00<00:00, 190.98it/s]\n",
      "Split fractured components: 100%|██████████| 182/182 [00:00<00:00, 5141.81it/s]\n",
      "remove small fragments: 100%|██████████| 184/184 [00:00<00:00, 491.80it/s]\n",
      "/Users/thomasathey/Documents/mimlab/mouselight/docs_env/lib/python3.8/site-packages/nilearn/datasets/__init__.py:86: FutureWarning: Fetchers from the nilearn.datasets module will be updated in version 0.9 to return python strings instead of bytes and Pandas dataframes instead of Numpy arrays.\n",
      "  warn(\"Fetchers from the nilearn.datasets module will be \"\n",
      "removing somas: 0it [00:00, ?it/s]\n",
      "Adding points...: 100%|██████████| 957/957 [00:00<00:00, 329201.09it/s]\n",
      "Splitting Fragments: 100%|██████████| 3/3 [00:00<00:00, 85598.04it/s]\n",
      "Split fractured components: 100%|██████████| 11/11 [00:00<00:00, 5271.03it/s]\n",
      "remove small fragments: 100%|██████████| 11/11 [00:00<00:00, 5702.30it/s]\n",
      "/Users/thomasathey/Documents/mimlab/mouselight/docs_env/lib/python3.8/site-packages/nilearn/datasets/__init__.py:86: FutureWarning: Fetchers from the nilearn.datasets module will be updated in version 0.9 to return python strings instead of bytes and Pandas dataframes instead of Numpy arrays.\n",
      "  warn(\"Fetchers from the nilearn.datasets module will be \"\n",
      "removing somas: 0it [00:00, ?it/s]\n",
      "Adding points...: 100%|██████████| 62380/62380 [00:01<00:00, 40073.75it/s]\n",
      "Splitting Fragments: 100%|██████████| 38/38 [00:00<00:00, 155.84it/s]\n",
      "Split fractured components: 100%|██████████| 217/217 [00:00<00:00, 3750.42it/s]\n",
      "remove small fragments: 100%|██████████| 235/235 [00:00<00:00, 789.46it/s]\n",
      "/Users/thomasathey/Documents/mimlab/mouselight/docs_env/lib/python3.8/site-packages/nilearn/datasets/__init__.py:86: FutureWarning: Fetchers from the nilearn.datasets module will be updated in version 0.9 to return python strings instead of bytes and Pandas dataframes instead of Numpy arrays.\n",
      "  warn(\"Fetchers from the nilearn.datasets module will be \"\n",
      "removing somas: 0it [00:00, ?it/s]\n",
      "Adding points...: 100%|██████████| 105629/105629 [00:01<00:00, 53462.49it/s]\n",
      "Splitting Fragments: 100%|██████████| 62/62 [00:00<00:00, 148.24it/s]\n",
      "Split fractured components: 100%|██████████| 320/320 [00:00<00:00, 5212.82it/s]\n",
      "remove small fragments: 100%|██████████| 347/347 [00:00<00:00, 733.22it/s]\n",
      "/Users/thomasathey/Documents/mimlab/mouselight/docs_env/lib/python3.8/site-packages/nilearn/datasets/__init__.py:86: FutureWarning: Fetchers from the nilearn.datasets module will be updated in version 0.9 to return python strings instead of bytes and Pandas dataframes instead of Numpy arrays.\n",
      "  warn(\"Fetchers from the nilearn.datasets module will be \"\n",
      "removing somas: 0it [00:00, ?it/s]\n",
      "Adding points...: 100%|██████████| 89502/89502 [00:02<00:00, 39963.90it/s]\n",
      "Splitting Fragments: 100%|██████████| 86/86 [00:00<00:00, 207.30it/s]\n",
      "Split fractured components: 100%|██████████| 395/395 [00:00<00:00, 5406.39it/s]\n",
      "remove small fragments: 100%|██████████| 431/431 [00:00<00:00, 563.69it/s]\n",
      "/Users/thomasathey/Documents/mimlab/mouselight/docs_env/lib/python3.8/site-packages/nilearn/datasets/__init__.py:86: FutureWarning: Fetchers from the nilearn.datasets module will be updated in version 0.9 to return python strings instead of bytes and Pandas dataframes instead of Numpy arrays.\n",
      "  warn(\"Fetchers from the nilearn.datasets module will be \"\n",
      "removing somas: 0it [00:00, ?it/s]\n",
      "Adding points...: 100%|██████████| 43832/43832 [00:01<00:00, 38644.66it/s]\n",
      "Splitting Fragments: 100%|██████████| 62/62 [00:00<00:00, 281.89it/s]\n",
      "Split fractured components: 100%|██████████| 225/225 [00:00<00:00, 5409.96it/s]\n",
      "remove small fragments: 100%|██████████| 233/233 [00:00<00:00, 654.74it/s]\n",
      "/Users/thomasathey/Documents/mimlab/mouselight/docs_env/lib/python3.8/site-packages/nilearn/datasets/__init__.py:86: FutureWarning: Fetchers from the nilearn.datasets module will be updated in version 0.9 to return python strings instead of bytes and Pandas dataframes instead of Numpy arrays.\n",
      "  warn(\"Fetchers from the nilearn.datasets module will be \"\n",
      "removing somas: 0it [00:00, ?it/s]\n",
      "Adding points...: 100%|██████████| 1271/1271 [00:00<00:00, 177167.18it/s]\n",
      "Splitting Fragments: 100%|██████████| 7/7 [00:00<00:00, 3295.56it/s]\n",
      "Split fractured components: 100%|██████████| 16/16 [00:00<00:00, 6228.20it/s]\n",
      "remove small fragments: 100%|██████████| 16/16 [00:00<00:00, 8371.86it/s]\n",
      "removing somas: 0it [00:00, ?it/s]\n",
      "Adding points...: 100%|██████████| 34217/34217 [00:00<00:00, 70054.76it/s]\n",
      "Splitting Fragments: 100%|██████████| 22/22 [00:00<00:00, 342.65it/s]\n",
      "Split fractured components: 100%|██████████| 127/127 [00:00<00:00, 6298.65it/s]\n",
      "remove small fragments: 100%|██████████| 142/142 [00:00<00:00, 1548.42it/s]\n",
      "removing somas: 0it [00:00, ?it/s]\n",
      "Adding points...: 100%|██████████| 57476/57476 [00:00<00:00, 75071.58it/s]\n",
      "Splitting Fragments: 100%|██████████| 33/33 [00:00<00:00, 334.52it/s]\n",
      "Split fractured components: 100%|██████████| 183/183 [00:00<00:00, 5868.76it/s]\n",
      "remove small fragments: 100%|██████████| 215/215 [00:00<00:00, 1519.81it/s]\n",
      "removing somas: 0it [00:00, ?it/s]\n",
      "Adding points...: 100%|██████████| 54361/54361 [00:00<00:00, 82291.60it/s]\n",
      "Splitting Fragments: 100%|██████████| 30/30 [00:00<00:00, 265.09it/s]\n",
      "Split fractured components: 100%|██████████| 160/160 [00:00<00:00, 5893.83it/s]\n",
      "remove small fragments: 100%|██████████| 185/185 [00:00<00:00, 1435.49it/s]\n",
      "removing somas: 0it [00:00, ?it/s]\n",
      "Adding points...: 100%|██████████| 12980/12980 [00:00<00:00, 53427.74it/s]\n",
      "Splitting Fragments: 100%|██████████| 21/21 [00:00<00:00, 392.17it/s]\n",
      "Split fractured components: 100%|██████████| 77/77 [00:00<00:00, 5861.69it/s]\n",
      "remove small fragments: 100%|██████████| 80/80 [00:00<00:00, 1331.47it/s]\n",
      "removing somas: 0it [00:00, ?it/s]\n",
      "Adding points...: 100%|██████████| 246/246 [00:00<00:00, 126368.50it/s]\n",
      "Splitting Fragments: 100%|██████████| 2/2 [00:00<00:00, 1243.86it/s]\n",
      "Split fractured components: 100%|██████████| 7/7 [00:00<00:00, 5849.80it/s]\n",
      "remove small fragments: 100%|██████████| 7/7 [00:00<00:00, 8997.89it/s]\n"
     ]
    }
   ],
   "source": [
    "new_labels = compute_frags(soma_coords=soma_coords, labels=labels, im_processed = pred, threshold = threshold, res=scale, chunk_size=[200,200,200], ncpu=10)"
   ]
  },
  {
   "cell_type": "code",
   "execution_count": 9,
   "metadata": {},
   "outputs": [
    {
     "data": {
      "text/plain": [
       "<Labels layer 'labels [1]' at 0x1672ee610>"
      ]
     },
     "execution_count": 9,
     "metadata": {},
     "output_type": "execute_result"
    }
   ],
   "source": [
    "viewer = napari.Viewer(ndisplay=3)\n",
    "viewer.add_image(im, name=\"image\", scale=scale)\n",
    "viewer.add_labels(labels, name=\"labels\", scale=scale)\n",
    "viewer.add_labels(new_labels, name=\"labels\", scale=scale)"
   ]
  },
  {
   "cell_type": "code",
   "execution_count": null,
   "metadata": {},
   "outputs": [],
   "source": []
  }
 ],
 "metadata": {
  "interpreter": {
   "hash": "5dc00d68ff54f8375e99934614da4863299fb9e10af4294c095b7f517546ff26"
  },
  "kernelspec": {
   "display_name": "Python 3.8.10 64-bit ('docs_env': venv)",
   "name": "python3"
  },
  "language_info": {
   "codemirror_mode": {
    "name": "ipython",
    "version": 3
   },
   "file_extension": ".py",
   "mimetype": "text/x-python",
   "name": "python",
   "nbconvert_exporter": "python",
   "pygments_lexer": "ipython3",
   "version": "3.8.10"
  },
  "orig_nbformat": 4
 },
 "nbformat": 4,
 "nbformat_minor": 2
}

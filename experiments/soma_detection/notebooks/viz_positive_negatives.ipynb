{
 "cells": [
  {
   "cell_type": "code",
   "execution_count": 6,
   "metadata": {},
   "outputs": [
    {
     "data": {
      "text/html": [
       "<div>\n",
       "<style scoped>\n",
       "    .dataframe tbody tr th:only-of-type {\n",
       "        vertical-align: middle;\n",
       "    }\n",
       "\n",
       "    .dataframe tbody tr th {\n",
       "        vertical-align: top;\n",
       "    }\n",
       "\n",
       "    .dataframe thead th {\n",
       "        text-align: right;\n",
       "    }\n",
       "</style>\n",
       "<table border=\"1\" class=\"dataframe\">\n",
       "  <thead>\n",
       "    <tr style=\"text-align: right;\">\n",
       "      <th></th>\n",
       "      <th>Unnamed: 0</th>\n",
       "      <th>brain</th>\n",
       "      <th>seg_id</th>\n",
       "      <th>channel</th>\n",
       "      <th>label</th>\n",
       "      <th>filepath</th>\n",
       "      <th>intensity</th>\n",
       "    </tr>\n",
       "  </thead>\n",
       "  <tbody>\n",
       "    <tr>\n",
       "      <th>0</th>\n",
       "      <td>0</td>\n",
       "      <td>brain1</td>\n",
       "      <td>101</td>\n",
       "      <td>image</td>\n",
       "      <td>True</td>\n",
       "      <td>soma-detection/brain1_101.npy</td>\n",
       "      <td>324289481247</td>\n",
       "    </tr>\n",
       "    <tr>\n",
       "      <th>1</th>\n",
       "      <td>1</td>\n",
       "      <td>brain1</td>\n",
       "      <td>101</td>\n",
       "      <td>image</td>\n",
       "      <td>False</td>\n",
       "      <td>soma-detection/brain1_101_neighbor.npy</td>\n",
       "      <td>331446592497</td>\n",
       "    </tr>\n",
       "    <tr>\n",
       "      <th>2</th>\n",
       "      <td>2</td>\n",
       "      <td>brain1</td>\n",
       "      <td>103</td>\n",
       "      <td>image</td>\n",
       "      <td>True</td>\n",
       "      <td>soma-detection/brain1_103.npy</td>\n",
       "      <td>328899402534</td>\n",
       "    </tr>\n",
       "    <tr>\n",
       "      <th>3</th>\n",
       "      <td>3</td>\n",
       "      <td>brain1</td>\n",
       "      <td>103</td>\n",
       "      <td>image</td>\n",
       "      <td>False</td>\n",
       "      <td>soma-detection/brain1_103_neighbor.npy</td>\n",
       "      <td>327208853791</td>\n",
       "    </tr>\n",
       "    <tr>\n",
       "      <th>4</th>\n",
       "      <td>4</td>\n",
       "      <td>brain1</td>\n",
       "      <td>106</td>\n",
       "      <td>image</td>\n",
       "      <td>True</td>\n",
       "      <td>soma-detection/brain1_106.npy</td>\n",
       "      <td>327462922519</td>\n",
       "    </tr>\n",
       "  </tbody>\n",
       "</table>\n",
       "</div>"
      ],
      "text/plain": [
       "   Unnamed: 0   brain  seg_id channel  label  \\\n",
       "0           0  brain1     101   image   True   \n",
       "1           1  brain1     101   image  False   \n",
       "2           2  brain1     103   image   True   \n",
       "3           3  brain1     103   image  False   \n",
       "4           4  brain1     106   image   True   \n",
       "\n",
       "                                 filepath     intensity  \n",
       "0           soma-detection/brain1_101.npy  324289481247  \n",
       "1  soma-detection/brain1_101_neighbor.npy  331446592497  \n",
       "2           soma-detection/brain1_103.npy  328899402534  \n",
       "3  soma-detection/brain1_103_neighbor.npy  327208853791  \n",
       "4           soma-detection/brain1_106.npy  327462922519  "
      ]
     },
     "execution_count": 6,
     "metadata": {},
     "output_type": "execute_result"
    }
   ],
   "source": [
    "import os\n",
    "import pandas as pd\n",
    "from pathlib import Path\n",
    "import seaborn as sns\n",
    "import matplotlib.pyplot as plt\n",
    "\n",
    "root_dir = Path(os.path.abspath('')).parents[1]\n",
    "experiment_dir = os.path.join(root_dir, \"soma_detection\")\n",
    "data_dir = os.path.join(experiment_dir, \"data\")\n",
    "\n",
    "df = pd.read_csv(os.path.join(data_dir, \"dataset.csv\"))\n",
    "df.head()"
   ]
  },
  {
   "cell_type": "code",
   "execution_count": 7,
   "metadata": {},
   "outputs": [
    {
     "data": {
      "image/png": "[encoded data removed]",
      "text/plain": [
       "<Figure size 432x288 with 1 Axes>"
      ]
     },
     "metadata": {},
     "output_type": "display_data"
    }
   ],
   "source": [
    "sns.set_theme()\n",
    "sns.set_context(\"paper\")\n",
    "\n",
    "g = sns.kdeplot(data=df, x=\"intensity\", hue=\"label\")"
   ]
  },
  {
   "cell_type": "code",
   "execution_count": null,
   "metadata": {},
   "outputs": [],
   "source": []
  }
 ],
 "metadata": {
  "kernelspec": {
   "display_name": "Python 3",
   "language": "python",
   "name": "python3"
  },
  "language_info": {
   "codemirror_mode": {
    "name": "ipython",
    "version": 3
   },
   "file_extension": ".py",
   "mimetype": "text/x-python",
   "name": "python",
   "nbconvert_exporter": "python",
   "pygments_lexer": "ipython3",
   "version": "3.8.5"
  }
 },
 "nbformat": 4,
 "nbformat_minor": 4
}

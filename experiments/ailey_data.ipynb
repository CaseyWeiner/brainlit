{
 "cells": [
  {
   "cell_type": "code",
   "execution_count": 30,
   "metadata": {},
   "outputs": [],
   "source": [
    "from cloudvolume import CloudVolume\n",
    "from skimage.transform import downscale_local_mean\n",
    "import napari\n",
    "from skimage import io\n",
    "import random\n",
    "import h5py\n",
    "from skimage import measure\n",
    "from brainlit.preprocessing import removeSmallCCs\n",
    "import numpy as np \n",
    "import matplotlib.pyplot as plt \n",
    "%gui qt5"
   ]
  },
  {
   "cell_type": "markdown",
   "metadata": {},
   "source": [
    "# Download benchmark data"
   ]
  },
  {
   "cell_type": "code",
   "execution_count": 5,
   "metadata": {},
   "outputs": [
    {
     "output_type": "stream",
     "name": "stdout",
     "text": [
      "[ 7403 10240  4800     1]\n",
      "[ 7403 10240  4800     1]\n"
     ]
    }
   ],
   "source": [
    "\n",
    "dir = \"precomputed://https://dlab-colm.neurodata.io/2021_04_08/gad2cre_tph2flp_con_fon_8291/561\"\n",
    "mip = 0\n",
    "\n",
    "vol_bg = CloudVolume(dir, parallel=1, mip=mip, fill_missing=True)\n",
    "shape = vol_bg.shape\n",
    "print(shape)\n",
    "\n",
    "dir = \"precomputed://https://dlab-colm.neurodata.io/2021_04_08/gad2cre_tph2flp_con_fon_8291/642\"\n",
    "mip = 0\n",
    "\n",
    "vol_fg = CloudVolume(dir, parallel=1, mip=mip, fill_missing=True)\n",
    "shape = vol_fg.shape\n",
    "print(shape)"
   ]
  },
  {
   "cell_type": "code",
   "execution_count": 6,
   "metadata": {},
   "outputs": [],
   "source": [
    "centers_train = [[2477, 3638, 2409], [3605, 2873, 2405], [4939, 5186, 2398], [4538, 5148, 2398], [4618, 3225, 2388], [3223, 5206, 3550], [1953, 2102, 3577], [2395, 5004, 3584], [941, 3711, 708], [2030, 2164, 701], [3283, 3406, 1255], [1531, 2220, 1242], [2569, 6420, 2924], [2282, 8206, 2924], [4424, 5689, 2896], [3269, 3987, 2896], [2817, 6831, 4565], [3308, 3276, 4124], [4560, 6354, 4133], [4293, 2411, 2297]]\n",
    "centers_val = [[5701, 3357, 4137], [3610, 2346, 4137], [2564, 4086, 2829], [1282, 2182, 2829], [3960, 2836, 1546], [2347, 4866, 1545], [1680, 4284, 806], [3223, 3294, 2514], [3564, 3847, 2516], [2620, 7237, 4610]]"
   ]
  },
  {
   "cell_type": "code",
   "execution_count": 7,
   "metadata": {},
   "outputs": [
    {
     "output_type": "stream",
     "name": "stderr",
     "text": [
      "Downloading: 390it [00:06, 64.52it/s] \n",
      "Downloading: 386it [00:06, 64.16it/s] \n",
      "Downloading: 784it [00:11, 67.37it/s] \n",
      "Downloading: 790it [00:13, 59.30it/s] \n",
      "Downloading: 790it [00:11, 68.40it/s] \n",
      "Downloading: 782it [00:11, 68.58it/s] \n",
      "Downloading: 788it [00:13, 57.69it/s] \n",
      "Downloading: 786it [00:11, 70.04it/s] \n",
      "Downloading: 786it [00:11, 69.29it/s] \n",
      "Downloading: 790it [00:11, 67.85it/s] \n",
      "Downloading: 780it [00:11, 68.16it/s] \n",
      "Downloading: 786it [00:11, 67.59it/s] \n",
      "Downloading: 386it [00:05, 66.10it/s] \n",
      "Downloading: 392it [00:07, 55.09it/s]\n",
      "Downloading: 788it [00:11, 68.43it/s] \n",
      "Downloading: 790it [00:11, 68.40it/s] \n",
      "Downloading: 790it [00:11, 68.63it/s] \n",
      "Downloading: 790it [00:12, 65.80it/s] \n",
      "Downloading: 196it [00:03, 62.06it/s] \n",
      "Downloading: 186it [00:03, 60.61it/s]\n"
     ]
    }
   ],
   "source": [
    "for i, center in enumerate(centers_val):\n",
    "    image_fg = vol_fg[center[0]-49:center[0]+50,center[1]-49:center[1]+50, center[2]-49:center[2]+50]\n",
    "    image_fg = image_fg[:,:,:,0]\n",
    "\n",
    "    image_bg = vol_bg[center[0]-49:center[0]+50,center[1]-49:center[1]+50, center[2]-49:center[2]+50]\n",
    "    image_bg = image_bg[:,:,:,0]\n",
    "    image_2channel = np.stack([image_bg, image_fg], axis=0)\n",
    "    \n",
    "    fname = \"/Users/thomasathey/Documents/mimlab/mouselight/ailey/benchmark_formal/val_\" + str(i) + \".h5\"\n",
    "    with h5py.File(fname, \"w\") as f:\n",
    "        dset = f.create_dataset(\"image_2channel\", data=image_2channel)\n",
    "    "
   ]
  },
  {
   "source": [
    "## View data"
   ],
   "cell_type": "markdown",
   "metadata": {}
  },
  {
   "cell_type": "code",
   "execution_count": 20,
   "metadata": {},
   "outputs": [
    {
     "output_type": "stream",
     "name": "stderr",
     "text": [
      "Downloading: 176it [00:01, 116.43it/s]\n",
      "Downloading: 172it [00:01, 91.34it/s]\n"
     ]
    },
    {
     "output_type": "execute_result",
     "data": {
      "text/plain": [
       "<Image layer 'image_bg' at 0x169753520>"
      ]
     },
     "metadata": {},
     "execution_count": 20
    }
   ],
   "source": [
    "center = centers_val[9]\n",
    "\n",
    "image_fg = vol_fg[center[0]-49:center[0]+50,center[1]-49:center[1]+50, center[2]-49:center[2]+50]\n",
    "image_fg = image_fg[:,:,:,0]\n",
    "\n",
    "image_bg = vol_bg[center[0]-49:center[0]+50,center[1]-49:center[1]+50, center[2]-49:center[2]+50]\n",
    "image_bg = image_bg[:,:,:,0]\n",
    "\n",
    "viewer = napari.Viewer(ndisplay=3)\n",
    "viewer.add_image(image_fg)\n",
    "viewer.add_image(image_bg)"
   ]
  },
  {
   "source": [
    "## Check training results"
   ],
   "cell_type": "markdown",
   "metadata": {}
  },
  {
   "cell_type": "code",
   "execution_count": 25,
   "metadata": {},
   "outputs": [
    {
     "output_type": "stream",
     "name": "stdout",
     "text": [
      "Example 0: precision: 1.0, recall: 1.0\n",
      "Example 1: 0 positive labels, false positive rate is: 0.0\n",
      "Example 2: 0 positive labels, false positive rate is: 0.0\n",
      "Example 3: 0 positive labels, false positive rate is: 0.0\n",
      "Example 4: 0 positive labels, false positive rate is: 0.0\n",
      "Example 5: 0 positive labels, false positive rate is: 0.0\n",
      "Example 6: precision: 1.0, recall: 1.0\n",
      "Example 7: precision: 1.0, recall: 1.0\n",
      "Example 8: 0 positive labels, false positive rate is: 0.0\n",
      "Example 9: 0 positive labels, false positive rate is: 0.0\n",
      "Example 10: precision: 1.0, recall: 1.0\n",
      "Example 11: 0 positive labels, false positive rate is: 0.0\n",
      "Example 12: precision: 1.0, recall: 1.0\n",
      "Example 13: 0 positive labels, false positive rate is: 0.0\n",
      "Example 14: 0 positive labels, false positive rate is: 0.0\n",
      "Example 15: 0 positive labels, false positive rate is: 0.0\n",
      "Example 16: 0 positive labels, false positive rate is: 0.0\n",
      "Example 17: 0 positive labels, false positive rate is: 0.0\n",
      "Example 18: 0 positive labels, false positive rate is: 0.0\n",
      "Example 19: precision: 1.0, recall: 1.0\n",
      "Total precision: 1.0 total recall: 1.0 with 1788 total positive voxels\n"
     ]
    }
   ],
   "source": [
    "true_pos_total = 0\n",
    "false_pos_total = 0\n",
    "true_labels_total = 0\n",
    "\n",
    "for i in range(20):\n",
    "    fname = \"/Users/thomasathey/Documents/mimlab/mouselight/ailey/benchmark_formal/train_\" + str(i) + \".h5\"\n",
    "    f = h5py.File(fname, 'r')\n",
    "    im = f.get('image_2channel')\n",
    "    im_bg = im[0,:,:,:]\n",
    "    im_fg = im[1,:,:,:]\n",
    "\n",
    "    fname = \"/Users/thomasathey/Documents/mimlab/mouselight/ailey/benchmark_formal/train_\" + str(i) + \"-image_2channel_Labels.h5\"\n",
    "    f = h5py.File(fname, 'r')\n",
    "    gt = f.get('exported_data')\n",
    "    gt = gt[0,:,:,:]\n",
    "    pos_labels = gt == 2\n",
    "    num_pos_labels = np.sum(pos_labels)\n",
    "\n",
    "    fname = \"/Users/thomasathey/Documents/mimlab/mouselight/ailey/benchmark_formal/train_\" + str(i) + \"-image_2channel_Probabilities.h5\"\n",
    "    f = h5py.File(fname, 'r')\n",
    "    seg = f.get('exported_data')\n",
    "    seg = seg[1,:,:,:]\n",
    "    mask = seg > 0.5\n",
    "\n",
    "    true_pos = np.sum(np.logical_and(mask, pos_labels))\n",
    "    true_pos_total += true_pos\n",
    "    false_pos = np.sum(np.logical_and(mask, gt == 1))\n",
    "    false_pos_total += false_pos\n",
    "    true_labels = np.sum(pos_labels)\n",
    "    true_labels_total += true_labels\n",
    "    \n",
    "    if num_pos_labels > 0:\n",
    "        precision = true_pos/(true_pos + false_pos)\n",
    "        recall = true_pos/true_labels\n",
    "        print(f\"Example {i}: precision: {precision}, recall: {recall}\")\n",
    "    else:\n",
    "        print(f\"Example {i}: 0 positive labels, false positive rate is: {false_pos/np.sum(gt == 1)}\")\n",
    "\n",
    "    '''\n",
    "    viewer = napari.Viewer(ndisplay=3)\n",
    "    viewer.add_image(im_bg)\n",
    "    viewer.add_image(im_fg)\n",
    "    viewer.add_labels(gt)\n",
    "    viewer.add_labels(mask)\n",
    "    '''\n",
    "print(f\"Total precision: {true_pos_total/(true_pos_total + false_pos_total)} total recall: {true_pos_total/true_labels_total} with {true_labels_total} total positive voxels\")"
   ]
  },
  {
   "source": [
    "## Check Val results"
   ],
   "cell_type": "markdown",
   "metadata": {}
  },
  {
   "cell_type": "code",
   "execution_count": 38,
   "metadata": {},
   "outputs": [
    {
     "output_type": "stream",
     "name": "stdout",
     "text": [
      "Threshold: 0.1 ----- Total precision: 0.46122448979591835 total recall: 0.8909329829172142 with 761 total positive voxels. F-score: 0.6077991931869117\n",
      "Threshold: 0.12000000000000001 ----- Total precision: 0.4693948933193424 total recall: 0.8817345597897503 with 1522 total positive voxels. F-score: 0.612645514722666\n",
      "Threshold: 0.14 ----- Total precision: 0.47701149425287354 total recall: 0.8725361366622865 with 2283 total positive voxels. F-score: 0.6168137482582443\n",
      "Threshold: 0.16000000000000003 ----- Total precision: 0.4844640558926273 total recall: 0.8656373193166885 with 3044 total positive voxels. F-score: 0.62124248496994\n",
      "Threshold: 0.18000000000000002 ----- Total precision: 0.49092273068267067 total recall: 0.8599211563731932 with 3805 total positive voxels. F-score: 0.6250238777459408\n",
      "Threshold: 0.2 ----- Total precision: 0.49637081370177 total recall: 0.8537012702584319 with 4566 total positive voxels. F-score: 0.6277478057814639\n",
      "Threshold: 0.22000000000000003 ----- Total precision: 0.5008319467554077 total recall: 0.8475689881734559 with 5327 total positive voxels. F-score: 0.6296192999581648\n",
      "Threshold: 0.24000000000000002 ----- Total precision: 0.5056711707268962 total recall: 0.8421484888304862 with 6088 total positive voxels. F-score: 0.6319097799963025\n",
      "Threshold: 0.26 ----- Total precision: 0.5105492744591827 total recall: 0.8373485180318294 with 6849 total positive voxels. F-score: 0.6343324853445415\n",
      "Threshold: 0.28 ----- Total precision: 0.5147106631989596 total recall: 0.8321944809461235 with 7610 total positive voxels. F-score: 0.6360349502862307\n",
      "Threshold: 0.30000000000000004 ----- Total precision: 0.5180551393467187 total recall: 0.8260661808625015 with 8371 total positive voxels. F-score: 0.6367696486946913\n",
      "Threshold: 0.32000000000000006 ----- Total precision: 0.5209972839334216 total recall: 0.8192071835304424 with 9132 total positive voxels. F-score: 0.6369247797028649\n",
      "Threshold: 0.3400000000000001 ----- Total precision: 0.5236697965571205 total recall: 0.8117861113918933 with 9893 total positive voxels. F-score: 0.6366483015577312\n",
      "Threshold: 0.3600000000000001 ----- Total precision: 0.5257630657741202 total recall: 0.8035479632063075 with 10654 total positive voxels. F-score: 0.6356312878197276\n",
      "Threshold: 0.38 ----- Total precision: 0.5279344224173014 total recall: 0.7955321944809461 with 11415 total positive voxels. F-score: 0.6346798993570031\n",
      "Threshold: 0.4 ----- Total precision: 0.5300199026979213 total recall: 0.787368593955322 with 12176 total positive voxels. F-score: 0.6335580227332804\n",
      "Threshold: 0.42000000000000004 ----- Total precision: 0.532119292689364 total recall: 0.7792378449408672 with 12937 total positive voxels. F-score: 0.6323944545511574\n",
      "Threshold: 0.44000000000000006 ----- Total precision: 0.5340949299903958 total recall: 0.771353482260184 with 13698 total positive voxels. F-score: 0.6311639437292793\n",
      "Threshold: 0.4600000000000001 ----- Total precision: 0.5359864110652754 total recall: 0.7638149249602324 with 14459 total positive voxels. F-score: 0.6299338352726443\n",
      "Threshold: 0.4800000000000001 ----- Total precision: 0.5377609639904722 total recall: 0.7565045992115638 with 15220 total positive voxels. F-score: 0.6286478665611096\n",
      "Threshold: 0.5000000000000001 ----- Total precision: 0.5392342342342342 total recall: 0.7490770289719041 with 15981 total positive voxels. F-score: 0.627065818077054\n",
      "Threshold: 0.5200000000000001 ----- Total precision: 0.5406852714528277 total recall: 0.7417871222076216 with 16742 total positive voxels. F-score: 0.6254690136234292\n",
      "Threshold: 0.54 ----- Total precision: 0.5419248766915391 total recall: 0.7344455236245215 with 17503 total positive voxels. F-score: 0.6236658257325829\n",
      "Threshold: 0.56 ----- Total precision: 0.5428922069952956 total recall: 0.7266206745510293 with 18264 total positive voxels. F-score: 0.621461518649465\n",
      "Threshold: 0.5800000000000001 ----- Total precision: 0.5437947494033413 total recall: 0.718580814717477 with 19025 total positive voxels. F-score: 0.6190875127363298\n",
      "Threshold: 0.6000000000000001 ----- Total precision: 0.5443592127692546 total recall: 0.710148589912059 with 19786 total positive voxels. F-score: 0.6162989604807229\n",
      "Threshold: 0.6200000000000001 ----- Total precision: 0.5447950122803703 total recall: 0.7017082785808147 with 20547 total positive voxels. F-score: 0.6133753084318897\n",
      "Threshold: 0.6400000000000001 ----- Total precision: 0.544968077646972 total recall: 0.6930260934860146 with 21308 total positive voxels. F-score: 0.6101435802086562\n",
      "Threshold: 0.66 ----- Total precision: 0.5450411433521005 total recall: 0.6843083057682723 with 22069 total positive voxels. F-score: 0.6067862667497037\n",
      "Threshold: 0.68 ----- Total precision: 0.5449855113435579 total recall: 0.6755146736749891 with 22830 total positive voxels. F-score: 0.6032702237521516\n",
      "Threshold: 0.7000000000000001 ----- Total precision: 0.5447489691971865 total recall: 0.6664405917510915 with 23591 total positive voxels. F-score: 0.5994814306413483\n",
      "Threshold: 0.7200000000000001 ----- Total precision: 0.544483743708339 total recall: 0.6574408672798949 with 24352 total positive voxels. F-score: 0.5956544385742987\n",
      "Threshold: 0.7400000000000001 ----- Total precision: 0.5442670052118135 total recall: 0.6487078405606658 with 25113 total positive voxels. F-score: 0.5919157053320011\n",
      "Threshold: 0.7600000000000001 ----- Total precision: 0.5440147208622219 total recall: 0.6398701399087887 with 25874 total positive voxels. F-score: 0.588061875077699\n",
      "Threshold: 0.7800000000000001 ----- Total precision: 0.5437841684728107 total recall: 0.6311244602966022 with 26635 total positive voxels. F-score: 0.5842079655244318\n",
      "Threshold: 0.8000000000000002 ----- Total precision: 0.5435939940705793 total recall: 0.6224266316250547 with 27396 total positive voxels. F-score: 0.5803454437164979\n",
      "Threshold: 0.8200000000000002 ----- Total precision: 0.5435473217374894 total recall: 0.6137372589409383 with 28157 total positive voxels. F-score: 0.57651376146789\n",
      "Threshold: 0.8400000000000001 ----- Total precision: 0.543565371354021 total recall: 0.6051248357424441 with 28918 total positive voxels. F-score: 0.5726955867192486\n",
      "Threshold: 0.8600000000000001 ----- Total precision: 0.5436317858020142 total recall: 0.5965497489807609 with 29679 total positive voxels. F-score: 0.5688627564380613\n",
      "Threshold: 0.8800000000000001 ----- Total precision: 0.5437636761487965 total recall: 0.5877792378449409 with 30440 total positive voxels. F-score: 0.564915382672392\n",
      "Threshold: 0.9000000000000001 ----- Total precision: 0.5439325504366155 total recall: 0.5789558026986314 with 31201 total positive voxels. F-score: 0.5608979832637283\n",
      "Threshold: 0.9200000000000002 ----- Total precision: 0.5441501763615711 total recall: 0.5695513422188849 with 31962 total positive voxels. F-score: 0.5565610859728507\n",
      "Threshold: 0.9400000000000002 ----- Total precision: 0.5446298444424615 total recall: 0.5595758335115973 with 32723 total positive voxels. F-score: 0.5520016881707465\n",
      "Threshold: 0.9600000000000002 ----- Total precision: 0.5451389919007921 total recall: 0.5487695615816509 with 33484 total positive voxels. F-score: 0.5469482519980354\n",
      "Threshold: 0.9800000000000001 ----- Total precision: 0.5455811747969889 total recall: 0.5375675281062929 with 34245 total positive voxels. F-score: 0.5415447070763528\n"
     ]
    },
    {
     "output_type": "execute_result",
     "data": {
      "text/plain": [
       "<matplotlib.legend.Legend at 0x15cb37070>"
      ]
     },
     "metadata": {},
     "execution_count": 38
    },
    {
     "output_type": "display_data",
     "data": {
      "text/plain": "<Figure size 432x288 with 1 Axes>",
      "image/svg+xml": "<?xml version=\"1.0\" encoding=\"utf-8\" standalone=\"no\"?>\n<!DOCTYPE svg PUBLIC \"-//W3C//DTD SVG 1.1//EN\"\n  \"http://www.w3.org/Graphics/SVG/1.1/DTD/svg11.dtd\">\n<!-- Created with matplotlib (https://matplotlib.org/) -->\n<svg height=\"277.314375pt\" version=\"1.1\" viewBox=\"0 0 395.868058 277.314375\" width=\"395.868058pt\" xmlns=\"http://www.w3.org/2000/svg\" xmlns:xlink=\"http://www.w3.org/1999/xlink\">\n <metadata>\n  <rdf:RDF xmlns:cc=\"http://creativecommons.org/ns#\" xmlns:dc=\"http://purl.org/dc/elements/1.1/\" xmlns:rdf=\"http://www.w3.org/1999/02/22-rdf-syntax-ns#\">\n   <cc:Work>\n    <dc:type rdf:resource=\"http://purl.org/dc/dcmitype/StillImage\"/>\n    <dc:date>2021-06-24T10:15:27.763840</dc:date>\n    <dc:format>image/svg+xml</dc:format>\n    <dc:creator>\n     <cc:Agent>\n      <dc:title>Matplotlib v3.3.2, https://matplotlib.org/</dc:title>\n     </cc:Agent>\n    </dc:creator>\n   </cc:Work>\n  </rdf:RDF>\n </metadata>\n <defs>\n  <style type=\"text/css\">*{stroke-linecap:butt;stroke-linejoin:round;}</style>\n </defs>\n <g id=\"figure_1\">\n  <g id=\"patch_1\">\n   <path d=\"M 0 277.314375 \nL 395.868058 277.314375 \nL 395.868058 0 \nL 0 0 \nz\n\" style=\"fill:none;\"/>\n  </g>\n  <g id=\"axes_1\">\n   <g id=\"patch_2\">\n    <path d=\"M 50.14375 239.758125 \nL 384.94375 239.758125 \nL 384.94375 22.318125 \nL 50.14375 22.318125 \nz\n\" style=\"fill:#ffffff;\"/>\n   </g>\n   <g id=\"PathCollection_1\">\n    <defs>\n     <path d=\"M 0 3 \nC 0.795609 3 1.55874 2.683901 2.12132 2.12132 \nC 2.683901 1.55874 3 0.795609 3 0 \nC 3 -0.795609 2.683901 -1.55874 2.12132 -2.12132 \nC 1.55874 -2.683901 0.795609 -3 0 -3 \nC -0.795609 -3 -1.55874 -2.683901 -2.12132 -2.12132 \nC -2.683901 -1.55874 -3 -0.795609 -3 0 \nC -3 0.795609 -2.683901 1.55874 -2.12132 2.12132 \nC -1.55874 2.683901 -0.795609 3 0 3 \nz\n\" id=\"m849796ca8d\" style=\"stroke:#ff0000;\"/>\n    </defs>\n    <g clip-path=\"url(#p28f1fb39cd)\">\n     <use style=\"fill:#ff0000;stroke:#ff0000;\" x=\"307.946113\" xlink:href=\"#m849796ca8d\" y=\"89.809108\"/>\n    </g>\n   </g>\n   <g id=\"matplotlib.axis_1\">\n    <g id=\"xtick_1\">\n     <g id=\"line2d_1\">\n      <defs>\n       <path d=\"M 0 0 \nL 0 3.5 \n\" id=\"m0230f4f160\" style=\"stroke:#000000;stroke-width:0.8;\"/>\n      </defs>\n      <g>\n       <use style=\"stroke:#000000;stroke-width:0.8;\" x=\"76.070371\" xlink:href=\"#m0230f4f160\" y=\"239.758125\"/>\n      </g>\n     </g>\n     <g id=\"text_1\">\n      <!-- 0.55 -->\n      <g transform=\"translate(64.937558 254.356562)scale(0.1 -0.1)\">\n       <defs>\n        <path d=\"M 31.78125 66.40625 \nQ 24.171875 66.40625 20.328125 58.90625 \nQ 16.5 51.421875 16.5 36.375 \nQ 16.5 21.390625 20.328125 13.890625 \nQ 24.171875 6.390625 31.78125 6.390625 \nQ 39.453125 6.390625 43.28125 13.890625 \nQ 47.125 21.390625 47.125 36.375 \nQ 47.125 51.421875 43.28125 58.90625 \nQ 39.453125 66.40625 31.78125 66.40625 \nz\nM 31.78125 74.21875 \nQ 44.046875 74.21875 50.515625 64.515625 \nQ 56.984375 54.828125 56.984375 36.375 \nQ 56.984375 17.96875 50.515625 8.265625 \nQ 44.046875 -1.421875 31.78125 -1.421875 \nQ 19.53125 -1.421875 13.0625 8.265625 \nQ 6.59375 17.96875 6.59375 36.375 \nQ 6.59375 54.828125 13.0625 64.515625 \nQ 19.53125 74.21875 31.78125 74.21875 \nz\n\" id=\"DejaVuSans-48\"/>\n        <path d=\"M 10.6875 12.40625 \nL 21 12.40625 \nL 21 0 \nL 10.6875 0 \nz\n\" id=\"DejaVuSans-46\"/>\n        <path d=\"M 10.796875 72.90625 \nL 49.515625 72.90625 \nL 49.515625 64.59375 \nL 19.828125 64.59375 \nL 19.828125 46.734375 \nQ 21.96875 47.46875 24.109375 47.828125 \nQ 26.265625 48.1875 28.421875 48.1875 \nQ 40.625 48.1875 47.75 41.5 \nQ 54.890625 34.8125 54.890625 23.390625 \nQ 54.890625 11.625 47.5625 5.09375 \nQ 40.234375 -1.421875 26.90625 -1.421875 \nQ 22.3125 -1.421875 17.546875 -0.640625 \nQ 12.796875 0.140625 7.71875 1.703125 \nL 7.71875 11.625 \nQ 12.109375 9.234375 16.796875 8.0625 \nQ 21.484375 6.890625 26.703125 6.890625 \nQ 35.15625 6.890625 40.078125 11.328125 \nQ 45.015625 15.765625 45.015625 23.390625 \nQ 45.015625 31 40.078125 35.4375 \nQ 35.15625 39.890625 26.703125 39.890625 \nQ 22.75 39.890625 18.8125 39.015625 \nQ 14.890625 38.140625 10.796875 36.28125 \nz\n\" id=\"DejaVuSans-53\"/>\n       </defs>\n       <use xlink:href=\"#DejaVuSans-48\"/>\n       <use x=\"63.623047\" xlink:href=\"#DejaVuSans-46\"/>\n       <use x=\"95.410156\" xlink:href=\"#DejaVuSans-53\"/>\n       <use x=\"159.033203\" xlink:href=\"#DejaVuSans-53\"/>\n      </g>\n     </g>\n    </g>\n    <g id=\"xtick_2\">\n     <g id=\"line2d_2\">\n      <g>\n       <use style=\"stroke:#000000;stroke-width:0.8;\" x=\"119.136781\" xlink:href=\"#m0230f4f160\" y=\"239.758125\"/>\n      </g>\n     </g>\n     <g id=\"text_2\">\n      <!-- 0.60 -->\n      <g transform=\"translate(108.003969 254.356562)scale(0.1 -0.1)\">\n       <defs>\n        <path d=\"M 33.015625 40.375 \nQ 26.375 40.375 22.484375 35.828125 \nQ 18.609375 31.296875 18.609375 23.390625 \nQ 18.609375 15.53125 22.484375 10.953125 \nQ 26.375 6.390625 33.015625 6.390625 \nQ 39.65625 6.390625 43.53125 10.953125 \nQ 47.40625 15.53125 47.40625 23.390625 \nQ 47.40625 31.296875 43.53125 35.828125 \nQ 39.65625 40.375 33.015625 40.375 \nz\nM 52.59375 71.296875 \nL 52.59375 62.3125 \nQ 48.875 64.0625 45.09375 64.984375 \nQ 41.3125 65.921875 37.59375 65.921875 \nQ 27.828125 65.921875 22.671875 59.328125 \nQ 17.53125 52.734375 16.796875 39.40625 \nQ 19.671875 43.65625 24.015625 45.921875 \nQ 28.375 48.1875 33.59375 48.1875 \nQ 44.578125 48.1875 50.953125 41.515625 \nQ 57.328125 34.859375 57.328125 23.390625 \nQ 57.328125 12.15625 50.6875 5.359375 \nQ 44.046875 -1.421875 33.015625 -1.421875 \nQ 20.359375 -1.421875 13.671875 8.265625 \nQ 6.984375 17.96875 6.984375 36.375 \nQ 6.984375 53.65625 15.1875 63.9375 \nQ 23.390625 74.21875 37.203125 74.21875 \nQ 40.921875 74.21875 44.703125 73.484375 \nQ 48.484375 72.75 52.59375 71.296875 \nz\n\" id=\"DejaVuSans-54\"/>\n       </defs>\n       <use xlink:href=\"#DejaVuSans-48\"/>\n       <use x=\"63.623047\" xlink:href=\"#DejaVuSans-46\"/>\n       <use x=\"95.410156\" xlink:href=\"#DejaVuSans-54\"/>\n       <use x=\"159.033203\" xlink:href=\"#DejaVuSans-48\"/>\n      </g>\n     </g>\n    </g>\n    <g id=\"xtick_3\">\n     <g id=\"line2d_3\">\n      <g>\n       <use style=\"stroke:#000000;stroke-width:0.8;\" x=\"162.203192\" xlink:href=\"#m0230f4f160\" y=\"239.758125\"/>\n      </g>\n     </g>\n     <g id=\"text_3\">\n      <!-- 0.65 -->\n      <g transform=\"translate(151.07038 254.356562)scale(0.1 -0.1)\">\n       <use xlink:href=\"#DejaVuSans-48\"/>\n       <use x=\"63.623047\" xlink:href=\"#DejaVuSans-46\"/>\n       <use x=\"95.410156\" xlink:href=\"#DejaVuSans-54\"/>\n       <use x=\"159.033203\" xlink:href=\"#DejaVuSans-53\"/>\n      </g>\n     </g>\n    </g>\n    <g id=\"xtick_4\">\n     <g id=\"line2d_4\">\n      <g>\n       <use style=\"stroke:#000000;stroke-width:0.8;\" x=\"205.269603\" xlink:href=\"#m0230f4f160\" y=\"239.758125\"/>\n      </g>\n     </g>\n     <g id=\"text_4\">\n      <!-- 0.70 -->\n      <g transform=\"translate(194.13679 254.356562)scale(0.1 -0.1)\">\n       <defs>\n        <path d=\"M 8.203125 72.90625 \nL 55.078125 72.90625 \nL 55.078125 68.703125 \nL 28.609375 0 \nL 18.3125 0 \nL 43.21875 64.59375 \nL 8.203125 64.59375 \nz\n\" id=\"DejaVuSans-55\"/>\n       </defs>\n       <use xlink:href=\"#DejaVuSans-48\"/>\n       <use x=\"63.623047\" xlink:href=\"#DejaVuSans-46\"/>\n       <use x=\"95.410156\" xlink:href=\"#DejaVuSans-55\"/>\n       <use x=\"159.033203\" xlink:href=\"#DejaVuSans-48\"/>\n      </g>\n     </g>\n    </g>\n    <g id=\"xtick_5\">\n     <g id=\"line2d_5\">\n      <g>\n       <use style=\"stroke:#000000;stroke-width:0.8;\" x=\"248.336014\" xlink:href=\"#m0230f4f160\" y=\"239.758125\"/>\n      </g>\n     </g>\n     <g id=\"text_5\">\n      <!-- 0.75 -->\n      <g transform=\"translate(237.203201 254.356562)scale(0.1 -0.1)\">\n       <use xlink:href=\"#DejaVuSans-48\"/>\n       <use x=\"63.623047\" xlink:href=\"#DejaVuSans-46\"/>\n       <use x=\"95.410156\" xlink:href=\"#DejaVuSans-55\"/>\n       <use x=\"159.033203\" xlink:href=\"#DejaVuSans-53\"/>\n      </g>\n     </g>\n    </g>\n    <g id=\"xtick_6\">\n     <g id=\"line2d_6\">\n      <g>\n       <use style=\"stroke:#000000;stroke-width:0.8;\" x=\"291.402424\" xlink:href=\"#m0230f4f160\" y=\"239.758125\"/>\n      </g>\n     </g>\n     <g id=\"text_6\">\n      <!-- 0.80 -->\n      <g transform=\"translate(280.269612 254.356562)scale(0.1 -0.1)\">\n       <defs>\n        <path d=\"M 31.78125 34.625 \nQ 24.75 34.625 20.71875 30.859375 \nQ 16.703125 27.09375 16.703125 20.515625 \nQ 16.703125 13.921875 20.71875 10.15625 \nQ 24.75 6.390625 31.78125 6.390625 \nQ 38.8125 6.390625 42.859375 10.171875 \nQ 46.921875 13.96875 46.921875 20.515625 \nQ 46.921875 27.09375 42.890625 30.859375 \nQ 38.875 34.625 31.78125 34.625 \nz\nM 21.921875 38.8125 \nQ 15.578125 40.375 12.03125 44.71875 \nQ 8.5 49.078125 8.5 55.328125 \nQ 8.5 64.0625 14.71875 69.140625 \nQ 20.953125 74.21875 31.78125 74.21875 \nQ 42.671875 74.21875 48.875 69.140625 \nQ 55.078125 64.0625 55.078125 55.328125 \nQ 55.078125 49.078125 51.53125 44.71875 \nQ 48 40.375 41.703125 38.8125 \nQ 48.828125 37.15625 52.796875 32.3125 \nQ 56.78125 27.484375 56.78125 20.515625 \nQ 56.78125 9.90625 50.3125 4.234375 \nQ 43.84375 -1.421875 31.78125 -1.421875 \nQ 19.734375 -1.421875 13.25 4.234375 \nQ 6.78125 9.90625 6.78125 20.515625 \nQ 6.78125 27.484375 10.78125 32.3125 \nQ 14.796875 37.15625 21.921875 38.8125 \nz\nM 18.3125 54.390625 \nQ 18.3125 48.734375 21.84375 45.5625 \nQ 25.390625 42.390625 31.78125 42.390625 \nQ 38.140625 42.390625 41.71875 45.5625 \nQ 45.3125 48.734375 45.3125 54.390625 \nQ 45.3125 60.0625 41.71875 63.234375 \nQ 38.140625 66.40625 31.78125 66.40625 \nQ 25.390625 66.40625 21.84375 63.234375 \nQ 18.3125 60.0625 18.3125 54.390625 \nz\n\" id=\"DejaVuSans-56\"/>\n       </defs>\n       <use xlink:href=\"#DejaVuSans-48\"/>\n       <use x=\"63.623047\" xlink:href=\"#DejaVuSans-46\"/>\n       <use x=\"95.410156\" xlink:href=\"#DejaVuSans-56\"/>\n       <use x=\"159.033203\" xlink:href=\"#DejaVuSans-48\"/>\n      </g>\n     </g>\n    </g>\n    <g id=\"xtick_7\">\n     <g id=\"line2d_7\">\n      <g>\n       <use style=\"stroke:#000000;stroke-width:0.8;\" x=\"334.468835\" xlink:href=\"#m0230f4f160\" y=\"239.758125\"/>\n      </g>\n     </g>\n     <g id=\"text_7\">\n      <!-- 0.85 -->\n      <g transform=\"translate(323.336023 254.356562)scale(0.1 -0.1)\">\n       <use xlink:href=\"#DejaVuSans-48\"/>\n       <use x=\"63.623047\" xlink:href=\"#DejaVuSans-46\"/>\n       <use x=\"95.410156\" xlink:href=\"#DejaVuSans-56\"/>\n       <use x=\"159.033203\" xlink:href=\"#DejaVuSans-53\"/>\n      </g>\n     </g>\n    </g>\n    <g id=\"xtick_8\">\n     <g id=\"line2d_8\">\n      <g>\n       <use style=\"stroke:#000000;stroke-width:0.8;\" x=\"377.535246\" xlink:href=\"#m0230f4f160\" y=\"239.758125\"/>\n      </g>\n     </g>\n     <g id=\"text_8\">\n      <!-- 0.90 -->\n      <g transform=\"translate(366.402433 254.356562)scale(0.1 -0.1)\">\n       <defs>\n        <path d=\"M 10.984375 1.515625 \nL 10.984375 10.5 \nQ 14.703125 8.734375 18.5 7.8125 \nQ 22.3125 6.890625 25.984375 6.890625 \nQ 35.75 6.890625 40.890625 13.453125 \nQ 46.046875 20.015625 46.78125 33.40625 \nQ 43.953125 29.203125 39.59375 26.953125 \nQ 35.25 24.703125 29.984375 24.703125 \nQ 19.046875 24.703125 12.671875 31.3125 \nQ 6.296875 37.9375 6.296875 49.421875 \nQ 6.296875 60.640625 12.9375 67.421875 \nQ 19.578125 74.21875 30.609375 74.21875 \nQ 43.265625 74.21875 49.921875 64.515625 \nQ 56.59375 54.828125 56.59375 36.375 \nQ 56.59375 19.140625 48.40625 8.859375 \nQ 40.234375 -1.421875 26.421875 -1.421875 \nQ 22.703125 -1.421875 18.890625 -0.6875 \nQ 15.09375 0.046875 10.984375 1.515625 \nz\nM 30.609375 32.421875 \nQ 37.25 32.421875 41.125 36.953125 \nQ 45.015625 41.5 45.015625 49.421875 \nQ 45.015625 57.28125 41.125 61.84375 \nQ 37.25 66.40625 30.609375 66.40625 \nQ 23.96875 66.40625 20.09375 61.84375 \nQ 16.21875 57.28125 16.21875 49.421875 \nQ 16.21875 41.5 20.09375 36.953125 \nQ 23.96875 32.421875 30.609375 32.421875 \nz\n\" id=\"DejaVuSans-57\"/>\n       </defs>\n       <use xlink:href=\"#DejaVuSans-48\"/>\n       <use x=\"63.623047\" xlink:href=\"#DejaVuSans-46\"/>\n       <use x=\"95.410156\" xlink:href=\"#DejaVuSans-57\"/>\n       <use x=\"159.033203\" xlink:href=\"#DejaVuSans-48\"/>\n      </g>\n     </g>\n    </g>\n    <g id=\"text_9\">\n     <!-- Recall -->\n     <g transform=\"translate(202.626563 268.034687)scale(0.1 -0.1)\">\n      <defs>\n       <path d=\"M 44.390625 34.1875 \nQ 47.5625 33.109375 50.5625 29.59375 \nQ 53.5625 26.078125 56.59375 19.921875 \nL 66.609375 0 \nL 56 0 \nL 46.6875 18.703125 \nQ 43.0625 26.03125 39.671875 28.421875 \nQ 36.28125 30.8125 30.421875 30.8125 \nL 19.671875 30.8125 \nL 19.671875 0 \nL 9.8125 0 \nL 9.8125 72.90625 \nL 32.078125 72.90625 \nQ 44.578125 72.90625 50.734375 67.671875 \nQ 56.890625 62.453125 56.890625 51.90625 \nQ 56.890625 45.015625 53.6875 40.46875 \nQ 50.484375 35.9375 44.390625 34.1875 \nz\nM 19.671875 64.796875 \nL 19.671875 38.921875 \nL 32.078125 38.921875 \nQ 39.203125 38.921875 42.84375 42.21875 \nQ 46.484375 45.515625 46.484375 51.90625 \nQ 46.484375 58.296875 42.84375 61.546875 \nQ 39.203125 64.796875 32.078125 64.796875 \nz\n\" id=\"DejaVuSans-82\"/>\n       <path d=\"M 56.203125 29.59375 \nL 56.203125 25.203125 \nL 14.890625 25.203125 \nQ 15.484375 15.921875 20.484375 11.0625 \nQ 25.484375 6.203125 34.421875 6.203125 \nQ 39.59375 6.203125 44.453125 7.46875 \nQ 49.3125 8.734375 54.109375 11.28125 \nL 54.109375 2.78125 \nQ 49.265625 0.734375 44.1875 -0.34375 \nQ 39.109375 -1.421875 33.890625 -1.421875 \nQ 20.796875 -1.421875 13.15625 6.1875 \nQ 5.515625 13.8125 5.515625 26.8125 \nQ 5.515625 40.234375 12.765625 48.109375 \nQ 20.015625 56 32.328125 56 \nQ 43.359375 56 49.78125 48.890625 \nQ 56.203125 41.796875 56.203125 29.59375 \nz\nM 47.21875 32.234375 \nQ 47.125 39.59375 43.09375 43.984375 \nQ 39.0625 48.390625 32.421875 48.390625 \nQ 24.90625 48.390625 20.390625 44.140625 \nQ 15.875 39.890625 15.1875 32.171875 \nz\n\" id=\"DejaVuSans-101\"/>\n       <path d=\"M 48.78125 52.59375 \nL 48.78125 44.1875 \nQ 44.96875 46.296875 41.140625 47.34375 \nQ 37.3125 48.390625 33.40625 48.390625 \nQ 24.65625 48.390625 19.8125 42.84375 \nQ 14.984375 37.3125 14.984375 27.296875 \nQ 14.984375 17.28125 19.8125 11.734375 \nQ 24.65625 6.203125 33.40625 6.203125 \nQ 37.3125 6.203125 41.140625 7.25 \nQ 44.96875 8.296875 48.78125 10.40625 \nL 48.78125 2.09375 \nQ 45.015625 0.34375 40.984375 -0.53125 \nQ 36.96875 -1.421875 32.421875 -1.421875 \nQ 20.0625 -1.421875 12.78125 6.34375 \nQ 5.515625 14.109375 5.515625 27.296875 \nQ 5.515625 40.671875 12.859375 48.328125 \nQ 20.21875 56 33.015625 56 \nQ 37.15625 56 41.109375 55.140625 \nQ 45.0625 54.296875 48.78125 52.59375 \nz\n\" id=\"DejaVuSans-99\"/>\n       <path d=\"M 34.28125 27.484375 \nQ 23.390625 27.484375 19.1875 25 \nQ 14.984375 22.515625 14.984375 16.5 \nQ 14.984375 11.71875 18.140625 8.90625 \nQ 21.296875 6.109375 26.703125 6.109375 \nQ 34.1875 6.109375 38.703125 11.40625 \nQ 43.21875 16.703125 43.21875 25.484375 \nL 43.21875 27.484375 \nz\nM 52.203125 31.203125 \nL 52.203125 0 \nL 43.21875 0 \nL 43.21875 8.296875 \nQ 40.140625 3.328125 35.546875 0.953125 \nQ 30.953125 -1.421875 24.3125 -1.421875 \nQ 15.921875 -1.421875 10.953125 3.296875 \nQ 6 8.015625 6 15.921875 \nQ 6 25.140625 12.171875 29.828125 \nQ 18.359375 34.515625 30.609375 34.515625 \nL 43.21875 34.515625 \nL 43.21875 35.40625 \nQ 43.21875 41.609375 39.140625 45 \nQ 35.0625 48.390625 27.6875 48.390625 \nQ 23 48.390625 18.546875 47.265625 \nQ 14.109375 46.140625 10.015625 43.890625 \nL 10.015625 52.203125 \nQ 14.9375 54.109375 19.578125 55.046875 \nQ 24.21875 56 28.609375 56 \nQ 40.484375 56 46.34375 49.84375 \nQ 52.203125 43.703125 52.203125 31.203125 \nz\n\" id=\"DejaVuSans-97\"/>\n       <path d=\"M 9.421875 75.984375 \nL 18.40625 75.984375 \nL 18.40625 0 \nL 9.421875 0 \nz\n\" id=\"DejaVuSans-108\"/>\n      </defs>\n      <use xlink:href=\"#DejaVuSans-82\"/>\n      <use x=\"64.982422\" xlink:href=\"#DejaVuSans-101\"/>\n      <use x=\"126.505859\" xlink:href=\"#DejaVuSans-99\"/>\n      <use x=\"181.486328\" xlink:href=\"#DejaVuSans-97\"/>\n      <use x=\"242.765625\" xlink:href=\"#DejaVuSans-108\"/>\n      <use x=\"270.548828\" xlink:href=\"#DejaVuSans-108\"/>\n     </g>\n    </g>\n   </g>\n   <g id=\"matplotlib.axis_2\">\n    <g id=\"ytick_1\">\n     <g id=\"line2d_9\">\n      <defs>\n       <path d=\"M 0 0 \nL -3.5 0 \n\" id=\"m97e7b3a66c\" style=\"stroke:#000000;stroke-width:0.8;\"/>\n      </defs>\n      <g>\n       <use style=\"stroke:#000000;stroke-width:0.8;\" x=\"50.14375\" xlink:href=\"#m97e7b3a66c\" y=\"232.743831\"/>\n      </g>\n     </g>\n     <g id=\"text_10\">\n      <!-- 0.46 -->\n      <g transform=\"translate(20.878125 236.54305)scale(0.1 -0.1)\">\n       <defs>\n        <path d=\"M 37.796875 64.3125 \nL 12.890625 25.390625 \nL 37.796875 25.390625 \nz\nM 35.203125 72.90625 \nL 47.609375 72.90625 \nL 47.609375 25.390625 \nL 58.015625 25.390625 \nL 58.015625 17.1875 \nL 47.609375 17.1875 \nL 47.609375 0 \nL 37.796875 0 \nL 37.796875 17.1875 \nL 4.890625 17.1875 \nL 4.890625 26.703125 \nz\n\" id=\"DejaVuSans-52\"/>\n       </defs>\n       <use xlink:href=\"#DejaVuSans-48\"/>\n       <use x=\"63.623047\" xlink:href=\"#DejaVuSans-46\"/>\n       <use x=\"95.410156\" xlink:href=\"#DejaVuSans-52\"/>\n       <use x=\"159.033203\" xlink:href=\"#DejaVuSans-54\"/>\n      </g>\n     </g>\n    </g>\n    <g id=\"ytick_2\">\n     <g id=\"line2d_10\">\n      <g>\n       <use style=\"stroke:#000000;stroke-width:0.8;\" x=\"50.14375\" xlink:href=\"#m97e7b3a66c\" y=\"185.877901\"/>\n      </g>\n     </g>\n     <g id=\"text_11\">\n      <!-- 0.48 -->\n      <g transform=\"translate(20.878125 189.677119)scale(0.1 -0.1)\">\n       <use xlink:href=\"#DejaVuSans-48\"/>\n       <use x=\"63.623047\" xlink:href=\"#DejaVuSans-46\"/>\n       <use x=\"95.410156\" xlink:href=\"#DejaVuSans-52\"/>\n       <use x=\"159.033203\" xlink:href=\"#DejaVuSans-56\"/>\n      </g>\n     </g>\n    </g>\n    <g id=\"ytick_3\">\n     <g id=\"line2d_11\">\n      <g>\n       <use style=\"stroke:#000000;stroke-width:0.8;\" x=\"50.14375\" xlink:href=\"#m97e7b3a66c\" y=\"139.01197\"/>\n      </g>\n     </g>\n     <g id=\"text_12\">\n      <!-- 0.50 -->\n      <g transform=\"translate(20.878125 142.811189)scale(0.1 -0.1)\">\n       <use xlink:href=\"#DejaVuSans-48\"/>\n       <use x=\"63.623047\" xlink:href=\"#DejaVuSans-46\"/>\n       <use x=\"95.410156\" xlink:href=\"#DejaVuSans-53\"/>\n       <use x=\"159.033203\" xlink:href=\"#DejaVuSans-48\"/>\n      </g>\n     </g>\n    </g>\n    <g id=\"ytick_4\">\n     <g id=\"line2d_12\">\n      <g>\n       <use style=\"stroke:#000000;stroke-width:0.8;\" x=\"50.14375\" xlink:href=\"#m97e7b3a66c\" y=\"92.14604\"/>\n      </g>\n     </g>\n     <g id=\"text_13\">\n      <!-- 0.52 -->\n      <g transform=\"translate(20.878125 95.945258)scale(0.1 -0.1)\">\n       <defs>\n        <path d=\"M 19.1875 8.296875 \nL 53.609375 8.296875 \nL 53.609375 0 \nL 7.328125 0 \nL 7.328125 8.296875 \nQ 12.9375 14.109375 22.625 23.890625 \nQ 32.328125 33.6875 34.8125 36.53125 \nQ 39.546875 41.84375 41.421875 45.53125 \nQ 43.3125 49.21875 43.3125 52.78125 \nQ 43.3125 58.59375 39.234375 62.25 \nQ 35.15625 65.921875 28.609375 65.921875 \nQ 23.96875 65.921875 18.8125 64.3125 \nQ 13.671875 62.703125 7.8125 59.421875 \nL 7.8125 69.390625 \nQ 13.765625 71.78125 18.9375 73 \nQ 24.125 74.21875 28.421875 74.21875 \nQ 39.75 74.21875 46.484375 68.546875 \nQ 53.21875 62.890625 53.21875 53.421875 \nQ 53.21875 48.921875 51.53125 44.890625 \nQ 49.859375 40.875 45.40625 35.40625 \nQ 44.1875 33.984375 37.640625 27.21875 \nQ 31.109375 20.453125 19.1875 8.296875 \nz\n\" id=\"DejaVuSans-50\"/>\n       </defs>\n       <use xlink:href=\"#DejaVuSans-48\"/>\n       <use x=\"63.623047\" xlink:href=\"#DejaVuSans-46\"/>\n       <use x=\"95.410156\" xlink:href=\"#DejaVuSans-53\"/>\n       <use x=\"159.033203\" xlink:href=\"#DejaVuSans-50\"/>\n      </g>\n     </g>\n    </g>\n    <g id=\"ytick_5\">\n     <g id=\"line2d_13\">\n      <g>\n       <use style=\"stroke:#000000;stroke-width:0.8;\" x=\"50.14375\" xlink:href=\"#m97e7b3a66c\" y=\"45.280109\"/>\n      </g>\n     </g>\n     <g id=\"text_14\">\n      <!-- 0.54 -->\n      <g transform=\"translate(20.878125 49.079328)scale(0.1 -0.1)\">\n       <use xlink:href=\"#DejaVuSans-48\"/>\n       <use x=\"63.623047\" xlink:href=\"#DejaVuSans-46\"/>\n       <use x=\"95.410156\" xlink:href=\"#DejaVuSans-53\"/>\n       <use x=\"159.033203\" xlink:href=\"#DejaVuSans-52\"/>\n      </g>\n     </g>\n    </g>\n    <g id=\"text_15\">\n     <!-- Precision -->\n     <g transform=\"translate(14.798438 153.345156)rotate(-90)scale(0.1 -0.1)\">\n      <defs>\n       <path d=\"M 19.671875 64.796875 \nL 19.671875 37.40625 \nL 32.078125 37.40625 \nQ 38.96875 37.40625 42.71875 40.96875 \nQ 46.484375 44.53125 46.484375 51.125 \nQ 46.484375 57.671875 42.71875 61.234375 \nQ 38.96875 64.796875 32.078125 64.796875 \nz\nM 9.8125 72.90625 \nL 32.078125 72.90625 \nQ 44.34375 72.90625 50.609375 67.359375 \nQ 56.890625 61.8125 56.890625 51.125 \nQ 56.890625 40.328125 50.609375 34.8125 \nQ 44.34375 29.296875 32.078125 29.296875 \nL 19.671875 29.296875 \nL 19.671875 0 \nL 9.8125 0 \nz\n\" id=\"DejaVuSans-80\"/>\n       <path d=\"M 41.109375 46.296875 \nQ 39.59375 47.171875 37.8125 47.578125 \nQ 36.03125 48 33.890625 48 \nQ 26.265625 48 22.1875 43.046875 \nQ 18.109375 38.09375 18.109375 28.8125 \nL 18.109375 0 \nL 9.078125 0 \nL 9.078125 54.6875 \nL 18.109375 54.6875 \nL 18.109375 46.1875 \nQ 20.953125 51.171875 25.484375 53.578125 \nQ 30.03125 56 36.53125 56 \nQ 37.453125 56 38.578125 55.875 \nQ 39.703125 55.765625 41.0625 55.515625 \nz\n\" id=\"DejaVuSans-114\"/>\n       <path d=\"M 9.421875 54.6875 \nL 18.40625 54.6875 \nL 18.40625 0 \nL 9.421875 0 \nz\nM 9.421875 75.984375 \nL 18.40625 75.984375 \nL 18.40625 64.59375 \nL 9.421875 64.59375 \nz\n\" id=\"DejaVuSans-105\"/>\n       <path d=\"M 44.28125 53.078125 \nL 44.28125 44.578125 \nQ 40.484375 46.53125 36.375 47.5 \nQ 32.28125 48.484375 27.875 48.484375 \nQ 21.1875 48.484375 17.84375 46.4375 \nQ 14.5 44.390625 14.5 40.28125 \nQ 14.5 37.15625 16.890625 35.375 \nQ 19.28125 33.59375 26.515625 31.984375 \nL 29.59375 31.296875 \nQ 39.15625 29.25 43.1875 25.515625 \nQ 47.21875 21.78125 47.21875 15.09375 \nQ 47.21875 7.46875 41.1875 3.015625 \nQ 35.15625 -1.421875 24.609375 -1.421875 \nQ 20.21875 -1.421875 15.453125 -0.5625 \nQ 10.6875 0.296875 5.421875 2 \nL 5.421875 11.28125 \nQ 10.40625 8.6875 15.234375 7.390625 \nQ 20.0625 6.109375 24.8125 6.109375 \nQ 31.15625 6.109375 34.5625 8.28125 \nQ 37.984375 10.453125 37.984375 14.40625 \nQ 37.984375 18.0625 35.515625 20.015625 \nQ 33.0625 21.96875 24.703125 23.78125 \nL 21.578125 24.515625 \nQ 13.234375 26.265625 9.515625 29.90625 \nQ 5.8125 33.546875 5.8125 39.890625 \nQ 5.8125 47.609375 11.28125 51.796875 \nQ 16.75 56 26.8125 56 \nQ 31.78125 56 36.171875 55.265625 \nQ 40.578125 54.546875 44.28125 53.078125 \nz\n\" id=\"DejaVuSans-115\"/>\n       <path d=\"M 30.609375 48.390625 \nQ 23.390625 48.390625 19.1875 42.75 \nQ 14.984375 37.109375 14.984375 27.296875 \nQ 14.984375 17.484375 19.15625 11.84375 \nQ 23.34375 6.203125 30.609375 6.203125 \nQ 37.796875 6.203125 41.984375 11.859375 \nQ 46.1875 17.53125 46.1875 27.296875 \nQ 46.1875 37.015625 41.984375 42.703125 \nQ 37.796875 48.390625 30.609375 48.390625 \nz\nM 30.609375 56 \nQ 42.328125 56 49.015625 48.375 \nQ 55.71875 40.765625 55.71875 27.296875 \nQ 55.71875 13.875 49.015625 6.21875 \nQ 42.328125 -1.421875 30.609375 -1.421875 \nQ 18.84375 -1.421875 12.171875 6.21875 \nQ 5.515625 13.875 5.515625 27.296875 \nQ 5.515625 40.765625 12.171875 48.375 \nQ 18.84375 56 30.609375 56 \nz\n\" id=\"DejaVuSans-111\"/>\n       <path d=\"M 54.890625 33.015625 \nL 54.890625 0 \nL 45.90625 0 \nL 45.90625 32.71875 \nQ 45.90625 40.484375 42.875 44.328125 \nQ 39.84375 48.1875 33.796875 48.1875 \nQ 26.515625 48.1875 22.3125 43.546875 \nQ 18.109375 38.921875 18.109375 30.90625 \nL 18.109375 0 \nL 9.078125 0 \nL 9.078125 54.6875 \nL 18.109375 54.6875 \nL 18.109375 46.1875 \nQ 21.34375 51.125 25.703125 53.5625 \nQ 30.078125 56 35.796875 56 \nQ 45.21875 56 50.046875 50.171875 \nQ 54.890625 44.34375 54.890625 33.015625 \nz\n\" id=\"DejaVuSans-110\"/>\n      </defs>\n      <use xlink:href=\"#DejaVuSans-80\"/>\n      <use x=\"58.552734\" xlink:href=\"#DejaVuSans-114\"/>\n      <use x=\"97.416016\" xlink:href=\"#DejaVuSans-101\"/>\n      <use x=\"158.939453\" xlink:href=\"#DejaVuSans-99\"/>\n      <use x=\"213.919922\" xlink:href=\"#DejaVuSans-105\"/>\n      <use x=\"241.703125\" xlink:href=\"#DejaVuSans-115\"/>\n      <use x=\"293.802734\" xlink:href=\"#DejaVuSans-105\"/>\n      <use x=\"321.585938\" xlink:href=\"#DejaVuSans-111\"/>\n      <use x=\"382.767578\" xlink:href=\"#DejaVuSans-110\"/>\n     </g>\n    </g>\n   </g>\n   <g id=\"line2d_14\">\n    <path clip-path=\"url(#p28f1fb39cd)\" d=\"M 369.725568 229.874489 \nL 361.802707 210.72881 \nL 353.879845 192.880856 \nL 347.937699 175.417294 \nL 343.014207 160.282704 \nL 337.656844 147.51623 \nL 332.374936 137.062472 \nL 327.706107 125.722735 \nL 323.571757 114.291892 \nL 319.132439 104.540524 \nL 313.853961 96.703425 \nL 307.946113 89.809108 \nL 301.554135 83.546618 \nL 294.458385 78.641467 \nL 287.554177 73.553335 \nL 280.522638 68.666436 \nL 273.519394 63.746943 \nL 266.72837 59.117439 \nL 260.235198 54.685138 \nL 253.938608 50.526834 \nL 247.541033 47.074525 \nL 241.26203 43.674315 \nL 234.938504 40.769552 \nL 228.198741 38.50281 \nL 221.273783 36.387886 \nL 214.01087 35.065181 \nL 206.740991 34.043973 \nL 199.26278 33.63843 \nL 191.753904 33.467215 \nL 184.1797 33.597577 \nL 176.363938 34.151866 \nL 168.612221 34.773368 \nL 161.090219 35.28125 \nL 153.478058 35.872427 \nL 145.945157 36.41268 \nL 138.453472 36.858315 \nL 130.96907 36.967682 \nL 123.550947 36.925387 \nL 116.164983 36.769758 \nL 108.610694 36.4607 \nL 101.01082 36.064977 \nL 92.910493 35.555015 \nL 84.318306 34.43101 \nL 75.010559 33.237927 \nL 65.361932 32.201761 \n\" style=\"fill:none;stroke:#1f77b4;stroke-linecap:square;stroke-width:1.5;\"/>\n   </g>\n   <g id=\"patch_3\">\n    <path d=\"M 50.14375 239.758125 \nL 50.14375 22.318125 \n\" style=\"fill:none;stroke:#000000;stroke-linecap:square;stroke-linejoin:miter;stroke-width:0.8;\"/>\n   </g>\n   <g id=\"patch_4\">\n    <path d=\"M 384.94375 239.758125 \nL 384.94375 22.318125 \n\" style=\"fill:none;stroke:#000000;stroke-linecap:square;stroke-linejoin:miter;stroke-width:0.8;\"/>\n   </g>\n   <g id=\"patch_5\">\n    <path d=\"M 50.14375 239.758125 \nL 384.94375 239.758125 \n\" style=\"fill:none;stroke:#000000;stroke-linecap:square;stroke-linejoin:miter;stroke-width:0.8;\"/>\n   </g>\n   <g id=\"patch_6\">\n    <path d=\"M 50.14375 22.318125 \nL 384.94375 22.318125 \n\" style=\"fill:none;stroke:#000000;stroke-linecap:square;stroke-linejoin:miter;stroke-width:0.8;\"/>\n   </g>\n   <g id=\"text_16\">\n    <!-- Validation Performance Brain1 -->\n    <g transform=\"translate(126.535938 16.318125)scale(0.12 -0.12)\">\n     <defs>\n      <path d=\"M 28.609375 0 \nL 0.78125 72.90625 \nL 11.078125 72.90625 \nL 34.1875 11.53125 \nL 57.328125 72.90625 \nL 67.578125 72.90625 \nL 39.796875 0 \nz\n\" id=\"DejaVuSans-86\"/>\n      <path d=\"M 45.40625 46.390625 \nL 45.40625 75.984375 \nL 54.390625 75.984375 \nL 54.390625 0 \nL 45.40625 0 \nL 45.40625 8.203125 \nQ 42.578125 3.328125 38.25 0.953125 \nQ 33.9375 -1.421875 27.875 -1.421875 \nQ 17.96875 -1.421875 11.734375 6.484375 \nQ 5.515625 14.40625 5.515625 27.296875 \nQ 5.515625 40.1875 11.734375 48.09375 \nQ 17.96875 56 27.875 56 \nQ 33.9375 56 38.25 53.625 \nQ 42.578125 51.265625 45.40625 46.390625 \nz\nM 14.796875 27.296875 \nQ 14.796875 17.390625 18.875 11.75 \nQ 22.953125 6.109375 30.078125 6.109375 \nQ 37.203125 6.109375 41.296875 11.75 \nQ 45.40625 17.390625 45.40625 27.296875 \nQ 45.40625 37.203125 41.296875 42.84375 \nQ 37.203125 48.484375 30.078125 48.484375 \nQ 22.953125 48.484375 18.875 42.84375 \nQ 14.796875 37.203125 14.796875 27.296875 \nz\n\" id=\"DejaVuSans-100\"/>\n      <path d=\"M 18.3125 70.21875 \nL 18.3125 54.6875 \nL 36.8125 54.6875 \nL 36.8125 47.703125 \nL 18.3125 47.703125 \nL 18.3125 18.015625 \nQ 18.3125 11.328125 20.140625 9.421875 \nQ 21.96875 7.515625 27.59375 7.515625 \nL 36.8125 7.515625 \nL 36.8125 0 \nL 27.59375 0 \nQ 17.1875 0 13.234375 3.875 \nQ 9.28125 7.765625 9.28125 18.015625 \nL 9.28125 47.703125 \nL 2.6875 47.703125 \nL 2.6875 54.6875 \nL 9.28125 54.6875 \nL 9.28125 70.21875 \nz\n\" id=\"DejaVuSans-116\"/>\n      <path id=\"DejaVuSans-32\"/>\n      <path d=\"M 37.109375 75.984375 \nL 37.109375 68.5 \nL 28.515625 68.5 \nQ 23.6875 68.5 21.796875 66.546875 \nQ 19.921875 64.59375 19.921875 59.515625 \nL 19.921875 54.6875 \nL 34.71875 54.6875 \nL 34.71875 47.703125 \nL 19.921875 47.703125 \nL 19.921875 0 \nL 10.890625 0 \nL 10.890625 47.703125 \nL 2.296875 47.703125 \nL 2.296875 54.6875 \nL 10.890625 54.6875 \nL 10.890625 58.5 \nQ 10.890625 67.625 15.140625 71.796875 \nQ 19.390625 75.984375 28.609375 75.984375 \nz\n\" id=\"DejaVuSans-102\"/>\n      <path d=\"M 52 44.1875 \nQ 55.375 50.25 60.0625 53.125 \nQ 64.75 56 71.09375 56 \nQ 79.640625 56 84.28125 50.015625 \nQ 88.921875 44.046875 88.921875 33.015625 \nL 88.921875 0 \nL 79.890625 0 \nL 79.890625 32.71875 \nQ 79.890625 40.578125 77.09375 44.375 \nQ 74.3125 48.1875 68.609375 48.1875 \nQ 61.625 48.1875 57.5625 43.546875 \nQ 53.515625 38.921875 53.515625 30.90625 \nL 53.515625 0 \nL 44.484375 0 \nL 44.484375 32.71875 \nQ 44.484375 40.625 41.703125 44.40625 \nQ 38.921875 48.1875 33.109375 48.1875 \nQ 26.21875 48.1875 22.15625 43.53125 \nQ 18.109375 38.875 18.109375 30.90625 \nL 18.109375 0 \nL 9.078125 0 \nL 9.078125 54.6875 \nL 18.109375 54.6875 \nL 18.109375 46.1875 \nQ 21.1875 51.21875 25.484375 53.609375 \nQ 29.78125 56 35.6875 56 \nQ 41.65625 56 45.828125 52.96875 \nQ 50 49.953125 52 44.1875 \nz\n\" id=\"DejaVuSans-109\"/>\n      <path d=\"M 19.671875 34.8125 \nL 19.671875 8.109375 \nL 35.5 8.109375 \nQ 43.453125 8.109375 47.28125 11.40625 \nQ 51.125 14.703125 51.125 21.484375 \nQ 51.125 28.328125 47.28125 31.5625 \nQ 43.453125 34.8125 35.5 34.8125 \nz\nM 19.671875 64.796875 \nL 19.671875 42.828125 \nL 34.28125 42.828125 \nQ 41.5 42.828125 45.03125 45.53125 \nQ 48.578125 48.25 48.578125 53.8125 \nQ 48.578125 59.328125 45.03125 62.0625 \nQ 41.5 64.796875 34.28125 64.796875 \nz\nM 9.8125 72.90625 \nL 35.015625 72.90625 \nQ 46.296875 72.90625 52.390625 68.21875 \nQ 58.5 63.53125 58.5 54.890625 \nQ 58.5 48.1875 55.375 44.234375 \nQ 52.25 40.28125 46.1875 39.3125 \nQ 53.46875 37.75 57.5 32.78125 \nQ 61.53125 27.828125 61.53125 20.40625 \nQ 61.53125 10.640625 54.890625 5.3125 \nQ 48.25 0 35.984375 0 \nL 9.8125 0 \nz\n\" id=\"DejaVuSans-66\"/>\n      <path d=\"M 12.40625 8.296875 \nL 28.515625 8.296875 \nL 28.515625 63.921875 \nL 10.984375 60.40625 \nL 10.984375 69.390625 \nL 28.421875 72.90625 \nL 38.28125 72.90625 \nL 38.28125 8.296875 \nL 54.390625 8.296875 \nL 54.390625 0 \nL 12.40625 0 \nz\n\" id=\"DejaVuSans-49\"/>\n     </defs>\n     <use xlink:href=\"#DejaVuSans-86\"/>\n     <use x=\"60.658203\" xlink:href=\"#DejaVuSans-97\"/>\n     <use x=\"121.9375\" xlink:href=\"#DejaVuSans-108\"/>\n     <use x=\"149.720703\" xlink:href=\"#DejaVuSans-105\"/>\n     <use x=\"177.503906\" xlink:href=\"#DejaVuSans-100\"/>\n     <use x=\"240.980469\" xlink:href=\"#DejaVuSans-97\"/>\n     <use x=\"302.259766\" xlink:href=\"#DejaVuSans-116\"/>\n     <use x=\"341.46875\" xlink:href=\"#DejaVuSans-105\"/>\n     <use x=\"369.251953\" xlink:href=\"#DejaVuSans-111\"/>\n     <use x=\"430.433594\" xlink:href=\"#DejaVuSans-110\"/>\n     <use x=\"493.8125\" xlink:href=\"#DejaVuSans-32\"/>\n     <use x=\"525.599609\" xlink:href=\"#DejaVuSans-80\"/>\n     <use x=\"582.277344\" xlink:href=\"#DejaVuSans-101\"/>\n     <use x=\"643.800781\" xlink:href=\"#DejaVuSans-114\"/>\n     <use x=\"684.914062\" xlink:href=\"#DejaVuSans-102\"/>\n     <use x=\"720.119141\" xlink:href=\"#DejaVuSans-111\"/>\n     <use x=\"781.300781\" xlink:href=\"#DejaVuSans-114\"/>\n     <use x=\"820.664062\" xlink:href=\"#DejaVuSans-109\"/>\n     <use x=\"918.076172\" xlink:href=\"#DejaVuSans-97\"/>\n     <use x=\"979.355469\" xlink:href=\"#DejaVuSans-110\"/>\n     <use x=\"1042.734375\" xlink:href=\"#DejaVuSans-99\"/>\n     <use x=\"1097.714844\" xlink:href=\"#DejaVuSans-101\"/>\n     <use x=\"1159.238281\" xlink:href=\"#DejaVuSans-32\"/>\n     <use x=\"1191.025391\" xlink:href=\"#DejaVuSans-66\"/>\n     <use x=\"1259.628906\" xlink:href=\"#DejaVuSans-114\"/>\n     <use x=\"1300.742188\" xlink:href=\"#DejaVuSans-97\"/>\n     <use x=\"1362.021484\" xlink:href=\"#DejaVuSans-105\"/>\n     <use x=\"1389.804688\" xlink:href=\"#DejaVuSans-110\"/>\n     <use x=\"1453.183594\" xlink:href=\"#DejaVuSans-49\"/>\n    </g>\n   </g>\n   <g id=\"legend_1\">\n    <g id=\"patch_7\">\n     <path d=\"M 57.14375 234.758125 \nL 268.578125 234.758125 \nQ 270.578125 234.758125 270.578125 232.758125 \nL 270.578125 204.401875 \nQ 270.578125 202.401875 268.578125 202.401875 \nL 57.14375 202.401875 \nQ 55.14375 202.401875 55.14375 204.401875 \nL 55.14375 232.758125 \nQ 55.14375 234.758125 57.14375 234.758125 \nz\n\" style=\"fill:#ffffff;opacity:0.8;stroke:#cccccc;stroke-linejoin:miter;\"/>\n    </g>\n    <g id=\"line2d_15\">\n     <path d=\"M 59.14375 210.500312 \nL 79.14375 210.500312 \n\" style=\"fill:none;stroke:#1f77b4;stroke-linecap:square;stroke-width:1.5;\"/>\n    </g>\n    <g id=\"line2d_16\"/>\n    <g id=\"text_17\">\n     <!-- Prec-Rec Curve -->\n     <g transform=\"translate(87.14375 214.000312)scale(0.1 -0.1)\">\n      <defs>\n       <path d=\"M 4.890625 31.390625 \nL 31.203125 31.390625 \nL 31.203125 23.390625 \nL 4.890625 23.390625 \nz\n\" id=\"DejaVuSans-45\"/>\n       <path d=\"M 64.40625 67.28125 \nL 64.40625 56.890625 \nQ 59.421875 61.53125 53.78125 63.8125 \nQ 48.140625 66.109375 41.796875 66.109375 \nQ 29.296875 66.109375 22.65625 58.46875 \nQ 16.015625 50.828125 16.015625 36.375 \nQ 16.015625 21.96875 22.65625 14.328125 \nQ 29.296875 6.6875 41.796875 6.6875 \nQ 48.140625 6.6875 53.78125 8.984375 \nQ 59.421875 11.28125 64.40625 15.921875 \nL 64.40625 5.609375 \nQ 59.234375 2.09375 53.4375 0.328125 \nQ 47.65625 -1.421875 41.21875 -1.421875 \nQ 24.65625 -1.421875 15.125 8.703125 \nQ 5.609375 18.84375 5.609375 36.375 \nQ 5.609375 53.953125 15.125 64.078125 \nQ 24.65625 74.21875 41.21875 74.21875 \nQ 47.75 74.21875 53.53125 72.484375 \nQ 59.328125 70.75 64.40625 67.28125 \nz\n\" id=\"DejaVuSans-67\"/>\n       <path d=\"M 8.5 21.578125 \nL 8.5 54.6875 \nL 17.484375 54.6875 \nL 17.484375 21.921875 \nQ 17.484375 14.15625 20.5 10.265625 \nQ 23.53125 6.390625 29.59375 6.390625 \nQ 36.859375 6.390625 41.078125 11.03125 \nQ 45.3125 15.671875 45.3125 23.6875 \nL 45.3125 54.6875 \nL 54.296875 54.6875 \nL 54.296875 0 \nL 45.3125 0 \nL 45.3125 8.40625 \nQ 42.046875 3.421875 37.71875 1 \nQ 33.40625 -1.421875 27.6875 -1.421875 \nQ 18.265625 -1.421875 13.375 4.4375 \nQ 8.5 10.296875 8.5 21.578125 \nz\nM 31.109375 56 \nz\n\" id=\"DejaVuSans-117\"/>\n       <path d=\"M 2.984375 54.6875 \nL 12.5 54.6875 \nL 29.59375 8.796875 \nL 46.6875 54.6875 \nL 56.203125 54.6875 \nL 35.6875 0 \nL 23.484375 0 \nz\n\" id=\"DejaVuSans-118\"/>\n      </defs>\n      <use xlink:href=\"#DejaVuSans-80\"/>\n      <use x=\"58.552734\" xlink:href=\"#DejaVuSans-114\"/>\n      <use x=\"97.416016\" xlink:href=\"#DejaVuSans-101\"/>\n      <use x=\"158.939453\" xlink:href=\"#DejaVuSans-99\"/>\n      <use x=\"213.919922\" xlink:href=\"#DejaVuSans-45\"/>\n      <use x=\"250.003906\" xlink:href=\"#DejaVuSans-82\"/>\n      <use x=\"314.986328\" xlink:href=\"#DejaVuSans-101\"/>\n      <use x=\"376.509766\" xlink:href=\"#DejaVuSans-99\"/>\n      <use x=\"431.490234\" xlink:href=\"#DejaVuSans-32\"/>\n      <use x=\"463.277344\" xlink:href=\"#DejaVuSans-67\"/>\n      <use x=\"533.101562\" xlink:href=\"#DejaVuSans-117\"/>\n      <use x=\"596.480469\" xlink:href=\"#DejaVuSans-114\"/>\n      <use x=\"637.59375\" xlink:href=\"#DejaVuSans-118\"/>\n      <use x=\"696.773438\" xlink:href=\"#DejaVuSans-101\"/>\n     </g>\n    </g>\n    <g id=\"PathCollection_2\">\n     <g>\n      <use style=\"fill:#ff0000;stroke:#ff0000;\" x=\"69.14375\" xlink:href=\"#m849796ca8d\" y=\"226.053437\"/>\n     </g>\n    </g>\n    <g id=\"text_18\">\n     <!-- Best F-score: 0.6369247797028649 -->\n     <g transform=\"translate(87.14375 228.678437)scale(0.1 -0.1)\">\n      <defs>\n       <path d=\"M 9.8125 72.90625 \nL 51.703125 72.90625 \nL 51.703125 64.59375 \nL 19.671875 64.59375 \nL 19.671875 43.109375 \nL 48.578125 43.109375 \nL 48.578125 34.8125 \nL 19.671875 34.8125 \nL 19.671875 0 \nL 9.8125 0 \nz\n\" id=\"DejaVuSans-70\"/>\n       <path d=\"M 11.71875 12.40625 \nL 22.015625 12.40625 \nL 22.015625 0 \nL 11.71875 0 \nz\nM 11.71875 51.703125 \nL 22.015625 51.703125 \nL 22.015625 39.3125 \nL 11.71875 39.3125 \nz\n\" id=\"DejaVuSans-58\"/>\n       <path d=\"M 40.578125 39.3125 \nQ 47.65625 37.796875 51.625 33 \nQ 55.609375 28.21875 55.609375 21.1875 \nQ 55.609375 10.40625 48.1875 4.484375 \nQ 40.765625 -1.421875 27.09375 -1.421875 \nQ 22.515625 -1.421875 17.65625 -0.515625 \nQ 12.796875 0.390625 7.625 2.203125 \nL 7.625 11.71875 \nQ 11.71875 9.328125 16.59375 8.109375 \nQ 21.484375 6.890625 26.8125 6.890625 \nQ 36.078125 6.890625 40.9375 10.546875 \nQ 45.796875 14.203125 45.796875 21.1875 \nQ 45.796875 27.640625 41.28125 31.265625 \nQ 36.765625 34.90625 28.71875 34.90625 \nL 20.21875 34.90625 \nL 20.21875 43.015625 \nL 29.109375 43.015625 \nQ 36.375 43.015625 40.234375 45.921875 \nQ 44.09375 48.828125 44.09375 54.296875 \nQ 44.09375 59.90625 40.109375 62.90625 \nQ 36.140625 65.921875 28.71875 65.921875 \nQ 24.65625 65.921875 20.015625 65.03125 \nQ 15.375 64.15625 9.8125 62.3125 \nL 9.8125 71.09375 \nQ 15.4375 72.65625 20.34375 73.4375 \nQ 25.25 74.21875 29.59375 74.21875 \nQ 40.828125 74.21875 47.359375 69.109375 \nQ 53.90625 64.015625 53.90625 55.328125 \nQ 53.90625 49.265625 50.4375 45.09375 \nQ 46.96875 40.921875 40.578125 39.3125 \nz\n\" id=\"DejaVuSans-51\"/>\n      </defs>\n      <use xlink:href=\"#DejaVuSans-66\"/>\n      <use x=\"68.603516\" xlink:href=\"#DejaVuSans-101\"/>\n      <use x=\"130.126953\" xlink:href=\"#DejaVuSans-115\"/>\n      <use x=\"182.226562\" xlink:href=\"#DejaVuSans-116\"/>\n      <use x=\"221.435547\" xlink:href=\"#DejaVuSans-32\"/>\n      <use x=\"253.222656\" xlink:href=\"#DejaVuSans-70\"/>\n      <use x=\"310.742188\" xlink:href=\"#DejaVuSans-45\"/>\n      <use x=\"346.826172\" xlink:href=\"#DejaVuSans-115\"/>\n      <use x=\"398.925781\" xlink:href=\"#DejaVuSans-99\"/>\n      <use x=\"453.90625\" xlink:href=\"#DejaVuSans-111\"/>\n      <use x=\"515.087891\" xlink:href=\"#DejaVuSans-114\"/>\n      <use x=\"553.951172\" xlink:href=\"#DejaVuSans-101\"/>\n      <use x=\"615.474609\" xlink:href=\"#DejaVuSans-58\"/>\n      <use x=\"649.166016\" xlink:href=\"#DejaVuSans-32\"/>\n      <use x=\"680.953125\" xlink:href=\"#DejaVuSans-48\"/>\n      <use x=\"744.576172\" xlink:href=\"#DejaVuSans-46\"/>\n      <use x=\"776.363281\" xlink:href=\"#DejaVuSans-54\"/>\n      <use x=\"839.986328\" xlink:href=\"#DejaVuSans-51\"/>\n      <use x=\"903.609375\" xlink:href=\"#DejaVuSans-54\"/>\n      <use x=\"967.232422\" xlink:href=\"#DejaVuSans-57\"/>\n      <use x=\"1030.855469\" xlink:href=\"#DejaVuSans-50\"/>\n      <use x=\"1094.478516\" xlink:href=\"#DejaVuSans-52\"/>\n      <use x=\"1158.101562\" xlink:href=\"#DejaVuSans-55\"/>\n      <use x=\"1221.724609\" xlink:href=\"#DejaVuSans-55\"/>\n      <use x=\"1285.347656\" xlink:href=\"#DejaVuSans-57\"/>\n      <use x=\"1348.970703\" xlink:href=\"#DejaVuSans-55\"/>\n      <use x=\"1412.59375\" xlink:href=\"#DejaVuSans-48\"/>\n      <use x=\"1476.216797\" xlink:href=\"#DejaVuSans-50\"/>\n      <use x=\"1539.839844\" xlink:href=\"#DejaVuSans-56\"/>\n      <use x=\"1603.462891\" xlink:href=\"#DejaVuSans-54\"/>\n      <use x=\"1667.085938\" xlink:href=\"#DejaVuSans-52\"/>\n      <use x=\"1730.708984\" xlink:href=\"#DejaVuSans-57\"/>\n     </g>\n    </g>\n   </g>\n  </g>\n </g>\n <defs>\n  <clipPath id=\"p28f1fb39cd\">\n   <rect height=\"217.44\" width=\"334.8\" x=\"50.14375\" y=\"22.318125\"/>\n  </clipPath>\n </defs>\n</svg>\n",
      "image/png": "[encoded data removed]"
     },
     "metadata": {
      "needs_background": "light"
     }
    }
   ],
   "source": [
    "true_pos_total = 0\n",
    "false_pos_total = 0\n",
    "true_labels_total = 0\n",
    "thresholds = np.arange(0.1,1.0,0.02)\n",
    "precisions = []\n",
    "recalls = []\n",
    "best_fscore = 0\n",
    "\n",
    "for threshold in thresholds:\n",
    "    for i in range(10):\n",
    "        fname = \"/Users/thomasathey/Documents/mimlab/mouselight/ailey/benchmark_formal/val_\" + str(i) + \".h5\"\n",
    "        f = h5py.File(fname, 'r')\n",
    "        im = f.get('image_2channel')\n",
    "        im_bg = im[0,:,:,:]\n",
    "        im_fg = im[1,:,:,:]\n",
    "\n",
    "        fname = \"/Users/thomasathey/Documents/mimlab/mouselight/ailey/benchmark_formal/val_\" + str(i) + \"-image_2channel_Labels.h5\"\n",
    "        f = h5py.File(fname, 'r')\n",
    "        gt = f.get('exported_data')\n",
    "        gt = gt[0,:,:,:]\n",
    "        pos_labels = gt == 2\n",
    "        num_pos_labels = np.sum(pos_labels)\n",
    "\n",
    "        fname = \"/Users/thomasathey/Documents/mimlab/mouselight/ailey/benchmark_formal/val_\" + str(i) + \"_Probabilities.h5\"\n",
    "        f = h5py.File(fname, 'r')\n",
    "        seg = f.get('exported_data')\n",
    "        seg = seg[1,:,:,:]\n",
    "        mask = seg > threshold\n",
    "\n",
    "        true_pos = np.sum(np.logical_and(mask, pos_labels))\n",
    "        true_pos_total += true_pos\n",
    "        false_pos = np.sum(np.logical_and(mask, gt == 1))\n",
    "        false_pos_total += false_pos\n",
    "        true_labels = np.sum(pos_labels)\n",
    "        true_labels_total += true_labels\n",
    "        \n",
    "        if num_pos_labels > 0:\n",
    "            precision = true_pos/(true_pos + false_pos)\n",
    "            recall = true_pos/true_labels\n",
    "            #print(f\"Example {i}: precision: {precision}, recall: {recall}\")\n",
    "        else:\n",
    "            #print(f\"Example {i}: 0 positive labels, false positive rate is: {false_pos/np.sum(gt == 1)}\")\n",
    "            pass\n",
    "        '''\n",
    "        viewer = napari.Viewer(ndisplay=3)\n",
    "        viewer.add_image(im_bg)\n",
    "        viewer.add_image(im_fg)\n",
    "        viewer.add_labels(gt)\n",
    "        viewer.add_labels(mask)\n",
    "        '''\n",
    "    precision_total = true_pos_total/(true_pos_total + false_pos_total)\n",
    "    recall_total = true_pos_total/true_labels_total\n",
    "    fscore = 2/(1/precision_total+1/recall_total)\n",
    "    print(f\"Threshold: {threshold} ----- Total precision: {precision_total} total recall: {recall_total} with {true_labels_total} total positive voxels. F-score: {fscore}\")\n",
    "    if fscore > best_fscore:\n",
    "        best_fscore = fscore\n",
    "        best_prec = precision_total\n",
    "        best_recall = recall_total\n",
    "    precisions.append(precision_total) \n",
    "    recalls.append(recall_total)\n",
    "plt.plot(recalls, precisions, label='Prec-Rec Curve')\n",
    "plt.scatter([best_recall], [best_prec], c='red', label=f\"Best F-score: {best_fscore}\")\n",
    "plt.ylabel('Precision')\n",
    "plt.xlabel('Recall')\n",
    "plt.title('Validation Performance Brain1')\n",
    "plt.legend()"
   ]
  },
  {
   "source": [
    "## Brain 2 "
   ],
   "cell_type": "markdown",
   "metadata": {}
  },
  {
   "cell_type": "code",
   "execution_count": 5,
   "metadata": {},
   "outputs": [
    {
     "output_type": "stream",
     "name": "stdout",
     "text": [
      "[5602 8800 4200    1]\n"
     ]
    }
   ],
   "source": [
    "dir = \"precomputed://https://dlab-colm.neurodata.io/2021_06_02_Sert_Cre/Ch_647\"\n",
    "mip = 0\n",
    "\n",
    "vol_fg = CloudVolume(dir, parallel=1, mip=mip, fill_missing=True)\n",
    "shape = vol_fg.shape\n",
    "print(shape)\n",
    "\n",
    "centers_val = [[2626,3837,2366],[799,3315,2366],[3851,5443,2346],[3260,5490,2351],[3198,7658,2351],[2998,4502,1215],[4269,1657,1215],[3071,1153,3412],[3672,1792,409],[2235,4195,409]]"
   ]
  },
  {
   "cell_type": "code",
   "execution_count": 7,
   "metadata": {},
   "outputs": [
    {
     "output_type": "stream",
     "name": "stderr",
     "text": [
      "Downloading: 382it [00:02, 135.56it/s]\n",
      "Downloading: 786it [00:11, 68.01it/s] \n",
      "Downloading: 392it [00:06, 63.32it/s] \n",
      "Downloading: 384it [00:07, 52.63it/s]\n",
      "Downloading: 788it [00:11, 68.33it/s] \n",
      "Downloading: 392it [00:05, 65.51it/s] \n",
      "Downloading: 788it [00:11, 69.72it/s] \n",
      "Downloading: 784it [00:12, 64.19it/s] \n",
      "Downloading: 780it [00:11, 68.05it/s] \n",
      "Downloading: 390it [00:06, 64.98it/s] \n"
     ]
    }
   ],
   "source": [
    "for i, center in enumerate(centers_val):\n",
    "    image_fg = vol_fg[center[0]-49:center[0]+50,center[1]-49:center[1]+50, center[2]-49:center[2]+50]\n",
    "    image_fg = image_fg[:,:,:,0]\n",
    "\n",
    "    image_bg = 0*image_fg\n",
    "    image_2channel = np.stack([image_bg, image_fg], axis=0)\n",
    "    \n",
    "    fname = \"/Users/thomasathey/Documents/mimlab/mouselight/ailey/benchmark_formal/brain2/val_\" + str(i) + \".h5\"\n",
    "    with h5py.File(fname, \"w\") as f:\n",
    "        dset = f.create_dataset(\"image_2channel\", data=image_2channel)\n",
    "    "
   ]
  },
  {
   "cell_type": "code",
   "execution_count": 11,
   "metadata": {},
   "outputs": [
    {
     "output_type": "stream",
     "name": "stderr",
     "text": [
      "Downloading: 386it [00:02, 133.43it/s]\n"
     ]
    },
    {
     "output_type": "execute_result",
     "data": {
      "text/plain": [
       "<Image layer 'image_fg' at 0x147ecc7c0>"
      ]
     },
     "metadata": {},
     "execution_count": 11
    }
   ],
   "source": [
    "center = centers_val[9]\n",
    "\n",
    "image_fg = vol_fg[center[0]-49:center[0]+50,center[1]-49:center[1]+50, center[2]-49:center[2]+50]\n",
    "image_fg = image_fg[:,:,:,0]\n",
    "\n",
    "\n",
    "viewer = napari.Viewer(ndisplay=3)\n",
    "viewer.add_image(image_fg)"
   ]
  },
  {
   "cell_type": "code",
   "execution_count": 39,
   "metadata": {},
   "outputs": [
    {
     "output_type": "stream",
     "name": "stdout",
     "text": [
      "Threshold: 0.1 ----- Total precision: 0.30165745856353593 total recall: 0.9831932773109243 with 833 total positive voxels. F-score: 0.46166854565952653\n",
      "Threshold: 0.12000000000000001 ----- Total precision: 0.30673692133985697 total recall: 0.978391356542617 with 1666 total positive voxels. F-score: 0.4670487106017192\n",
      "Threshold: 0.14 ----- Total precision: 0.31401652039235933 total recall: 0.9735894357743097 with 2499 total positive voxels. F-score: 0.47487069386161807\n",
      "Threshold: 0.16000000000000003 ----- Total precision: 0.3229626655961461 total recall: 0.9657863145258103 with 3332 total positive voxels. F-score: 0.4840553549939831\n",
      "Threshold: 0.18000000000000002 ----- Total precision: 0.3315240083507307 total recall: 0.9531812725090036 with 4165 total positive voxels. F-score: 0.4919454770755886\n",
      "Threshold: 0.2 ----- Total precision: 0.34033735640540935 total recall: 0.9365746298519407 with 4998 total positive voxels. F-score: 0.4992534129692833\n",
      "Threshold: 0.22000000000000003 ----- Total precision: 0.34967682966638375 total recall: 0.9185388441090722 with 5831 total positive voxels. F-score: 0.5065254397578967\n",
      "Threshold: 0.24000000000000002 ----- Total precision: 0.36023988005997004 total recall: 0.9014105642256903 with 6664 total positive voxels. F-score: 0.5147607009726209\n",
      "Threshold: 0.26 ----- Total precision: 0.3718200707586904 total recall: 0.8831532613045218 with 7497 total positive voxels. F-score: 0.5233164717040784\n",
      "Threshold: 0.28 ----- Total precision: 0.3841440673450903 total recall: 0.865546218487395 with 8330 total positive voxels. F-score: 0.532122956566663\n",
      "Threshold: 0.30000000000000004 ----- Total precision: 0.39652094067234606 total recall: 0.8483029575466551 with 9163 total positive voxels. F-score: 0.5404296739206007\n",
      "Threshold: 0.32000000000000006 ----- Total precision: 0.4089947350292772 total recall: 0.8315326130452181 with 9996 total positive voxels. F-score: 0.5483030442956562\n",
      "Threshold: 0.3400000000000001 ----- Total precision: 0.4197672748168367 total recall: 0.8094930279804229 with 10829 total positive voxels. F-score: 0.5528506559031281\n",
      "Threshold: 0.3600000000000001 ----- Total precision: 0.42748810701332957 total recall: 0.7782541588063797 with 11662 total positive voxels. F-score: 0.5518499376767093\n",
      "Threshold: 0.38 ----- Total precision: 0.43231135377292457 total recall: 0.7414165666266507 with 12495 total positive voxels. F-score: 0.5461620091970287\n",
      "Threshold: 0.4 ----- Total precision: 0.4359093227017755 total recall: 0.7055072028811524 with 13328 total positive voxels. F-score: 0.538869308576177\n",
      "Threshold: 0.42000000000000004 ----- Total precision: 0.43880844784653694 total recall: 0.6719864416354777 with 14161 total positive voxels. F-score: 0.5309230897983095\n",
      "Threshold: 0.44000000000000006 ----- Total precision: 0.44095898589996785 total recall: 0.6403227957849806 with 14994 total positive voxels. F-score: 0.5222618108630022\n",
      "Threshold: 0.4600000000000001 ----- Total precision: 0.44259742638640837 total recall: 0.6106653187590826 with 15827 total positive voxels. F-score: 0.5132221750212405\n",
      "Threshold: 0.4800000000000001 ----- Total precision: 0.4437691358588859 total recall: 0.5828931572629051 with 16660 total positive voxels. F-score: 0.503904729782321\n",
      "Threshold: 0.5000000000000001 ----- Total precision: 0.4444799415818539 total recall: 0.5567369805064883 with 17493 total positive voxels. F-score: 0.4943152979392956\n",
      "Threshold: 0.5200000000000001 ----- Total precision: 0.4447080291970803 total recall: 0.5319218596529521 with 18326 total positive voxels. F-score: 0.4844208120061621\n",
      "Threshold: 0.54 ----- Total precision: 0.44488530122679804 total recall: 0.5091601858134558 with 19159 total positive voxels. F-score: 0.474857615732853\n",
      "Threshold: 0.56 ----- Total precision: 0.4449612403100775 total recall: 0.4880952380952381 with 19992 total positive voxels. F-score: 0.46553122465531227\n",
      "Threshold: 0.5800000000000001 ----- Total precision: 0.4449612403100775 total recall: 0.4685714285714286 with 20825 total positive voxels. F-score: 0.45646123260437377\n",
      "Threshold: 0.6000000000000001 ----- Total precision: 0.4449612403100775 total recall: 0.45054945054945056 with 21658 total positive voxels. F-score: 0.44773790951638065\n",
      "Threshold: 0.6200000000000001 ----- Total precision: 0.4449612403100775 total recall: 0.43386243386243384 with 22491 total positive voxels. F-score: 0.43934175277458853\n",
      "Threshold: 0.6400000000000001 ----- Total precision: 0.4449612403100775 total recall: 0.41836734693877553 with 23324 total positive voxels. F-score: 0.4312546957175057\n",
      "Threshold: 0.66 ----- Total precision: 0.4449612403100775 total recall: 0.4039408866995074 with 24157 total positive voxels. F-score: 0.4234599778679454\n",
      "Threshold: 0.68 ----- Total precision: 0.4449612403100775 total recall: 0.3904761904761905 with 24990 total positive voxels. F-score: 0.4159420289855072\n",
      "Threshold: 0.7000000000000001 ----- Total precision: 0.4449612403100775 total recall: 0.3778801843317972 with 25823 total positive voxels. F-score: 0.408686365254539\n",
      "Threshold: 0.7200000000000001 ----- Total precision: 0.4449612403100775 total recall: 0.36607142857142855 with 26656 total positive voxels. F-score: 0.40167949615115467\n",
      "Threshold: 0.7400000000000001 ----- Total precision: 0.4449612403100775 total recall: 0.354978354978355 with 27489 total positive voxels. F-score: 0.3949088407292741\n",
      "Threshold: 0.7600000000000001 ----- Total precision: 0.4449612403100775 total recall: 0.3445378151260504 with 28322 total positive voxels. F-score: 0.38836265223274696\n",
      "Threshold: 0.7800000000000001 ----- Total precision: 0.4449612403100775 total recall: 0.3346938775510204 with 29155 total positive voxels. F-score: 0.38202995008319474\n",
      "Threshold: 0.8000000000000002 ----- Total precision: 0.4449612403100775 total recall: 0.3253968253968254 with 29988 total positive voxels. F-score: 0.3759004584151932\n",
      "Threshold: 0.8200000000000002 ----- Total precision: 0.4449612403100775 total recall: 0.3166023166023166 with 30821 total positive voxels. F-score: 0.3699645504350628\n",
      "Threshold: 0.8400000000000001 ----- Total precision: 0.4449612403100775 total recall: 0.3082706766917293 with 31654 total positive voxels. F-score: 0.36421319796954316\n",
      "Threshold: 0.8600000000000001 ----- Total precision: 0.4449612403100775 total recall: 0.30036630036630035 with 32487 total positive voxels. F-score: 0.35863792564823493\n",
      "Threshold: 0.8800000000000001 ----- Total precision: 0.4449612403100775 total recall: 0.29285714285714287 with 33320 total positive voxels. F-score: 0.35323076923076924\n",
      "Threshold: 0.9000000000000001 ----- Total precision: 0.4449612403100775 total recall: 0.2857142857142857 with 34153 total positive voxels. F-score: 0.34798423764777203\n",
      "Threshold: 0.9200000000000002 ----- Total precision: 0.4449612403100775 total recall: 0.2789115646258503 with 34986 total positive voxels. F-score: 0.3428912783751493\n",
      "Threshold: 0.9400000000000002 ----- Total precision: 0.4449612403100775 total recall: 0.2724252491694352 with 35819 total positive voxels. F-score: 0.33794524580512214\n",
      "Threshold: 0.9600000000000002 ----- Total precision: 0.4449612403100775 total recall: 0.2662337662337662 with 36652 total positive voxels. F-score: 0.33313987231572834\n",
      "Threshold: 0.9800000000000001 ----- Total precision: 0.4449612403100775 total recall: 0.26031746031746034 with 37485 total positive voxels. F-score: 0.32846924177396286\n"
     ]
    },
    {
     "output_type": "execute_result",
     "data": {
      "text/plain": [
       "<matplotlib.legend.Legend at 0x1600c7e20>"
      ]
     },
     "metadata": {},
     "execution_count": 39
    },
    {
     "output_type": "display_data",
     "data": {
      "text/plain": "<Figure size 432x288 with 1 Axes>",
      "image/svg+xml": "<?xml version=\"1.0\" encoding=\"utf-8\" standalone=\"no\"?>\n<!DOCTYPE svg PUBLIC \"-//W3C//DTD SVG 1.1//EN\"\n  \"http://www.w3.org/Graphics/SVG/1.1/DTD/svg11.dtd\">\n<!-- Created with matplotlib (https://matplotlib.org/) -->\n<svg height=\"277.314375pt\" version=\"1.1\" viewBox=\"0 0 392.14375 277.314375\" width=\"392.14375pt\" xmlns=\"http://www.w3.org/2000/svg\" xmlns:xlink=\"http://www.w3.org/1999/xlink\">\n <metadata>\n  <rdf:RDF xmlns:cc=\"http://creativecommons.org/ns#\" xmlns:dc=\"http://purl.org/dc/elements/1.1/\" xmlns:rdf=\"http://www.w3.org/1999/02/22-rdf-syntax-ns#\">\n   <cc:Work>\n    <dc:type rdf:resource=\"http://purl.org/dc/dcmitype/StillImage\"/>\n    <dc:date>2021-06-24T10:15:56.155069</dc:date>\n    <dc:format>image/svg+xml</dc:format>\n    <dc:creator>\n     <cc:Agent>\n      <dc:title>Matplotlib v3.3.2, https://matplotlib.org/</dc:title>\n     </cc:Agent>\n    </dc:creator>\n   </cc:Work>\n  </rdf:RDF>\n </metadata>\n <defs>\n  <style type=\"text/css\">*{stroke-linecap:butt;stroke-linejoin:round;}</style>\n </defs>\n <g id=\"figure_1\">\n  <g id=\"patch_1\">\n   <path d=\"M 0 277.314375 \nL 392.14375 277.314375 \nL 392.14375 0 \nL 0 0 \nz\n\" style=\"fill:none;\"/>\n  </g>\n  <g id=\"axes_1\">\n   <g id=\"patch_2\">\n    <path d=\"M 50.14375 239.758125 \nL 384.94375 239.758125 \nL 384.94375 22.318125 \nL 50.14375 22.318125 \nz\n\" style=\"fill:#ffffff;\"/>\n   </g>\n   <g id=\"PathCollection_1\">\n    <defs>\n     <path d=\"M 0 3 \nC 0.795609 3 1.55874 2.683901 2.12132 2.12132 \nC 2.683901 1.55874 3 0.795609 3 0 \nC 3 -0.795609 2.683901 -1.55874 2.12132 -2.12132 \nC 1.55874 -2.683901 0.795609 -3 0 -3 \nC -0.795609 -3 -1.55874 -2.683901 -2.12132 -2.12132 \nC -2.683901 -1.55874 -3 -0.795609 -3 0 \nC -3 0.795609 -2.683901 1.55874 -2.12132 2.12132 \nC -1.55874 2.683901 -0.795609 3 0 3 \nz\n\" id=\"m4aad3649ea\" style=\"stroke:#ff0000;\"/>\n    </defs>\n    <g clip-path=\"url(#pd8ea93d05b)\">\n     <use style=\"fill:#ff0000;stroke:#ff0000;\" x=\"296.589853\" xlink:href=\"#m4aad3649ea\" y=\"66.954228\"/>\n    </g>\n   </g>\n   <g id=\"matplotlib.axis_1\">\n    <g id=\"xtick_1\">\n     <g id=\"line2d_1\">\n      <defs>\n       <path d=\"M 0 0 \nL 0 3.5 \n\" id=\"mb0c7593e5b\" style=\"stroke:#000000;stroke-width:0.8;\"/>\n      </defs>\n      <g>\n       <use style=\"stroke:#000000;stroke-width:0.8;\" x=\"82.070088\" xlink:href=\"#mb0c7593e5b\" y=\"239.758125\"/>\n      </g>\n     </g>\n     <g id=\"text_1\">\n      <!-- 0.3 -->\n      <g transform=\"translate(74.118526 254.356562)scale(0.1 -0.1)\">\n       <defs>\n        <path d=\"M 31.78125 66.40625 \nQ 24.171875 66.40625 20.328125 58.90625 \nQ 16.5 51.421875 16.5 36.375 \nQ 16.5 21.390625 20.328125 13.890625 \nQ 24.171875 6.390625 31.78125 6.390625 \nQ 39.453125 6.390625 43.28125 13.890625 \nQ 47.125 21.390625 47.125 36.375 \nQ 47.125 51.421875 43.28125 58.90625 \nQ 39.453125 66.40625 31.78125 66.40625 \nz\nM 31.78125 74.21875 \nQ 44.046875 74.21875 50.515625 64.515625 \nQ 56.984375 54.828125 56.984375 36.375 \nQ 56.984375 17.96875 50.515625 8.265625 \nQ 44.046875 -1.421875 31.78125 -1.421875 \nQ 19.53125 -1.421875 13.0625 8.265625 \nQ 6.59375 17.96875 6.59375 36.375 \nQ 6.59375 54.828125 13.0625 64.515625 \nQ 19.53125 74.21875 31.78125 74.21875 \nz\n\" id=\"DejaVuSans-48\"/>\n        <path d=\"M 10.6875 12.40625 \nL 21 12.40625 \nL 21 0 \nL 10.6875 0 \nz\n\" id=\"DejaVuSans-46\"/>\n        <path d=\"M 40.578125 39.3125 \nQ 47.65625 37.796875 51.625 33 \nQ 55.609375 28.21875 55.609375 21.1875 \nQ 55.609375 10.40625 48.1875 4.484375 \nQ 40.765625 -1.421875 27.09375 -1.421875 \nQ 22.515625 -1.421875 17.65625 -0.515625 \nQ 12.796875 0.390625 7.625 2.203125 \nL 7.625 11.71875 \nQ 11.71875 9.328125 16.59375 8.109375 \nQ 21.484375 6.890625 26.8125 6.890625 \nQ 36.078125 6.890625 40.9375 10.546875 \nQ 45.796875 14.203125 45.796875 21.1875 \nQ 45.796875 27.640625 41.28125 31.265625 \nQ 36.765625 34.90625 28.71875 34.90625 \nL 20.21875 34.90625 \nL 20.21875 43.015625 \nL 29.109375 43.015625 \nQ 36.375 43.015625 40.234375 45.921875 \nQ 44.09375 48.828125 44.09375 54.296875 \nQ 44.09375 59.90625 40.109375 62.90625 \nQ 36.140625 65.921875 28.71875 65.921875 \nQ 24.65625 65.921875 20.015625 65.03125 \nQ 15.375 64.15625 9.8125 62.3125 \nL 9.8125 71.09375 \nQ 15.4375 72.65625 20.34375 73.4375 \nQ 25.25 74.21875 29.59375 74.21875 \nQ 40.828125 74.21875 47.359375 69.109375 \nQ 53.90625 64.015625 53.90625 55.328125 \nQ 53.90625 49.265625 50.4375 45.09375 \nQ 46.96875 40.921875 40.578125 39.3125 \nz\n\" id=\"DejaVuSans-51\"/>\n       </defs>\n       <use xlink:href=\"#DejaVuSans-48\"/>\n       <use x=\"63.623047\" xlink:href=\"#DejaVuSans-46\"/>\n       <use x=\"95.410156\" xlink:href=\"#DejaVuSans-51\"/>\n      </g>\n     </g>\n    </g>\n    <g id=\"xtick_2\">\n     <g id=\"line2d_2\">\n      <g>\n       <use style=\"stroke:#000000;stroke-width:0.8;\" x=\"124.174642\" xlink:href=\"#mb0c7593e5b\" y=\"239.758125\"/>\n      </g>\n     </g>\n     <g id=\"text_2\">\n      <!-- 0.4 -->\n      <g transform=\"translate(116.223079 254.356562)scale(0.1 -0.1)\">\n       <defs>\n        <path d=\"M 37.796875 64.3125 \nL 12.890625 25.390625 \nL 37.796875 25.390625 \nz\nM 35.203125 72.90625 \nL 47.609375 72.90625 \nL 47.609375 25.390625 \nL 58.015625 25.390625 \nL 58.015625 17.1875 \nL 47.609375 17.1875 \nL 47.609375 0 \nL 37.796875 0 \nL 37.796875 17.1875 \nL 4.890625 17.1875 \nL 4.890625 26.703125 \nz\n\" id=\"DejaVuSans-52\"/>\n       </defs>\n       <use xlink:href=\"#DejaVuSans-48\"/>\n       <use x=\"63.623047\" xlink:href=\"#DejaVuSans-46\"/>\n       <use x=\"95.410156\" xlink:href=\"#DejaVuSans-52\"/>\n      </g>\n     </g>\n    </g>\n    <g id=\"xtick_3\">\n     <g id=\"line2d_3\">\n      <g>\n       <use style=\"stroke:#000000;stroke-width:0.8;\" x=\"166.279195\" xlink:href=\"#mb0c7593e5b\" y=\"239.758125\"/>\n      </g>\n     </g>\n     <g id=\"text_3\">\n      <!-- 0.5 -->\n      <g transform=\"translate(158.327633 254.356562)scale(0.1 -0.1)\">\n       <defs>\n        <path d=\"M 10.796875 72.90625 \nL 49.515625 72.90625 \nL 49.515625 64.59375 \nL 19.828125 64.59375 \nL 19.828125 46.734375 \nQ 21.96875 47.46875 24.109375 47.828125 \nQ 26.265625 48.1875 28.421875 48.1875 \nQ 40.625 48.1875 47.75 41.5 \nQ 54.890625 34.8125 54.890625 23.390625 \nQ 54.890625 11.625 47.5625 5.09375 \nQ 40.234375 -1.421875 26.90625 -1.421875 \nQ 22.3125 -1.421875 17.546875 -0.640625 \nQ 12.796875 0.140625 7.71875 1.703125 \nL 7.71875 11.625 \nQ 12.109375 9.234375 16.796875 8.0625 \nQ 21.484375 6.890625 26.703125 6.890625 \nQ 35.15625 6.890625 40.078125 11.328125 \nQ 45.015625 15.765625 45.015625 23.390625 \nQ 45.015625 31 40.078125 35.4375 \nQ 35.15625 39.890625 26.703125 39.890625 \nQ 22.75 39.890625 18.8125 39.015625 \nQ 14.890625 38.140625 10.796875 36.28125 \nz\n\" id=\"DejaVuSans-53\"/>\n       </defs>\n       <use xlink:href=\"#DejaVuSans-48\"/>\n       <use x=\"63.623047\" xlink:href=\"#DejaVuSans-46\"/>\n       <use x=\"95.410156\" xlink:href=\"#DejaVuSans-53\"/>\n      </g>\n     </g>\n    </g>\n    <g id=\"xtick_4\">\n     <g id=\"line2d_4\">\n      <g>\n       <use style=\"stroke:#000000;stroke-width:0.8;\" x=\"208.383749\" xlink:href=\"#mb0c7593e5b\" y=\"239.758125\"/>\n      </g>\n     </g>\n     <g id=\"text_4\">\n      <!-- 0.6 -->\n      <g transform=\"translate(200.432187 254.356562)scale(0.1 -0.1)\">\n       <defs>\n        <path d=\"M 33.015625 40.375 \nQ 26.375 40.375 22.484375 35.828125 \nQ 18.609375 31.296875 18.609375 23.390625 \nQ 18.609375 15.53125 22.484375 10.953125 \nQ 26.375 6.390625 33.015625 6.390625 \nQ 39.65625 6.390625 43.53125 10.953125 \nQ 47.40625 15.53125 47.40625 23.390625 \nQ 47.40625 31.296875 43.53125 35.828125 \nQ 39.65625 40.375 33.015625 40.375 \nz\nM 52.59375 71.296875 \nL 52.59375 62.3125 \nQ 48.875 64.0625 45.09375 64.984375 \nQ 41.3125 65.921875 37.59375 65.921875 \nQ 27.828125 65.921875 22.671875 59.328125 \nQ 17.53125 52.734375 16.796875 39.40625 \nQ 19.671875 43.65625 24.015625 45.921875 \nQ 28.375 48.1875 33.59375 48.1875 \nQ 44.578125 48.1875 50.953125 41.515625 \nQ 57.328125 34.859375 57.328125 23.390625 \nQ 57.328125 12.15625 50.6875 5.359375 \nQ 44.046875 -1.421875 33.015625 -1.421875 \nQ 20.359375 -1.421875 13.671875 8.265625 \nQ 6.984375 17.96875 6.984375 36.375 \nQ 6.984375 53.65625 15.1875 63.9375 \nQ 23.390625 74.21875 37.203125 74.21875 \nQ 40.921875 74.21875 44.703125 73.484375 \nQ 48.484375 72.75 52.59375 71.296875 \nz\n\" id=\"DejaVuSans-54\"/>\n       </defs>\n       <use xlink:href=\"#DejaVuSans-48\"/>\n       <use x=\"63.623047\" xlink:href=\"#DejaVuSans-46\"/>\n       <use x=\"95.410156\" xlink:href=\"#DejaVuSans-54\"/>\n      </g>\n     </g>\n    </g>\n    <g id=\"xtick_5\">\n     <g id=\"line2d_5\">\n      <g>\n       <use style=\"stroke:#000000;stroke-width:0.8;\" x=\"250.488303\" xlink:href=\"#mb0c7593e5b\" y=\"239.758125\"/>\n      </g>\n     </g>\n     <g id=\"text_5\">\n      <!-- 0.7 -->\n      <g transform=\"translate(242.53674 254.356562)scale(0.1 -0.1)\">\n       <defs>\n        <path d=\"M 8.203125 72.90625 \nL 55.078125 72.90625 \nL 55.078125 68.703125 \nL 28.609375 0 \nL 18.3125 0 \nL 43.21875 64.59375 \nL 8.203125 64.59375 \nz\n\" id=\"DejaVuSans-55\"/>\n       </defs>\n       <use xlink:href=\"#DejaVuSans-48\"/>\n       <use x=\"63.623047\" xlink:href=\"#DejaVuSans-46\"/>\n       <use x=\"95.410156\" xlink:href=\"#DejaVuSans-55\"/>\n      </g>\n     </g>\n    </g>\n    <g id=\"xtick_6\">\n     <g id=\"line2d_6\">\n      <g>\n       <use style=\"stroke:#000000;stroke-width:0.8;\" x=\"292.592856\" xlink:href=\"#mb0c7593e5b\" y=\"239.758125\"/>\n      </g>\n     </g>\n     <g id=\"text_6\">\n      <!-- 0.8 -->\n      <g transform=\"translate(284.641294 254.356562)scale(0.1 -0.1)\">\n       <defs>\n        <path d=\"M 31.78125 34.625 \nQ 24.75 34.625 20.71875 30.859375 \nQ 16.703125 27.09375 16.703125 20.515625 \nQ 16.703125 13.921875 20.71875 10.15625 \nQ 24.75 6.390625 31.78125 6.390625 \nQ 38.8125 6.390625 42.859375 10.171875 \nQ 46.921875 13.96875 46.921875 20.515625 \nQ 46.921875 27.09375 42.890625 30.859375 \nQ 38.875 34.625 31.78125 34.625 \nz\nM 21.921875 38.8125 \nQ 15.578125 40.375 12.03125 44.71875 \nQ 8.5 49.078125 8.5 55.328125 \nQ 8.5 64.0625 14.71875 69.140625 \nQ 20.953125 74.21875 31.78125 74.21875 \nQ 42.671875 74.21875 48.875 69.140625 \nQ 55.078125 64.0625 55.078125 55.328125 \nQ 55.078125 49.078125 51.53125 44.71875 \nQ 48 40.375 41.703125 38.8125 \nQ 48.828125 37.15625 52.796875 32.3125 \nQ 56.78125 27.484375 56.78125 20.515625 \nQ 56.78125 9.90625 50.3125 4.234375 \nQ 43.84375 -1.421875 31.78125 -1.421875 \nQ 19.734375 -1.421875 13.25 4.234375 \nQ 6.78125 9.90625 6.78125 20.515625 \nQ 6.78125 27.484375 10.78125 32.3125 \nQ 14.796875 37.15625 21.921875 38.8125 \nz\nM 18.3125 54.390625 \nQ 18.3125 48.734375 21.84375 45.5625 \nQ 25.390625 42.390625 31.78125 42.390625 \nQ 38.140625 42.390625 41.71875 45.5625 \nQ 45.3125 48.734375 45.3125 54.390625 \nQ 45.3125 60.0625 41.71875 63.234375 \nQ 38.140625 66.40625 31.78125 66.40625 \nQ 25.390625 66.40625 21.84375 63.234375 \nQ 18.3125 60.0625 18.3125 54.390625 \nz\n\" id=\"DejaVuSans-56\"/>\n       </defs>\n       <use xlink:href=\"#DejaVuSans-48\"/>\n       <use x=\"63.623047\" xlink:href=\"#DejaVuSans-46\"/>\n       <use x=\"95.410156\" xlink:href=\"#DejaVuSans-56\"/>\n      </g>\n     </g>\n    </g>\n    <g id=\"xtick_7\">\n     <g id=\"line2d_7\">\n      <g>\n       <use style=\"stroke:#000000;stroke-width:0.8;\" x=\"334.69741\" xlink:href=\"#mb0c7593e5b\" y=\"239.758125\"/>\n      </g>\n     </g>\n     <g id=\"text_7\">\n      <!-- 0.9 -->\n      <g transform=\"translate(326.745848 254.356562)scale(0.1 -0.1)\">\n       <defs>\n        <path d=\"M 10.984375 1.515625 \nL 10.984375 10.5 \nQ 14.703125 8.734375 18.5 7.8125 \nQ 22.3125 6.890625 25.984375 6.890625 \nQ 35.75 6.890625 40.890625 13.453125 \nQ 46.046875 20.015625 46.78125 33.40625 \nQ 43.953125 29.203125 39.59375 26.953125 \nQ 35.25 24.703125 29.984375 24.703125 \nQ 19.046875 24.703125 12.671875 31.3125 \nQ 6.296875 37.9375 6.296875 49.421875 \nQ 6.296875 60.640625 12.9375 67.421875 \nQ 19.578125 74.21875 30.609375 74.21875 \nQ 43.265625 74.21875 49.921875 64.515625 \nQ 56.59375 54.828125 56.59375 36.375 \nQ 56.59375 19.140625 48.40625 8.859375 \nQ 40.234375 -1.421875 26.421875 -1.421875 \nQ 22.703125 -1.421875 18.890625 -0.6875 \nQ 15.09375 0.046875 10.984375 1.515625 \nz\nM 30.609375 32.421875 \nQ 37.25 32.421875 41.125 36.953125 \nQ 45.015625 41.5 45.015625 49.421875 \nQ 45.015625 57.28125 41.125 61.84375 \nQ 37.25 66.40625 30.609375 66.40625 \nQ 23.96875 66.40625 20.09375 61.84375 \nQ 16.21875 57.28125 16.21875 49.421875 \nQ 16.21875 41.5 20.09375 36.953125 \nQ 23.96875 32.421875 30.609375 32.421875 \nz\n\" id=\"DejaVuSans-57\"/>\n       </defs>\n       <use xlink:href=\"#DejaVuSans-48\"/>\n       <use x=\"63.623047\" xlink:href=\"#DejaVuSans-46\"/>\n       <use x=\"95.410156\" xlink:href=\"#DejaVuSans-57\"/>\n      </g>\n     </g>\n    </g>\n    <g id=\"xtick_8\">\n     <g id=\"line2d_8\">\n      <g>\n       <use style=\"stroke:#000000;stroke-width:0.8;\" x=\"376.801964\" xlink:href=\"#mb0c7593e5b\" y=\"239.758125\"/>\n      </g>\n     </g>\n     <g id=\"text_8\">\n      <!-- 1.0 -->\n      <g transform=\"translate(368.850401 254.356562)scale(0.1 -0.1)\">\n       <defs>\n        <path d=\"M 12.40625 8.296875 \nL 28.515625 8.296875 \nL 28.515625 63.921875 \nL 10.984375 60.40625 \nL 10.984375 69.390625 \nL 28.421875 72.90625 \nL 38.28125 72.90625 \nL 38.28125 8.296875 \nL 54.390625 8.296875 \nL 54.390625 0 \nL 12.40625 0 \nz\n\" id=\"DejaVuSans-49\"/>\n       </defs>\n       <use xlink:href=\"#DejaVuSans-49\"/>\n       <use x=\"63.623047\" xlink:href=\"#DejaVuSans-46\"/>\n       <use x=\"95.410156\" xlink:href=\"#DejaVuSans-48\"/>\n      </g>\n     </g>\n    </g>\n    <g id=\"text_9\">\n     <!-- Recall -->\n     <g transform=\"translate(202.626563 268.034687)scale(0.1 -0.1)\">\n      <defs>\n       <path d=\"M 44.390625 34.1875 \nQ 47.5625 33.109375 50.5625 29.59375 \nQ 53.5625 26.078125 56.59375 19.921875 \nL 66.609375 0 \nL 56 0 \nL 46.6875 18.703125 \nQ 43.0625 26.03125 39.671875 28.421875 \nQ 36.28125 30.8125 30.421875 30.8125 \nL 19.671875 30.8125 \nL 19.671875 0 \nL 9.8125 0 \nL 9.8125 72.90625 \nL 32.078125 72.90625 \nQ 44.578125 72.90625 50.734375 67.671875 \nQ 56.890625 62.453125 56.890625 51.90625 \nQ 56.890625 45.015625 53.6875 40.46875 \nQ 50.484375 35.9375 44.390625 34.1875 \nz\nM 19.671875 64.796875 \nL 19.671875 38.921875 \nL 32.078125 38.921875 \nQ 39.203125 38.921875 42.84375 42.21875 \nQ 46.484375 45.515625 46.484375 51.90625 \nQ 46.484375 58.296875 42.84375 61.546875 \nQ 39.203125 64.796875 32.078125 64.796875 \nz\n\" id=\"DejaVuSans-82\"/>\n       <path d=\"M 56.203125 29.59375 \nL 56.203125 25.203125 \nL 14.890625 25.203125 \nQ 15.484375 15.921875 20.484375 11.0625 \nQ 25.484375 6.203125 34.421875 6.203125 \nQ 39.59375 6.203125 44.453125 7.46875 \nQ 49.3125 8.734375 54.109375 11.28125 \nL 54.109375 2.78125 \nQ 49.265625 0.734375 44.1875 -0.34375 \nQ 39.109375 -1.421875 33.890625 -1.421875 \nQ 20.796875 -1.421875 13.15625 6.1875 \nQ 5.515625 13.8125 5.515625 26.8125 \nQ 5.515625 40.234375 12.765625 48.109375 \nQ 20.015625 56 32.328125 56 \nQ 43.359375 56 49.78125 48.890625 \nQ 56.203125 41.796875 56.203125 29.59375 \nz\nM 47.21875 32.234375 \nQ 47.125 39.59375 43.09375 43.984375 \nQ 39.0625 48.390625 32.421875 48.390625 \nQ 24.90625 48.390625 20.390625 44.140625 \nQ 15.875 39.890625 15.1875 32.171875 \nz\n\" id=\"DejaVuSans-101\"/>\n       <path d=\"M 48.78125 52.59375 \nL 48.78125 44.1875 \nQ 44.96875 46.296875 41.140625 47.34375 \nQ 37.3125 48.390625 33.40625 48.390625 \nQ 24.65625 48.390625 19.8125 42.84375 \nQ 14.984375 37.3125 14.984375 27.296875 \nQ 14.984375 17.28125 19.8125 11.734375 \nQ 24.65625 6.203125 33.40625 6.203125 \nQ 37.3125 6.203125 41.140625 7.25 \nQ 44.96875 8.296875 48.78125 10.40625 \nL 48.78125 2.09375 \nQ 45.015625 0.34375 40.984375 -0.53125 \nQ 36.96875 -1.421875 32.421875 -1.421875 \nQ 20.0625 -1.421875 12.78125 6.34375 \nQ 5.515625 14.109375 5.515625 27.296875 \nQ 5.515625 40.671875 12.859375 48.328125 \nQ 20.21875 56 33.015625 56 \nQ 37.15625 56 41.109375 55.140625 \nQ 45.0625 54.296875 48.78125 52.59375 \nz\n\" id=\"DejaVuSans-99\"/>\n       <path d=\"M 34.28125 27.484375 \nQ 23.390625 27.484375 19.1875 25 \nQ 14.984375 22.515625 14.984375 16.5 \nQ 14.984375 11.71875 18.140625 8.90625 \nQ 21.296875 6.109375 26.703125 6.109375 \nQ 34.1875 6.109375 38.703125 11.40625 \nQ 43.21875 16.703125 43.21875 25.484375 \nL 43.21875 27.484375 \nz\nM 52.203125 31.203125 \nL 52.203125 0 \nL 43.21875 0 \nL 43.21875 8.296875 \nQ 40.140625 3.328125 35.546875 0.953125 \nQ 30.953125 -1.421875 24.3125 -1.421875 \nQ 15.921875 -1.421875 10.953125 3.296875 \nQ 6 8.015625 6 15.921875 \nQ 6 25.140625 12.171875 29.828125 \nQ 18.359375 34.515625 30.609375 34.515625 \nL 43.21875 34.515625 \nL 43.21875 35.40625 \nQ 43.21875 41.609375 39.140625 45 \nQ 35.0625 48.390625 27.6875 48.390625 \nQ 23 48.390625 18.546875 47.265625 \nQ 14.109375 46.140625 10.015625 43.890625 \nL 10.015625 52.203125 \nQ 14.9375 54.109375 19.578125 55.046875 \nQ 24.21875 56 28.609375 56 \nQ 40.484375 56 46.34375 49.84375 \nQ 52.203125 43.703125 52.203125 31.203125 \nz\n\" id=\"DejaVuSans-97\"/>\n       <path d=\"M 9.421875 75.984375 \nL 18.40625 75.984375 \nL 18.40625 0 \nL 9.421875 0 \nz\n\" id=\"DejaVuSans-108\"/>\n      </defs>\n      <use xlink:href=\"#DejaVuSans-82\"/>\n      <use x=\"64.982422\" xlink:href=\"#DejaVuSans-101\"/>\n      <use x=\"126.505859\" xlink:href=\"#DejaVuSans-99\"/>\n      <use x=\"181.486328\" xlink:href=\"#DejaVuSans-97\"/>\n      <use x=\"242.765625\" xlink:href=\"#DejaVuSans-108\"/>\n      <use x=\"270.548828\" xlink:href=\"#DejaVuSans-108\"/>\n     </g>\n    </g>\n   </g>\n   <g id=\"matplotlib.axis_2\">\n    <g id=\"ytick_1\">\n     <g id=\"line2d_9\">\n      <defs>\n       <path d=\"M 0 0 \nL -3.5 0 \n\" id=\"m72c22aaf0e\" style=\"stroke:#000000;stroke-width:0.8;\"/>\n      </defs>\n      <g>\n       <use style=\"stroke:#000000;stroke-width:0.8;\" x=\"50.14375\" xlink:href=\"#m72c22aaf0e\" y=\"232.160781\"/>\n      </g>\n     </g>\n     <g id=\"text_10\">\n      <!-- 0.30 -->\n      <g transform=\"translate(20.878125 235.96)scale(0.1 -0.1)\">\n       <use xlink:href=\"#DejaVuSans-48\"/>\n       <use x=\"63.623047\" xlink:href=\"#DejaVuSans-46\"/>\n       <use x=\"95.410156\" xlink:href=\"#DejaVuSans-51\"/>\n       <use x=\"159.033203\" xlink:href=\"#DejaVuSans-48\"/>\n      </g>\n     </g>\n    </g>\n    <g id=\"ytick_2\">\n     <g id=\"line2d_10\">\n      <g>\n       <use style=\"stroke:#000000;stroke-width:0.8;\" x=\"50.14375\" xlink:href=\"#m72c22aaf0e\" y=\"204.572852\"/>\n      </g>\n     </g>\n     <g id=\"text_11\">\n      <!-- 0.32 -->\n      <g transform=\"translate(20.878125 208.372071)scale(0.1 -0.1)\">\n       <defs>\n        <path d=\"M 19.1875 8.296875 \nL 53.609375 8.296875 \nL 53.609375 0 \nL 7.328125 0 \nL 7.328125 8.296875 \nQ 12.9375 14.109375 22.625 23.890625 \nQ 32.328125 33.6875 34.8125 36.53125 \nQ 39.546875 41.84375 41.421875 45.53125 \nQ 43.3125 49.21875 43.3125 52.78125 \nQ 43.3125 58.59375 39.234375 62.25 \nQ 35.15625 65.921875 28.609375 65.921875 \nQ 23.96875 65.921875 18.8125 64.3125 \nQ 13.671875 62.703125 7.8125 59.421875 \nL 7.8125 69.390625 \nQ 13.765625 71.78125 18.9375 73 \nQ 24.125 74.21875 28.421875 74.21875 \nQ 39.75 74.21875 46.484375 68.546875 \nQ 53.21875 62.890625 53.21875 53.421875 \nQ 53.21875 48.921875 51.53125 44.890625 \nQ 49.859375 40.875 45.40625 35.40625 \nQ 44.1875 33.984375 37.640625 27.21875 \nQ 31.109375 20.453125 19.1875 8.296875 \nz\n\" id=\"DejaVuSans-50\"/>\n       </defs>\n       <use xlink:href=\"#DejaVuSans-48\"/>\n       <use x=\"63.623047\" xlink:href=\"#DejaVuSans-46\"/>\n       <use x=\"95.410156\" xlink:href=\"#DejaVuSans-51\"/>\n       <use x=\"159.033203\" xlink:href=\"#DejaVuSans-50\"/>\n      </g>\n     </g>\n    </g>\n    <g id=\"ytick_3\">\n     <g id=\"line2d_11\">\n      <g>\n       <use style=\"stroke:#000000;stroke-width:0.8;\" x=\"50.14375\" xlink:href=\"#m72c22aaf0e\" y=\"176.984923\"/>\n      </g>\n     </g>\n     <g id=\"text_12\">\n      <!-- 0.34 -->\n      <g transform=\"translate(20.878125 180.784142)scale(0.1 -0.1)\">\n       <use xlink:href=\"#DejaVuSans-48\"/>\n       <use x=\"63.623047\" xlink:href=\"#DejaVuSans-46\"/>\n       <use x=\"95.410156\" xlink:href=\"#DejaVuSans-51\"/>\n       <use x=\"159.033203\" xlink:href=\"#DejaVuSans-52\"/>\n      </g>\n     </g>\n    </g>\n    <g id=\"ytick_4\">\n     <g id=\"line2d_12\">\n      <g>\n       <use style=\"stroke:#000000;stroke-width:0.8;\" x=\"50.14375\" xlink:href=\"#m72c22aaf0e\" y=\"149.396994\"/>\n      </g>\n     </g>\n     <g id=\"text_13\">\n      <!-- 0.36 -->\n      <g transform=\"translate(20.878125 153.196213)scale(0.1 -0.1)\">\n       <use xlink:href=\"#DejaVuSans-48\"/>\n       <use x=\"63.623047\" xlink:href=\"#DejaVuSans-46\"/>\n       <use x=\"95.410156\" xlink:href=\"#DejaVuSans-51\"/>\n       <use x=\"159.033203\" xlink:href=\"#DejaVuSans-54\"/>\n      </g>\n     </g>\n    </g>\n    <g id=\"ytick_5\">\n     <g id=\"line2d_13\">\n      <g>\n       <use style=\"stroke:#000000;stroke-width:0.8;\" x=\"50.14375\" xlink:href=\"#m72c22aaf0e\" y=\"121.809065\"/>\n      </g>\n     </g>\n     <g id=\"text_14\">\n      <!-- 0.38 -->\n      <g transform=\"translate(20.878125 125.608284)scale(0.1 -0.1)\">\n       <use xlink:href=\"#DejaVuSans-48\"/>\n       <use x=\"63.623047\" xlink:href=\"#DejaVuSans-46\"/>\n       <use x=\"95.410156\" xlink:href=\"#DejaVuSans-51\"/>\n       <use x=\"159.033203\" xlink:href=\"#DejaVuSans-56\"/>\n      </g>\n     </g>\n    </g>\n    <g id=\"ytick_6\">\n     <g id=\"line2d_14\">\n      <g>\n       <use style=\"stroke:#000000;stroke-width:0.8;\" x=\"50.14375\" xlink:href=\"#m72c22aaf0e\" y=\"94.221136\"/>\n      </g>\n     </g>\n     <g id=\"text_15\">\n      <!-- 0.40 -->\n      <g transform=\"translate(20.878125 98.020355)scale(0.1 -0.1)\">\n       <use xlink:href=\"#DejaVuSans-48\"/>\n       <use x=\"63.623047\" xlink:href=\"#DejaVuSans-46\"/>\n       <use x=\"95.410156\" xlink:href=\"#DejaVuSans-52\"/>\n       <use x=\"159.033203\" xlink:href=\"#DejaVuSans-48\"/>\n      </g>\n     </g>\n    </g>\n    <g id=\"ytick_7\">\n     <g id=\"line2d_15\">\n      <g>\n       <use style=\"stroke:#000000;stroke-width:0.8;\" x=\"50.14375\" xlink:href=\"#m72c22aaf0e\" y=\"66.633208\"/>\n      </g>\n     </g>\n     <g id=\"text_16\">\n      <!-- 0.42 -->\n      <g transform=\"translate(20.878125 70.432426)scale(0.1 -0.1)\">\n       <use xlink:href=\"#DejaVuSans-48\"/>\n       <use x=\"63.623047\" xlink:href=\"#DejaVuSans-46\"/>\n       <use x=\"95.410156\" xlink:href=\"#DejaVuSans-52\"/>\n       <use x=\"159.033203\" xlink:href=\"#DejaVuSans-50\"/>\n      </g>\n     </g>\n    </g>\n    <g id=\"ytick_8\">\n     <g id=\"line2d_16\">\n      <g>\n       <use style=\"stroke:#000000;stroke-width:0.8;\" x=\"50.14375\" xlink:href=\"#m72c22aaf0e\" y=\"39.045279\"/>\n      </g>\n     </g>\n     <g id=\"text_17\">\n      <!-- 0.44 -->\n      <g transform=\"translate(20.878125 42.844497)scale(0.1 -0.1)\">\n       <use xlink:href=\"#DejaVuSans-48\"/>\n       <use x=\"63.623047\" xlink:href=\"#DejaVuSans-46\"/>\n       <use x=\"95.410156\" xlink:href=\"#DejaVuSans-52\"/>\n       <use x=\"159.033203\" xlink:href=\"#DejaVuSans-52\"/>\n      </g>\n     </g>\n    </g>\n    <g id=\"text_18\">\n     <!-- Precision -->\n     <g transform=\"translate(14.798438 153.345156)rotate(-90)scale(0.1 -0.1)\">\n      <defs>\n       <path d=\"M 19.671875 64.796875 \nL 19.671875 37.40625 \nL 32.078125 37.40625 \nQ 38.96875 37.40625 42.71875 40.96875 \nQ 46.484375 44.53125 46.484375 51.125 \nQ 46.484375 57.671875 42.71875 61.234375 \nQ 38.96875 64.796875 32.078125 64.796875 \nz\nM 9.8125 72.90625 \nL 32.078125 72.90625 \nQ 44.34375 72.90625 50.609375 67.359375 \nQ 56.890625 61.8125 56.890625 51.125 \nQ 56.890625 40.328125 50.609375 34.8125 \nQ 44.34375 29.296875 32.078125 29.296875 \nL 19.671875 29.296875 \nL 19.671875 0 \nL 9.8125 0 \nz\n\" id=\"DejaVuSans-80\"/>\n       <path d=\"M 41.109375 46.296875 \nQ 39.59375 47.171875 37.8125 47.578125 \nQ 36.03125 48 33.890625 48 \nQ 26.265625 48 22.1875 43.046875 \nQ 18.109375 38.09375 18.109375 28.8125 \nL 18.109375 0 \nL 9.078125 0 \nL 9.078125 54.6875 \nL 18.109375 54.6875 \nL 18.109375 46.1875 \nQ 20.953125 51.171875 25.484375 53.578125 \nQ 30.03125 56 36.53125 56 \nQ 37.453125 56 38.578125 55.875 \nQ 39.703125 55.765625 41.0625 55.515625 \nz\n\" id=\"DejaVuSans-114\"/>\n       <path d=\"M 9.421875 54.6875 \nL 18.40625 54.6875 \nL 18.40625 0 \nL 9.421875 0 \nz\nM 9.421875 75.984375 \nL 18.40625 75.984375 \nL 18.40625 64.59375 \nL 9.421875 64.59375 \nz\n\" id=\"DejaVuSans-105\"/>\n       <path d=\"M 44.28125 53.078125 \nL 44.28125 44.578125 \nQ 40.484375 46.53125 36.375 47.5 \nQ 32.28125 48.484375 27.875 48.484375 \nQ 21.1875 48.484375 17.84375 46.4375 \nQ 14.5 44.390625 14.5 40.28125 \nQ 14.5 37.15625 16.890625 35.375 \nQ 19.28125 33.59375 26.515625 31.984375 \nL 29.59375 31.296875 \nQ 39.15625 29.25 43.1875 25.515625 \nQ 47.21875 21.78125 47.21875 15.09375 \nQ 47.21875 7.46875 41.1875 3.015625 \nQ 35.15625 -1.421875 24.609375 -1.421875 \nQ 20.21875 -1.421875 15.453125 -0.5625 \nQ 10.6875 0.296875 5.421875 2 \nL 5.421875 11.28125 \nQ 10.40625 8.6875 15.234375 7.390625 \nQ 20.0625 6.109375 24.8125 6.109375 \nQ 31.15625 6.109375 34.5625 8.28125 \nQ 37.984375 10.453125 37.984375 14.40625 \nQ 37.984375 18.0625 35.515625 20.015625 \nQ 33.0625 21.96875 24.703125 23.78125 \nL 21.578125 24.515625 \nQ 13.234375 26.265625 9.515625 29.90625 \nQ 5.8125 33.546875 5.8125 39.890625 \nQ 5.8125 47.609375 11.28125 51.796875 \nQ 16.75 56 26.8125 56 \nQ 31.78125 56 36.171875 55.265625 \nQ 40.578125 54.546875 44.28125 53.078125 \nz\n\" id=\"DejaVuSans-115\"/>\n       <path d=\"M 30.609375 48.390625 \nQ 23.390625 48.390625 19.1875 42.75 \nQ 14.984375 37.109375 14.984375 27.296875 \nQ 14.984375 17.484375 19.15625 11.84375 \nQ 23.34375 6.203125 30.609375 6.203125 \nQ 37.796875 6.203125 41.984375 11.859375 \nQ 46.1875 17.53125 46.1875 27.296875 \nQ 46.1875 37.015625 41.984375 42.703125 \nQ 37.796875 48.390625 30.609375 48.390625 \nz\nM 30.609375 56 \nQ 42.328125 56 49.015625 48.375 \nQ 55.71875 40.765625 55.71875 27.296875 \nQ 55.71875 13.875 49.015625 6.21875 \nQ 42.328125 -1.421875 30.609375 -1.421875 \nQ 18.84375 -1.421875 12.171875 6.21875 \nQ 5.515625 13.875 5.515625 27.296875 \nQ 5.515625 40.765625 12.171875 48.375 \nQ 18.84375 56 30.609375 56 \nz\n\" id=\"DejaVuSans-111\"/>\n       <path d=\"M 54.890625 33.015625 \nL 54.890625 0 \nL 45.90625 0 \nL 45.90625 32.71875 \nQ 45.90625 40.484375 42.875 44.328125 \nQ 39.84375 48.1875 33.796875 48.1875 \nQ 26.515625 48.1875 22.3125 43.546875 \nQ 18.109375 38.921875 18.109375 30.90625 \nL 18.109375 0 \nL 9.078125 0 \nL 9.078125 54.6875 \nL 18.109375 54.6875 \nL 18.109375 46.1875 \nQ 21.34375 51.125 25.703125 53.5625 \nQ 30.078125 56 35.796875 56 \nQ 45.21875 56 50.046875 50.171875 \nQ 54.890625 44.34375 54.890625 33.015625 \nz\n\" id=\"DejaVuSans-110\"/>\n      </defs>\n      <use xlink:href=\"#DejaVuSans-80\"/>\n      <use x=\"58.552734\" xlink:href=\"#DejaVuSans-114\"/>\n      <use x=\"97.416016\" xlink:href=\"#DejaVuSans-101\"/>\n      <use x=\"158.939453\" xlink:href=\"#DejaVuSans-99\"/>\n      <use x=\"213.919922\" xlink:href=\"#DejaVuSans-105\"/>\n      <use x=\"241.703125\" xlink:href=\"#DejaVuSans-115\"/>\n      <use x=\"293.802734\" xlink:href=\"#DejaVuSans-105\"/>\n      <use x=\"321.585938\" xlink:href=\"#DejaVuSans-111\"/>\n      <use x=\"382.767578\" xlink:href=\"#DejaVuSans-110\"/>\n     </g>\n    </g>\n   </g>\n   <g id=\"line2d_17\">\n    <path clip-path=\"url(#pd8ea93d05b)\" d=\"M 369.725568 229.874489 \nL 367.703741 222.867896 \nL 365.681914 212.826443 \nL 362.396444 200.486162 \nL 357.089148 188.676676 \nL 350.096995 176.519575 \nL 342.503108 163.636739 \nL 335.291322 149.066105 \nL 327.604166 133.092431 \nL 320.190799 116.092754 \nL 312.930601 99.020139 \nL 305.869522 81.813831 \nL 296.589853 66.954228 \nL 283.436867 56.304139 \nL 267.926563 49.65097 \nL 252.807086 44.687944 \nL 238.693319 40.688901 \nL 225.361482 37.722457 \nL 212.874334 35.462398 \nL 201.180989 33.846146 \nL 190.168048 32.865663 \nL 179.719752 32.55104 \nL 170.136051 32.306511 \nL 161.266749 32.201761 \nL 153.046336 32.201761 \nL 145.458262 32.201761 \nL 138.432268 32.201761 \nL 131.908131 32.201761 \nL 125.833934 32.201761 \nL 120.164684 32.201761 \nL 114.861192 32.201761 \nL 109.889168 32.201761 \nL 105.218479 32.201761 \nL 100.822536 32.201761 \nL 96.67779 32.201761 \nL 92.763308 32.201761 \nL 89.060419 32.201761 \nL 85.55242 32.201761 \nL 82.224317 32.201761 \nL 79.06262 32.201761 \nL 76.055152 32.201761 \nL 73.190896 32.201761 \nL 70.459862 32.201761 \nL 67.852966 32.201761 \nL 65.361932 32.201761 \n\" style=\"fill:none;stroke:#1f77b4;stroke-linecap:square;stroke-width:1.5;\"/>\n   </g>\n   <g id=\"patch_3\">\n    <path d=\"M 50.14375 239.758125 \nL 50.14375 22.318125 \n\" style=\"fill:none;stroke:#000000;stroke-linecap:square;stroke-linejoin:miter;stroke-width:0.8;\"/>\n   </g>\n   <g id=\"patch_4\">\n    <path d=\"M 384.94375 239.758125 \nL 384.94375 22.318125 \n\" style=\"fill:none;stroke:#000000;stroke-linecap:square;stroke-linejoin:miter;stroke-width:0.8;\"/>\n   </g>\n   <g id=\"patch_5\">\n    <path d=\"M 50.14375 239.758125 \nL 384.94375 239.758125 \n\" style=\"fill:none;stroke:#000000;stroke-linecap:square;stroke-linejoin:miter;stroke-width:0.8;\"/>\n   </g>\n   <g id=\"patch_6\">\n    <path d=\"M 50.14375 22.318125 \nL 384.94375 22.318125 \n\" style=\"fill:none;stroke:#000000;stroke-linecap:square;stroke-linejoin:miter;stroke-width:0.8;\"/>\n   </g>\n   <g id=\"text_19\">\n    <!-- Validation Performance Brain 2 -->\n    <g transform=\"translate(124.629063 16.318125)scale(0.12 -0.12)\">\n     <defs>\n      <path d=\"M 28.609375 0 \nL 0.78125 72.90625 \nL 11.078125 72.90625 \nL 34.1875 11.53125 \nL 57.328125 72.90625 \nL 67.578125 72.90625 \nL 39.796875 0 \nz\n\" id=\"DejaVuSans-86\"/>\n      <path d=\"M 45.40625 46.390625 \nL 45.40625 75.984375 \nL 54.390625 75.984375 \nL 54.390625 0 \nL 45.40625 0 \nL 45.40625 8.203125 \nQ 42.578125 3.328125 38.25 0.953125 \nQ 33.9375 -1.421875 27.875 -1.421875 \nQ 17.96875 -1.421875 11.734375 6.484375 \nQ 5.515625 14.40625 5.515625 27.296875 \nQ 5.515625 40.1875 11.734375 48.09375 \nQ 17.96875 56 27.875 56 \nQ 33.9375 56 38.25 53.625 \nQ 42.578125 51.265625 45.40625 46.390625 \nz\nM 14.796875 27.296875 \nQ 14.796875 17.390625 18.875 11.75 \nQ 22.953125 6.109375 30.078125 6.109375 \nQ 37.203125 6.109375 41.296875 11.75 \nQ 45.40625 17.390625 45.40625 27.296875 \nQ 45.40625 37.203125 41.296875 42.84375 \nQ 37.203125 48.484375 30.078125 48.484375 \nQ 22.953125 48.484375 18.875 42.84375 \nQ 14.796875 37.203125 14.796875 27.296875 \nz\n\" id=\"DejaVuSans-100\"/>\n      <path d=\"M 18.3125 70.21875 \nL 18.3125 54.6875 \nL 36.8125 54.6875 \nL 36.8125 47.703125 \nL 18.3125 47.703125 \nL 18.3125 18.015625 \nQ 18.3125 11.328125 20.140625 9.421875 \nQ 21.96875 7.515625 27.59375 7.515625 \nL 36.8125 7.515625 \nL 36.8125 0 \nL 27.59375 0 \nQ 17.1875 0 13.234375 3.875 \nQ 9.28125 7.765625 9.28125 18.015625 \nL 9.28125 47.703125 \nL 2.6875 47.703125 \nL 2.6875 54.6875 \nL 9.28125 54.6875 \nL 9.28125 70.21875 \nz\n\" id=\"DejaVuSans-116\"/>\n      <path id=\"DejaVuSans-32\"/>\n      <path d=\"M 37.109375 75.984375 \nL 37.109375 68.5 \nL 28.515625 68.5 \nQ 23.6875 68.5 21.796875 66.546875 \nQ 19.921875 64.59375 19.921875 59.515625 \nL 19.921875 54.6875 \nL 34.71875 54.6875 \nL 34.71875 47.703125 \nL 19.921875 47.703125 \nL 19.921875 0 \nL 10.890625 0 \nL 10.890625 47.703125 \nL 2.296875 47.703125 \nL 2.296875 54.6875 \nL 10.890625 54.6875 \nL 10.890625 58.5 \nQ 10.890625 67.625 15.140625 71.796875 \nQ 19.390625 75.984375 28.609375 75.984375 \nz\n\" id=\"DejaVuSans-102\"/>\n      <path d=\"M 52 44.1875 \nQ 55.375 50.25 60.0625 53.125 \nQ 64.75 56 71.09375 56 \nQ 79.640625 56 84.28125 50.015625 \nQ 88.921875 44.046875 88.921875 33.015625 \nL 88.921875 0 \nL 79.890625 0 \nL 79.890625 32.71875 \nQ 79.890625 40.578125 77.09375 44.375 \nQ 74.3125 48.1875 68.609375 48.1875 \nQ 61.625 48.1875 57.5625 43.546875 \nQ 53.515625 38.921875 53.515625 30.90625 \nL 53.515625 0 \nL 44.484375 0 \nL 44.484375 32.71875 \nQ 44.484375 40.625 41.703125 44.40625 \nQ 38.921875 48.1875 33.109375 48.1875 \nQ 26.21875 48.1875 22.15625 43.53125 \nQ 18.109375 38.875 18.109375 30.90625 \nL 18.109375 0 \nL 9.078125 0 \nL 9.078125 54.6875 \nL 18.109375 54.6875 \nL 18.109375 46.1875 \nQ 21.1875 51.21875 25.484375 53.609375 \nQ 29.78125 56 35.6875 56 \nQ 41.65625 56 45.828125 52.96875 \nQ 50 49.953125 52 44.1875 \nz\n\" id=\"DejaVuSans-109\"/>\n      <path d=\"M 19.671875 34.8125 \nL 19.671875 8.109375 \nL 35.5 8.109375 \nQ 43.453125 8.109375 47.28125 11.40625 \nQ 51.125 14.703125 51.125 21.484375 \nQ 51.125 28.328125 47.28125 31.5625 \nQ 43.453125 34.8125 35.5 34.8125 \nz\nM 19.671875 64.796875 \nL 19.671875 42.828125 \nL 34.28125 42.828125 \nQ 41.5 42.828125 45.03125 45.53125 \nQ 48.578125 48.25 48.578125 53.8125 \nQ 48.578125 59.328125 45.03125 62.0625 \nQ 41.5 64.796875 34.28125 64.796875 \nz\nM 9.8125 72.90625 \nL 35.015625 72.90625 \nQ 46.296875 72.90625 52.390625 68.21875 \nQ 58.5 63.53125 58.5 54.890625 \nQ 58.5 48.1875 55.375 44.234375 \nQ 52.25 40.28125 46.1875 39.3125 \nQ 53.46875 37.75 57.5 32.78125 \nQ 61.53125 27.828125 61.53125 20.40625 \nQ 61.53125 10.640625 54.890625 5.3125 \nQ 48.25 0 35.984375 0 \nL 9.8125 0 \nz\n\" id=\"DejaVuSans-66\"/>\n     </defs>\n     <use xlink:href=\"#DejaVuSans-86\"/>\n     <use x=\"60.658203\" xlink:href=\"#DejaVuSans-97\"/>\n     <use x=\"121.9375\" xlink:href=\"#DejaVuSans-108\"/>\n     <use x=\"149.720703\" xlink:href=\"#DejaVuSans-105\"/>\n     <use x=\"177.503906\" xlink:href=\"#DejaVuSans-100\"/>\n     <use x=\"240.980469\" xlink:href=\"#DejaVuSans-97\"/>\n     <use x=\"302.259766\" xlink:href=\"#DejaVuSans-116\"/>\n     <use x=\"341.46875\" xlink:href=\"#DejaVuSans-105\"/>\n     <use x=\"369.251953\" xlink:href=\"#DejaVuSans-111\"/>\n     <use x=\"430.433594\" xlink:href=\"#DejaVuSans-110\"/>\n     <use x=\"493.8125\" xlink:href=\"#DejaVuSans-32\"/>\n     <use x=\"525.599609\" xlink:href=\"#DejaVuSans-80\"/>\n     <use x=\"582.277344\" xlink:href=\"#DejaVuSans-101\"/>\n     <use x=\"643.800781\" xlink:href=\"#DejaVuSans-114\"/>\n     <use x=\"684.914062\" xlink:href=\"#DejaVuSans-102\"/>\n     <use x=\"720.119141\" xlink:href=\"#DejaVuSans-111\"/>\n     <use x=\"781.300781\" xlink:href=\"#DejaVuSans-114\"/>\n     <use x=\"820.664062\" xlink:href=\"#DejaVuSans-109\"/>\n     <use x=\"918.076172\" xlink:href=\"#DejaVuSans-97\"/>\n     <use x=\"979.355469\" xlink:href=\"#DejaVuSans-110\"/>\n     <use x=\"1042.734375\" xlink:href=\"#DejaVuSans-99\"/>\n     <use x=\"1097.714844\" xlink:href=\"#DejaVuSans-101\"/>\n     <use x=\"1159.238281\" xlink:href=\"#DejaVuSans-32\"/>\n     <use x=\"1191.025391\" xlink:href=\"#DejaVuSans-66\"/>\n     <use x=\"1259.628906\" xlink:href=\"#DejaVuSans-114\"/>\n     <use x=\"1300.742188\" xlink:href=\"#DejaVuSans-97\"/>\n     <use x=\"1362.021484\" xlink:href=\"#DejaVuSans-105\"/>\n     <use x=\"1389.804688\" xlink:href=\"#DejaVuSans-110\"/>\n     <use x=\"1453.183594\" xlink:href=\"#DejaVuSans-32\"/>\n     <use x=\"1484.970703\" xlink:href=\"#DejaVuSans-50\"/>\n    </g>\n   </g>\n   <g id=\"legend_1\">\n    <g id=\"patch_7\">\n     <path d=\"M 57.14375 234.758125 \nL 268.578125 234.758125 \nQ 270.578125 234.758125 270.578125 232.758125 \nL 270.578125 204.401875 \nQ 270.578125 202.401875 268.578125 202.401875 \nL 57.14375 202.401875 \nQ 55.14375 202.401875 55.14375 204.401875 \nL 55.14375 232.758125 \nQ 55.14375 234.758125 57.14375 234.758125 \nz\n\" style=\"fill:#ffffff;opacity:0.8;stroke:#cccccc;stroke-linejoin:miter;\"/>\n    </g>\n    <g id=\"line2d_18\">\n     <path d=\"M 59.14375 210.500312 \nL 79.14375 210.500312 \n\" style=\"fill:none;stroke:#1f77b4;stroke-linecap:square;stroke-width:1.5;\"/>\n    </g>\n    <g id=\"line2d_19\"/>\n    <g id=\"text_20\">\n     <!-- Prec-Rec Curve -->\n     <g transform=\"translate(87.14375 214.000312)scale(0.1 -0.1)\">\n      <defs>\n       <path d=\"M 4.890625 31.390625 \nL 31.203125 31.390625 \nL 31.203125 23.390625 \nL 4.890625 23.390625 \nz\n\" id=\"DejaVuSans-45\"/>\n       <path d=\"M 64.40625 67.28125 \nL 64.40625 56.890625 \nQ 59.421875 61.53125 53.78125 63.8125 \nQ 48.140625 66.109375 41.796875 66.109375 \nQ 29.296875 66.109375 22.65625 58.46875 \nQ 16.015625 50.828125 16.015625 36.375 \nQ 16.015625 21.96875 22.65625 14.328125 \nQ 29.296875 6.6875 41.796875 6.6875 \nQ 48.140625 6.6875 53.78125 8.984375 \nQ 59.421875 11.28125 64.40625 15.921875 \nL 64.40625 5.609375 \nQ 59.234375 2.09375 53.4375 0.328125 \nQ 47.65625 -1.421875 41.21875 -1.421875 \nQ 24.65625 -1.421875 15.125 8.703125 \nQ 5.609375 18.84375 5.609375 36.375 \nQ 5.609375 53.953125 15.125 64.078125 \nQ 24.65625 74.21875 41.21875 74.21875 \nQ 47.75 74.21875 53.53125 72.484375 \nQ 59.328125 70.75 64.40625 67.28125 \nz\n\" id=\"DejaVuSans-67\"/>\n       <path d=\"M 8.5 21.578125 \nL 8.5 54.6875 \nL 17.484375 54.6875 \nL 17.484375 21.921875 \nQ 17.484375 14.15625 20.5 10.265625 \nQ 23.53125 6.390625 29.59375 6.390625 \nQ 36.859375 6.390625 41.078125 11.03125 \nQ 45.3125 15.671875 45.3125 23.6875 \nL 45.3125 54.6875 \nL 54.296875 54.6875 \nL 54.296875 0 \nL 45.3125 0 \nL 45.3125 8.40625 \nQ 42.046875 3.421875 37.71875 1 \nQ 33.40625 -1.421875 27.6875 -1.421875 \nQ 18.265625 -1.421875 13.375 4.4375 \nQ 8.5 10.296875 8.5 21.578125 \nz\nM 31.109375 56 \nz\n\" id=\"DejaVuSans-117\"/>\n       <path d=\"M 2.984375 54.6875 \nL 12.5 54.6875 \nL 29.59375 8.796875 \nL 46.6875 54.6875 \nL 56.203125 54.6875 \nL 35.6875 0 \nL 23.484375 0 \nz\n\" id=\"DejaVuSans-118\"/>\n      </defs>\n      <use xlink:href=\"#DejaVuSans-80\"/>\n      <use x=\"58.552734\" xlink:href=\"#DejaVuSans-114\"/>\n      <use x=\"97.416016\" xlink:href=\"#DejaVuSans-101\"/>\n      <use x=\"158.939453\" xlink:href=\"#DejaVuSans-99\"/>\n      <use x=\"213.919922\" xlink:href=\"#DejaVuSans-45\"/>\n      <use x=\"250.003906\" xlink:href=\"#DejaVuSans-82\"/>\n      <use x=\"314.986328\" xlink:href=\"#DejaVuSans-101\"/>\n      <use x=\"376.509766\" xlink:href=\"#DejaVuSans-99\"/>\n      <use x=\"431.490234\" xlink:href=\"#DejaVuSans-32\"/>\n      <use x=\"463.277344\" xlink:href=\"#DejaVuSans-67\"/>\n      <use x=\"533.101562\" xlink:href=\"#DejaVuSans-117\"/>\n      <use x=\"596.480469\" xlink:href=\"#DejaVuSans-114\"/>\n      <use x=\"637.59375\" xlink:href=\"#DejaVuSans-118\"/>\n      <use x=\"696.773438\" xlink:href=\"#DejaVuSans-101\"/>\n     </g>\n    </g>\n    <g id=\"PathCollection_2\">\n     <g>\n      <use style=\"fill:#ff0000;stroke:#ff0000;\" x=\"69.14375\" xlink:href=\"#m4aad3649ea\" y=\"226.053437\"/>\n     </g>\n    </g>\n    <g id=\"text_21\">\n     <!-- Best F-score: 0.5528506559031281 -->\n     <g transform=\"translate(87.14375 228.678437)scale(0.1 -0.1)\">\n      <defs>\n       <path d=\"M 9.8125 72.90625 \nL 51.703125 72.90625 \nL 51.703125 64.59375 \nL 19.671875 64.59375 \nL 19.671875 43.109375 \nL 48.578125 43.109375 \nL 48.578125 34.8125 \nL 19.671875 34.8125 \nL 19.671875 0 \nL 9.8125 0 \nz\n\" id=\"DejaVuSans-70\"/>\n       <path d=\"M 11.71875 12.40625 \nL 22.015625 12.40625 \nL 22.015625 0 \nL 11.71875 0 \nz\nM 11.71875 51.703125 \nL 22.015625 51.703125 \nL 22.015625 39.3125 \nL 11.71875 39.3125 \nz\n\" id=\"DejaVuSans-58\"/>\n      </defs>\n      <use xlink:href=\"#DejaVuSans-66\"/>\n      <use x=\"68.603516\" xlink:href=\"#DejaVuSans-101\"/>\n      <use x=\"130.126953\" xlink:href=\"#DejaVuSans-115\"/>\n      <use x=\"182.226562\" xlink:href=\"#DejaVuSans-116\"/>\n      <use x=\"221.435547\" xlink:href=\"#DejaVuSans-32\"/>\n      <use x=\"253.222656\" xlink:href=\"#DejaVuSans-70\"/>\n      <use x=\"310.742188\" xlink:href=\"#DejaVuSans-45\"/>\n      <use x=\"346.826172\" xlink:href=\"#DejaVuSans-115\"/>\n      <use x=\"398.925781\" xlink:href=\"#DejaVuSans-99\"/>\n      <use x=\"453.90625\" xlink:href=\"#DejaVuSans-111\"/>\n      <use x=\"515.087891\" xlink:href=\"#DejaVuSans-114\"/>\n      <use x=\"553.951172\" xlink:href=\"#DejaVuSans-101\"/>\n      <use x=\"615.474609\" xlink:href=\"#DejaVuSans-58\"/>\n      <use x=\"649.166016\" xlink:href=\"#DejaVuSans-32\"/>\n      <use x=\"680.953125\" xlink:href=\"#DejaVuSans-48\"/>\n      <use x=\"744.576172\" xlink:href=\"#DejaVuSans-46\"/>\n      <use x=\"776.363281\" xlink:href=\"#DejaVuSans-53\"/>\n      <use x=\"839.986328\" xlink:href=\"#DejaVuSans-53\"/>\n      <use x=\"903.609375\" xlink:href=\"#DejaVuSans-50\"/>\n      <use x=\"967.232422\" xlink:href=\"#DejaVuSans-56\"/>\n      <use x=\"1030.855469\" xlink:href=\"#DejaVuSans-53\"/>\n      <use x=\"1094.478516\" xlink:href=\"#DejaVuSans-48\"/>\n      <use x=\"1158.101562\" xlink:href=\"#DejaVuSans-54\"/>\n      <use x=\"1221.724609\" xlink:href=\"#DejaVuSans-53\"/>\n      <use x=\"1285.347656\" xlink:href=\"#DejaVuSans-53\"/>\n      <use x=\"1348.970703\" xlink:href=\"#DejaVuSans-57\"/>\n      <use x=\"1412.59375\" xlink:href=\"#DejaVuSans-48\"/>\n      <use x=\"1476.216797\" xlink:href=\"#DejaVuSans-51\"/>\n      <use x=\"1539.839844\" xlink:href=\"#DejaVuSans-49\"/>\n      <use x=\"1603.462891\" xlink:href=\"#DejaVuSans-50\"/>\n      <use x=\"1667.085938\" xlink:href=\"#DejaVuSans-56\"/>\n      <use x=\"1730.708984\" xlink:href=\"#DejaVuSans-49\"/>\n     </g>\n    </g>\n   </g>\n  </g>\n </g>\n <defs>\n  <clipPath id=\"pd8ea93d05b\">\n   <rect height=\"217.44\" width=\"334.8\" x=\"50.14375\" y=\"22.318125\"/>\n  </clipPath>\n </defs>\n</svg>\n",
      "image/png": "[encoded data removed]"
     },
     "metadata": {
      "needs_background": "light"
     }
    }
   ],
   "source": [
    "true_pos_total = 0\n",
    "false_pos_total = 0\n",
    "true_labels_total = 0\n",
    "thresholds = np.arange(0.1,1.0,0.02)\n",
    "precisions = []\n",
    "recalls = []\n",
    "best_fscore = 0\n",
    "\n",
    "for threshold in thresholds:\n",
    "    for i in range(10):\n",
    "        fname = \"/Users/thomasathey/Documents/mimlab/mouselight/ailey/benchmark_formal/brain2/val_\" + str(i) + \".h5\"\n",
    "        f = h5py.File(fname, 'r')\n",
    "        im = f.get('image_2channel')\n",
    "        im_bg = im[0,:,:,:]\n",
    "        im_fg = im[1,:,:,:]\n",
    "\n",
    "        fname = \"/Users/thomasathey/Documents/mimlab/mouselight/ailey/benchmark_formal/brain2/val_\" + str(i) + \"-image_2channel_Labels.h5\"\n",
    "        f = h5py.File(fname, 'r')\n",
    "        gt = f.get('exported_data')\n",
    "        gt = gt[0,:,:,:]\n",
    "        pos_labels = gt == 2\n",
    "        num_pos_labels = np.sum(pos_labels)\n",
    "\n",
    "        fname = \"/Users/thomasathey/Documents/mimlab/mouselight/ailey/benchmark_formal/brain2/val_\" + str(i) + \"_Probabilities.h5\"\n",
    "        f = h5py.File(fname, 'r')\n",
    "        seg = f.get('exported_data')\n",
    "        seg = seg[1,:,:,:]\n",
    "        mask = seg > threshold\n",
    "\n",
    "        true_pos = np.sum(np.logical_and(mask, pos_labels))\n",
    "        true_pos_total += true_pos\n",
    "        false_pos = np.sum(np.logical_and(mask, gt == 1))\n",
    "        false_pos_total += false_pos\n",
    "        true_labels = np.sum(pos_labels)\n",
    "        true_labels_total += true_labels\n",
    "        \n",
    "        if num_pos_labels > 0:\n",
    "            precision = true_pos/(true_pos + false_pos)\n",
    "            recall = true_pos/true_labels\n",
    "            #print(f\"Example {i}: precision: {precision}, recall: {recall}\")\n",
    "        else:\n",
    "            #print(f\"Example {i}: 0 positive labels, false positive rate is: {false_pos/np.sum(gt == 1)}\")\n",
    "            pass\n",
    "\n",
    "        '''\n",
    "        viewer = napari.Viewer(ndisplay=3)\n",
    "        viewer.add_image(im_bg)\n",
    "        viewer.add_image(im_fg)\n",
    "        viewer.add_labels(gt)\n",
    "        viewer.add_labels(mask)\n",
    "        napari.run()\n",
    "        '''\n",
    "        \n",
    "    precision_total = true_pos_total/(true_pos_total + false_pos_total)\n",
    "    recall_total = true_pos_total/true_labels_total\n",
    "    fscore = 2/(1/precision_total+1/recall_total)\n",
    "    print(f\"Threshold: {threshold} ----- Total precision: {precision_total} total recall: {recall_total} with {true_labels_total} total positive voxels. F-score: {fscore}\")\n",
    "    if fscore > best_fscore:\n",
    "        best_fscore = fscore\n",
    "        best_prec = precision_total\n",
    "        best_recall = recall_total\n",
    "    precisions.append(precision_total) \n",
    "    recalls.append(recall_total)\n",
    "\n",
    "\n",
    "plt.plot(recalls, precisions, label='Prec-Rec Curve')\n",
    "plt.scatter([best_recall], [best_prec], c='red', label=f\"Best F-score: {best_fscore}\")\n",
    "plt.ylabel('Precision')\n",
    "plt.xlabel('Recall')\n",
    "plt.title('Validation Performance Brain 2')\n",
    "plt.legend()"
   ]
  },
  {
   "source": [
    "# Old"
   ],
   "cell_type": "markdown",
   "metadata": {}
  },
  {
   "source": [
    "# Evaluate results"
   ],
   "cell_type": "markdown",
   "metadata": {}
  },
  {
   "cell_type": "markdown",
   "metadata": {},
   "source": [
    "\n",
    "### Read ilastik"
   ]
  },
  {
   "cell_type": "code",
   "execution_count": 8,
   "metadata": {
    "scrolled": true
   },
   "outputs": [
    {
     "output_type": "stream",
     "name": "stdout",
     "text": [
      "(2, 200, 200, 200)\n",
      "sum: 744\n"
     ]
    }
   ],
   "source": [
    "base_path = \"/Users/thomasathey/Documents/mimlab/mouselight/ailey/benchmark/\"\n",
    "\n",
    "part = \"4\"\n",
    "\n",
    "im_path  = base_path + part + \".tif\"\n",
    "image = io.imread(im_path)\n",
    "\n",
    "pred_path = base_path + part + \"_Probabilities_3d_2channel.h5\"\n",
    "f = h5py.File(pred_path, 'r')\n",
    "pred = f.get('exported_data')\n",
    "print(pred.shape)\n",
    "pred = pred[1,:,:,:]\n",
    "mask = pred > 0.5\n",
    "mask = removeSmallCCs(mask, 100)\n",
    "print(f\"sum: {np.sum(mask)}\")"
   ]
  },
  {
   "cell_type": "markdown",
   "metadata": {},
   "source": [
    "### Read swcs"
   ]
  },
  {
   "cell_type": "code",
   "execution_count": 3,
   "metadata": {},
   "outputs": [],
   "source": [
    "from brainlit.utils.Neuron_trace import NeuronTrace\n",
    "from pathlib import Path\n",
    "from scipy.ndimage import distance_transform_edt"
   ]
  },
  {
   "cell_type": "code",
   "execution_count": 4,
   "metadata": {},
   "outputs": [],
   "source": [
    "swc_path = Path(\"/Users/thomasathey/Documents/mimlab/mouselight/ailey/\" + part + \"_traces/\")\n",
    "\n",
    "swc_files = list(swc_path.glob(\"**/*.swc\"))\n",
    "\n",
    "paths_total = []\n",
    "for swc_num, swc in enumerate(swc_files):\n",
    "\n",
    "    swc_trace = NeuronTrace(path=str(swc))\n",
    "    paths = swc_trace.get_paths()\n",
    "    offset_diff, _, _, _ = swc_trace.get_df_arguments()\n",
    "\n",
    "    for path_num, p in enumerate(paths):\n",
    "        paths_total.append(p)"
   ]
  },
  {
   "cell_type": "code",
   "execution_count": 5,
   "metadata": {},
   "outputs": [],
   "source": [
    "swc_mask = 0*mask\n",
    "for path in paths_total:\n",
    "    path = path.astype(int)\n",
    "    swc_mask[path[:,0], path[:,1], path[:,2]] = 1\n",
    "    \n",
    "edt = distance_transform_edt(swc_mask==0)\n",
    "swc_mask[edt < 2] = 1"
   ]
  },
  {
   "cell_type": "code",
   "execution_count": 10,
   "metadata": {},
   "outputs": [
    {
     "output_type": "execute_result",
     "data": {
      "text/plain": [
       "<Labels layer 'Labels' at 0x1641747c0>"
      ]
     },
     "metadata": {},
     "execution_count": 10
    }
   ],
   "source": [
    "viewer = napari.Viewer(ndisplay=3)\n",
    "viewer.add_image(np.swapaxes(image,0,2))\n",
    "viewer.add_labels(np.swapaxes(mask,0,2))\n",
    "#viewer.add_labels(swc_mask)\n",
    "#viewer.add_shapes(data=paths_total, shape_type='path', edge_width=1.0, edge_color='blue', opacity=0.8)"
   ]
  },
  {
   "cell_type": "code",
   "execution_count": null,
   "metadata": {},
   "outputs": [],
   "source": [
    "tpr = np.sum(np.logical_and(swc_mask, np.swapaxes(mask,0,2)))/np.sum(swc_mask)\n",
    "fpr = np.sum(np.logical_and(swc_mask==0, np.swapaxes(mask==1,0,2)))/np.sum(swc_mask==0)\n",
    "print(f\"TPR: {tpr}, FPR: {fpr}\")"
   ]
  },
  {
   "cell_type": "markdown",
   "metadata": {},
   "source": [
    "# Check blocks\n",
    "## Download data"
   ]
  },
  {
   "cell_type": "code",
   "execution_count": 18,
   "metadata": {},
   "outputs": [
    {
     "output_type": "stream",
     "name": "stderr",
     "text": [
      "Downloading: 4796it [01:07, 71.27it/s]  \n",
      "Downloading: 4796it [01:05, 73.19it/s]  \n"
     ]
    }
   ],
   "source": [
    "block_num = 500\n",
    "with open(\"/Users/thomasathey/Documents/mimlab/mouselight/ailey/wholebrain_results/coords_1_unique.txt\") as fp:\n",
    "    counter = 0\n",
    "    for line in fp:\n",
    "        if counter == block_num:\n",
    "            words = line.split()\n",
    "            corner = [int(word) for word in words]\n",
    "        counter += 1\n",
    "\n",
    "dims = [200,200,600]\n",
    "image_fg = vol_fg[corner[0]:corner[0]+dims[0], corner[1]:corner[1]+dims[1], corner[2]:corner[2]+dims[2]]\n",
    "image_bg = vol_bg[corner[0]:corner[0]+dims[0], corner[1]:corner[1]+dims[1], corner[2]:corner[2]+dims[2]]\n"
   ]
  },
  {
   "cell_type": "code",
   "execution_count": 19,
   "metadata": {},
   "outputs": [],
   "source": [
    "viewer = napari.Viewer(ndisplay=3)\n",
    "viewer.add_image(image_fg[:,:,:,0])\n",
    "viewer.add_image(image_bg[:,:,:,0])\n",
    "napari.run()"
   ]
  },
  {
   "cell_type": "code",
   "execution_count": 28,
   "metadata": {},
   "outputs": [
    {
     "output_type": "stream",
     "name": "stderr",
     "text": [
      "Downloading: 7194it [01:45, 67.98it/s]  \n",
      "Downloading: 7198it [01:39, 72.00it/s]  \n",
      "Downloading: 7198it [01:40, 71.44it/s]  \n",
      "Downloading: 7192it [01:33, 76.79it/s]  \n",
      "Downloading: 7192it [01:39, 72.04it/s]  \n",
      "Downloading: 7198it [01:42, 70.31it/s]  \n",
      "Downloading: 4798it [00:55, 87.11it/s]  \n",
      "Downloading: 4786it [00:54, 87.36it/s]  \n",
      "Downloading: 10790it [02:23, 75.06it/s]  \n",
      "Downloading: 10790it [02:28, 72.42it/s]  \n",
      "Downloading: 10796it [02:31, 71.36it/s]  \n",
      "Downloading: 10794it [02:23, 75.30it/s]  \n",
      "Downloading: 7190it [00:33, 214.82it/s] \n",
      "Downloading: 7188it [00:36, 198.07it/s] \n",
      "Downloading: 10796it [02:27, 73.23it/s]  \n",
      "Downloading: 10798it [02:34, 70.03it/s]  \n",
      "Downloading: 10796it [02:33, 70.40it/s]  \n",
      "Downloading: 10798it [02:31, 71.18it/s]  \n",
      "Downloading: 4796it [01:07, 71.18it/s]  \n",
      "Downloading: 4792it [01:07, 70.76it/s]  \n"
     ]
    }
   ],
   "source": [
    "from random import sample\n",
    "import numpy as np \n",
    "from tqdm import tqdm \n",
    "\n",
    "s = sample(list(np.arange(0, 659)), 10)\n",
    "dims = [200,200,600]\n",
    "\n",
    "for block_num in s:\n",
    "    with open(\"/Users/thomasathey/Documents/mimlab/mouselight/ailey/wholebrain_results/coords_1_unique.txt\") as fp:\n",
    "        counter = 0\n",
    "        for line in fp:\n",
    "            if counter == block_num:\n",
    "                words = line.split()\n",
    "                corner = [int(word) for word in words]\n",
    "            counter += 1\n",
    "    upper_bd = [np.amin([corner[i]+dims[i], vol_fg.shape[i]]) for i in range(3)]\n",
    "    image_fg = vol_fg[corner[0]:upper_bd[0], corner[1]:upper_bd[1], corner[2]:upper_bd[2]]\n",
    "    image_bg = vol_bg[corner[0]:corner[0]+dims[0], corner[1]:corner[1]+dims[1], corner[2]:corner[2]+dims[2]]\n",
    "    image_2channel = np.stack([image_bg, image_fg], axis=0)\n",
    "    fname = \"/Users/thomasathey/Documents/mimlab/mouselight/ailey/wholebrain_results/images/on_\" + str(block_num) + \".h5\"\n",
    "    with h5py.File(fname, \"w\") as f:\n",
    "        dset = f.create_dataset(\"image_2channel\", data=image_2channel)\n"
   ]
  },
  {
   "cell_type": "code",
   "execution_count": 18,
   "metadata": {},
   "outputs": [
    {
     "output_type": "stream",
     "name": "stdout",
     "text": [
      "Reading output\n",
      "Reading input\n"
     ]
    }
   ],
   "source": [
    "#0,1,2,3,5 artifact (2)\n",
    "#4,7,8,9 - positive, 6?\n",
    "blocks = [62, 115, 155, 277, 304, 358, 424, 508, 622, 636]\n",
    "block_num = blocks[5]\n",
    "print(\"Reading output\")\n",
    "fname = \"/Users/thomasathey/Documents/mimlab/mouselight/ailey/wholebrain_results/images/on_\" + str(block_num) + \"_Probabilities_3d_2channel.h5\"\n",
    "f = h5py.File(fname, \"r\")\n",
    "ks = list(f.keys())\n",
    "pred = f[ks[0]]\n",
    "pred = pred[1,:,:,:,0]\n",
    "mask = pred > 0.5\n",
    "labels = measure.label(mask)\n",
    "props = measure.regionprops(labels)\n",
    "for prop in props:\n",
    "    if prop.area < 100:\n",
    "        labels[labels == prop.label] = 0\n",
    "\n",
    "\n",
    "print(\"Reading input\")\n",
    "fname = \"/Users/thomasathey/Documents/mimlab/mouselight/ailey/wholebrain_results/images/on_\" + str(block_num) + \".h5\"\n",
    "f = h5py.File(fname, \"r\")\n",
    "ks = list(f.keys())\n",
    "im = f[ks[0]]\n",
    "im_bg = im[0,:,:,:,0]\n",
    "im_fg = im[1,:,:,:,0]\n",
    "\n",
    "viewer = napari.Viewer(ndisplay=3)\n",
    "viewer.add_image(im_bg)\n",
    "viewer.add_image(im_fg)\n",
    "viewer.add_labels(labels)\n",
    "napari.run()"
   ]
  },
  {
   "source": [
    "# Make annotation layer"
   ],
   "cell_type": "markdown",
   "metadata": {}
  },
  {
   "source": [
    "Making new annotation layer\n",
    "-output data and x,y,z bounds"
   ],
   "cell_type": "markdown",
   "metadata": {}
  },
  {
   "cell_type": "code",
   "execution_count": 9,
   "metadata": {},
   "outputs": [
    {
     "output_type": "execute_result",
     "data": {
      "text/plain": [
       "Vec(7403,10240,4800, dtype=int64)"
      ]
     },
     "metadata": {},
     "execution_count": 9
    }
   ],
   "source": [
    "vol_bg.volume_size"
   ]
  },
  {
   "source": [
    "cannot write to https link, can write to s3 link"
   ],
   "cell_type": "markdown",
   "metadata": {}
  },
  {
   "cell_type": "code",
   "execution_count": 13,
   "metadata": {},
   "outputs": [],
   "source": [
    "dir = \"s3://smartspim-precomputed-volumes/2021_04_08/gad2cre_tph2flp_con_fon_8291/axon_mask\"\n",
    "\n",
    "info = CloudVolume.create_new_info(\n",
    "    num_channels    = 1,\n",
    "    layer_type      = 'segmentation',\n",
    "    data_type       = 'uint64', # Channel images might be 'uint8'\n",
    "    encoding        = 'raw', # raw, jpeg, compressed_segmentation, fpzip, kempressed\n",
    "    resolution      = vol_bg.resolution, # Voxel scaling, units are in nanometers\n",
    "    voxel_offset    = vol_bg.voxel_offset, # x,y,z offset in voxels from the origin\n",
    "    # mesh            = 'mesh',\n",
    "    # Pick a convenient size for your underlying chunk representation\n",
    "    # Powers of two are recommended, doesn't need to cover image exactly\n",
    "    chunk_size      = [ 128, 128, 2 ], # units are voxels\n",
    "    volume_size     = vol_bg.volume_size, # e.g. a cubic millimeter dataset\n",
    ")\n",
    "vol = CloudVolume(dir, info=info)\n",
    "vol.commit_info()"
   ]
  },
  {
   "cell_type": "code",
   "execution_count": 26,
   "metadata": {},
   "outputs": [
    {
     "output_type": "stream",
     "name": "stderr",
     "text": [
      "Downloading: 50it [00:00, 55.15it/s]\n",
      "Downloading: 76it [00:00, 79.60it/s]\n"
     ]
    }
   ],
   "source": [
    "\n",
    "image_fg = vol_fg[2432:2560, 3584:3712, 2400:2440]\n",
    "image_bg = vol_bg[2432:2560, 3584:3712, 2400:2440]\n",
    "image_2channel = np.stack([image_bg, image_fg], axis=0)\n",
    "fname = \"/Users/thomasathey/Documents/mimlab/mouselight/ailey/example_annotation/example.h5\"\n",
    "with h5py.File(fname, \"w\") as f:\n",
    "    dset = f.create_dataset(\"image_2channel\", data=image_2channel)"
   ]
  },
  {
   "cell_type": "code",
   "execution_count": 27,
   "metadata": {},
   "outputs": [
    {
     "output_type": "stream",
     "name": "stdout",
     "text": [
      "True\n"
     ]
    }
   ],
   "source": [
    "example = \"off_2\"\n",
    "\n",
    "fname = \"/Users/thomasathey/Documents/mimlab/mouselight/ailey/example_annotation/example.h5\"\n",
    "f = h5py.File(fname, 'r')\n",
    "im = f.get('image_2channel')\n",
    "im_fg = im[1,:,:,:,0]\n",
    "\n",
    "fname = \"/Users/thomasathey/Documents/mimlab/mouselight/ailey/example_annotation/example_Probabilities_3d_2channel.h5\"\n",
    "f = h5py.File(fname, 'r')\n",
    "pred = f.get('exported_data')\n",
    "pred = pred[1,:,:,:,0]\n",
    "mask = pred > 0.5\n",
    "try:\n",
    "    mask = removeSmallCCs(mask, 100)\n",
    "except ValueError:\n",
    "    mask = 0*im_fg\n",
    "\n",
    "print(im_fg.shape == mask.shape)\n",
    "\n",
    "viewer = napari.Viewer(ndisplay=3)\n",
    "viewer.add_image(im_fg)\n",
    "viewer.add_labels(mask)\n",
    "napari.run()"
   ]
  },
  {
   "cell_type": "code",
   "execution_count": 30,
   "metadata": {},
   "outputs": [
    {
     "output_type": "stream",
     "name": "stderr",
     "text": [
      "Uploading:   0%|          | 0/20 [00:00<?, ?it/s]\n",
      "Uploading:   0%|          | 0/1 [00:00<?, ?it/s]\u001b[A\n",
      "\n",
      "Uploading:   0%|          | 0/1 [00:00<?, ?it/s]\u001b[A\u001b[A\n",
      "\n",
      "\n",
      "Uploading:   0%|          | 0/1 [00:00<?, ?it/s]\u001b[A\u001b[A\u001b[A\n",
      "\n",
      "\n",
      "\n",
      "Uploading:   0%|          | 0/1 [00:00<?, ?it/s]\u001b[A\u001b[A\u001b[A\u001b[A\n",
      "\n",
      "\n",
      "\n",
      "\n",
      "Uploading:   0%|          | 0/1 [00:00<?, ?it/s]\u001b[A\u001b[A\u001b[A\u001b[A\u001b[A\n",
      "\n",
      "\n",
      "\n",
      "\n",
      "\n",
      "Uploading:   0%|          | 0/1 [00:00<?, ?it/s]\u001b[A\u001b[A\u001b[A\u001b[A\u001b[A\u001b[A\n",
      "\n",
      "\n",
      "\n",
      "\n",
      "\n",
      "\n",
      "Uploading:   0%|          | 0/1 [00:00<?, ?it/s]\u001b[A\u001b[A\u001b[A\u001b[A\u001b[A\u001b[A\u001b[A\n",
      "\n",
      "\n",
      "\n",
      "\n",
      "\n",
      "\n",
      "\n",
      "Uploading:   0%|          | 0/1 [00:00<?, ?it/s]\u001b[A\u001b[A\u001b[A\u001b[A\u001b[A\u001b[A\u001b[A\u001b[A\n",
      "\n",
      "\n",
      "\n",
      "\n",
      "\n",
      "\n",
      "\n",
      "\n",
      "Uploading:   0%|          | 0/1 [00:00<?, ?it/s]\u001b[A\u001b[A\u001b[A\u001b[A\u001b[A\u001b[A\u001b[A\u001b[A\u001b[A\n",
      "\n",
      "\n",
      "\n",
      "\n",
      "\n",
      "\n",
      "\n",
      "\n",
      "\n",
      "Uploading:   0%|          | 0/1 [00:00<?, ?it/s]\u001b[A\u001b[A\u001b[A\u001b[A\u001b[A\u001b[A\u001b[A\u001b[A\u001b[A\u001b[A\n",
      "\n",
      "\n",
      "\n",
      "\n",
      "\n",
      "\n",
      "\n",
      "\n",
      "\n",
      "\n",
      "Uploading:   0%|          | 0/1 [00:00<?, ?it/s]\u001b[A\u001b[A\u001b[A\u001b[A\u001b[A\u001b[A\u001b[A\u001b[A\u001b[A\u001b[A\u001b[A\n",
      "\n",
      "\n",
      "\n",
      "\n",
      "\n",
      "\n",
      "\n",
      "\n",
      "\n",
      "\n",
      "\n",
      "Uploading:   0%|          | 0/1 [00:00<?, ?it/s]\u001b[A\u001b[A\u001b[A\u001b[A\u001b[A\u001b[A\u001b[A\u001b[A\u001b[A\u001b[A\u001b[A\u001b[A\n",
      "\n",
      "\n",
      "\n",
      "\n",
      "\n",
      "\n",
      "\n",
      "\n",
      "\n",
      "\n",
      "\n",
      "\n",
      "Uploading:   0%|          | 0/1 [00:00<?, ?it/s]\u001b[A\u001b[A\u001b[A\u001b[A\u001b[A\u001b[A\u001b[A\u001b[A\u001b[A\u001b[A\u001b[A\u001b[A\u001b[A\n",
      "\n",
      "\n",
      "\n",
      "\n",
      "\n",
      "\n",
      "\n",
      "\n",
      "\n",
      "\n",
      "\n",
      "\n",
      "\n",
      "Uploading:   0%|          | 0/1 [00:00<?, ?it/s]\u001b[A\u001b[A\u001b[A\u001b[A\u001b[A\u001b[A\u001b[A\u001b[A\u001b[A\u001b[A\u001b[A\u001b[A\u001b[A\u001b[A\n",
      "\n",
      "\n",
      "\n",
      "\n",
      "\n",
      "\n",
      "\n",
      "\n",
      "\n",
      "\n",
      "\n",
      "\n",
      "\n",
      "\n",
      "Uploading:   0%|          | 0/1 [00:00<?, ?it/s]\u001b[A\u001b[A\u001b[A\u001b[A\u001b[A\u001b[A\u001b[A\u001b[A\u001b[A\u001b[A\u001b[A\u001b[A\u001b[A\u001b[A\u001b[A\n",
      "\n",
      "\n",
      "\n",
      "\n",
      "\n",
      "\n",
      "\n",
      "\n",
      "\n",
      "\n",
      "\n",
      "\n",
      "\n",
      "\n",
      "\n",
      "Uploading:   0%|          | 0/1 [00:00<?, ?it/s]\u001b[A\u001b[A\u001b[A\u001b[A\u001b[A\u001b[A\u001b[A\u001b[A\u001b[A\u001b[A\u001b[A\u001b[A\u001b[A\u001b[A\u001b[A\u001b[A\n",
      "\n",
      "\n",
      "\n",
      "\n",
      "\n",
      "\n",
      "\n",
      "\n",
      "\n",
      "\n",
      "\n",
      "\n",
      "\n",
      "\n",
      "\n",
      "\n",
      "Uploading:   0%|          | 0/1 [00:00<?, ?it/s]\u001b[A\u001b[A\u001b[A\u001b[A\u001b[A\u001b[A\u001b[A\u001b[A\u001b[A\u001b[A\u001b[A\u001b[A\u001b[A\u001b[A\u001b[A\u001b[A\u001b[A\n",
      "\n",
      "\n",
      "\n",
      "\n",
      "\n",
      "\n",
      "\n",
      "\n",
      "\n",
      "\n",
      "\n",
      "\n",
      "\n",
      "\n",
      "\n",
      "\n",
      "\n",
      "Uploading:   0%|          | 0/1 [00:00<?, ?it/s]\u001b[A\u001b[A\u001b[A\u001b[A\u001b[A\u001b[A\u001b[A\u001b[A\u001b[A\u001b[A\u001b[A\u001b[A\u001b[A\u001b[A\u001b[A\u001b[A\u001b[A\u001b[A\n",
      "\n",
      "\n",
      "\n",
      "\n",
      "\n",
      "\n",
      "\n",
      "\n",
      "\n",
      "\n",
      "\n",
      "\n",
      "\n",
      "\n",
      "\n",
      "\n",
      "\n",
      "\n",
      " ... (more hidden) ...\u001b[A\u001b[A\u001b[A\u001b[A\u001b[A\u001b[A\u001b[A\u001b[A\u001b[A\u001b[A\u001b[A\u001b[A\u001b[A\u001b[A\u001b[A\u001b[A\u001b[A\u001b[A\u001b[A\n",
      "Uploading: 100%|██████████| 1/1 [00:00<00:00,  1.45it/s]\u001b[A\n",
      "\n",
      "\n",
      "\n",
      "\n",
      "\n",
      "\n",
      "\n",
      "\n",
      "\n",
      "\n",
      "\n",
      "\n",
      "\n",
      "\n",
      "\n",
      "\n",
      "\n",
      "\n",
      "\u001b[A\u001b[A\u001b[A\u001b[A\u001b[A\u001b[A\u001b[A\u001b[A\u001b[A\u001b[A\u001b[A\u001b[A\u001b[A\u001b[A\u001b[A\u001b[A\u001b[A\u001b[A\u001b[A\n",
      "\n",
      "\n",
      "Uploading: 100%|██████████| 1/1 [00:00<00:00,  1.42it/s]\n",
      "Uploading: 100%|██████████| 1/1 [00:00<00:00,  1.51it/s]\n",
      "\n",
      "\n",
      "\n",
      "\n",
      "\n",
      "\n",
      "Uploading: 100%|██████████| 1/1 [00:00<00:00,  1.51it/s]\u001b[A\u001b[A\u001b[A\u001b[A\u001b[A\u001b[A\n",
      "\n",
      "\n",
      "\n",
      "\n",
      "Uploading: 100%|██████████| 1/1 [00:00<00:00,  1.49it/s]\u001b[A\u001b[A\u001b[A\u001b[A\u001b[A\n",
      "\n",
      "Uploading: 100%|██████████| 1/1 [00:00<00:00,  1.43it/s]\u001b[A\u001b[A\n",
      "\n",
      "\n",
      "\n",
      "Uploading: 100%|██████████| 1/1 [00:00<00:00,  1.38it/s]\n",
      "Uploading: 100%|██████████| 1/1 [00:00<00:00,  1.36it/s]\n",
      "Uploading: 100%|██████████| 1/1 [00:00<00:00,  1.31it/s]\n",
      "Uploading: 100%|██████████| 1/1 [00:00<00:00,  1.36it/s]\n",
      "\n",
      "\n",
      "\n",
      "\n",
      "\n",
      "\n",
      "\n",
      "\n",
      "\n",
      "\n",
      "\n",
      "Uploading: 100%|██████████| 1/1 [00:01<00:00,  1.20s/it]\n",
      "\n",
      "\n",
      "\n",
      "\n",
      "\n",
      "\n",
      "\n",
      "Uploading: 100%|██████████| 1/1 [00:01<00:00,  1.27s/it]\n",
      "\n",
      "\n",
      "\n",
      "\n",
      "\n",
      "\n",
      "\n",
      "\n",
      "Uploading: 100%|██████████| 1/1 [00:01<00:00,  1.26s/it]\n",
      "\n",
      "\n",
      "\n",
      "\n",
      "\n",
      "\n",
      "\n",
      "\n",
      "\n",
      "\n",
      "\n",
      "\n",
      "\n",
      "\n",
      "Uploading: 100%|██████████| 1/1 [00:01<00:00,  1.23s/it]\n",
      "\n",
      "\n",
      "\n",
      "\n",
      "\n",
      "\n",
      "\n",
      "\n",
      "\n",
      "\n",
      "\n",
      "\n",
      "Uploading: 100%|██████████| 1/1 [00:01<00:00,  1.24s/it]\n",
      "\n",
      "\n",
      "\n",
      "\n",
      "\n",
      "\n",
      "\n",
      "\n",
      "\n",
      "\n",
      "\n",
      "\n",
      "\n",
      "Uploading: 100%|██████████| 1/1 [00:01<00:00,  1.30s/it]\n",
      "\n",
      "\n",
      "\n",
      "\n",
      "\n",
      "\n",
      "\n",
      "\n",
      "\n",
      "Uploading: 100%|██████████| 1/1 [00:01<00:00,  1.34s/it]\n",
      "\n",
      "\n",
      "\n",
      "\n",
      "\n",
      "\n",
      "\n",
      "\n",
      "\n",
      "\n",
      "Uploading: 100%|██████████| 1/1 [00:01<00:00,  1.33s/it]\n",
      "\n",
      "\n",
      "\n",
      "\n",
      "\n",
      "\n",
      "\n",
      "\n",
      "\n",
      "\n",
      "\n",
      "\n",
      "\n",
      "\n",
      "\n",
      "Uploading: 100%|██████████| 1/1 [00:01<00:00,  1.32s/it]\n",
      "\n",
      "\n",
      "\n",
      "\n",
      "\n",
      "\n",
      "\n",
      "\n",
      "\n",
      "\n",
      "\n",
      "\n",
      "\n",
      "\n",
      "\n",
      "\n",
      "Uploading: 100%|██████████| 1/1 [00:01<00:00,  1.35s/it]\u001b[A\u001b[A\u001b[A\u001b[A\u001b[A\u001b[A\u001b[A\u001b[A\u001b[A\u001b[A\u001b[A\u001b[A\u001b[A\u001b[A\u001b[A\u001b[A\n",
      "\n",
      "\n",
      "\n",
      "\n",
      "\n",
      "\n",
      "\n",
      "\n",
      "\n",
      "\n",
      "\n",
      "\n",
      "\n",
      "\n",
      "\n",
      "\n",
      "\n",
      "Uploading: 100%|██████████| 1/1 [00:01<00:00,  1.35s/it]\n",
      "Uploading: 100%|██████████| 1/1 [00:01<00:00,  1.36s/it]\n",
      "\n",
      "\n",
      "\n",
      "\n",
      "\n",
      "\n",
      "\n",
      "\n",
      "\n",
      "\n",
      "\n",
      "\n",
      "\n",
      "\n",
      "\n",
      "\n",
      "\n",
      "Uploading: 100%|██████████| 1/1 [00:01<00:00,  1.40s/it]\n",
      "\n",
      "Uploading: 100%|██████████| 1/1 [00:01<00:00,  1.41s/it]\n",
      "\n",
      "\n",
      "\n",
      "Uploading: 100%|██████████| 1/1 [00:01<00:00,  1.80s/it]\n",
      "Uploading:   0%|          | 0/20 [00:01<?, ?it/s]\n"
     ]
    }
   ],
   "source": [
    "vol[2432:2560, 3584:3712, 2400:2440] = mask.astype('uint64')"
   ]
  },
  {
   "source": [
    "https://viz.neurodata.io/?json_url=https://json.neurodata.io/v1?NGStateID=E-917tNc_GylnQ"
   ],
   "cell_type": "markdown",
   "metadata": {}
  },
  {
   "source": [
    "## Brainlit example"
   ],
   "cell_type": "markdown",
   "metadata": {}
  },
  {
   "cell_type": "code",
   "execution_count": null,
   "metadata": {},
   "outputs": [],
   "source": [
    "dir = \"s3://open-neurodata/brainlit/brain2/axons\"\n",
    "\n",
    "info = CloudVolume.create_new_info(\n",
    "    num_channels    = 1,\n",
    "    layer_type      = 'segmentation',\n",
    "    data_type       = 'uint64', # Channel images might be 'uint8'\n",
    "    encoding        = 'raw', # raw, jpeg, compressed_segmentation, fpzip, kempressed\n",
    "    resolution      = vol_brainlit.resolution, # Voxel scaling, units are in nanometers\n",
    "    voxel_offset    = vol_brainlit.voxel_offset, # x,y,z offset in voxels from the origin\n",
    "    # mesh            = 'mesh',\n",
    "    # Pick a convenient size for your underlying chunk representation\n",
    "    # Powers of two are recommended, doesn't need to cover image exactly\n",
    "    chunk_size      = [ 68, 52, 80 ], # units are voxels\n",
    "    volume_size     = vol_brainlit.volume_size, # e.g. a cubic millimeter dataset\n",
    ")\n",
    "vol = CloudVolume(dir, info=info)\n",
    "vol.commit_info()"
   ]
  },
  {
   "cell_type": "code",
   "execution_count": 10,
   "metadata": {},
   "outputs": [],
   "source": [
    "import numpy as np "
   ]
  },
  {
   "cell_type": "code",
   "execution_count": 13,
   "metadata": {},
   "outputs": [
    {
     "output_type": "stream",
     "name": "stderr",
     "text": [
      "Uploading:   0%|          | 0/1 [00:00<?, ?it/s]\n",
      "Uploading:   0%|          | 0/1 [00:00<?, ?it/s]\u001b[A\n",
      "Uploading: 100%|██████████| 1/1 [00:00<00:00,  3.44it/s]\n",
      "Uploading:   0%|          | 0/1 [00:00<?, ?it/s]\n"
     ]
    }
   ],
   "source": [
    "a = np.zeros((68,52,80), dtype='uint64')\n",
    "a[30:35,:,:] = 1\n",
    "vol[:68,:52,:80] = a"
   ]
  },
  {
   "source": [
    "# Second sample"
   ],
   "cell_type": "markdown",
   "metadata": {}
  },
  {
   "cell_type": "code",
   "execution_count": 9,
   "metadata": {},
   "outputs": [],
   "source": [
    "dir = \"precomputed://https://dlab-colm.neurodata.io/2021_06_02_Sert_Cre/Ch_647\"\n",
    "\n",
    "vol_fg = CloudVolume(dir)"
   ]
  },
  {
   "source": [
    "## Download and save samples"
   ],
   "cell_type": "markdown",
   "metadata": {}
  },
  {
   "cell_type": "code",
   "execution_count": 16,
   "metadata": {},
   "outputs": [
    {
     "output_type": "stream",
     "name": "stderr",
     "text": [
      "Downloading: 2388it [00:36, 65.59it/s] \n",
      "Downloading: 2390it [00:27, 86.18it/s]  \n",
      "Downloading: 3594it [00:50, 71.85it/s]  \n"
     ]
    }
   ],
   "source": [
    "pos_centers = [[3071, 765, 2342], [5065, 3455, 2342], [3262, 7854, 2342]] #tectum, cortex, olfactory bulb\n",
    "neg_centers = [[3557, 4797, 2342], [1564, 1997, 2342], [1606, 5204, 2342]] #?, edge of brain/tectum, white matter\n",
    "radius = 100\n",
    "\n",
    "for i, center in enumerate(pos_centers):\n",
    "    image_fg = vol_fg[center[0]-radius:center[0]+radius, center[1]-radius:center[1]+radius, center[2]-radius:center[2]+radius]\n",
    "    image_bg = 0*image_fg\n",
    "    image_2channel = np.stack([image_bg, image_fg], axis=0)\n",
    "    fname = \"/Users/thomasathey/Documents/mimlab/mouselight/ailey/brain2_data/images/on_\" + str(i) + \".h5\"\n",
    "    with h5py.File(fname, \"w\") as f:\n",
    "        dset = f.create_dataset(\"image_2channel\", data=image_2channel)\n",
    "\n",
    "\n",
    "for i, center in enumerate(neg_centers):\n",
    "    image_fg = vol_fg[center[0]-radius:center[0]+radius, center[1]-radius:center[1]+radius, center[2]-radius:center[2]+radius]\n",
    "    image_bg = 0*image_fg\n",
    "    image_2channel = np.stack([image_bg, image_fg], axis=0)\n",
    "    fname = \"/Users/thomasathey/Documents/mimlab/mouselight/ailey/brain2_data/images/off_\" + str(i) + \".h5\"\n",
    "    with h5py.File(fname, \"w\") as f:\n",
    "        dset = f.create_dataset(\"image_2channel\", data=image_2channel)"
   ]
  },
  {
   "source": [
    "## Read ilastik results"
   ],
   "cell_type": "markdown",
   "metadata": {}
  },
  {
   "cell_type": "code",
   "execution_count": 8,
   "metadata": {},
   "outputs": [
    {
     "output_type": "stream",
     "name": "stdout",
     "text": [
      "True\n"
     ]
    }
   ],
   "source": [
    "example = \"off_2\"\n",
    "\n",
    "fname = \"/Users/thomasathey/Documents/mimlab/mouselight/ailey/brain2_data/images/\" + example + \".h5\"\n",
    "f = h5py.File(fname, 'r')\n",
    "im = f.get('image_2channel')\n",
    "im_fg = im[1,:,:,:,0]\n",
    "\n",
    "fname = \"/Users/thomasathey/Documents/mimlab/mouselight/ailey/brain2_data/images/\" + example + \"_Probabilities_3d_2channel.h5\"\n",
    "f = h5py.File(fname, 'r')\n",
    "pred = f.get('exported_data')\n",
    "pred = pred[1,:,:,:,0]\n",
    "mask = pred > 0.5\n",
    "\n",
    "try:\n",
    "    mask = removeSmallCCs(mask, 100)\n",
    "except ValueError:\n",
    "    mask = 0*im_fg\n",
    "\n",
    "print(im_fg.shape == mask.shape)\n",
    "\n",
    "viewer = napari.Viewer(ndisplay=3)\n",
    "viewer.add_image(im_fg)\n",
    "viewer.add_labels(mask)\n",
    "napari.run()"
   ]
  },
  {
   "cell_type": "code",
   "execution_count": null,
   "metadata": {},
   "outputs": [],
   "source": []
  }
 ],
 "metadata": {
  "kernelspec": {
   "name": "env_37_demo",
   "display_name": "env_37_demo",
   "language": "python"
  },
  "language_info": {
   "codemirror_mode": {
    "name": "ipython",
    "version": 3
   },
   "file_extension": ".py",
   "mimetype": "text/x-python",
   "name": "python",
   "nbconvert_exporter": "python",
   "pygments_lexer": "ipython3",
   "version": "3.8.10"
  },
  "metadata": {
   "interpreter": {
    "hash": "31f2aee4e71d21fbe5cf8b01ff0e069b9275f58929596ceb00d14d90e3e16cd6"
   }
  }
 },
 "nbformat": 4,
 "nbformat_minor": 2
}
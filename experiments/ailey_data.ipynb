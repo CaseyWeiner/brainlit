{
 "metadata": {
  "language_info": {
   "codemirror_mode": {
    "name": "ipython",
    "version": 3
   },
   "file_extension": ".py",
   "mimetype": "text/x-python",
   "name": "python",
   "nbconvert_exporter": "python",
   "pygments_lexer": "ipython3",
   "version": "3.8.6"
  },
  "orig_nbformat": 2,
  "kernelspec": {
   "name": "python386jvsc74a57bd0c48f87b51193a18c36f6ec1b39da40df380a4c3fb2fa54b3e413dc2378ec9052",
   "display_name": "Python 3.8.6 64-bit ('env')"
  }
 },
 "nbformat": 4,
 "nbformat_minor": 2,
 "cells": [
  {
   "cell_type": "code",
   "execution_count": 1,
   "metadata": {},
   "outputs": [
    {
     "output_type": "stream",
     "name": "stderr",
     "text": [
      "/Users/thomasathey/Documents/mimlab/mouselight/env/lib/python3.8/site-packages/python_jsonschema_objects/__init__.py:50: UserWarning: Schema version http://json-schema.org/draft-04/schema not recognized. Some keywords and features may not be supported.\n  warnings.warn(\n"
     ]
    }
   ],
   "source": [
    "from cloudvolume import CloudVolume\n",
    "from skimage.transform import downscale_local_mean\n",
    "import napari\n",
    "%gui qt5"
   ]
  },
  {
   "cell_type": "code",
   "execution_count": 2,
   "metadata": {},
   "outputs": [
    {
     "output_type": "stream",
     "name": "stdout",
     "text": [
      "[ 7403 10240  4800     1]\n"
     ]
    }
   ],
   "source": [
    "\n",
    "dir = \"precomputed://https://dlab-colm.neurodata.io/2021_04_08/gad2cre_tph2flp_con_fon_8291/642\"\n",
    "mip = 0\n",
    "\n",
    "vol = CloudVolume(dir, parallel=True, mip=mip, fill_missing=True)\n",
    "print(vol.shape)"
   ]
  },
  {
   "cell_type": "code",
   "execution_count": 52,
   "metadata": {},
   "outputs": [
    {
     "output_type": "execute_result",
     "data": {
      "text/plain": [
       "<Image layer 'image' at 0x18187d490>"
      ]
     },
     "metadata": {},
     "execution_count": 52
    }
   ],
   "source": [
    "centers = [[3104, 3700, 2373], [2365, 3753, 2373], [3615, 3671, 2373], [2556, 5182, 2373], [2231, 4961, 2719], [2570, 6194, 2493], [2647, 4247, 1911], [3623, 3732, 2423], [2681, 3426, 2436], [3603, 3669, 2490]]\n",
    "#0, 1, 4, 5, 8 - thin more obvious axons\n",
    "#2, 3, 6,7,9 - thick and faint\n",
    "\n",
    "centers_off = [[2013, 3983, 675], [4847,3584,1625], [2992,6649,1625], [2272,5195,1927], [4754,4971,2294], [4801,5284,2294], [3853,6437,3325], [4887,6007,3325], [1990,6043,3325], [2872,2444,3898]]\n",
    "\n",
    "#one axon? - 0,4,6,7,8,9\n",
    "#def not - 1,2,3,5\n",
    "i=8\n",
    "center = centers[i]\n",
    "fname = \"/Users/thomasathey/Documents/mimlab/mouselight/ailey/on_\" + str(i) + \".tif\"\n",
    "image = io.imread(fname)\n",
    "radius = 100\n",
    "#image = vol[center[0]-radius:center[0]+radius,center[1]-radius:center[1]+radius, center[2]-radius:center[2]+radius]\n",
    "#image = image[:,:,:,0]\n",
    "viewer = napari.Viewer(ndisplay=3)\n",
    "viewer.add_image(image)"
   ]
  },
  {
   "source": [
    "## Write tifs"
   ],
   "cell_type": "markdown",
   "metadata": {}
  },
  {
   "cell_type": "code",
   "execution_count": 35,
   "metadata": {},
   "outputs": [],
   "source": [
    "from skimage import io "
   ]
  },
  {
   "cell_type": "code",
   "execution_count": 51,
   "metadata": {},
   "outputs": [
    {
     "output_type": "stream",
     "name": "stderr",
     "text": [
      "<ipython-input-51-ff163b6c411a>:7: UserWarning: /Users/thomasathey/Documents/mimlab/mouselight/ailey/on_8.tif is a low contrast image\n  io.imsave(fname, image)\n"
     ]
    }
   ],
   "source": [
    "for i in range(8,9):\n",
    "    center = centers[i]\n",
    "    radius = 100\n",
    "    image = vol[center[0]-radius:center[0]+radius,center[1]-radius:center[1]+radius, center[2]-radius:center[2]+radius]\n",
    "    image = image[:,:,:,0]\n",
    "    fname = \"/Users/thomasathey/Documents/mimlab/mouselight/ailey/on_\" + str(i) + \".tif\"\n",
    "    io.imsave(fname, image)"
   ]
  },
  {
   "source": [
    "\n",
    "## Read ilastik"
   ],
   "cell_type": "markdown",
   "metadata": {}
  },
  {
   "cell_type": "code",
   "execution_count": 62,
   "metadata": {},
   "outputs": [],
   "source": [
    "import h5py\n",
    "import numpy as np "
   ]
  },
  {
   "source": [
    "base_path = \"/Users/thomasathey/Documents/mimlab/mouselight/ailey/\"\n",
    "\n",
    "part = \"on_0\"\n",
    "\n",
    "im_path  = \"/Users/thomasathey/Documents/mimlab/mouselight/ailey/\" + part + \".tif\"\n",
    "image = io.imread(im_path)\n",
    "\n",
    "pred_path = base_path + part + \"_Probabilities.h5\"\n",
    "f = h5py.File(pred_path, 'r')\n",
    "pred = f['exported_data'].value\n",
    "pred = pred[:,:,:,1]"
   ],
   "cell_type": "code",
   "metadata": {},
   "execution_count": 81,
   "outputs": [
    {
     "output_type": "stream",
     "name": "stderr",
     "text": [
      "<ipython-input-81-62879b4c8bd2>:10: H5pyDeprecationWarning: dataset.value has been deprecated. Use dataset[()] instead.\n  pred = f['exported_data'].value\n"
     ]
    }
   ]
  },
  {
   "cell_type": "code",
   "execution_count": 82,
   "metadata": {},
   "outputs": [
    {
     "output_type": "execute_result",
     "data": {
      "text/plain": [
       "<Labels layer 'Labels' at 0x182abc3a0>"
      ]
     },
     "metadata": {},
     "execution_count": 82
    }
   ],
   "source": [
    "viewer = napari.Viewer(ndisplay=3)\n",
    "viewer.add_image(image)\n",
    "viewer.add_labels(pred>0.5)"
   ]
  },
  {
   "cell_type": "code",
   "execution_count": 63,
   "metadata": {},
   "outputs": [
    {
     "output_type": "execute_result",
     "data": {
      "text/plain": [
       "1.0"
      ]
     },
     "metadata": {},
     "execution_count": 63
    }
   ],
   "source": [
    "np.amax(pred)"
   ]
  },
  {
   "cell_type": "code",
   "execution_count": null,
   "metadata": {},
   "outputs": [],
   "source": []
  }
 ]
}
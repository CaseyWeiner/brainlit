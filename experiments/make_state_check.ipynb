{
 "cells": [
  {
   "cell_type": "code",
   "execution_count": 4,
   "metadata": {},
   "outputs": [],
   "source": [
    "import zarr\n",
    "import napari\n",
    "import pickle\n",
    "from skimage import io\n",
    "from napari_animation import AnimationWidget\n",
    "import numpy as np\n",
    "from tqdm import tqdm"
   ]
  },
  {
   "cell_type": "code",
   "execution_count": 2,
   "metadata": {},
   "outputs": [],
   "source": [
    "z=zarr.open(\"/Users/thomasathey/Documents/mimlab/mouselight/input/images/big/250.zarr\")\n",
    "im = z[:,:,:]\n",
    "z=zarr.open(\"/Users/thomasathey/Documents/mimlab/mouselight/input/images/big/250_labels.zarr\")\n",
    "labels = z[:,:,:]"
   ]
  },
  {
   "cell_type": "code",
   "execution_count": 13,
   "metadata": {},
   "outputs": [
    {
     "data": {
      "text/plain": [
       "<Labels layer 'labels' at 0x14f499be0>"
      ]
     },
     "execution_count": 13,
     "metadata": {},
     "output_type": "execute_result"
    }
   ],
   "source": [
    "viewer = napari.Viewer(ndisplay=3)\n",
    "viewer.add_image(im)\n",
    "viewer.add_labels(labels)"
   ]
  },
  {
   "cell_type": "code",
   "execution_count": 6,
   "metadata": {},
   "outputs": [
    {
     "data": {
      "text/plain": [
       "<Points layer 'Points' at 0x156a47e50>"
      ]
     },
     "execution_count": 6,
     "metadata": {},
     "output_type": "execute_result"
    }
   ],
   "source": [
    "\n",
    "with open(\"/Users/thomasathey/Documents/mimlab/mouselight/input/images/big/250_nx.pickle\", 'rb') as handle:\n",
    "    G = pickle.load(handle)\n",
    "\n",
    "points = []\n",
    "for node in G.nodes:\n",
    "    points.append(G.nodes[node][\"point1\"])\n",
    "\n",
    "viewer = napari.Viewer(ndisplay=3)\n",
    "viewer.add_image(im)\n",
    "viewer.add_labels(labels)\n",
    "viewer.add_points(points, size=3)"
   ]
  },
  {
   "cell_type": "code",
   "execution_count": 15,
   "metadata": {},
   "outputs": [
    {
     "name": "stderr",
     "output_type": "stream",
     "text": [
      "100%|██████████| 216204/216204 [00:01<00:00, 146884.53it/s]\n",
      "/Users/thomasathey/Documents/mimlab/mouselight/docs_env/lib/python3.8/site-packages/napari_animation/_qt/keyframeslist_widget.py:156: FutureWarning: Themes were changed to use evented model with Pydantic's color type rather than the `rgb(x, y, z)`. You can get the old color by calling `color.as_rgb()`. The `as_dict=True` option will be removed in 0.X.X\n",
      "  self.setStyleSheet(template(qss_template, **get_theme(theme_name)))\n"
     ]
    }
   ],
   "source": [
    "im = io.imread(\"/Users/thomasathey/Documents/mimlab/mouselight/input/images/big/1mm_ds.tif\")\n",
    "labels = io.imread(\"/Users/thomasathey/Documents/mimlab/mouselight/input/images/big/1mm_labels_ds.tif\")\n",
    "\n",
    "with open(\"/Users/thomasathey/Documents/mimlab/mouselight/input/images/big/1mm_nx.pickle\", 'rb') as handle:\n",
    "    G = pickle.load(handle)\n",
    "\n",
    "points = []\n",
    "for node in tqdm(G.nodes):\n",
    "    if G.nodes[node][\"type\"] == \"fragment\":\n",
    "        points.append(np.divide(G.nodes[node][\"point1\"], 4))\n",
    "        points.append(np.divide(G.nodes[node][\"point2\"], 4))\n",
    "\n",
    "scale = [1.2,1.2,4]\n",
    "\n",
    "viewer = napari.Viewer(ndisplay=3)\n",
    "viewer.add_image(im, scale=scale)\n",
    "viewer.add_labels(labels, scale=scale)\n",
    "viewer.add_points(points, scale=scale, size=1, face_color='red')\n",
    "animation_widget = AnimationWidget(viewer)\n",
    "viewer.window.add_dock_widget(animation_widget, area=\"right\")\n",
    "viewer.scale_bar.visible = True"
   ]
  },
  {
   "cell_type": "code",
   "execution_count": null,
   "metadata": {},
   "outputs": [],
   "source": []
  }
 ],
 "metadata": {
  "interpreter": {
   "hash": "5dc00d68ff54f8375e99934614da4863299fb9e10af4294c095b7f517546ff26"
  },
  "kernelspec": {
   "display_name": "Python 3.8.10 64-bit ('docs_env': venv)",
   "language": "python",
   "name": "python3"
  },
  "language_info": {
   "codemirror_mode": {
    "name": "ipython",
    "version": 3
   },
   "file_extension": ".py",
   "mimetype": "text/x-python",
   "name": "python",
   "nbconvert_exporter": "python",
   "pygments_lexer": "ipython3",
   "version": "3.8.10"
  },
  "orig_nbformat": 4
 },
 "nbformat": 4,
 "nbformat_minor": 2
}

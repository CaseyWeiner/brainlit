{
 "cells": [
  {
   "cell_type": "code",
   "execution_count": 10,
   "metadata": {},
   "outputs": [],
   "source": [
    "from cloudvolume import CloudVolume\n",
    "from cloudvolume.exceptions import SkeletonDecodeError\n",
    "from itertools import islice\n",
    "from skimage.transform import downscale_local_mean\n",
    "import napari\n",
    "from skimage import io\n",
    "import random\n",
    "import h5py\n",
    "from skimage import measure\n",
    "from brainlit.preprocessing import removeSmallCCs\n",
    "import numpy as np \n",
    "import matplotlib.pyplot as plt \n",
    "import subprocess\n",
    "import tables\n",
    "from napari_animation import AnimationWidget\n",
    "from tqdm import tqdm\n",
    "import pickle\n",
    "import networkx as nx\n",
    "import seaborn as sns\n",
    "import pandas as pd\n",
    "import brainrender\n",
    "from brainlit.utils.session import NeuroglancerSession\n",
    "from skimage.filters import threshold_otsu, threshold_local\n",
    "from brainlit.preprocessing import split_frags, rename_states_consecutively, label_points\n",
    "from brainlit.algorithms.connect_fragments import most_probable_neuron_path\n",
    "from brainlit.algorithms.connect_fragments import trace_evaluation\n",
    "from brainlit.algorithms.connect_fragments import dynamic_programming_viterbi2\n",
    "import similaritymeasures\n",
    "from brainlit.viz import Bresenham3D\n",
    "from cloudvolume import Skeleton\n",
    "from sklearn.metrics import pairwise_distances_argmin_min\n",
    "import time\n",
    "import zarr\n",
    "from brainlit.preprocessing import image_process\n",
    "%gui qt5"
   ]
  },
  {
   "cell_type": "code",
   "execution_count": null,
   "metadata": {},
   "outputs": [],
   "source": [
    "dir = \"s3://open-neurodata/brainlit/brain1\"\n",
    "dir_segments = \"s3://open-neurodata/brainlit/brain1_segments\"\n",
    "\n",
    "ngl_sess = NeuroglancerSession(mip = 0, url = dir, url_segments=dir_segments)\n",
    "\n",
    "res = [0.3,0.3,1]\n",
    "threshold = 0.9\n",
    "\n",
    "block_size = 101\n",
    "\n",
    "img, bbox, vox = ngl_sess.pull_vertex_list(2, [0], [1,1,1])\n",
    "bbox"
   ]
  },
  {
   "cell_type": "code",
   "execution_count": null,
   "metadata": {},
   "outputs": [],
   "source": [
    "dir = \"s3://open-neurodata/brainlit/brain1\"\n",
    "\n",
    "vol = CloudVolume(dir, parallel=1, mip=0, fill_missing=True)\n",
    "vol.shape"
   ]
  },
  {
   "cell_type": "code",
   "execution_count": null,
   "metadata": {},
   "outputs": [],
   "source": [
    "#view\n",
    "viewer = napari.Viewer(ndisplay=3)\n",
    "viewer.add_image(img)\n",
    "viewer.add_points(vox, size=7)\n",
    "napari.run()"
   ]
  },
  {
   "cell_type": "code",
   "execution_count": null,
   "metadata": {},
   "outputs": [],
   "source": [
    "io.imsave(\"/Users/thomasathey/Documents/mimlab/mouselight/input/images/gui/500.tif\", img)"
   ]
  },
  {
   "cell_type": "code",
   "execution_count": null,
   "metadata": {},
   "outputs": [],
   "source": [
    "pred_path =\"/Users/thomasathey/Documents/mimlab/mouselight/input/images/gui/250_Probabilities.h5\"\n",
    "f = h5py.File(pred_path, 'r')\n",
    "pred = f.get('exported_data')\n",
    "pred = pred[:,:,:,1]\n",
    "im_processed = pred\n",
    "\n",
    "mask = im_processed >= threshold\n",
    "labels = measure.label(mask)\n",
    "\n",
    "soma_coords = vox[0:1,:]"
   ]
  },
  {
   "cell_type": "code",
   "execution_count": null,
   "metadata": {},
   "outputs": [],
   "source": [
    "new_labels = split_frags(soma_coords, labels, im_processed, threshold, res)\n",
    "_, soma_lbls = label_points(new_labels, soma_coords, res)\n",
    "soma_lbl = soma_lbls[0]"
   ]
  },
  {
   "cell_type": "code",
   "execution_count": null,
   "metadata": {},
   "outputs": [],
   "source": [
    "viterbi = most_probable_neuron_path(image=img.astype(float), labels=new_labels, soma_lbls=[soma_lbl], resolution=res, coef_dist=10, coef_curv=1000)\n",
    "viterbi.frags_to_lines()\n",
    "viterbi.reset_dists(type=\"all\")\n",
    "viterbi.compute_all_costs_dist(point_point_func=viterbi.point_point_dist, point_blob_func=viterbi.point_blob_dist)\n",
    "viterbi.compute_all_costs_int()\n",
    "viterbi.create_nx_graph()"
   ]
  },
  {
   "cell_type": "code",
   "execution_count": null,
   "metadata": {},
   "outputs": [],
   "source": [
    "with open('/Users/thomasathey/Documents/mimlab/mouselight/input/images/gui/viterbi_250.pickle', 'wb') as handle:\n",
    "    pickle.dump(viterbi, handle)"
   ]
  },
  {
   "cell_type": "code",
   "execution_count": null,
   "metadata": {},
   "outputs": [],
   "source": [
    "from brainlit.utils.Neuron_trace import NeuronTrace\n",
    "\n",
    "nt = NeuronTrace(path=\"/Users/thomasathey/Documents/mimlab/mouselight/input/mim_slides/SNT_Data.swc\")\n",
    "df = nt.get_df()\n",
    "df[['x','y','z']].to_numpy()"
   ]
  },
  {
   "cell_type": "code",
   "execution_count": 2,
   "metadata": {},
   "outputs": [],
   "source": [
    "im = io.imread(\"/Users/thomasathey/Documents/mimlab/mouselight/input/images/gui/500.tif\")\n",
    "im2 = im.astype(\"float64\")"
   ]
  },
  {
   "cell_type": "code",
   "execution_count": null,
   "metadata": {},
   "outputs": [],
   "source": [
    "z = zarr.zeros(im.shape, chunks=(100,100,100), dtype='uint16')"
   ]
  },
  {
   "cell_type": "code",
   "execution_count": null,
   "metadata": {},
   "outputs": [],
   "source": [
    "z[:,:,:] = im"
   ]
  },
  {
   "cell_type": "code",
   "execution_count": null,
   "metadata": {},
   "outputs": [],
   "source": [
    "zarr.save(\"/Users/thomasathey/Documents/mimlab/mouselight/input/images/big/500.zarr\", z)"
   ]
  },
  {
   "cell_type": "code",
   "execution_count": null,
   "metadata": {},
   "outputs": [],
   "source": [
    "viewer = napari.Viewer(ndisplay=2)\n",
    "viewer.add_image(z, name=\"image\", scale=[0.3,0.3,1])"
   ]
  },
  {
   "cell_type": "code",
   "execution_count": 3,
   "metadata": {},
   "outputs": [
    {
     "name": "stdout",
     "output_type": "stream",
     "text": [
      "multiscale level shapes:  [(1001, 1001, 1001), (501, 501, 501), (251, 251, 251), (126, 126, 126), (63, 63, 63)]\n",
      "Original dtype: float64\n",
      "New dtype: float64\n"
     ]
    }
   ],
   "source": [
    "from skimage.transform import pyramid_gaussian\n",
    "multiscale = list(pyramid_gaussian(im2, downscale=2, max_layer=4))\n",
    "print('multiscale level shapes: ', [p.shape for p in multiscale])\n",
    "print(f\"Original dtype: {im2.dtype}\")\n",
    "print(f\"New dtype: {multiscale[0].dtype}\")"
   ]
  },
  {
   "cell_type": "code",
   "execution_count": 5,
   "metadata": {},
   "outputs": [
    {
     "data": {
      "text/html": [
       "<pre style=\"white-space:pre;overflow-x:auto;line-height:normal;font-family:Menlo,'DejaVu Sans Mono',consolas,'Courier New',monospace\"><span style=\"font-weight: bold\">&lt;</span><span style=\"color: #ff00ff; text-decoration-color: #ff00ff; font-weight: bold\">Image</span><span style=\"color: #000000; text-decoration-color: #000000\"> layer </span><span style=\"color: #008000; text-decoration-color: #008000\">'image'</span><span style=\"color: #000000; text-decoration-color: #000000\"> at </span><span style=\"color: #008080; text-decoration-color: #008080; font-weight: bold\">0x1530b69a0</span><span style=\"font-weight: bold\">&gt;</span>\n",
       "</pre>\n"
      ],
      "text/plain": [
       "\u001b[1m<\u001b[0m\u001b[1;95mImage\u001b[0m\u001b[39m layer \u001b[0m\u001b[32m'image'\u001b[0m\u001b[39m at \u001b[0m\u001b[1;36m0x1530b69a0\u001b[0m\u001b[1m>\u001b[0m\n"
      ]
     },
     "metadata": {},
     "output_type": "display_data"
    },
    {
     "name": "stderr",
     "output_type": "stream",
     "text": [
      "Traceback (most recent call last):\n",
      "  File \"/Users/thomasathey/Documents/mimlab/mouselight/docs_env/lib/python3.8/site-packages/napari/utils/action_manager.py\", line 53, in <lambda>\n",
      "    self._command_with_context = lambda: call_with_context(\n",
      "  File \"/Users/thomasathey/Documents/mimlab/mouselight/docs_env/lib/python3.8/site-packages/napari/utils/action_manager.py\", line 42, in call_with_context\n",
      "    return function(**ctx)\n",
      "  File \"/Users/thomasathey/Documents/mimlab/mouselight/docs_env/lib/python3.8/site-packages/napari/components/_viewer_key_bindings.py\", line 46, in toggle_ndisplay\n",
      "    viewer.dims.ndisplay = 2\n",
      "  File \"/Users/thomasathey/Documents/mimlab/mouselight/docs_env/lib/python3.8/site-packages/napari/utils/events/evented_model.py\", line 151, in __setattr__\n",
      "    getattr(self.events, name)(value=after)  # emit event\n",
      "  File \"/Users/thomasathey/Documents/mimlab/mouselight/docs_env/lib/python3.8/site-packages/napari/utils/events/event.py\", line 599, in __call__\n",
      "    self._invoke_callback(cb, event)\n",
      "  File \"/Users/thomasathey/Documents/mimlab/mouselight/docs_env/lib/python3.8/site-packages/napari/utils/events/event.py\", line 631, in _invoke_callback\n",
      "    _handle_exception(\n",
      "  File \"/Users/thomasathey/Documents/mimlab/mouselight/docs_env/lib/python3.8/site-packages/napari/utils/events/event.py\", line 620, in _invoke_callback\n",
      "    cb(event)\n",
      "  File \"/Users/thomasathey/Documents/mimlab/mouselight/docs_env/lib/python3.8/site-packages/napari/components/viewer_model.py\", line 311, in _update_layers\n",
      "    layer._slice_dims(\n",
      "  File \"/Users/thomasathey/Documents/mimlab/mouselight/docs_env/lib/python3.8/site-packages/napari/layers/base/base.py\", line 967, in _slice_dims\n",
      "    self._update_dims()\n",
      "  File \"/Users/thomasathey/Documents/mimlab/mouselight/docs_env/lib/python3.8/site-packages/napari/layers/base/base.py\", line 641, in _update_dims\n",
      "    self.refresh()\n",
      "  File \"/Users/thomasathey/Documents/mimlab/mouselight/docs_env/lib/python3.8/site-packages/napari/layers/base/base.py\", line 1109, in refresh\n",
      "    self.set_view_slice()\n",
      "  File \"/Users/thomasathey/Documents/mimlab/mouselight/docs_env/lib/python3.8/site-packages/napari/layers/base/base.py\", line 902, in set_view_slice\n",
      "    self._set_view_slice()\n",
      "  File \"/Users/thomasathey/Documents/mimlab/mouselight/docs_env/lib/python3.8/site-packages/napari/layers/image/image.py\", line 665, in _set_view_slice\n",
      "    image = self.data[level][tuple(indices)]\n",
      "TypeError: slice indices must be integers or None or have an __index__ method\n"
     ]
    }
   ],
   "source": [
    "viewer = napari.Viewer(ndisplay=2)\n",
    "viewer.add_image(multiscale, rgb=False, multiscale=True, name=\"multiscale image\", scale=[0.3,0.3,1])\n",
    "viewer.add_image(multiscale[0], rgb=False, name=\"image\", scale=[0.3,0.3,1])"
   ]
  },
  {
   "cell_type": "markdown",
   "metadata": {},
   "source": [
    "## Make viterbi object"
   ]
  },
  {
   "cell_type": "code",
   "execution_count": 2,
   "metadata": {},
   "outputs": [],
   "source": [
    "im_path = \"/Users/thomasathey/Documents/mimlab/mouselight/input/images/first10_quantitative/images/2018-08-01_0_first10_quantitative.tif\"\n",
    "probs_path = \"/Users/thomasathey/Documents/mimlab/mouselight/input/images/first10_quantitative/2018-08-01_0_first10_quantitative_Probabilities.h5\"\n",
    "res = [0.3,0.3,1]\n",
    "\n",
    "im_og = io.imread(im_path, plugin=\"tifffile\")\n",
    "\n",
    "f = h5py.File(probs_path, 'r')\n",
    "pred = f.get('exported_data')\n",
    "pred = pred[:,:,:,1]\n",
    "im_processed = pred\n",
    "\n",
    "threshold = 0.9  # 0.1\n",
    "labels = measure.label(im_processed > threshold)"
   ]
  },
  {
   "cell_type": "code",
   "execution_count": 14,
   "metadata": {},
   "outputs": [
    {
     "data": {
      "text/html": [
       "<pre style=\"white-space:pre;overflow-x:auto;line-height:normal;font-family:Menlo,'DejaVu Sans Mono',consolas,'Courier New',monospace\"><span style=\"font-weight: bold\">&lt;</span><span style=\"color: #ff00ff; text-decoration-color: #ff00ff; font-weight: bold\">Points</span><span style=\"color: #000000; text-decoration-color: #000000\"> layer </span><span style=\"color: #008000; text-decoration-color: #008000\">'Points'</span><span style=\"color: #000000; text-decoration-color: #000000\"> at </span><span style=\"color: #008080; text-decoration-color: #008080; font-weight: bold\">0x16abf23d0</span><span style=\"font-weight: bold\">&gt;</span>\n",
       "</pre>\n"
      ],
      "text/plain": [
       "\u001b[1m<\u001b[0m\u001b[1;95mPoints\u001b[0m\u001b[39m layer \u001b[0m\u001b[32m'Points'\u001b[0m\u001b[39m at \u001b[0m\u001b[1;36m0x16abf23d0\u001b[0m\u001b[1m>\u001b[0m\n"
      ]
     },
     "metadata": {},
     "output_type": "display_data"
    }
   ],
   "source": [
    "viewer = napari.Viewer(ndisplay=3)\n",
    "\n",
    "viewer.add_image(im_og)\n",
    "viewer.add_labels(labels)\n",
    "viewer.add_points(soma_coords, face_color='red')\n",
    "\n"
   ]
  },
  {
   "cell_type": "code",
   "execution_count": 13,
   "metadata": {},
   "outputs": [],
   "source": [
    "soma_coords = [[366,237, 122], [234,462, 122], [227, 641, 92]]"
   ]
  },
  {
   "cell_type": "code",
   "execution_count": 15,
   "metadata": {},
   "outputs": [
    {
     "name": "stderr",
     "output_type": "stream",
     "text": [
      "removing somas: 100%|██████████| 3/3 [00:42<00:00, 14.04s/it]\n",
      "looking for components to remove: 100%|██████████| 1774/1774 [00:45<00:00, 38.78it/s]\n",
      "Adding points...: 100%|██████████| 478838/478838 [02:13<00:00, 3586.56it/s]\n",
      "Splitting Fragments: 100%|██████████| 500/500 [00:22<00:00, 22.65it/s]\n",
      "Split fractured components: 100%|██████████| 2430/2430 [00:00<00:00, 5447.63it/s]\n",
      "remove small fragments: 100%|██████████| 2575/2575 [00:43<00:00, 58.53it/s] \n"
     ]
    }
   ],
   "source": [
    "new_labels = image_process.compute_frags(soma_coords, labels, im_processed, threshold, res) #, chunk_size=[200,200,200], ncpu=2)\n",
    "\n",
    "_, soma_lbls = image_process.label_points(new_labels, soma_coords, res)\n",
    "soma_lbl = soma_lbls[0]\n",
    "soma_mask = new_labels == soma_lbl"
   ]
  },
  {
   "cell_type": "code",
   "execution_count": 17,
   "metadata": {},
   "outputs": [
    {
     "data": {
      "text/html": [
       "<pre style=\"white-space:pre;overflow-x:auto;line-height:normal;font-family:Menlo,'DejaVu Sans Mono',consolas,'Courier New',monospace\"><span style=\"font-weight: bold\">&lt;</span><span style=\"color: #ff00ff; text-decoration-color: #ff00ff; font-weight: bold\">Labels</span><span style=\"color: #000000; text-decoration-color: #000000\"> layer </span><span style=\"color: #008000; text-decoration-color: #008000\">'Labels'</span><span style=\"color: #000000; text-decoration-color: #000000\"> at </span><span style=\"color: #008080; text-decoration-color: #008080; font-weight: bold\">0x169b14700</span><span style=\"font-weight: bold\">&gt;</span>\n",
       "</pre>\n"
      ],
      "text/plain": [
       "\u001b[1m<\u001b[0m\u001b[1;95mLabels\u001b[0m\u001b[39m layer \u001b[0m\u001b[32m'Labels'\u001b[0m\u001b[39m at \u001b[0m\u001b[1;36m0x169b14700\u001b[0m\u001b[1m>\u001b[0m\n"
      ]
     },
     "metadata": {},
     "output_type": "display_data"
    }
   ],
   "source": [
    "viewer = napari.Viewer(ndisplay=3)\n",
    "\n",
    "viewer.add_image(im_og)\n",
    "viewer.add_labels(labels)\n",
    "viewer.add_labels(new_labels)\n",
    "viewer.add_labels(soma_mask)"
   ]
  },
  {
   "cell_type": "code",
   "execution_count": 18,
   "metadata": {},
   "outputs": [
    {
     "name": "stdout",
     "output_type": "stream",
     "text": [
      "Setting up emission distribution...\n"
     ]
    },
    {
     "name": "stderr",
     "output_type": "stream",
     "text": [
      "Computing state representation: 100%|██████████| 1549/1549 [02:29<00:00, 10.34it/s]\n",
      "computing state costs (geometry): 100%|██████████| 3095/3095 [04:15<00:00, 12.11it/s]\n",
      "filling in costs: 100%|██████████| 9579025/9579025 [00:05<00:00, 1637480.97it/s]\n",
      "Normalizing: 100%|██████████| 3095/3095 [00:00<00:00, 9159.70it/s]\n",
      "Computing state costs (intensity): 100%|██████████| 3095/3095 [01:12<00:00, 42.90it/s] \n",
      "filling in costs: 100%|██████████| 9579025/9579025 [00:03<00:00, 2630962.07it/s]\n",
      "Adding nodes to nx graph: 100%|██████████| 3095/3095 [00:00<00:00, 9201.75it/s]\n",
      "Adding edges to nx graph: 100%|██████████| 3095/3095 [00:19<00:00, 156.45it/s]\n"
     ]
    }
   ],
   "source": [
    "mpnp = dynamic_programming_viterbi2.most_probable_neuron_path(image=im_og.astype(float), labels=new_labels, soma_lbls=soma_lbls, resolution=(0.3, 0.3, 1), coef_dist=10, coef_curv=1000)#, parallel=2)\n",
    "mpnp.compute_states()\n",
    "mpnp.reset_dists(type=\"all\")\n",
    "mpnp.compute_all_costs_dist(point_point_func=mpnp.point_point_dist, point_blob_func=mpnp.point_blob_dist)\n",
    "mpnp.compute_all_costs_int()\n",
    "mpnp.create_nx_graph()"
   ]
  },
  {
   "cell_type": "code",
   "execution_count": 19,
   "metadata": {},
   "outputs": [],
   "source": [
    "with open('/Users/thomasathey/Documents/mimlab/mouselight/input/images/octopus/viterbi_0_multisoma.pickle', 'wb') as handle:\n",
    "    pickle.dump(mpnp, handle)"
   ]
  },
  {
   "cell_type": "code",
   "execution_count": null,
   "metadata": {},
   "outputs": [],
   "source": []
  }
 ],
 "metadata": {
  "interpreter": {
   "hash": "5dc00d68ff54f8375e99934614da4863299fb9e10af4294c095b7f517546ff26"
  },
  "kernelspec": {
   "display_name": "Python 3.8.10 64-bit ('docs_env': venv)",
   "name": "python3"
  },
  "language_info": {
   "codemirror_mode": {
    "name": "ipython",
    "version": 3
   },
   "file_extension": ".py",
   "mimetype": "text/x-python",
   "name": "python",
   "nbconvert_exporter": "python",
   "pygments_lexer": "ipython3",
   "version": "3.8.10"
  },
  "orig_nbformat": 4
 },
 "nbformat": 4,
 "nbformat_minor": 2
}

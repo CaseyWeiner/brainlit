{
 "cells": [
  {
   "cell_type": "code",
   "execution_count": 1,
   "metadata": {},
   "outputs": [
    {
     "name": "stderr",
     "output_type": "stream",
     "text": [
      "/Users/thomasathey/Documents/mimlab/mouselight/docs_env/lib/python3.8/site-packages/nilearn/datasets/__init__.py:86: FutureWarning: Fetchers from the nilearn.datasets module will be updated in version 0.9 to return python strings instead of bytes and Pandas dataframes instead of Numpy arrays.\n",
      "  warn(\"Fetchers from the nilearn.datasets module will be \"\n"
     ]
    },
    {
     "name": "stdout",
     "output_type": "stream",
     "text": [
      "embedWindow(verbose=True): could not load ipyvtk_simple try:\n",
      "> pip install -U git+https://github.com/Kitware/ipyvtk-simple.git\n"
     ]
    }
   ],
   "source": [
    "from cloudvolume import CloudVolume\n",
    "from cloudvolume.exceptions import SkeletonDecodeError\n",
    "from itertools import islice\n",
    "from skimage.transform import downscale_local_mean\n",
    "import napari\n",
    "from skimage import io\n",
    "import random\n",
    "import h5py\n",
    "from skimage import measure\n",
    "from brainlit.preprocessing import removeSmallCCs\n",
    "import numpy as np \n",
    "import matplotlib.pyplot as plt \n",
    "import subprocess\n",
    "import tables\n",
    "from napari_animation import AnimationWidget\n",
    "from tqdm import tqdm\n",
    "import pickle\n",
    "import networkx as nx\n",
    "import seaborn as sns\n",
    "import pandas as pd\n",
    "import brainrender\n",
    "from brainlit.utils.session import NeuroglancerSession\n",
    "from skimage.filters import threshold_otsu, threshold_local\n",
    "from brainlit.preprocessing import split_frags, rename_states_consecutively, label_points\n",
    "from brainlit.algorithms.connect_fragments import most_probable_neuron_path\n",
    "from brainlit.algorithms.connect_fragments import trace_evaluation\n",
    "import similaritymeasures\n",
    "from brainlit.viz import Bresenham3D\n",
    "from cloudvolume import Skeleton\n",
    "from sklearn.metrics import pairwise_distances_argmin_min\n",
    "import time\n",
    "%gui qt5"
   ]
  },
  {
   "cell_type": "code",
   "execution_count": 5,
   "metadata": {},
   "outputs": [
    {
     "name": "stderr",
     "output_type": "stream",
     "text": [
      "\n",
      "\n",
      "\u001b[A\u001b[A\n",
      "\n",
      "\u001b[A\u001b[A"
     ]
    },
    {
     "data": {
      "text/html": [
       "<pre style=\"white-space:pre;overflow-x:auto;line-height:normal;font-family:Menlo,'DejaVu Sans Mono',consolas,'Courier New',monospace\"><span style=\"color: #800080; text-decoration-color: #800080; font-weight: bold\">Bbox</span><span style=\"font-weight: bold\">([</span><span style=\"color: #008080; text-decoration-color: #008080; font-weight: bold\">12875</span>, <span style=\"color: #008080; text-decoration-color: #008080; font-weight: bold\">12476</span>, <span style=\"color: #008080; text-decoration-color: #008080; font-weight: bold\">4476</span><span style=\"font-weight: bold\">]</span>,<span style=\"font-weight: bold\">[</span><span style=\"color: #008080; text-decoration-color: #008080; font-weight: bold\">12878</span>, <span style=\"color: #008080; text-decoration-color: #008080; font-weight: bold\">12479</span>, <span style=\"color: #008080; text-decoration-color: #008080; font-weight: bold\">4479</span><span style=\"font-weight: bold\">]</span>, <span style=\"color: #808000; text-decoration-color: #808000\">dtype</span>=<span style=\"color: #800080; text-decoration-color: #800080\">int32</span><span style=\"font-weight: bold\">)</span>\n",
       "</pre>\n"
      ],
      "text/plain": [
       "\u001b[1;35mBbox\u001b[0m\u001b[1m(\u001b[0m\u001b[1m[\u001b[0m\u001b[1;36m12875\u001b[0m, \u001b[1;36m12476\u001b[0m, \u001b[1;36m4476\u001b[0m\u001b[1m]\u001b[0m,\u001b[1m[\u001b[0m\u001b[1;36m12878\u001b[0m, \u001b[1;36m12479\u001b[0m, \u001b[1;36m4479\u001b[0m\u001b[1m]\u001b[0m, \u001b[33mdtype\u001b[0m=\u001b[35mint32\u001b[0m\u001b[1m)\u001b[0m\n"
      ]
     },
     "metadata": {},
     "output_type": "display_data"
    }
   ],
   "source": [
    "dir = \"s3://open-neurodata/brainlit/brain1\"\n",
    "dir_segments = \"s3://open-neurodata/brainlit/brain1_segments\"\n",
    "\n",
    "ngl_sess = NeuroglancerSession(mip = 0, url = dir, url_segments=dir_segments)\n",
    "\n",
    "res = [0.3,0.3,1]\n",
    "threshold = 0.9\n",
    "\n",
    "block_size = 101\n",
    "\n",
    "img, bbox, vox = ngl_sess.pull_vertex_list(2, [0], [1,1,1])\n",
    "bbox"
   ]
  },
  {
   "cell_type": "code",
   "execution_count": 7,
   "metadata": {},
   "outputs": [
    {
     "data": {
      "text/html": [
       "<pre style=\"white-space:pre;overflow-x:auto;line-height:normal;font-family:Menlo,'DejaVu Sans Mono',consolas,'Courier New',monospace\"><span style=\"font-weight: bold\">(</span><span style=\"color: #008080; text-decoration-color: #008080; font-weight: bold\">33792</span>, <span style=\"color: #008080; text-decoration-color: #008080; font-weight: bold\">25600</span>, <span style=\"color: #008080; text-decoration-color: #008080; font-weight: bold\">13312</span>, <span style=\"color: #008080; text-decoration-color: #008080; font-weight: bold\">1</span><span style=\"font-weight: bold\">)</span>\n",
       "</pre>\n"
      ],
      "text/plain": [
       "\u001b[1m(\u001b[0m\u001b[1;36m33792\u001b[0m, \u001b[1;36m25600\u001b[0m, \u001b[1;36m13312\u001b[0m, \u001b[1;36m1\u001b[0m\u001b[1m)\u001b[0m\n"
      ]
     },
     "metadata": {},
     "output_type": "display_data"
    }
   ],
   "source": [
    "dir = \"s3://open-neurodata/brainlit/brain1\"\n",
    "\n",
    "vol = CloudVolume(dir, parallel=1, mip=0, fill_missing=True)\n",
    "vol.shape"
   ]
  },
  {
   "cell_type": "code",
   "execution_count": null,
   "metadata": {},
   "outputs": [],
   "source": [
    "#view\n",
    "viewer = napari.Viewer(ndisplay=3)\n",
    "viewer.add_image(img)\n",
    "viewer.add_points(vox, size=7)\n",
    "napari.run()"
   ]
  },
  {
   "cell_type": "code",
   "execution_count": 3,
   "metadata": {},
   "outputs": [
    {
     "name": "stderr",
     "output_type": "stream",
     "text": [
      "Downloading: 100%|██████████| 1980/1980 [07:38<00:00,  8.56it/s]"
     ]
    }
   ],
   "source": [
    "io.imsave(\"/Users/thomasathey/Documents/mimlab/mouselight/input/images/gui/500.tif\", img)"
   ]
  },
  {
   "cell_type": "code",
   "execution_count": null,
   "metadata": {},
   "outputs": [],
   "source": [
    "pred_path =\"/Users/thomasathey/Documents/mimlab/mouselight/input/images/gui/250_Probabilities.h5\"\n",
    "f = h5py.File(pred_path, 'r')\n",
    "pred = f.get('exported_data')\n",
    "pred = pred[:,:,:,1]\n",
    "im_processed = pred\n",
    "\n",
    "mask = im_processed >= threshold\n",
    "labels = measure.label(mask)\n",
    "\n",
    "soma_coords = vox[0:1,:]"
   ]
  },
  {
   "cell_type": "code",
   "execution_count": null,
   "metadata": {},
   "outputs": [],
   "source": [
    "new_labels = split_frags(soma_coords, labels, im_processed, threshold, res)\n",
    "_, soma_lbls = label_points(new_labels, soma_coords, res)\n",
    "soma_lbl = soma_lbls[0]"
   ]
  },
  {
   "cell_type": "code",
   "execution_count": null,
   "metadata": {},
   "outputs": [],
   "source": [
    "viterbi = most_probable_neuron_path(image=img.astype(float), labels=new_labels, soma_lbls=[soma_lbl], resolution=res, coef_dist=10, coef_curv=1000)\n",
    "viterbi.frags_to_lines()\n",
    "viterbi.reset_dists(type=\"all\")\n",
    "viterbi.compute_all_costs_dist(point_point_func=viterbi.point_point_dist, point_blob_func=viterbi.point_blob_dist)\n",
    "viterbi.compute_all_costs_int()\n",
    "viterbi.create_nx_graph()"
   ]
  },
  {
   "cell_type": "code",
   "execution_count": null,
   "metadata": {},
   "outputs": [],
   "source": [
    "with open('/Users/thomasathey/Documents/mimlab/mouselight/input/images/gui/viterbi_250.pickle', 'wb') as handle:\n",
    "    pickle.dump(viterbi, handle)"
   ]
  },
  {
   "cell_type": "code",
   "execution_count": null,
   "metadata": {},
   "outputs": [],
   "source": [
    "from brainlit.utils.Neuron_trace import NeuronTrace\n",
    "\n",
    "nt = NeuronTrace(path=\"/Users/thomasathey/Documents/mimlab/mouselight/input/mim_slides/SNT_Data.swc\")\n",
    "df = nt.get_df()\n",
    "df[['x','y','z']].to_numpy()"
   ]
  },
  {
   "cell_type": "code",
   "execution_count": null,
   "metadata": {},
   "outputs": [],
   "source": []
  }
 ],
 "metadata": {
  "interpreter": {
   "hash": "5dc00d68ff54f8375e99934614da4863299fb9e10af4294c095b7f517546ff26"
  },
  "kernelspec": {
   "display_name": "Python 3.8.10 64-bit ('docs_env': venv)",
   "name": "python3"
  },
  "language_info": {
   "codemirror_mode": {
    "name": "ipython",
    "version": 3
   },
   "file_extension": ".py",
   "mimetype": "text/x-python",
   "name": "python",
   "nbconvert_exporter": "python",
   "pygments_lexer": "ipython3",
   "version": "3.8.10"
  },
  "orig_nbformat": 4
 },
 "nbformat": 4,
 "nbformat_minor": 2
}

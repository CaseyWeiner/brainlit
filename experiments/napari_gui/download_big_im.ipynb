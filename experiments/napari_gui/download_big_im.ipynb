{
 "cells": [
  {
   "cell_type": "code",
   "execution_count": 1,
   "metadata": {},
   "outputs": [
    {
     "name": "stderr",
     "output_type": "stream",
     "text": [
      "/Users/thomasathey/Documents/mimlab/mouselight/docs_env/lib/python3.8/site-packages/nilearn/datasets/__init__.py:86: FutureWarning: Fetchers from the nilearn.datasets module will be updated in version 0.9 to return python strings instead of bytes and Pandas dataframes instead of Numpy arrays.\n",
      "  warn(\"Fetchers from the nilearn.datasets module will be \"\n"
     ]
    },
    {
     "name": "stdout",
     "output_type": "stream",
     "text": [
      "embedWindow(verbose=True): could not load ipyvtk_simple try:\n",
      "> pip install -U git+https://github.com/Kitware/ipyvtk-simple.git\n"
     ]
    }
   ],
   "source": [
    "from cloudvolume import CloudVolume\n",
    "from cloudvolume.exceptions import SkeletonDecodeError\n",
    "from itertools import islice\n",
    "from skimage.transform import downscale_local_mean\n",
    "import napari\n",
    "from skimage import io\n",
    "import random\n",
    "import h5py\n",
    "from skimage import measure\n",
    "from brainlit.preprocessing import removeSmallCCs\n",
    "import numpy as np \n",
    "import matplotlib.pyplot as plt \n",
    "import subprocess\n",
    "import tables\n",
    "from napari_animation import AnimationWidget\n",
    "from tqdm import tqdm\n",
    "import pickle\n",
    "import networkx as nx\n",
    "import seaborn as sns\n",
    "import pandas as pd\n",
    "import brainrender\n",
    "from brainlit.utils.session import NeuroglancerSession\n",
    "from skimage.filters import threshold_otsu, threshold_local\n",
    "from brainlit.preprocessing import split_frags, rename_states_consecutively, label_points\n",
    "from brainlit.algorithms.connect_fragments import most_probable_neuron_path\n",
    "from brainlit.algorithms.connect_fragments import trace_evaluation\n",
    "from brainlit.algorithms.connect_fragments import dynamic_programming_viterbi2\n",
    "import similaritymeasures\n",
    "from brainlit.viz import Bresenham3D\n",
    "from cloudvolume import Skeleton\n",
    "from sklearn.metrics import pairwise_distances_argmin_min\n",
    "import time\n",
    "import zarr\n",
    "from brainlit.preprocessing import image_process\n",
    "%gui qt5"
   ]
  },
  {
   "cell_type": "code",
   "execution_count": null,
   "metadata": {},
   "outputs": [],
   "source": [
    "dir = \"s3://open-neurodata/brainlit/brain1\"\n",
    "dir_segments = \"s3://open-neurodata/brainlit/brain1_segments\"\n",
    "\n",
    "ngl_sess = NeuroglancerSession(mip = 0, url = dir, url_segments=dir_segments)\n",
    "\n",
    "res = [0.3,0.3,1]\n",
    "threshold = 0.9\n",
    "\n",
    "block_size = 101\n",
    "\n",
    "img, bbox, vox = ngl_sess.pull_vertex_list(2, [0], [1,1,1])\n",
    "bbox"
   ]
  },
  {
   "cell_type": "code",
   "execution_count": null,
   "metadata": {},
   "outputs": [],
   "source": [
    "dir = \"s3://open-neurodata/brainlit/brain1\"\n",
    "\n",
    "vol = CloudVolume(dir, parallel=1, mip=0, fill_missing=True)\n",
    "vol.shape"
   ]
  },
  {
   "cell_type": "code",
   "execution_count": null,
   "metadata": {},
   "outputs": [],
   "source": [
    "#view\n",
    "viewer = napari.Viewer(ndisplay=3)\n",
    "viewer.add_image(img)\n",
    "viewer.add_points(vox, size=7)\n",
    "napari.run()"
   ]
  },
  {
   "cell_type": "code",
   "execution_count": null,
   "metadata": {},
   "outputs": [],
   "source": [
    "io.imsave(\"/Users/thomasathey/Documents/mimlab/mouselight/input/images/gui/500.tif\", img)"
   ]
  },
  {
   "cell_type": "code",
   "execution_count": null,
   "metadata": {},
   "outputs": [],
   "source": [
    "pred_path =\"/Users/thomasathey/Documents/mimlab/mouselight/input/images/gui/250_Probabilities.h5\"\n",
    "f = h5py.File(pred_path, 'r')\n",
    "pred = f.get('exported_data')\n",
    "pred = pred[:,:,:,1]\n",
    "im_processed = pred\n",
    "\n",
    "mask = im_processed >= threshold\n",
    "labels = measure.label(mask)\n",
    "\n",
    "soma_coords = vox[0:1,:]"
   ]
  },
  {
   "cell_type": "code",
   "execution_count": null,
   "metadata": {},
   "outputs": [],
   "source": [
    "new_labels = split_frags(soma_coords, labels, im_processed, threshold, res)\n",
    "_, soma_lbls = label_points(new_labels, soma_coords, res)\n",
    "soma_lbl = soma_lbls[0]"
   ]
  },
  {
   "cell_type": "code",
   "execution_count": null,
   "metadata": {},
   "outputs": [],
   "source": [
    "viterbi = most_probable_neuron_path(image=img.astype(float), labels=new_labels, soma_lbls=[soma_lbl], resolution=res, coef_dist=10, coef_curv=1000)\n",
    "viterbi.frags_to_lines()\n",
    "viterbi.reset_dists(type=\"all\")\n",
    "viterbi.compute_all_costs_dist(point_point_func=viterbi.point_point_dist, point_blob_func=viterbi.point_blob_dist)\n",
    "viterbi.compute_all_costs_int()\n",
    "viterbi.create_nx_graph()"
   ]
  },
  {
   "cell_type": "code",
   "execution_count": null,
   "metadata": {},
   "outputs": [],
   "source": [
    "with open('/Users/thomasathey/Documents/mimlab/mouselight/input/images/gui/viterbi_250.pickle', 'wb') as handle:\n",
    "    pickle.dump(viterbi, handle)"
   ]
  },
  {
   "cell_type": "code",
   "execution_count": null,
   "metadata": {},
   "outputs": [],
   "source": [
    "from brainlit.utils.Neuron_trace import NeuronTrace\n",
    "\n",
    "nt = NeuronTrace(path=\"/Users/thomasathey/Documents/mimlab/mouselight/input/mim_slides/SNT_Data.swc\")\n",
    "df = nt.get_df()\n",
    "df[['x','y','z']].to_numpy()"
   ]
  },
  {
   "cell_type": "code",
   "execution_count": null,
   "metadata": {},
   "outputs": [],
   "source": [
    "im = io.imread(\"/Users/thomasathey/Documents/mimlab/mouselight/input/images/gui/500.tif\")\n",
    "im2 = im.astype(\"float64\")"
   ]
  },
  {
   "cell_type": "code",
   "execution_count": null,
   "metadata": {},
   "outputs": [],
   "source": [
    "z = zarr.zeros(im.shape, chunks=(100,100,100), dtype='uint16')"
   ]
  },
  {
   "cell_type": "code",
   "execution_count": null,
   "metadata": {},
   "outputs": [],
   "source": [
    "z[:,:,:] = im"
   ]
  },
  {
   "cell_type": "code",
   "execution_count": null,
   "metadata": {},
   "outputs": [],
   "source": [
    "zarr.save(\"/Users/thomasathey/Documents/mimlab/mouselight/input/images/big/500.zarr\", z)"
   ]
  },
  {
   "cell_type": "code",
   "execution_count": null,
   "metadata": {},
   "outputs": [],
   "source": [
    "viewer = napari.Viewer(ndisplay=2)\n",
    "viewer.add_image(z, name=\"image\", scale=[0.3,0.3,1])"
   ]
  },
  {
   "cell_type": "code",
   "execution_count": null,
   "metadata": {},
   "outputs": [],
   "source": [
    "from skimage.transform import pyramid_gaussian\n",
    "multiscale = list(pyramid_gaussian(im2, downscale=2, max_layer=4))\n",
    "print('multiscale level shapes: ', [p.shape for p in multiscale])\n",
    "print(f\"Original dtype: {im2.dtype}\")\n",
    "print(f\"New dtype: {multiscale[0].dtype}\")"
   ]
  },
  {
   "cell_type": "code",
   "execution_count": null,
   "metadata": {},
   "outputs": [],
   "source": [
    "viewer = napari.Viewer(ndisplay=2)\n",
    "viewer.add_image(multiscale, rgb=False, multiscale=True, name=\"multiscale image\", scale=[0.3,0.3,1])\n",
    "viewer.add_image(multiscale[0], rgb=False, name=\"image\", scale=[0.3,0.3,1])"
   ]
  },
  {
   "cell_type": "markdown",
   "metadata": {},
   "source": [
    "## Make viterbi object"
   ]
  },
  {
   "cell_type": "code",
   "execution_count": 2,
   "metadata": {},
   "outputs": [
    {
     "data": {
      "text/html": [
       "<pre style=\"white-space:pre;overflow-x:auto;line-height:normal;font-family:Menlo,'DejaVu Sans Mono',consolas,'Courier New',monospace\"><span style=\"font-weight: bold\">(</span><span style=\"color: #008080; text-decoration-color: #008080; font-weight: bold\">519</span>, <span style=\"color: #008080; text-decoration-color: #008080; font-weight: bold\">819</span>, <span style=\"color: #008080; text-decoration-color: #008080; font-weight: bold\">155</span><span style=\"font-weight: bold\">)</span>\n",
       "</pre>\n"
      ],
      "text/plain": [
       "\u001b[1m(\u001b[0m\u001b[1;36m519\u001b[0m, \u001b[1;36m819\u001b[0m, \u001b[1;36m155\u001b[0m\u001b[1m)\u001b[0m\n"
      ]
     },
     "metadata": {},
     "output_type": "display_data"
    }
   ],
   "source": [
    "im_path = \"/Users/thomasathey/Documents/mimlab/mouselight/input/images/first10_quantitative/images/2018-08-01_0_first10_quantitative.tif\"\n",
    "probs_path = \"/Users/thomasathey/Documents/mimlab/mouselight/input/images/first10_quantitative/2018-08-01_0_first10_quantitative_Probabilities.h5\"\n",
    "res = [0.3,0.3,1]\n",
    "\n",
    "im_og = io.imread(im_path, plugin=\"tifffile\")\n",
    "\n",
    "f = h5py.File(probs_path, 'r')\n",
    "pred = f.get('exported_data')\n",
    "pred = pred[:,:,:,1]\n",
    "im_processed = pred\n",
    "\n",
    "threshold = 0.9  # 0.1\n",
    "labels = measure.label(im_processed > threshold)\n",
    "im_og.shape"
   ]
  },
  {
   "cell_type": "code",
   "execution_count": 3,
   "metadata": {},
   "outputs": [
    {
     "data": {
      "text/html": [
       "<pre style=\"white-space:pre;overflow-x:auto;line-height:normal;font-family:Menlo,'DejaVu Sans Mono',consolas,'Courier New',monospace\"><span style=\"color: #800080; text-decoration-color: #800080; font-weight: bold\">dtype</span><span style=\"font-weight: bold\">(</span><span style=\"color: #008000; text-decoration-color: #008000\">'uint16'</span><span style=\"font-weight: bold\">)</span>\n",
       "</pre>\n"
      ],
      "text/plain": [
       "\u001b[1;35mdtype\u001b[0m\u001b[1m(\u001b[0m\u001b[32m'uint16'\u001b[0m\u001b[1m)\u001b[0m\n"
      ]
     },
     "metadata": {},
     "output_type": "display_data"
    }
   ],
   "source": [
    "im_og.dtype"
   ]
  },
  {
   "cell_type": "code",
   "execution_count": null,
   "metadata": {},
   "outputs": [],
   "source": [
    "viewer = napari.Viewer(ndisplay=3)\n",
    "\n",
    "viewer.add_image(im_og)\n",
    "viewer.add_labels(labels)\n",
    "viewer.add_points(soma_coords, face_color='red')\n",
    "\n"
   ]
  },
  {
   "cell_type": "code",
   "execution_count": 8,
   "metadata": {},
   "outputs": [],
   "source": [
    "z = zarr.zeros(im_og.shape, chunks=im_og.shape, dtype='uint16')\n",
    "z[:,:,:] = im_og\n",
    "im_path = \"/Users/thomasathey/Documents/mimlab/mouselight/input/images/octopus/image_0.zarr\"\n",
    "zarr.save(im_path, z)\n",
    "\n",
    "z = zarr.zeros(pred.shape, chunks=pred.shape, dtype='float')\n",
    "z[:,:,:] = pred\n",
    "prob_path = \"/Users/thomasathey/Documents/mimlab/mouselight/input/images/octopus/probs_0.zarr\"\n",
    "zarr.save(prob_path, z)\n",
    "\n",
    "soma_coords = [[366,237, 122], [234,462, 122], [227, 641, 92]]"
   ]
  },
  {
   "cell_type": "code",
   "execution_count": 12,
   "metadata": {},
   "outputs": [
    {
     "name": "stdout",
     "output_type": "stream",
     "text": [
      "Constructing fragment image /Users/thomasathey/Documents/mimlab/mouselight/input/images/octopus/image_0_labels.zarr of shape (519, 819, 155)\n",
      "Processing @corner: [0, 0, 0]\n"
     ]
    },
    {
     "name": "stderr",
     "output_type": "stream",
     "text": [
      "looking for components to remove: 100%|██████████| 1774/1774 [00:52<00:00, 33.82it/s]\n"
     ]
    },
    {
     "name": "stdout",
     "output_type": "stream",
     "text": [
      "*****************Number of components: 1549*******************\n",
      "Constructing tiered image /Users/thomasathey/Documents/mimlab/mouselight/input/images/octopus/image_0_tiered.zarr of shape (519, 819, 155)\n",
      "Processing @corner: [0, 0, 0]-[519, 819, 155]\n"
     ]
    }
   ],
   "source": [
    "from brainlit.algorithms.generate_fragments import state_generation\n",
    "sg = state_generation(\n",
    "    im_path,\n",
    "    \"/Applications/ilastik-1.3.3post3-OSX.app/Contents/ilastik-release/run_ilastik.sh\",\n",
    "    \"/Users/thomasathey/Documents/mimlab/mouselight/octopus_experiment/octopus_exp.ilp\",\n",
    "    chunk_size=im_og.shape,\n",
    "    soma_coords=soma_coords,\n",
    "    parallel=1,\n",
    "    prob_path = prob_path)\n",
    "sg.compute_frags()\n",
    "sg.compute_image_tiered()\n",
    "sg.compute_soma_lbls()\n",
    "sg.compute_states()\n",
    "sg.compute_edge_weights()"
   ]
  },
  {
   "cell_type": "code",
   "execution_count": 18,
   "metadata": {},
   "outputs": [],
   "source": [
    "\n",
    "labels_path = im_path.split(\".\")[0] + \"_labels.zarr\"\n",
    "z = zarr.open(labels_path)\n",
    "new_labels = z[:,:,:]\n",
    "\n"
   ]
  },
  {
   "cell_type": "code",
   "execution_count": 19,
   "metadata": {},
   "outputs": [
    {
     "data": {
      "text/html": [
       "<pre style=\"white-space:pre;overflow-x:auto;line-height:normal;font-family:Menlo,'DejaVu Sans Mono',consolas,'Courier New',monospace\"><span style=\"font-weight: bold\">&lt;</span><span style=\"color: #ff00ff; text-decoration-color: #ff00ff; font-weight: bold\">Labels</span><span style=\"color: #000000; text-decoration-color: #000000\"> layer </span><span style=\"color: #008000; text-decoration-color: #008000\">'new_labels'</span><span style=\"color: #000000; text-decoration-color: #000000\"> at </span><span style=\"color: #008080; text-decoration-color: #008080; font-weight: bold\">0x177a1de20</span><span style=\"font-weight: bold\">&gt;</span>\n",
       "</pre>\n"
      ],
      "text/plain": [
       "\u001b[1m<\u001b[0m\u001b[1;95mLabels\u001b[0m\u001b[39m layer \u001b[0m\u001b[32m'new_labels'\u001b[0m\u001b[39m at \u001b[0m\u001b[1;36m0x177a1de20\u001b[0m\u001b[1m>\u001b[0m\n"
      ]
     },
     "metadata": {},
     "output_type": "display_data"
    }
   ],
   "source": [
    "viewer = napari.Viewer(ndisplay=3)\n",
    "\n",
    "viewer.add_image(im_og)\n",
    "viewer.add_labels(labels)\n",
    "viewer.add_labels(new_labels)"
   ]
  },
  {
   "cell_type": "code",
   "execution_count": 2,
   "metadata": {},
   "outputs": [],
   "source": [
    "with open(\"/Users/thomasathey/Documents/mimlab/mouselight/input/images/octopus/viterbi_0_multisoma.pickle\", \"rb\") as handle:\n",
    "    v = pickle.load(handle)"
   ]
  },
  {
   "cell_type": "code",
   "execution_count": 4,
   "metadata": {},
   "outputs": [
    {
     "name": "stderr",
     "output_type": "stream",
     "text": [
      "/Users/thomasathey/Documents/mimlab/mouselight/docs_env/lib/python3.8/site-packages/nilearn/datasets/__init__.py:86: FutureWarning: Fetchers from the nilearn.datasets module will be updated in version 0.9 to return python strings instead of bytes and Pandas dataframes instead of Numpy arrays.\n",
      "  warn(\"Fetchers from the nilearn.datasets module will be \"\n",
      "computing state costs (geometry):   0%|          | 2/516 [00:00<02:22,  3.62it/s]/Users/thomasathey/Documents/mimlab/mouselight/docs_env/lib/python3.8/site-packages/nilearn/datasets/__init__.py:86: FutureWarning: Fetchers from the nilearn.datasets module will be updated in version 0.9 to return python strings instead of bytes and Pandas dataframes instead of Numpy arrays.\n",
      "  warn(\"Fetchers from the nilearn.datasets module will be \"\n",
      "computing state costs (geometry):   0%|          | 2/516 [00:00<02:25,  3.52it/s]/Users/thomasathey/Documents/mimlab/mouselight/docs_env/lib/python3.8/site-packages/nilearn/datasets/__init__.py:86: FutureWarning: Fetchers from the nilearn.datasets module will be updated in version 0.9 to return python strings instead of bytes and Pandas dataframes instead of Numpy arrays.\n",
      "  warn(\"Fetchers from the nilearn.datasets module will be \"\n",
      "computing state costs (geometry):   1%|▏         | 7/516 [00:01<02:14,  3.80it/s]/Users/thomasathey/Documents/mimlab/mouselight/docs_env/lib/python3.8/site-packages/nilearn/datasets/__init__.py:86: FutureWarning: Fetchers from the nilearn.datasets module will be updated in version 0.9 to return python strings instead of bytes and Pandas dataframes instead of Numpy arrays.\n",
      "  warn(\"Fetchers from the nilearn.datasets module will be \"\n",
      "computing state costs (geometry):   0%|          | 2/516 [00:00<02:16,  3.77it/s]/Users/thomasathey/Documents/mimlab/mouselight/docs_env/lib/python3.8/site-packages/nilearn/datasets/__init__.py:86: FutureWarning: Fetchers from the nilearn.datasets module will be updated in version 0.9 to return python strings instead of bytes and Pandas dataframes instead of Numpy arrays.\n",
      "  warn(\"Fetchers from the nilearn.datasets module will be \"\n",
      "computing state costs (geometry):   1%|          | 5/516 [00:01<02:05,  4.07it/s]/Users/thomasathey/Documents/mimlab/mouselight/docs_env/lib/python3.8/site-packages/nilearn/datasets/__init__.py:86: FutureWarning: Fetchers from the nilearn.datasets module will be updated in version 0.9 to return python strings instead of bytes and Pandas dataframes instead of Numpy arrays.\n",
      "  warn(\"Fetchers from the nilearn.datasets module will be \"\n",
      "computing state costs (geometry): 100%|██████████| 516/516 [02:16<00:00,  3.78it/s]\n",
      "computing state costs (geometry): 100%|██████████| 516/516 [02:17<00:00,  3.76it/s]\n",
      "computing state costs (geometry): 100%|██████████| 516/516 [02:19<00:00,  3.71it/s]\n",
      "computing state costs (geometry): 100%|██████████| 516/516 [02:19<00:00,  3.71it/s]\n",
      "computing state costs (geometry): 100%|██████████| 515/515 [02:16<00:00,  3.76it/s]\n",
      "computing state costs (geometry): 100%|██████████| 516/516 [02:20<00:00,  3.67it/s]\n",
      "Computing state costs (intensity): 100%|██████████| 516/516 [07:45<00:00,  1.11it/s]\n",
      "Computing state costs (intensity): 100%|██████████| 516/516 [08:38<00:00,  1.01s/it]\n",
      "Computing state costs (intensity): 100%|██████████| 516/516 [09:32<00:00,  1.11s/it]\n",
      "Computing state costs (intensity): 100%|██████████| 516/516 [09:40<00:00,  1.12s/it]\n",
      "Computing state costs (intensity): 100%|██████████| 516/516 [10:42<00:00,  1.25s/it]\n",
      "Computing state costs (intensity): 100%|██████████| 515/515 [10:47<00:00,  1.26s/it]\n"
     ]
    }
   ],
   "source": [
    "from brainlit.algorithms.connect_fragments.viterbrain import ViterBrain\n",
    "# with open(sg.states_path, \"rb\") as handle:\n",
    "#     G = pickle.load(handle)\n",
    "viterbrain = ViterBrain(\n",
    "            v.nxGraph,\n",
    "            v.tiered_path,\n",
    "            fragment_path=v.fragment_path,\n",
    "            resolution=v.resolution,\n",
    "            coef_curv=1000,\n",
    "            coef_dist=10,\n",
    "            coef_int=1,\n",
    "            parallel=6,\n",
    "        )\n",
    "viterbrain.compute_all_costs_dist(\n",
    "            frag_frag_func=viterbrain.frag_frag_dist,\n",
    "            frag_soma_func=viterbrain.frag_soma_dist,\n",
    "        )\n",
    "viterbrain.compute_all_costs_int()"
   ]
  },
  {
   "cell_type": "code",
   "execution_count": 5,
   "metadata": {},
   "outputs": [],
   "source": [
    "with open('/Users/thomasathey/Documents/mimlab/mouselight/input/images/octopus/viterbi_0_multisoma.pickle', 'wb') as handle:\n",
    "    pickle.dump(viterbrain, handle)"
   ]
  },
  {
   "cell_type": "code",
   "execution_count": null,
   "metadata": {},
   "outputs": [],
   "source": []
  }
 ],
 "metadata": {
  "interpreter": {
   "hash": "5dc00d68ff54f8375e99934614da4863299fb9e10af4294c095b7f517546ff26"
  },
  "kernelspec": {
   "display_name": "Python 3.8.10 64-bit ('docs_env': venv)",
   "name": "python3"
  },
  "language_info": {
   "codemirror_mode": {
    "name": "ipython",
    "version": 3
   },
   "file_extension": ".py",
   "mimetype": "text/x-python",
   "name": "python",
   "nbconvert_exporter": "python",
   "pygments_lexer": "ipython3",
   "version": "3.8.10"
  },
  "orig_nbformat": 4
 },
 "nbformat": 4,
 "nbformat_minor": 2
}

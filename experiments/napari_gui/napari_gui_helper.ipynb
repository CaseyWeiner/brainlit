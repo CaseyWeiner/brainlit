{
 "cells": [
  {
   "cell_type": "code",
   "execution_count": 1,
   "metadata": {},
   "outputs": [
    {
     "name": "stderr",
     "output_type": "stream",
     "text": [
      "/Users/thomasathey/Documents/mimlab/mouselight/docs_env/lib/python3.8/site-packages/nilearn/datasets/__init__.py:86: FutureWarning: Fetchers from the nilearn.datasets module will be updated in version 0.9 to return python strings instead of bytes and Pandas dataframes instead of Numpy arrays.\n",
      "  warn(\"Fetchers from the nilearn.datasets module will be \"\n"
     ]
    }
   ],
   "source": [
    "from mouselight_code.src import (\n",
    "    dynamic_programming_connected_double_learn,\n",
    "    image_process,\n",
    ")\n",
    "\n",
    "# import pandas as pd\n",
    "from pathlib import Path\n",
    "from networkx.algorithms.operators.unary import reverse\n",
    "from skimage import io, measure\n",
    "from sklearn.metrics import pairwise_distances_argmin_min\n",
    "import matplotlib.pyplot as plt\n",
    "import numpy as np\n",
    "import napari\n",
    "import pickle\n",
    "import networkx as nx\n",
    "import scipy.ndimage as ndi\n",
    "from tqdm import tqdm\n",
    "import random\n",
    "\n",
    "# from scipy import stats\n",
    "from mouselight_code.src.swc2voxel import Bresenham3D\n",
    "import subprocess\n",
    "import h5py\n",
    "from napari_animation import AnimationWidget\n",
    "import similaritymeasures\n",
    "from cloudvolume import Skeleton\n",
    "import re\n",
    "from brainlit.utils.Neuron_trace import NeuronTrace\n",
    "import zarr\n",
    "\n",
    "scale = [0.3, 0.3, 1]\n",
    "num = 0\n",
    "path = (\n",
    "    \"/Users/thomasathey/Documents/mimlab/mouselight/input/images/octopus/viterbi_\"\n",
    "    + str(num)\n",
    "    + \"_multisoma.pickle\"\n",
    ")\n",
    "#path = '/Users/thomasathey/Documents/mimlab/mouselight/input/images/big/1_viterbi_nx.pkl'\n",
    "#path = '/Users/thomasathey/Documents/mimlab/mouselight/input/images/gui/viterbi_250.pickle'\n",
    "\n",
    "with open(path, \"rb\") as handle:\n",
    "    viterbi = pickle.load(handle)"
   ]
  },
  {
   "cell_type": "code",
   "execution_count": 10,
   "metadata": {},
   "outputs": [
    {
     "data": {
      "text/plain": [
       "{1453: array([[324, 212, 119],\n",
       "        [324, 235, 123],\n",
       "        [324, 237, 123],\n",
       "        ...,\n",
       "        [415, 236, 121],\n",
       "        [415, 237, 120],\n",
       "        [415, 237, 121]]),\n",
       " 1454: array([[214, 455, 124],\n",
       "        [214, 456, 123],\n",
       "        [214, 456, 124],\n",
       "        ...,\n",
       "        [283, 458, 121],\n",
       "        [283, 470, 121],\n",
       "        [283, 471, 121]]),\n",
       " 1455: array([[196, 671,  99],\n",
       "        [197, 670, 100],\n",
       "        [197, 671,  99],\n",
       "        ...,\n",
       "        [255, 629, 103],\n",
       "        [255, 630, 103],\n",
       "        [255, 631, 104]])}"
      ]
     },
     "execution_count": 10,
     "metadata": {},
     "output_type": "execute_result"
    }
   ],
   "source": [
    "viterbi.soma_fragment2coords"
   ]
  },
  {
   "cell_type": "code",
   "execution_count": 7,
   "metadata": {},
   "outputs": [
    {
     "data": {
      "text/plain": [
       "[2906]"
      ]
     },
     "execution_count": 7,
     "metadata": {},
     "output_type": "execute_result"
    }
   ],
   "source": [
    "viterbi.comp_to_states[1455]"
   ]
  },
  {
   "cell_type": "code",
   "execution_count": 9,
   "metadata": {},
   "outputs": [
    {
     "data": {
      "text/plain": [
       "dict_keys([1453, 1454, 1455])"
      ]
     },
     "execution_count": 9,
     "metadata": {},
     "output_type": "execute_result"
    }
   ],
   "source": [
    "viterbi.soma_fragment2coords.keys()"
   ]
  },
  {
   "cell_type": "code",
   "execution_count": null,
   "metadata": {},
   "outputs": [],
   "source": []
  }
 ],
 "metadata": {
  "interpreter": {
   "hash": "5dc00d68ff54f8375e99934614da4863299fb9e10af4294c095b7f517546ff26"
  },
  "kernelspec": {
   "display_name": "Python 3.8.10 64-bit ('docs_env': venv)",
   "language": "python",
   "name": "python3"
  },
  "language_info": {
   "codemirror_mode": {
    "name": "ipython",
    "version": 3
   },
   "file_extension": ".py",
   "mimetype": "text/x-python",
   "name": "python",
   "nbconvert_exporter": "python",
   "pygments_lexer": "ipython3",
   "version": "3.8.10"
  },
  "orig_nbformat": 4
 },
 "nbformat": 4,
 "nbformat_minor": 2
}

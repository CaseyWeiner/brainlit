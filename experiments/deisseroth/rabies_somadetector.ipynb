{
 "cells": [
  {
   "cell_type": "code",
   "execution_count": 2,
   "metadata": {},
   "outputs": [
    {
     "name": "stderr",
     "output_type": "stream",
     "text": [
      "/Users/thomasathey/Documents/mimlab/mouselight/docs_env/lib/python3.8/site-packages/nilearn/datasets/__init__.py:86: FutureWarning: Fetchers from the nilearn.datasets module will be updated in version 0.9 to return python strings instead of bytes and Pandas dataframes instead of Numpy arrays.\n",
      "  warn(\"Fetchers from the nilearn.datasets module will be \"\n"
     ]
    },
    {
     "name": "stdout",
     "output_type": "stream",
     "text": [
      "embedWindow(verbose=True): could not load ipyvtk_simple try:\n",
      "> pip install -U git+https://github.com/Kitware/ipyvtk-simple.git\n"
     ]
    }
   ],
   "source": [
    "from cloudvolume import CloudVolume\n",
    "from skimage.transform import downscale_local_mean\n",
    "import napari\n",
    "from skimage import io\n",
    "import random\n",
    "import h5py\n",
    "from skimage import measure\n",
    "from brainlit.preprocessing import removeSmallCCs\n",
    "import numpy as np \n",
    "import matplotlib.pyplot as plt \n",
    "import subprocess\n",
    "import tables\n",
    "from napari_animation import AnimationWidget\n",
    "from tqdm import tqdm\n",
    "import pickle\n",
    "from parse_ara import *\n",
    "import networkx as nx\n",
    "import seaborn as sns\n",
    "import pandas as pd\n",
    "import brainrender\n",
    "import scipy.ndimage as ndi\n",
    "from skimage.morphology import skeletonize\n",
    "%gui qt5"
   ]
  },
  {
   "cell_type": "code",
   "execution_count": 3,
   "metadata": {},
   "outputs": [
    {
     "name": "stdout",
     "output_type": "stream",
     "text": [
      "(5602, 7360, 3300, 1)\n"
     ]
    }
   ],
   "source": [
    "centers = brain = \"r1\"\n",
    "dir = \"precomputed://https://dlab-colm.neurodata.io/2021_10_06/8557/Ch_647\"\n",
    "vol_fg = CloudVolume(dir, parallel=1, mip=0, fill_missing=False)\n",
    "print(vol_fg.shape)\n",
    "\n",
    "centers = [\n",
    "    [2011.743408203125, 2835.38671875, 1535.5],\n",
    "    [2430.76171875, 3053.81494140625, 713.5],\n",
    "    [1780.8623046875, 2691.490234375, 1538.5001220703125],\n",
    "    [1642.8656005859375, 3693.246337890625, 1540.4998779296875],\n",
    "    [1924.112060546875, 2812.427978515625, 1539.5],\n",
    "    [2228.993896484375, 3124.892333984375, 710.4999389648438],\n",
    "    [976.0220336914062, 2615.152587890625, 1295.4998779296875],\n",
    "    [2246.654296875, 4579.09912109375, 1681.5],\n",
    "    [2383.7158203125, 2945.70166015625, 768.5000610351562],\n",
    "    [2287.11474609375, 3137.698486328125, 713.5],\n",
    "    [3852.977783203125, 5670.54296875, 1325.5],\n",
    "    [785.1561889648438, 2881.677978515625, 1418.5],\n",
    "    [3049.8564453125, 5896.8427734375, 1018.5],\n",
    "    [3077.5703125, 4926.2783203125, 1903.4998779296875],\n",
    "    [1411.1312255859375, 4952.9912109375, 1653.4998779296875],\n",
    "    [2617.185546875, 3935.150146484375, 1544.5],\n",
    "    [1847.7435302734375, 3412.42529296875, 1539.5],\n",
    "    [2568.662109375, 4020.066162109375, 1544.5],\n",
    "    [2636.25927734375, 2863.755615234375, 956.5],\n",
    "    [3214.722412109375, 5058.56689453125, 1903.4998779296875],\n",
    "    [3381.364501953125, 5440.7744140625, 716.5],\n",
    "    [2136.887451171875, 3078.10009765625, 712.4999389648438],\n",
    "    [3805.26220703125, 5721.7451171875, 951.5000610351562],\n",
    "    [2653.3818359375, 5837.59521484375, 894.5],\n",
    "    [3070.020263671875, 3609.991943359375, 1418.5001220703125],\n",
    "    [2138.659423828125, 2925.73681640625, 998.5000610351562],\n",
    "    [3354.067626953125, 4763.74365234375, 706.5],\n",
    "    [3323.818603515625, 5509.31494140625, 1012.5],\n",
    "    [2382.930908203125, 5729.60888671875, 865.5],\n",
    "    [2535.490234375, 2913.681396484375, 1531.5001220703125],\n",
    "    [2822.101318359375, 5940.8447265625, 870.4999389648438],\n",
    "    [3124.767578125, 3648.263427734375, 1415.5],\n",
    "    [1567.5830078125, 2865.05859375, 1543.5],\n",
    "    [1854.7235107421875, 3435.424072265625, 707.5],\n",
    "    [1830.0322265625, 3484.5322265625, 708.5],\n",
    "    [2262.647705078125, 5039.2021484375, 1647.5001220703125],\n",
    "    [3200.597412109375, 5456.03173828125, 1322.5],\n",
    "    [3243.903564453125, 4821.22607421875, 1903.4998779296875],\n",
    "    [1673.142822265625, 3517.357666015625, 1540.5],\n",
    "    [2999.173095703125, 4204.28271484375, 1639.5],\n",
    "    [3006.562744140625, 4938.923828125, 1900.4998779296875],\n",
    "    [2886.84716796875, 4451.986328125, 1665.5],\n",
    "    [2811.046142578125, 5642.18701171875, 1671.5],\n",
    "    [2037.578125, 4099.0029296875, 1909.4998779296875],\n",
    "    [2907.236083984375, 4148.60107421875, 1664.5],\n",
    "    [1602.658447265625, 5768.17724609375, 1487.5001220703125],\n",
    "    [3856.97119140625, 4785.84375, 857.5],\n",
    "    [1390.650390625, 3785.47607421875, 965.5],\n",
    "    [1575.3089599609375, 2840.33544921875, 1542.5],\n",
    "    [3515.720458984375, 5792.529296875, 1298.5],\n",
    "    [2600.551513671875, 4095.101806640625, 1625.5001220703125],\n",
    "    [3057.936767578125, 4192.6103515625, 1639.5],\n",
    "    [3038.3564453125, 5691.2783203125, 683.5],\n",
    "    [846.10400390625, 2795.954833984375, 1418.5],\n",
    "    [2105.562744140625, 3077.30859375, 1352.5001220703125],\n",
    "    [1439.8948974609375, 3693.8486328125, 730.4999389648438],\n",
    "    [3055.538330078125, 4010.5537109375, 1539.4998779296875],\n",
    "    [3415.8681640625, 5375.50439453125, 1374.5],\n",
    "    [3523.255126953125, 3717.175048828125, 1638.5],\n",
    "    [2503.846923828125, 3003.74267578125, 1541.5001220703125],\n",
    "    [1884.9224853515625, 2402.20849609375, 1678.5],\n",
    "    [3248.570068359375, 5417.93310546875, 688.5],\n",
    "    [2692.116455078125, 4005.279052734375, 1538.5],\n",
    "    [3563.275634765625, 3705.658447265625, 1649.4998779296875],\n",
    "    [2643.770751953125, 5856.18603515625, 1472.5001220703125],\n",
    "    [2928.4404296875, 4202.427734375, 1675.5],\n",
    "    [953.2669677734375, 2733.28125, 1309.5001220703125],\n",
    "    [3091.98779296875, 3658.0458984375, 1415.5],\n",
    "    [1855.5592041015625, 2653.33349609375, 1537.5],\n",
    "    [1412.1038818359375, 3816.89013671875, 944.5],\n",
    "    [2335.27001953125, 6059.69287109375, 1400.5001220703125],\n",
    "    [1119.7874755859375, 2634.51416015625, 1298.5],\n",
    "    [1957.525146484375, 4067.762939453125, 1902.5],\n",
    "    [942.6224975585938, 2604.65576171875, 1289.5],\n",
    "    [1973.50634765625, 2371.421142578125, 1679.5],\n",
    "    [2820.294921875, 4667.92822265625, 1910.5],\n",
    "    [3765.234375, 5184.81494140625, 945.5000610351562],\n",
    "    [3022.6396484375, 3871.55029296875, 1821.5001220703125],\n",
    "    [3415.100341796875, 4669.4833984375, 1899.5],\n",
    "    [1424.1728515625, 3417.180419921875, 1546.5001220703125],\n",
    "    [3486.880615234375, 5367.294921875, 691.5],\n",
    "    [3473.42138671875, 4550.96630859375, 1674.4998779296875],\n",
    "    [3116.014892578125, 3670.91748046875, 1420.5001220703125],\n",
    "    [2862.326416015625, 4161.21630859375, 1652.5],\n",
    "    [3097.629638671875, 4741.66015625, 2023.5],\n",
    "    [1919.5633544921875, 3037.014892578125, 715.5],\n",
    "    [1947.3941650390625, 2633.284912109375, 1526.4998779296875],\n",
    "    [2806.36083984375, 3986.090576171875, 1539.4998779296875],\n",
    "    [2474.282958984375, 3113.071044921875, 713.5],\n",
    "    [2144.11767578125, 3158.352783203125, 1352.5001220703125],\n",
    "    [2958.302490234375, 2309.1650390625, 984.5],\n",
    "    [3150.5234375, 4555.67626953125, 1900.4998779296875],\n",
    "    [2712.485595703125, 3920.850341796875, 1549.4998779296875],\n",
    "    [3850.980712890625, 4883.8349609375, 864.4999389648438],\n",
    "    [3039.634765625, 4971.02294921875, 1903.4998779296875],\n",
    "    [3015.31689453125, 4547.89453125, 1902.499755859375],\n",
    "    [2083.13671875, 4309.87451171875, 1899.5],\n",
    "    [3471.501953125, 4553.08544921875, 1656.4998779296875],\n",
    "    [2458.521240234375, 3214.04345703125, 713.5],\n",
    "    [3287.51318359375, 5237.70654296875, 709.5000610351562]\n",
    "]\n",
    "\n",
    "nonsoma_centers = [\n",
    "    [3717.254150390625, 4600.33984375, 2236.5],\n",
    "    [2405.4306640625, 3981.74853515625, 799.4999389648438],\n",
    "    [2450.216064453125, 2035.8717041015625, 1388.5],\n",
    "    [1393.8924560546875, 2702.320068359375, 907.5],\n",
    "    [2197.689208984375, 5329.3505859375, 1559.4998779296875],\n",
    "    [2732.838134765625, 3567.6171875, 1556.4998779296875],\n",
    "    [901.0664672851562, 4493.27197265625, 1695.4998779296875],\n",
    "    [2473.236328125, 3967.60546875, 907.5000610351562],\n",
    "    [1349.7891845703125, 4999.54443359375, 1699.5],\n",
    "    [3879.52734375, 5786.0390625, 1399.5],\n",
    "    [1820.3192138671875, 4988.37841796875, 799.4999389648438],\n",
    "    [1743.709716796875, 2824.9189453125, 1373.5],\n",
    "    [3654.88720703125, 4952.98291015625, 1387.4998779296875],\n",
    "    [2422.846435546875, 5315.03271484375, 1702.5],\n",
    "    [1102.1307373046875, 1870.1595458984375, 1854.5001220703125],\n",
    "    [3086.711181640625, 4087.082763671875, 1875.5],\n",
    "    [3545.043212890625, 5263.32861328125, 1387.5],\n",
    "    [3005.282470703125, 3506.512451171875, 1550.5],\n",
    "    [2897.065185546875, 3204.1494140625, 1300.5001220703125],\n",
    "    [3271.374755859375, 4756.33642578125, 1557.5]\n",
    "]\n"
   ]
  },
  {
   "cell_type": "code",
   "execution_count": null,
   "metadata": {},
   "outputs": [],
   "source": [
    "for i, center in enumerate(centers):\n",
    "    if i < 10 or i>= 20:\n",
    "        continue\n",
    "    image_fg = vol_fg[center[0]-24:center[0]+25,center[1]-24:center[1]+25, center[2]-24:center[2]+25]\n",
    "    image_fg = image_fg[:,:,:,0]\n",
    "\n",
    "    image_1channel = np.squeeze(np.stack([image_fg], axis=0))\n",
    "        \n",
    "    fname = \"/Users/thomasathey/Documents/mimlab/mouselight/ailey/soma_detection/brain\" + brain + \"/test_\" + str(i) + \"_pos.h5\"\n",
    "    with h5py.File(fname, \"w\") as f:\n",
    "        dset = f.create_dataset(\"image_3channel\", data=image_1channel)\n",
    "        "
   ]
  },
  {
   "cell_type": "code",
   "execution_count": 9,
   "metadata": {},
   "outputs": [
    {
     "name": "stderr",
     "output_type": "stream",
     "text": [
      "100%|██████████| 10/10 [00:00<00:00, 137.45it/s]\n"
     ]
    },
    {
     "name": "stdout",
     "output_type": "stream",
     "text": [
      "threshold: 0.05: precision: 0.14492753623188406, recall: 1.0, f-score: 0.25316455696202533\n"
     ]
    },
    {
     "name": "stderr",
     "output_type": "stream",
     "text": [
      "100%|██████████| 10/10 [00:00<00:00, 164.62it/s]\n"
     ]
    },
    {
     "name": "stdout",
     "output_type": "stream",
     "text": [
      "threshold: 0.1: precision: 0.13513513513513514, recall: 1.0, f-score: 0.2380952380952381\n"
     ]
    },
    {
     "name": "stderr",
     "output_type": "stream",
     "text": [
      "100%|██████████| 10/10 [00:00<00:00, 163.40it/s]\n"
     ]
    },
    {
     "name": "stdout",
     "output_type": "stream",
     "text": [
      "threshold: 0.15000000000000002: precision: 0.17543859649122806, recall: 1.0, f-score: 0.29850746268656714\n"
     ]
    },
    {
     "name": "stderr",
     "output_type": "stream",
     "text": [
      "100%|██████████| 10/10 [00:00<00:00, 165.38it/s]\n"
     ]
    },
    {
     "name": "stdout",
     "output_type": "stream",
     "text": [
      "threshold: 0.2: precision: 0.17857142857142858, recall: 1.0, f-score: 0.30303030303030304\n"
     ]
    },
    {
     "name": "stderr",
     "output_type": "stream",
     "text": [
      "100%|██████████| 10/10 [00:00<00:00, 171.78it/s]\n"
     ]
    },
    {
     "name": "stdout",
     "output_type": "stream",
     "text": [
      "threshold: 0.25: precision: 0.21739130434782608, recall: 1.0, f-score: 0.3571428571428571\n"
     ]
    },
    {
     "name": "stderr",
     "output_type": "stream",
     "text": [
      "100%|██████████| 10/10 [00:00<00:00, 177.11it/s]\n"
     ]
    },
    {
     "name": "stdout",
     "output_type": "stream",
     "text": [
      "threshold: 0.3: precision: 0.2631578947368421, recall: 1.0, f-score: 0.4166666666666667\n"
     ]
    },
    {
     "name": "stderr",
     "output_type": "stream",
     "text": [
      "100%|██████████| 10/10 [00:00<00:00, 173.40it/s]\n"
     ]
    },
    {
     "name": "stdout",
     "output_type": "stream",
     "text": [
      "threshold: 0.35000000000000003: precision: 0.30303030303030304, recall: 1.0, f-score: 0.4651162790697675\n"
     ]
    },
    {
     "name": "stderr",
     "output_type": "stream",
     "text": [
      "100%|██████████| 10/10 [00:00<00:00, 104.56it/s]\n"
     ]
    },
    {
     "name": "stdout",
     "output_type": "stream",
     "text": [
      "threshold: 0.4: precision: 0.3225806451612903, recall: 1.0, f-score: 0.4878048780487805\n"
     ]
    },
    {
     "name": "stderr",
     "output_type": "stream",
     "text": [
      "100%|██████████| 10/10 [00:00<00:00, 164.17it/s]\n"
     ]
    },
    {
     "name": "stdout",
     "output_type": "stream",
     "text": [
      "threshold: 0.45: precision: 0.4166666666666667, recall: 1.0, f-score: 0.5882352941176471\n"
     ]
    },
    {
     "name": "stderr",
     "output_type": "stream",
     "text": [
      "100%|██████████| 10/10 [00:00<00:00, 153.20it/s]\n"
     ]
    },
    {
     "name": "stdout",
     "output_type": "stream",
     "text": [
      "threshold: 0.5: precision: 0.5, recall: 1.0, f-score: 0.6666666666666666\n"
     ]
    },
    {
     "name": "stderr",
     "output_type": "stream",
     "text": [
      "100%|██████████| 10/10 [00:00<00:00, 161.01it/s]\n"
     ]
    },
    {
     "name": "stdout",
     "output_type": "stream",
     "text": [
      "threshold: 0.55: precision: 0.5555555555555556, recall: 1.0, f-score: 0.7142857142857143\n"
     ]
    },
    {
     "name": "stderr",
     "output_type": "stream",
     "text": [
      "100%|██████████| 10/10 [00:00<00:00, 163.72it/s]\n"
     ]
    },
    {
     "name": "stdout",
     "output_type": "stream",
     "text": [
      "threshold: 0.6000000000000001: precision: 0.625, recall: 1.0, f-score: 0.7692307692307693\n"
     ]
    },
    {
     "name": "stderr",
     "output_type": "stream",
     "text": [
      "100%|██████████| 10/10 [00:00<00:00, 165.08it/s]\n"
     ]
    },
    {
     "name": "stdout",
     "output_type": "stream",
     "text": [
      "threshold: 0.6500000000000001: precision: 0.6666666666666666, recall: 1.0, f-score: 0.8\n"
     ]
    },
    {
     "name": "stderr",
     "output_type": "stream",
     "text": [
      "100%|██████████| 10/10 [00:00<00:00, 180.67it/s]\n"
     ]
    },
    {
     "name": "stdout",
     "output_type": "stream",
     "text": [
      "threshold: 0.7000000000000001: precision: 0.6923076923076923, recall: 0.9, f-score: 0.7826086956521738\n"
     ]
    },
    {
     "name": "stderr",
     "output_type": "stream",
     "text": [
      "100%|██████████| 10/10 [00:00<00:00, 181.12it/s]\n"
     ]
    },
    {
     "name": "stdout",
     "output_type": "stream",
     "text": [
      "threshold: 0.7500000000000001: precision: 0.9, recall: 0.9, f-score: 0.9\n"
     ]
    },
    {
     "name": "stderr",
     "output_type": "stream",
     "text": [
      "100%|██████████| 10/10 [00:00<00:00, 176.22it/s]\n"
     ]
    },
    {
     "name": "stdout",
     "output_type": "stream",
     "text": [
      "threshold: 0.8: precision: 0.9, recall: 0.9, f-score: 0.9\n"
     ]
    },
    {
     "name": "stderr",
     "output_type": "stream",
     "text": [
      "100%|██████████| 10/10 [00:00<00:00, 180.86it/s]\n"
     ]
    },
    {
     "name": "stdout",
     "output_type": "stream",
     "text": [
      "threshold: 0.8500000000000001: precision: 1.0, recall: 0.8, f-score: 0.888888888888889\n"
     ]
    },
    {
     "name": "stderr",
     "output_type": "stream",
     "text": [
      "100%|██████████| 10/10 [00:00<00:00, 180.49it/s]\n"
     ]
    },
    {
     "name": "stdout",
     "output_type": "stream",
     "text": [
      "threshold: 0.9000000000000001: precision: 1.0, recall: 0.6, f-score: 0.7499999999999999\n"
     ]
    },
    {
     "name": "stderr",
     "output_type": "stream",
     "text": [
      "100%|██████████| 10/10 [00:00<00:00, 185.36it/s]"
     ]
    },
    {
     "name": "stdout",
     "output_type": "stream",
     "text": [
      "threshold: 0.9500000000000001: precision: 1.0, recall: 0.6, f-score: 0.7499999999999999\n"
     ]
    },
    {
     "name": "stderr",
     "output_type": "stream",
     "text": [
      "\n"
     ]
    },
    {
     "data": {
      "text/html": [
       "<pre style=\"white-space:pre;overflow-x:auto;line-height:normal;font-family:Menlo,'DejaVu Sans Mono',consolas,'Courier New',monospace\"><span style=\"font-weight: bold\">&lt;</span><span style=\"color: #ff00ff; text-decoration-color: #ff00ff; font-weight: bold\">matplotlib.legend.Legend</span><span style=\"color: #000000; text-decoration-color: #000000\"> object at </span><span style=\"color: #008080; text-decoration-color: #008080; font-weight: bold\">0x1570f5940</span><span style=\"font-weight: bold\">&gt;</span>\n",
       "</pre>\n"
      ],
      "text/plain": [
       "\u001b[1m<\u001b[0m\u001b[1;95mmatplotlib.legend.Legend\u001b[0m\u001b[39m object at \u001b[0m\u001b[1;36m0x1570f5940\u001b[0m\u001b[1m>\u001b[0m\n"
      ]
     },
     "metadata": {},
     "output_type": "display_data"
    },
    {
     "data": {
      "image/png": "[encoded data removed]"
     },
     "metadata": {
      "needs_background": "light"
     },
     "output_type": "display_data"
    }
   ],
   "source": [
    "recalls = []\n",
    "precisions = []\n",
    "\n",
    "\n",
    "for threshold in np.arange(0.05,1.0,0.05):\n",
    "    tot_pos = 0\n",
    "    true_pos = 0\n",
    "    false_pos = 0\n",
    "    for i in tqdm(range(10,20)):\n",
    "        fname = \"/Users/thomasathey/Documents/mimlab/mouselight/ailey/soma_detection/brain\" + brain + \"/test_\" + str(i) + \"_pos_Probabilities.h5\"\n",
    "        f = h5py.File(fname, \"r\")\n",
    "        pred = f.get(\"exported_data\")\n",
    "        pred = pred[:,:,:,0]\n",
    "        mask = pred>threshold\n",
    "        labels = measure.label(mask)\n",
    "        props = measure.regionprops(labels)\n",
    "\n",
    "        first = True\n",
    "        tot_pos += 1\n",
    "        for prop in props:\n",
    "            if prop[\"area\"] > 50:\n",
    "                if first:\n",
    "                    true_pos += 1\n",
    "                    first = False\n",
    "                else:\n",
    "                    false_pos += 1\n",
    "\n",
    "\n",
    "        fname = \"/Users/thomasathey/Documents/mimlab/mouselight/ailey/soma_detection/brain\" + brain + \"/test_\" + str(i) + \"_neg_Probabilities.h5\"\n",
    "        f = h5py.File(fname, \"r\")\n",
    "        pred = f.get(\"exported_data\")\n",
    "        pred = pred[:,:,:,0]\n",
    "        mask = pred>threshold\n",
    "        labels = measure.label(mask)\n",
    "        props = measure.regionprops(labels)\n",
    "\n",
    "        for prop in props:\n",
    "            if prop[\"area\"] > 50:\n",
    "                false_pos += 1\n",
    "    recall = true_pos/tot_pos\n",
    "    recalls.append(recall)\n",
    "    precision = true_pos/(true_pos + false_pos)\n",
    "    precisions.append(precision)\n",
    "    print(f\"threshold: {threshold}: precision: {precision}, recall: {recall}, f-score: {2*precision*recall/(precision+recall)}\")\n",
    "\n",
    "fscores = [2*precision*recall/(precision+recall) for precision,recall in zip(precisions, recalls)]\n",
    "idx = np.argmax(fscores)\n",
    "plt.plot(recalls, precisions, c='b')\n",
    "plt.scatter(recalls[idx], precisions[idx], c='r', label=f\"Max f-score: {fscores[idx]}\")\n",
    "plt.xlabel(\"recall\")\n",
    "plt.ylabel(\"precision\")\n",
    "plt.title(\"Soma Detector Accuracy\")\n",
    "plt.legend()\n"
   ]
  },
  {
   "cell_type": "markdown",
   "metadata": {},
   "source": [
    "## make point layer - ?????"
   ]
  },
  {
   "cell_type": "code",
   "execution_count": null,
   "metadata": {},
   "outputs": [],
   "source": [
    "\n",
    "point_path = \"precomputed://https://dlab-colm.neurodata.io/2021_10_06/8557/point_preds\"\n",
    "info = CloudVolume.create_new_info(\n",
    "    num_channels    = 1,\n",
    "    layer_type      = 'segmentation',\n",
    "    data_type       = 'uint64', # Channel images might be 'uint8'\n",
    "    # raw, jpeg, compressed_segmentation, fpzip, kempressed, compresso\n",
    "    encoding        = 'raw', \n",
    "    resolution      = [4, 4, 40], # Voxel scaling, units are in nanometers\n",
    "    voxel_offset    = [0, 0, 0], # x,y,z offset in voxels from the origin\n",
    "    mesh            = 'mesh',\n",
    "    # Pick a convenient size for your underlying chunk representation\n",
    "    # Powers of two are recommended, doesn't need to cover image exactly\n",
    "    chunk_size      = [ 512, 512, 16 ], # units are voxels\n",
    "    volume_size     = [ 250000, 250000, 25000 ], # e.g. a cubic millimeter dataset\n",
    ")\n",
    "vol = CloudVolume(point_path, info=info)\n",
    "vol.commit_info()"
   ]
  }
 ],
 "metadata": {
  "interpreter": {
   "hash": "5dc00d68ff54f8375e99934614da4863299fb9e10af4294c095b7f517546ff26"
  },
  "kernelspec": {
   "display_name": "Python 3.8.10 64-bit ('docs_env': venv)",
   "name": "python3"
  },
  "language_info": {
   "codemirror_mode": {
    "name": "ipython",
    "version": 3
   },
   "file_extension": ".py",
   "mimetype": "text/x-python",
   "name": "python",
   "nbconvert_exporter": "python",
   "pygments_lexer": "ipython3",
   "version": "3.8.10"
  },
  "orig_nbformat": 4
 },
 "nbformat": 4,
 "nbformat_minor": 2
}

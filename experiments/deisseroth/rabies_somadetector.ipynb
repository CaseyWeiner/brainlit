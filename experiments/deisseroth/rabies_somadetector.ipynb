{
 "cells": [
  {
   "cell_type": "code",
   "execution_count": null,
   "metadata": {},
   "outputs": [],
   "source": [
    "from cloudvolume import CloudVolume\n",
    "from skimage.transform import downscale_local_mean\n",
    "import napari\n",
    "from skimage import io\n",
    "import random\n",
    "import h5py\n",
    "from skimage import measure\n",
    "from brainlit.preprocessing import removeSmallCCs\n",
    "import numpy as np \n",
    "import matplotlib.pyplot as plt \n",
    "import subprocess\n",
    "import tables\n",
    "from napari_animation import AnimationWidget\n",
    "from tqdm import tqdm\n",
    "import pickle\n",
    "from parse_ara import *\n",
    "import networkx as nx\n",
    "import seaborn as sns\n",
    "import pandas as pd\n",
    "import brainrender\n",
    "import scipy.ndimage as ndi\n",
    "from skimage.morphology import skeletonize\n",
    "from os import listdir\n",
    "from os.path import isfile, join\n",
    "from rabies_somadetector_data import brain2paths, brain2centers\n",
    "%gui qt5"
   ]
  },
  {
   "cell_type": "code",
   "execution_count": 42,
   "metadata": {},
   "outputs": [
    {
     "name": "stdout",
     "output_type": "stream",
     "text": [
      "(5602, 7360, 3300, 1)\n",
      "61 soma centers\n",
      "29 nonsoma centers\n"
     ]
    }
   ],
   "source": [
    "brain = \"r1\"\n",
    "channel = \"3channel\"\n",
    "dir = brain2paths[brain][0]\n",
    "vol_fg = CloudVolume(dir, parallel=1, mip=0, fill_missing=False)\n",
    "dir = brain2paths[brain][1]\n",
    "vol_bg = CloudVolume(dir, parallel=1, mip=0, fill_missing=False)\n",
    "dir = brain2paths[brain][2]\n",
    "vol_endo = CloudVolume(dir, parallel=1, mip=0, fill_missing=False)\n",
    "print(vol_fg.shape)\n",
    "\n",
    "soma_centers = brain2centers[brain][0][2]\n",
    "nonsoma_centers = brain2centers[brain][1][0]\n",
    "\n",
    "print(f\"{len(soma_centers)} soma centers\")\n",
    "print(f\"{len(nonsoma_centers)} nonsoma centers\")\n"
   ]
  },
  {
   "cell_type": "markdown",
   "metadata": {},
   "source": [
    "## Examine"
   ]
  },
  {
   "cell_type": "code",
   "execution_count": null,
   "metadata": {},
   "outputs": [],
   "source": [
    "pt = [5517,3281,1731]\n",
    "vol = vol_fg[pt[0]-75:pt[0]+75,pt[1]-75:pt[1]+75,pt[2]-75:pt[2]+75,0]\n",
    "vol = np.squeeze(vol)\n",
    "viewer = napari.Viewer(ndisplay=3)\n",
    "viewer.add_image(vol)"
   ]
  },
  {
   "cell_type": "markdown",
   "metadata": {},
   "source": [
    "## Save images"
   ]
  },
  {
   "cell_type": "code",
   "execution_count": null,
   "metadata": {},
   "outputs": [],
   "source": [
    "dset_name = \"BSsomas_train\"\n",
    "\n",
    "type = \"pos\"\n",
    "for i, center in enumerate(soma_centers):\n",
    "    if i <10:\n",
    "        pass\n",
    "    else:\n",
    "        continue\n",
    "    image_fg = vol_fg[center[0]-24:center[0]+25,center[1]-24:center[1]+25, center[2]-24:center[2]+25]\n",
    "    image_fg = image_fg[:,:,:,0]\n",
    "    image_bg = vol_bg[center[0]-24:center[0]+25,center[1]-24:center[1]+25, center[2]-24:center[2]+25]\n",
    "    image_bg = image_bg[:,:,:,0]\n",
    "    image_endo = vol_endo[center[0]-24:center[0]+25,center[1]-24:center[1]+25, center[2]-24:center[2]+25]\n",
    "    image_endo = image_endo[:,:,:,0]\n",
    "\n",
    "    image = np.squeeze(np.stack([image_fg, image_bg, image_endo], axis=0))\n",
    "        \n",
    "    fname = f\"/Users/thomasathey/Documents/mimlab/mouselight/ailey/soma_detection/brain{brain}/{channel}/{dset_name}/{int(center[0])}_{int(center[1])}_{int(center[2])}_{type}.h5\"\n",
    "    with h5py.File(fname, \"w\") as f:\n",
    "        dset = f.create_dataset(\"image_3channel\", data=image)\n",
    "        "
   ]
  },
  {
   "cell_type": "code",
   "execution_count": null,
   "metadata": {},
   "outputs": [],
   "source": [
    "type = \"neg\"\n",
    "for i, center in enumerate(nonsoma_centers):\n",
    "    if i < 10:\n",
    "        pass\n",
    "    else:\n",
    "        continue\n",
    "    image_fg = vol_fg[center[0]-24:center[0]+25,center[1]-24:center[1]+25, center[2]-24:center[2]+25]\n",
    "    image_fg = image_fg[:,:,:,0]\n",
    "    image_bg = vol_bg[center[0]-24:center[0]+25,center[1]-24:center[1]+25, center[2]-24:center[2]+25]\n",
    "    image_bg = image_bg[:,:,:,0]\n",
    "    image_endo = vol_endo[center[0]-24:center[0]+25,center[1]-24:center[1]+25, center[2]-24:center[2]+25]\n",
    "    image_endo = image_endo[:,:,:,0]\n",
    "\n",
    "\n",
    "    image = np.squeeze(np.stack([image_fg, image_bg, image_endo], axis=0))\n",
    "        \n",
    "    fname = f\"/Users/thomasathey/Documents/mimlab/mouselight/ailey/soma_detection/brain{brain}/{channel}/{dset_name}/{int(center[0])}_{int(center[1])}_{int(center[2])}_{type}.h5\"\n",
    "    with h5py.File(fname, \"w\") as f:\n",
    "        dset = f.create_dataset(\"image_3channel\", data=image)"
   ]
  },
  {
   "cell_type": "markdown",
   "metadata": {},
   "source": [
    "## Evaluate performance"
   ]
  },
  {
   "cell_type": "code",
   "execution_count": 43,
   "metadata": {},
   "outputs": [
    {
     "name": "stdout",
     "output_type": "stream",
     "text": [
      "['2260_3006_1211_pos_Probabilities.h5', '3005_3506_1550_neg_Probabilities.h5', '1970_2762_1783_pos_Probabilities.h5', '2207_2611_1530_pos_Probabilities.h5', '1830_3484_708_pos_Probabilities.h5', '1854_3435_707_pos_Probabilities.h5', '1580_2845_1371_pos_Probabilities.h5', '757_5052_1364_neg_Probabilities.h5', '1956_2558_1524_pos_Probabilities.h5', '2091_2580_1613_pos_Probabilities.h5', '1680_2866_1531_pos_Probabilities.h5', '1758_2692_1914_pos_Probabilities.h5', '2433_2691_1217_pos_Probabilities.h5', '3086_4087_1875_neg_Probabilities.h5', '1102_1870_1854_neg_Probabilities.h5', '2150_5722_1364_neg_Probabilities.h5', '1972_2370_1661_pos_Probabilities.h5', '1847_3412_1539_pos_Probabilities.h5', '2897_3204_1300_neg_Probabilities.h5', '1359_782_2442_neg_Probabilities.h5', '2055_2577_1609_pos_Probabilities.h5', '1945_2710_1345_pos_Probabilities.h5', '1650_2605_1644_pos_Probabilities.h5', '3049_5896_1018_pos_Probabilities.h5', '1654_2980_1376_pos_Probabilities.h5', '1714_2647_1904_pos_Probabilities.h5', '1785_2738_1374_pos_Probabilities.h5', '2183_2695_1537_pos_Probabilities.h5', '3214_5058_1903_pos_Probabilities.h5', '1531_2859_1584_pos_Probabilities.h5', '1960_2679_1528_pos_Probabilities.h5', '1883_2400_1642_pos_Probabilities.h5', '2652_5673_786_pos_Probabilities.h5', '1820_4988_799_neg_Probabilities.h5', '2262_5039_1647_pos_Probabilities.h5', '1632_2872_1528_pos_Probabilities.h5', '1767_2664_1898_pos_Probabilities.h5', '785_2881_1418_pos_Probabilities.h5', '1894_2491_1619_pos_Probabilities.h5', '1907_2203_1768_pos_Probabilities.h5', '1854_2653_1530_pos_Probabilities.h5', '3545_5263_1387_neg_Probabilities.h5', '2274_2496_1660_pos_Probabilities.h5', '1647_2444_1926_pos_Probabilities.h5', '3918_5896_796_neg_Probabilities.h5', '1582_2859_1598_pos_Probabilities.h5', '2822_5940_870_pos_Probabilities.h5', '2036_2621_1764_pos_Probabilities.h5', '2535_2914_1531_pos_Probabilities.h5', '1855_2652_1537_pos_Probabilities.h5', '3243_4821_1903_pos_Probabilities.h5', '1659_2911_1526_pos_Probabilities.h5', '1411_4952_1653_pos_Probabilities.h5', '2568_4020_1544_pos_Probabilities.h5', '2303_2849_749_pos_Probabilities.h5', '3654_4952_1387_neg_Probabilities.h5', '1499_2925_1374_pos_Probabilities.h5', '3852_5670_1325_pos_Probabilities.h5', '1520_2948_1763_pos_Probabilities.h5', '1883_2400_1659_pos_Probabilities.h5', '1567_2865_1543_pos_Probabilities.h5', '1749_2913_1531_pos_Probabilities.h5', '2999_4204_1639_pos_Probabilities.h5', '3000_1582_1324_neg_Probabilities.h5', '1743_2824_1373_neg_Probabilities.h5', '2318_2721_1217_pos_Probabilities.h5', '2010_2836_1535_pos_Probabilities.h5', '3200_5456_1322_pos_Probabilities.h5', '2063_2899_1208_pos_Probabilities.h5', '1991_2661_1608_pos_Probabilities.h5', '2422_5315_1702_neg_Probabilities.h5', '2636_2863_956_pos_Probabilities.h5', '3482_4189_1496_neg_Probabilities.h5', '3077_4926_1903_pos_Probabilities.h5', '2075_2779_1755_pos_Probabilities.h5', '1780_2691_1536_pos_Probabilities.h5', '2617_3935_1544_pos_Probabilities.h5', '1981_2693_1608_pos_Probabilities.h5', '2288_2662_1218_pos_Probabilities.h5', '2039_2760_1369_pos_Probabilities.h5', '1440_2903_1373_pos_Probabilities.h5', '1936_2587_1909_pos_Probabilities.h5', '2158_2810_1759_pos_Probabilities.h5', '3124_3648_1415_pos_Probabilities.h5', '2655_2438_1521_neg_Probabilities.h5', '2051_2541_1522_pos_Probabilities.h5', '1897_2672_1529_pos_Probabilities.h5', '2066_2855_1214_pos_Probabilities.h5']\n",
      "threshold: 0.02: precision: 0.5901639344262295, recall: 1.0, f-score: 0.7422680412371134 for 72 positive samples in 88 images\n",
      "threshold: 0.04: precision: 0.6792452830188679, recall: 1.0, f-score: 0.8089887640449438 for 72 positive samples in 88 images\n",
      "threshold: 0.06: precision: 0.6990291262135923, recall: 1.0, f-score: 0.8228571428571428 for 72 positive samples in 88 images\n",
      "threshold: 0.08: precision: 0.6857142857142857, recall: 1.0, f-score: 0.8135593220338984 for 72 positive samples in 88 images\n",
      "threshold: 0.1: precision: 0.6990291262135923, recall: 1.0, f-score: 0.8228571428571428 for 72 positive samples in 88 images\n",
      "threshold: 0.12000000000000001: precision: 0.72, recall: 1.0, f-score: 0.8372093023255813 for 72 positive samples in 88 images\n",
      "threshold: 0.13999999999999999: precision: 0.7291666666666666, recall: 0.9722222222222222, f-score: 0.8333333333333333 for 72 positive samples in 88 images\n",
      "threshold: 0.16: precision: 0.7446808510638298, recall: 0.9722222222222222, f-score: 0.8433734939759036 for 72 positive samples in 88 images\n",
      "threshold: 0.18: precision: 0.7368421052631579, recall: 0.9722222222222222, f-score: 0.8383233532934131 for 72 positive samples in 88 images\n",
      "threshold: 0.19999999999999998: precision: 0.7526881720430108, recall: 0.9722222222222222, f-score: 0.8484848484848486 for 72 positive samples in 88 images\n",
      "threshold: 0.22: precision: 0.75, recall: 0.9583333333333334, f-score: 0.8414634146341463 for 72 positive samples in 88 images\n",
      "threshold: 0.24: precision: 0.7613636363636364, recall: 0.9305555555555556, f-score: 0.8375 for 72 positive samples in 88 images\n",
      "threshold: 0.26: precision: 0.7790697674418605, recall: 0.9305555555555556, f-score: 0.8481012658227848 for 72 positive samples in 88 images\n",
      "threshold: 0.28: precision: 0.7976190476190477, recall: 0.9305555555555556, f-score: 0.858974358974359 for 72 positive samples in 88 images\n",
      "threshold: 0.30000000000000004: precision: 0.8271604938271605, recall: 0.9305555555555556, f-score: 0.8758169934640523 for 72 positive samples in 88 images\n",
      "threshold: 0.32: precision: 0.8589743589743589, recall: 0.9305555555555556, f-score: 0.8933333333333334 for 72 positive samples in 88 images\n",
      "threshold: 0.34: precision: 0.8701298701298701, recall: 0.9305555555555556, f-score: 0.8993288590604027 for 72 positive samples in 88 images\n",
      "threshold: 0.36000000000000004: precision: 0.88, recall: 0.9166666666666666, f-score: 0.8979591836734694 for 72 positive samples in 88 images\n",
      "threshold: 0.38: precision: 0.8783783783783784, recall: 0.9027777777777778, f-score: 0.8904109589041096 for 72 positive samples in 88 images\n",
      "threshold: 0.4: precision: 0.8767123287671232, recall: 0.8888888888888888, f-score: 0.8827586206896552 for 72 positive samples in 88 images\n",
      "threshold: 0.42000000000000004: precision: 0.8714285714285714, recall: 0.8472222222222222, f-score: 0.8591549295774648 for 72 positive samples in 88 images\n",
      "threshold: 0.44: precision: 0.8823529411764706, recall: 0.8333333333333334, f-score: 0.8571428571428571 for 72 positive samples in 88 images\n",
      "threshold: 0.46: precision: 0.9076923076923077, recall: 0.8194444444444444, f-score: 0.8613138686131386 for 72 positive samples in 88 images\n",
      "threshold: 0.48000000000000004: precision: 0.921875, recall: 0.8194444444444444, f-score: 0.8676470588235294 for 72 positive samples in 88 images\n",
      "threshold: 0.5: precision: 0.9193548387096774, recall: 0.7916666666666666, f-score: 0.8507462686567164 for 72 positive samples in 88 images\n",
      "threshold: 0.52: precision: 0.9333333333333333, recall: 0.7777777777777778, f-score: 0.8484848484848485 for 72 positive samples in 88 images\n",
      "threshold: 0.54: precision: 0.9333333333333333, recall: 0.7777777777777778, f-score: 0.8484848484848485 for 72 positive samples in 88 images\n",
      "threshold: 0.56: precision: 0.9622641509433962, recall: 0.7083333333333334, f-score: 0.816 for 72 positive samples in 88 images\n",
      "threshold: 0.5800000000000001: precision: 0.9607843137254902, recall: 0.6805555555555556, f-score: 0.7967479674796749 for 72 positive samples in 88 images\n",
      "threshold: 0.6: precision: 0.9591836734693877, recall: 0.6527777777777778, f-score: 0.7768595041322315 for 72 positive samples in 88 images\n",
      "threshold: 0.62: precision: 0.9591836734693877, recall: 0.6527777777777778, f-score: 0.7768595041322315 for 72 positive samples in 88 images\n",
      "threshold: 0.64: precision: 0.9782608695652174, recall: 0.625, f-score: 0.7627118644067797 for 72 positive samples in 88 images\n",
      "threshold: 0.66: precision: 0.9772727272727273, recall: 0.5972222222222222, f-score: 0.7413793103448277 for 72 positive samples in 88 images\n",
      "threshold: 0.68: precision: 0.9743589743589743, recall: 0.5277777777777778, f-score: 0.6846846846846847 for 72 positive samples in 88 images\n",
      "threshold: 0.7000000000000001: precision: 0.9722222222222222, recall: 0.4861111111111111, f-score: 0.6481481481481481 for 72 positive samples in 88 images\n",
      "threshold: 0.7200000000000001: precision: 0.9705882352941176, recall: 0.4583333333333333, f-score: 0.6226415094339622 for 72 positive samples in 88 images\n",
      "threshold: 0.74: precision: 0.9666666666666667, recall: 0.4027777777777778, f-score: 0.5686274509803922 for 72 positive samples in 88 images\n",
      "threshold: 0.76: precision: 1.0, recall: 0.3333333333333333, f-score: 0.5 for 72 positive samples in 88 images\n",
      "threshold: 0.78: precision: 1.0, recall: 0.3194444444444444, f-score: 0.4842105263157894 for 72 positive samples in 88 images\n",
      "threshold: 0.8: precision: 1.0, recall: 0.2916666666666667, f-score: 0.45161290322580644 for 72 positive samples in 88 images\n",
      "threshold: 0.8200000000000001: precision: 1.0, recall: 0.25, f-score: 0.4 for 72 positive samples in 88 images\n",
      "threshold: 0.8400000000000001: precision: 1.0, recall: 0.2361111111111111, f-score: 0.38202247191011235 for 72 positive samples in 88 images\n",
      "threshold: 0.86: precision: 1.0, recall: 0.2222222222222222, f-score: 0.3636363636363636 for 72 positive samples in 88 images\n",
      "threshold: 0.88: precision: 1.0, recall: 0.18055555555555555, f-score: 0.30588235294117644 for 72 positive samples in 88 images\n",
      "threshold: 0.9: precision: 1.0, recall: 0.1527777777777778, f-score: 0.26506024096385544 for 72 positive samples in 88 images\n",
      "threshold: 0.92: precision: 1.0, recall: 0.1527777777777778, f-score: 0.26506024096385544 for 72 positive samples in 88 images\n",
      "threshold: 0.9400000000000001: precision: 1.0, recall: 0.1111111111111111, f-score: 0.19999999999999998 for 72 positive samples in 88 images\n",
      "threshold: 0.9600000000000001: precision: 1.0, recall: 0.09722222222222222, f-score: 0.17721518987341772 for 72 positive samples in 88 images\n",
      "threshold: 0.98: precision: 1.0, recall: 0.06944444444444445, f-score: 0.12987012987012989 for 72 positive samples in 88 images\n"
     ]
    },
    {
     "data": {
      "text/html": [
       "<pre style=\"white-space:pre;overflow-x:auto;line-height:normal;font-family:Menlo,'DejaVu Sans Mono',consolas,'Courier New',monospace\"><span style=\"font-weight: bold\">&lt;</span><span style=\"color: #ff00ff; text-decoration-color: #ff00ff; font-weight: bold\">matplotlib.legend.Legend</span><span style=\"color: #000000; text-decoration-color: #000000\"> object at </span><span style=\"color: #008080; text-decoration-color: #008080; font-weight: bold\">0x17cae4af0</span><span style=\"font-weight: bold\">&gt;</span>\n",
       "</pre>\n"
      ],
      "text/plain": [
       "\u001b[1m<\u001b[0m\u001b[1;95mmatplotlib.legend.Legend\u001b[0m\u001b[39m object at \u001b[0m\u001b[1;36m0x17cae4af0\u001b[0m\u001b[1m>\u001b[0m\n"
      ]
     },
     "metadata": {},
     "output_type": "display_data"
    },
    {
     "data": {
      "image/png": "[encoded data removed]"
     },
     "metadata": {
      "needs_background": "light"
     },
     "output_type": "display_data"
    }
   ],
   "source": [
    "recalls = []\n",
    "precisions = []\n",
    "\n",
    "files_dir = f\"/Users/thomasathey/Documents/mimlab/mouselight/ailey/soma_detection/brain{brain}/{channel}/test/\"\n",
    "onlyfiles = [f for f in listdir(files_dir) if isfile(join(files_dir, f))]\n",
    "#test_files = [f for f in onlyfiles if f[:4] == \"test\"]\n",
    "test_files = [f for f in onlyfiles if \"Probabilities\" in f] #\"probabilities\"\n",
    "print(test_files)\n",
    "\n",
    "size_thresh = 500\n",
    "\n",
    "for threshold in np.arange(0.02,1.0,0.02):\n",
    "    tot_pos = 0\n",
    "    true_pos = 0\n",
    "    false_pos = 0\n",
    "    for filename in tqdm(test_files, disable=True):\n",
    "        if filename == \"3972_1636_1575_pos_Probabilities.h5\":\n",
    "            newpos = 2\n",
    "        else:\n",
    "            newpos = 1\n",
    "\n",
    "        fname = files_dir + filename\n",
    "        f = h5py.File(fname, \"r\")\n",
    "        pred = f.get(\"exported_data\")\n",
    "        pred = pred[0,:,:,:]\n",
    "        mask = pred>threshold\n",
    "        labels = measure.label(mask)\n",
    "        props = measure.regionprops(labels)\n",
    "\n",
    "        if \"pos\" in filename: \n",
    "            num_detected = 0\n",
    "            tot_pos += newpos\n",
    "            for prop in props:\n",
    "                if prop[\"area\"] > size_thresh:\n",
    "                    if num_detected < newpos:\n",
    "                        true_pos += 1\n",
    "                        num_detected += 1\n",
    "                    else:\n",
    "                        false_pos += 1\n",
    "        elif \"neg\" in filename:\n",
    "            for prop in props:\n",
    "                if prop[\"area\"] > size_thresh:\n",
    "                    false_pos += 1\n",
    "\n",
    "    recall = true_pos/tot_pos\n",
    "    recalls.append(recall)\n",
    "    if true_pos + false_pos == 0:\n",
    "        precision = 0\n",
    "    else:\n",
    "        precision = true_pos/(true_pos + false_pos)\n",
    "    precisions.append(precision)\n",
    "    if precision == 0 and recall == 0:\n",
    "        fscore = 0\n",
    "    else:\n",
    "        fscore = 2*precision*recall/(precision+recall)\n",
    "    print(f\"threshold: {threshold}: precision: {precision}, recall: {recall}, f-score: {fscore} for {tot_pos} positive samples in {len(test_files)} images\")\n",
    "\n",
    "fscores = [2*precision*recall/(precision+recall) if (precision != 0 and recall != 0) else 0 for precision,recall in zip(precisions, recalls) ]\n",
    "idx = np.argmax(fscores)\n",
    "best_threshold = np.arange(0.02,1.0,0.02)[idx]\n",
    "plt.plot(recalls, precisions, c='b')\n",
    "plt.scatter(recalls[idx], precisions[idx], c='r', label=f\"Max f-score: {fscores[idx]:.2f} thresh:{best_threshold:.2f}\")\n",
    "plt.xlabel(\"recall\")\n",
    "plt.ylabel(\"precision\")\n",
    "plt.title(\"Soma Detector Accuracy\")\n",
    "plt.legend()"
   ]
  },
  {
   "cell_type": "code",
   "execution_count": 41,
   "metadata": {},
   "outputs": [
    {
     "name": "stdout",
     "output_type": "stream",
     "text": [
      "*************File: 2224_2264_1454_neg_Probabilities.h5*********\n",
      "*************File: 2662_1080_1523_pos_Probabilities.h5*********\n",
      "area of detected object: 1508\n",
      "*************File: 4048_3907_1446_neg_Probabilities.h5*********\n",
      "*************File: 4029_1626_1579_pos_Probabilities.h5*********\n",
      "area of detected object: 1582\n",
      "*************File: 1006_1750_1516_neg_Probabilities.h5*********\n",
      "Nonsoma false positive Area: 1492\n",
      "*************File: 2930_2955_1446_neg_Probabilities.h5*********\n",
      "*************File: 4195_1115_1501_neg_Probabilities.h5*********\n",
      "*************File: 1510_3041_1469_pos_Probabilities.h5*********\n",
      "Soma false negative\n",
      "*************File: 3912_1582_1573_pos_Probabilities.h5*********\n",
      "area of detected object: 2392\n",
      "*************File: 1351_2902_1471_pos_Probabilities.h5*********\n",
      "area of detected object: 1153\n",
      "*************File: 2537_1115_1469_pos_Probabilities.h5*********\n",
      "area of detected object: 1041\n",
      "*************File: 3093_5162_1470_neg_Probabilities.h5*********\n",
      "*************File: 231_3921_1488_neg_Probabilities.h5*********\n",
      "*************File: 856_2503_1516_neg_Probabilities.h5*********\n",
      "*************File: 3815_1166_1501_neg_Probabilities.h5*********\n",
      "*************File: 2720_1256_1566_pos_Probabilities.h5*********\n",
      "area of detected object: 1519\n",
      "*************File: 3923_1490_1574_pos_Probabilities.h5*********\n",
      "area of detected object: 2007\n",
      "*************File: 3485_1350_1576_pos_Probabilities.h5*********\n",
      "area of detected object: 1503\n",
      "*************File: 3615_1540_1508_neg_Probabilities.h5*********\n",
      "*************File: 3972_1636_1575_pos_Probabilities.h5*********\n",
      "area of detected object: 1355\n",
      "area of detected object: 1914\n"
     ]
    }
   ],
   "source": [
    "for filename in tqdm(test_files, disable=True):\n",
    "    print(f\"*************File: {filename}*********\")\n",
    "    if filename == \"3972_1636_1575_pos_Probabilities.h5\":\n",
    "        newpos = 2\n",
    "    else:\n",
    "        newpos = 1\n",
    "\n",
    "    im_fname = files_dir + filename[:-17] + \".h5\"\n",
    "    fname = files_dir + filename\n",
    "    f = h5py.File(fname, \"r\")\n",
    "    pred = f.get(\"exported_data\")\n",
    "    pred = pred[0,:,:,:]\n",
    "    mask = pred>best_threshold\n",
    "    labels = measure.label(mask)\n",
    "    props = measure.regionprops(labels)\n",
    "\n",
    "    if \"pos\" in filename: \n",
    "        num_detected = 0\n",
    "        tot_pos += newpos\n",
    "        for prop in props:\n",
    "            area = prop[\"area\"]\n",
    "            if area > size_thresh:\n",
    "                print(f\"area of detected object: {area}\")\n",
    "                if num_detected < newpos:\n",
    "                    true_pos += 1\n",
    "                    num_detected += 1\n",
    "                else:\n",
    "                    print(f\"Soma false positive Area: {area}\")\n",
    "                    f = h5py.File(im_fname, \"r\")\n",
    "                    im = f.get(\"image_3channel\")\n",
    "                    viewer = napari.Viewer(ndisplay=3)\n",
    "                    viewer.add_image(im[0,:,:,:])\n",
    "                    viewer.add_image(im[1,:,:,:])\n",
    "                    viewer.add_image(im[2,:,:,:])\n",
    "                    viewer.add_labels(mask)\n",
    "                    viewer.add_labels(labels == prop[\"label\"], name=f\"soma false positive area: {area}\")\n",
    "                    false_pos += 1\n",
    "        if num_detected == 0:\n",
    "            print(f\"Soma false negative\")\n",
    "            f = h5py.File(im_fname, \"r\")\n",
    "            im = f.get(\"image_3channel\")\n",
    "            viewer = napari.Viewer(ndisplay=3)\n",
    "            viewer.add_image(im[0,:,:,:])\n",
    "            viewer.add_image(im[1,:,:,:])\n",
    "            viewer.add_image(im[2,:,:,:])\n",
    "            viewer.add_labels(mask, name=\"Soma false negative\")\n",
    "    elif \"neg\" in filename:\n",
    "        for prop in props:\n",
    "            area = prop[\"area\"]\n",
    "            if area > size_thresh:\n",
    "                print(f\"Nonsoma false positive Area: {area}\")\n",
    "                f = h5py.File(im_fname, \"r\")\n",
    "                im = f.get(\"image_3channel\")\n",
    "                viewer = napari.Viewer(ndisplay=3)\n",
    "                viewer.add_image(im[0,:,:,:])\n",
    "                viewer.add_image(im[1,:,:,:])\n",
    "                viewer.add_image(im[2,:,:,:])\n",
    "                viewer.add_labels(mask)\n",
    "                viewer.add_labels(labels == prop[\"label\"], name=f\"nonsoma false positive area: {area}\")\n",
    "                false_pos += 1"
   ]
  },
  {
   "cell_type": "code",
   "execution_count": null,
   "metadata": {},
   "outputs": [],
   "source": [
    "best_threshold"
   ]
  },
  {
   "cell_type": "markdown",
   "metadata": {},
   "source": [
    "## make point layer - ?????"
   ]
  },
  {
   "cell_type": "code",
   "execution_count": null,
   "metadata": {},
   "outputs": [],
   "source": [
    "\n",
    "point_path = \"precomputed://https://dlab-colm.neurodata.io/2021_10_06/8557/point_preds\"\n",
    "info = CloudVolume.create_new_info(\n",
    "    num_channels    = 1,\n",
    "    layer_type      = 'segmentation',\n",
    "    data_type       = 'uint64', # Channel images might be 'uint8'\n",
    "    # raw, jpeg, compressed_segmentation, fpzip, kempressed, compresso\n",
    "    encoding        = 'raw', \n",
    "    resolution      = [4, 4, 40], # Voxel scaling, units are in nanometers\n",
    "    voxel_offset    = [0, 0, 0], # x,y,z offset in voxels from the origin\n",
    "    mesh            = 'mesh',\n",
    "    # Pick a convenient size for your underlying chunk representation\n",
    "    # Powers of two are recommended, doesn't need to cover image exactly\n",
    "    chunk_size      = [ 512, 512, 16 ], # units are voxels\n",
    "    volume_size     = [ 250000, 250000, 25000 ], # e.g. a cubic millimeter dataset\n",
    ")\n",
    "vol = CloudVolume(point_path, info=info)\n",
    "vol.commit_info()"
   ]
  },
  {
   "cell_type": "code",
   "execution_count": null,
   "metadata": {},
   "outputs": [],
   "source": [
    "new_somas = []\n",
    "for soma in somas:\n",
    "    if soma[2] <= 3000:\n",
    "        new_somas.append(soma)\n",
    "len(new_somas)"
   ]
  },
  {
   "cell_type": "code",
   "execution_count": null,
   "metadata": {},
   "outputs": [],
   "source": [
    "soma_ra = np.array(new_somas)\n",
    "plt.hist(soma_ra[:,2])"
   ]
  },
  {
   "cell_type": "code",
   "execution_count": null,
   "metadata": {},
   "outputs": [],
   "source": [
    "import napari\n",
    "viewer = napari.Viewer(ndisplay=3)"
   ]
  },
  {
   "cell_type": "markdown",
   "metadata": {},
   "source": [
    "# Download slices"
   ]
  },
  {
   "cell_type": "code",
   "execution_count": null,
   "metadata": {},
   "outputs": [],
   "source": [
    "im_fg = vol_fg[3100:3500,4500:4900,1400:1800, 0]\n",
    "im_bg = vol_bg[3100:3500,4500:4900,1400:1800, 0]\n",
    "im_endo = vol_endo[3100:3500,4500:4900,1400:1800, 0]\n",
    "\n",
    "viewer = napari.Viewer(ndisplay=3)\n",
    "viewer.add_image(np.squeeze(im_fg))\n",
    "viewer.add_image(np.squeeze(im_bg))\n",
    "viewer.add_image(np.squeeze(im_endo))"
   ]
  },
  {
   "cell_type": "markdown",
   "metadata": {},
   "source": [
    "## Check ilastik"
   ]
  },
  {
   "cell_type": "code",
   "execution_count": null,
   "metadata": {},
   "outputs": [],
   "source": [
    "im_fg = vol_fg[3100:3500,4500:4900,1400:1800, 0]\n",
    "im_bg = vol_bg[3100:3500,4500:4900,1400:1800, 0]\n",
    "im_endo = vol_endo[3100:3500,4500:4900,1400:1800, 0]\n",
    "\n",
    "image = np.squeeze(np.stack([im_fg, im_bg, im_endo], axis=0))\n",
    "fname = \"/Users/thomasathey/Desktop/im.h5\"\n",
    "\n",
    "with h5py.File(fname, \"w\") as f:\n",
    "    dset = f.create_dataset(\"image_3channel\", data=image)\n",
    "\n",
    "subprocess.run([\"/Applications/ilastik-1.3.3post3-OSX.app/Contents/ilastik-release/run_ilastik.sh\", \"--headless\", \"--project=/Users/thomasathey/Documents/mimlab/mouselight/ailey/soma_detection/matt_soma_rabies_pix_3ch.ilp\", fname], stdout=subprocess.PIPE, stderr=subprocess.PIPE)\n",
    "\n"
   ]
  },
  {
   "cell_type": "code",
   "execution_count": null,
   "metadata": {},
   "outputs": [],
   "source": [
    "f = h5py.File(\"/Users/thomasathey/Desktop/im_Probabilities.h5\", \"r\")\n",
    "pred = f.get(\"exported_data\")\n",
    "\n",
    "pred = pred[0,:,:,:]\n",
    "\n",
    "mask = pred > 0.55\n",
    "labels = measure.label(mask)\n",
    "props = measure.regionprops(labels)\n",
    "\n",
    "results = []\n",
    "for prop in props:\n",
    "    if prop[\"area\"] > 500:\n",
    "        location = list(np.add((0,0,0), prop[\"centroid\"]))\n",
    "        print(location)\n",
    "\n",
    "viewer = napari.Viewer(ndisplay=3)\n",
    "viewer.add_image(np.squeeze(im_fg))\n",
    "viewer.add_labels(mask)"
   ]
  },
  {
   "cell_type": "code",
   "execution_count": null,
   "metadata": {},
   "outputs": [],
   "source": [
    "import math\n",
    "import numpy as np\n",
    "new_pts = []\n",
    "for point in a:\n",
    "    first = math.isclose(point[0],int(point[0]))\n",
    "    second = math.isclose(np.abs(point[1]-int(point[1])), 0.5)\n",
    "    third = math.isclose(np.abs(point[2]-int(point[2])), 0.5)\n",
    "    if first and second and third:\n",
    "        continue\n",
    "    else:\n",
    "        new_pts.append(point)"
   ]
  },
  {
   "cell_type": "code",
   "execution_count": null,
   "metadata": {},
   "outputs": [],
   "source": []
  }
 ],
 "metadata": {
  "interpreter": {
   "hash": "5dc00d68ff54f8375e99934614da4863299fb9e10af4294c095b7f517546ff26"
  },
  "kernelspec": {
   "display_name": "Python 3.8.10 64-bit ('docs_env': venv)",
   "name": "python3"
  },
  "language_info": {
   "codemirror_mode": {
    "name": "ipython",
    "version": 3
   },
   "file_extension": ".py",
   "mimetype": "text/x-python",
   "name": "python",
   "nbconvert_exporter": "python",
   "pygments_lexer": "ipython3",
   "version": "3.8.10"
  },
  "orig_nbformat": 4
 },
 "nbformat": 4,
 "nbformat_minor": 2
}

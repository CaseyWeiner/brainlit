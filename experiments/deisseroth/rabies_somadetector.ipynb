{
 "cells": [
  {
   "cell_type": "code",
   "execution_count": null,
   "metadata": {},
   "outputs": [],
   "source": [
    "from cloudvolume import CloudVolume\n",
    "from skimage.transform import downscale_local_mean\n",
    "import napari\n",
    "from skimage import io\n",
    "import random\n",
    "import h5py\n",
    "from skimage import measure\n",
    "from brainlit.preprocessing import removeSmallCCs\n",
    "import numpy as np \n",
    "import matplotlib.pyplot as plt \n",
    "import subprocess\n",
    "import tables\n",
    "from napari_animation import AnimationWidget\n",
    "from tqdm import tqdm\n",
    "import pickle\n",
    "from parse_ara import *\n",
    "import networkx as nx\n",
    "import seaborn as sns\n",
    "import pandas as pd\n",
    "import brainrender\n",
    "import scipy.ndimage as ndi\n",
    "from skimage.morphology import skeletonize\n",
    "from os import listdir\n",
    "from os.path import isfile, join\n",
    "from rabies_somadetector_data import brain2paths, brain2centers\n",
    "%gui qt5"
   ]
  },
  {
   "cell_type": "code",
   "execution_count": 10,
   "metadata": {},
   "outputs": [
    {
     "name": "stdout",
     "output_type": "stream",
     "text": [
      "(5602, 7360, 3300, 1)\n",
      "100 soma centers\n",
      "10 nonsoma centers\n"
     ]
    }
   ],
   "source": [
    "brain = \"r1\"\n",
    "channel = \"3channel\"\n",
    "dir = brain2paths[brain][0]\n",
    "vol_fg = CloudVolume(dir, parallel=1, mip=0, fill_missing=False)\n",
    "dir = brain2paths[brain][1]\n",
    "vol_bg = CloudVolume(dir, parallel=1, mip=0, fill_missing=False)\n",
    "dir = brain2paths[brain][2]\n",
    "vol_endo = CloudVolume(dir, parallel=1, mip=0, fill_missing=False)\n",
    "print(vol_fg.shape)\n",
    "\n",
    "soma_centers = brain2centers[brain][0][0]\n",
    "nonsoma_centers = brain2centers[brain][1][2]\n",
    "\n",
    "print(f\"{len(soma_centers)} soma centers\")\n",
    "print(f\"{len(nonsoma_centers)} nonsoma centers\")\n"
   ]
  },
  {
   "cell_type": "markdown",
   "metadata": {},
   "source": [
    "## Save images"
   ]
  },
  {
   "cell_type": "code",
   "execution_count": null,
   "metadata": {},
   "outputs": [],
   "source": [
    "dset_name = \"test\"\n",
    "\n",
    "# type = \"pos\"\n",
    "# for i, center in enumerate(soma_centers):\n",
    "#     if i >= 30 and i < 40:\n",
    "#         pass\n",
    "#     else:\n",
    "#         continue\n",
    "#     image_fg = vol_fg[center[0]-24:center[0]+25,center[1]-24:center[1]+25, center[2]-24:center[2]+25]\n",
    "#     image_fg = image_fg[:,:,:,0]\n",
    "#     image_bg = vol_bg[center[0]-24:center[0]+25,center[1]-24:center[1]+25, center[2]-24:center[2]+25]\n",
    "#     image_bg = image_bg[:,:,:,0]\n",
    "#     image_endo = vol_endo[center[0]-24:center[0]+25,center[1]-24:center[1]+25, center[2]-24:center[2]+25]\n",
    "#     image_endo = image_endo[:,:,:,0]\n",
    "\n",
    "#     image = np.squeeze(np.stack([image_fg, image_bg, image_endo], axis=0))\n",
    "        \n",
    "#     fname = f\"/Users/thomasathey/Documents/mimlab/mouselight/ailey/soma_detection/brain{brain}/{channel}/{dset_name}/{int(center[0])}_{int(center[1])}_{int(center[2])}_{type}.h5\"\n",
    "#     with h5py.File(fname, \"w\") as f:\n",
    "#         dset = f.create_dataset(\"image_3channel\", data=image)\n",
    "\n",
    "type = \"neg\"\n",
    "for i, center in enumerate(nonsoma_centers):\n",
    "    if i >= 5:\n",
    "        pass\n",
    "    else:\n",
    "        continue\n",
    "    image_fg = vol_fg[center[0]-24:center[0]+25,center[1]-24:center[1]+25, center[2]-24:center[2]+25]\n",
    "    image_fg = image_fg[:,:,:,0]\n",
    "    image_bg = vol_bg[center[0]-24:center[0]+25,center[1]-24:center[1]+25, center[2]-24:center[2]+25]\n",
    "    image_bg = image_bg[:,:,:,0]\n",
    "    image_endo = vol_endo[center[0]-24:center[0]+25,center[1]-24:center[1]+25, center[2]-24:center[2]+25]\n",
    "    image_endo = image_endo[:,:,:,0]\n",
    "\n",
    "\n",
    "    image = np.squeeze(np.stack([image_fg, image_bg, image_endo], axis=0))\n",
    "        \n",
    "    fname = f\"/Users/thomasathey/Documents/mimlab/mouselight/ailey/soma_detection/brain{brain}/{channel}/{dset_name}/{int(center[0])}_{int(center[1])}_{int(center[2])}_{type}.h5\"\n",
    "    with h5py.File(fname, \"w\") as f:\n",
    "        dset = f.create_dataset(\"image_3channel\", data=image)\n",
    "        "
   ]
  },
  {
   "cell_type": "markdown",
   "metadata": {},
   "source": [
    "## Evaluate performance"
   ]
  },
  {
   "cell_type": "code",
   "execution_count": 11,
   "metadata": {},
   "outputs": [
    {
     "name": "stdout",
     "output_type": "stream",
     "text": [
      "['3005_3506_1550_neg_Probabilities.h5', '1830_3484_708_pos_Probabilities.h5', '1854_3435_707_pos_Probabilities.h5', '757_5052_1364_neg_Probabilities.h5', '3086_4087_1875_neg_Probabilities.h5', '1102_1870_1854_neg_Probabilities.h5', '2150_5722_1364_neg_Probabilities.h5', '1847_3412_1539_pos_Probabilities.h5', '2897_3204_1300_neg_Probabilities.h5', '1359_782_2442_neg_Probabilities.h5', '3049_5896_1018_pos_Probabilities.h5', '3214_5058_1903_pos_Probabilities.h5', '1673_3517_1540_pos_Probabilities.h5', '2652_5673_786_pos_Probabilities.h5', '30_6212_3270_neg_Probabilities.h5', '1820_4988_799_neg_Probabilities.h5', '2262_5039_1647_pos_Probabilities.h5', '785_2881_1418_pos_Probabilities.h5', '3545_5263_1387_neg_Probabilities.h5', '3918_5896_796_neg_Probabilities.h5', '2822_5940_870_pos_Probabilities.h5', '3271_4756_1557_neg_Probabilities.h5', '3243_4821_1903_pos_Probabilities.h5', '401_6266_3270_neg_Probabilities.h5', '1411_4952_1653_pos_Probabilities.h5', '2568_4020_1544_pos_Probabilities.h5', '2303_2849_749_pos_Probabilities.h5', '92_6539_3270_neg_Probabilities.h5', '3654_4952_1387_neg_Probabilities.h5', '3852_5670_1325_pos_Probabilities.h5', '1567_2865_1543_pos_Probabilities.h5', '2999_4204_1639_pos_Probabilities.h5', '3000_1582_1324_neg_Probabilities.h5', '1743_2824_1373_neg_Probabilities.h5', '378_6549_3270_neg_Probabilities.h5', '3304_4765_1534_neg_Probabilities.h5', '3200_5456_1322_pos_Probabilities.h5', '2422_5315_1702_neg_Probabilities.h5', '2636_2863_956_pos_Probabilities.h5', '3077_4926_1903_pos_Probabilities.h5', '2617_3935_1544_pos_Probabilities.h5', '3124_3648_1415_pos_Probabilities.h5']\n",
      "threshold: 0.05: precision: 0.4772727272727273, recall: 0.9545454545454546, f-score: 0.6363636363636365 for 22 positive samples in 42 images\n",
      "threshold: 0.1: precision: 0.45652173913043476, recall: 0.9545454545454546, f-score: 0.6176470588235293 for 22 positive samples in 42 images\n",
      "threshold: 0.15000000000000002: precision: 0.5, recall: 0.9545454545454546, f-score: 0.65625 for 22 positive samples in 42 images\n",
      "threshold: 0.2: precision: 0.5121951219512195, recall: 0.9545454545454546, f-score: 0.6666666666666667 for 22 positive samples in 42 images\n",
      "threshold: 0.25: precision: 0.5833333333333334, recall: 0.9545454545454546, f-score: 0.7241379310344828 for 22 positive samples in 42 images\n",
      "threshold: 0.3: precision: 0.6666666666666666, recall: 0.9090909090909091, f-score: 0.7692307692307692 for 22 positive samples in 42 images\n",
      "threshold: 0.35000000000000003: precision: 0.6666666666666666, recall: 0.9090909090909091, f-score: 0.7692307692307692 for 22 positive samples in 42 images\n",
      "threshold: 0.4: precision: 0.7692307692307693, recall: 0.9090909090909091, f-score: 0.8333333333333333 for 22 positive samples in 42 images\n",
      "threshold: 0.45: precision: 0.7916666666666666, recall: 0.8636363636363636, f-score: 0.8260869565217391 for 22 positive samples in 42 images\n",
      "threshold: 0.5: precision: 0.8260869565217391, recall: 0.8636363636363636, f-score: 0.8444444444444444 for 22 positive samples in 42 images\n",
      "threshold: 0.55: precision: 0.8636363636363636, recall: 0.8636363636363636, f-score: 0.8636363636363636 for 22 positive samples in 42 images\n",
      "threshold: 0.6000000000000001: precision: 0.85, recall: 0.7727272727272727, f-score: 0.8095238095238095 for 22 positive samples in 42 images\n",
      "threshold: 0.6500000000000001: precision: 0.8421052631578947, recall: 0.7272727272727273, f-score: 0.7804878048780488 for 22 positive samples in 42 images\n",
      "threshold: 0.7000000000000001: precision: 0.8235294117647058, recall: 0.6363636363636364, f-score: 0.717948717948718 for 22 positive samples in 42 images\n",
      "threshold: 0.7500000000000001: precision: 0.7857142857142857, recall: 0.5, f-score: 0.6111111111111112 for 22 positive samples in 42 images\n",
      "threshold: 0.8: precision: 0.8, recall: 0.36363636363636365, f-score: 0.5000000000000001 for 22 positive samples in 42 images\n",
      "threshold: 0.8500000000000001: precision: 0.8571428571428571, recall: 0.2727272727272727, f-score: 0.41379310344827586 for 22 positive samples in 42 images\n",
      "threshold: 0.9000000000000001: precision: 1.0, recall: 0.2727272727272727, f-score: 0.42857142857142855 for 22 positive samples in 42 images\n",
      "threshold: 0.9500000000000001: precision: 1.0, recall: 0.18181818181818182, f-score: 0.3076923076923077 for 22 positive samples in 42 images\n"
     ]
    },
    {
     "data": {
      "text/html": [
       "<pre style=\"white-space:pre;overflow-x:auto;line-height:normal;font-family:Menlo,'DejaVu Sans Mono',consolas,'Courier New',monospace\"><span style=\"font-weight: bold\">&lt;</span><span style=\"color: #ff00ff; text-decoration-color: #ff00ff; font-weight: bold\">matplotlib.legend.Legend</span><span style=\"color: #000000; text-decoration-color: #000000\"> object at </span><span style=\"color: #008080; text-decoration-color: #008080; font-weight: bold\">0x11036dfd0</span><span style=\"font-weight: bold\">&gt;</span>\n",
       "</pre>\n"
      ],
      "text/plain": [
       "\u001b[1m<\u001b[0m\u001b[1;95mmatplotlib.legend.Legend\u001b[0m\u001b[39m object at \u001b[0m\u001b[1;36m0x11036dfd0\u001b[0m\u001b[1m>\u001b[0m\n"
      ]
     },
     "metadata": {},
     "output_type": "display_data"
    },
    {
     "data": {
      "image/png": "[encoded data removed]"
     },
     "metadata": {
      "needs_background": "light"
     },
     "output_type": "display_data"
    }
   ],
   "source": [
    "recalls = []\n",
    "precisions = []\n",
    "\n",
    "files_dir = f\"/Users/thomasathey/Documents/mimlab/mouselight/ailey/soma_detection/brain{brain}/{channel}/test/\"\n",
    "onlyfiles = [f for f in listdir(files_dir) if isfile(join(files_dir, f))]\n",
    "#test_files = [f for f in onlyfiles if f[:4] == \"test\"]\n",
    "test_files = [f for f in onlyfiles if \"Probabilities\" in f] #\"probabilities\"\n",
    "print(test_files)\n",
    "\n",
    "size_thresh = 500\n",
    "\n",
    "for threshold in np.arange(0.05,1.0,0.05):\n",
    "    tot_pos = 0\n",
    "    true_pos = 0\n",
    "    false_pos = 0\n",
    "    for filename in tqdm(test_files, disable=True):\n",
    "        fname = files_dir + filename\n",
    "        f = h5py.File(fname, \"r\")\n",
    "        pred = f.get(\"exported_data\")\n",
    "        pred = pred[0,:,:,:]\n",
    "        mask = pred>threshold\n",
    "        labels = measure.label(mask)\n",
    "        props = measure.regionprops(labels)\n",
    "\n",
    "        if \"pos\" in filename: \n",
    "            first = True\n",
    "            tot_pos += 1\n",
    "            for prop in props:\n",
    "                if prop[\"area\"] > size_thresh:\n",
    "                    if first:\n",
    "                        true_pos += 1\n",
    "                        first = False\n",
    "                    else:\n",
    "                        false_pos += 1\n",
    "        elif \"neg\" in filename:\n",
    "            for prop in props:\n",
    "                if prop[\"area\"] > size_thresh:\n",
    "                    false_pos += 1\n",
    "\n",
    "    recall = true_pos/tot_pos\n",
    "    recalls.append(recall)\n",
    "    if true_pos + false_pos == 0:\n",
    "        precision = 0\n",
    "    else:\n",
    "        precision = true_pos/(true_pos + false_pos)\n",
    "    precisions.append(precision)\n",
    "    if precision == 0 and recall == 0:\n",
    "        fscore = 0\n",
    "    else:\n",
    "        fscore = 2*precision*recall/(precision+recall)\n",
    "    print(f\"threshold: {threshold}: precision: {precision}, recall: {recall}, f-score: {fscore} for {tot_pos} positive samples in {len(test_files)} images\")\n",
    "\n",
    "fscores = [2*precision*recall/(precision+recall) if (precision != 0 and recall != 0) else 0 for precision,recall in zip(precisions, recalls) ]\n",
    "idx = np.argmax(fscores)\n",
    "best_threshold = np.arange(0.05,1.0,0.05)[idx]\n",
    "plt.plot(recalls, precisions, c='b')\n",
    "plt.scatter(recalls[idx], precisions[idx], c='r', label=f\"Max f-score: {fscores[idx]:.2f} thresh:{best_threshold:.2f}\")\n",
    "plt.xlabel(\"recall\")\n",
    "plt.ylabel(\"precision\")\n",
    "plt.title(\"Soma Detector Accuracy\")\n",
    "plt.legend()\n"
   ]
  },
  {
   "cell_type": "code",
   "execution_count": 9,
   "metadata": {},
   "outputs": [
    {
     "name": "stdout",
     "output_type": "stream",
     "text": [
      "*************File: 3237_5790_1859_pos_Probabilities.h5*********\n",
      "area of detected object: 2092\n",
      "*************File: 4116_4527_1725_neg_Probabilities.h5*********\n",
      "*************File: 1991_2464_2106_pos_Probabilities.h5*********\n",
      "Soma false negative\n",
      "*************File: 4277_5606_1757_neg_Probabilities.h5*********\n",
      "Nonsoma false positive Area: 1658\n",
      "*************File: 891_4202_1717_pos_Probabilities.h5*********\n",
      "area of detected object: 2187\n",
      "*************File: 3190_2247_2101_pos_Probabilities.h5*********\n",
      "Soma false negative\n",
      "*************File: 2408_703_1708_neg_Probabilities.h5*********\n",
      "*************File: 5517_3281_1731_neg_Probabilities.h5*********\n",
      "Nonsoma false positive Area: 1841\n",
      "*************File: 2956_1910_1891_pos_Probabilities.h5*********\n",
      "area of detected object: 617\n",
      "*************File: 3208_6492_1802_neg_Probabilities.h5*********\n",
      "*************File: 4256_5383_1950_pos_Probabilities.h5*********\n",
      "area of detected object: 2190\n",
      "*************File: 1791_4388_1717_neg_Probabilities.h5*********\n",
      "*************File: 3121_6361_1692_pos_Probabilities.h5*********\n",
      "area of detected object: 2168\n",
      "*************File: 5121_3508_1731_neg_Probabilities.h5*********\n",
      "*************File: 974_3781_1719_neg_Probabilities.h5*********\n",
      "*************File: 2297_4473_1717_neg_Probabilities.h5*********\n",
      "*************File: 2692_2204_1892_pos_Probabilities.h5*********\n",
      "area of detected object: 1276\n",
      "*************File: 2674_877_1708_neg_Probabilities.h5*********\n",
      "*************File: 3252_2362_2100_pos_Probabilities.h5*********\n",
      "Soma false negative\n",
      "*************File: 2142_2135_1907_pos_Probabilities.h5*********\n",
      "area of detected object: 766\n"
     ]
    }
   ],
   "source": [
    "size_thresh = 500\n",
    "\n",
    "for filename in tqdm(test_files, disable=True):\n",
    "    print(f\"*************File: {filename}*********\")\n",
    "    im_fname = files_dir + filename[:-17] + \".h5\"\n",
    "    fname = files_dir + filename\n",
    "    f = h5py.File(fname, \"r\")\n",
    "    pred = f.get(\"exported_data\")\n",
    "    pred = pred[0,:,:,:]\n",
    "    mask = pred>best_threshold\n",
    "    labels = measure.label(mask)\n",
    "    props = measure.regionprops(labels)\n",
    "\n",
    "    if \"pos\" in filename: \n",
    "        first = True\n",
    "        tot_pos += 1\n",
    "        for prop in props:\n",
    "            area = prop[\"area\"]\n",
    "            if area > size_thresh:\n",
    "                print(f\"area of detected object: {area}\")\n",
    "                if first:\n",
    "                    true_pos += 1\n",
    "                    first = False\n",
    "                else:\n",
    "                    print(f\"Soma false positive Area: {area}\")\n",
    "                    f = h5py.File(im_fname, \"r\")\n",
    "                    im = f.get(\"image_3channel\")\n",
    "                    viewer = napari.Viewer(ndisplay=3)\n",
    "                    viewer.add_image(im[0,:,:,:])\n",
    "                    viewer.add_image(im[1,:,:,:])\n",
    "                    viewer.add_image(im[2,:,:,:])\n",
    "                    viewer.add_labels(mask)\n",
    "                    viewer.add_labels(labels == prop[\"label\"], name=f\"soma false positive area: {area}\")\n",
    "                    false_pos += 1\n",
    "        if first == True:\n",
    "            print(f\"Soma false negative\")\n",
    "            f = h5py.File(im_fname, \"r\")\n",
    "            im = f.get(\"image_3channel\")\n",
    "            viewer = napari.Viewer(ndisplay=3)\n",
    "            viewer.add_image(im[0,:,:,:])\n",
    "            viewer.add_image(im[1,:,:,:])\n",
    "            viewer.add_image(im[2,:,:,:])\n",
    "            viewer.add_labels(mask, name=\"Soma false negative\")\n",
    "    elif \"neg\" in filename:\n",
    "        for prop in props:\n",
    "            area = prop[\"area\"]\n",
    "            if area > size_thresh:\n",
    "                print(f\"Nonsoma false positive Area: {area}\")\n",
    "                f = h5py.File(im_fname, \"r\")\n",
    "                im = f.get(\"image_3channel\")\n",
    "                viewer = napari.Viewer(ndisplay=3)\n",
    "                viewer.add_image(im[0,:,:,:])\n",
    "                viewer.add_image(im[1,:,:,:])\n",
    "                viewer.add_image(im[2,:,:,:])\n",
    "                viewer.add_labels(mask)\n",
    "                viewer.add_labels(labels == prop[\"label\"], name=f\"nonsoma false positive area: {area}\")\n",
    "                false_pos += 1"
   ]
  },
  {
   "cell_type": "code",
   "execution_count": null,
   "metadata": {},
   "outputs": [],
   "source": [
    "best_threshold"
   ]
  },
  {
   "cell_type": "markdown",
   "metadata": {},
   "source": [
    "## make point layer - ?????"
   ]
  },
  {
   "cell_type": "code",
   "execution_count": null,
   "metadata": {},
   "outputs": [],
   "source": [
    "\n",
    "point_path = \"precomputed://https://dlab-colm.neurodata.io/2021_10_06/8557/point_preds\"\n",
    "info = CloudVolume.create_new_info(\n",
    "    num_channels    = 1,\n",
    "    layer_type      = 'segmentation',\n",
    "    data_type       = 'uint64', # Channel images might be 'uint8'\n",
    "    # raw, jpeg, compressed_segmentation, fpzip, kempressed, compresso\n",
    "    encoding        = 'raw', \n",
    "    resolution      = [4, 4, 40], # Voxel scaling, units are in nanometers\n",
    "    voxel_offset    = [0, 0, 0], # x,y,z offset in voxels from the origin\n",
    "    mesh            = 'mesh',\n",
    "    # Pick a convenient size for your underlying chunk representation\n",
    "    # Powers of two are recommended, doesn't need to cover image exactly\n",
    "    chunk_size      = [ 512, 512, 16 ], # units are voxels\n",
    "    volume_size     = [ 250000, 250000, 25000 ], # e.g. a cubic millimeter dataset\n",
    ")\n",
    "vol = CloudVolume(point_path, info=info)\n",
    "vol.commit_info()"
   ]
  },
  {
   "cell_type": "code",
   "execution_count": null,
   "metadata": {},
   "outputs": [],
   "source": [
    "new_somas = []\n",
    "for soma in somas:\n",
    "    if soma[2] <= 3000:\n",
    "        new_somas.append(soma)\n",
    "len(new_somas)"
   ]
  },
  {
   "cell_type": "code",
   "execution_count": null,
   "metadata": {},
   "outputs": [],
   "source": [
    "soma_ra = np.array(new_somas)\n",
    "plt.hist(soma_ra[:,2])"
   ]
  },
  {
   "cell_type": "code",
   "execution_count": null,
   "metadata": {},
   "outputs": [],
   "source": []
  }
 ],
 "metadata": {
  "interpreter": {
   "hash": "5dc00d68ff54f8375e99934614da4863299fb9e10af4294c095b7f517546ff26"
  },
  "kernelspec": {
   "display_name": "Python 3.8.10 64-bit ('docs_env': venv)",
   "name": "python3"
  },
  "language_info": {
   "codemirror_mode": {
    "name": "ipython",
    "version": 3
   },
   "file_extension": ".py",
   "mimetype": "text/x-python",
   "name": "python",
   "nbconvert_exporter": "python",
   "pygments_lexer": "ipython3",
   "version": "3.8.10"
  },
  "orig_nbformat": 4
 },
 "nbformat": 4,
 "nbformat_minor": 2
}

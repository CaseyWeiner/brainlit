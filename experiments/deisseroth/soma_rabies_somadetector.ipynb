{
 "cells": [
  {
   "cell_type": "code",
   "execution_count": 3,
   "metadata": {},
   "outputs": [],
   "source": [
    "from cloudvolume import CloudVolume\n",
    "from skimage.transform import downscale_local_mean\n",
    "import napari\n",
    "from skimage import io\n",
    "import random\n",
    "import h5py\n",
    "from skimage import measure\n",
    "from brainlit.preprocessing import removeSmallCCs\n",
    "import numpy as np \n",
    "import matplotlib.pyplot as plt \n",
    "import subprocess\n",
    "import tables\n",
    "from napari_animation import AnimationWidget\n",
    "from tqdm import tqdm\n",
    "import pickle\n",
    "from parse_ara import *\n",
    "import networkx as nx\n",
    "import seaborn as sns\n",
    "import pandas as pd\n",
    "import brainrender\n",
    "import scipy.ndimage as ndi\n",
    "from skimage.morphology import skeletonize\n",
    "from os import listdir\n",
    "from os.path import isfile, join\n",
    "from soma_rabies_somadetector_data import brain2paths, brain2centers\n",
    "%gui qt5"
   ]
  },
  {
   "cell_type": "code",
   "execution_count": 4,
   "metadata": {},
   "outputs": [
    {
     "name": "stdout",
     "output_type": "stream",
     "text": [
      "(5668, 8790, 3300, 1)\n"
     ]
    },
    {
     "ename": "IndexError",
     "evalue": "list index out of range",
     "output_type": "error",
     "traceback": [
      "\u001b[0;31m---------------------------------------------------------------------------\u001b[0m",
      "\u001b[0;31mIndexError\u001b[0m                                Traceback (most recent call last)",
      "\u001b[0;32m/var/folders/fq/9t66hqz51y5ddnygddgjtsmc0000gn/T/ipykernel_58696/1242674358.py\u001b[0m in \u001b[0;36m<module>\u001b[0;34m\u001b[0m\n\u001b[1;32m      9\u001b[0m \u001b[0mprint\u001b[0m\u001b[0;34m(\u001b[0m\u001b[0mvol_fg\u001b[0m\u001b[0;34m.\u001b[0m\u001b[0mshape\u001b[0m\u001b[0;34m)\u001b[0m\u001b[0;34m\u001b[0m\u001b[0;34m\u001b[0m\u001b[0m\n\u001b[1;32m     10\u001b[0m \u001b[0;34m\u001b[0m\u001b[0m\n\u001b[0;32m---> 11\u001b[0;31m \u001b[0msoma_centers\u001b[0m \u001b[0;34m=\u001b[0m \u001b[0mbrain2centers\u001b[0m\u001b[0;34m[\u001b[0m\u001b[0mbrain\u001b[0m\u001b[0;34m]\u001b[0m\u001b[0;34m[\u001b[0m\u001b[0;36m0\u001b[0m\u001b[0;34m]\u001b[0m\u001b[0;34m[\u001b[0m\u001b[0;36m2\u001b[0m\u001b[0;34m]\u001b[0m\u001b[0;34m\u001b[0m\u001b[0;34m\u001b[0m\u001b[0m\n\u001b[0m\u001b[1;32m     12\u001b[0m \u001b[0mnonsoma_centers\u001b[0m \u001b[0;34m=\u001b[0m \u001b[0mbrain2centers\u001b[0m\u001b[0;34m[\u001b[0m\u001b[0mbrain\u001b[0m\u001b[0;34m]\u001b[0m\u001b[0;34m[\u001b[0m\u001b[0;36m1\u001b[0m\u001b[0;34m]\u001b[0m\u001b[0;34m[\u001b[0m\u001b[0;36m0\u001b[0m\u001b[0;34m]\u001b[0m\u001b[0;34m\u001b[0m\u001b[0;34m\u001b[0m\u001b[0m\n\u001b[1;32m     13\u001b[0m \u001b[0;34m\u001b[0m\u001b[0m\n",
      "\u001b[0;31mIndexError\u001b[0m: list index out of range"
     ]
    }
   ],
   "source": [
    "brain = \"r2\"\n",
    "channel = \"3channel\"\n",
    "dir = brain2paths[brain][0]\n",
    "vol_fg = CloudVolume(dir, parallel=1, mip=0, fill_missing=False)\n",
    "dir = brain2paths[brain][1]\n",
    "vol_bg = CloudVolume(dir, parallel=1, mip=0, fill_missing=False)\n",
    "dir = brain2paths[brain][2]\n",
    "vol_endo = CloudVolume(dir, parallel=1, mip=0, fill_missing=False)\n",
    "print(vol_fg.shape)\n",
    "\n",
    "soma_centers = brain2centers[brain][0][2]\n",
    "nonsoma_centers = brain2centers[brain][1][0]\n",
    "\n",
    "print(f\"{len(soma_centers)} soma centers\")\n",
    "print(f\"{len(nonsoma_centers)} nonsoma centers\")\n"
   ]
  },
  {
   "cell_type": "markdown",
   "metadata": {},
   "source": [
    "## Examine"
   ]
  },
  {
   "cell_type": "code",
   "execution_count": null,
   "metadata": {},
   "outputs": [],
   "source": [
    "pt = [5517,3281,1731]\n",
    "vol = vol_fg[pt[0]-75:pt[0]+75,pt[1]-75:pt[1]+75,pt[2]-75:pt[2]+75,0]\n",
    "vol = np.squeeze(vol)\n",
    "viewer = napari.Viewer(ndisplay=3)\n",
    "viewer.add_image(vol)"
   ]
  },
  {
   "cell_type": "markdown",
   "metadata": {},
   "source": [
    "## Save images"
   ]
  },
  {
   "cell_type": "code",
   "execution_count": null,
   "metadata": {},
   "outputs": [],
   "source": [
    "dset_name = \"BSsomas_train\"\n",
    "\n",
    "type = \"pos\"\n",
    "for i, center in enumerate(soma_centers):\n",
    "    if i <10:\n",
    "        pass\n",
    "    else:\n",
    "        continue\n",
    "    image_fg = vol_fg[center[0]-24:center[0]+25,center[1]-24:center[1]+25, center[2]-24:center[2]+25]\n",
    "    image_fg = image_fg[:,:,:,0]\n",
    "    image_bg = vol_bg[center[0]-24:center[0]+25,center[1]-24:center[1]+25, center[2]-24:center[2]+25]\n",
    "    image_bg = image_bg[:,:,:,0]\n",
    "    image_endo = vol_endo[center[0]-24:center[0]+25,center[1]-24:center[1]+25, center[2]-24:center[2]+25]\n",
    "    image_endo = image_endo[:,:,:,0]\n",
    "\n",
    "    image = np.squeeze(np.stack([image_fg, image_bg, image_endo], axis=0))\n",
    "        \n",
    "    fname = f\"/Users/thomasathey/Documents/mimlab/mouselight/ailey/soma_detection/brain{brain}/{channel}/{dset_name}/{int(center[0])}_{int(center[1])}_{int(center[2])}_{type}.h5\"\n",
    "    with h5py.File(fname, \"w\") as f:\n",
    "        dset = f.create_dataset(\"image_3channel\", data=image)\n",
    "        "
   ]
  },
  {
   "cell_type": "code",
   "execution_count": null,
   "metadata": {},
   "outputs": [],
   "source": [
    "type = \"neg\"\n",
    "for i, center in enumerate(nonsoma_centers):\n",
    "    if i < 10:\n",
    "        pass\n",
    "    else:\n",
    "        continue\n",
    "    image_fg = vol_fg[center[0]-24:center[0]+25,center[1]-24:center[1]+25, center[2]-24:center[2]+25]\n",
    "    image_fg = image_fg[:,:,:,0]\n",
    "    image_bg = vol_bg[center[0]-24:center[0]+25,center[1]-24:center[1]+25, center[2]-24:center[2]+25]\n",
    "    image_bg = image_bg[:,:,:,0]\n",
    "    image_endo = vol_endo[center[0]-24:center[0]+25,center[1]-24:center[1]+25, center[2]-24:center[2]+25]\n",
    "    image_endo = image_endo[:,:,:,0]\n",
    "\n",
    "\n",
    "    image = np.squeeze(np.stack([image_fg, image_bg, image_endo], axis=0))\n",
    "        \n",
    "    fname = f\"/Users/thomasathey/Documents/mimlab/mouselight/ailey/soma_detection/brain{brain}/{channel}/{dset_name}/{int(center[0])}_{int(center[1])}_{int(center[2])}_{type}.h5\"\n",
    "    with h5py.File(fname, \"w\") as f:\n",
    "        dset = f.create_dataset(\"image_3channel\", data=image)"
   ]
  },
  {
   "cell_type": "markdown",
   "metadata": {},
   "source": [
    "## Evaluate performance"
   ]
  },
  {
   "cell_type": "code",
   "execution_count": 5,
   "metadata": {},
   "outputs": [
    {
     "name": "stdout",
     "output_type": "stream",
     "text": [
      "['3237_5790_1859_pos_Probabilities.h5', '4116_4527_1725_neg_Probabilities.h5', '1991_2464_2106_pos_Probabilities.h5', '4277_5606_1757_neg_Probabilities.h5', '891_4202_1717_pos_Probabilities.h5', '3190_2247_2101_pos_Probabilities.h5', '2408_703_1708_neg_Probabilities.h5', '5517_3281_1731_neg_Probabilities.h5', '2956_1910_1891_pos_Probabilities.h5', '3208_6492_1802_neg_Probabilities.h5', '4256_5383_1950_pos_Probabilities.h5', '1791_4388_1717_neg_Probabilities.h5', '3121_6361_1692_pos_Probabilities.h5', '5121_3508_1731_neg_Probabilities.h5', '974_3781_1719_neg_Probabilities.h5', '2297_4473_1717_neg_Probabilities.h5', '2692_2204_1892_pos_Probabilities.h5', '2674_877_1708_neg_Probabilities.h5', '3252_2362_2100_pos_Probabilities.h5', '2142_2135_1907_pos_Probabilities.h5']\n",
      "threshold: 0.02: precision: 0.35714285714285715, recall: 1.0, f-score: 0.5263157894736842 for 10 positive samples in 20 images\n",
      "threshold: 0.04: precision: 0.38461538461538464, recall: 1.0, f-score: 0.5555555555555556 for 10 positive samples in 20 images\n",
      "threshold: 0.06: precision: 0.43478260869565216, recall: 1.0, f-score: 0.6060606060606061 for 10 positive samples in 20 images\n",
      "threshold: 0.08: precision: 0.5263157894736842, recall: 1.0, f-score: 0.6896551724137931 for 10 positive samples in 20 images\n",
      "threshold: 0.1: precision: 0.5882352941176471, recall: 1.0, f-score: 0.7407407407407407 for 10 positive samples in 20 images\n",
      "threshold: 0.12000000000000001: precision: 0.625, recall: 1.0, f-score: 0.7692307692307693 for 10 positive samples in 20 images\n",
      "threshold: 0.13999999999999999: precision: 0.6666666666666666, recall: 1.0, f-score: 0.8 for 10 positive samples in 20 images\n",
      "threshold: 0.16: precision: 0.7142857142857143, recall: 1.0, f-score: 0.8333333333333333 for 10 positive samples in 20 images\n",
      "threshold: 0.18: precision: 0.7142857142857143, recall: 1.0, f-score: 0.8333333333333333 for 10 positive samples in 20 images\n",
      "threshold: 0.19999999999999998: precision: 0.7692307692307693, recall: 1.0, f-score: 0.8695652173913044 for 10 positive samples in 20 images\n",
      "threshold: 0.22: precision: 0.8333333333333334, recall: 1.0, f-score: 0.9090909090909091 for 10 positive samples in 20 images\n",
      "threshold: 0.24: precision: 0.9090909090909091, recall: 1.0, f-score: 0.9523809523809523 for 10 positive samples in 20 images\n",
      "threshold: 0.26: precision: 0.9090909090909091, recall: 1.0, f-score: 0.9523809523809523 for 10 positive samples in 20 images\n",
      "threshold: 0.28: precision: 0.9090909090909091, recall: 1.0, f-score: 0.9523809523809523 for 10 positive samples in 20 images\n",
      "threshold: 0.30000000000000004: precision: 0.9090909090909091, recall: 1.0, f-score: 0.9523809523809523 for 10 positive samples in 20 images\n",
      "threshold: 0.32: precision: 0.9090909090909091, recall: 1.0, f-score: 0.9523809523809523 for 10 positive samples in 20 images\n",
      "threshold: 0.34: precision: 0.9090909090909091, recall: 1.0, f-score: 0.9523809523809523 for 10 positive samples in 20 images\n",
      "threshold: 0.36000000000000004: precision: 0.9090909090909091, recall: 1.0, f-score: 0.9523809523809523 for 10 positive samples in 20 images\n",
      "threshold: 0.38: precision: 0.9090909090909091, recall: 1.0, f-score: 0.9523809523809523 for 10 positive samples in 20 images\n",
      "threshold: 0.4: precision: 0.9090909090909091, recall: 1.0, f-score: 0.9523809523809523 for 10 positive samples in 20 images\n",
      "threshold: 0.42000000000000004: precision: 0.9090909090909091, recall: 1.0, f-score: 0.9523809523809523 for 10 positive samples in 20 images\n",
      "threshold: 0.44: precision: 0.9090909090909091, recall: 1.0, f-score: 0.9523809523809523 for 10 positive samples in 20 images\n",
      "threshold: 0.46: precision: 0.9090909090909091, recall: 1.0, f-score: 0.9523809523809523 for 10 positive samples in 20 images\n",
      "threshold: 0.48000000000000004: precision: 0.9090909090909091, recall: 1.0, f-score: 0.9523809523809523 for 10 positive samples in 20 images\n",
      "threshold: 0.5: precision: 0.9090909090909091, recall: 1.0, f-score: 0.9523809523809523 for 10 positive samples in 20 images\n",
      "threshold: 0.52: precision: 0.9090909090909091, recall: 1.0, f-score: 0.9523809523809523 for 10 positive samples in 20 images\n",
      "threshold: 0.54: precision: 0.9090909090909091, recall: 1.0, f-score: 0.9523809523809523 for 10 positive samples in 20 images\n",
      "threshold: 0.56: precision: 0.9090909090909091, recall: 1.0, f-score: 0.9523809523809523 for 10 positive samples in 20 images\n",
      "threshold: 0.5800000000000001: precision: 0.9090909090909091, recall: 1.0, f-score: 0.9523809523809523 for 10 positive samples in 20 images\n",
      "threshold: 0.6: precision: 0.9090909090909091, recall: 1.0, f-score: 0.9523809523809523 for 10 positive samples in 20 images\n",
      "threshold: 0.62: precision: 0.9090909090909091, recall: 1.0, f-score: 0.9523809523809523 for 10 positive samples in 20 images\n",
      "threshold: 0.64: precision: 0.9090909090909091, recall: 1.0, f-score: 0.9523809523809523 for 10 positive samples in 20 images\n",
      "threshold: 0.66: precision: 0.9090909090909091, recall: 1.0, f-score: 0.9523809523809523 for 10 positive samples in 20 images\n",
      "threshold: 0.68: precision: 0.9090909090909091, recall: 1.0, f-score: 0.9523809523809523 for 10 positive samples in 20 images\n",
      "threshold: 0.7000000000000001: precision: 0.9090909090909091, recall: 1.0, f-score: 0.9523809523809523 for 10 positive samples in 20 images\n",
      "threshold: 0.7200000000000001: precision: 0.9090909090909091, recall: 1.0, f-score: 0.9523809523809523 for 10 positive samples in 20 images\n",
      "threshold: 0.74: precision: 0.9090909090909091, recall: 1.0, f-score: 0.9523809523809523 for 10 positive samples in 20 images\n",
      "threshold: 0.76: precision: 0.9090909090909091, recall: 1.0, f-score: 0.9523809523809523 for 10 positive samples in 20 images\n",
      "threshold: 0.78: precision: 0.9090909090909091, recall: 1.0, f-score: 0.9523809523809523 for 10 positive samples in 20 images\n",
      "threshold: 0.8: precision: 0.9090909090909091, recall: 1.0, f-score: 0.9523809523809523 for 10 positive samples in 20 images\n",
      "threshold: 0.8200000000000001: precision: 0.9090909090909091, recall: 1.0, f-score: 0.9523809523809523 for 10 positive samples in 20 images\n",
      "threshold: 0.8400000000000001: precision: 1.0, recall: 1.0, f-score: 1.0 for 10 positive samples in 20 images\n",
      "threshold: 0.86: precision: 1.0, recall: 1.0, f-score: 1.0 for 10 positive samples in 20 images\n",
      "threshold: 0.88: precision: 1.0, recall: 1.0, f-score: 1.0 for 10 positive samples in 20 images\n",
      "threshold: 0.9: precision: 1.0, recall: 1.0, f-score: 1.0 for 10 positive samples in 20 images\n",
      "threshold: 0.92: precision: 1.0, recall: 1.0, f-score: 1.0 for 10 positive samples in 20 images\n",
      "threshold: 0.9400000000000001: precision: 1.0, recall: 1.0, f-score: 1.0 for 10 positive samples in 20 images\n",
      "threshold: 0.9600000000000001: precision: 1.0, recall: 0.9, f-score: 0.9473684210526316 for 10 positive samples in 20 images\n",
      "threshold: 0.98: precision: 1.0, recall: 0.7, f-score: 0.8235294117647058 for 10 positive samples in 20 images\n"
     ]
    },
    {
     "data": {
      "text/html": [
       "<pre style=\"white-space:pre;overflow-x:auto;line-height:normal;font-family:Menlo,'DejaVu Sans Mono',consolas,'Courier New',monospace\"><span style=\"font-weight: bold\">&lt;</span><span style=\"color: #ff00ff; text-decoration-color: #ff00ff; font-weight: bold\">matplotlib.legend.Legend</span><span style=\"color: #000000; text-decoration-color: #000000\"> object at </span><span style=\"color: #008080; text-decoration-color: #008080; font-weight: bold\">0x15a981730</span><span style=\"font-weight: bold\">&gt;</span>\n",
       "</pre>\n"
      ],
      "text/plain": [
       "\u001b[1m<\u001b[0m\u001b[1;95mmatplotlib.legend.Legend\u001b[0m\u001b[39m object at \u001b[0m\u001b[1;36m0x15a981730\u001b[0m\u001b[1m>\u001b[0m\n"
      ]
     },
     "metadata": {},
     "output_type": "display_data"
    },
    {
     "data": {
      "image/png": "[encoded data removed]"
     },
     "metadata": {
      "needs_background": "light"
     },
     "output_type": "display_data"
    }
   ],
   "source": [
    "recalls = []\n",
    "precisions = []\n",
    "\n",
    "files_dir = f\"/Users/thomasathey/Documents/mimlab/mouselight/ailey/soma_detection/brain{brain}/{channel}/test/\"\n",
    "onlyfiles = [f for f in listdir(files_dir) if isfile(join(files_dir, f))]\n",
    "#test_files = [f for f in onlyfiles if f[:4] == \"test\"]\n",
    "test_files = [f for f in onlyfiles if \"Probabilities\" in f] #\"probabilities\"\n",
    "print(test_files)\n",
    "\n",
    "size_thresh = 500\n",
    "\n",
    "for threshold in np.arange(0.02,1.0,0.02):\n",
    "    tot_pos = 0\n",
    "    true_pos = 0\n",
    "    false_pos = 0\n",
    "    for filename in tqdm(test_files, disable=True):\n",
    "        if filename == \"3972_1636_1575_pos_Probabilities.h5\":\n",
    "            newpos = 2\n",
    "        else:\n",
    "            newpos = 1\n",
    "\n",
    "        fname = files_dir + filename\n",
    "        f = h5py.File(fname, \"r\")\n",
    "        pred = f.get(\"exported_data\")\n",
    "        pred = pred[0,:,:,:]\n",
    "        mask = pred>threshold\n",
    "        labels = measure.label(mask)\n",
    "        props = measure.regionprops(labels)\n",
    "\n",
    "        if \"pos\" in filename: \n",
    "            num_detected = 0\n",
    "            tot_pos += newpos\n",
    "            for prop in props:\n",
    "                if prop[\"area\"] > size_thresh:\n",
    "                    if num_detected < newpos:\n",
    "                        true_pos += 1\n",
    "                        num_detected += 1\n",
    "                    else:\n",
    "                        false_pos += 1\n",
    "        elif \"neg\" in filename:\n",
    "            for prop in props:\n",
    "                if prop[\"area\"] > size_thresh:\n",
    "                    false_pos += 1\n",
    "\n",
    "    recall = true_pos/tot_pos\n",
    "    recalls.append(recall)\n",
    "    if true_pos + false_pos == 0:\n",
    "        precision = 0\n",
    "    else:\n",
    "        precision = true_pos/(true_pos + false_pos)\n",
    "    precisions.append(precision)\n",
    "    if precision == 0 and recall == 0:\n",
    "        fscore = 0\n",
    "    else:\n",
    "        fscore = 2*precision*recall/(precision+recall)\n",
    "    print(f\"threshold: {threshold}: precision: {precision}, recall: {recall}, f-score: {fscore} for {tot_pos} positive samples in {len(test_files)} images\")\n",
    "\n",
    "fscores = [2*precision*recall/(precision+recall) if (precision != 0 and recall != 0) else 0 for precision,recall in zip(precisions, recalls) ]\n",
    "idx = np.argmax(fscores)\n",
    "best_threshold = np.arange(0.02,1.0,0.02)[idx]\n",
    "plt.plot(recalls, precisions, c='b')\n",
    "plt.scatter(recalls[idx], precisions[idx], c='r', label=f\"Max f-score: {fscores[idx]:.2f} thresh:{best_threshold:.2f}\")\n",
    "plt.xlabel(\"recall\")\n",
    "plt.ylabel(\"precision\")\n",
    "plt.title(\"Soma Detector Accuracy\")\n",
    "plt.legend()"
   ]
  },
  {
   "cell_type": "code",
   "execution_count": 41,
   "metadata": {},
   "outputs": [
    {
     "name": "stdout",
     "output_type": "stream",
     "text": [
      "*************File: 2224_2264_1454_neg_Probabilities.h5*********\n",
      "*************File: 2662_1080_1523_pos_Probabilities.h5*********\n",
      "area of detected object: 1508\n",
      "*************File: 4048_3907_1446_neg_Probabilities.h5*********\n",
      "*************File: 4029_1626_1579_pos_Probabilities.h5*********\n",
      "area of detected object: 1582\n",
      "*************File: 1006_1750_1516_neg_Probabilities.h5*********\n",
      "Nonsoma false positive Area: 1492\n",
      "*************File: 2930_2955_1446_neg_Probabilities.h5*********\n",
      "*************File: 4195_1115_1501_neg_Probabilities.h5*********\n",
      "*************File: 1510_3041_1469_pos_Probabilities.h5*********\n",
      "Soma false negative\n",
      "*************File: 3912_1582_1573_pos_Probabilities.h5*********\n",
      "area of detected object: 2392\n",
      "*************File: 1351_2902_1471_pos_Probabilities.h5*********\n",
      "area of detected object: 1153\n",
      "*************File: 2537_1115_1469_pos_Probabilities.h5*********\n",
      "area of detected object: 1041\n",
      "*************File: 3093_5162_1470_neg_Probabilities.h5*********\n",
      "*************File: 231_3921_1488_neg_Probabilities.h5*********\n",
      "*************File: 856_2503_1516_neg_Probabilities.h5*********\n",
      "*************File: 3815_1166_1501_neg_Probabilities.h5*********\n",
      "*************File: 2720_1256_1566_pos_Probabilities.h5*********\n",
      "area of detected object: 1519\n",
      "*************File: 3923_1490_1574_pos_Probabilities.h5*********\n",
      "area of detected object: 2007\n",
      "*************File: 3485_1350_1576_pos_Probabilities.h5*********\n",
      "area of detected object: 1503\n",
      "*************File: 3615_1540_1508_neg_Probabilities.h5*********\n",
      "*************File: 3972_1636_1575_pos_Probabilities.h5*********\n",
      "area of detected object: 1355\n",
      "area of detected object: 1914\n"
     ]
    }
   ],
   "source": [
    "for filename in tqdm(test_files, disable=True):\n",
    "    print(f\"*************File: {filename}*********\")\n",
    "    if filename == \"3972_1636_1575_pos_Probabilities.h5\":\n",
    "        newpos = 2\n",
    "    else:\n",
    "        newpos = 1\n",
    "\n",
    "    im_fname = files_dir + filename[:-17] + \".h5\"\n",
    "    fname = files_dir + filename\n",
    "    f = h5py.File(fname, \"r\")\n",
    "    pred = f.get(\"exported_data\")\n",
    "    pred = pred[0,:,:,:]\n",
    "    mask = pred>best_threshold\n",
    "    labels = measure.label(mask)\n",
    "    props = measure.regionprops(labels)\n",
    "\n",
    "    if \"pos\" in filename: \n",
    "        num_detected = 0\n",
    "        tot_pos += newpos\n",
    "        for prop in props:\n",
    "            area = prop[\"area\"]\n",
    "            if area > size_thresh:\n",
    "                print(f\"area of detected object: {area}\")\n",
    "                if num_detected < newpos:\n",
    "                    true_pos += 1\n",
    "                    num_detected += 1\n",
    "                else:\n",
    "                    print(f\"Soma false positive Area: {area}\")\n",
    "                    f = h5py.File(im_fname, \"r\")\n",
    "                    im = f.get(\"image_3channel\")\n",
    "                    viewer = napari.Viewer(ndisplay=3)\n",
    "                    viewer.add_image(im[0,:,:,:])\n",
    "                    viewer.add_image(im[1,:,:,:])\n",
    "                    viewer.add_image(im[2,:,:,:])\n",
    "                    viewer.add_labels(mask)\n",
    "                    viewer.add_labels(labels == prop[\"label\"], name=f\"soma false positive area: {area}\")\n",
    "                    false_pos += 1\n",
    "        if num_detected == 0:\n",
    "            print(f\"Soma false negative\")\n",
    "            f = h5py.File(im_fname, \"r\")\n",
    "            im = f.get(\"image_3channel\")\n",
    "            viewer = napari.Viewer(ndisplay=3)\n",
    "            viewer.add_image(im[0,:,:,:])\n",
    "            viewer.add_image(im[1,:,:,:])\n",
    "            viewer.add_image(im[2,:,:,:])\n",
    "            viewer.add_labels(mask, name=\"Soma false negative\")\n",
    "    elif \"neg\" in filename:\n",
    "        for prop in props:\n",
    "            area = prop[\"area\"]\n",
    "            if area > size_thresh:\n",
    "                print(f\"Nonsoma false positive Area: {area}\")\n",
    "                f = h5py.File(im_fname, \"r\")\n",
    "                im = f.get(\"image_3channel\")\n",
    "                viewer = napari.Viewer(ndisplay=3)\n",
    "                viewer.add_image(im[0,:,:,:])\n",
    "                viewer.add_image(im[1,:,:,:])\n",
    "                viewer.add_image(im[2,:,:,:])\n",
    "                viewer.add_labels(mask)\n",
    "                viewer.add_labels(labels == prop[\"label\"], name=f\"nonsoma false positive area: {area}\")\n",
    "                false_pos += 1"
   ]
  },
  {
   "cell_type": "code",
   "execution_count": null,
   "metadata": {},
   "outputs": [],
   "source": [
    "best_threshold"
   ]
  },
  {
   "cell_type": "markdown",
   "metadata": {},
   "source": [
    "## make point layer - ?????"
   ]
  },
  {
   "cell_type": "code",
   "execution_count": null,
   "metadata": {},
   "outputs": [],
   "source": [
    "\n",
    "point_path = \"precomputed://https://dlab-colm.neurodata.io/2021_10_06/8557/point_preds\"\n",
    "info = CloudVolume.create_new_info(\n",
    "    num_channels    = 1,\n",
    "    layer_type      = 'segmentation',\n",
    "    data_type       = 'uint64', # Channel images might be 'uint8'\n",
    "    # raw, jpeg, compressed_segmentation, fpzip, kempressed, compresso\n",
    "    encoding        = 'raw', \n",
    "    resolution      = [4, 4, 40], # Voxel scaling, units are in nanometers\n",
    "    voxel_offset    = [0, 0, 0], # x,y,z offset in voxels from the origin\n",
    "    mesh            = 'mesh',\n",
    "    # Pick a convenient size for your underlying chunk representation\n",
    "    # Powers of two are recommended, doesn't need to cover image exactly\n",
    "    chunk_size      = [ 512, 512, 16 ], # units are voxels\n",
    "    volume_size     = [ 250000, 250000, 25000 ], # e.g. a cubic millimeter dataset\n",
    ")\n",
    "vol = CloudVolume(point_path, info=info)\n",
    "vol.commit_info()"
   ]
  },
  {
   "cell_type": "code",
   "execution_count": null,
   "metadata": {},
   "outputs": [],
   "source": [
    "new_somas = []\n",
    "for soma in somas:\n",
    "    if soma[2] <= 3000:\n",
    "        new_somas.append(soma)\n",
    "len(new_somas)"
   ]
  },
  {
   "cell_type": "code",
   "execution_count": null,
   "metadata": {},
   "outputs": [],
   "source": [
    "soma_ra = np.array(new_somas)\n",
    "plt.hist(soma_ra[:,2])"
   ]
  },
  {
   "cell_type": "code",
   "execution_count": 2,
   "metadata": {},
   "outputs": [
    {
     "name": "stdout",
     "output_type": "stream",
     "text": [
      "Reading <File-like object HTTPFileSystem, https://download.brainimagelibrary.org/df/75/df75626840c76c15/mouseID_362188-191815/CH1_0.35_100um//191815_00001_CH1.tif> \n",
      "\n"
     ]
    },
    {
     "name": "stderr",
     "output_type": "stream",
     "text": [
      "Traceback (most recent call last):\n",
      "  File \"/Users/thomasathey/Documents/mimlab/mouselight/docs_env/lib/python3.8/site-packages/magicgui/widgets/_bases/value_widget.py\", line 59, in _on_value_change\n",
      "    self.changed.emit(value)\n",
      "  File \"psygnal/_signal.py\", line 612, in psygnal._signal.SignalInstance.emit\n",
      "  File \"/Users/thomasathey/Documents/mimlab/mouselight/docs_env/lib/python3.8/site-packages/magicgui/events.py\", line 83, in _run_emit_loop\n",
      "    cb(*args[:max_args])\n",
      "  File \"/Users/thomasathey/Documents/mimlab/mouselight/docs_env/lib/python3.8/site-packages/magicgui/widgets/_function_gui.py\", line 188, in _disable_button_and_call\n",
      "    self.__call__()\n",
      "  File \"/Users/thomasathey/Documents/mimlab/mouselight/docs_env/lib/python3.8/site-packages/magicgui/widgets/_function_gui.py\", line 285, in __call__\n",
      "    value = self._function(*bound.args, **bound.kwargs)\n",
      "  File \"/Users/thomasathey/Documents/mimlab/mouselight/docs_env/lib/python3.8/site-packages/napari_bil_data_viewer/bil_data_loader_widget.py\", line 71, in load_bil_data\n",
      "    sampleImage = getImage(ii[0])\n",
      "  File \"/Users/thomasathey/Documents/mimlab/mouselight/docs_env/lib/python3.8/site-packages/napari_bil_data_viewer/bil_data_loader_widget.py\", line 59, in getImage\n",
      "    return io.imread(f)\n",
      "  File \"/Users/thomasathey/Documents/mimlab/mouselight/docs_env/lib/python3.8/site-packages/skimage/io/_io.py\", line 48, in imread\n",
      "    img = call_plugin('imread', fname, plugin=plugin, **plugin_args)\n",
      "  File \"/Users/thomasathey/Documents/mimlab/mouselight/docs_env/lib/python3.8/site-packages/skimage/io/manage_plugins.py\", line 207, in call_plugin\n",
      "    return func(*args, **kwargs)\n",
      "  File \"/Users/thomasathey/Documents/mimlab/mouselight/docs_env/lib/python3.8/site-packages/skimage/io/_plugins/imageio_plugin.py\", line 10, in imread\n",
      "    return np.asarray(imageio_imread(*args, **kwargs))\n",
      "  File \"/Users/thomasathey/Documents/mimlab/mouselight/docs_env/lib/python3.8/site-packages/imageio/core/functions.py\", line 265, in imread\n",
      "    reader = read(uri, format, \"i\", **kwargs)\n",
      "  File \"/Users/thomasathey/Documents/mimlab/mouselight/docs_env/lib/python3.8/site-packages/imageio/core/functions.py\", line 186, in get_reader\n",
      "    return format.get_reader(request)\n",
      "  File \"/Users/thomasathey/Documents/mimlab/mouselight/docs_env/lib/python3.8/site-packages/imageio/core/format.py\", line 170, in get_reader\n",
      "    return self.Reader(self, request)\n",
      "  File \"/Users/thomasathey/Documents/mimlab/mouselight/docs_env/lib/python3.8/site-packages/imageio/core/format.py\", line 221, in __init__\n",
      "    self._open(**self.request.kwargs.copy())\n",
      "  File \"/Users/thomasathey/Documents/mimlab/mouselight/docs_env/lib/python3.8/site-packages/imageio/plugins/pillow.py\", line 127, in _open\n",
      "    Image._decompression_bomb_check(self._im.size)\n",
      "  File \"/Users/thomasathey/Documents/mimlab/mouselight/docs_env/lib/python3.8/site-packages/PIL/Image.py\", line 2905, in _decompression_bomb_check\n",
      "    raise DecompressionBombError(\n",
      "PIL.Image.DecompressionBombError: Image size (556323868 pixels) exceeds limit of 178956970 pixels, could be decompression bomb DOS attack.\n"
     ]
    },
    {
     "name": "stdout",
     "output_type": "stream",
     "text": [
      "Reading <File-like object HTTPFileSystem, https://download.brainimagelibrary.org/df/75/df75626840c76c15/mouseID_362188-191815/CH1_0.35_100um//191815_00001_CH1.tif> \n",
      "\n"
     ]
    },
    {
     "name": "stderr",
     "output_type": "stream",
     "text": [
      "Traceback (most recent call last):\n",
      "  File \"/Users/thomasathey/Documents/mimlab/mouselight/docs_env/lib/python3.8/site-packages/magicgui/widgets/_bases/value_widget.py\", line 59, in _on_value_change\n",
      "    self.changed.emit(value)\n",
      "  File \"psygnal/_signal.py\", line 612, in psygnal._signal.SignalInstance.emit\n",
      "  File \"/Users/thomasathey/Documents/mimlab/mouselight/docs_env/lib/python3.8/site-packages/magicgui/events.py\", line 83, in _run_emit_loop\n",
      "    cb(*args[:max_args])\n",
      "  File \"/Users/thomasathey/Documents/mimlab/mouselight/docs_env/lib/python3.8/site-packages/magicgui/widgets/_function_gui.py\", line 188, in _disable_button_and_call\n",
      "    self.__call__()\n",
      "  File \"/Users/thomasathey/Documents/mimlab/mouselight/docs_env/lib/python3.8/site-packages/magicgui/widgets/_function_gui.py\", line 285, in __call__\n",
      "    value = self._function(*bound.args, **bound.kwargs)\n",
      "  File \"/Users/thomasathey/Documents/mimlab/mouselight/docs_env/lib/python3.8/site-packages/napari_bil_data_viewer/bil_data_loader_widget.py\", line 71, in load_bil_data\n",
      "    sampleImage = getImage(ii[0])\n",
      "  File \"/Users/thomasathey/Documents/mimlab/mouselight/docs_env/lib/python3.8/site-packages/napari_bil_data_viewer/bil_data_loader_widget.py\", line 59, in getImage\n",
      "    return io.imread(f)\n",
      "  File \"/Users/thomasathey/Documents/mimlab/mouselight/docs_env/lib/python3.8/site-packages/skimage/io/_io.py\", line 48, in imread\n",
      "    img = call_plugin('imread', fname, plugin=plugin, **plugin_args)\n",
      "  File \"/Users/thomasathey/Documents/mimlab/mouselight/docs_env/lib/python3.8/site-packages/skimage/io/manage_plugins.py\", line 207, in call_plugin\n",
      "    return func(*args, **kwargs)\n",
      "  File \"/Users/thomasathey/Documents/mimlab/mouselight/docs_env/lib/python3.8/site-packages/skimage/io/_plugins/imageio_plugin.py\", line 10, in imread\n",
      "    return np.asarray(imageio_imread(*args, **kwargs))\n",
      "  File \"/Users/thomasathey/Documents/mimlab/mouselight/docs_env/lib/python3.8/site-packages/imageio/core/functions.py\", line 265, in imread\n",
      "    reader = read(uri, format, \"i\", **kwargs)\n",
      "  File \"/Users/thomasathey/Documents/mimlab/mouselight/docs_env/lib/python3.8/site-packages/imageio/core/functions.py\", line 186, in get_reader\n",
      "    return format.get_reader(request)\n",
      "  File \"/Users/thomasathey/Documents/mimlab/mouselight/docs_env/lib/python3.8/site-packages/imageio/core/format.py\", line 170, in get_reader\n",
      "    return self.Reader(self, request)\n",
      "  File \"/Users/thomasathey/Documents/mimlab/mouselight/docs_env/lib/python3.8/site-packages/imageio/core/format.py\", line 221, in __init__\n",
      "    self._open(**self.request.kwargs.copy())\n",
      "  File \"/Users/thomasathey/Documents/mimlab/mouselight/docs_env/lib/python3.8/site-packages/imageio/plugins/pillow.py\", line 127, in _open\n",
      "    Image._decompression_bomb_check(self._im.size)\n",
      "  File \"/Users/thomasathey/Documents/mimlab/mouselight/docs_env/lib/python3.8/site-packages/PIL/Image.py\", line 2905, in _decompression_bomb_check\n",
      "    raise DecompressionBombError(\n",
      "PIL.Image.DecompressionBombError: Image size (556323868 pixels) exceeds limit of 178956970 pixels, could be decompression bomb DOS attack.\n"
     ]
    },
    {
     "name": "stdout",
     "output_type": "stream",
     "text": [
      "Reading <File-like object HTTPFileSystem, https://download.brainimagelibrary.org/df/75/df75626840c76c15/mouseID_380470-191812/CH1_0.35_100um//191812_00001_CH1.tif> \n",
      "\n"
     ]
    },
    {
     "name": "stderr",
     "output_type": "stream",
     "text": [
      "Traceback (most recent call last):\n",
      "  File \"/Users/thomasathey/Documents/mimlab/mouselight/docs_env/lib/python3.8/site-packages/magicgui/widgets/_bases/value_widget.py\", line 59, in _on_value_change\n",
      "    self.changed.emit(value)\n",
      "  File \"psygnal/_signal.py\", line 612, in psygnal._signal.SignalInstance.emit\n",
      "  File \"/Users/thomasathey/Documents/mimlab/mouselight/docs_env/lib/python3.8/site-packages/magicgui/events.py\", line 83, in _run_emit_loop\n",
      "    cb(*args[:max_args])\n",
      "  File \"/Users/thomasathey/Documents/mimlab/mouselight/docs_env/lib/python3.8/site-packages/magicgui/widgets/_function_gui.py\", line 188, in _disable_button_and_call\n",
      "    self.__call__()\n",
      "  File \"/Users/thomasathey/Documents/mimlab/mouselight/docs_env/lib/python3.8/site-packages/magicgui/widgets/_function_gui.py\", line 285, in __call__\n",
      "    value = self._function(*bound.args, **bound.kwargs)\n",
      "  File \"/Users/thomasathey/Documents/mimlab/mouselight/docs_env/lib/python3.8/site-packages/napari_bil_data_viewer/bil_data_loader_widget.py\", line 71, in load_bil_data\n",
      "    sampleImage = getImage(ii[0])\n",
      "  File \"/Users/thomasathey/Documents/mimlab/mouselight/docs_env/lib/python3.8/site-packages/napari_bil_data_viewer/bil_data_loader_widget.py\", line 59, in getImage\n",
      "    return io.imread(f)\n",
      "  File \"/Users/thomasathey/Documents/mimlab/mouselight/docs_env/lib/python3.8/site-packages/skimage/io/_io.py\", line 48, in imread\n",
      "    img = call_plugin('imread', fname, plugin=plugin, **plugin_args)\n",
      "  File \"/Users/thomasathey/Documents/mimlab/mouselight/docs_env/lib/python3.8/site-packages/skimage/io/manage_plugins.py\", line 207, in call_plugin\n",
      "    return func(*args, **kwargs)\n",
      "  File \"/Users/thomasathey/Documents/mimlab/mouselight/docs_env/lib/python3.8/site-packages/skimage/io/_plugins/imageio_plugin.py\", line 10, in imread\n",
      "    return np.asarray(imageio_imread(*args, **kwargs))\n",
      "  File \"/Users/thomasathey/Documents/mimlab/mouselight/docs_env/lib/python3.8/site-packages/imageio/core/functions.py\", line 265, in imread\n",
      "    reader = read(uri, format, \"i\", **kwargs)\n",
      "  File \"/Users/thomasathey/Documents/mimlab/mouselight/docs_env/lib/python3.8/site-packages/imageio/core/functions.py\", line 186, in get_reader\n",
      "    return format.get_reader(request)\n",
      "  File \"/Users/thomasathey/Documents/mimlab/mouselight/docs_env/lib/python3.8/site-packages/imageio/core/format.py\", line 170, in get_reader\n",
      "    return self.Reader(self, request)\n",
      "  File \"/Users/thomasathey/Documents/mimlab/mouselight/docs_env/lib/python3.8/site-packages/imageio/core/format.py\", line 221, in __init__\n",
      "    self._open(**self.request.kwargs.copy())\n",
      "  File \"/Users/thomasathey/Documents/mimlab/mouselight/docs_env/lib/python3.8/site-packages/imageio/plugins/pillow.py\", line 127, in _open\n",
      "    Image._decompression_bomb_check(self._im.size)\n",
      "  File \"/Users/thomasathey/Documents/mimlab/mouselight/docs_env/lib/python3.8/site-packages/PIL/Image.py\", line 2905, in _decompression_bomb_check\n",
      "    raise DecompressionBombError(\n",
      "PIL.Image.DecompressionBombError: Image size (582477711 pixels) exceeds limit of 178956970 pixels, could be decompression bomb DOS attack.\n"
     ]
    },
    {
     "name": "stdout",
     "output_type": "stream",
     "text": [
      "Reading <File-like object HTTPFileSystem, https://download.brainimagelibrary.org/df/75/df75626840c76c15/mouseID_380471-191813/CH1_0.35_100um//191813_00001_CH1.tif> \n",
      "\n"
     ]
    },
    {
     "name": "stderr",
     "output_type": "stream",
     "text": [
      "Traceback (most recent call last):\n",
      "  File \"/Users/thomasathey/Documents/mimlab/mouselight/docs_env/lib/python3.8/site-packages/magicgui/widgets/_bases/value_widget.py\", line 59, in _on_value_change\n",
      "    self.changed.emit(value)\n",
      "  File \"psygnal/_signal.py\", line 612, in psygnal._signal.SignalInstance.emit\n",
      "  File \"/Users/thomasathey/Documents/mimlab/mouselight/docs_env/lib/python3.8/site-packages/magicgui/events.py\", line 83, in _run_emit_loop\n",
      "    cb(*args[:max_args])\n",
      "  File \"/Users/thomasathey/Documents/mimlab/mouselight/docs_env/lib/python3.8/site-packages/magicgui/widgets/_function_gui.py\", line 188, in _disable_button_and_call\n",
      "    self.__call__()\n",
      "  File \"/Users/thomasathey/Documents/mimlab/mouselight/docs_env/lib/python3.8/site-packages/magicgui/widgets/_function_gui.py\", line 285, in __call__\n",
      "    value = self._function(*bound.args, **bound.kwargs)\n",
      "  File \"/Users/thomasathey/Documents/mimlab/mouselight/docs_env/lib/python3.8/site-packages/napari_bil_data_viewer/bil_data_loader_widget.py\", line 71, in load_bil_data\n",
      "    sampleImage = getImage(ii[0])\n",
      "  File \"/Users/thomasathey/Documents/mimlab/mouselight/docs_env/lib/python3.8/site-packages/napari_bil_data_viewer/bil_data_loader_widget.py\", line 59, in getImage\n",
      "    return io.imread(f)\n",
      "  File \"/Users/thomasathey/Documents/mimlab/mouselight/docs_env/lib/python3.8/site-packages/skimage/io/_io.py\", line 48, in imread\n",
      "    img = call_plugin('imread', fname, plugin=plugin, **plugin_args)\n",
      "  File \"/Users/thomasathey/Documents/mimlab/mouselight/docs_env/lib/python3.8/site-packages/skimage/io/manage_plugins.py\", line 207, in call_plugin\n",
      "    return func(*args, **kwargs)\n",
      "  File \"/Users/thomasathey/Documents/mimlab/mouselight/docs_env/lib/python3.8/site-packages/skimage/io/_plugins/imageio_plugin.py\", line 10, in imread\n",
      "    return np.asarray(imageio_imread(*args, **kwargs))\n",
      "  File \"/Users/thomasathey/Documents/mimlab/mouselight/docs_env/lib/python3.8/site-packages/imageio/core/functions.py\", line 265, in imread\n",
      "    reader = read(uri, format, \"i\", **kwargs)\n",
      "  File \"/Users/thomasathey/Documents/mimlab/mouselight/docs_env/lib/python3.8/site-packages/imageio/core/functions.py\", line 186, in get_reader\n",
      "    return format.get_reader(request)\n",
      "  File \"/Users/thomasathey/Documents/mimlab/mouselight/docs_env/lib/python3.8/site-packages/imageio/core/format.py\", line 170, in get_reader\n",
      "    return self.Reader(self, request)\n",
      "  File \"/Users/thomasathey/Documents/mimlab/mouselight/docs_env/lib/python3.8/site-packages/imageio/core/format.py\", line 221, in __init__\n",
      "    self._open(**self.request.kwargs.copy())\n",
      "  File \"/Users/thomasathey/Documents/mimlab/mouselight/docs_env/lib/python3.8/site-packages/imageio/plugins/pillow.py\", line 127, in _open\n",
      "    Image._decompression_bomb_check(self._im.size)\n",
      "  File \"/Users/thomasathey/Documents/mimlab/mouselight/docs_env/lib/python3.8/site-packages/PIL/Image.py\", line 2905, in _decompression_bomb_check\n",
      "    raise DecompressionBombError(\n",
      "PIL.Image.DecompressionBombError: Image size (610783830 pixels) exceeds limit of 178956970 pixels, could be decompression bomb DOS attack.\n"
     ]
    },
    {
     "name": "stdout",
     "output_type": "stream",
     "text": [
      "Reading <File-like object HTTPFileSystem, https://download.brainimagelibrary.org/df/75/df75626840c76c15/mouseID_380471-191813/CH1_0.35_100um//191813_00001_CH1.tif> \n",
      "\n"
     ]
    },
    {
     "name": "stderr",
     "output_type": "stream",
     "text": [
      "Traceback (most recent call last):\n",
      "  File \"/Users/thomasathey/Documents/mimlab/mouselight/docs_env/lib/python3.8/site-packages/magicgui/widgets/_bases/value_widget.py\", line 59, in _on_value_change\n",
      "    self.changed.emit(value)\n",
      "  File \"psygnal/_signal.py\", line 612, in psygnal._signal.SignalInstance.emit\n",
      "  File \"/Users/thomasathey/Documents/mimlab/mouselight/docs_env/lib/python3.8/site-packages/magicgui/events.py\", line 83, in _run_emit_loop\n",
      "    cb(*args[:max_args])\n",
      "  File \"/Users/thomasathey/Documents/mimlab/mouselight/docs_env/lib/python3.8/site-packages/magicgui/widgets/_function_gui.py\", line 188, in _disable_button_and_call\n",
      "    self.__call__()\n",
      "  File \"/Users/thomasathey/Documents/mimlab/mouselight/docs_env/lib/python3.8/site-packages/magicgui/widgets/_function_gui.py\", line 285, in __call__\n",
      "    value = self._function(*bound.args, **bound.kwargs)\n",
      "  File \"/Users/thomasathey/Documents/mimlab/mouselight/docs_env/lib/python3.8/site-packages/napari_bil_data_viewer/bil_data_loader_widget.py\", line 71, in load_bil_data\n",
      "    sampleImage = getImage(ii[0])\n",
      "  File \"/Users/thomasathey/Documents/mimlab/mouselight/docs_env/lib/python3.8/site-packages/napari_bil_data_viewer/bil_data_loader_widget.py\", line 59, in getImage\n",
      "    return io.imread(f)\n",
      "  File \"/Users/thomasathey/Documents/mimlab/mouselight/docs_env/lib/python3.8/site-packages/skimage/io/_io.py\", line 48, in imread\n",
      "    img = call_plugin('imread', fname, plugin=plugin, **plugin_args)\n",
      "  File \"/Users/thomasathey/Documents/mimlab/mouselight/docs_env/lib/python3.8/site-packages/skimage/io/manage_plugins.py\", line 207, in call_plugin\n",
      "    return func(*args, **kwargs)\n",
      "  File \"/Users/thomasathey/Documents/mimlab/mouselight/docs_env/lib/python3.8/site-packages/skimage/io/_plugins/imageio_plugin.py\", line 10, in imread\n",
      "    return np.asarray(imageio_imread(*args, **kwargs))\n",
      "  File \"/Users/thomasathey/Documents/mimlab/mouselight/docs_env/lib/python3.8/site-packages/imageio/core/functions.py\", line 265, in imread\n",
      "    reader = read(uri, format, \"i\", **kwargs)\n",
      "  File \"/Users/thomasathey/Documents/mimlab/mouselight/docs_env/lib/python3.8/site-packages/imageio/core/functions.py\", line 186, in get_reader\n",
      "    return format.get_reader(request)\n",
      "  File \"/Users/thomasathey/Documents/mimlab/mouselight/docs_env/lib/python3.8/site-packages/imageio/core/format.py\", line 170, in get_reader\n",
      "    return self.Reader(self, request)\n",
      "  File \"/Users/thomasathey/Documents/mimlab/mouselight/docs_env/lib/python3.8/site-packages/imageio/core/format.py\", line 221, in __init__\n",
      "    self._open(**self.request.kwargs.copy())\n",
      "  File \"/Users/thomasathey/Documents/mimlab/mouselight/docs_env/lib/python3.8/site-packages/imageio/plugins/pillow.py\", line 127, in _open\n",
      "    Image._decompression_bomb_check(self._im.size)\n",
      "  File \"/Users/thomasathey/Documents/mimlab/mouselight/docs_env/lib/python3.8/site-packages/PIL/Image.py\", line 2905, in _decompression_bomb_check\n",
      "    raise DecompressionBombError(\n",
      "PIL.Image.DecompressionBombError: Image size (610783830 pixels) exceeds limit of 178956970 pixels, could be decompression bomb DOS attack.\n"
     ]
    },
    {
     "name": "stdout",
     "output_type": "stream",
     "text": [
      "Reading <File-like object HTTPFileSystem, https://download.brainimagelibrary.org/df/75/df75626840c76c15/mouseID_443055-191805/CH1_0.35_100um//191805_00001_CH1.tif> \n",
      "\n"
     ]
    },
    {
     "name": "stderr",
     "output_type": "stream",
     "text": [
      "Traceback (most recent call last):\n",
      "  File \"/Users/thomasathey/Documents/mimlab/mouselight/docs_env/lib/python3.8/site-packages/magicgui/widgets/_bases/value_widget.py\", line 59, in _on_value_change\n",
      "    self.changed.emit(value)\n",
      "  File \"psygnal/_signal.py\", line 612, in psygnal._signal.SignalInstance.emit\n",
      "  File \"/Users/thomasathey/Documents/mimlab/mouselight/docs_env/lib/python3.8/site-packages/magicgui/events.py\", line 83, in _run_emit_loop\n",
      "    cb(*args[:max_args])\n",
      "  File \"/Users/thomasathey/Documents/mimlab/mouselight/docs_env/lib/python3.8/site-packages/magicgui/widgets/_function_gui.py\", line 188, in _disable_button_and_call\n",
      "    self.__call__()\n",
      "  File \"/Users/thomasathey/Documents/mimlab/mouselight/docs_env/lib/python3.8/site-packages/magicgui/widgets/_function_gui.py\", line 285, in __call__\n",
      "    value = self._function(*bound.args, **bound.kwargs)\n",
      "  File \"/Users/thomasathey/Documents/mimlab/mouselight/docs_env/lib/python3.8/site-packages/napari_bil_data_viewer/bil_data_loader_widget.py\", line 71, in load_bil_data\n",
      "    sampleImage = getImage(ii[0])\n",
      "  File \"/Users/thomasathey/Documents/mimlab/mouselight/docs_env/lib/python3.8/site-packages/napari_bil_data_viewer/bil_data_loader_widget.py\", line 59, in getImage\n",
      "    return io.imread(f)\n",
      "  File \"/Users/thomasathey/Documents/mimlab/mouselight/docs_env/lib/python3.8/site-packages/skimage/io/_io.py\", line 48, in imread\n",
      "    img = call_plugin('imread', fname, plugin=plugin, **plugin_args)\n",
      "  File \"/Users/thomasathey/Documents/mimlab/mouselight/docs_env/lib/python3.8/site-packages/skimage/io/manage_plugins.py\", line 207, in call_plugin\n",
      "    return func(*args, **kwargs)\n",
      "  File \"/Users/thomasathey/Documents/mimlab/mouselight/docs_env/lib/python3.8/site-packages/skimage/io/_plugins/imageio_plugin.py\", line 10, in imread\n",
      "    return np.asarray(imageio_imread(*args, **kwargs))\n",
      "  File \"/Users/thomasathey/Documents/mimlab/mouselight/docs_env/lib/python3.8/site-packages/imageio/core/functions.py\", line 265, in imread\n",
      "    reader = read(uri, format, \"i\", **kwargs)\n",
      "  File \"/Users/thomasathey/Documents/mimlab/mouselight/docs_env/lib/python3.8/site-packages/imageio/core/functions.py\", line 186, in get_reader\n",
      "    return format.get_reader(request)\n",
      "  File \"/Users/thomasathey/Documents/mimlab/mouselight/docs_env/lib/python3.8/site-packages/imageio/core/format.py\", line 170, in get_reader\n",
      "    return self.Reader(self, request)\n",
      "  File \"/Users/thomasathey/Documents/mimlab/mouselight/docs_env/lib/python3.8/site-packages/imageio/core/format.py\", line 221, in __init__\n",
      "    self._open(**self.request.kwargs.copy())\n",
      "  File \"/Users/thomasathey/Documents/mimlab/mouselight/docs_env/lib/python3.8/site-packages/imageio/plugins/pillow.py\", line 127, in _open\n",
      "    Image._decompression_bomb_check(self._im.size)\n",
      "  File \"/Users/thomasathey/Documents/mimlab/mouselight/docs_env/lib/python3.8/site-packages/PIL/Image.py\", line 2905, in _decompression_bomb_check\n",
      "    raise DecompressionBombError(\n",
      "PIL.Image.DecompressionBombError: Image size (548165397 pixels) exceeds limit of 178956970 pixels, could be decompression bomb DOS attack.\n"
     ]
    },
    {
     "name": "stdout",
     "output_type": "stream",
     "text": [
      "Reading <File-like object HTTPFileSystem, https://download.brainimagelibrary.org/df/75/df75626840c76c15/mouseID_443055-191805/CH1_0.35_100um//191805_00001_CH1.tif> \n",
      "\n"
     ]
    },
    {
     "name": "stderr",
     "output_type": "stream",
     "text": [
      "Traceback (most recent call last):\n",
      "  File \"/Users/thomasathey/Documents/mimlab/mouselight/docs_env/lib/python3.8/site-packages/magicgui/widgets/_bases/value_widget.py\", line 59, in _on_value_change\n",
      "    self.changed.emit(value)\n",
      "  File \"psygnal/_signal.py\", line 612, in psygnal._signal.SignalInstance.emit\n",
      "  File \"/Users/thomasathey/Documents/mimlab/mouselight/docs_env/lib/python3.8/site-packages/magicgui/events.py\", line 83, in _run_emit_loop\n",
      "    cb(*args[:max_args])\n",
      "  File \"/Users/thomasathey/Documents/mimlab/mouselight/docs_env/lib/python3.8/site-packages/magicgui/widgets/_function_gui.py\", line 188, in _disable_button_and_call\n",
      "    self.__call__()\n",
      "  File \"/Users/thomasathey/Documents/mimlab/mouselight/docs_env/lib/python3.8/site-packages/magicgui/widgets/_function_gui.py\", line 285, in __call__\n",
      "    value = self._function(*bound.args, **bound.kwargs)\n",
      "  File \"/Users/thomasathey/Documents/mimlab/mouselight/docs_env/lib/python3.8/site-packages/napari_bil_data_viewer/bil_data_loader_widget.py\", line 71, in load_bil_data\n",
      "    sampleImage = getImage(ii[0])\n",
      "  File \"/Users/thomasathey/Documents/mimlab/mouselight/docs_env/lib/python3.8/site-packages/napari_bil_data_viewer/bil_data_loader_widget.py\", line 59, in getImage\n",
      "    return io.imread(f)\n",
      "  File \"/Users/thomasathey/Documents/mimlab/mouselight/docs_env/lib/python3.8/site-packages/skimage/io/_io.py\", line 48, in imread\n",
      "    img = call_plugin('imread', fname, plugin=plugin, **plugin_args)\n",
      "  File \"/Users/thomasathey/Documents/mimlab/mouselight/docs_env/lib/python3.8/site-packages/skimage/io/manage_plugins.py\", line 207, in call_plugin\n",
      "    return func(*args, **kwargs)\n",
      "  File \"/Users/thomasathey/Documents/mimlab/mouselight/docs_env/lib/python3.8/site-packages/skimage/io/_plugins/imageio_plugin.py\", line 10, in imread\n",
      "    return np.asarray(imageio_imread(*args, **kwargs))\n",
      "  File \"/Users/thomasathey/Documents/mimlab/mouselight/docs_env/lib/python3.8/site-packages/imageio/core/functions.py\", line 265, in imread\n",
      "    reader = read(uri, format, \"i\", **kwargs)\n",
      "  File \"/Users/thomasathey/Documents/mimlab/mouselight/docs_env/lib/python3.8/site-packages/imageio/core/functions.py\", line 186, in get_reader\n",
      "    return format.get_reader(request)\n",
      "  File \"/Users/thomasathey/Documents/mimlab/mouselight/docs_env/lib/python3.8/site-packages/imageio/core/format.py\", line 170, in get_reader\n",
      "    return self.Reader(self, request)\n",
      "  File \"/Users/thomasathey/Documents/mimlab/mouselight/docs_env/lib/python3.8/site-packages/imageio/core/format.py\", line 221, in __init__\n",
      "    self._open(**self.request.kwargs.copy())\n",
      "  File \"/Users/thomasathey/Documents/mimlab/mouselight/docs_env/lib/python3.8/site-packages/imageio/plugins/pillow.py\", line 127, in _open\n",
      "    Image._decompression_bomb_check(self._im.size)\n",
      "  File \"/Users/thomasathey/Documents/mimlab/mouselight/docs_env/lib/python3.8/site-packages/PIL/Image.py\", line 2905, in _decompression_bomb_check\n",
      "    raise DecompressionBombError(\n",
      "PIL.Image.DecompressionBombError: Image size (548165397 pixels) exceeds limit of 178956970 pixels, could be decompression bomb DOS attack.\n"
     ]
    }
   ],
   "source": [
    "import napari\n",
    "viewer = napari.Viewer(ndisplay=3)"
   ]
  },
  {
   "cell_type": "markdown",
   "metadata": {},
   "source": [
    "# Download slices"
   ]
  },
  {
   "cell_type": "code",
   "execution_count": null,
   "metadata": {},
   "outputs": [],
   "source": [
    "im_fg = vol_fg[3100:3500,4500:4900,1400:1800, 0]\n",
    "im_bg = vol_bg[3100:3500,4500:4900,1400:1800, 0]\n",
    "im_endo = vol_endo[3100:3500,4500:4900,1400:1800, 0]\n",
    "\n",
    "viewer = napari.Viewer(ndisplay=3)\n",
    "viewer.add_image(np.squeeze(im_fg))\n",
    "viewer.add_image(np.squeeze(im_bg))\n",
    "viewer.add_image(np.squeeze(im_endo))"
   ]
  },
  {
   "cell_type": "markdown",
   "metadata": {},
   "source": [
    "## Check ilastik"
   ]
  },
  {
   "cell_type": "code",
   "execution_count": null,
   "metadata": {},
   "outputs": [],
   "source": [
    "im_fg = vol_fg[3100:3500,4500:4900,1400:1800, 0]\n",
    "im_bg = vol_bg[3100:3500,4500:4900,1400:1800, 0]\n",
    "im_endo = vol_endo[3100:3500,4500:4900,1400:1800, 0]\n",
    "\n",
    "image = np.squeeze(np.stack([im_fg, im_bg, im_endo], axis=0))\n",
    "fname = \"/Users/thomasathey/Desktop/im.h5\"\n",
    "\n",
    "with h5py.File(fname, \"w\") as f:\n",
    "    dset = f.create_dataset(\"image_3channel\", data=image)\n",
    "\n",
    "subprocess.run([\"/Applications/ilastik-1.3.3post3-OSX.app/Contents/ilastik-release/run_ilastik.sh\", \"--headless\", \"--project=/Users/thomasathey/Documents/mimlab/mouselight/ailey/soma_detection/matt_soma_rabies_pix_3ch.ilp\", fname], stdout=subprocess.PIPE, stderr=subprocess.PIPE)\n",
    "\n"
   ]
  },
  {
   "cell_type": "code",
   "execution_count": null,
   "metadata": {},
   "outputs": [],
   "source": [
    "f = h5py.File(\"/Users/thomasathey/Desktop/im_Probabilities.h5\", \"r\")\n",
    "pred = f.get(\"exported_data\")\n",
    "\n",
    "pred = pred[0,:,:,:]\n",
    "\n",
    "mask = pred > 0.55\n",
    "labels = measure.label(mask)\n",
    "props = measure.regionprops(labels)\n",
    "\n",
    "results = []\n",
    "for prop in props:\n",
    "    if prop[\"area\"] > 500:\n",
    "        location = list(np.add((0,0,0), prop[\"centroid\"]))\n",
    "        print(location)\n",
    "\n",
    "viewer = napari.Viewer(ndisplay=3)\n",
    "viewer.add_image(np.squeeze(im_fg))\n",
    "viewer.add_labels(mask)"
   ]
  },
  {
   "cell_type": "code",
   "execution_count": null,
   "metadata": {},
   "outputs": [],
   "source": [
    "import math\n",
    "import numpy as np\n",
    "new_pts = []\n",
    "for point in a:\n",
    "    first = math.isclose(point[0],int(point[0]))\n",
    "    second = math.isclose(np.abs(point[1]-int(point[1])), 0.5)\n",
    "    third = math.isclose(np.abs(point[2]-int(point[2])), 0.5)\n",
    "    if first and second and third:\n",
    "        continue\n",
    "    else:\n",
    "        new_pts.append(point)"
   ]
  },
  {
   "cell_type": "code",
   "execution_count": 1,
   "metadata": {},
   "outputs": [
    {
     "name": "stdout",
     "output_type": "stream",
     "text": [
      "Total volume size: (5602, 7360, 3300, 1)\n",
      "Downloading bbox: [136, 6188, 2400] to [936, 6988, 3200]\n"
     ]
    },
    {
     "name": "stderr",
     "output_type": "stream",
     "text": [
      "Downloading: 100%|█████████▉| 799/800 [00:31<00:00, 21.37it/s]"
     ]
    },
    {
     "ename": "NameError",
     "evalue": "name 'napari' is not defined",
     "output_type": "error",
     "traceback": [
      "\u001b[0;31m---------------------------------------------------------------------------\u001b[0m",
      "\u001b[0;31mNameError\u001b[0m                                 Traceback (most recent call last)",
      "\u001b[0;32m/var/folders/fq/9t66hqz51y5ddnygddgjtsmc0000gn/T/ipykernel_30257/107225355.py\u001b[0m in \u001b[0;36m<module>\u001b[0;34m\u001b[0m\n\u001b[1;32m     36\u001b[0m \u001b[0;34m\u001b[0m\u001b[0m\n\u001b[1;32m     37\u001b[0m \u001b[0;34m\u001b[0m\u001b[0m\n\u001b[0;32m---> 38\u001b[0;31m \u001b[0mviewer\u001b[0m \u001b[0;34m=\u001b[0m \u001b[0mnapari\u001b[0m\u001b[0;34m.\u001b[0m\u001b[0mViewer\u001b[0m\u001b[0;34m(\u001b[0m\u001b[0mndisplay\u001b[0m\u001b[0;34m=\u001b[0m\u001b[0;36m3\u001b[0m\u001b[0;34m)\u001b[0m\u001b[0;34m\u001b[0m\u001b[0;34m\u001b[0m\u001b[0m\n\u001b[0m\u001b[1;32m     39\u001b[0m \u001b[0mviewer\u001b[0m\u001b[0;34m.\u001b[0m\u001b[0madd_image\u001b[0m\u001b[0;34m(\u001b[0m\u001b[0mim\u001b[0m\u001b[0;34m)\u001b[0m\u001b[0;34m\u001b[0m\u001b[0;34m\u001b[0m\u001b[0m\n",
      "\u001b[0;31mNameError\u001b[0m: name 'napari' is not defined"
     ]
    }
   ],
   "source": [
    "from cloudvolume import CloudVolume\n",
    "import numpy as np\n",
    "from skimage import io\n",
    "import napari\n",
    "\n",
    "subvol_number = -1 #change value here for different center point, valid values 0-9\n",
    "r = 400 #change for voxel radius\n",
    "\n",
    "vol = CloudVolume(\"precomputed://https://dlab-colm.neurodata.io/2021_10_06/8557/Ch_647\", parallel=1, mip=0, fill_missing=False)\n",
    "print(f\"Total volume size: {vol.shape}\")\n",
    "\n",
    "\n",
    "centers = [[1042.743408203125, 2647.38671875, 1224.5],\n",
    "            [2430.76171875, 3053.81494140625, 713.5],\n",
    "            [1780.8623046875, 2691.490234375, 1538.5001220703125],\n",
    "            [1642.8656005859375, 3693.246337890625, 1540.4998779296875],\n",
    "            [1924.112060546875, 2812.427978515625, 1539.5],\n",
    "            [2228.993896484375, 3124.892333984375, 710.4999389648438],\n",
    "            [976.0220336914062, 2615.152587890625, 1295.4998779296875],\n",
    "            [2973.654296875, 5300.09912109375, 900.5],\n",
    "            [3070.7158203125, 5557.70166015625, 1127.5000610351562],\n",
    "             [780.11474609375, 2957.698486328125, 1287.5]]\n",
    "\n",
    "center = centers[subvol_number]\n",
    "center = [int(c) for c in center]\n",
    "\n",
    "center = [536, 6588, 2800]\n",
    "\n",
    "lower = [c-r for c in center]\n",
    "upper = [c+r for c in center]\n",
    "print(f\"Downloading bbox: {lower} to {upper}\")\n",
    "\n",
    "\n",
    "\n",
    "im = vol[lower[0]:upper[0], lower[1]:upper[1], lower[2]:upper[2],0]\n",
    "im = np.squeeze(im)\n",
    "\n",
    "\n",
    "viewer = napari.Viewer(ndisplay=3)\n",
    "viewer.add_image(im)"
   ]
  },
  {
   "cell_type": "code",
   "execution_count": 4,
   "metadata": {},
   "outputs": [
    {
     "data": {
      "text/plain": [
       "<Image layer 'im' at 0x180c870a0>"
      ]
     },
     "execution_count": 4,
     "metadata": {},
     "output_type": "execute_result"
    }
   ],
   "source": [
    "import napari\n",
    "viewer = napari.Viewer(ndisplay=3)\n",
    "viewer.add_image(im)"
   ]
  },
  {
   "cell_type": "code",
   "execution_count": 54,
   "metadata": {},
   "outputs": [
    {
     "data": {
      "image/png": "[encoded data removed]",
      "text/plain": [
       "<Figure size 1080x288 with 3 Axes>"
      ]
     },
     "metadata": {
      "needs_background": "light"
     },
     "output_type": "display_data"
    }
   ],
   "source": [
    "import matplotlib.pyplot as plt\n",
    "import numpy as np\n",
    "from scipy.stats import pearsonr\n",
    "\n",
    "heights = np.array([70, 67, 73, 70, 66, 67, 68, 68, 74, 69, 71, 67, 70, 67, 67, 70, 67, 72, 71, 71])\n",
    "bouldering = np.arange(1,len(heights)+1)\n",
    "lead = np.array([11, 14, 4, 15, 2, 6, 1, 7, 9, 16, 5, 17, 12, 3, 8, 10, 13, 20, 19, 18])\n",
    "speed = [3, 2, 18, 16, 6, 19, 12, 20, 11, 5, 10, 15, 8, 7, 14, 9, 4, 1, 17, 13]\n",
    "\n",
    "\n",
    "fig, axs = plt.subplots(1, 3)\n",
    "m, b = np.polyfit(heights, bouldering, 1)\n",
    "coef, p = pearsonr(heights, bouldering)\n",
    "axs[0].scatter(heights, bouldering)\n",
    "axs[0].plot(heights, m*heights+b, label=f\"m={m:.2f}, coef={coef:.2f}, p={p:.2f}\")\n",
    "axs[0].set_title(\"Bouldering\")\n",
    "axs[0].set_ylabel(\"Finish in Olympic Qualifying Round\")\n",
    "axs[0].set_xlabel(\"Height (in.)\")\n",
    "axs[0].legend()\n",
    "\n",
    "m, b = np.polyfit(heights, lead, 1)\n",
    "coef, p = pearsonr(heights, lead)\n",
    "axs[1].scatter(heights, lead)\n",
    "axs[1].plot(heights, m*heights+b, label=f\"m={m:.2f}, coef={coef:.2f}, p={p:.2f}\")\n",
    "axs[1].set_title(\"Lead Climbing\")\n",
    "axs[1].legend()\n",
    "\n",
    "m, b = np.polyfit(heights, speed, 1)\n",
    "coef, p = pearsonr(heights, speed)\n",
    "axs[2].scatter(heights, speed)\n",
    "axs[2].plot(heights, m*heights+b, label=f\"m={m:.2f}, coef={coef:.2f}, p={p:.2f}\")\n",
    "axs[2].set_title(\"Speed Climbing\")\n",
    "axs[2].legend()\n",
    "fig.set_figwidth(15)"
   ]
  },
  {
   "cell_type": "code",
   "execution_count": 47,
   "metadata": {},
   "outputs": [
    {
     "data": {
      "text/plain": [
       "array([[ 5.25      ,  3.39473684],\n",
       "       [ 3.39473684, 35.        ]])"
      ]
     },
     "execution_count": 47,
     "metadata": {},
     "output_type": "execute_result"
    }
   ],
   "source": [
    "np.cov(heights, lead)"
   ]
  },
  {
   "cell_type": "code",
   "execution_count": null,
   "metadata": {},
   "outputs": [],
   "source": []
  }
 ],
 "metadata": {
  "interpreter": {
   "hash": "5dc00d68ff54f8375e99934614da4863299fb9e10af4294c095b7f517546ff26"
  },
  "kernelspec": {
   "display_name": "Python 3.8.10 64-bit ('docs_env': venv)",
   "name": "python3"
  },
  "language_info": {
   "codemirror_mode": {
    "name": "ipython",
    "version": 3
   },
   "file_extension": ".py",
   "mimetype": "text/x-python",
   "name": "python",
   "nbconvert_exporter": "python",
   "pygments_lexer": "ipython3",
   "version": "3.8.10"
  },
  "orig_nbformat": 4
 },
 "nbformat": 4,
 "nbformat_minor": 2
}

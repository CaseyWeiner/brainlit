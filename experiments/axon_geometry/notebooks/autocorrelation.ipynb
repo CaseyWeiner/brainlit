{
 "cells": [
  {
   "cell_type": "code",
   "execution_count": 1,
   "metadata": {},
   "outputs": [],
   "source": [
    "from pathlib import Path\n",
    "import os\n",
    "import numpy as np\n",
    "import pandas as pd\n",
    "import seaborn as sns\n",
    "import matplotlib.pyplot as plt\n",
    "from tqdm import tqdm"
   ]
  },
  {
   "cell_type": "markdown",
   "metadata": {},
   "source": [
    "# Define autocorrelation function"
   ]
  },
  {
   "cell_type": "code",
   "execution_count": 2,
   "metadata": {},
   "outputs": [],
   "source": [
    "def auto_corr(series, length):\n",
    "    series = series - np.mean(series)\n",
    "    correlation = np.correlate(series, series, mode=\"full\")\n",
    "    \n",
    "    middle_idx = int((len(correlation)-1)/2)\n",
    "    correlation = correlation[middle_idx:]\n",
    "    correlation = correlation/np.dot(series,series)\n",
    "    \n",
    "    l = len(correlation)\n",
    "    \n",
    "    if l > length:\n",
    "        correlation = correlation[:length]\n",
    "    if l < length:\n",
    "        correlation = np.concatenate([correlation, np.zeros((length-l))])\n",
    "    \n",
    "    return correlation"
   ]
  },
  {
   "cell_type": "markdown",
   "metadata": {},
   "source": [
    "# Read trace data, compute autocorrelation"
   ]
  },
  {
   "cell_type": "code",
   "execution_count": 3,
   "metadata": {},
   "outputs": [
    {
     "name": "stderr",
     "output_type": "stream",
     "text": [
      "  1%|          | 3/300 [00:00<00:15, 18.59it/s]"
     ]
    },
    {
     "name": "stdout",
     "output_type": "stream",
     "text": [
      "Directory where swcs reside: /cis/home/jteneggi/repo/brainlit/experiments/axon_geometry/data/brain1/segments_swc\n"
     ]
    },
    {
     "name": "stderr",
     "output_type": "stream",
     "text": [
      "100%|██████████| 300/300 [00:12<00:00, 23.47it/s]\n",
      "  1%|          | 2/300 [00:00<00:22, 13.20it/s]"
     ]
    },
    {
     "name": "stdout",
     "output_type": "stream",
     "text": [
      "Directory where swcs reside: /cis/home/jteneggi/repo/brainlit/experiments/axon_geometry/data/brain2/segments_swc\n"
     ]
    },
    {
     "name": "stderr",
     "output_type": "stream",
     "text": [
      "100%|██████████| 300/300 [00:08<00:00, 33.40it/s]\n"
     ]
    }
   ],
   "source": [
    "root_dir = Path(os.path.abspath('')).parents[1]\n",
    "experiment_dir = os.path.join(root_dir, \"axon_geometry\")\n",
    "\n",
    "brains = [\"brain1\", \"brain2\"]\n",
    "measures = [\"curvature\", \"torsion\"]\n",
    "max_id = 300\n",
    "corr_length=25\n",
    "\n",
    "d = []\n",
    "\n",
    "for brain in brains:\n",
    "    data_dir = os.path.join(experiment_dir, \"data\", brain)\n",
    "    segments_swc_dir = os.path.join(data_dir, \"segments_swc\")\n",
    "    trace_data_dir = os.path.join(data_dir, \"trace_data\", \"1\")\n",
    "    print(f\"Directory where swcs reside: {segments_swc_dir}\")\n",
    "    \n",
    "    for i in tqdm(np.arange(0, max_id)):\n",
    "        i = int(i)\n",
    "        trace_data_path = os.path.join(trace_data_dir, f\"{i}.npy\")\n",
    "        if os.path.exists(trace_data_path) is True:\n",
    "            trace_data = np.load(trace_data_path, allow_pickle=True)\n",
    "            \n",
    "            for node in trace_data:\n",
    "                for measure in measures:\n",
    "                    _measure = node[measure]\n",
    "                    \n",
    "                    if np.var(_measure) > 0:\n",
    "                        autocorr = auto_corr(_measure, corr_length)\n",
    "                        for distance, value in zip(np.arange(corr_length), autocorr):\n",
    "                            d.append({\"brain\": brain, \"measure\": measure, \"distance\": distance, \"value\": value})\n",
    "df = pd.DataFrame(d)"
   ]
  },
  {
   "cell_type": "markdown",
   "metadata": {},
   "source": [
    "# Plot autocorrelation as a function of lag"
   ]
  },
  {
   "cell_type": "code",
   "execution_count": 4,
   "metadata": {},
   "outputs": [
    {
     "name": "stderr",
     "output_type": "stream",
     "text": [
      "The PostScript backend does not support transparency; partially transparent artists will be rendered opaque.\n",
      "The PostScript backend does not support transparency; partially transparent artists will be rendered opaque.\n",
      "The PostScript backend does not support transparency; partially transparent artists will be rendered opaque.\n",
      "The PostScript backend does not support transparency; partially transparent artists will be rendered opaque.\n",
      "The PostScript backend does not support transparency; partially transparent artists will be rendered opaque.\n",
      "The PostScript backend does not support transparency; partially transparent artists will be rendered opaque.\n",
      "The PostScript backend does not support transparency; partially transparent artists will be rendered opaque.\n",
      "The PostScript backend does not support transparency; partially transparent artists will be rendered opaque.\n",
      "The PostScript backend does not support transparency; partially transparent artists will be rendered opaque.\n",
      "The PostScript backend does not support transparency; partially transparent artists will be rendered opaque.\n",
      "The PostScript backend does not support transparency; partially transparent artists will be rendered opaque.\n",
      "The PostScript backend does not support transparency; partially transparent artists will be rendered opaque.\n"
     ]
    },
    {
     "data": {
      "image/png": "[encoded data removed]",
      "text/plain": [
       "<Figure size 506.305x216 with 2 Axes>"
      ]
     },
     "metadata": {},
     "output_type": "display_data"
    }
   ],
   "source": [
    "sns.set_theme()\n",
    "sns.set_context(\"paper\")\n",
    "\n",
    "g = sns.FacetGrid(df, col=\"brain\", hue=\"measure\")\n",
    "g.map(sns.lineplot, \"distance\", \"value\")\n",
    "g.set_axis_labels(r\"Lag ($\\mu m$)\", \"Autocorrelation\")\n",
    "g.add_legend(title=\"\")\n",
    "axes = g.axes.flatten()\n",
    "axes[0].set_title(\"Brain 1\")\n",
    "axes[1].set_title(\"Brain 2\")\n",
    "g.savefig(os.path.join(experiment_dir, \"figures\",  f\"autocorrelation.eps\"))\n",
    "g.savefig(os.path.join(experiment_dir, \"figures\", f\"autocorrelation.jpg\"))"
   ]
  },
  {
   "cell_type": "code",
   "execution_count": null,
   "metadata": {},
   "outputs": [],
   "source": []
  }
 ],
 "metadata": {
  "kernelspec": {
   "display_name": "Python 3",
   "language": "python",
   "name": "python3"
  },
  "language_info": {
   "codemirror_mode": {
    "name": "ipython",
    "version": 3
   },
   "file_extension": ".py",
   "mimetype": "text/x-python",
   "name": "python",
   "nbconvert_exporter": "python",
   "pygments_lexer": "ipython3",
   "version": "3.8.5"
  }
 },
 "nbformat": 4,
 "nbformat_minor": 4
}

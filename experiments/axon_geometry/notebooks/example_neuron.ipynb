{
 "cells": [
  {
   "cell_type": "code",
   "execution_count": null,
   "metadata": {},
   "outputs": [],
   "source": [
    "from pathlib import Path\n",
    "import os\n",
    "import pandas as pd\n",
    "import seaborn as sns\n",
    "import matplotlib.pyplot as plt\n",
    "import numpy as np\n",
    "import scipy\n",
    "from tqdm import tqdm\n",
    "from brainlit.utils.Neuron_trace import NeuronTrace\n",
    "from mpl_toolkits.mplot3d import Axes3D\n",
    "from brainlit.algorithms.trace_analysis.fit_spline import GeometricGraph\n",
    "from scipy.interpolate import splev\n",
    "from brainlit.algorithms.trace_analysis.spline_fxns import curvature, torsion"
   ]
  },
  {
   "cell_type": "markdown",
   "metadata": {},
   "source": [
    "# Define brain, neuron, and data folders"
   ]
  },
  {
   "cell_type": "code",
   "execution_count": null,
   "metadata": {},
   "outputs": [],
   "source": [
    "#specify brain1 or brain2 below\n",
    "brain = \"brain1\"\n",
    "seg_id = 2\n",
    "string_id = str(seg_id).zfill(3)\n",
    "\n",
    "root_dir = Path(os.path.abspath('')).parents[1]\n",
    "experiment_dir = os.path.join(root_dir, \"axon_geometry\")\n",
    "data_dir = os.path.join(experiment_dir, \"data\", brain)\n",
    "segments_swc_dir = os.path.join(data_dir, \"segments_swc\")\n",
    "seg_swc_path = os.path.join(\n",
    "    segments_swc_dir,\n",
    "    \"{}_g-{}_consensus.swc\".format(\n",
    "        \"2018-08-01\" if brain == \"brain1\" else \"2018-12-01\", string_id\n",
    "    ),\n",
    ")\n",
    "print(f\"Directory where swcs reside: {segments_swc_dir}\")"
   ]
  },
  {
   "cell_type": "markdown",
   "metadata": {},
   "source": [
    "# Load and fit neuron"
   ]
  },
  {
   "cell_type": "code",
   "execution_count": null,
   "metadata": {},
   "outputs": [],
   "source": [
    "swc_trace = NeuronTrace(path=seg_swc_path)\n",
    "df_swc_offset_neuron = swc_trace.get_df()\n",
    "\n",
    "print(\"Loaded segment {}\".format(seg_id))\n",
    "G = GeometricGraph(df=df_swc_offset_neuron)\n",
    "spline_tree = G.fit_spline_tree_invariant()"
   ]
  },
  {
   "cell_type": "markdown",
   "metadata": {},
   "source": [
    "# Plot B-spline fit"
   ]
  },
  {
   "cell_type": "code",
   "execution_count": null,
   "metadata": {},
   "outputs": [],
   "source": [
    "def node_height(G, node):\n",
    "    predecessors = list(G.predecessors(node))\n",
    "    L = len(predecessors)\n",
    "    assert L == 1 or L == 0\n",
    "    if L == 0:\n",
    "        return 0\n",
    "    else:\n",
    "        return 1 + node_height(G, predecessors[0])\n",
    "\n",
    "fig = plt.figure()\n",
    "ax = Axes3D(fig)\n",
    "\n",
    "for j, node in enumerate(spline_tree.nodes):\n",
    "    spline = spline_tree.nodes[node]\n",
    "    spline_height = node_height(spline_tree, node)\n",
    "    tck, u_um = spline[\"spline\"]\n",
    "    y = splev(np.arange(u_um[0],u_um[-1], 0.1), tck)\n",
    "\n",
    "    if spline_height == 0:\n",
    "        c = \"b\"\n",
    "        ax.scatter(y[0][0],y[1][0],y[2][0],'b')\n",
    "    else:\n",
    "        successors = spline_tree.successors(node)\n",
    "        if len(list(successors)) == 0:\n",
    "            c = \"g\"\n",
    "        else:\n",
    "            c = \"r\"\n",
    "\n",
    "    ax.plot(y[0], y[1], y[2], c, linewidth=0.5)\n",
    "\n",
    "ax.set_axis_off()"
   ]
  },
  {
   "cell_type": "markdown",
   "metadata": {},
   "source": [
    "# Evaluate curvature and torsion"
   ]
  },
  {
   "cell_type": "code",
   "execution_count": null,
   "metadata": {},
   "outputs": [],
   "source": [
    "import seaborn as sns\n",
    "\n",
    "sns.set_theme()\n",
    "sns.set_context(\"paper\")\n",
    "sns.set(font_scale=1.2)\n",
    "\n",
    "classes = []\n",
    "curvatures = []\n",
    "torsions = []\n",
    "\n",
    "spacing = 14\n",
    "for j, node in enumerate(spline_tree.nodes):\n",
    "    if j == 0:\n",
    "        main_branch = spline_tree.nodes[node]\n",
    "    spline = spline_tree.nodes[node]\n",
    "    spline_height = node_height(spline_tree, node)\n",
    "    if spline_height == 0:\n",
    "        spline_class = \"primary\"\n",
    "    else:\n",
    "        successors = spline_tree.successors(node)\n",
    "        if len(list(successors)) == 0:\n",
    "            spline_class = \"terminal\"\n",
    "        else:\n",
    "            spline_class = \"collateral\"\n",
    "    starting_length = spline[\"starting_length\"]\n",
    "    path = spline[\"path\"]\n",
    "    tck, u_um = spline[\"spline\"]\n",
    "    t = tck[0]\n",
    "    c = tck[1]\n",
    "    k = tck[2]\n",
    "\n",
    "    # evaluate segment length (in um)\n",
    "    seg_length = u_um[-1] - u_um[0]\n",
    "    # resample points at specified spacing\n",
    "    uu = np.arange(u_um[0], u_um[-1], spacing)\n",
    "    # evaluate mean curvature of the segment\n",
    "    _curvature = curvature(uu, t, c, k)\n",
    "    mean_curvature = np.mean(_curvature)\n",
    "    # evaluate mean torsion of the segment\n",
    "    _torsion = np.abs(torsion(uu, t, c, k))\n",
    "    mean_torsion = np.mean(_torsion)\n",
    "    \n",
    "    classes.append(spline_class)\n",
    "    curvatures.append(mean_curvature)\n",
    "    torsions.append(mean_torsion)\n",
    "        \n",
    "    if spline_height == 0:\n",
    "        plt.plot(uu, _curvature, label=\"curvature\")\n",
    "        plt.xlabel(r\"$\\xi (\\mu m)$\")\n",
    "        plt.ylabel(r\"value ($\\mu m^{-1}$)\")\n",
    "        plt.title(\"Curvature of primary segment\")\n",
    "        plt.show()\n",
    "        plt.plot(uu, _torsion, label=\"torsion\")\n",
    "        plt.xlabel(r\"$\\xi (\\mu m)$\")\n",
    "        plt.ylabel(r\"value ($\\mu m^{-1}$)\")\n",
    "        plt.title(\"Torsion of primary segment\")\n",
    "        plt.show()\n",
    "\n",
    "for _class, _curvature, _torsion in zip(classes, curvatures, torsions):\n",
    "    if _class == \"primary\":\n",
    "        c = \"b\"\n",
    "    elif _class == \"collateral\":\n",
    "        c = \"r\"\n",
    "    elif _class == \"terminal\":\n",
    "        c = \"g\"\n",
    "    plt.scatter(_curvature, _torsion, marker=\".\", c=c)\n",
    "plt.xlabel(r\"curvature ($\\mu m^{-1}$)\")\n",
    "plt.ylabel(r\"torsion ($\\mu m^{-1}$)\")\n",
    "plt.title(\"Mean curvature and torsion for all segments\")"
   ]
  },
  {
   "cell_type": "code",
   "execution_count": null,
   "metadata": {},
   "outputs": [],
   "source": []
  }
 ],
 "metadata": {
  "kernelspec": {
   "display_name": "Python 3",
   "language": "python",
   "name": "python3"
  },
  "language_info": {
   "codemirror_mode": {
    "name": "ipython",
    "version": 3
   },
   "file_extension": ".py",
   "mimetype": "text/x-python",
   "name": "python",
   "nbconvert_exporter": "python",
   "pygments_lexer": "ipython3",
   "version": "3.8.5"
  }
 },
 "nbformat": 4,
 "nbformat_minor": 4
}
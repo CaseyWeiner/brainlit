{
 "cells": [
  {
   "cell_type": "code",
   "execution_count": 1,
   "metadata": {},
   "outputs": [],
   "source": [
    "from pathlib import Path\n",
    "import os\n",
    "import pandas as pd\n",
    "import seaborn as sns\n",
    "import matplotlib.pyplot as plt\n",
    "import numpy as np\n",
    "import scipy\n",
    "from tqdm import tqdm"
   ]
  },
  {
   "cell_type": "markdown",
   "metadata": {},
   "source": [
    "## Define brain, find trace data folder"
   ]
  },
  {
   "cell_type": "code",
   "execution_count": 2,
   "metadata": {},
   "outputs": [
    {
     "name": "stdout",
     "output_type": "stream",
     "text": [
      "Directory where swcs reside: /cis/home/jteneggi/repo/brainlit/experiments/axon_geometry/data/brain2/segments_swc\n"
     ]
    }
   ],
   "source": [
    "#specify brain1 or brain2 below\n",
    "brain = \"brain2\"\n",
    "\n",
    "root_dir = Path(os.path.abspath('')).parents[1]\n",
    "experiment_dir = os.path.join(root_dir, \"axon_geometry\")\n",
    "data_dir = os.path.join(experiment_dir, \"data\", brain)\n",
    "segments_swc_dir = os.path.join(data_dir, \"segments_swc\")\n",
    "trace_data_dir = os.path.join(data_dir, \"trace_data\")\n",
    "trace_data_dir = os.path.join(trace_data_dir, \"14\")\n",
    "print(f\"Directory where swcs reside: {segments_swc_dir}\")"
   ]
  },
  {
   "cell_type": "markdown",
   "metadata": {},
   "source": [
    "## Read trace data"
   ]
  },
  {
   "cell_type": "code",
   "execution_count": 3,
   "metadata": {},
   "outputs": [
    {
     "name": "stdout",
     "output_type": "stream",
     "text": [
      "Loaded segment 1\n"
     ]
    },
    {
     "name": "stderr",
     "output_type": "stream",
     "text": [
      "<ipython-input-3-189dfc4c3dd2>:44: RuntimeWarning: divide by zero encountered in log10\n",
      "  log_mean_torsion = np.log10(mean_torsion)\n",
      "<ipython-input-3-189dfc4c3dd2>:41: RuntimeWarning: divide by zero encountered in log10\n",
      "  log_mean_curvature = np.log10(mean_curvature)\n"
     ]
    },
    {
     "name": "stdout",
     "output_type": "stream",
     "text": [
      "Loaded segment 2\n",
      "Loaded segment 4\n",
      "Loaded segment 5\n",
      "Loaded segment 7\n",
      "Loaded segment 9\n",
      "Loaded segment 10\n",
      "Loaded segment 11\n",
      "Loaded segment 12\n",
      "Loaded segment 13\n",
      "Loaded segment 14\n",
      "Loaded segment 15\n",
      "Loaded segment 16\n",
      "Loaded segment 17\n",
      "Loaded segment 20\n",
      "Loaded segment 21\n",
      "Loaded segment 23\n",
      "Loaded segment 31\n",
      "Loaded segment 32\n",
      "Loaded segment 33\n",
      "Loaded segment 34\n",
      "Loaded segment 35\n",
      "Loaded segment 37\n",
      "Loaded segment 38\n",
      "Loaded segment 39\n",
      "Loaded segment 40\n",
      "Loaded segment 41\n",
      "Loaded segment 42\n",
      "Loaded segment 43\n",
      "Loaded segment 44\n",
      "Loaded segment 45\n",
      "Loaded segment 47\n",
      "Loaded segment 48\n",
      "Loaded segment 49\n",
      "Loaded segment 51\n",
      "Loaded segment 52\n",
      "Loaded segment 53\n",
      "Loaded segment 54\n",
      "Loaded segment 55\n",
      "Loaded segment 56\n",
      "Loaded segment 57\n",
      "Loaded segment 58\n",
      "Loaded segment 59\n",
      "Loaded segment 60\n",
      "Loaded segment 61\n",
      "Loaded segment 62\n",
      "Loaded segment 63\n",
      "Loaded segment 64\n",
      "Loaded segment 65\n",
      "Loaded segment 66\n"
     ]
    }
   ],
   "source": [
    "max_id = 300\n",
    "\n",
    "def classify_height(row):\n",
    "    height = row[\"height\"]\n",
    "    if height <= 2:\n",
    "        return height\n",
    "    else:\n",
    "        return 3\n",
    "\n",
    "def numerical_class(row):\n",
    "    _class = row[\"class\"]\n",
    "    if _class == \"primary\":\n",
    "        return 0\n",
    "    if _class == \"collateral\":\n",
    "        return 1\n",
    "    if _class == \"terminal\":\n",
    "        return 2\n",
    "\n",
    "df_path = os.path.join(trace_data_dir, \"df.csv\")\n",
    "if os.path.exists(df_path):\n",
    "    df = pd.read_csv(df_path)\n",
    "else:\n",
    "    df = pd.DataFrame(columns=[\"seg_id\", \"class\", \"height\", \"log_seg_length\", \"measure\", \"value\", \"log_value\"])\n",
    "    for i in tqdm(np.arange(0, max_id)):\n",
    "        i = int(i)\n",
    "        trace_data_path = os.path.join(trace_data_dir, \"{}.npy\".format(i))\n",
    "        if os.path.exists(trace_data_path) is True:\n",
    "            trace_data = np.load(trace_data_path, allow_pickle=True)\n",
    "\n",
    "            for node in trace_data:\n",
    "                seg_length = node[\"seg_length\"]\n",
    "                height = node[\"height\"]\n",
    "                _class = node[\"class\"]\n",
    "                mean_curvature = node[\"mean_curvature\"]\n",
    "                mean_torsion = node[\"mean_torsion\"]\n",
    "                \n",
    "                log_seg_length = np.log10(seg_length)\n",
    "\n",
    "                log_mean_curvature = np.log10(mean_curvature)\n",
    "                df = df.append({\"seg_id\": i, \"height\": height, \"class\": _class, \"log_seg_length\": log_seg_length, \"measure\": \"curvature\", \"value\": mean_curvature, \"log_value\": log_mean_curvature}, ignore_index=True)\n",
    "\n",
    "                log_mean_torsion = np.log10(mean_torsion)\n",
    "                df = df.append({\"seg_id\": i, \"height\": height, \"class\": _class, \"log_seg_length\": log_seg_length, \"measure\": \"torsion\", \"value\": mean_torsion, \"log_value\": log_mean_torsion}, ignore_index=True)\n",
    "    df.to_csv(df_path)\n",
    "df[\"class\"] = df.apply(numerical_class, axis=1)\n",
    "df[\"height_class\"] = df.apply(classify_height, axis=1)"
   ]
  },
  {
   "cell_type": "markdown",
   "metadata": {},
   "source": [
    "# Sign Test\n",
    "Assume samples from different neurons are independent\n",
    "\n",
    "Bonferroni correction across 3 class comparisons and 2 parameters, and directionality of effect (3*2*2=12)\n",
    "\n",
    "Null Hypothesis: P(X>Y)=0.5"
   ]
  },
  {
   "cell_type": "code",
   "execution_count": 4,
   "metadata": {
    "tags": []
   },
   "outputs": [
    {
     "name": "stdout",
     "output_type": "stream",
     "text": [
      "primary < collateral in curvature\n",
      "p-val was: 1.1333156635373578e-12\n",
      "primary < terminal in curvature\n",
      "p-val was: 1.854161268965935e-11\n",
      "collateral > terminal in curvature\n",
      "p-val was: 2.1049260112703785e-09\n",
      "primary < collateral in torsion\n",
      "p-val was: 0.00046811145542591877\n",
      "primary > terminal in torsion\n",
      "p-val was: 1.854161268965935e-11\n",
      "collateral > terminal in torsion\n",
      "p-val was: 8.881784197001244e-16\n"
     ]
    }
   ],
   "source": [
    "measures = [\"curvature\", \"torsion\"]\n",
    "\n",
    "classes = {0: \"primary\", 1: \"collateral\", 2: \"terminal\"}\n",
    "n = len(classes)\n",
    "matrix_pairs = np.triu(np.ones((n, n)), k=1)\n",
    "(coord_pairs_x, coord_pairs_y) = np.where(matrix_pairs == 1)\n",
    "\n",
    "for measure in measures:\n",
    "    for class_1, class_2 in zip(coord_pairs_x, coord_pairs_y):\n",
    "        Y1 = []\n",
    "        Y2 = []\n",
    "        segment_numbers = []\n",
    "        X_class = []\n",
    "        neuron_id = 0\n",
    "        #collect data from all neurons\n",
    "        for i in np.arange(0, max_id):\n",
    "            sample_query = df.loc[(df['seg_id'] == i) & ((df['class'] == class_1)) & (df['measure'] == measure)]\n",
    "            num_segments = len(sample_query.index)\n",
    "            if num_segments > 0:\n",
    "                Y1.append(np.mean(sample_query[\"value\"].to_numpy()))\n",
    "                sample_query = df.loc[(df['seg_id'] == i) & ((df['class'] == class_2)) & (df['measure'] == measure)]\n",
    "                Y2.append(np.mean(sample_query[\"value\"].to_numpy()))\n",
    "\n",
    "        # Sign Test\n",
    "        dif = np.subtract(Y1, Y2)\n",
    "        k = np.sum(dif > 0)\n",
    "        n = dif.shape[0]\n",
    "        upper_bool = k > n // 2\n",
    "        if upper_bool:\n",
    "            p = np.sum(scipy.stats.binom.pmf(range(k,n+1), n=n, p=0.5))\n",
    "        else:\n",
    "            p = np.sum(scipy.stats.binom.pmf(range(0,k+1), n=n, p=0.5))\n",
    "\n",
    "        if p < 0.05/12:\n",
    "            if upper_bool:\n",
    "                symb = \">\"\n",
    "            else:\n",
    "                symb = \"<\"\n",
    "            print(f\"{classes[class_1]} {symb} {classes[class_2]} in {measure}\")\n",
    "            print(f\"p-val was: {p}\")\n",
    "        else:\n",
    "            print(f\"No difference between {classes[class_1]} and {classes[class_2]} in {measure}\")\n",
    "            print(f\"p-val was: {p}\")"
   ]
  },
  {
   "cell_type": "code",
   "execution_count": null,
   "metadata": {},
   "outputs": [],
   "source": []
  }
 ],
 "metadata": {
  "kernelspec": {
   "display_name": "Python 3",
   "language": "python",
   "name": "python3"
  },
  "language_info": {
   "codemirror_mode": {
    "name": "ipython",
    "version": 3
   },
   "file_extension": ".py",
   "mimetype": "text/x-python",
   "name": "python",
   "nbconvert_exporter": "python",
   "pygments_lexer": "ipython3",
   "version": "3.8.5"
  }
 },
 "nbformat": 4,
 "nbformat_minor": 4
}

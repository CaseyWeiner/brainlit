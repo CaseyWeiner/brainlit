{
 "cells": [
  {
   "cell_type": "code",
   "execution_count": null,
   "metadata": {},
   "outputs": [],
   "source": [
    "import numpy as np\n",
    "import brainlit\n",
    "import scipy\n",
    "from brainlit.utils import swc\n",
    "from cloudvolume.exceptions import SkeletonDecodeError\n",
    "from brainlit.algorithms.trace_analysis.fit_spline import GeometricGraph\n",
    "from brainlit.algorithms.trace_analysis.spline_fxns import curvature, torsion\n",
    "import os\n",
    "from pathlib import Path\n",
    "import pandas as pd\n",
    "from networkx.readwrite import json_graph\n",
    "import json\n",
    "import matplotlib.pyplot as plt\n",
    "import seaborn as sns"
   ]
  },
  {
   "cell_type": "markdown",
   "metadata": {},
   "source": [
    "## Define brain, find trace data folder"
   ]
  },
  {
   "cell_type": "code",
   "execution_count": null,
   "metadata": {},
   "outputs": [],
   "source": [
    "#specify brain1 or brain2 below\n",
    "brain = \"brain2\"\n",
    "\n",
    "root_dir = Path(os.path.abspath('')).parents[1]\n",
    "experiment_dir = os.path.join(root_dir, \"axon_geometry\")\n",
    "data_dir = os.path.join(experiment_dir, \"data\", brain)\n",
    "segments_swc_dir = os.path.join(data_dir, \"segments_swc\")\n",
    "trace_data_dir = os.path.join(data_dir, \"trace_data\")\n",
    "trace_data_dir = os.path.join(trace_data_dir, \"14\")\n",
    "print(f\"Directory where swcs reside: {segments_swc_dir}\")"
   ]
  },
  {
   "cell_type": "markdown",
   "metadata": {},
   "source": [
    "## Read trace data"
   ]
  },
  {
   "cell_type": "code",
   "execution_count": null,
   "metadata": {},
   "outputs": [],
   "source": [
    "max_id = 300\n",
    "seg_lengths = []\n",
    "mean_torsions = []\n",
    "mean_curvatures = []\n",
    "d_from_root = []\n",
    "torsions = []\n",
    "curvatures = []\n",
    "\n",
    "def classify_height(row):\n",
    "    height = row[\"height\"]\n",
    "    if height <= 2:\n",
    "        return height\n",
    "    else:\n",
    "        return 3\n",
    "\n",
    "df_path = os.path.join(trace_data_dir, \"df.csv\")\n",
    "if os.path.exists(df_path):\n",
    "    df = pd.read_csv(df_path)\n",
    "else:\n",
    "    df = pd.DataFrame(columns=[\"seg_id\", \"height\", \"log_segment_length\", \"measure\", \"log_value\"])\n",
    "    for i in np.arange(0, max_id):\n",
    "        i = int(i)\n",
    "        trace_data_path = os.path.join(trace_data_dir, \"{}.npy\".format(i))\n",
    "        if os.path.exists(trace_data_path) is True:\n",
    "            trace_data = np.load(trace_data_path, allow_pickle=True)\n",
    "            print(\"Loaded segment {}\".format(i))\n",
    "\n",
    "            for node in trace_data:\n",
    "                # print(node)\n",
    "                seg_length = node[\"seg_length\"]\n",
    "                height = node[\"height\"]\n",
    "                mean_curvature = node[\"mean_curvature\"]\n",
    "                mean_torsion = node[\"mean_torsion\"]\n",
    "                log_seg_length = np.log10(seg_length)\n",
    "                if mean_curvature > 1e-16:\n",
    "                    log_mean_curvature = np.log10(mean_curvature)\n",
    "                    df = df.append({\"seg_id\": i, \"height\": height, \"log_seg_length\": log_seg_length, \"measure\": \"curvature\", \"log_value\": log_mean_curvature}, ignore_index=True)\n",
    "                if mean_torsion > 1e-16:\n",
    "                    log_mean_torsion = np.log10(mean_torsion)\n",
    "                    df = df.append({\"seg_id\": i, \"height\": height, \"log_seg_length\": log_seg_length, \"measure\": \"torsion\", \"log_value\": log_mean_torsion}, ignore_index=True)\n",
    "    df.to_csv(df_path)\n",
    "df[\"height_class\"] = df.apply(classify_height, axis=1)"
   ]
  },
  {
   "cell_type": "markdown",
   "metadata": {},
   "source": [
    "# Density of `log` segment lengths as a function of spline height"
   ]
  },
  {
   "cell_type": "code",
   "execution_count": null,
   "metadata": {},
   "outputs": [],
   "source": [
    "sns.set_theme()\n",
    "sns.set_context(\"paper\")\n",
    "\n",
    "g = sns.FacetGrid(df, col=\"measure\", hue=\"height\", height=4)\n",
    "g.map(sns.kdeplot, \"log_seg_length\", bw_adjust=1.8)\n",
    "g.set_axis_labels(r\"$\\log$ segment length\", \"density\")\n",
    "g.add_legend(title=\"Spline height\")\n",
    "plt.subplots_adjust(top=0.9)\n",
    "g.fig.suptitle(\"Brain 1\" if brain==\"brain1\" else \"Brain 2\")\n",
    "g.savefig(os.path.join(experiment_dir, \"figures\",  f\"{brain}_seg_length_height_density.eps\"))\n",
    "g.savefig(os.path.join(experiment_dir, \"figures\", f\"{brain}_seg_length_height_density.jpg\"))"
   ]
  },
  {
   "cell_type": "markdown",
   "metadata": {},
   "source": [
    "# Density of `log` segment lengths as a function of spline height class"
   ]
  },
  {
   "cell_type": "code",
   "execution_count": null,
   "metadata": {},
   "outputs": [],
   "source": [
    "sns.set_theme()\n",
    "sns.set_context(\"paper\")\n",
    "\n",
    "g = sns.FacetGrid(df, col=\"measure\", hue=\"height_class\", height=4)\n",
    "g.map(sns.kdeplot, \"log_seg_length\", bw_adjust=1.8)\n",
    "g.set_axis_labels(r\"$\\log$ segment length\", \"density\")\n",
    "g.add_legend(title=\"Spline height class\")\n",
    "plt.subplots_adjust(top=0.9)\n",
    "g.fig.suptitle(\"Brain 1\" if brain==\"brain1\" else \"Brain 2\")\n",
    "g.savefig(os.path.join(experiment_dir, \"figures\",  f\"{brain}_seg_length_height_class_density.eps\"))\n",
    "g.savefig(os.path.join(experiment_dir, \"figures\", f\"{brain}_seg_length_height_class_density.jpg\"))"
   ]
  },
  {
   "cell_type": "markdown",
   "metadata": {},
   "source": [
    "# Density of `log` curvature/torsion as a function of spline height class"
   ]
  },
  {
   "cell_type": "code",
   "execution_count": null,
   "metadata": {},
   "outputs": [],
   "source": [
    "g = sns.FacetGrid(df, col=\"measure\", hue=\"height_class\", height=4)\n",
    "g.map(sns.kdeplot, \"log_value\")\n",
    "g.set_axis_labels(r\"$\\log$ value\", \"density\")\n",
    "g.add_legend(title=\"Spline height class\")\n",
    "g.set(xlim=[-3, 0])\n",
    "plt.subplots_adjust(top=0.9)\n",
    "g.fig.suptitle(\"Brain 1\" if brain==\"brain1\" else \"Brain 2\")\n",
    "g.savefig(os.path.join(experiment_dir, \"figures\",  f\"{brain}_mean_value_height_class_density.eps\"))\n",
    "g.savefig(os.path.join(experiment_dir, \"figures\", f\"{brain}_mean_value_height_class_density.jpg\"))"
   ]
  },
  {
   "cell_type": "markdown",
   "metadata": {},
   "source": [
    "# Scatter plots of `log` curvature/torsion as a function of spline height class"
   ]
  },
  {
   "cell_type": "code",
   "execution_count": null,
   "metadata": {},
   "outputs": [],
   "source": [
    "g = sns.FacetGrid(df, row=\"measure\", col=\"height_class\", hue=\"height_class\", height=4)\n",
    "g.map(sns.scatterplot, \"log_seg_length\", \"log_value\", marker='.', s=50)\n",
    "g.set_axis_labels(r\"$\\log$ segment length\", r\"$\\log$ mean value\")\n",
    "g.set(ylim=[-4, 1])\n",
    "plt.subplots_adjust(top=0.9)\n",
    "g.fig.suptitle(\"Brain 1\" if brain==\"brain1\" else \"Brain 2\")\n",
    "g.savefig(os.path.join(experiment_dir, \"figures\",  f\"{brain}_mean_value_height_class_scatter.eps\"))\n",
    "g.savefig(os.path.join(experiment_dir, \"figures\", f\"{brain}_mean_value_height_class_scatter.jpg\"))"
   ]
  },
  {
   "cell_type": "markdown",
   "metadata": {},
   "source": [
    "# Linear regression of `log` curvature/torsion as a function of spline height class"
   ]
  },
  {
   "cell_type": "code",
   "execution_count": null,
   "metadata": {},
   "outputs": [],
   "source": [
    "g = sns.FacetGrid(df, row=\"measure\", col=\"height_class\", hue=\"height_class\", height=4)\n",
    "g.map(sns.regplot, \"log_seg_length\", \"log_value\", marker='.', scatter_kws={'s':1})\n",
    "g.set_axis_labels(r\"$\\log$ segment length\", r\"$\\log$ mean value\")\n",
    "g.set(ylim=[-4, 1])\n",
    "plt.subplots_adjust(top=0.9)\n",
    "g.fig.suptitle(\"Brain 1\" if brain==\"brain1\" else \"Brain 2\")\n",
    "g.savefig(os.path.join(experiment_dir, \"figures\",  f\"{brain}_linear_regression_height_class.eps\"))\n",
    "g.savefig(os.path.join(experiment_dir, \"figures\", f\"{brain}_linear_regression_height_class.jpg\"))"
   ]
  }
 ],
 "metadata": {
  "kernelspec": {
   "display_name": "Python 3",
   "language": "python",
   "name": "python3"
  },
  "language_info": {
   "codemirror_mode": {
    "name": "ipython",
    "version": 3
   },
   "file_extension": ".py",
   "mimetype": "text/x-python",
   "name": "python",
   "nbconvert_exporter": "python",
   "pygments_lexer": "ipython3",
   "version": "3.8.5"
  }
 },
 "nbformat": 4,
 "nbformat_minor": 4
}
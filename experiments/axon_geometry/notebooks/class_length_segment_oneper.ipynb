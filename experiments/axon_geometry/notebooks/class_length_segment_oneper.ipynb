{
 "cells": [
  {
   "cell_type": "code",
   "execution_count": null,
   "metadata": {},
   "outputs": [],
   "source": [
    "from pathlib import Path\n",
    "import os\n",
    "import pandas as pd\n",
    "import seaborn as sns\n",
    "import matplotlib.pyplot as plt\n",
    "import numpy as np\n",
    "import scipy\n",
    "import random"
   ]
  },
  {
   "cell_type": "markdown",
   "metadata": {},
   "source": [
    "## Define brain, find trace data folder"
   ]
  },
  {
   "cell_type": "code",
   "execution_count": null,
   "metadata": {},
   "outputs": [],
   "source": [
    "#specify brain1 or brain2 below\n",
    "brain = \"brain1\"\n",
    "\n",
    "root_dir = Path(os.path.abspath('')).parents[1]\n",
    "experiment_dir = os.path.join(root_dir, \"axon_geometry\")\n",
    "data_dir = os.path.join(experiment_dir, \"data\", brain)\n",
    "segments_swc_dir = os.path.join(data_dir, \"segments_swc\")\n",
    "trace_data_dir = os.path.join(data_dir, \"trace_data\")\n",
    "trace_data_dir = os.path.join(trace_data_dir, \"14\")\n",
    "print(f\"Directory where swcs reside: {segments_swc_dir}\")"
   ]
  },
  {
   "cell_type": "markdown",
   "metadata": {},
   "source": [
    "## Read trace data"
   ]
  },
  {
   "cell_type": "code",
   "execution_count": null,
   "metadata": {
    "tags": []
   },
   "outputs": [],
   "source": [
    "max_id = 300\n",
    "\n",
    "\n",
    "def classify_height(row):\n",
    "    height = row[\"height\"]\n",
    "    if height <= 2:\n",
    "        return height\n",
    "    else:\n",
    "        return 3\n",
    "\n",
    "def numerical_class(row):\n",
    "    _class = row[\"class\"]\n",
    "    if _class == \"axon\":\n",
    "        return 0\n",
    "    if _class == \"collateral\":\n",
    "        return 1\n",
    "    if _class == \"terminal\":\n",
    "        return 2\n",
    "\n",
    "def collect_data(verbose=False):\n",
    "    df = pd.DataFrame(columns=[\"seg_id\", \"class\", \"height\", \"log_seg_length\", \"measure\", \"value\", \"log_value\"])\n",
    "    for i in np.arange(0, max_id):\n",
    "        i = int(i)\n",
    "        trace_data_path = os.path.join(trace_data_dir, \"{}.npy\".format(i))\n",
    "        if os.path.exists(trace_data_path) is True:\n",
    "            trace_data = np.load(trace_data_path, allow_pickle=True)\n",
    "            if verbose:\n",
    "                print(\"Loaded segment {}\".format(i))\n",
    "            \n",
    "            primary_idxs = []\n",
    "            collateral_idxs = []\n",
    "            terminal_idxs = []\n",
    "\n",
    "            for node_num, node in enumerate(trace_data):\n",
    "                _class = node[\"class\"]\n",
    "                if _class == 'axon':\n",
    "                    primary_idxs.append(node_num)\n",
    "                elif _class == 'collateral':\n",
    "                    collateral_idxs.append(node_num)\n",
    "                elif _class == 'terminal':\n",
    "                    terminal_idxs.append(node_num)\n",
    "\n",
    "            primary_idx = random.choice(primary_idxs)\n",
    "            collateral_idx = random.choice(collateral_idxs)\n",
    "            terminal_idx = random.choice(terminal_idxs)\n",
    "            \n",
    "            for node_num in [primary_idx, collateral_idx, terminal_idx]:\n",
    "                node = trace_data[node_num]\n",
    "                \n",
    "                seg_length = node[\"seg_length\"]\n",
    "                height = node[\"height\"]\n",
    "                _class = node[\"class\"]\n",
    "                mean_curvature = node[\"mean_curvature\"]\n",
    "                mean_torsion = node[\"mean_torsion\"]\n",
    "                \n",
    "                log_seg_length = np.log10(seg_length)\n",
    "\n",
    "                log_mean_curvature = np.log10(mean_curvature)\n",
    "                df = df.append({\"seg_id\": i, \"height\": height, \"class\": _class, \"log_seg_length\": log_seg_length, \"measure\": \"curvature\", \"value\": mean_curvature, \"log_value\": log_mean_curvature}, ignore_index=True)\n",
    "\n",
    "                log_mean_torsion = np.log10(mean_torsion)\n",
    "                df = df.append({\"seg_id\": i, \"height\": height, \"class\": _class, \"log_seg_length\": log_seg_length, \"measure\": \"torsion\", \"value\": mean_torsion, \"log_value\": log_mean_torsion}, ignore_index=True)\n",
    "\n",
    "        \n",
    "    df[\"class\"] = df.apply(numerical_class, axis=1)\n",
    "    df[\"height_class\"] = df.apply(classify_height, axis=1)\n",
    "    return df\n",
    "df = collect_data(verbose=True)\n"
   ]
  },
  {
   "cell_type": "markdown",
   "metadata": {},
   "source": [
    "# Density of `log` segment lengths as a function of spline class"
   ]
  },
  {
   "cell_type": "code",
   "execution_count": null,
   "metadata": {},
   "outputs": [],
   "source": [
    "sns.set_theme()\n",
    "sns.set_context(\"paper\")\n",
    "sns.set(font_scale=1.2)\n",
    "\n",
    "g = sns.FacetGrid(df, col=\"measure\", hue=\"class\", height=4)\n",
    "g.map(sns.kdeplot, \"log_seg_length\", bw_adjust=1.8)\n",
    "g.set_axis_labels(r\"$\\log$ segment length\", \"density\")\n",
    "g.add_legend(title=\"Segment class\")\n",
    "legend_labels = [\"primary\", \"collateral\", \"terminal\"]\n",
    "for t, l in zip(g._legend.texts, legend_labels): t.set_text(l)\n",
    "\n",
    "plt.subplots_adjust(top=0.85)\n",
    "g.fig.suptitle(\"Brain 1\" if brain==\"brain1\" else \"Brain 2\")\n",
    "\n",
    "axes = g.axes.flatten()\n",
    "axes[0].set_title(\"curvature\")\n",
    "axes[1].set_title(\"torsion\")\n",
    "g.savefig(os.path.join(experiment_dir, \"figures\",  f\"{brain}_seg_length_class_density.eps\"))\n",
    "g.savefig(os.path.join(experiment_dir, \"figures\", f\"{brain}_seg_length_class_density.jpg\"))"
   ]
  },
  {
   "cell_type": "markdown",
   "metadata": {},
   "source": [
    "# Density of curvature/torsion as a function of spline class"
   ]
  },
  {
   "cell_type": "code",
   "execution_count": null,
   "metadata": {},
   "outputs": [],
   "source": [
    "g = sns.FacetGrid(df, col=\"measure\", hue=\"class\", height=4)\n",
    "g.map(sns.kdeplot, \"value\", bw_adjust=2)\n",
    "\n",
    "g.set_axis_labels(r\"value\", \"density\")\n",
    "\n",
    "g.add_legend(title=\"Segment class\")\n",
    "legend_labels = [\"primary\", \"collateral\", \"terminal\"]\n",
    "for t, l in zip(g._legend.texts, legend_labels): t.set_text(l)\n",
    "    \n",
    "#g.set(xlim=[-3, 0], xticks=[-3, -2, -1, 0], yticks=[0, 1, 2, 3])\n",
    "g.set(xlim=[0, .2], xticks=[0, .1, .2])\n",
    "\n",
    "plt.subplots_adjust(top=0.85)\n",
    "g.fig.suptitle(\"Brain 1\" if brain==\"brain1\" else \"Brain 2\")\n",
    "\n",
    "axes = g.axes.flatten()\n",
    "axes[0].set_title(\"curvature\")\n",
    "axes[1].set_title(\"torsion\")\n",
    "\n",
    "g.savefig(os.path.join(experiment_dir, \"figures\",  f\"{brain}_mean_value_class_density.eps\"))\n",
    "g.savefig(os.path.join(experiment_dir, \"figures\", f\"{brain}_mean_value_class_density.jpg\"))"
   ]
  },
  {
   "cell_type": "markdown",
   "metadata": {},
   "source": [
    "# Evaluate mean and variance of curvature/torsion distributions based on spline class"
   ]
  },
  {
   "cell_type": "code",
   "execution_count": null,
   "metadata": {},
   "outputs": [],
   "source": [
    "measures = [\"curvature\", \"torsion\"]\n",
    "class_dict = {0: \"primary\", 1: \"collateral\", 2: \"terminal\"}\n",
    "\n",
    "for measure in measures:\n",
    "    measure_df = df[df[\"measure\"] == measure]\n",
    "    for class_id in class_dict:\n",
    "        class_name = class_dict[class_id]\n",
    "        class_values = measure_df[measure_df[\"class\"] == class_id][\"value\"]\n",
    "        class_mean = class_values.mean()\n",
    "        class_var = class_values.var()\n",
    "        print(f\"{class_name} {measure}, mu = {class_mean}, var = {class_var}\")"
   ]
  },
  {
   "cell_type": "markdown",
   "metadata": {},
   "source": [
    "# Scatter plots of `log` curvature/torsion against `log` segment length as a function of spline class"
   ]
  },
  {
   "cell_type": "code",
   "execution_count": null,
   "metadata": {},
   "outputs": [],
   "source": [
    "g = sns.FacetGrid(df, row=\"measure\", col=\"class\", hue=\"class\", height=4)\n",
    "g.map(sns.scatterplot, \"log_seg_length\", \"log_value\", marker='.', s=50)\n",
    "g.set_axis_labels(r\"$\\log$ segment length\", r\"$\\log$ mean value\")\n",
    "g.set(ylim=[-4, 1])\n",
    "plt.subplots_adjust(top=0.9)\n",
    "g.fig.suptitle(\"Brain 1\" if brain==\"brain1\" else \"Brain 2\")\n",
    "\n",
    "axes = g.axes\n",
    "for i, measure in enumerate([\"curvature\", \"torsion\"]):\n",
    "    for j, _class in enumerate([\"primary\", \"collateral\", \"terminal\"]):\n",
    "        ax = axes[i, j]\n",
    "        ax.set_title(f\"{measure} | {_class}\")\n",
    "        \n",
    "g.savefig(os.path.join(experiment_dir, \"figures\",  f\"{brain}_mean_value_class_scatter.eps\"))\n",
    "g.savefig(os.path.join(experiment_dir, \"figures\", f\"{brain}_mean_value_class_scatter.jpg\"))"
   ]
  },
  {
   "cell_type": "markdown",
   "metadata": {},
   "source": [
    "## Pairwise Wilcoxon Sum Ranked test and Kolgomorov-Smirnoff test"
   ]
  },
  {
   "cell_type": "code",
   "execution_count": null,
   "metadata": {},
   "outputs": [],
   "source": [
    "def run_tests(df, verbose=False):\n",
    "    p_df = pd.DataFrame(columns=[\"measure\", \"first_sample\", \"second_sample\", \"wilcoxon_p\", \"ks_p\"])\n",
    "\n",
    "    test_name = \"ks\"\n",
    "    test_f = scipy.stats.kstest\n",
    "\n",
    "    measures = [\"curvature\", \"torsion\"]\n",
    "\n",
    "    classes = {0: \"primary\", 1: \"collateral\", 2: \"terminal\"}\n",
    "    n = len(classes)\n",
    "    matrix_pairs = np.triu(np.ones((n, n)), k=1)\n",
    "    (coord_pairs_x, coord_pairs_y) = np.where(matrix_pairs == 1)\n",
    "\n",
    "    for measure in measures:\n",
    "        for x, y in zip(coord_pairs_x, coord_pairs_y):\n",
    "            first_sample_query = df.loc[(df['class'] == x) & (df['measure'] == measure)]\n",
    "            second_sample_query = df.loc[(df['class'] == y) & (df['measure'] == measure)]\n",
    "                \n",
    "            first_sample = first_sample_query[\"value\"].to_numpy()\n",
    "            second_sample = second_sample_query[\"value\"].to_numpy()\n",
    "                \n",
    "            test_column = f\"{test_name}_p\"\n",
    "            _, test_p = test_f(first_sample, second_sample)\n",
    "            if verbose:\n",
    "                print(f\"{test_name} test, measure = {measure}, {classes[x]} vs {classes[y]}, p_value = {test_p}\")\n",
    "                \n",
    "            p_df = p_df.append({\"measure\": measure, \"first_sample\": x, \"second_sample\": y, test_column: test_p}, ignore_index=True)\n",
    "    return p_df\n",
    "p_df = run_tests(df, verbose=True)"
   ]
  },
  {
   "cell_type": "code",
   "execution_count": null,
   "metadata": {},
   "outputs": [],
   "source": [
    "from tqdm import tqdm\n",
    "num_iters = 100\n",
    "pvals = np.zeros((6,num_iters))\n",
    "\n",
    "for i in tqdm(range(num_iters)):\n",
    "    df = collect_data()\n",
    "    p_df = run_tests(df)\n",
    "    pvals[:,i] = p_df['ks_p'].to_numpy()\n",
    "print(np.median(pvals, axis=1))"
   ]
  },
  {
   "cell_type": "code",
   "execution_count": null,
   "metadata": {},
   "outputs": [],
   "source": []
  }
 ],
 "metadata": {
  "kernelspec": {
   "display_name": "Python 3",
   "language": "python",
   "name": "python3"
  },
  "language_info": {
   "codemirror_mode": {
    "name": "ipython",
    "version": 3
   },
   "file_extension": ".py",
   "mimetype": "text/x-python",
   "name": "python",
   "nbconvert_exporter": "python",
   "pygments_lexer": "ipython3",
   "version": "3.8.6"
  }
 },
 "nbformat": 4,
 "nbformat_minor": 4
}

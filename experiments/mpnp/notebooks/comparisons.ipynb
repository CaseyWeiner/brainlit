{
 "cells": [
  {
   "cell_type": "code",
   "execution_count": 11,
   "metadata": {},
   "outputs": [],
   "source": [
    "from pathlib import Path\n",
    "from skimage import io\n",
    "import numpy as np\n",
    "import napari"
   ]
  },
  {
   "cell_type": "code",
   "execution_count": 18,
   "metadata": {},
   "outputs": [
    {
     "name": "stdout",
     "output_type": "stream",
     "text": [
      "Image shape: (519, 819, 155)\n",
      "coords shape: (10, 3)\n",
      "Soma coords: [[365, 239, 116], [226, 643, 92], [233, 459, 120], [439, 500, 62]]\n"
     ]
    }
   ],
   "source": [
    "num = 0\n",
    "janelia = True\n",
    "\n",
    "im_path = \"/Users/thomasathey/Documents/mimlab/mouselight/input/images/first10_quantitative/images/2018-08-01_\" + str(num) + \"_first10_quantitative.tif\"\n",
    "im = Path(im_path)\n",
    "im_og = io.imread(im, plugin=\"tifffile\")\n",
    "print(f\"Image shape: {im_og.shape}\")\n",
    "\n",
    "# read coords\n",
    "if janelia:\n",
    "    csv_path = \"/Users/thomasathey/Documents/mimlab/mouselight/input/images/first10_quantitative/voxel_coords.csv\"\n",
    "    coords = np.genfromtxt(csv_path, delimiter=',')\n",
    "    coords = coords[10*num:10*(num+1)].astype(int)\n",
    "    soma_coords = [list(coords[0,:])]\n",
    "    axon_coords = [list(coords[-1,:])]\n",
    "else:\n",
    "    csv_path = \"/Users/thomasathey/Documents/mimlab/mouselight/input/images/first10_quantitative/my_points/points_\" + str(num) + \".csv\"\n",
    "    coords = np.genfromtxt(csv_path, delimiter=',')\n",
    "    coords = coords[1:].astype(int)\n",
    "    coords = coords[:,1:]\n",
    "    soma_coords = [list(coords[-1,:])]\n",
    "    axon_coords = [list(coords[0,:])]\n",
    "\n",
    "coords_list = list(coords)\n",
    "coords_list = [list(c) for c in coords_list]\n",
    "print(f\"coords shape: {coords.shape}\")\n",
    "\n",
    "if num == 0:\n",
    "    soma_coords += [[226, 643, 92], [233, 459, 120], [439, 500, 62]]\n",
    "elif num == 7:\n",
    "    soma_coords += [[335, 178, 39], [1, 418, 322]]\n",
    "\n",
    "print(f\"Soma coords: {soma_coords}\")"
   ]
  },
  {
   "cell_type": "code",
   "execution_count": 13,
   "metadata": {},
   "outputs": [],
   "source": [
    "viewer = napari.Viewer(ndisplay=3)\n",
    "viewer.add_image(im_og)\n",
    "viewer.add_points(coords_list, face_color='green', size=8)\n",
    "\n",
    "viewer.add_points(soma_coords, face_color='orange', size=8)\n",
    "viewer.add_points(axon_coords, face_color='red', size=8)\n",
    "viewer.camera.angles = [0, -90, -90]\n",
    "napari.run()"
   ]
  },
  {
   "cell_type": "markdown",
   "metadata": {},
   "source": [
    "# Save as zarr"
   ]
  },
  {
   "cell_type": "code",
   "execution_count": 15,
   "metadata": {},
   "outputs": [],
   "source": [
    "import zarr"
   ]
  },
  {
   "cell_type": "code",
   "execution_count": 16,
   "metadata": {},
   "outputs": [],
   "source": [
    "zarr_path = \"/Users/thomasathey/Documents/mimlab/mouselight/input/images/first10_quantitative/images/\" + str(num) + \".zarr\"\n",
    "\n",
    "z = zarr.zeros(im_og.shape, chunks=im_og.shape, dtype=im_og.dtype)\n",
    "z = im_og\n",
    "zarr.save(zarr_path, z)"
   ]
  },
  {
   "cell_type": "markdown",
   "metadata": {},
   "source": [
    "# Make fragments"
   ]
  },
  {
   "cell_type": "code",
   "execution_count": 20,
   "metadata": {},
   "outputs": [],
   "source": [
    "from brainlit.algorithms.generate_fragments.state_generation import state_generation"
   ]
  },
  {
   "cell_type": "code",
   "execution_count": 21,
   "metadata": {},
   "outputs": [],
   "source": [
    "sg = state_generation(image_path=zarr_path,\n",
    "        ilastik_program_path=\"/Applications/ilastik-1.3.3post3-OSX.app/Contents/ilastik-release/run_ilastik.sh\",\n",
    "        ilastik_project_path=\"/Users/thomasathey/Documents/mimlab/mouselight/octopus_experiment/octopus_exp.ilp\",\n",
    "        chunk_size=im_og.shape,\n",
    "        soma_coords=soma_coords)"
   ]
  },
  {
   "cell_type": "code",
   "execution_count": 22,
   "metadata": {},
   "outputs": [
    {
     "name": "stdout",
     "output_type": "stream",
     "text": [
      "Constructing probability  image /Users/thomasathey/Documents/mimlab/mouselight/input/images/first10_quantitative/images/0_probs.zarr of shape (519, 819, 155)\n"
     ]
    },
    {
     "name": "stderr",
     "output_type": "stream",
     "text": [
      "Computing Ilastik Predictions: 100%|██████████| 1/1 [14:24<00:00, 864.61s/it]\n"
     ]
    }
   ],
   "source": [
    "sg.predict(data_bin=\"/Users/thomasathey/Documents/mimlab/mouselight/input/images/first10_quantitative/images/misc/\")"
   ]
  },
  {
   "cell_type": "code",
   "execution_count": null,
   "metadata": {},
   "outputs": [],
   "source": []
  }
 ],
 "metadata": {
  "interpreter": {
   "hash": "5dc00d68ff54f8375e99934614da4863299fb9e10af4294c095b7f517546ff26"
  },
  "kernelspec": {
   "display_name": "Python 3.8.10 64-bit ('docs_env': venv)",
   "language": "python",
   "name": "python3"
  },
  "language_info": {
   "codemirror_mode": {
    "name": "ipython",
    "version": 3
   },
   "file_extension": ".py",
   "mimetype": "text/x-python",
   "name": "python",
   "nbconvert_exporter": "python",
   "pygments_lexer": "ipython3",
   "version": "3.8.10"
  },
  "orig_nbformat": 4
 },
 "nbformat": 4,
 "nbformat_minor": 2
}

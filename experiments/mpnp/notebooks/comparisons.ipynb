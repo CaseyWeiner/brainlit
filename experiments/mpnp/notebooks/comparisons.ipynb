{
 "cells": [
  {
   "cell_type": "code",
   "execution_count": 1,
   "metadata": {},
   "outputs": [
    {
     "name": "stderr",
     "output_type": "stream",
     "text": [
      "/Users/thomasathey/Documents/mimlab/mouselight/docs_env/lib/python3.8/site-packages/nilearn/datasets/__init__.py:86: FutureWarning: Fetchers from the nilearn.datasets module will be updated in version 0.9 to return python strings instead of bytes and Pandas dataframes instead of Numpy arrays.\n",
      "  warn(\"Fetchers from the nilearn.datasets module will be \"\n"
     ]
    }
   ],
   "source": [
    "from pathlib import Path\n",
    "from skimage import io\n",
    "import numpy as np\n",
    "import napari\n",
    "from os.path import exists\n",
    "from brainlit.utils.session import NeuroglancerSession\n",
    "from cloudvolume.exceptions import SkeletonDecodeError"
   ]
  },
  {
   "cell_type": "code",
   "execution_count": 1,
   "metadata": {},
   "outputs": [
    {
     "ename": "NameError",
     "evalue": "name 'Path' is not defined",
     "output_type": "error",
     "traceback": [
      "\u001b[0;31m---------------------------------------------------------------------------\u001b[0m",
      "\u001b[0;31mNameError\u001b[0m                                 Traceback (most recent call last)",
      "\u001b[0;32m/var/folders/fq/9t66hqz51y5ddnygddgjtsmc0000gn/T/ipykernel_8333/1743243772.py\u001b[0m in \u001b[0;36m<module>\u001b[0;34m\u001b[0m\n\u001b[1;32m      3\u001b[0m \u001b[0;34m\u001b[0m\u001b[0m\n\u001b[1;32m      4\u001b[0m \u001b[0mim_path\u001b[0m \u001b[0;34m=\u001b[0m \u001b[0;34m\"/Users/thomasathey/Documents/mimlab/mouselight/input/images/first10_quantitative/images/2018-08-01_\"\u001b[0m \u001b[0;34m+\u001b[0m \u001b[0mstr\u001b[0m\u001b[0;34m(\u001b[0m\u001b[0mnum\u001b[0m\u001b[0;34m)\u001b[0m \u001b[0;34m+\u001b[0m \u001b[0;34m\"_first10_quantitative.tif\"\u001b[0m\u001b[0;34m\u001b[0m\u001b[0;34m\u001b[0m\u001b[0m\n\u001b[0;32m----> 5\u001b[0;31m \u001b[0mim\u001b[0m \u001b[0;34m=\u001b[0m \u001b[0mPath\u001b[0m\u001b[0;34m(\u001b[0m\u001b[0mim_path\u001b[0m\u001b[0;34m)\u001b[0m\u001b[0;34m\u001b[0m\u001b[0;34m\u001b[0m\u001b[0m\n\u001b[0m\u001b[1;32m      6\u001b[0m \u001b[0mimg\u001b[0m \u001b[0;34m=\u001b[0m \u001b[0mio\u001b[0m\u001b[0;34m.\u001b[0m\u001b[0mimread\u001b[0m\u001b[0;34m(\u001b[0m\u001b[0mim\u001b[0m\u001b[0;34m,\u001b[0m \u001b[0mplugin\u001b[0m\u001b[0;34m=\u001b[0m\u001b[0;34m\"tifffile\"\u001b[0m\u001b[0;34m)\u001b[0m\u001b[0;34m\u001b[0m\u001b[0;34m\u001b[0m\u001b[0m\n\u001b[1;32m      7\u001b[0m \u001b[0mprint\u001b[0m\u001b[0;34m(\u001b[0m\u001b[0;34mf\"Image shape: {img.shape}\"\u001b[0m\u001b[0;34m)\u001b[0m\u001b[0;34m\u001b[0m\u001b[0;34m\u001b[0m\u001b[0m\n",
      "\u001b[0;31mNameError\u001b[0m: name 'Path' is not defined"
     ]
    }
   ],
   "source": [
    "num = 9 #0,2,3,4,7,9\n",
    "janelia = False\n",
    "\n",
    "im_path = \"/Users/thomasathey/Documents/mimlab/mouselight/input/images/first10_quantitative/images/2018-08-01_\" + str(num) + \"_first10_quantitative.tif\"\n",
    "im = Path(im_path)\n",
    "img = io.imread(im, plugin=\"tifffile\")\n",
    "print(f\"Image shape: {img.shape}\")\n",
    "\n",
    "# read coords\n",
    "if janelia:\n",
    "    csv_path = \"/Users/thomasathey/Documents/mimlab/mouselight/input/images/first10_quantitative/voxel_coords.csv\"\n",
    "    coords = np.genfromtxt(csv_path, delimiter=',')\n",
    "    coords = coords[10*num:10*(num+1)].astype(int)\n",
    "    soma_coords = [list(coords[0,:])]\n",
    "    axon_coords = [list(coords[-1,:])]\n",
    "else:\n",
    "    csv_path = \"/Users/thomasathey/Documents/mimlab/mouselight/input/images/first10_quantitative/my_points/points_\" + str(num) + \".csv\"\n",
    "    coords = np.genfromtxt(csv_path, delimiter=',')\n",
    "    coords = coords[1:].astype(int)\n",
    "    coords = coords[:,1:]\n",
    "    soma_coords = [list(coords[-1,:])]\n",
    "    axon_coords = [list(coords[0,:])]\n",
    "\n",
    "coords_list = list(coords)\n",
    "coords_list = [list(c) for c in coords_list]\n",
    "print(f\"coords shape: {coords.shape}\")\n",
    "\n",
    "if num == 0:\n",
    "    soma_coords += [[226, 643, 92], [233, 459, 120], [439, 500, 62]]\n",
    "elif num == 7:\n",
    "    soma_coords += [[335, 178, 39], [1, 418, 322]]\n",
    "\n",
    "print(f\"Soma coords: {soma_coords}\")"
   ]
  },
  {
   "cell_type": "code",
   "execution_count": 2,
   "metadata": {},
   "outputs": [
    {
     "name": "stdout",
     "output_type": "stream",
     "text": [
      "#0 invalid\n",
      "#1 invalid\n"
     ]
    },
    {
     "name": "stderr",
     "output_type": "stream",
     "text": [
      "Downloading: 100%|██████████| 1/1 [00:00<00:00,  6.73it/s]"
     ]
    },
    {
     "name": "stdout",
     "output_type": "stream",
     "text": [
      "Skeleton # 2 exists\n",
      "#3 invalid\n",
      "#4 invalid\n",
      "#5 invalid\n",
      "#6 invalid\n"
     ]
    },
    {
     "name": "stderr",
     "output_type": "stream",
     "text": []
    },
    {
     "name": "stdout",
     "output_type": "stream",
     "text": [
      "Skeleton # 7 exists\n"
     ]
    },
    {
     "name": "stderr",
     "output_type": "stream",
     "text": [
      "\n",
      "Downloading: 100%|██████████| 1/1 [00:00<00:00,  1.35it/s]\n",
      "Downloading: 100%|██████████| 1/1 [00:01<00:00,  1.09s/it]\n",
      "\n",
      "\u001b[A\n",
      "\u001b[A\n",
      "\u001b[A\n",
      "\u001b[A\n",
      "\u001b[A\n",
      "\u001b[A\n",
      "\u001b[A"
     ]
    },
    {
     "name": "stdout",
     "output_type": "stream",
     "text": [
      "Image shape: (327, 348, 70)\n"
     ]
    }
   ],
   "source": [
    "dir = \"s3://open-neurodata/brainlit/brain1\"\n",
    "dir_segments = \"s3://open-neurodata/brainlit/brain1_segments\"\n",
    "\n",
    "ngl_sess = NeuroglancerSession(mip = 0, url = dir, url_segments=dir_segments)\n",
    "\n",
    "num_goal = 1\n",
    "num = -1\n",
    "skel_id = 0\n",
    "\n",
    "while num < num_goal:\n",
    "    try:\n",
    "        ngl_sess.pull_vertex_list(skel_id, [0], 1)\n",
    "        print(f\"Skeleton # {skel_id} exists\")\n",
    "        num += 1\n",
    "    except SkeletonDecodeError:\n",
    "        print(f\"#{skel_id} invalid\")\n",
    "    skel_id += 1\n",
    "\n",
    "img, bbox, vox = ngl_sess.pull_vertex_list(skel_id-1, [0,1,2,3,4,5,6,7,8,9], [50,50,15])\n",
    "print(f\"Image shape: {img.shape}\")\n",
    "coords_list = vox\n",
    "soma_coords = [coords_list[0]]\n",
    "axon_coords = [coords_list[-1]]"
   ]
  },
  {
   "cell_type": "code",
   "execution_count": 3,
   "metadata": {},
   "outputs": [
    {
     "name": "stderr",
     "output_type": "stream",
     "text": [
      "Downloading: 100%|██████████| 24/24 [00:03<00:00,  6.92it/s]\n"
     ]
    }
   ],
   "source": [
    "viewer = napari.Viewer(ndisplay=3)\n",
    "viewer.add_image(img)\n",
    "viewer.add_points(coords_list, face_color='green', size=8)\n",
    "\n",
    "viewer.add_points(soma_coords, face_color='orange', size=8)\n",
    "viewer.add_points(axon_coords, face_color='red', size=8)\n",
    "viewer.camera.angles = [0, -90, -90]\n",
    "napari.run()"
   ]
  },
  {
   "cell_type": "markdown",
   "metadata": {},
   "source": [
    "# Save as zarr"
   ]
  },
  {
   "cell_type": "code",
   "execution_count": 4,
   "metadata": {},
   "outputs": [],
   "source": [
    "import zarr"
   ]
  },
  {
   "cell_type": "code",
   "execution_count": 5,
   "metadata": {},
   "outputs": [],
   "source": [
    "zarr_path = \"/Users/thomasathey/Documents/mimlab/mouselight/input/images/firstn_quantitative/zarr/\" + str(num) + \".zarr\"\n",
    "\n",
    "z = zarr.zeros(img.shape, chunks=img.shape, dtype=img.dtype)\n",
    "z = img\n",
    "zarr.save(zarr_path, z)"
   ]
  },
  {
   "cell_type": "markdown",
   "metadata": {},
   "source": [
    "# Make fragments"
   ]
  },
  {
   "cell_type": "code",
   "execution_count": 6,
   "metadata": {},
   "outputs": [],
   "source": [
    "from brainlit.algorithms.generate_fragments.state_generation import state_generation"
   ]
  },
  {
   "cell_type": "code",
   "execution_count": 7,
   "metadata": {},
   "outputs": [],
   "source": [
    "sg = state_generation(image_path=\"/Users/thomasathey/Documents/mimlab/mouselight/input/images/firstn_quantitative/zarr/\" + str(num) + \".zarr\",\n",
    "        ilastik_program_path=\"/Applications/ilastik-1.3.3post3-OSX.app/Contents/ilastik-release/run_ilastik.sh\",\n",
    "        ilastik_project_path=\"/Users/thomasathey/Documents/mimlab/mouselight/octopus_experiment/octopus_exp.ilp\",\n",
    "        chunk_size=img.shape,\n",
    "        soma_coords=soma_coords)"
   ]
  },
  {
   "cell_type": "code",
   "execution_count": 8,
   "metadata": {},
   "outputs": [
    {
     "name": "stdout",
     "output_type": "stream",
     "text": [
      "Constructing probability  image /Users/thomasathey/Documents/mimlab/mouselight/input/images/firstn_quantitative/zarr/1_probs.zarr of shape (327, 348, 70)\n"
     ]
    },
    {
     "name": "stderr",
     "output_type": "stream",
     "text": [
      "Computing Ilastik Predictions:   0%|          | 0/1 [00:00<?, ?it/s]"
     ]
    }
   ],
   "source": [
    "sg.predict(data_bin=\"/Users/thomasathey/Documents/mimlab/mouselight/input/images/first10_quantitative/zarr/misc/\")"
   ]
  },
  {
   "cell_type": "code",
   "execution_count": null,
   "metadata": {},
   "outputs": [],
   "source": [
    "sg.compute_frags()"
   ]
  },
  {
   "cell_type": "code",
   "execution_count": null,
   "metadata": {},
   "outputs": [],
   "source": [
    "sg.compute_soma_lbls()"
   ]
  },
  {
   "cell_type": "code",
   "execution_count": null,
   "metadata": {},
   "outputs": [],
   "source": [
    "sg.compute_image_tiered()"
   ]
  },
  {
   "cell_type": "code",
   "execution_count": null,
   "metadata": {},
   "outputs": [],
   "source": [
    "sg.compute_states()"
   ]
  },
  {
   "cell_type": "code",
   "execution_count": null,
   "metadata": {},
   "outputs": [],
   "source": [
    "sg.compute_edge_weights()\n",
    "viterbrain = sg.viterbrain"
   ]
  },
  {
   "cell_type": "markdown",
   "metadata": {},
   "source": [
    "## Compute shortest path"
   ]
  },
  {
   "cell_type": "code",
   "execution_count": 3,
   "metadata": {},
   "outputs": [],
   "source": [
    "import pickle\n",
    "\n",
    "with open('/Users/thomasathey/Documents/mimlab/mouselight/input/images/firstn_quantitative/zarr/' + str(num) + '_viterbrain.pickle', 'rb') as handle:\n",
    "    viterbrain = pickle.load(handle)"
   ]
  },
  {
   "cell_type": "code",
   "execution_count": 8,
   "metadata": {},
   "outputs": [
    {
     "name": "stdout",
     "output_type": "stream",
     "text": [
      "[  0 994 995 996]\n",
      "[   0   89  760  777  785 1219]\n"
     ]
    }
   ],
   "source": [
    "vb_path = viterbrain.shortest_path(axon_coords[0], soma_coords[0])\n",
    "vb_path = [list(coord) for coord in vb_path]"
   ]
  },
  {
   "cell_type": "code",
   "execution_count": 9,
   "metadata": {},
   "outputs": [
    {
     "name": "stderr",
     "output_type": "stream",
     "text": [
      "Downloading: 100%|██████████| 108/108 [00:52<00:00,  2.05it/s]\n"
     ]
    },
    {
     "data": {
      "text/plain": [
       "<Shapes layer 'truth' at 0x167efc700>"
      ]
     },
     "execution_count": 9,
     "metadata": {},
     "output_type": "execute_result"
    }
   ],
   "source": [
    "viewer = napari.Viewer(ndisplay=3)\n",
    "viewer.add_image(img)\n",
    "viewer.add_shapes(vb_path, shape_type='path', edge_width=2, edge_color='red', name=\"viterbrain\")\n",
    "viewer.add_shapes(coords_list, shape_type='path', edge_width=2, edge_color='green', name=\"truth\")"
   ]
  },
  {
   "cell_type": "markdown",
   "metadata": {},
   "source": [
    "## Load other paths and resample"
   ]
  },
  {
   "cell_type": "code",
   "execution_count": null,
   "metadata": {},
   "outputs": [],
   "source": [
    "from sklearn.metrics import pairwise_distances_argmin_min\n",
    "from cloudvolume import Skeleton\n",
    "import networkx as nx\n",
    "from tqdm import tqdm\n",
    "from brainlit.viz import Bresenham3D\n",
    "import similaritymeasures"
   ]
  },
  {
   "cell_type": "code",
   "execution_count": null,
   "metadata": {},
   "outputs": [],
   "source": [
    "def read_swc(file_path, start_pt, end_pt, switch_axes = True, reflect_y = True, factor = [1,1,1]):\n",
    "    with open(file_path, \"r\") as f:\n",
    "        swc = f.read()\n",
    "    skel = Skeleton.from_swc(swc)\n",
    "\n",
    "\n",
    "    verts = np.array(skel.vertices)\n",
    "    if switch_axes:\n",
    "        verts[:, [0,2]] = verts[:, [2,0]]\n",
    "    if reflect_y:\n",
    "        verts[:,1] = im_og.shape[1] - 1 - verts[:,1]\n",
    "    verts = np.multiply(verts, factor)\n",
    "    skel.vertices = verts\n",
    "\n",
    "    # find path\n",
    "    amins, _ = pairwise_distances_argmin_min(np.array([end_pt]), skel.vertices)\n",
    "    soma_id = amins[0]\n",
    "\n",
    "    amins, _ = pairwise_distances_argmin_min(np.array([start_pt]), skel.vertices)\n",
    "    axon_id = amins[0]\n",
    "\n",
    "    g = nx.Graph()\n",
    "    num_verts = skel.vertices.shape[0]\n",
    "    g.add_nodes_from(np.arange(num_verts))\n",
    "    for e in tqdm(skel.edges):\n",
    "        g.add_edge(e[0],e[1])\n",
    "        \n",
    "    try:\n",
    "        graph_path = nx.shortest_path(g, source=axon_id, target=soma_id)\n",
    "    except:\n",
    "        graph_path = [axon_id]\n",
    "\n",
    "    path = []\n",
    "    for id in graph_path:\n",
    "        path.append(skel.vertices[id, :])\n",
    "    path = np.array(path)\n",
    "    path = np.concatenate(([start_pt], path, [end_pt]), axis=0)\n",
    "\n",
    "    #make mask\n",
    "    skel_mask = 0*im_og\n",
    "\n",
    "    # for edge in tqdm(skel.edges, desc='Drawing edges...'):\n",
    "    #     pt1 = skel.vertices[edge[0],:].astype(int)\n",
    "    #     pt2 = skel.vertices[edge[1],:].astype(int)\n",
    "    #     xs, ys, zs = Bresenham3D(int(pt1[0]), int(pt1[1]), int(pt1[2]),int(pt2[0]), int(pt2[1]), int(pt2[2]))\n",
    "    #     skel_mask[xs, ys, zs] = 1\n",
    "\n",
    "    return path, skel_mask\n",
    "\n",
    "def resample(path, spacing = 1):\n",
    "    new_path = []\n",
    "    for n in np.arange(path.shape[0]):\n",
    "        pt1 = path[n-1:n,:]\n",
    "        pt2 = path[n:n+1,:]\n",
    "\n",
    "        new_path.append(pt1)\n",
    "        dist = np.linalg.norm(pt1-pt2)\n",
    "\n",
    "        if dist > 1:\n",
    "            ts = np.arange(0, dist , 5)\n",
    "            mid = np.zeros((len(ts)-1,3))\n",
    "            for i,t in enumerate(ts[1:]):\n",
    "                mid[i,:] = pt1 + (t/dist)*(pt2 -  pt1)\n",
    "            new_path.append(mid)\n",
    "    new_path.append(pt2)\n",
    "    new_path = np.concatenate(new_path)\n",
    "    return new_path\n",
    "\n",
    "def sd(pts1, pts2, substantial = False, verbose=False):\n",
    "    _, dists1 = pairwise_distances_argmin_min(pts1, pts2)\n",
    "    _, dists2 = pairwise_distances_argmin_min(pts2, pts1)\n",
    "    if verbose:\n",
    "        print(dists1)\n",
    "        print(dists2)\n",
    "    if substantial:\n",
    "        ddiv1 = np.mean(dists1[dists1 > 2])\n",
    "        ddiv2 = np.mean(dists2[dists2 > 2])\n",
    "        return np.mean([ddiv1, ddiv2])\n",
    "    else:\n",
    "        ddiv1 = np.mean(dists1)\n",
    "        ddiv2 = np.mean(dists2)\n",
    "        return np.mean([ddiv1, ddiv2])"
   ]
  },
  {
   "cell_type": "code",
   "execution_count": null,
   "metadata": {},
   "outputs": [],
   "source": [
    "new_true = np.multiply(np.array(coords_list), [0.3,0.3,1])\n",
    "new_true_resample = resample(new_true)\n",
    "new_viterbi = np.multiply(np.array(vb_path), [0.3,0.3,1])\n",
    "new_viterbi = resample(new_viterbi)"
   ]
  },
  {
   "cell_type": "code",
   "execution_count": null,
   "metadata": {},
   "outputs": [],
   "source": [
    "app_reflect_y = False\n",
    "\n",
    "ad_path, _ = read_swc(\"/Users/thomasathey/Documents/mimlab/mouselight/input/images/first10_quantitative/other_traces_2/advantra_\" + str(num) + \".swc\",\n",
    "                    axon_coords[0], soma_coords[0], reflect_y=app_reflect_y)\n",
    "new_ad = np.multiply(np.array(ad_path), [0.3,0.3,1])\n",
    "new_ad = resample(new_ad)\n",
    "\n",
    "app_reflect_y = False\n",
    "\n",
    "app_path, _ = read_swc(\"/Users/thomasathey/Documents/mimlab/mouselight/input/images/first10_quantitative/other_traces_2/app2_\" + str(num) + \".swc\",\n",
    "                    axon_coords[0], soma_coords[0], reflect_y=app_reflect_y)\n",
    "new_app = np.multiply(np.array(app_path), [0.3,0.3,1])\n",
    "new_app = resample(new_app)\n",
    "\n",
    "#gtree\n",
    "switch_axes = True\n",
    "factor = [1/0.3,1/0.3,1]\n",
    "reflect_y = False\n",
    "\n",
    "gtree_path, gtree_mask = read_swc(\"/Users/thomasathey/Documents/mimlab/mouselight/input/images/first10_quantitative/other_traces_2/gtree_\" + str(num) + \"/gtree_\" + str(num) + \"_000.swc\",\n",
    "                    axon_coords[0], soma_coords[0], switch_axes=switch_axes, reflect_y=reflect_y, factor=factor)\n",
    "new_gtree = np.multiply(np.array(gtree_path), [0.3,0.3,1])\n",
    "new_gtree = resample(new_gtree)"
   ]
  },
  {
   "cell_type": "code",
   "execution_count": null,
   "metadata": {},
   "outputs": [],
   "source": [
    "viewer = napari.Viewer(ndisplay=3)\n",
    "viewer.add_image(img, scale=[0.3,0.3,1])\n",
    "viewer.add_shapes(new_viterbi, shape_type='path', edge_width=2, edge_color='red', name=\"viterbrain\")\n",
    "viewer.add_shapes(new_true_resample, shape_type='path', edge_width=2, edge_color='green', name=\"truth\")\n",
    "viewer.add_shapes(new_app, shape_type='path', edge_width=2, edge_color='blue', name=\"app2\")\n",
    "viewer.add_shapes(new_ad, shape_type='path', edge_width=2, edge_color='blue', name=\"advantra\")\n",
    "viewer.add_shapes(new_gtree, shape_type='path', edge_width=2, edge_color='orange', name=\"gtree\")"
   ]
  },
  {
   "cell_type": "code",
   "execution_count": null,
   "metadata": {},
   "outputs": [],
   "source": [
    "print(f\"Viterbi: Frechet: {similaritymeasures.frechet_dist(new_true_resample, new_viterbi)}, SSD: {sd(new_true_resample, new_viterbi, substantial = False)}\")\n",
    "print(f\"APP2: Frechet: {similaritymeasures.frechet_dist(new_true_resample, new_app)}, SSD: {sd(new_true_resample, new_app, substantial = False)}\")\n",
    "print(f\"Advantra: Frechet: {similaritymeasures.frechet_dist(new_true_resample, new_ad)}, SSD: {sd(new_true_resample, new_app, substantial = False)}\")\n",
    "print(f\"gtree: Frechet: {similaritymeasures.frechet_dist(new_true_resample, new_gtree)}, SSD: {sd(new_true_resample, new_gtree, substantial = False)}\")\n"
   ]
  },
  {
   "cell_type": "code",
   "execution_count": null,
   "metadata": {},
   "outputs": [],
   "source": []
  }
 ],
 "metadata": {
  "interpreter": {
   "hash": "5dc00d68ff54f8375e99934614da4863299fb9e10af4294c095b7f517546ff26"
  },
  "kernelspec": {
   "display_name": "Python 3.8.10 64-bit ('docs_env': venv)",
   "language": "python",
   "name": "python3"
  },
  "language_info": {
   "codemirror_mode": {
    "name": "ipython",
    "version": 3
   },
   "file_extension": ".py",
   "mimetype": "text/x-python",
   "name": "python",
   "nbconvert_exporter": "python",
   "pygments_lexer": "ipython3",
   "version": "3.8.10"
  },
  "orig_nbformat": 4
 },
 "nbformat": 4,
 "nbformat_minor": 2
}

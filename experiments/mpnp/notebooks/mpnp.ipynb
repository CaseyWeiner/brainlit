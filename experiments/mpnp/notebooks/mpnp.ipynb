{
 "cells": [
  {
   "cell_type": "code",
   "execution_count": 1,
   "source": [
    "from tqdm import tqdm\n",
    "import pickle\n",
    "\n",
    "from skimage import io, measure\n",
    "import numpy as np \n",
    "import h5py\n",
    "from brainlit.preprocessing import image_process\n",
    "from brainlit.algorithms.connect_fragments import dynamic_programming_viterbi2\n",
    "import scipy.ndimage as ndi \n",
    "from sklearn.metrics import pairwise_distances_argmin_min\n",
    "import napari\n",
    "import networkx as nx"
   ],
   "outputs": [
    {
     "output_type": "stream",
     "name": "stderr",
     "text": [
      "/Users/thomasathey/Documents/mimlab/mouselight/docs_env/lib/python3.8/site-packages/nilearn/datasets/__init__.py:86: FutureWarning: Fetchers from the nilearn.datasets module will be updated in version 0.9 to return python strings instead of bytes and Pandas dataframes instead of Numpy arrays.\n",
      "  warn(\"Fetchers from the nilearn.datasets module will be \"\n"
     ]
    }
   ],
   "metadata": {}
  },
  {
   "cell_type": "code",
   "execution_count": 14,
   "source": [
    "num = 9\n",
    "\n",
    "res = [0.3,0.3,1]\n",
    "\n",
    "# read image\n",
    "im_path = \"/Users/thomasathey/Documents/mimlab/mouselight/input/images/first10_quantitative/images/2018-08-01_\" + str(num) + \"_first10_quantitative.tif\"\n",
    "im_og = io.imread(im_path, plugin=\"tifffile\")\n",
    "print(f\"Image shape: {im_og.shape}\")\n",
    "\n",
    "# read coords\n",
    "csv_path = \"/Users/thomasathey/Documents/mimlab/mouselight/input/images/first10_quantitative/voxel_coords.csv\"\n",
    "\n",
    "coords = np.genfromtxt(csv_path, delimiter=',')\n",
    "coords = coords[num*10:(num+1)*10].astype(int)\n",
    "coords_list = list(coords)\n",
    "coords_list = [list(c) for c in coords_list]\n",
    "coords_list.reverse()\n",
    "print(f\"coords shape: {coords.shape}\")\n",
    "\n",
    "# read ilastik\n",
    "pred_path = \"/Users/thomasathey/Documents/mimlab/mouselight/input/images/first10_quantitative/2018-08-01_\" + str(num) + \"_first10_quantitative_Probabilities.h5\"\n",
    "f = h5py.File(pred_path, 'r')\n",
    "pred = f.get('exported_data')\n",
    "pred = pred[:,:,:,1]\n",
    "im_processed = pred\n",
    "\n",
    "threshold = 0.9  # 0.1\n",
    "labels = measure.label(im_processed > threshold)"
   ],
   "outputs": [
    {
     "output_type": "stream",
     "name": "stdout",
     "text": [
      "Image shape: (259, 443, 112)\n",
      "coords shape: (10, 3)\n"
     ]
    }
   ],
   "metadata": {}
  },
  {
   "cell_type": "code",
   "execution_count": 15,
   "source": [
    "soma_coords = [list(coords[0,:])]\n",
    "axon_coords = [list(coords[-1,:])]\n",
    "\n",
    "if num == 0:\n",
    "    soma_coords += [[226, 643, 92], [233, 459, 120], [439, 500, 62]]\n",
    "elif num == 7:\n",
    "    soma_coords += [[335, 178, 39], [1, 418, 322]]"
   ],
   "outputs": [],
   "metadata": {}
  },
  {
   "cell_type": "markdown",
   "source": [
    "# Process Labels"
   ],
   "metadata": {}
  },
  {
   "cell_type": "code",
   "execution_count": 16,
   "source": [
    "new_labels = image_process.split_frags(soma_coords, labels, im_processed, threshold, res)"
   ],
   "outputs": [
    {
     "output_type": "stream",
     "name": "stderr",
     "text": [
      "Adding points...: 100%|██████████| 142213/142213 [00:11<00:00, 12559.42it/s]\n",
      "Splitting Fragments: 100%|██████████| 76/76 [00:02<00:00, 36.37it/s]\n",
      "Split fractured components: 100%|██████████| 741/741 [01:38<00:00,  7.53it/s]\n",
      "100%|██████████| 793/793 [00:02<00:00, 308.96it/s] \n",
      "286it [00:17, 16.13it/s]                         \n"
     ]
    }
   ],
   "metadata": {}
  },
  {
   "cell_type": "code",
   "execution_count": null,
   "source": [
    "viewer = napari.Viewer(ndisplay=3)\n",
    "\n",
    "viewer.add_image(im_og)\n",
    "viewer.add_labels(new_labels)"
   ],
   "outputs": [],
   "metadata": {}
  },
  {
   "cell_type": "code",
   "execution_count": 18,
   "source": [
    "_, axon_lbls = image_process.label_points(new_labels, axon_coords, res)\n",
    "_, soma_lbls = image_process.label_points(new_labels, soma_coords, res)\n",
    "soma_lbl = soma_lbls[0]\n",
    "\n",
    "print(f\"Axon label: {axon_lbls}, soma labels: {soma_lbls}\")"
   ],
   "outputs": [
    {
     "output_type": "stream",
     "name": "stdout",
     "text": [
      "Axon label: [431], soma labels: [43]\n"
     ]
    }
   ],
   "metadata": {}
  },
  {
   "cell_type": "code",
   "execution_count": 19,
   "source": [
    "viterbi = dynamic_programming_viterbi2.most_probable_neuron_path(image=im_og.astype(float), labels=new_labels, soma_lbls=soma_lbls, resolution=(0.3, 0.3, 1), coef_dist=10, coef_curv=1000)\n",
    "viterbi.frags_to_lines()"
   ],
   "outputs": [
    {
     "output_type": "stream",
     "name": "stderr",
     "text": [
      "setting up emission distribution...: 100%|██████████| 37702/37702 [08:04<00:00, 77.77it/s]\n",
      "Computing line representations: 100%|██████████| 507/507 [00:08<00:00, 60.89it/s]\n"
     ]
    }
   ],
   "metadata": {}
  },
  {
   "cell_type": "code",
   "execution_count": 20,
   "source": [
    "with open('/Users/thomasathey/Documents/mimlab/mouselight/brainlit_parent/brainlit/experiments/mpnp/objects/viterbi_'+str(num)+'.pickle', 'wb') as handle:\n",
    "    pickle.dump(viterbi, handle)"
   ],
   "outputs": [],
   "metadata": {}
  },
  {
   "cell_type": "code",
   "execution_count": null,
   "source": [
    "with open('/Users/thomasathey/Documents/mimlab/mouselight/brainlit_parent/brainlit/experiments/mpnp/objects/viterbi_'+str(num)+'.pickle', 'rb') as handle:\n",
    "    viterbi = pickle.load(handle)\n",
    "\n",
    "im = viterbi.image\n",
    "im_og = im\n",
    "new_labels = viterbi.labels\n",
    "soma_lbls = viterbi.soma_lbls\n",
    "\n",
    "_, axon_lbls = image_process.label_points(new_labels, axon_coords, res)\n",
    "_, soma_lbls = image_process.label_points(new_labels, soma_coords, res)\n",
    "soma_lbl = soma_lbls[0]\n",
    "print(f\"Axon labels: {axon_lbls}, soma labels: {soma_lbls}\")"
   ],
   "outputs": [],
   "metadata": {}
  },
  {
   "cell_type": "code",
   "execution_count": 21,
   "source": [
    "viterbi.reset_dists(type=\"all\")\n",
    "viterbi.compute_all_costs_dist(point_point_func=viterbi.point_point_dist, point_blob_func=viterbi.point_blob_dist)\n",
    "viterbi.compute_all_costs_int()"
   ],
   "outputs": [
    {
     "output_type": "stream",
     "name": "stderr",
     "text": [
      "Computing state costs (geometry): 100%|██████████| 1026169/1026169 [00:15<00:00, 66622.57it/s]\n",
      "Normalizing: 100%|██████████| 1013/1013 [00:00<00:00, 15785.69it/s]\n",
      "Computing state costs (intensity): 100%|██████████| 1026169/1026169 [00:04<00:00, 206802.11it/s]\n"
     ]
    }
   ],
   "metadata": {}
  },
  {
   "cell_type": "code",
   "execution_count": 22,
   "source": [
    "viterbi.create_nx_graph()"
   ],
   "outputs": [
    {
     "output_type": "stream",
     "name": "stderr",
     "text": [
      "Adding nodes to nx graph: 100%|██████████| 1013/1013 [00:00<00:00, 211922.29it/s]\n",
      "Adding edges to nx graph: 100%|██████████| 1013/1013 [00:03<00:00, 302.33it/s]\n"
     ]
    }
   ],
   "metadata": {}
  },
  {
   "cell_type": "code",
   "execution_count": 23,
   "source": [
    "axon_lbl= axon_lbls[0]\n",
    "\n",
    "start1 = viterbi.comp_to_states[axon_lbl][0]\n",
    "start2 = viterbi.comp_to_states[axon_lbl][1]\n",
    "end_state = viterbi.comp_to_states[soma_lbl][0]\n",
    "\n",
    "if num in [1, 3, 4, 6, 7, 8]:\n",
    "    start = start1\n",
    "elif num in [0, 2, 5, 9]:\n",
    "    start = start2"
   ],
   "outputs": [],
   "metadata": {}
  },
  {
   "cell_type": "code",
   "execution_count": 24,
   "source": [
    "path_states = nx.shortest_path(viterbi.nxGraph, start, end_state, weight='weight')"
   ],
   "outputs": [],
   "metadata": {}
  },
  {
   "cell_type": "code",
   "execution_count": 25,
   "source": [
    "path_comps = []\n",
    "for state in path_states:\n",
    "    path_comps.append(viterbi.state_to_comp[state][1])\n",
    "print(f'path sequence: {path_states}')\n",
    "print(f'component sequence: {path_comps}')\n",
    "\n",
    "path_mask = 0*new_labels\n",
    "for i, label in enumerate(path_comps):\n",
    "    path_mask[new_labels == label] = i+1\n",
    "\n",
    "soma_mask = 0*new_labels\n",
    "for soma_lbl in viterbi.soma_lbls:\n",
    "    soma_mask[new_labels == soma_lbl] = soma_lbl\n",
    "\n",
    "viewer = napari.Viewer(ndisplay=3)\n",
    "viewer.add_image(viterbi.image)\n",
    "viewer.add_labels(new_labels)\n",
    "viewer.add_labels(path_mask)\n",
    "viewer.add_labels(soma_mask)\n",
    "viewer.add_labels(new_labels == axon_lbl)\n",
    "\n",
    "viewer.add_points([axon_coords[0]], face_color=\"red\", size=10)\n",
    "\n",
    "lines = []\n",
    "cumul_cost = 0\n",
    "for s, state in enumerate(path_states):\n",
    "    if s>0:\n",
    "        dist_cost = viterbi.cost_mat_dist[path_states[s-1], state]\n",
    "        int_cost = viterbi.cost_mat_int[path_states[s-1], state]\n",
    "        cumul_cost += dist_cost + int_cost\n",
    "        print(f\"Trans. #{s}: dist cost state {path_states[s-1]}->state {state}, comp {viterbi.state_to_comp[path_states[s-1]][1]}->comp {viterbi.state_to_comp[state][1]}: {dist_cost:.2f}, int cost: {int_cost:.2f}, cum. cost: {cumul_cost:.2f}\")\n",
    "    if viterbi.state_to_comp[state][0] == \"fragment\":\n",
    "        lines.append(list(viterbi.state_to_comp[state][2][\"coord1\"]))\n",
    "        lines.append(list(viterbi.state_to_comp[state][2][\"coord2\"]))\n",
    "    elif viterbi.state_to_comp[path_states[s-1]][0] == \"fragment\":\n",
    "        lines.append(list(viterbi.state_to_comp[path_states[s-1]][2][\"soma connection point\"]))\n",
    "lines.insert(0, coords_list[0]) \n",
    "lines.append(coords_list[-1])      \n",
    "viewer.add_shapes(lines, shape_type=\"path\", edge_color=\"blue\", edge_width=2)\n",
    "viewer.add_shapes(coords_list, shape_type=\"path\", edge_color=\"green\", edge_width=2)\n",
    "\n",
    "viewer.camera.angles = [0, -90, 180]\n",
    "napari.run()\n"
   ],
   "outputs": [
    {
     "output_type": "stream",
     "name": "stdout",
     "text": [
      "path sequence: [860, 865, 893, 914, 924, 936, 943, 953, 985, 1000, 688, 84]\n",
      "component sequence: [431, 434, 448, 458, 463, 469, 473, 478, 494, 501, 345, 43]\n",
      "Trans. #1: dist cost state 860->state 865, comp 431->comp 434: 0.00, int cost: 406.41, cum. cost: 406.41\n",
      "Trans. #2: dist cost state 865->state 893, comp 434->comp 448: 0.00, int cost: 336.44, cum. cost: 742.85\n",
      "Trans. #3: dist cost state 893->state 914, comp 448->comp 458: 0.00, int cost: 112.44, cum. cost: 855.29\n",
      "Trans. #4: dist cost state 914->state 924, comp 458->comp 463: 0.00, int cost: 211.88, cum. cost: 1067.18\n",
      "Trans. #5: dist cost state 924->state 936, comp 463->comp 469: 0.00, int cost: 231.64, cum. cost: 1298.82\n",
      "Trans. #6: dist cost state 936->state 943, comp 469->comp 473: 0.00, int cost: 180.45, cum. cost: 1479.27\n",
      "Trans. #7: dist cost state 943->state 953, comp 473->comp 478: 0.00, int cost: 172.30, cum. cost: 1651.57\n",
      "Trans. #8: dist cost state 953->state 985, comp 478->comp 494: 0.00, int cost: 148.67, cum. cost: 1800.23\n",
      "Trans. #9: dist cost state 985->state 1000, comp 494->comp 501: 0.00, int cost: 197.30, cum. cost: 1997.53\n",
      "Trans. #10: dist cost state 1000->state 688, comp 501->comp 345: 473.65, int cost: 320.68, cum. cost: 2791.87\n",
      "Trans. #11: dist cost state 688->state 84, comp 345->comp 43: 0.00, int cost: 0.00, cum. cost: 2791.87\n"
     ]
    }
   ],
   "metadata": {}
  },
  {
   "cell_type": "code",
   "execution_count": null,
   "source": [],
   "outputs": [],
   "metadata": {}
  }
 ],
 "metadata": {
  "orig_nbformat": 4,
  "language_info": {
   "name": "python",
   "version": "3.8.10",
   "mimetype": "text/x-python",
   "codemirror_mode": {
    "name": "ipython",
    "version": 3
   },
   "pygments_lexer": "ipython3",
   "nbconvert_exporter": "python",
   "file_extension": ".py"
  },
  "kernelspec": {
   "name": "python3",
   "display_name": "Python 3.8.10 64-bit ('docs_env': venv)"
  },
  "interpreter": {
   "hash": "c6a82fd7624a30cb39f184f8a867df460926136b3ed0e9f03cd044bdf3194e37"
  }
 },
 "nbformat": 4,
 "nbformat_minor": 2
}
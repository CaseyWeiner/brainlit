{
 "cells": [
  {
   "cell_type": "code",
   "execution_count": 1,
   "metadata": {},
   "outputs": [],
   "source": [
    "import zarr\n",
    "from skimage import io "
   ]
  },
  {
   "cell_type": "code",
   "execution_count": null,
   "metadata": {},
   "outputs": [],
   "source": [
    "for i in range(35):\n",
    "    path = \"/Users/thomasathey/Documents/mimlab/mouselight/input/images/firstn_quantitative/zarr/\" + str(i) + \".zarr\"\n",
    "    z = zarr.open(path)\n",
    "    img = z[:,:,:]\n",
    "\n",
    "    img8 = (img/256).astype('uint8')\n",
    "    outpath = \"/Users/thomasathey/Documents/mimlab/mouselight/input/images/firstn_quantitative/tif_8bit/\" + str(i) + \"_8bit.tif\"\n",
    "    io.imsave(outpath, img8)\n",
    "    "
   ]
  },
  {
   "cell_type": "code",
   "execution_count": null,
   "metadata": {},
   "outputs": [],
   "source": [
    "from scipy.stats import fisher_exact\n",
    "\n",
    "fisher_exact([[7,13],[1,19]])"
   ]
  },
  {
   "cell_type": "code",
   "execution_count": null,
   "metadata": {},
   "outputs": [],
   "source": [
    "data_sd = [[1.6,2.6,3.3,1.6,2.5,1.9,2.3,2.2, 2.2, 2.1, 2.1], [1.7,2.0,2.0,1.5]]\n",
    "\n",
    "fig7, ax7 = plt.subplots()\n",
    "ax7.set_title('')\n",
    "ax7.set_xlabel(\"Method\")\n",
    "ax7.set_ylabel(\"Spatial Distance\")\n",
    "ax7.boxplot(data_sd, labels=[\"Viterbrain\", \"APP2\"])"
   ]
  },
  {
   "cell_type": "code",
   "execution_count": 25,
   "metadata": {},
   "outputs": [],
   "source": [
    "import os \n",
    "import numpy as np \n",
    "from skimage import io\n",
    "\n",
    "dir = \"/Users/thomasathey/Downloads/Neocortical Layer 1 Axons/Subset 2/Image Stacks/01/\"\n",
    "files = os.listdir(dir)\n",
    "files = [file for file in files if '.tif' in file]\n",
    "\n",
    "file = dir + files[0]\n",
    "slice = io.imread(file)\n",
    "\n",
    "image = np.zeros((slice.shape[0], slice.shape[1], len(files)))\n",
    "image.shape\n",
    "\n",
    "for f in files:\n",
    "    file = dir + f\n",
    "    slice = io.imread(file)\n",
    "    slice_num = int(f.split(\".\")[0])-1\n",
    "    image[:,:,slice_num] = slice"
   ]
  },
  {
   "cell_type": "code",
   "execution_count": 26,
   "metadata": {},
   "outputs": [],
   "source": [
    "import napari\n",
    "\n",
    "viewer = napari.Viewer(ndisplay=3)\n",
    "viewer.add_image(image)\n",
    "napari.run()"
   ]
  },
  {
   "cell_type": "code",
   "execution_count": 25,
   "metadata": {},
   "outputs": [
    {
     "name": "stderr",
     "output_type": "stream",
     "text": [
      "  5%|▍         | 3154/65530 [04:32<1:29:47, 11.58it/s]\n"
     ]
    },
    {
     "ename": "KeyboardInterrupt",
     "evalue": "",
     "output_type": "error",
     "traceback": [
      "\u001b[0;31m---------------------------------------------------------------------------\u001b[0m",
      "\u001b[0;31mKeyboardInterrupt\u001b[0m                         Traceback (most recent call last)",
      "\u001b[0;32m/var/folders/fq/9t66hqz51y5ddnygddgjtsmc0000gn/T/ipykernel_21390/2236115616.py\u001b[0m in \u001b[0;36m<module>\u001b[0;34m\u001b[0m\n\u001b[1;32m     11\u001b[0m \u001b[0;32mfor\u001b[0m \u001b[0munq\u001b[0m \u001b[0;32min\u001b[0m \u001b[0mtqdm\u001b[0m\u001b[0;34m(\u001b[0m\u001b[0mnp\u001b[0m\u001b[0;34m.\u001b[0m\u001b[0munique\u001b[0m\u001b[0;34m(\u001b[0m\u001b[0mra\u001b[0m\u001b[0;34m)\u001b[0m\u001b[0;34m)\u001b[0m\u001b[0;34m:\u001b[0m\u001b[0;34m\u001b[0m\u001b[0;34m\u001b[0m\u001b[0m\n\u001b[1;32m     12\u001b[0m     \u001b[0;32mif\u001b[0m \u001b[0munq\u001b[0m \u001b[0;34m>\u001b[0m \u001b[0;36m0\u001b[0m\u001b[0;34m:\u001b[0m\u001b[0;34m\u001b[0m\u001b[0;34m\u001b[0m\u001b[0m\n\u001b[0;32m---> 13\u001b[0;31m         \u001b[0mra\u001b[0m\u001b[0;34m[\u001b[0m\u001b[0mra\u001b[0m \u001b[0;34m==\u001b[0m \u001b[0munq\u001b[0m\u001b[0;34m]\u001b[0m \u001b[0;34m=\u001b[0m \u001b[0mcounter\u001b[0m\u001b[0;34m\u001b[0m\u001b[0;34m\u001b[0m\u001b[0m\n\u001b[0m\u001b[1;32m     14\u001b[0m         \u001b[0mcounter\u001b[0m \u001b[0;34m+=\u001b[0m \u001b[0;36m1\u001b[0m\u001b[0;34m\u001b[0m\u001b[0;34m\u001b[0m\u001b[0m\n\u001b[1;32m     15\u001b[0m \u001b[0mnp\u001b[0m\u001b[0;34m.\u001b[0m\u001b[0munique\u001b[0m\u001b[0;34m(\u001b[0m\u001b[0mra\u001b[0m\u001b[0;34m)\u001b[0m\u001b[0;34m\u001b[0m\u001b[0;34m\u001b[0m\u001b[0m\n",
      "\u001b[0;31mKeyboardInterrupt\u001b[0m: "
     ]
    }
   ],
   "source": [
    "from skimage import io\n",
    "import zarr\n",
    "from tqdm import tqdm\n",
    "\n",
    "ra = io.imread(\"/Users/thomasathey/Documents/mimlab/mouselight/input/images/big/1mm_labels_ds.tif\")\n",
    "z = zarr.zeros(ra.shape, chunks=ra.shape)\n",
    "z[:,:,:] = ra\n",
    "#zarr.save(\"/Users/thomasathey/Documents/mimlab/mouselight/input/images/big/1mm_tiered_ds.zarr\",z)\n",
    "\n",
    "counter = 1\n",
    "for unq in tqdm(np.unique(ra)):\n",
    "    if unq > 0:\n",
    "        ra[ra == unq] = counter\n",
    "        counter += 1\n",
    "np.unique(ra)"
   ]
  },
  {
   "cell_type": "markdown",
   "metadata": {},
   "source": [
    "## run 1mm downsample"
   ]
  },
  {
   "cell_type": "code",
   "execution_count": 19,
   "metadata": {},
   "outputs": [],
   "source": [
    "from brainlit.algorithms.connect_fragments.viterbrain import ViterBrain\n",
    "from brainlit.algorithms.generate_fragments.state_generation import state_generation\n",
    "\n",
    "sg = state_generation(image_path=\"/Users/thomasathey/Documents/mimlab/mouselight/input/images/big/1mm_ds.zarr\",\n",
    "        ilastik_program_path=\"\",\n",
    "        ilastik_project_path=\"\",\n",
    "        chunk_size=[300, 300, 100],\n",
    "        soma_coords=[[416,416,125]],\n",
    "        resolution=[1.2, 1.2, 4],\n",
    "        parallel=8,\n",
    "        prob_path=\"/Users/thomasathey/Documents/mimlab/mouselight/input/images/big/1mm_probs_ds.zarr\",\n",
    "        fragment_path=\"/Users/thomasathey/Documents/mimlab/mouselight/input/images/big/1mm_labels_ds.zarr\",\n",
    "        tiered_path=\"/Users/thomasathey/Documents/mimlab/mouselight/input/images/big/1mm_tiered_ds.zarr\",\n",
    "        states_path=None,)"
   ]
  },
  {
   "cell_type": "code",
   "execution_count": 20,
   "metadata": {},
   "outputs": [],
   "source": [
    "sg.compute_soma_lbls()"
   ]
  },
  {
   "cell_type": "code",
   "execution_count": 21,
   "metadata": {},
   "outputs": [
    {
     "name": "stdout",
     "output_type": "stream",
     "text": [
      "Computing states\n"
     ]
    },
    {
     "name": "stderr",
     "output_type": "stream",
     "text": [
      "/Users/thomasathey/Documents/mimlab/mouselight/docs_env/lib/python3.8/site-packages/nilearn/datasets/__init__.py:86: FutureWarning: Fetchers from the nilearn.datasets module will be updated in version 0.9 to return python strings instead of bytes and Pandas dataframes instead of Numpy arrays.\n",
      "  warn(\"Fetchers from the nilearn.datasets module will be \"\n",
      "/Users/thomasathey/Documents/mimlab/mouselight/docs_env/lib/python3.8/site-packages/nilearn/datasets/__init__.py:86: FutureWarning: Fetchers from the nilearn.datasets module will be updated in version 0.9 to return python strings instead of bytes and Pandas dataframes instead of Numpy arrays.\n",
      "  warn(\"Fetchers from the nilearn.datasets module will be \"\n",
      "/Users/thomasathey/Documents/mimlab/mouselight/docs_env/lib/python3.8/site-packages/nilearn/datasets/__init__.py:86: FutureWarning: Fetchers from the nilearn.datasets module will be updated in version 0.9 to return python strings instead of bytes and Pandas dataframes instead of Numpy arrays.\n",
      "  warn(\"Fetchers from the nilearn.datasets module will be \"\n",
      "/Users/thomasathey/Documents/mimlab/mouselight/docs_env/lib/python3.8/site-packages/nilearn/datasets/__init__.py:86: FutureWarning: Fetchers from the nilearn.datasets module will be updated in version 0.9 to return python strings instead of bytes and Pandas dataframes instead of Numpy arrays.\n",
      "  warn(\"Fetchers from the nilearn.datasets module will be \"\n",
      "/Users/thomasathey/Documents/mimlab/mouselight/docs_env/lib/python3.8/site-packages/nilearn/datasets/__init__.py:86: FutureWarning: Fetchers from the nilearn.datasets module will be updated in version 0.9 to return python strings instead of bytes and Pandas dataframes instead of Numpy arrays.\n",
      "  warn(\"Fetchers from the nilearn.datasets module will be \"\n",
      "/Users/thomasathey/Documents/mimlab/mouselight/docs_env/lib/python3.8/site-packages/nilearn/datasets/__init__.py:86: FutureWarning: Fetchers from the nilearn.datasets module will be updated in version 0.9 to return python strings instead of bytes and Pandas dataframes instead of Numpy arrays.\n",
      "  warn(\"Fetchers from the nilearn.datasets module will be \"\n",
      "/Users/thomasathey/Documents/mimlab/mouselight/docs_env/lib/python3.8/site-packages/nilearn/datasets/__init__.py:86: FutureWarning: Fetchers from the nilearn.datasets module will be updated in version 0.9 to return python strings instead of bytes and Pandas dataframes instead of Numpy arrays.\n",
      "  warn(\"Fetchers from the nilearn.datasets module will be \"\n",
      "/Users/thomasathey/Documents/mimlab/mouselight/docs_env/lib/python3.8/site-packages/nilearn/datasets/__init__.py:86: FutureWarning: Fetchers from the nilearn.datasets module will be updated in version 0.9 to return python strings instead of bytes and Pandas dataframes instead of Numpy arrays.\n",
      "  warn(\"Fetchers from the nilearn.datasets module will be \"\n",
      "Computing state representations @corner [0, 0, 200]-[300, 300, 250]:   2%|▏         | 40/1919 [00:00<00:46, 40.80it/s]s]\n",
      "Computing state representations @corner [0, 0, 100]-[300, 300, 200]:   1%|          | 46/4333 [00:01<02:26, 29.30it/s]s]\n",
      "Computing state representations @corner [0, 300, 200]-[300, 600, 250]:   4%|▍         | 98/2417 [00:02<00:52, 44.52it/s]\n",
      "Computing state representations @corner [0, 300, 100]-[300, 600, 200]:   2%|▏         | 87/5709 [00:02<03:02, 30.88it/s]]\n",
      "Computing state representations @corner [300, 0, 100]-[600, 300, 200]:   1%|          | 27/3732 [00:00<01:55, 32.13it/s]]\n",
      "Computing state representations @corner [300, 0, 0]-[600, 300, 100]:   2%|▏         | 72/3290 [00:02<01:38, 32.67it/s]/s]\n",
      "Computing state representations @corner [0, 0, 0]-[300, 300, 100]:   7%|▋         | 281/3837 [00:08<01:49, 32.46it/s]t/s]\n",
      "Computing state representations @corner [0, 600, 200]-[300, 833, 250]:  12%|█▏        | 298/2536 [00:04<00:25, 87.91it/s]"
     ]
    },
    {
     "ename": "IndexError",
     "evalue": "too many indices for array: array is 0-dimensional, but 1 were indexed",
     "output_type": "error",
     "traceback": [
      "\u001b[0;31m---------------------------------------------------------------------------\u001b[0m",
      "\u001b[0;31m_RemoteTraceback\u001b[0m                          Traceback (most recent call last)",
      "\u001b[0;31m_RemoteTraceback\u001b[0m: \n\"\"\"\nTraceback (most recent call last):\n  File \"/Users/thomasathey/Documents/mimlab/mouselight/docs_env/lib/python3.8/site-packages/joblib/externals/loky/process_executor.py\", line 431, in _process_worker\n    r = call_item()\n  File \"/Users/thomasathey/Documents/mimlab/mouselight/docs_env/lib/python3.8/site-packages/joblib/externals/loky/process_executor.py\", line 285, in __call__\n    return self.fn(*self.args, **self.kwargs)\n  File \"/Users/thomasathey/Documents/mimlab/mouselight/docs_env/lib/python3.8/site-packages/joblib/_parallel_backends.py\", line 595, in __call__\n    return self.func(*args, **kwargs)\n  File \"/Users/thomasathey/Documents/mimlab/mouselight/docs_env/lib/python3.8/site-packages/joblib/parallel.py\", line 262, in __call__\n    return [func(*args, **kwargs)\n  File \"/Users/thomasathey/Documents/mimlab/mouselight/docs_env/lib/python3.8/site-packages/joblib/parallel.py\", line 262, in <listcomp>\n    return [func(*args, **kwargs)\n  File \"/Users/thomasathey/Documents/mimlab/mouselight/brainlit_parent/brainlit/brainlit/algorithms/generate_fragments/state_generation.py\", line 499, in _compute_states_thread\n    endpoints_initial = self._endpoints_from_coords_neighbors(coords)\n  File \"/Users/thomasathey/Documents/mimlab/mouselight/brainlit_parent/brainlit/brainlit/algorithms/generate_fragments/state_generation.py\", line 423, in _endpoints_from_coords_neighbors\n    sorted = [degrees[i] for i in indices]\n  File \"/Users/thomasathey/Documents/mimlab/mouselight/brainlit_parent/brainlit/brainlit/algorithms/generate_fragments/state_generation.py\", line 423, in <listcomp>\n    sorted = [degrees[i] for i in indices]\nIndexError: too many indices for array: array is 0-dimensional, but 1 were indexed\n\"\"\"",
      "\nThe above exception was the direct cause of the following exception:\n",
      "\u001b[0;31mIndexError\u001b[0m                                Traceback (most recent call last)",
      "\u001b[0;32m/var/folders/fq/9t66hqz51y5ddnygddgjtsmc0000gn/T/ipykernel_21390/2773688203.py\u001b[0m in \u001b[0;36m<module>\u001b[0;34m\u001b[0m\n\u001b[0;32m----> 1\u001b[0;31m \u001b[0msg\u001b[0m\u001b[0;34m.\u001b[0m\u001b[0mcompute_states\u001b[0m\u001b[0;34m(\u001b[0m\u001b[0;34m)\u001b[0m\u001b[0;34m\u001b[0m\u001b[0;34m\u001b[0m\u001b[0m\n\u001b[0m",
      "\u001b[0;32m~/Documents/mimlab/mouselight/brainlit_parent/brainlit/brainlit/algorithms/generate_fragments/state_generation.py\u001b[0m in \u001b[0;36mcompute_states\u001b[0;34m(self)\u001b[0m\n\u001b[1;32m    547\u001b[0m         \u001b[0mspecifications\u001b[0m \u001b[0;34m=\u001b[0m \u001b[0mself\u001b[0m\u001b[0;34m.\u001b[0m\u001b[0m_get_frag_specifications\u001b[0m\u001b[0;34m(\u001b[0m\u001b[0;34m)\u001b[0m\u001b[0;34m\u001b[0m\u001b[0;34m\u001b[0m\u001b[0m\n\u001b[1;32m    548\u001b[0m \u001b[0;34m\u001b[0m\u001b[0m\n\u001b[0;32m--> 549\u001b[0;31m         results_tuple = Parallel(n_jobs=self.parallel)(\n\u001b[0m\u001b[1;32m    550\u001b[0m             delayed(self._compute_states_thread)(\n\u001b[1;32m    551\u001b[0m                 \u001b[0mspecification\u001b[0m\u001b[0;34m[\u001b[0m\u001b[0;34m\"corner1\"\u001b[0m\u001b[0;34m]\u001b[0m\u001b[0;34m,\u001b[0m\u001b[0;34m\u001b[0m\u001b[0;34m\u001b[0m\u001b[0m\n",
      "\u001b[0;32m~/Documents/mimlab/mouselight/docs_env/lib/python3.8/site-packages/joblib/parallel.py\u001b[0m in \u001b[0;36m__call__\u001b[0;34m(self, iterable)\u001b[0m\n\u001b[1;32m   1052\u001b[0m \u001b[0;34m\u001b[0m\u001b[0m\n\u001b[1;32m   1053\u001b[0m             \u001b[0;32mwith\u001b[0m \u001b[0mself\u001b[0m\u001b[0;34m.\u001b[0m\u001b[0m_backend\u001b[0m\u001b[0;34m.\u001b[0m\u001b[0mretrieval_context\u001b[0m\u001b[0;34m(\u001b[0m\u001b[0;34m)\u001b[0m\u001b[0;34m:\u001b[0m\u001b[0;34m\u001b[0m\u001b[0;34m\u001b[0m\u001b[0m\n\u001b[0;32m-> 1054\u001b[0;31m                 \u001b[0mself\u001b[0m\u001b[0;34m.\u001b[0m\u001b[0mretrieve\u001b[0m\u001b[0;34m(\u001b[0m\u001b[0;34m)\u001b[0m\u001b[0;34m\u001b[0m\u001b[0;34m\u001b[0m\u001b[0m\n\u001b[0m\u001b[1;32m   1055\u001b[0m             \u001b[0;31m# Make sure that we get a last message telling us we are done\u001b[0m\u001b[0;34m\u001b[0m\u001b[0;34m\u001b[0m\u001b[0;34m\u001b[0m\u001b[0m\n\u001b[1;32m   1056\u001b[0m             \u001b[0melapsed_time\u001b[0m \u001b[0;34m=\u001b[0m \u001b[0mtime\u001b[0m\u001b[0;34m.\u001b[0m\u001b[0mtime\u001b[0m\u001b[0;34m(\u001b[0m\u001b[0;34m)\u001b[0m \u001b[0;34m-\u001b[0m \u001b[0mself\u001b[0m\u001b[0;34m.\u001b[0m\u001b[0m_start_time\u001b[0m\u001b[0;34m\u001b[0m\u001b[0;34m\u001b[0m\u001b[0m\n",
      "\u001b[0;32m~/Documents/mimlab/mouselight/docs_env/lib/python3.8/site-packages/joblib/parallel.py\u001b[0m in \u001b[0;36mretrieve\u001b[0;34m(self)\u001b[0m\n\u001b[1;32m    931\u001b[0m             \u001b[0;32mtry\u001b[0m\u001b[0;34m:\u001b[0m\u001b[0;34m\u001b[0m\u001b[0;34m\u001b[0m\u001b[0m\n\u001b[1;32m    932\u001b[0m                 \u001b[0;32mif\u001b[0m \u001b[0mgetattr\u001b[0m\u001b[0;34m(\u001b[0m\u001b[0mself\u001b[0m\u001b[0;34m.\u001b[0m\u001b[0m_backend\u001b[0m\u001b[0;34m,\u001b[0m \u001b[0;34m'supports_timeout'\u001b[0m\u001b[0;34m,\u001b[0m \u001b[0;32mFalse\u001b[0m\u001b[0;34m)\u001b[0m\u001b[0;34m:\u001b[0m\u001b[0;34m\u001b[0m\u001b[0;34m\u001b[0m\u001b[0m\n\u001b[0;32m--> 933\u001b[0;31m                     \u001b[0mself\u001b[0m\u001b[0;34m.\u001b[0m\u001b[0m_output\u001b[0m\u001b[0;34m.\u001b[0m\u001b[0mextend\u001b[0m\u001b[0;34m(\u001b[0m\u001b[0mjob\u001b[0m\u001b[0;34m.\u001b[0m\u001b[0mget\u001b[0m\u001b[0;34m(\u001b[0m\u001b[0mtimeout\u001b[0m\u001b[0;34m=\u001b[0m\u001b[0mself\u001b[0m\u001b[0;34m.\u001b[0m\u001b[0mtimeout\u001b[0m\u001b[0;34m)\u001b[0m\u001b[0;34m)\u001b[0m\u001b[0;34m\u001b[0m\u001b[0;34m\u001b[0m\u001b[0m\n\u001b[0m\u001b[1;32m    934\u001b[0m                 \u001b[0;32melse\u001b[0m\u001b[0;34m:\u001b[0m\u001b[0;34m\u001b[0m\u001b[0;34m\u001b[0m\u001b[0m\n\u001b[1;32m    935\u001b[0m                     \u001b[0mself\u001b[0m\u001b[0;34m.\u001b[0m\u001b[0m_output\u001b[0m\u001b[0;34m.\u001b[0m\u001b[0mextend\u001b[0m\u001b[0;34m(\u001b[0m\u001b[0mjob\u001b[0m\u001b[0;34m.\u001b[0m\u001b[0mget\u001b[0m\u001b[0;34m(\u001b[0m\u001b[0;34m)\u001b[0m\u001b[0;34m)\u001b[0m\u001b[0;34m\u001b[0m\u001b[0;34m\u001b[0m\u001b[0m\n",
      "\u001b[0;32m~/Documents/mimlab/mouselight/docs_env/lib/python3.8/site-packages/joblib/_parallel_backends.py\u001b[0m in \u001b[0;36mwrap_future_result\u001b[0;34m(future, timeout)\u001b[0m\n\u001b[1;32m    540\u001b[0m         AsyncResults.get from multiprocessing.\"\"\"\n\u001b[1;32m    541\u001b[0m         \u001b[0;32mtry\u001b[0m\u001b[0;34m:\u001b[0m\u001b[0;34m\u001b[0m\u001b[0;34m\u001b[0m\u001b[0m\n\u001b[0;32m--> 542\u001b[0;31m             \u001b[0;32mreturn\u001b[0m \u001b[0mfuture\u001b[0m\u001b[0;34m.\u001b[0m\u001b[0mresult\u001b[0m\u001b[0;34m(\u001b[0m\u001b[0mtimeout\u001b[0m\u001b[0;34m=\u001b[0m\u001b[0mtimeout\u001b[0m\u001b[0;34m)\u001b[0m\u001b[0;34m\u001b[0m\u001b[0;34m\u001b[0m\u001b[0m\n\u001b[0m\u001b[1;32m    543\u001b[0m         \u001b[0;32mexcept\u001b[0m \u001b[0mCfTimeoutError\u001b[0m \u001b[0;32mas\u001b[0m \u001b[0me\u001b[0m\u001b[0;34m:\u001b[0m\u001b[0;34m\u001b[0m\u001b[0;34m\u001b[0m\u001b[0m\n\u001b[1;32m    544\u001b[0m             \u001b[0;32mraise\u001b[0m \u001b[0mTimeoutError\u001b[0m \u001b[0;32mfrom\u001b[0m \u001b[0me\u001b[0m\u001b[0;34m\u001b[0m\u001b[0;34m\u001b[0m\u001b[0m\n",
      "\u001b[0;32m/usr/local/opt/python@3.8/Frameworks/Python.framework/Versions/3.8/lib/python3.8/concurrent/futures/_base.py\u001b[0m in \u001b[0;36mresult\u001b[0;34m(self, timeout)\u001b[0m\n\u001b[1;32m    442\u001b[0m                     \u001b[0;32mraise\u001b[0m \u001b[0mCancelledError\u001b[0m\u001b[0;34m(\u001b[0m\u001b[0;34m)\u001b[0m\u001b[0;34m\u001b[0m\u001b[0;34m\u001b[0m\u001b[0m\n\u001b[1;32m    443\u001b[0m                 \u001b[0;32melif\u001b[0m \u001b[0mself\u001b[0m\u001b[0;34m.\u001b[0m\u001b[0m_state\u001b[0m \u001b[0;34m==\u001b[0m \u001b[0mFINISHED\u001b[0m\u001b[0;34m:\u001b[0m\u001b[0;34m\u001b[0m\u001b[0;34m\u001b[0m\u001b[0m\n\u001b[0;32m--> 444\u001b[0;31m                     \u001b[0;32mreturn\u001b[0m \u001b[0mself\u001b[0m\u001b[0;34m.\u001b[0m\u001b[0m__get_result\u001b[0m\u001b[0;34m(\u001b[0m\u001b[0;34m)\u001b[0m\u001b[0;34m\u001b[0m\u001b[0;34m\u001b[0m\u001b[0m\n\u001b[0m\u001b[1;32m    445\u001b[0m                 \u001b[0;32melse\u001b[0m\u001b[0;34m:\u001b[0m\u001b[0;34m\u001b[0m\u001b[0;34m\u001b[0m\u001b[0m\n\u001b[1;32m    446\u001b[0m                     \u001b[0;32mraise\u001b[0m \u001b[0mTimeoutError\u001b[0m\u001b[0;34m(\u001b[0m\u001b[0;34m)\u001b[0m\u001b[0;34m\u001b[0m\u001b[0;34m\u001b[0m\u001b[0m\n",
      "\u001b[0;32m/usr/local/opt/python@3.8/Frameworks/Python.framework/Versions/3.8/lib/python3.8/concurrent/futures/_base.py\u001b[0m in \u001b[0;36m__get_result\u001b[0;34m(self)\u001b[0m\n\u001b[1;32m    387\u001b[0m         \u001b[0;32mif\u001b[0m \u001b[0mself\u001b[0m\u001b[0;34m.\u001b[0m\u001b[0m_exception\u001b[0m\u001b[0;34m:\u001b[0m\u001b[0;34m\u001b[0m\u001b[0;34m\u001b[0m\u001b[0m\n\u001b[1;32m    388\u001b[0m             \u001b[0;32mtry\u001b[0m\u001b[0;34m:\u001b[0m\u001b[0;34m\u001b[0m\u001b[0;34m\u001b[0m\u001b[0m\n\u001b[0;32m--> 389\u001b[0;31m                 \u001b[0;32mraise\u001b[0m \u001b[0mself\u001b[0m\u001b[0;34m.\u001b[0m\u001b[0m_exception\u001b[0m\u001b[0;34m\u001b[0m\u001b[0;34m\u001b[0m\u001b[0m\n\u001b[0m\u001b[1;32m    390\u001b[0m             \u001b[0;32mfinally\u001b[0m\u001b[0;34m:\u001b[0m\u001b[0;34m\u001b[0m\u001b[0;34m\u001b[0m\u001b[0m\n\u001b[1;32m    391\u001b[0m                 \u001b[0;31m# Break a reference cycle with the exception in self._exception\u001b[0m\u001b[0;34m\u001b[0m\u001b[0;34m\u001b[0m\u001b[0;34m\u001b[0m\u001b[0m\n",
      "\u001b[0;31mIndexError\u001b[0m: too many indices for array: array is 0-dimensional, but 1 were indexed"
     ]
    }
   ],
   "source": [
    "sg.compute_states()"
   ]
  },
  {
   "cell_type": "markdown",
   "metadata": {},
   "source": [
    "## view 1mm DS"
   ]
  },
  {
   "cell_type": "code",
   "execution_count": 41,
   "metadata": {},
   "outputs": [],
   "source": [
    "from skimage import io\n",
    "import napari\n",
    "\n",
    "lab_path = \"/Users/thomasathey/Documents/mimlab/mouselight/input/images/big/1mm_labels_ds.tif\"\n",
    "lab = io.imread(lab_path)\n",
    "\n",
    "im_path = \"/Users/thomasathey/Documents/mimlab/mouselight/input/images/big/1mm_ds.tif\"\n",
    "im = io.imread(im_path)\n",
    "\n",
    "viewer = napari.Viewer(ndisplay=3)\n",
    "viewer.add_image(im, scale=[1.2, 1.2, 4])\n",
    "viewer.add_labels(lab, scale=[1.2, 1.2, 4])\n",
    "viewer.add_shapes(path, shape_type='path', edge_width=1, edge_color='red', scale=[1.2, 1.2, 4])\n",
    "viewer.scale_bar.visible = True\n",
    "viewer.camera.angles = [0,90,0]\n",
    "napari.run()\n"
   ]
  },
  {
   "cell_type": "code",
   "execution_count": 29,
   "metadata": {},
   "outputs": [],
   "source": [
    "path = [[414.9518025,415.842527,126],\n",
    "[418.9145666,382.6623508,124],\n",
    "[417.4446111,376.7825285,119],\n",
    "[433.2466333,406.5491285,111],\n",
    "[436.5540333,417.2063063,107],\n",
    "[393.1903444,489.6016173,103],\n",
    "[372.6109667,502.0962395,102],\n",
    "[362.6887667,501.3612617,102],\n",
    "[355.3389889,513.488395,102],\n",
    "[357.9114111,527.0854839,102],\n",
    "[351.6641,537.3751728,102],\n",
    "[343.5793445,545.0924394,102],\n",
    "[344.3143223,557.5870617,102],\n",
    "[345.4167889,564.2018616,104],\n",
    "[336.9645445,575.9615061,108],\n",
    "[318.2226112,596.1733949,113],\n",
    "[303.5230557,617.4877505,117],\n",
    "[292.498389,641.0070393,121],\n",
    "[288.8235057,645.4168948,123],\n",
    "[284.4136391,646.8868503,124],\n",
    "[280.0037724,649.8267614,125],\n",
    "[276.3288835,651.296717,126],\n",
    "[273.0214835,653.1341614,127],\n",
    "[269.7140835,654.9716059,128],\n",
    "[266.0391946,660.8514281,129],\n",
    "[263.0992835,663.7913392,130],\n",
    "[261.629328,664.1588281,131],\n",
    "[255.014528,667.0987392,133],\n",
    "[250.6046613,670.7736281,134],\n",
    "[249.5021947,674.8160058,135],\n",
    "[249.1347058,681.063317,136],\n",
    "[248.399728,686.2081614,137],\n",
    "[246.5622836,692.0879836,138],\n",
    "[242.1524169,701.2752058,139],\n",
    "[237.3750613,709.3599614,140],\n",
    "[232.5977058,718.5471836,141],\n",
    "[233.3326836,719.6496502,142],\n",
    "[231.4952391,729.5718502,143],\n",
    "[230.0252836,731.4092947,144],\n",
    "[230.0252836,741.3314947,145],\n",
    "[225.6154169,749.7837391,146],\n",
    "[218.2656391,756.766028,146],\n",
    "[207.9759503,757.8684946,147],\n",
    "[194.7463503,758.9709613,147],\n",
    "[193.2763947,758.6034724,148],\n",
    "[183.3541947,757.1335169,149],\n",
    "[171.2270614,753.458628,149],\n",
    "[166.4497059,753.458628,151],\n",
    "[155.0575503,747.9462946,151],\n",
    "[141.4604615,750.151228,152],\n",
    "[131.5382615,758.6034724,152],\n",
    "[119.4111282,764.1158057,152],\n",
    "[103.6091116,774.7729835,151],\n",
    "[88.17457825,780.2853168,150],\n",
    "[76.78242271,778.4478724,149],\n",
    "[49.58824496,765.9532502,148],\n",
    "[36.72613387,756.3985391,148],\n",
    "[26.43644499,742.8014502,148],\n",
    "[17.61671167,736.921628,147],\n",
    "[6.959533907,729.9393391,146],\n",
    "[1.447200581,725.5294725,145]]"
   ]
  },
  {
   "cell_type": "code",
   "execution_count": 1,
   "metadata": {},
   "outputs": [
    {
     "data": {
      "text/plain": [
       "3070"
      ]
     },
     "execution_count": 1,
     "metadata": {},
     "output_type": "execute_result"
    }
   ],
   "source": [
    "int(3070)"
   ]
  },
  {
   "cell_type": "code",
   "execution_count": null,
   "metadata": {},
   "outputs": [],
   "source": []
  }
 ],
 "metadata": {
  "interpreter": {
   "hash": "5dc00d68ff54f8375e99934614da4863299fb9e10af4294c095b7f517546ff26"
  },
  "kernelspec": {
   "display_name": "Python 3.8.10 64-bit ('docs_env': venv)",
   "language": "python",
   "name": "python3"
  },
  "language_info": {
   "codemirror_mode": {
    "name": "ipython",
    "version": 3
   },
   "file_extension": ".py",
   "mimetype": "text/x-python",
   "name": "python",
   "nbconvert_exporter": "python",
   "pygments_lexer": "ipython3",
   "version": "3.8.10"
  },
  "orig_nbformat": 4
 },
 "nbformat": 4,
 "nbformat_minor": 2
}

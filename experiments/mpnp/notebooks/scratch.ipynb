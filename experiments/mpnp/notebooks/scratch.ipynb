{
 "cells": [
  {
   "cell_type": "code",
   "execution_count": 1,
   "metadata": {},
   "outputs": [],
   "source": [
    "import zarr\n",
    "from skimage import io "
   ]
  },
  {
   "cell_type": "code",
   "execution_count": 2,
   "metadata": {},
   "outputs": [
    {
     "name": "stderr",
     "output_type": "stream",
     "text": [
      "/var/folders/fq/9t66hqz51y5ddnygddgjtsmc0000gn/T/ipykernel_72652/2588568434.py:6: UserWarning: /Users/thomasathey/Documents/mimlab/mouselight/input/images/firstn_quantitative/tif/27.tif is a low contrast image\n",
      "  io.imsave(outpath, img)\n",
      "/var/folders/fq/9t66hqz51y5ddnygddgjtsmc0000gn/T/ipykernel_72652/2588568434.py:6: UserWarning: /Users/thomasathey/Documents/mimlab/mouselight/input/images/firstn_quantitative/tif/28.tif is a low contrast image\n",
      "  io.imsave(outpath, img)\n",
      "/var/folders/fq/9t66hqz51y5ddnygddgjtsmc0000gn/T/ipykernel_72652/2588568434.py:6: UserWarning: /Users/thomasathey/Documents/mimlab/mouselight/input/images/firstn_quantitative/tif/29.tif is a low contrast image\n",
      "  io.imsave(outpath, img)\n"
     ]
    }
   ],
   "source": [
    "for i in range(27,30):\n",
    "    path = \"/Users/thomasathey/Documents/mimlab/mouselight/input/images/firstn_quantitative/zarr/\" + str(i) + \".zarr\"\n",
    "    z = zarr.open(path)\n",
    "    img = z[:,:,:]\n",
    "    outpath = \"/Users/thomasathey/Documents/mimlab/mouselight/input/images/firstn_quantitative/tif/\" + str(i) + \".tif\"\n",
    "    io.imsave(outpath, img)\n",
    "    "
   ]
  },
  {
   "cell_type": "code",
   "execution_count": null,
   "metadata": {},
   "outputs": [],
   "source": [
    "from scipy.stats import fisher_exact\n",
    "\n",
    "fisher_exact([[7,13],[1,19]])"
   ]
  },
  {
   "cell_type": "code",
   "execution_count": 3,
   "metadata": {},
   "outputs": [
    {
     "data": {
      "text/plain": [
       "{'whiskers': [<matplotlib.lines.Line2D at 0x13389a580>,\n",
       "  <matplotlib.lines.Line2D at 0x13389a850>,\n",
       "  <matplotlib.lines.Line2D at 0x1338abe20>,\n",
       "  <matplotlib.lines.Line2D at 0x1338b71f0>],\n",
       " 'caps': [<matplotlib.lines.Line2D at 0x13389abe0>,\n",
       "  <matplotlib.lines.Line2D at 0x13389af70>,\n",
       "  <matplotlib.lines.Line2D at 0x1338b7580>,\n",
       "  <matplotlib.lines.Line2D at 0x1338b7910>],\n",
       " 'boxes': [<matplotlib.lines.Line2D at 0x13389a130>,\n",
       "  <matplotlib.lines.Line2D at 0x1338aba90>],\n",
       " 'medians': [<matplotlib.lines.Line2D at 0x1338ab340>,\n",
       "  <matplotlib.lines.Line2D at 0x1338b7ca0>],\n",
       " 'fliers': [<matplotlib.lines.Line2D at 0x1338ab6d0>,\n",
       "  <matplotlib.lines.Line2D at 0x1338c5070>],\n",
       " 'means': []}"
      ]
     },
     "execution_count": 3,
     "metadata": {},
     "output_type": "execute_result"
    },
    {
     "data": {
      "image/png": "[encoded data removed]",
      "text/plain": [
       "<Figure size 432x288 with 1 Axes>"
      ]
     },
     "metadata": {
      "needs_background": "light"
     },
     "output_type": "display_data"
    }
   ],
   "source": [
    "import matplotlib.pyplot as plt\n",
    "data = [[1.6,2.6,3.3,1.6,2.5,1.9,2.3,2.2], [1.7,2.0,2.0,1.5]]\n",
    "data2 = [[6.5,4.3,3.6,3.3,3.5,3.9,5.8,6.4], [5.2,9.9,3.1,3.0]]\n",
    "\n",
    "fig7, ax7 = plt.subplots()\n",
    "ax7.set_title('')\n",
    "ax7.set_xlabel(\"Method\")\n",
    "ax7.set_ylabel(\"Frechet Distance\")\n",
    "ax7.boxplot(data2, labels=[\"Viterbrain\", \"APP2\"])"
   ]
  },
  {
   "cell_type": "code",
   "execution_count": null,
   "metadata": {},
   "outputs": [],
   "source": []
  }
 ],
 "metadata": {
  "interpreter": {
   "hash": "5dc00d68ff54f8375e99934614da4863299fb9e10af4294c095b7f517546ff26"
  },
  "kernelspec": {
   "display_name": "Python 3.8.10 64-bit ('docs_env': venv)",
   "language": "python",
   "name": "python3"
  },
  "language_info": {
   "codemirror_mode": {
    "name": "ipython",
    "version": 3
   },
   "file_extension": ".py",
   "mimetype": "text/x-python",
   "name": "python",
   "nbconvert_exporter": "python",
   "pygments_lexer": "ipython3",
   "version": "3.8.10"
  },
  "orig_nbformat": 4
 },
 "nbformat": 4,
 "nbformat_minor": 2
}

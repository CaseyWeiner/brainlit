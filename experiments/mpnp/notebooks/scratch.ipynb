{
 "cells": [
  {
   "cell_type": "code",
   "execution_count": null,
   "metadata": {},
   "outputs": [],
   "source": [
    "import zarr\n",
    "from skimage import io "
   ]
  },
  {
   "cell_type": "code",
   "execution_count": null,
   "metadata": {},
   "outputs": [],
   "source": [
    "for i in range(35):\n",
    "    path = \"/Users/thomasathey/Documents/mimlab/mouselight/input/images/firstn_quantitative/zarr/\" + str(i) + \".zarr\"\n",
    "    z = zarr.open(path)\n",
    "    img = z[:,:,:]\n",
    "\n",
    "    img8 = (img/256).astype('uint8')\n",
    "    outpath = \"/Users/thomasathey/Documents/mimlab/mouselight/input/images/firstn_quantitative/tif_8bit/\" + str(i) + \"_8bit.tif\"\n",
    "    io.imsave(outpath, img8)\n",
    "    "
   ]
  },
  {
   "cell_type": "code",
   "execution_count": null,
   "metadata": {},
   "outputs": [],
   "source": [
    "from scipy.stats import fisher_exact\n",
    "\n",
    "fisher_exact([[7,13],[1,19]])"
   ]
  },
  {
   "cell_type": "code",
   "execution_count": null,
   "metadata": {},
   "outputs": [],
   "source": [
    "data_sd = [[1.6,2.6,3.3,1.6,2.5,1.9,2.3,2.2, 2.2, 2.1, 2.1], [1.7,2.0,2.0,1.5]]\n",
    "\n",
    "fig7, ax7 = plt.subplots()\n",
    "ax7.set_title('')\n",
    "ax7.set_xlabel(\"Method\")\n",
    "ax7.set_ylabel(\"Spatial Distance\")\n",
    "ax7.boxplot(data_sd, labels=[\"Viterbrain\", \"APP2\"])"
   ]
  },
  {
   "cell_type": "code",
   "execution_count": 25,
   "metadata": {},
   "outputs": [],
   "source": [
    "import os \n",
    "import numpy as np \n",
    "from skimage import io\n",
    "\n",
    "dir = \"/Users/thomasathey/Downloads/Neocortical Layer 1 Axons/Subset 2/Image Stacks/01/\"\n",
    "files = os.listdir(dir)\n",
    "files = [file for file in files if '.tif' in file]\n",
    "\n",
    "file = dir + files[0]\n",
    "slice = io.imread(file)\n",
    "\n",
    "image = np.zeros((slice.shape[0], slice.shape[1], len(files)))\n",
    "image.shape\n",
    "\n",
    "for f in files:\n",
    "    file = dir + f\n",
    "    slice = io.imread(file)\n",
    "    slice_num = int(f.split(\".\")[0])-1\n",
    "    image[:,:,slice_num] = slice"
   ]
  },
  {
   "cell_type": "code",
   "execution_count": 26,
   "metadata": {},
   "outputs": [],
   "source": [
    "import napari\n",
    "\n",
    "viewer = napari.Viewer(ndisplay=3)\n",
    "viewer.add_image(image)\n",
    "napari.run()"
   ]
  },
  {
   "cell_type": "code",
   "execution_count": null,
   "metadata": {},
   "outputs": [],
   "source": []
  }
 ],
 "metadata": {
  "interpreter": {
   "hash": "5dc00d68ff54f8375e99934614da4863299fb9e10af4294c095b7f517546ff26"
  },
  "kernelspec": {
   "display_name": "Python 3.8.10 64-bit ('docs_env': venv)",
   "language": "python",
   "name": "python3"
  },
  "language_info": {
   "codemirror_mode": {
    "name": "ipython",
    "version": 3
   },
   "file_extension": ".py",
   "mimetype": "text/x-python",
   "name": "python",
   "nbconvert_exporter": "python",
   "pygments_lexer": "ipython3",
   "version": "3.8.10"
  },
  "orig_nbformat": 4
 },
 "nbformat": 4,
 "nbformat_minor": 2
}

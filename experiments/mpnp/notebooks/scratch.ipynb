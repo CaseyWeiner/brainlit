{
 "cells": [
  {
   "cell_type": "code",
   "execution_count": null,
   "metadata": {},
   "outputs": [],
   "source": [
    "import zarr\n",
    "from skimage import io "
   ]
  },
  {
   "cell_type": "code",
   "execution_count": null,
   "metadata": {},
   "outputs": [],
   "source": [
    "for i in range(20,27):\n",
    "    path = \"/Users/thomasathey/Documents/mimlab/mouselight/input/images/firstn_quantitative/zarr/\" + str(i) + \".zarr\"\n",
    "    z = zarr.open(path)\n",
    "    img = z[:,:,:]\n",
    "    outpath = \"/Users/thomasathey/Documents/mimlab/mouselight/input/images/firstn_quantitative/tif/\" + str(i) + \".tif\"\n",
    "    io.imsave(outpath, img)\n",
    "    "
   ]
  },
  {
   "cell_type": "code",
   "execution_count": null,
   "metadata": {},
   "outputs": [],
   "source": [
    "from scipy.stats import fisher_exact\n",
    "\n",
    "fisher_exact([[7,13],[1,19]])"
   ]
  },
  {
   "cell_type": "code",
   "execution_count": 27,
   "metadata": {},
   "outputs": [
    {
     "data": {
      "text/plain": [
       "{'whiskers': [<matplotlib.lines.Line2D at 0x166b589d0>,\n",
       "  <matplotlib.lines.Line2D at 0x166b58d60>,\n",
       "  <matplotlib.lines.Line2D at 0x166b71310>,\n",
       "  <matplotlib.lines.Line2D at 0x166b716a0>],\n",
       " 'caps': [<matplotlib.lines.Line2D at 0x166b68130>,\n",
       "  <matplotlib.lines.Line2D at 0x166b684c0>,\n",
       "  <matplotlib.lines.Line2D at 0x166b71a30>,\n",
       "  <matplotlib.lines.Line2D at 0x166b71dc0>],\n",
       " 'boxes': [<matplotlib.lines.Line2D at 0x166b58640>,\n",
       "  <matplotlib.lines.Line2D at 0x166b68f40>],\n",
       " 'medians': [<matplotlib.lines.Line2D at 0x166b68850>,\n",
       "  <matplotlib.lines.Line2D at 0x166b7a190>],\n",
       " 'fliers': [<matplotlib.lines.Line2D at 0x166b68be0>,\n",
       "  <matplotlib.lines.Line2D at 0x166b7a520>],\n",
       " 'means': []}"
      ]
     },
     "execution_count": 27,
     "metadata": {},
     "output_type": "execute_result"
    },
    {
     "data": {
      "image/png": "[encoded data removed]",
      "text/plain": [
       "<Figure size 432x288 with 1 Axes>"
      ]
     },
     "metadata": {
      "needs_background": "light"
     },
     "output_type": "display_data"
    }
   ],
   "source": [
    "import matplotlib.pyplot as plt\n",
    "data = [[1.6,2.6,3.3,1.6,2.5,1.9,2.3,2.2], [1.7,2.0,2.0,1.5]]\n",
    "data2 = [[4.9,14,9.4,4.4,6.3,4.4,6.1,9.3], [5.3,9.0,8.2,3.1]]\n",
    "\n",
    "fig7, ax7 = plt.subplots()\n",
    "ax7.set_title('')\n",
    "ax7.set_xlabel(\"Method\")\n",
    "ax7.set_ylabel(\"Frechet Distance\")\n",
    "ax7.boxplot(data2, labels=[\"Viterbrain\", \"APP2\"])"
   ]
  },
  {
   "cell_type": "code",
   "execution_count": null,
   "metadata": {},
   "outputs": [],
   "source": []
  }
 ],
 "metadata": {
  "interpreter": {
   "hash": "5dc00d68ff54f8375e99934614da4863299fb9e10af4294c095b7f517546ff26"
  },
  "kernelspec": {
   "display_name": "Python 3.8.10 64-bit ('docs_env': venv)",
   "language": "python",
   "name": "python3"
  },
  "language_info": {
   "codemirror_mode": {
    "name": "ipython",
    "version": 3
   },
   "file_extension": ".py",
   "mimetype": "text/x-python",
   "name": "python",
   "nbconvert_exporter": "python",
   "pygments_lexer": "ipython3",
   "version": "3.8.10"
  },
  "orig_nbformat": 4
 },
 "nbformat": 4,
 "nbformat_minor": 2
}

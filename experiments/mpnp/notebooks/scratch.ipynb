{
 "cells": [
  {
   "cell_type": "code",
   "execution_count": 2,
   "metadata": {},
   "outputs": [],
   "source": [
    "import zarr\n",
    "from skimage import io "
   ]
  },
  {
   "cell_type": "code",
   "execution_count": 9,
   "metadata": {},
   "outputs": [
    {
     "name": "stderr",
     "output_type": "stream",
     "text": [
      "/var/folders/fq/9t66hqz51y5ddnygddgjtsmc0000gn/T/ipykernel_100/1253890124.py:8: UserWarning: /Users/thomasathey/Documents/mimlab/mouselight/input/images/firstn_quantitative/tif_8bit/0_8bit.tif is a low contrast image\n",
      "  io.imsave(outpath, img8)\n",
      "/var/folders/fq/9t66hqz51y5ddnygddgjtsmc0000gn/T/ipykernel_100/1253890124.py:8: UserWarning: /Users/thomasathey/Documents/mimlab/mouselight/input/images/firstn_quantitative/tif_8bit/1_8bit.tif is a low contrast image\n",
      "  io.imsave(outpath, img8)\n",
      "/var/folders/fq/9t66hqz51y5ddnygddgjtsmc0000gn/T/ipykernel_100/1253890124.py:8: UserWarning: /Users/thomasathey/Documents/mimlab/mouselight/input/images/firstn_quantitative/tif_8bit/2_8bit.tif is a low contrast image\n",
      "  io.imsave(outpath, img8)\n",
      "/var/folders/fq/9t66hqz51y5ddnygddgjtsmc0000gn/T/ipykernel_100/1253890124.py:8: UserWarning: /Users/thomasathey/Documents/mimlab/mouselight/input/images/firstn_quantitative/tif_8bit/3_8bit.tif is a low contrast image\n",
      "  io.imsave(outpath, img8)\n",
      "/var/folders/fq/9t66hqz51y5ddnygddgjtsmc0000gn/T/ipykernel_100/1253890124.py:8: UserWarning: /Users/thomasathey/Documents/mimlab/mouselight/input/images/firstn_quantitative/tif_8bit/4_8bit.tif is a low contrast image\n",
      "  io.imsave(outpath, img8)\n",
      "/var/folders/fq/9t66hqz51y5ddnygddgjtsmc0000gn/T/ipykernel_100/1253890124.py:8: UserWarning: /Users/thomasathey/Documents/mimlab/mouselight/input/images/firstn_quantitative/tif_8bit/6_8bit.tif is a low contrast image\n",
      "  io.imsave(outpath, img8)\n",
      "/var/folders/fq/9t66hqz51y5ddnygddgjtsmc0000gn/T/ipykernel_100/1253890124.py:8: UserWarning: /Users/thomasathey/Documents/mimlab/mouselight/input/images/firstn_quantitative/tif_8bit/7_8bit.tif is a low contrast image\n",
      "  io.imsave(outpath, img8)\n",
      "/var/folders/fq/9t66hqz51y5ddnygddgjtsmc0000gn/T/ipykernel_100/1253890124.py:8: UserWarning: /Users/thomasathey/Documents/mimlab/mouselight/input/images/firstn_quantitative/tif_8bit/8_8bit.tif is a low contrast image\n",
      "  io.imsave(outpath, img8)\n",
      "/var/folders/fq/9t66hqz51y5ddnygddgjtsmc0000gn/T/ipykernel_100/1253890124.py:8: UserWarning: /Users/thomasathey/Documents/mimlab/mouselight/input/images/firstn_quantitative/tif_8bit/10_8bit.tif is a low contrast image\n",
      "  io.imsave(outpath, img8)\n",
      "/var/folders/fq/9t66hqz51y5ddnygddgjtsmc0000gn/T/ipykernel_100/1253890124.py:8: UserWarning: /Users/thomasathey/Documents/mimlab/mouselight/input/images/firstn_quantitative/tif_8bit/11_8bit.tif is a low contrast image\n",
      "  io.imsave(outpath, img8)\n",
      "/var/folders/fq/9t66hqz51y5ddnygddgjtsmc0000gn/T/ipykernel_100/1253890124.py:8: UserWarning: /Users/thomasathey/Documents/mimlab/mouselight/input/images/firstn_quantitative/tif_8bit/13_8bit.tif is a low contrast image\n",
      "  io.imsave(outpath, img8)\n",
      "/var/folders/fq/9t66hqz51y5ddnygddgjtsmc0000gn/T/ipykernel_100/1253890124.py:8: UserWarning: /Users/thomasathey/Documents/mimlab/mouselight/input/images/firstn_quantitative/tif_8bit/14_8bit.tif is a low contrast image\n",
      "  io.imsave(outpath, img8)\n",
      "/var/folders/fq/9t66hqz51y5ddnygddgjtsmc0000gn/T/ipykernel_100/1253890124.py:8: UserWarning: /Users/thomasathey/Documents/mimlab/mouselight/input/images/firstn_quantitative/tif_8bit/15_8bit.tif is a low contrast image\n",
      "  io.imsave(outpath, img8)\n",
      "/var/folders/fq/9t66hqz51y5ddnygddgjtsmc0000gn/T/ipykernel_100/1253890124.py:8: UserWarning: /Users/thomasathey/Documents/mimlab/mouselight/input/images/firstn_quantitative/tif_8bit/16_8bit.tif is a low contrast image\n",
      "  io.imsave(outpath, img8)\n",
      "/var/folders/fq/9t66hqz51y5ddnygddgjtsmc0000gn/T/ipykernel_100/1253890124.py:8: UserWarning: /Users/thomasathey/Documents/mimlab/mouselight/input/images/firstn_quantitative/tif_8bit/18_8bit.tif is a low contrast image\n",
      "  io.imsave(outpath, img8)\n",
      "/var/folders/fq/9t66hqz51y5ddnygddgjtsmc0000gn/T/ipykernel_100/1253890124.py:8: UserWarning: /Users/thomasathey/Documents/mimlab/mouselight/input/images/firstn_quantitative/tif_8bit/19_8bit.tif is a low contrast image\n",
      "  io.imsave(outpath, img8)\n",
      "/var/folders/fq/9t66hqz51y5ddnygddgjtsmc0000gn/T/ipykernel_100/1253890124.py:8: UserWarning: /Users/thomasathey/Documents/mimlab/mouselight/input/images/firstn_quantitative/tif_8bit/20_8bit.tif is a low contrast image\n",
      "  io.imsave(outpath, img8)\n",
      "/var/folders/fq/9t66hqz51y5ddnygddgjtsmc0000gn/T/ipykernel_100/1253890124.py:8: UserWarning: /Users/thomasathey/Documents/mimlab/mouselight/input/images/firstn_quantitative/tif_8bit/21_8bit.tif is a low contrast image\n",
      "  io.imsave(outpath, img8)\n",
      "/var/folders/fq/9t66hqz51y5ddnygddgjtsmc0000gn/T/ipykernel_100/1253890124.py:8: UserWarning: /Users/thomasathey/Documents/mimlab/mouselight/input/images/firstn_quantitative/tif_8bit/24_8bit.tif is a low contrast image\n",
      "  io.imsave(outpath, img8)\n",
      "/var/folders/fq/9t66hqz51y5ddnygddgjtsmc0000gn/T/ipykernel_100/1253890124.py:8: UserWarning: /Users/thomasathey/Documents/mimlab/mouselight/input/images/firstn_quantitative/tif_8bit/25_8bit.tif is a low contrast image\n",
      "  io.imsave(outpath, img8)\n",
      "/var/folders/fq/9t66hqz51y5ddnygddgjtsmc0000gn/T/ipykernel_100/1253890124.py:8: UserWarning: /Users/thomasathey/Documents/mimlab/mouselight/input/images/firstn_quantitative/tif_8bit/26_8bit.tif is a low contrast image\n",
      "  io.imsave(outpath, img8)\n",
      "/var/folders/fq/9t66hqz51y5ddnygddgjtsmc0000gn/T/ipykernel_100/1253890124.py:8: UserWarning: /Users/thomasathey/Documents/mimlab/mouselight/input/images/firstn_quantitative/tif_8bit/27_8bit.tif is a low contrast image\n",
      "  io.imsave(outpath, img8)\n",
      "/var/folders/fq/9t66hqz51y5ddnygddgjtsmc0000gn/T/ipykernel_100/1253890124.py:8: UserWarning: /Users/thomasathey/Documents/mimlab/mouselight/input/images/firstn_quantitative/tif_8bit/28_8bit.tif is a low contrast image\n",
      "  io.imsave(outpath, img8)\n",
      "/var/folders/fq/9t66hqz51y5ddnygddgjtsmc0000gn/T/ipykernel_100/1253890124.py:8: UserWarning: /Users/thomasathey/Documents/mimlab/mouselight/input/images/firstn_quantitative/tif_8bit/29_8bit.tif is a low contrast image\n",
      "  io.imsave(outpath, img8)\n",
      "/var/folders/fq/9t66hqz51y5ddnygddgjtsmc0000gn/T/ipykernel_100/1253890124.py:8: UserWarning: /Users/thomasathey/Documents/mimlab/mouselight/input/images/firstn_quantitative/tif_8bit/31_8bit.tif is a low contrast image\n",
      "  io.imsave(outpath, img8)\n",
      "/var/folders/fq/9t66hqz51y5ddnygddgjtsmc0000gn/T/ipykernel_100/1253890124.py:8: UserWarning: /Users/thomasathey/Documents/mimlab/mouselight/input/images/firstn_quantitative/tif_8bit/33_8bit.tif is a low contrast image\n",
      "  io.imsave(outpath, img8)\n",
      "/var/folders/fq/9t66hqz51y5ddnygddgjtsmc0000gn/T/ipykernel_100/1253890124.py:8: UserWarning: /Users/thomasathey/Documents/mimlab/mouselight/input/images/firstn_quantitative/tif_8bit/34_8bit.tif is a low contrast image\n",
      "  io.imsave(outpath, img8)\n"
     ]
    }
   ],
   "source": [
    "for i in range(35):\n",
    "    path = \"/Users/thomasathey/Documents/mimlab/mouselight/input/images/firstn_quantitative/zarr/\" + str(i) + \".zarr\"\n",
    "    z = zarr.open(path)\n",
    "    img = z[:,:,:]\n",
    "\n",
    "    img8 = (img/256).astype('uint8')\n",
    "    outpath = \"/Users/thomasathey/Documents/mimlab/mouselight/input/images/firstn_quantitative/tif_8bit/\" + str(i) + \"_8bit.tif\"\n",
    "    io.imsave(outpath, img8)\n",
    "    "
   ]
  },
  {
   "cell_type": "code",
   "execution_count": null,
   "metadata": {},
   "outputs": [],
   "source": [
    "from scipy.stats import fisher_exact\n",
    "\n",
    "fisher_exact([[7,13],[1,19]])"
   ]
  },
  {
   "cell_type": "code",
   "execution_count": 8,
   "metadata": {},
   "outputs": [
    {
     "data": {
      "text/plain": [
       "{'whiskers': [<matplotlib.lines.Line2D at 0x12e7cf550>,\n",
       "  <matplotlib.lines.Line2D at 0x12e7cf8e0>,\n",
       "  <matplotlib.lines.Line2D at 0x12e7dbe80>,\n",
       "  <matplotlib.lines.Line2D at 0x12e7e4250>],\n",
       " 'caps': [<matplotlib.lines.Line2D at 0x12e7cfc70>,\n",
       "  <matplotlib.lines.Line2D at 0x12e7db040>,\n",
       "  <matplotlib.lines.Line2D at 0x12e7e45e0>,\n",
       "  <matplotlib.lines.Line2D at 0x12e7e4970>],\n",
       " 'boxes': [<matplotlib.lines.Line2D at 0x12e7cf1c0>,\n",
       "  <matplotlib.lines.Line2D at 0x12e7dbaf0>],\n",
       " 'medians': [<matplotlib.lines.Line2D at 0x12e7db3d0>,\n",
       "  <matplotlib.lines.Line2D at 0x12e7e4d00>],\n",
       " 'fliers': [<matplotlib.lines.Line2D at 0x12e7db760>,\n",
       "  <matplotlib.lines.Line2D at 0x12e7f30d0>],\n",
       " 'means': []}"
      ]
     },
     "execution_count": 8,
     "metadata": {},
     "output_type": "execute_result"
    },
    {
     "data": {
      "image/png": "[encoded data removed]",
      "text/plain": [
       "<Figure size 432x288 with 1 Axes>"
      ]
     },
     "metadata": {
      "needs_background": "light"
     },
     "output_type": "display_data"
    }
   ],
   "source": [
    "data_sd = [[1.6,2.6,3.3,1.6,2.5,1.9,2.3,2.2, 2.2, 2.1, 2.1], [1.7,2.0,2.0,1.5]]\n",
    "\n",
    "fig7, ax7 = plt.subplots()\n",
    "ax7.set_title('')\n",
    "ax7.set_xlabel(\"Method\")\n",
    "ax7.set_ylabel(\"Spatial Distance\")\n",
    "ax7.boxplot(data_sd, labels=[\"Viterbrain\", \"APP2\"])"
   ]
  },
  {
   "cell_type": "code",
   "execution_count": null,
   "metadata": {},
   "outputs": [],
   "source": []
  }
 ],
 "metadata": {
  "interpreter": {
   "hash": "5dc00d68ff54f8375e99934614da4863299fb9e10af4294c095b7f517546ff26"
  },
  "kernelspec": {
   "display_name": "Python 3.8.10 64-bit ('docs_env': venv)",
   "language": "python",
   "name": "python3"
  },
  "language_info": {
   "codemirror_mode": {
    "name": "ipython",
    "version": 3
   },
   "file_extension": ".py",
   "mimetype": "text/x-python",
   "name": "python",
   "nbconvert_exporter": "python",
   "pygments_lexer": "ipython3",
   "version": "3.8.10"
  },
  "orig_nbformat": 4
 },
 "nbformat": 4,
 "nbformat_minor": 2
}

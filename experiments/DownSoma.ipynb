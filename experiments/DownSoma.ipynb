{
 "metadata": {
  "language_info": {
   "codemirror_mode": {
    "name": "ipython",
    "version": 3
   },
   "file_extension": ".py",
   "mimetype": "text/x-python",
   "name": "python",
   "nbconvert_exporter": "python",
   "pygments_lexer": "ipython3",
   "version": "3.7.9-final"
  },
  "orig_nbformat": 2,
  "kernelspec": {
   "name": "python379jvsc74a57bd00bac885b99a14f584a13e00f4815af6afaf6d8259c24184e148aa35fa8ca3049",
   "display_name": "Python 3.7.9 64-bit ('brainlit3.7': conda)"
  }
 },
 "nbformat": 4,
 "nbformat_minor": 2,
 "cells": [
  {
   "cell_type": "code",
   "execution_count": null,
   "metadata": {},
   "outputs": [],
   "source": [
    "import brainlit\n",
    "from brainlit.utils.session import NeuroglancerSession\n",
    "import numpy as np\n",
    "\n",
    "dir = \"s3://open-neurodata/brainlit/brain1\"\n",
    "dir_segments = \"s3://open-neurodata/brainlit/brain1_segments\"\n",
    "mip = 0; v_id = 0\n",
    "voxs = []\n",
    "voxs2 = []\n",
    "ngl_sess = NeuroglancerSession(mip=mip, url=dir, url_segments=dir_segments)\n",
    "for idx, seg_id in enumerate(range(1000)):\n",
    "    try:\n",
    "        vox = ngl_sess._get_voxel(seg_id, v_id) \n",
    "        voxs.append(vox)\n",
    "        try:\n",
    "            _,vox2,_ = ngl_sess.pull_voxel(seg_id, v_id)\n",
    "            voxs2.append(np.array(np.floor(vox2.center()[:])))\n",
    "        except:\n",
    "            print(idx)\n",
    "    except:\n",
    "        pass"
   ]
  },
  {
   "cell_type": "code",
   "execution_count": null,
   "metadata": {},
   "outputs": [],
   "source": [
    "print(len(voxs2))\n",
    "print(len(voxs))"
   ]
  },
  {
   "cell_type": "code",
   "execution_count": null,
   "metadata": {},
   "outputs": [],
   "source": []
  }
 ]
}
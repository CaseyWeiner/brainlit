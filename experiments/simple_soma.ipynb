{
 "metadata": {
  "language_info": {
   "codemirror_mode": {
    "name": "ipython",
    "version": 3
   },
   "file_extension": ".py",
   "mimetype": "text/x-python",
   "name": "python",
   "nbconvert_exporter": "python",
   "pygments_lexer": "ipython3",
   "version": "3.7.9-final"
  },
  "orig_nbformat": 2,
  "kernelspec": {
   "name": "python3",
   "display_name": "Python 3.7.9 64-bit ('brainlit3.7': conda)",
   "metadata": {
    "interpreter": {
     "hash": "0bac885b99a14f584a13e00f4815af6afaf6d8259c24184e148aa35fa8ca3049"
    }
   }
  }
 },
 "nbformat": 4,
 "nbformat_minor": 2,
 "cells": [
  {
   "cell_type": "code",
   "execution_count": 67,
   "metadata": {},
   "outputs": [
    {
     "output_type": "stream",
     "name": "stdout",
     "text": [
      "image shape = (301, 301, 301)\n"
     ]
    },
    {
     "output_type": "execute_result",
     "data": {
      "text/plain": [
       "<napari.viewer.Viewer at 0x1d354992f48>"
      ]
     },
     "metadata": {},
     "execution_count": 67
    }
   ],
   "source": [
    "import brainlit\n",
    "from brainlit.utils.session import NeuroglancerSession\n",
    "import matplotlib.pyplot as plt\n",
    "import numpy as np\n",
    "import napari\n",
    "from scipy import ndimage\n",
    "from pathlib import Path\n",
    "%gui qt\n",
    "\n",
    "brainlit_path=Path.cwd()\n",
    "swc=Path.joinpath(brainlit_path,'soma_detection','data','volumes','150','brain1','118.npy')\n",
    "print('image shape =',img.shape)\n",
    "img = np.load(swc)\n",
    "napari.view_image(img)\n",
    "# url = \"s3://open-neurodata/brainlit/brain1\"\n",
    "# ngl = NeuroglancerSession(url, mip=2)\n",
    "# seg_id = 7\n",
    "# v_id = 1\n",
    "# img, bounds, voxel = ngl.pull_chunk(seg_id=seg_id, v_id=v_id)\n",
    "# napari.view_image(img)"
   ]
  },
  {
   "source": [
    "### threshold top 5%"
   ],
   "cell_type": "markdown",
   "metadata": {}
  },
  {
   "cell_type": "code",
   "execution_count": 68,
   "metadata": {},
   "outputs": [],
   "source": [
    "H = np.sort(np.reshape(img,[1,-1]))\n",
    "thres = H[0,-round((H.shape[1])*0.05)]\n",
    "lx,ly,lz = img.shape\n",
    "imgTop5 = np.zeros([lx,ly,lz])\n",
    "for m in range(lx):\n",
    "    for n in range(ly):\n",
    "        for p in range(lz):\n",
    "            if img[m,n,p] < thres:\n",
    "                imgTop5[m,n,p] = 0\n",
    "            else:\n",
    "                imgTop5[m,n,p] = img[m,n,p]\n",
    "\n",
    "# viewer = napari.view_image(img, name='Original Image', colormap='red')\n",
    "# viewer.add_labels(imgTop5, name='Gray Threshold at 5%', num_colors=2, opacity=0.3)\n",
    "        "
   ]
  },
  {
   "source": [
    "### Binarize at top 0.1%"
   ],
   "cell_type": "markdown",
   "metadata": {}
  },
  {
   "cell_type": "code",
   "execution_count": 50,
   "metadata": {},
   "outputs": [
    {
     "output_type": "execute_result",
     "data": {
      "text/plain": [
       "<Labels layer 'Binary Threshold at 5%' at 0x1d3411edf88>"
      ]
     },
     "metadata": {},
     "execution_count": 50
    }
   ],
   "source": [
    "H = np.sort(np.reshape(img,[1,-1]))\n",
    "thres = H[0,-round((H.shape[1])*0.001)]\n",
    "lx,ly,lz = img.shape\n",
    "imgBW = np.zeros([lx,ly,lz])\n",
    "for m in range(lx):\n",
    "    for n in range(ly):\n",
    "        for p in range(lz):\n",
    "            if img[m,n,p] < thres:\n",
    "                imgBW[m,n,p] = 0\n",
    "            else:\n",
    "                imgBW[m,n,p] = 1\n",
    "\n",
    "viewer = napari.view_image(img, name='Original Image', colormap='red')\n",
    "viewer.add_labels(imgBW, name='Binary Threshold at 5%', num_colors=2, opacity=0.5)"
   ]
  },
  {
   "source": [
    "### gray erosion"
   ],
   "cell_type": "markdown",
   "metadata": {}
  },
  {
   "cell_type": "code",
   "execution_count": 235,
   "metadata": {},
   "outputs": [
    {
     "output_type": "execute_result",
     "data": {
      "text/plain": [
       "<Labels layer 'Gray Erosion' at 0x24f615609c8>"
      ]
     },
     "metadata": {},
     "execution_count": 235
    }
   ],
   "source": [
    "Gero = ndimage.grey_erosion(imgTop5, size=2)\n",
    "\n",
    "viewer = napari.view_image(img, name='Original Image', colormap='red')\n",
    "viewer.add_labels(Gero, name='Gray Erosion', num_colors=2, opacity=0.5)"
   ]
  },
  {
   "source": [
    "### binary erosion"
   ],
   "cell_type": "markdown",
   "metadata": {}
  },
  {
   "cell_type": "code",
   "execution_count": 72,
   "metadata": {},
   "outputs": [
    {
     "output_type": "execute_result",
     "data": {
      "text/plain": [
       "<Labels layer 'Gray Erosion' at 0x1d47d6c5848>"
      ]
     },
     "metadata": {},
     "execution_count": 72
    }
   ],
   "source": [
    "ero5 = ndimage.binary_erosion(imgTop5, iterations=8)\n",
    "\n",
    "viewer = napari.view_image(img, name='Original Image', colormap='red')\n",
    "viewer.add_labels(ero5, name='Gray Erosion', num_colors=2, opacity=0.5)"
   ]
  },
  {
   "cell_type": "code",
   "execution_count": null,
   "metadata": {},
   "outputs": [],
   "source": []
  }
 ]
}
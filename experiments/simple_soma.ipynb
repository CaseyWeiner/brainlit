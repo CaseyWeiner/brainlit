{
 "metadata": {
  "language_info": {
   "codemirror_mode": {
    "name": "ipython",
    "version": 3
   },
   "file_extension": ".py",
   "mimetype": "text/x-python",
   "name": "python",
   "nbconvert_exporter": "python",
   "pygments_lexer": "ipython3",
   "version": "3.7.9-final"
  },
  "orig_nbformat": 2,
  "kernelspec": {
   "name": "python379jvsc74a57bd00bac885b99a14f584a13e00f4815af6afaf6d8259c24184e148aa35fa8ca3049",
   "display_name": "Python 3.7.9 64-bit ('brainlit3.7': conda)"
  }
 },
 "nbformat": 4,
 "nbformat_minor": 2,
 "cells": [
  {
   "cell_type": "code",
   "execution_count": null,
   "metadata": {},
   "outputs": [],
   "source": [
    "import brainlit\n",
    "from brainlit.utils.session import NeuroglancerSession\n",
    "import matplotlib.pyplot as plt\n",
    "import numpy as np\n",
    "import napari\n",
    "from scipy import ndimage\n",
    "from pathlib import Path\n",
    "import skimage\n",
    "import pytest\n",
    "import glob\n",
    "%gui qt\n",
    "\n",
    "brainlit_path=Path.cwd()\n",
    "ImgPath=Path.joinpath(brainlit_path,'ffn')\n",
    "print(ImgPath)\n",
    "filelist = glob.glob('ImgPath\\*.png')\n",
    "print(filelist)\n",
    "# img = np.load(filelist)\n",
    "# print('image shape =',img.shape)\n",
    "# napari.view_image(img)\n"
   ]
  },
  {
   "source": [
    "## Collect locations of known somas"
   ],
   "cell_type": "markdown",
   "metadata": {}
  },
  {
   "cell_type": "code",
   "execution_count": null,
   "metadata": {},
   "outputs": [],
   "source": [
    "for seg_id in range(1000):\n",
    "    try:\n",
    "        vox = ngl_sess._get_voxel(seg_id, v_id) \n",
    "        voxs.append(vox)\n",
    "        _,vox2,_ = ngl_sess.pull_voxel(seg_id, v_id)\n",
    "        voxs2.append(np.array(np.floor(vox2.center()[:])))\n",
    "    except:\n",
    "        pass"
   ]
  },
  {
   "cell_type": "code",
   "execution_count": null,
   "metadata": {},
   "outputs": [],
   "source": [
    "dir = \"s3://open-neurodata/brainlit/brain1\"\n",
    "dir_segments = \"s3://open-neurodata/brainlit/brain1_segments\"\n",
    "mip = 0; radius = 150; v_id = 0\n",
    "# voxs = []\n",
    "voxs2 = []\n",
    "ngl_sess = NeuroglancerSession(mip=mip, url=dir, url_segments=dir_segments)\n",
    "# for seg_id in range(1000):\n",
    "#     try:\n",
    "#         vox = ngl_sess._get_voxel(seg_id, v_id) \n",
    "#         voxs.append(vox)\n",
    "#     except:\n",
    "#         pass\n",
    "\n",
    "for seg_id in range(1000):\n",
    "    try:\n",
    "        _,vox2,_ = ngl_sess.pull_voxel(seg_id, v_id)\n",
    "        voxs2.append(np.array(np.floor(vox2.center()[:])))\n",
    "    except:\n",
    "        pass\n",
    "\n",
    "# np.testing.assert_array_equal(voxs,voxs2)"
   ]
  },
  {
   "cell_type": "code",
   "execution_count": null,
   "metadata": {},
   "outputs": [],
   "source": [
    "len(voxs2)"
   ]
  },
  {
   "cell_type": "code",
   "execution_count": null,
   "metadata": {},
   "outputs": [],
   "source": [
    "\n",
    "Nbbox = [956341.1875,2522349.25,6056794.5,1056341.1875,2622349.25,6156794.5]\n",
    "KnoSomNum = 0\n",
    "for vox in voxs2:\n",
    "    if vox[0] > Nbbox[0] and vox[0] < Nbbox[3]:\n",
    "        if vox[1] > Nbbox[1] and vox[1] < Nbbox[4]:\n",
    "            if vox[2] > Nbbox[2] and vox[2] < Nbbox[5]:\n",
    "                KnoSomNum +=1\n",
    "\n",
    "print('Known number of soma within the subvolume is',str(KnoSomNum))\n"
   ]
  },
  {
   "source": [
    "## Simple Soma Detector\n",
    "### threshold top 5% followed by binary erosion"
   ],
   "cell_type": "markdown",
   "metadata": {}
  },
  {
   "cell_type": "code",
   "execution_count": null,
   "metadata": {},
   "outputs": [],
   "source": [
    "%gui qt\n",
    "### threshold top 5%\n",
    "H = np.sort(np.reshape(img,[1,-1]))\n",
    "thres = H[0,-round((H.shape[1])*0.05)]\n",
    "lx,ly,lz = img.shape\n",
    "imgTop5 = np.zeros([lx,ly,lz])\n",
    "for m in range(lx):\n",
    "    for n in range(ly):\n",
    "        for p in range(lz):\n",
    "            if img[m,n,p] < thres:\n",
    "                imgTop5[m,n,p] = 0\n",
    "            else:\n",
    "                imgTop5[m,n,p] = img[m,n,p]\n",
    "\n",
    "# viewer = napari.view_image(img, name='Original Image', colormap='red')\n",
    "# viewer.add_labels(imgTop5, name='Gray Threshold at 5%', num_colors=2, opacity=0.3)\n",
    "\n",
    "### binary erosion\n",
    "ero5 = ndimage.binary_erosion(imgTop5, iterations=5)\n",
    "\n",
    "# viewer = napari.view_image(img, name='Original Image', colormap='red')\n",
    "# viewer.add_labels(ero5, name='Gray Erosion', num_colors=2, opacity=0.5)\n",
    "\n",
    "### region label\n",
    "ReLab, NumLab = skimage.measure.label(ero5, return_num=True)\n",
    "print('number of labels = ',NumLab)\n",
    "\n",
    "viewer = napari.view_image(img, name='Gray Erosion', colormap='green')\n",
    "viewer.add_labels(ReLab, name='Region Labels', opacity=0.5)\n",
    "# num_colors=20\n",
    "props = skimage.measure.regionprops(ReLab)\n",
    "CNumLab = NumLab\n",
    "for x in range(NumLab):\n",
    "    D = props[x].equivalent_diameter\n",
    "    #print(D)\n",
    "    if D < 10:\n",
    "        CNumLab-=1\n",
    "\n",
    "print('Possible number of somas is',str(CNumLab))\n"
   ]
  },
  {
   "source": [
    "### Other methods"
   ],
   "cell_type": "markdown",
   "metadata": {}
  },
  {
   "cell_type": "code",
   "execution_count": null,
   "metadata": {},
   "outputs": [],
   "source": [
    "## Binarize at top 0.1%\n",
    "H = np.sort(np.reshape(img,[1,-1]))\n",
    "thres = H[0,-round((H.shape[1])*0.001)]\n",
    "lx,ly,lz = img.shape\n",
    "imgBW = np.zeros([lx,ly,lz])\n",
    "for m in range(lx):\n",
    "    for n in range(ly):\n",
    "        for p in range(lz):\n",
    "            if img[m,n,p] < thres:\n",
    "                imgBW[m,n,p] = 0\n",
    "            else:\n",
    "                imgBW[m,n,p] = 1\n",
    "\n",
    "# viewer = napari.view_image(img, name='Original Image', colormap='red')\n",
    "# viewer.add_labels(imgBW, name='Binary Threshold at 5%', num_colors=2, opacity=0.5)\n",
    "## gray erosion\n",
    "Gero = ndimage.grey_erosion(imgTop5, size=2)\n",
    "\n",
    "viewer = napari.view_image(img, name='Original Image', colormap='red')\n",
    "viewer.add_labels(Gero, name='Gray Erosion', num_colors=2, opacity=0.5)\n"
   ]
  },
  {
   "cell_type": "code",
   "execution_count": null,
   "metadata": {},
   "outputs": [],
   "source": []
  }
 ]
}
{
 "cells": [
  {
   "cell_type": "code",
   "execution_count": null,
   "metadata": {},
   "outputs": [],
   "source": [
    "from pathlib import Path\n",
    "from brainlit.utils.swc import read_swc_offset\n",
    "from brainlit.algorithms.trace_analysis.fit_spline import GeometricGraph\n",
    "import numpy as np\n",
    "import matplotlib.pyplot as plt\n",
    "from matplotlib.cm import ScalarMappable\n",
    "from mpl_toolkits.mplot3d import Axes3D\n",
    "import matplotlib\n",
    "from scipy.interpolate import splev"
   ]
  },
  {
   "cell_type": "markdown",
   "metadata": {},
   "source": [
    "# Fitting Splines to Neuron Trace SWC Tutorial\n",
    "\n",
    "## 1) Define variables\n",
    "- `swc` the geometric graph\n",
    "- `df,_,_,_` read the x, y, and z columns in swc file\n",
    "- `neuron` define a new class inherited from `GeometricGraph` class\n",
    "- `soma` define the data on the first run as the location of soma"
   ]
  },
  {
   "cell_type": "code",
   "execution_count": null,
   "metadata": {},
   "outputs": [],
   "source": [
    "brainlit_path=Path.cwd().parent.parent.parent\n",
    "swc=Path.joinpath(brainlit_path,'data','data_octree','consensus-swcs','2018-08-01_G-002_consensus.swc')\n",
    "df,_,_,_ = read_swc_offset(swc)\n",
    "neuron = GeometricGraph(df=df)\n",
    "soma = np.array([df.x[0], df.y[0], df.z[0]])\n"
   ]
  },
  {
   "cell_type": "markdown",
   "metadata": {},
   "source": [
    "## 2) Plot the whole spline tree\n",
    "- `spline_tree` use the `fit_spline_tree_invariant` to locate neuron branches"
   ]
  },
  {
   "cell_type": "code",
   "execution_count": null,
   "metadata": {
    "tags": []
   },
   "outputs": [],
   "source": [
    "fig = plt.figure()\n",
    "ax = fig.add_subplot(111, projection=\"3d\")\n",
    "spline_tree = neuron.fit_spline_tree_invariant()\n",
    "for node in spline_tree.nodes:\n",
    "    path = spline_tree.nodes[node][\"path\"]\n",
    "    locs = np.zeros((len(path),3))\n",
    "    for p,point in enumerate(path):\n",
    "        locs[p,:] = neuron.nodes[point][\"loc\"]\n",
    "    ax.scatter(locs[:,0], locs[:,1], locs[:,2], marker=\".\",edgecolor='yellowgreen',linewidths=1,c='mediumblue', s=8)\n",
    "    ax.plot(locs[:,0], locs[:,1], locs[:,2], linestyle='-',color='midnightblue',linewidth=0.8)\n",
    "ax.scatter(soma[0],soma[1],soma[2], c='darkorange', s=5)\n",
    "ax.w_xaxis.set_pane_color((1.0, 1.0, 1.0, 1.0))\n",
    "ax.w_yaxis.set_pane_color((1.0, 1.0, 1.0, 1.0))\n",
    "ax.w_zaxis.set_pane_color((1.0, 1.0, 1.0, 1.0))\n",
    "ax.grid(True)\n",
    "\n",
    "\n",
    "plt.show()"
   ]
  },
  {
   "cell_type": "markdown",
   "metadata": {},
   "source": [
    "##### Figure 1. The green dots indicate the locations of nodes on a tree, representing a neuron, and the single orange dot locates the position of the soma. Each nodes are connected with darkblue lines to illustrate the path of the neuron."
   ]
  },
  {
   "cell_type": "markdown",
   "metadata": {},
   "source": [
    "## 3) Plot each branch in separate plots"
   ]
  },
  {
   "cell_type": "code",
   "execution_count": null,
   "metadata": {},
   "outputs": [],
   "source": [
    "for node in spline_tree.nodes:\n",
    "    path = spline_tree.nodes[node][\"path\"]\n",
    "    locs = np.zeros((len(path),3))\n",
    "    for p,point in enumerate(path):\n",
    "        locs[p,:] = neuron.nodes[point][\"loc\"]\n",
    "\n",
    "    spline = spline_tree.nodes[node][\"spline\"]\n",
    "    u = spline[1]\n",
    "    u = np.arange(u[0], u[-1]+0.9, 1)\n",
    "    tck = spline[0]\n",
    "    pts = splev(u, tck)\n",
    "    \n",
    "    \n",
    "    if node < 3:\n",
    "        fig = plt.figure()\n",
    "        ax = fig.add_subplot(111,projection=\"3d\")\n",
    "        ax.plot(pts[0], pts[1], pts[2], 'red')\n",
    "        ax.w_xaxis.set_pane_color((0.23, 0.25, 0.209, 0.5))\n",
    "        ax.w_yaxis.set_pane_color((0.23, 0.25, 0.209, 0.1))\n",
    "        ax.w_zaxis.set_pane_color((0.23, 0.25, 0.209, 0.3))\n",
    "        ax.grid(False)\n",
    "        ax.set_xticks([])\n",
    "        ax.set_yticks([])\n",
    "        ax.set_zticks([])\n",
    "        plt.axis('on')\n",
    "        plt.show()\n",
    "\n",
    "    "
   ]
  },
  {
   "cell_type": "markdown",
   "metadata": {},
   "source": [
    "##### Figure 2. Examples of fitted splines to three different paths in a tree-like neuron."
   ]
  }
 ],
 "metadata": {
  "kernelspec": {
   "display_name": "Python 3.8.3 64-bit",
   "language": "python",
   "name": "python38364bitf4714412a1f44add8a34874023a8360b"
  },
  "language_info": {
   "codemirror_mode": {
    "name": "ipython",
    "version": 3
   },
   "file_extension": ".py",
   "mimetype": "text/x-python",
   "name": "python",
   "nbconvert_exporter": "python",
   "pygments_lexer": "ipython3",
   "version": "3.8.3-final"
  }
 },
 "nbformat": 4,
 "nbformat_minor": 2
}

{
 "cells": [
  {
   "cell_type": "markdown",
   "metadata": {},
   "source": [
    "# Viterbi Algorithm for Connecting Fragments in Long-Range Paths\n",
    "Frederick Xu"
   ]
  },
  {
   "cell_type": "markdown",
   "metadata": {},
   "source": [
    "## Introduction\n",
    "\n",
    "wip"
   ]
  },
  {
   "cell_type": "code",
   "execution_count": 6,
   "metadata": {},
   "outputs": [],
   "source": [
    "import numpy as np\n",
    "from brainlit.algorithms.connect_fragments.tests.grid_generator import grid_gen\n",
    "from brainlit.algorithms.connect_fragments.dynamic_programming_viterbi import viterbi_algorithm\n",
    "import matplotlib.pyplot as plt"
   ]
  },
  {
   "cell_type": "markdown",
   "metadata": {},
   "source": [
    "## Running a 10x10 Grid Example"
   ]
  },
  {
   "cell_type": "code",
   "execution_count": 10,
   "metadata": {},
   "outputs": [
    {
     "name": "stdout",
     "output_type": "stream",
     "text": [
      "Soma label:  {5: [(9, 9, 0)]}\n"
     ]
    },
    {
     "data": {
      "image/png": "[encoded data removed]",
      "text/plain": [
       "<Figure size 432x288 with 1 Axes>"
      ]
     },
     "metadata": {
      "needs_background": "light"
     },
     "output_type": "display_data"
    },
    {
     "data": {
      "image/png": "[encoded data removed]",
      "text/plain": [
       "<Figure size 432x288 with 1 Axes>"
      ]
     },
     "metadata": {
      "needs_background": "light"
     },
     "output_type": "display_data"
    }
   ],
   "source": [
    "# Load the 10x10 example from grid_generator\n",
    "img, lbls, _ , somas = grid_gen(10)\n",
    "plt.figure()\n",
    "plt.title(\"Image data\")\n",
    "plt.imshow(img[:,:,0])\n",
    "plt.figure()\n",
    "plt.title(\"Pre-generated Labels\")\n",
    "plt.imshow(lbls[:,:,0])\n",
    "\n",
    "# Initiate the algorithm class\n",
    "alg = viterbi_algorithm(img, lbls, somas, [1,1,1])\n",
    "print(\"Soma label: \", somas)"
   ]
  },
  {
   "cell_type": "code",
   "execution_count": 12,
   "metadata": {},
   "outputs": [],
   "source": [
    "# Manually identify the endpoints. Note that Labels 2 and 5 are \"blobs\" and do not have endpoints\n",
    "endpoints = {}\n",
    "endpoints[1] = ((0,0,0),(0,2,0))\n",
    "endpoints[3] = ((3,3,0),(6,5,0))\n",
    "endpoints[4] = ((7,7,0),(7,8,0))\n",
    "# Assign the endpoints\n",
    "alg.end_points = endpoints"
   ]
  },
  {
   "cell_type": "markdown",
   "metadata": {},
   "source": [
    "## Running Viterbi Algorithm\n",
    "\n",
    "Within the Viterbi class object, we first need to compute the distance matrices. After that, we can run the Viterbi algorithm to find the best path."
   ]
  },
  {
   "cell_type": "code",
   "execution_count": 15,
   "metadata": {},
   "outputs": [],
   "source": [
    "def print_path(alg, path):\n",
    "    c = alg.connection_mat\n",
    "    path_lbls = path[1]\n",
    "    for i in range(len(path_lbls)-1):\n",
    "        from_lbl = path_lbls[i]\n",
    "        to_lbl = path_lbls[i+1]\n",
    "\n",
    "        print(f\"From {from_lbl} to {to_lbl}: {c[0][from_lbl][to_lbl]}, {c[1][from_lbl][to_lbl]}\")"
   ]
  },
  {
   "cell_type": "code",
   "execution_count": 16,
   "metadata": {},
   "outputs": [
    {
     "name": "stdout",
     "output_type": "stream",
     "text": [
      "(1.1241229611526466, [1, 3, 4, 5, 5])\n",
      "From 1 to 3: [0 2 0], [3 3 0]\n",
      "From 3 to 4: [6 5 0], [7 7 0]\n",
      "From 4 to 5: [7 8 0], [9 9 0]\n",
      "From 5 to 5: [0 0 0], [0 0 0]\n"
     ]
    }
   ],
   "source": [
    "alg.compute_all_dists()\n",
    "top_path, sorted_paths = alg.viterbi_frag(1, K=4, somas=alg.somas)\n",
    "print(top_path)\n",
    "print_path(alg, top_path)   "
   ]
  },
  {
   "cell_type": "markdown",
   "metadata": {},
   "source": [
    "Explain the path here"
   ]
  },
  {
   "cell_type": "markdown",
   "metadata": {},
   "source": [
    "## Testing on Real Images"
   ]
  },
  {
   "cell_type": "code",
   "execution_count": null,
   "metadata": {},
   "outputs": [],
   "source": [
    "# Set up download from S3, fragments etc."
   ]
  }
 ],
 "metadata": {
  "kernelspec": {
   "display_name": "Python 3",
   "language": "python",
   "name": "python3"
  },
  "language_info": {
   "codemirror_mode": {
    "name": "ipython",
    "version": 3
   },
   "file_extension": ".py",
   "mimetype": "text/x-python",
   "name": "python",
   "nbconvert_exporter": "python",
   "pygments_lexer": "ipython3",
   "version": "3.7.9"
  }
 },
 "nbformat": 4,
 "nbformat_minor": 4
}

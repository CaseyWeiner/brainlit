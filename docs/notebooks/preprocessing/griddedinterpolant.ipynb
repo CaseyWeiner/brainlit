{
 "metadata": {
  "language_info": {
   "codemirror_mode": {
    "name": "ipython",
    "version": 3
   },
   "file_extension": ".py",
   "mimetype": "text/x-python",
   "name": "python",
   "nbconvert_exporter": "python",
   "pygments_lexer": "ipython3",
   "version": "3.8.5-final"
  },
  "orig_nbformat": 2,
  "kernelspec": {
   "name": "python3",
   "display_name": "Python 3.8.5 64-bit ('brainlit': pipenv)",
   "metadata": {
    "interpreter": {
     "hash": "3d57fd2a41d4830a0af2fed9963890dffbabb854e04a9fc037b2acaaab9e66a7"
    }
   }
  }
 },
 "nbformat": 4,
 "nbformat_minor": 2,
 "cells": [
  {
   "cell_type": "code",
   "execution_count": 1,
   "metadata": {},
   "outputs": [],
   "source": [
    "import numpy as np\n",
    "from brainlit.preprocessing import griddedInterpolant\n",
    "from skimage import data\n",
    "import matplotlib.pyplot as plt\n",
    "import itertools\n",
    "import cProfile, pstats, io\n",
    "from pstats import SortKey"
   ]
  },
  {
   "cell_type": "code",
   "execution_count": 2,
   "metadata": {},
   "outputs": [],
   "source": [
    "def f(x, y, z):\n",
    "    return 2* x**3 + 3 * y**2 - z"
   ]
  },
  {
   "cell_type": "code",
   "execution_count": 3,
   "metadata": {},
   "outputs": [],
   "source": [
    "x = np.linspace(1, 4, 110)\n",
    "y = np.linspace(4, 7, 220)\n",
    "z = np.linspace(7, 9, 330)\n",
    "\n",
    "data = f(*np.meshgrid(x, y, z, indexing=\"ij\", sparse=True))"
   ]
  },
  {
   "cell_type": "code",
   "execution_count": 4,
   "metadata": {},
   "outputs": [],
   "source": [
    "interp = griddedInterpolant((x,y,z), data)"
   ]
  },
  {
   "cell_type": "code",
   "execution_count": 6,
   "metadata": {},
   "outputs": [
    {
     "output_type": "stream",
     "name": "stdout",
     "text": [
      "         173 function calls in 0.011 seconds\n\n   Ordered by: cumulative time\n\n   ncalls  tottime  percall  cumtime  percall filename:lineno(function)\n        2    0.000    0.000    0.011    0.005 /home/ryan/.local/share/virtualenvs/brainlit-x5iCtPa9/lib/python3.8/site-packages/IPython/core/interactiveshell.py:3377(run_code)\n        2    0.000    0.000    0.011    0.005 {built-in method builtins.exec}\n        1    0.000    0.000    0.011    0.011 <ipython-input-6-88d91d7bc38b>:5(<module>)\n        1    0.001    0.001    0.010    0.010 /mnt/c/Users/Ryan/Documents/GitHub/brainlit/brainlit/preprocessing/image_process.py:61(__call__)\n        1    0.005    0.005    0.007    0.007 /mnt/c/Users/Ryan/Documents/GitHub/brainlit/brainlit/preprocessing/image_process.py:99(_find_indices)\n        1    0.002    0.002    0.002    0.002 /mnt/c/Users/Ryan/Documents/GitHub/brainlit/brainlit/preprocessing/image_process.py:84(_evaluate_linear)\n       27    0.000    0.000    0.002    0.000 {built-in method numpy.core._multiarray_umath.implement_array_function}\n        3    0.000    0.000    0.002    0.001 <__array_function__ internals>:2(searchsorted)\n        3    0.000    0.000    0.001    0.000 /home/ryan/.local/share/virtualenvs/brainlit-x5iCtPa9/lib/python3.8/site-packages/numpy/core/fromnumeric.py:1276(searchsorted)\n        3    0.000    0.000    0.001    0.000 /home/ryan/.local/share/virtualenvs/brainlit-x5iCtPa9/lib/python3.8/site-packages/numpy/core/fromnumeric.py:52(_wrapfunc)\n        3    0.001    0.000    0.001    0.000 {method 'searchsorted' of 'numpy.ndarray' objects}\n       24    0.000    0.000    0.001    0.000 <__array_function__ internals>:2(where)\n        1    0.000    0.000    0.000    0.000 {built-in method brainlit.preprocessing.interp._ndim_coords_from_arrays}\n        1    0.000    0.000    0.000    0.000 {built-in method numpy.zeros}\n        1    0.000    0.000    0.000    0.000 /home/ryan/.local/share/virtualenvs/brainlit-x5iCtPa9/lib/python3.8/site-packages/numpy/core/_asarray.py:86(asanyarray)\n        2    0.000    0.000    0.000    0.000 /usr/lib/python3.8/codeop.py:140(__call__)\n        2    0.000    0.000    0.000    0.000 {built-in method builtins.compile}\n        1    0.000    0.000    0.000    0.000 <ipython-input-6-88d91d7bc38b>:6(<module>)\n        1    0.000    0.000    0.000    0.000 /mnt/c/Users/Ryan/Documents/GitHub/brainlit/brainlit/preprocessing/image_process.py:90(<listcomp>)\n        9    0.000    0.000    0.000    0.000 {built-in method numpy.array}\n       24    0.000    0.000    0.000    0.000 /home/ryan/.local/share/virtualenvs/brainlit-x5iCtPa9/lib/python3.8/site-packages/numpy/core/multiarray.py:311(where)\n        2    0.000    0.000    0.000    0.000 {method 'reshape' of 'numpy.ndarray' objects}\n        3    0.000    0.000    0.000    0.000 /home/ryan/.local/share/virtualenvs/brainlit-x5iCtPa9/lib/python3.8/site-packages/numpy/core/fromnumeric.py:1272(_searchsorted_dispatcher)\n        2    0.000    0.000    0.000    0.000 /usr/lib/python3.8/contextlib.py:238(helper)\n        8    0.000    0.000    0.000    0.000 /home/ryan/.local/share/virtualenvs/brainlit-x5iCtPa9/lib/python3.8/site-packages/numpy/core/_asarray.py:14(asarray)\n        2    0.000    0.000    0.000    0.000 /usr/lib/python3.8/contextlib.py:82(__init__)\n        2    0.000    0.000    0.000    0.000 /usr/lib/python3.8/contextlib.py:108(__enter__)\n        4    0.000    0.000    0.000    0.000 {built-in method builtins.next}\n        2    0.000    0.000    0.000    0.000 /usr/lib/python3.8/contextlib.py:117(__exit__)\n        2    0.000    0.000    0.000    0.000 /home/ryan/.local/share/virtualenvs/brainlit-x5iCtPa9/lib/python3.8/site-packages/traitlets/traitlets.py:564(__get__)\n        7    0.000    0.000    0.000    0.000 {built-in method builtins.getattr}\n        2    0.000    0.000    0.000    0.000 /home/ryan/.local/share/virtualenvs/brainlit-x5iCtPa9/lib/python3.8/site-packages/IPython/core/hooks.py:103(__call__)\n        4    0.000    0.000    0.000    0.000 /home/ryan/.local/share/virtualenvs/brainlit-x5iCtPa9/lib/python3.8/site-packages/IPython/core/compilerop.py:138(extra_flags)\n        2    0.000    0.000    0.000    0.000 /home/ryan/.local/share/virtualenvs/brainlit-x5iCtPa9/lib/python3.8/site-packages/IPython/core/interactiveshell.py:3315(compare)\n        2    0.000    0.000    0.000    0.000 /home/ryan/.local/share/virtualenvs/brainlit-x5iCtPa9/lib/python3.8/site-packages/IPython/utils/ipstruct.py:125(__getattr__)\n        2    0.000    0.000    0.000    0.000 /home/ryan/.local/share/virtualenvs/brainlit-x5iCtPa9/lib/python3.8/site-packages/traitlets/traitlets.py:533(get)\n        2    0.000    0.000    0.000    0.000 /home/ryan/.local/share/virtualenvs/brainlit-x5iCtPa9/lib/python3.8/site-packages/IPython/core/interactiveshell.py:1277(user_global_ns)\n        6    0.000    0.000    0.000    0.000 {method 'append' of 'list' objects}\n        3    0.000    0.000    0.000    0.000 {built-in method builtins.len}\n        2    0.000    0.000    0.000    0.000 /home/ryan/.local/share/virtualenvs/brainlit-x5iCtPa9/lib/python3.8/site-packages/IPython/core/hooks.py:168(pre_run_code_hook)\n        1    0.000    0.000    0.000    0.000 {method 'disable' of '_lsprof.Profiler' objects}\n\n\n\n"
     ]
    }
   ],
   "source": [
    "pts = np.tile([2, 10, 10],(1000,1))\n",
    "\n",
    "pr = cProfile.Profile()\n",
    "pr.enable()\n",
    "interp(pts)\n",
    "pr.disable()\n",
    "s = io.StringIO()\n",
    "sortby = SortKey.CUMULATIVE\n",
    "ps = pstats.Stats(pr, stream=s).sort_stats(sortby)\n",
    "ps.print_stats()\n",
    "print(s.getvalue())"
   ]
  },
  {
   "cell_type": "code",
   "execution_count": 7,
   "metadata": {},
   "outputs": [
    {
     "output_type": "execute_result",
     "data": {
      "text/plain": [
       "[array([2.1, 6.2, 8.3]), array([3.3, 5.2, 7.1])]"
      ]
     },
     "metadata": {},
     "execution_count": 7
    }
   ],
   "source": [
    "np.broadcast_arrays(*pts)"
   ]
  },
  {
   "cell_type": "code",
   "execution_count": 6,
   "metadata": {},
   "outputs": [],
   "source": [
    "import cProfile, pstats, io\n",
    "from pstats import SortKey"
   ]
  },
  {
   "cell_type": "code",
   "execution_count": null,
   "metadata": {},
   "outputs": [],
   "source": []
  }
 ]
}
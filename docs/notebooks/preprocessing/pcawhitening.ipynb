{
 "cells": [
  {
   "cell_type": "markdown",
   "metadata": {},
   "source": [
    "# Whitening \n",
    "\n",
    "In image data, pixels close to each other are often correlated. Using whitening, the dimensionality of the input can be reduced and adjacent pixels can be uncorrelated. Brainlit has two implementations, ZCA and PCA. A tutorial in the mathematics can be found here: http://ufldl.stanford.edu/tutorial/unsupervised/PCAWhitening/"
   ]
  },
  {
   "cell_type": "code",
   "execution_count": null,
   "metadata": {},
   "outputs": [],
   "source": [
    "import numpy as np\n",
    "from brainlit.preprocessing import whiten\n",
    "from skimage import data\n",
    "import matplotlib.pyplot as plt\n",
    "\n",
    "img = data.camera()\n",
    "step_size = np.array([1,1])\n",
    "window_size = np.array([25,25])\n",
    "\n",
    "pca_whitened_img, _ = whiten(img, window_size, step_size, centered=False, type='PCA')\n",
    "zca_whitened_img, _ = whiten(img, window_size, step_size, centered=False, type='ZCA')\n",
    "normalized_pca = 256*(pca_whitened_img - np.min(pca_whitened_img))/(np.max(pca_whitened_img)-np.min(pca_whitened_img))\n",
    "normalized_zca = 256*(zca_whitened_img - np.min(zca_whitened_img))/(np.max(zca_whitened_img)-np.min(zca_whitened_img))\n",
    "\n",
    "plt.figure()\n",
    "plt.subplot(1,3,1)\n",
    "plt.imshow(img, cmap='gray')\n",
    "plt.title(\"No Whitening\")\n",
    "plt.axis('off')\n",
    "plt.subplot(1,3,2)\n",
    "plt.imshow(normalized_pca, cmap='gray')\n",
    "plt.title(\"PCA Whitening\")\n",
    "plt.axis('off')\n",
    "plt.subplot(1,3,3)\n",
    "plt.imshow(normalized_zca, cmap='gray')\n",
    "plt.title(\"ZCA Whitening\")\n",
    "plt.axis('off')\n",
    "plt.show()"
   ]
  }
 ],
 "metadata": {
  "file_extension": ".py",
  "kernelspec": {
   "display_name": "Python 3.7.6 64-bit ('scipydev': conda)",
   "name": "python37664bitscipydevcondaa561a5f26f384a3d8eec296dbbf704a7"
  },
  "language_info": {
   "codemirror_mode": {
    "name": "ipython",
    "version": 3
   },
   "name": "python",
   "version": "3.7.6-final"
  },
  "mimetype": "text/x-python",
  "name": "python",
  "npconvert_exporter": "python",
  "pygments_lexer": "ipython3",
  "version": 3
 },
 "nbformat": 4,
 "nbformat_minor": 2
}

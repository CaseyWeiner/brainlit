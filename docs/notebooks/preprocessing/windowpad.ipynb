{
 "cells": [
  {
   "cell_type": "markdown",
   "metadata": {},
   "source": [
    "# Window Padding\n",
    "\n",
    "Window_pad creates edge padding, which repeats and extends edge pixels, prior to convolving an image with a kernel. The function allows for padding in any number of dimensions. Additionally, the convolutional step size can be set separately for each direction."
   ]
  },
  {
   "cell_type": "code",
   "execution_count": null,
   "metadata": {},
   "outputs": [],
   "source": [
    "import numpy as np\n",
    "from brainlit.preprocessing import window_pad\n",
    "from skimage import data\n",
    "import matplotlib.pyplot as plt\n",
    "\n",
    "img = data.brick()\n",
    "step_size = np.array([1,1])\n",
    "window_size = np.array([50,50])\n",
    "\n",
    "img_padded, padding = window_pad(img, window_size, step_size)\n",
    "\n",
    "plt.figure()\n",
    "plt.subplot(1,2,1)\n",
    "plt.imshow(img, cmap='gray')\n",
    "plt.title(\"No Padding\\nDimensions = {} x {}\".format(img.shape[0], img.shape[1]))\n",
    "plt.axis('off')\n",
    "plt.subplot(1,2,2)\n",
    "plt.imshow(img_padded, cmap='gray')\n",
    "plt.title(\"Padding\\nDimensions = {} x {}\".format(img_padded.shape[0], img_padded.shape[1]))\n",
    "plt.axis('off')\n",
    "plt.show()\n"
   ]
  },
  {
   "cell_type": "code",
   "execution_count": null,
   "metadata": {},
   "outputs": [],
   "source": []
  }
 ],
 "metadata": {
  "kernelspec": {
   "display_name": "Python 3.7.6 64-bit ('scipydev': conda)",
   "language": "python",
   "name": "python37664bitscipydevcondaa561a5f26f384a3d8eec296dbbf704a7"
  },
  "language_info": {
   "codemirror_mode": {
    "name": "ipython",
    "version": 3
   },
   "file_extension": ".py",
   "mimetype": "text/x-python",
   "name": "python",
   "nbconvert_exporter": "python",
   "pygments_lexer": "ipython3",
   "version": "3.7.6-final"
  }
 },
 "nbformat": 4,
 "nbformat_minor": 4
}

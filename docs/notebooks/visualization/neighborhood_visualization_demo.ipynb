{
 "cells": [
  {
   "cell_type": "markdown",
   "metadata": {},
   "source": [
    "# Visualization of Neighborhoods Tutorial"
   ]
  },
  {
   "cell_type": "markdown",
   "metadata": {},
   "source": [
    "**Objective**: \n",
    "This tutorial covers how to perform visualize neighborhoods based on two approaches.  \n",
    "    \n",
    "    1) Grabbing a bounding box region a vertex\n",
    "    2) Grabbing n neighbors around a vertex"
   ]
  },
  {
   "cell_type": "code",
   "execution_count": null,
   "metadata": {},
   "outputs": [],
   "source": [
    "import napari\n",
    "%gui qt5"
   ]
  },
  {
   "cell_type": "code",
   "execution_count": null,
   "metadata": {},
   "outputs": [],
   "source": [
    "from brainlit.utils.swc import *\n",
    "from brainlit.utils.ngl_pipeline import NeuroglancerSession"
   ]
  },
  {
   "cell_type": "code",
   "execution_count": null,
   "metadata": {},
   "outputs": [],
   "source": [
    "from pathlib import Path\n",
    "dest_dir = str(Path().resolve().parents[0] / \"utils\" / \"upload\")\n",
    "dest_dir_segments = str(Path().resolve().parents[0] / \"utils\" / \"upload_segments\")"
   ]
  },
  {
   "cell_type": "markdown",
   "metadata": {},
   "source": [
    "**Reading data from s3 path**"
   ]
  },
  {
   "cell_type": "code",
   "execution_count": null,
   "metadata": {},
   "outputs": [],
   "source": [
    "s3_path = \"file://\"+dest_dir_segments\n",
    "seg_id,  v_id, mip = 2, 10, 1 # skeleton/neuron id, index/row of df, resolution quality\n",
    "df = read_s3(s3_path, seg_id, mip)\n",
    "df.head()"
   ]
  },
  {
   "cell_type": "markdown",
   "metadata": {},
   "source": [
    "**Converting dataframe to graph data structure to understand how vertices are connected**"
   ]
  },
  {
   "cell_type": "code",
   "execution_count": null,
   "metadata": {
    "tags": []
   },
   "outputs": [],
   "source": [
    "G = df_to_graph(df)\n",
    "paths = graph_to_paths(G=G)\n",
    "print(f\"The graph was decomposed into {len(paths)} paths\")"
   ]
  },
  {
   "cell_type": "markdown",
   "metadata": {},
   "source": [
    "**Plotting the entire skeleton/neuron**"
   ]
  },
  {
   "cell_type": "code",
   "execution_count": null,
   "metadata": {},
   "outputs": [],
   "source": [
    "viewer = napari.Viewer(ndisplay=3)\n",
    "# it is important that the number of paths put into 'data=' is at the most 1024\n",
    "viewer.add_points(data=np.concatenate(paths)[804:], edge_width=2, edge_color='white', name='Skeleton 2')\n",
    "viewer.add_shapes(data=paths, shape_type='path', edge_color='white', name='Skeleton 2')"
   ]
  },
  {
   "cell_type": "markdown",
   "metadata": {},
   "source": [
    "\n",
    "## Bounding Box Method"
   ]
  },
  {
   "cell_type": "markdown",
   "metadata": {},
   "source": [
    "**Creating a bounding box based on a particular vertex of interest in order to get a group of neurons neighboring the vertex of interest**"
   ]
  },
  {
   "cell_type": "code",
   "execution_count": null,
   "metadata": {
    "tags": []
   },
   "outputs": [],
   "source": [
    "# Create an NGL session to get the bounding box\n",
    "ngl_sess = NeuroglancerSession(\n",
    "    url=\"file://\"+dest_dir, \n",
    "    url_segments=\"file://\"+dest_dir_segments,\n",
    "    mip=1\n",
    ")\n",
    "img, bbbox, vox = ngl_sess.pull_chunk(seg_id, v_id, 1, 1, 1)\n",
    "bbox = bbbox.to_list()\n",
    "box = (bbox[:3], bbox[3:])"
   ]
  },
  {
   "cell_type": "markdown",
   "metadata": {},
   "source": [
    "**Getting all the coordinates of the group surrounding the vertex of interest using get_sub_neuron()**  \n",
    "Note: data correction step necessary due to recentering in function!"
   ]
  },
  {
   "cell_type": "code",
   "execution_count": null,
   "metadata": {},
   "outputs": [],
   "source": [
    "G_sub = get_sub_neuron(G, box)\n",
    "\n",
    "# preventing the re-centring of nodes to the bounding box corner (origin of the new coordinate frame)\n",
    "for id in list(G_sub.nodes):\n",
    "    G_sub.nodes[id][\"x\"] = G_sub.nodes[id][\"x\"] + box[0][0]\n",
    "    G_sub.nodes[id][\"y\"] = G_sub.nodes[id][\"y\"] + box[0][1]\n",
    "    G_sub.nodes[id][\"z\"] = G_sub.nodes[id][\"z\"] + box[0][2]\n",
    "    \n",
    "paths_sub = graph_to_paths(G_sub)"
   ]
  },
  {
   "cell_type": "markdown",
   "metadata": {},
   "source": [
    "**Plotting vertex and vertex neighborhood**"
   ]
  },
  {
   "cell_type": "code",
   "execution_count": null,
   "metadata": {
    "tags": []
   },
   "outputs": [],
   "source": [
    "# grab the coordinates of the vertex from the skeleon \n",
    "cv_skel = CloudVolume(s3_path, mip=mip)\n",
    "skel = cv_skel.skeleton.get(seg_id)\n",
    "vertex = skel.vertices[v_id]/cv_skel.scales[mip][\"resolution\"]\n",
    "print(vertex)\n",
    "\n",
    "viewer = napari.Viewer(ndisplay=3)\n",
    "viewer.add_image(np.squeeze(np.array(img)))\n",
    "viewer.add_points(data=np.concatenate(paths_sub), edge_width=2, edge_color='blue', name='Skeleton 2')\n",
    "viewer.add_shapes(data=paths_sub, shape_type='path', edge_color='blue', name='Neighborhood',edge_width=5)\n",
    "\n",
    "# display vertex\n",
    "viewer.add_points(data=np.array(vertex), edge_width=5, edge_color='green', name='vertex')"
   ]
  },
  {
   "cell_type": "markdown",
   "metadata": {},
   "source": [
    "## Neighbors Method"
   ]
  },
  {
   "cell_type": "code",
   "execution_count": null,
   "metadata": {
    "tags": []
   },
   "outputs": [],
   "source": [
    "# grab the coordinates of the vertex from the skeleon \n",
    "cv_skel = CloudVolume(s3_path, mip=mip)\n",
    "skel = cv_skel.skeleton.get(seg_id)\n",
    "vertex = skel.vertices[v_id]/cv_skel.scales[mip][\"resolution\"]\n",
    "print(vertex)\n",
    "\n",
    "# figure out where the vertex information is stored in the dataframe returned by read_s3\n",
    "x, y, z = np.round((vertex))[0], np.round((vertex))[1], np.round((vertex))[2]\n",
    "slice_df = (df[(df.x == x)&(df.y==y)&(df.z==z)])\n",
    "v_idx = np.where((df.x == x)&(df.y==y)&(df.z==z))\n",
    "v_idx = v_idx[0][0]\n",
    "print(v_idx)\n",
    "slice_df.head()"
   ]
  },
  {
   "cell_type": "markdown",
   "metadata": {},
   "source": [
    "**On another napari window, plot again the entire neuron/skeleton.**"
   ]
  },
  {
   "cell_type": "code",
   "execution_count": null,
   "metadata": {},
   "outputs": [],
   "source": [
    "viewer = napari.Viewer(ndisplay=3)\n",
    "viewer.add_points(data=np.concatenate(paths, axis=0)[1024:], edge_width=2, edge_color='white', name='all_points')\n",
    "viewer.add_shapes(data=paths, shape_type='path', edge_color='white', edge_width=3, name='skeleton')"
   ]
  },
  {
   "cell_type": "markdown",
   "metadata": {},
   "source": [
    "**Get the coordinates of the neighobrs around vertex of interest using get_bfs_subgraph() and graphs_to_paths**"
   ]
  },
  {
   "cell_type": "code",
   "execution_count": null,
   "metadata": {},
   "outputs": [],
   "source": [
    "v_id_pos = v_idx  # the row index/number of the data frame\n",
    "depth = 10  # the depth up to which the graph must be constructed\n",
    "\n",
    "G_bfs=get_bfs_subgraph(G, v_id_pos, depth, df=df)  # perform Breadth first search to obtain a graph of interest\n",
    "paths_bfs = graph_to_paths(G=G_bfs[0])  # obtain all the paths for visualization purposes"
   ]
  },
  {
   "cell_type": "markdown",
   "metadata": {},
   "source": [
    "**Plot the vertex and vertex neighborhood**"
   ]
  },
  {
   "cell_type": "code",
   "execution_count": null,
   "metadata": {},
   "outputs": [],
   "source": [
    "x,y,z = df.iloc[v_id_pos]['x'], df.iloc[v_id_pos]['y'], df.iloc[v_id_pos]['z']\n",
    "\n",
    "# display vertex\n",
    "viewer = napari.Viewer(ndisplay=3)\n",
    "\n",
    "viewer.add_points(data=np.array([x,y,z]), edge_width=5, edge_color='orange', name='bfs_vertex')\n",
    "\n",
    "# display all neighbors around vertex\n",
    "viewer.add_points(data=np.concatenate(paths_bfs), edge_color='red', edge_width=2, name='bfs_points')\n",
    "viewer.add_shapes(data=paths_bfs, shape_type='path', edge_color='red', edge_width=3, name='bfs_sub_skeleton')"
   ]
  },
  {
   "cell_type": "markdown",
   "metadata": {},
   "source": [
    "## Visualizing the output of both methods overlaid"
   ]
  },
  {
   "cell_type": "markdown",
   "metadata": {},
   "source": [
    "**Create new napari window**"
   ]
  },
  {
   "cell_type": "code",
   "execution_count": null,
   "metadata": {},
   "outputs": [],
   "source": [
    "viewer = napari.Viewer(ndisplay=3)\n",
    "viewer.add_points(data=np.concatenate(paths, axis=0)[1024:], edge_width=2, edge_color='white', name='all_points')\n",
    "viewer.add_shapes(data=paths, shape_type='path', edge_color='white', edge_width=3, name='full_skeleton')"
   ]
  },
  {
   "cell_type": "markdown",
   "metadata": {},
   "source": [
    "**Plot vertices and neighborhoods of each method on the same napari window to compare method outputs**"
   ]
  },
  {
   "cell_type": "code",
   "execution_count": null,
   "metadata": {},
   "outputs": [],
   "source": [
    "# display vertex of the boundary method\n",
    "viewer.add_points(data=np.array(vertex), edge_width=5, edge_color='green', name='boundary_vertex')\n",
    "\n",
    "# display all neighbors around vertex of boundary method\n",
    "viewer.add_points(data=np.concatenate(paths_sub), edge_width=2, edge_color='blue', name='boundary_skeleton_pts')\n",
    "viewer.add_shapes(data=paths_sub, shape_type='path', edge_color='blue', name='boundary_skeleton_lines',edge_width=5)\n",
    "\n",
    "# display vertex of the bfs method\n",
    "x,y,z = df.iloc[v_id_pos]['x'], df.iloc[v_id_pos]['y'], df.iloc[v_id_pos]['z']\n",
    "viewer.add_points(data=np.array([x,y,z]), edge_width=5, edge_color='orange', name='bfs_vertex')\n",
    "\n",
    "# display all neighbors around vertex of bfs method\n",
    "viewer.add_points(data=np.concatenate(paths_bfs), edge_color='red', edge_width=2, name='bfs_skeleton_pts')\n",
    "viewer.add_shapes(data=paths_bfs, shape_type='path', edge_color='red', edge_width=3, name='bfs_skeleton_lines')"
   ]
  },
  {
   "cell_type": "code",
   "execution_count": null,
   "metadata": {},
   "outputs": [],
   "source": []
  }
 ],
 "metadata": {
  "kernelspec": {
   "display_name": "Python 3",
   "language": "python",
   "name": "python3"
  },
  "language_info": {
   "codemirror_mode": {
    "name": "ipython",
    "version": 3
   },
   "file_extension": ".py",
   "mimetype": "text/x-python",
   "name": "python",
   "nbconvert_exporter": "python",
   "pygments_lexer": "ipython3",
   "version": "3.7.4"
  }
 },
 "nbformat": 4,
 "nbformat_minor": 4
}

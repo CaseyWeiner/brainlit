{
 "cells": [
  {
   "cell_type": "markdown",
   "metadata": {},
   "source": [
    "# Visualization of Neighborhoods Tutorial"
   ]
  },
  {
   "cell_type": "markdown",
   "metadata": {},
   "source": [
    "**Objective**: \n",
    "This tutorial covers how to perform visualize neighborhoods based on two approaches.  \n",
    "    \n",
    "    1) Grabbing a bounding box region a vertex\n",
    "    2) Grabbing n neighbors around a vertex"
   ]
  },
  {
   "cell_type": "code",
   "execution_count": 29,
   "metadata": {},
   "outputs": [],
   "source": [
    "import napari\n",
    "%gui qt5"
   ]
  },
  {
   "cell_type": "code",
   "execution_count": 30,
   "metadata": {},
   "outputs": [],
   "source": [
    "from brainlit.utils.Neuron_trace import NeuronTrace\n",
    "#from brainlit.utils import session\n",
    "from brainlit.utils.session import NeuroglancerSession\n",
    "import numpy as np\n",
    "from cloudvolume import CloudVolume"
   ]
  },
  {
   "cell_type": "code",
   "execution_count": null,
   "metadata": {},
   "outputs": [],
   "source": []
  },
  {
   "cell_type": "markdown",
   "metadata": {},
   "source": [
    "**Reading data from s3 path**"
   ]
  },
  {
   "cell_type": "code",
   "execution_count": 31,
   "metadata": {},
   "outputs": [
    {
     "name": "stderr",
     "output_type": "stream",
     "text": [
      "Downloading: 100%|██████████| 1/1 [00:00<00:00, 26.95it/s]\n",
      "Downloading: 100%|██████████| 1/1 [00:00<00:00, 37.01it/s]\n"
     ]
    },
    {
     "data": {
      "text/html": [
       "<div>\n",
       "<style scoped>\n",
       "    .dataframe tbody tr th:only-of-type {\n",
       "        vertical-align: middle;\n",
       "    }\n",
       "\n",
       "    .dataframe tbody tr th {\n",
       "        vertical-align: top;\n",
       "    }\n",
       "\n",
       "    .dataframe thead th {\n",
       "        text-align: right;\n",
       "    }\n",
       "</style>\n",
       "<table border=\"1\" class=\"dataframe\">\n",
       "  <thead>\n",
       "    <tr style=\"text-align: right;\">\n",
       "      <th></th>\n",
       "      <th>sample</th>\n",
       "      <th>structure</th>\n",
       "      <th>x</th>\n",
       "      <th>y</th>\n",
       "      <th>z</th>\n",
       "      <th>r</th>\n",
       "      <th>parent</th>\n",
       "    </tr>\n",
       "  </thead>\n",
       "  <tbody>\n",
       "    <tr>\n",
       "      <th>0</th>\n",
       "      <td>1</td>\n",
       "      <td>0</td>\n",
       "      <td>4717.0</td>\n",
       "      <td>4464.0</td>\n",
       "      <td>3855.0</td>\n",
       "      <td>1.0</td>\n",
       "      <td>-1</td>\n",
       "    </tr>\n",
       "    <tr>\n",
       "      <th>1</th>\n",
       "      <td>4</td>\n",
       "      <td>192</td>\n",
       "      <td>4725.0</td>\n",
       "      <td>4439.0</td>\n",
       "      <td>3848.0</td>\n",
       "      <td>1.0</td>\n",
       "      <td>1</td>\n",
       "    </tr>\n",
       "    <tr>\n",
       "      <th>2</th>\n",
       "      <td>7</td>\n",
       "      <td>64</td>\n",
       "      <td>4727.0</td>\n",
       "      <td>4440.0</td>\n",
       "      <td>3849.0</td>\n",
       "      <td>1.0</td>\n",
       "      <td>4</td>\n",
       "    </tr>\n",
       "    <tr>\n",
       "      <th>3</th>\n",
       "      <td>8</td>\n",
       "      <td>0</td>\n",
       "      <td>4732.0</td>\n",
       "      <td>4442.0</td>\n",
       "      <td>3850.0</td>\n",
       "      <td>1.0</td>\n",
       "      <td>7</td>\n",
       "    </tr>\n",
       "    <tr>\n",
       "      <th>4</th>\n",
       "      <td>14</td>\n",
       "      <td>0</td>\n",
       "      <td>4749.0</td>\n",
       "      <td>4439.0</td>\n",
       "      <td>3856.0</td>\n",
       "      <td>1.0</td>\n",
       "      <td>8</td>\n",
       "    </tr>\n",
       "  </tbody>\n",
       "</table>\n",
       "</div>"
      ],
      "text/plain": [
       "   sample  structure       x       y       z    r  parent\n",
       "0       1          0  4717.0  4464.0  3855.0  1.0      -1\n",
       "1       4        192  4725.0  4439.0  3848.0  1.0       1\n",
       "2       7         64  4727.0  4440.0  3849.0  1.0       4\n",
       "3       8          0  4732.0  4442.0  3850.0  1.0       7\n",
       "4      14          0  4749.0  4439.0  3856.0  1.0       8"
      ]
     },
     "execution_count": 31,
     "metadata": {},
     "output_type": "execute_result"
    }
   ],
   "source": [
    "s3_path = \"s3://open-neurodata/brainlit/brain1_segments\"\n",
    "seg_id,  v_id, mip = 2, 10, 1 # skeleton/neuron id, index/row of df, resolution quality\n",
    "\n",
    "s3_trace = NeuronTrace(path=s3_path,seg_id=seg_id,mip=mip)\n",
    "df = s3_trace.get_df()\n",
    "df.head()"
   ]
  },
  {
   "cell_type": "markdown",
   "metadata": {},
   "source": [
    "**Converting dataframe to graph data structure to understand how vertices are connected**"
   ]
  },
  {
   "cell_type": "code",
   "execution_count": 32,
   "metadata": {
    "tags": []
   },
   "outputs": [
    {
     "name": "stdout",
     "output_type": "stream",
     "text": [
      "The graph was decomposed into 179 paths\n"
     ]
    }
   ],
   "source": [
    "G = s3_trace.get_graph()\n",
    "paths = s3_trace.get_paths()\n",
    "print(f\"The graph was decomposed into {len(paths)} paths\")"
   ]
  },
  {
   "cell_type": "markdown",
   "metadata": {},
   "source": [
    "**Plotting the entire skeleton/neuron**"
   ]
  },
  {
   "cell_type": "code",
   "execution_count": 33,
   "metadata": {},
   "outputs": [
    {
     "data": {
      "text/plain": [
       "<Shapes layer 'Skeleton 2 [1]' at 0x7fbe2d5bba00>"
      ]
     },
     "execution_count": 33,
     "metadata": {},
     "output_type": "execute_result"
    }
   ],
   "source": [
    "viewer = napari.Viewer(ndisplay=3)\n",
    "# it is important that the number of paths put into 'data=' is at the most 1024\n",
    "viewer.add_points(data=np.concatenate(paths)[804:], edge_width=2, edge_color='white', name='Skeleton 2')\n",
    "viewer.add_shapes(data=paths, shape_type='path', edge_color='white', name='Skeleton 2')"
   ]
  },
  {
   "cell_type": "markdown",
   "metadata": {},
   "source": [
    "\n",
    "## Bounding Box Method"
   ]
  },
  {
   "cell_type": "markdown",
   "metadata": {},
   "source": [
    "**Creating a bounding box based on a particular vertex of interest in order to get a group of neurons neighboring the vertex of interest**"
   ]
  },
  {
   "cell_type": "code",
   "execution_count": 35,
   "metadata": {
    "tags": []
   },
   "outputs": [
    {
     "name": "stderr",
     "output_type": "stream",
     "text": [
      "Downloading: 100%|██████████| 1/1 [00:00<00:00, 36.65it/s]\n",
      "Downloading: 50it [00:01, 31.66it/s]                        "
     ]
    },
    {
     "name": "stdout",
     "output_type": "stream",
     "text": [
      "([7392, 2300, 3120], [7788, 2600, 3276])\n"
     ]
    },
    {
     "name": "stderr",
     "output_type": "stream",
     "text": [
      "\n"
     ]
    }
   ],
   "source": [
    "url = \"s3://open-neurodata/brainlit/brain1\"\n",
    "mip = 1\n",
    "ngl = NeuroglancerSession(url, mip=mip)\n",
    "\n",
    "img, bbbox, vox = ngl.pull_chunk(2, 300, 1)\n",
    "bbox = bbbox.to_list()\n",
    "box = (bbox[:3], bbox[3:])\n",
    "print(box)"
   ]
  },
  {
   "cell_type": "markdown",
   "metadata": {},
   "source": [
    "**Getting all the coordinates of the group surrounding the vertex of interest using get_sub_neuron()**  \n",
    "Note: data correction step necessary due to recentering in function!"
   ]
  },
  {
   "cell_type": "code",
   "execution_count": 36,
   "metadata": {},
   "outputs": [],
   "source": [
    "G_sub = s3_trace.get_sub_neuron(box)\n",
    "\n",
    "# preventing the re-centring of nodes to the bounding box corner (origin of the new coordinate frame)\n",
    "for id in list(G_sub.nodes):\n",
    "    G_sub.nodes[id][\"x\"] = G_sub.nodes[id][\"x\"] + box[0][0]\n",
    "    G_sub.nodes[id][\"y\"] = G_sub.nodes[id][\"y\"] + box[0][1]\n",
    "    G_sub.nodes[id][\"z\"] = G_sub.nodes[id][\"z\"] + box[0][2]\n",
    "    \n",
    "paths_sub = s3_trace.get_sub_neuron_paths(box)"
   ]
  },
  {
   "cell_type": "markdown",
   "metadata": {},
   "source": [
    "**Plotting vertex and vertex neighborhood**"
   ]
  },
  {
   "cell_type": "code",
   "execution_count": 37,
   "metadata": {
    "tags": []
   },
   "outputs": [
    {
     "name": "stderr",
     "output_type": "stream",
     "text": [
      "Downloading: 100%|██████████| 1/1 [00:00<00:00, 35.50it/s]\n"
     ]
    },
    {
     "name": "stdout",
     "output_type": "stream",
     "text": [
      "[6263.70139759 6573.55819874 2210.2198857 ]\n"
     ]
    },
    {
     "data": {
      "text/plain": [
       "<Points layer 'vertex' at 0x7fbe2eca0070>"
      ]
     },
     "execution_count": 37,
     "metadata": {},
     "output_type": "execute_result"
    }
   ],
   "source": [
    "# grab the coordinates of the vertex from the skeleon \n",
    "cv_skel = CloudVolume(s3_path, mip=mip)\n",
    "skel = cv_skel.skeleton.get(seg_id)\n",
    "vertex = skel.vertices[v_id]/cv_skel.scales[mip][\"resolution\"]\n",
    "print(vertex)\n",
    "\n",
    "viewer = napari.Viewer(ndisplay=3)\n",
    "viewer.add_image(np.squeeze(np.array(img)))\n",
    "viewer.add_points(data=np.concatenate(paths_sub), edge_width=2, edge_color='blue', name='Skeleton 2')\n",
    "viewer.add_shapes(data=paths_sub, shape_type='path', edge_color='blue', name='Neighborhood',edge_width=5)\n",
    "\n",
    "# display vertex\n",
    "viewer.add_points(data=np.array(vertex), edge_width=5, edge_color='green', name='vertex')"
   ]
  },
  {
   "cell_type": "markdown",
   "metadata": {},
   "source": [
    "## Neighbors Method"
   ]
  },
  {
   "cell_type": "code",
   "execution_count": 38,
   "metadata": {
    "tags": []
   },
   "outputs": [
    {
     "name": "stderr",
     "output_type": "stream",
     "text": [
      "Downloading: 100%|██████████| 1/1 [00:00<00:00, 38.36it/s]"
     ]
    },
    {
     "name": "stdout",
     "output_type": "stream",
     "text": [
      "[6263.70139759 6573.55819874 2210.2198857 ]\n",
      "469\n"
     ]
    },
    {
     "name": "stderr",
     "output_type": "stream",
     "text": [
      "\n"
     ]
    },
    {
     "data": {
      "text/html": [
       "<div>\n",
       "<style scoped>\n",
       "    .dataframe tbody tr th:only-of-type {\n",
       "        vertical-align: middle;\n",
       "    }\n",
       "\n",
       "    .dataframe tbody tr th {\n",
       "        vertical-align: top;\n",
       "    }\n",
       "\n",
       "    .dataframe thead th {\n",
       "        text-align: right;\n",
       "    }\n",
       "</style>\n",
       "<table border=\"1\" class=\"dataframe\">\n",
       "  <thead>\n",
       "    <tr style=\"text-align: right;\">\n",
       "      <th></th>\n",
       "      <th>sample</th>\n",
       "      <th>structure</th>\n",
       "      <th>x</th>\n",
       "      <th>y</th>\n",
       "      <th>z</th>\n",
       "      <th>r</th>\n",
       "      <th>parent</th>\n",
       "    </tr>\n",
       "  </thead>\n",
       "  <tbody>\n",
       "    <tr>\n",
       "      <th>469</th>\n",
       "      <td>434</td>\n",
       "      <td>0</td>\n",
       "      <td>6264.0</td>\n",
       "      <td>6574.0</td>\n",
       "      <td>2210.0</td>\n",
       "      <td>1.0</td>\n",
       "      <td>431</td>\n",
       "    </tr>\n",
       "  </tbody>\n",
       "</table>\n",
       "</div>"
      ],
      "text/plain": [
       "     sample  structure       x       y       z    r  parent\n",
       "469     434          0  6264.0  6574.0  2210.0  1.0     431"
      ]
     },
     "execution_count": 38,
     "metadata": {},
     "output_type": "execute_result"
    }
   ],
   "source": [
    "# grab the coordinates of the vertex from the skeleon \n",
    "cv_skel = CloudVolume(s3_path, mip=mip)\n",
    "skel = cv_skel.skeleton.get(seg_id)\n",
    "vertex = skel.vertices[v_id]/cv_skel.scales[mip][\"resolution\"]\n",
    "print(vertex)\n",
    "\n",
    "# figure out where the vertex information is stored in the dataframe \n",
    "x, y, z = np.round((vertex))[0], np.round((vertex))[1], np.round((vertex))[2]\n",
    "slice_df = (df[(df.x == x)&(df.y==y)&(df.z==z)])\n",
    "v_idx = np.where((df.x == x)&(df.y==y)&(df.z==z))\n",
    "v_idx = v_idx[0][0]\n",
    "print(v_idx)\n",
    "slice_df.head()"
   ]
  },
  {
   "cell_type": "markdown",
   "metadata": {},
   "source": [
    "**On another napari window, plot again the entire neuron/skeleton.**"
   ]
  },
  {
   "cell_type": "code",
   "execution_count": 39,
   "metadata": {},
   "outputs": [
    {
     "data": {
      "text/plain": [
       "<Shapes layer 'skeleton' at 0x7fbe2600a9d0>"
      ]
     },
     "execution_count": 39,
     "metadata": {},
     "output_type": "execute_result"
    }
   ],
   "source": [
    "viewer = napari.Viewer(ndisplay=3)\n",
    "viewer.add_points(data=np.concatenate(paths, axis=0)[1024:], edge_width=2, edge_color='white', name='all_points')\n",
    "viewer.add_shapes(data=paths, shape_type='path', edge_color='white', edge_width=3, name='skeleton')"
   ]
  },
  {
   "cell_type": "markdown",
   "metadata": {},
   "source": [
    "**Get the coordinates of the neighobrs around vertex of interest using get_bfs_subgraph() and graphs_to_paths**"
   ]
  },
  {
   "cell_type": "code",
   "execution_count": 40,
   "metadata": {},
   "outputs": [],
   "source": [
    "v_id_pos = v_idx  # the row index/number of the data frame\n",
    "depth = 10  # the depth up to which the graph must be constructed\n",
    "\n",
    "G_bfs, _, paths_bfs =s3_trace.get_bfs_subgraph(int(v_id_pos), depth, df=df)  # perform Breadth first search to obtain a graph of interest"
   ]
  },
  {
   "cell_type": "markdown",
   "metadata": {},
   "source": [
    "**Plot the vertex and vertex neighborhood**"
   ]
  },
  {
   "cell_type": "code",
   "execution_count": 41,
   "metadata": {},
   "outputs": [
    {
     "data": {
      "text/plain": [
       "<Shapes layer 'bfs_sub_skeleton' at 0x7fbe1ecac280>"
      ]
     },
     "execution_count": 41,
     "metadata": {},
     "output_type": "execute_result"
    }
   ],
   "source": [
    "x,y,z = df.iloc[v_id_pos]['x'], df.iloc[v_id_pos]['y'], df.iloc[v_id_pos]['z']\n",
    "\n",
    "# display vertex\n",
    "viewer = napari.Viewer(ndisplay=3)\n",
    "\n",
    "viewer.add_points(data=np.array([x,y,z]), edge_width=5, edge_color='orange', name='bfs_vertex')\n",
    "\n",
    "# display all neighbors around vertex\n",
    "viewer.add_points(data=np.concatenate(paths_bfs), edge_color='red', edge_width=2, name='bfs_points')\n",
    "viewer.add_shapes(data=paths_bfs, shape_type='path', edge_color='red', edge_width=3, name='bfs_sub_skeleton')"
   ]
  },
  {
   "cell_type": "markdown",
   "metadata": {},
   "source": [
    "## Visualizing the output of both methods overlaid"
   ]
  },
  {
   "cell_type": "markdown",
   "metadata": {},
   "source": [
    "**Create new napari window**"
   ]
  },
  {
   "cell_type": "code",
   "execution_count": 42,
   "metadata": {},
   "outputs": [
    {
     "data": {
      "text/plain": [
       "<Shapes layer 'full_skeleton' at 0x7fbe1f3127c0>"
      ]
     },
     "execution_count": 42,
     "metadata": {},
     "output_type": "execute_result"
    }
   ],
   "source": [
    "viewer = napari.Viewer(ndisplay=3)\n",
    "viewer.add_points(data=np.concatenate(paths, axis=0)[1024:], edge_width=2, edge_color='white', name='all_points')\n",
    "viewer.add_shapes(data=paths, shape_type='path', edge_color='white', edge_width=3, name='full_skeleton')"
   ]
  },
  {
   "cell_type": "markdown",
   "metadata": {},
   "source": [
    "**Plot vertices and neighborhoods of each method on the same napari window to compare method outputs**"
   ]
  },
  {
   "cell_type": "code",
   "execution_count": 43,
   "metadata": {},
   "outputs": [
    {
     "data": {
      "text/plain": [
       "<Shapes layer 'bfs_skeleton_lines' at 0x7fbe22e05610>"
      ]
     },
     "execution_count": 43,
     "metadata": {},
     "output_type": "execute_result"
    }
   ],
   "source": [
    "# display vertex of the boundary method\n",
    "viewer.add_points(data=np.array(vertex), edge_width=5, edge_color='green', name='boundary_vertex')\n",
    "\n",
    "# display all neighbors around vertex of boundary method\n",
    "viewer.add_points(data=np.concatenate(paths_sub), edge_width=2, edge_color='blue', name='boundary_skeleton_pts')\n",
    "viewer.add_shapes(data=paths_sub, shape_type='path', edge_color='blue', name='boundary_skeleton_lines',edge_width=5)\n",
    "\n",
    "# display vertex of the bfs method\n",
    "x,y,z = df.iloc[v_id_pos]['x'], df.iloc[v_id_pos]['y'], df.iloc[v_id_pos]['z']\n",
    "viewer.add_points(data=np.array([x,y,z]), edge_width=5, edge_color='orange', name='bfs_vertex')\n",
    "\n",
    "# display all neighbors around vertex of bfs method\n",
    "viewer.add_points(data=np.concatenate(paths_bfs), edge_color='red', edge_width=2, name='bfs_skeleton_pts')\n",
    "viewer.add_shapes(data=paths_bfs, shape_type='path', edge_color='red', edge_width=3, name='bfs_skeleton_lines')"
   ]
  },
  {
   "cell_type": "code",
   "execution_count": null,
   "metadata": {},
   "outputs": [],
   "source": []
  }
 ],
 "metadata": {
  "kernelspec": {
   "display_name": "Python 3",
   "language": "python",
   "name": "python3"
  },
  "language_info": {
   "codemirror_mode": {
    "name": "ipython",
    "version": 3
   },
   "file_extension": ".py",
   "mimetype": "text/x-python",
   "name": "python",
   "nbconvert_exporter": "python",
   "pygments_lexer": "ipython3",
   "version": "3.8.5"
  }
 },
 "nbformat": 4,
 "nbformat_minor": 4
}

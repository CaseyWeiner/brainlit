{
 "cells": [
  {
   "cell_type": "markdown",
   "metadata": {},
   "source": [
    "# Upload benchmarking data from S3 with Neuroglancer\n"
   ]
  },
  {
   "cell_type": "code",
   "execution_count": 1,
   "metadata": {},
   "outputs": [
    {
     "name": "stderr",
     "output_type": "stream",
     "text": [
      "c:\\users\\shrey\\anaconda3\\envs\\ndd-windows\\lib\\site-packages\\python_jsonschema_objects\\__init__.py:53: UserWarning: Schema version http://json-schema.org/draft-04/schema not recognized. Some keywords and features may not be supported.\n",
      "  self.schema[\"$schema\"]\n"
     ]
    }
   ],
   "source": [
    "from brainlit.utils import upload\n",
    "from pathlib import Path\n",
    "from cloudvolume import Skeleton"
   ]
  },
  {
   "cell_type": "markdown",
   "metadata": {},
   "source": [
    "### Uploading Benchmarking Images from local data locations .\n",
    "This notebook demonstrates uploading the benchmarking data and associated `.swc` segment files.\n",
    "The upload destination could easily be set to a url of a cloud data server such as s3.\n",
    "\n",
    "## 1) Define variables.\n",
    " - `source` is the root directory of the octree-formatted data and swc files.\n",
    "     - octree formatting means the .tif file is in the root directory and .swc files are in a subfolder called \"consensus-swcs\"\n",
    " - `p` is the prefix string. `file://` indicates a filepath, while `s3://` or `gc://` indicate URLs.\n",
    " - `dest` and `dest_segments` are the destinations for the uploads (in this case, filepaths).\n",
    " - `num_res` denotes the number of resolutions to upload. If uploading .tif files that aren't very large or where only one resolution is necessary, set `num_res` to 1. \n",
    " \n",
    "The below paths lead to sample data in my local drive. Alter the below path definitions to point to your own local file locations."
   ]
  },
  {
   "cell_type": "code",
   "execution_count": 2,
   "metadata": {},
   "outputs": [],
   "source": [
    "source = (Path().resolve().parents[5] / \"Downloads\" / \"validation_21\").as_posix()\n",
    "dest = \"s3://open-neurodata/brainlit/benchmarking_data/validation_21\"\n",
    "dest_segments = \"s3://open-neurodata/brainlit/benchmarking_data/validation_21\"\n",
    "num_res = 1"
   ]
  },
  {
   "cell_type": "markdown",
   "metadata": {},
   "source": [
    "## 2) Upload the segmentation data (.swc)"
   ]
  },
  {
   "cell_type": "markdown",
   "metadata": {},
   "source": [
    "#### prints out CV skeleton object from _swc2skeleton in neuron_trace.py"
   ]
  },
  {
   "cell_type": "code",
   "execution_count": 3,
   "metadata": {
    "scrolled": true
   },
   "outputs": [
    {
     "data": {
      "application/vnd.jupyter.widget-view+json": {
       "model_id": "bd41de794ff04f47962e2d18b8c79bbf",
       "version_major": 2,
       "version_minor": 0
      },
      "text/plain": [
       "HBox(children=(FloatProgress(value=0.0, description='converting swcs to neuroglancer format...', max=6.0, styl…"
      ]
     },
     "metadata": {},
     "output_type": "display_data"
    },
    {
     "name": "stderr",
     "output_type": "stream",
     "text": [
      "Uploading: 100%|██████████████████████████████████████| 1/1 [00:00<00:00, 14.12it/s]\n",
      "Uploading: 100%|██████████████████████████████████████| 1/1 [00:00<00:00, 14.12it/s]\n",
      "Uploading:   0%|                                              | 0/1 [00:00<?, ?it/s]"
     ]
    },
    {
     "name": "stdout",
     "output_type": "stream",
     "text": [
      "\n"
     ]
    },
    {
     "name": "stderr",
     "output_type": "stream",
     "text": [
      "Uploading: 100%|██████████████████████████████████████| 1/1 [00:00<00:00, 14.97it/s]\n",
      "Uploading: 100%|██████████████████████████████████████| 1/1 [00:00<00:00, 14.53it/s]\n",
      "Uploading: 100%|██████████████████████████████████████| 1/1 [00:00<00:00,  8.72it/s]\n",
      "Uploading: 100%|██████████████████████████████████████| 1/1 [00:00<00:00, 12.23it/s]\n"
     ]
    }
   ],
   "source": [
    "upload.upload_segments(source, dest_segments, num_res, benchmarking = True)"
   ]
  },
  {
   "cell_type": "markdown",
   "metadata": {},
   "source": [
    "## 3) Upload the image data (.tif)"
   ]
  },
  {
   "cell_type": "code",
   "execution_count": 4,
   "metadata": {},
   "outputs": [
    {
     "data": {
      "application/vnd.jupyter.widget-view+json": {
       "model_id": "bcadecf797ff4dbdaf790fa747629132",
       "version_major": 2,
       "version_minor": 0
      },
      "text/plain": [
       "HBox(children=(FloatProgress(value=0.0, description='Creating precomputed volume at layer index 0', max=1.0, s…"
      ]
     },
     "metadata": {},
     "output_type": "display_data"
    },
    {
     "name": "stdout",
     "output_type": "stream",
     "text": [
      "\n",
      "\n",
      "Finished layer index 0, took 36.871875047683716 seconds\n"
     ]
    }
   ],
   "source": [
    "upload.upload_volumes(source, dest, num_res, benchmarking = True)"
   ]
  },
  {
   "cell_type": "markdown",
   "metadata": {},
   "source": [
    "## Appendix\n",
    "##### Code for uploading all benchmarking data at once\n",
    "\n",
    "- If when downloading, you get a reshape error, try uploading the segments before uploading the volumes"
   ]
  },
  {
   "cell_type": "code",
   "execution_count": 5,
   "metadata": {},
   "outputs": [],
   "source": [
    "test_list = []\n",
    "validation_list = []\n",
    "for i in range(25):\n",
    "    test_list.append('test_' + str(i+1))\n",
    "    validation_list.append('validation_' + str(i+1))"
   ]
  },
  {
   "cell_type": "code",
   "execution_count": 6,
   "metadata": {},
   "outputs": [
    {
     "name": "stdout",
     "output_type": "stream",
     "text": [
      "test_1\n"
     ]
    },
    {
     "ename": "IndexError",
     "evalue": "list index out of range",
     "output_type": "error",
     "traceback": [
      "\u001b[1;31m---------------------------------------------------------------------------\u001b[0m",
      "\u001b[1;31mIndexError\u001b[0m                                Traceback (most recent call last)",
      "\u001b[1;32m<ipython-input-6-503aad61967a>\u001b[0m in \u001b[0;36m<module>\u001b[1;34m\u001b[0m\n\u001b[0;32m      6\u001b[0m     \u001b[0mdest\u001b[0m \u001b[1;33m=\u001b[0m \u001b[1;34m\"s3://open-neurodata/brainlit/benchmarking_data/\"\u001b[0m \u001b[1;33m+\u001b[0m \u001b[0mtest\u001b[0m\u001b[1;33m\u001b[0m\u001b[1;33m\u001b[0m\u001b[0m\n\u001b[0;32m      7\u001b[0m     \u001b[0mdest_segments\u001b[0m \u001b[1;33m=\u001b[0m \u001b[1;34m\"s3://open-neurodata/brainlit/benchmarking_data/\"\u001b[0m \u001b[1;33m+\u001b[0m \u001b[0mtest\u001b[0m\u001b[1;33m\u001b[0m\u001b[1;33m\u001b[0m\u001b[0m\n\u001b[1;32m----> 8\u001b[1;33m     \u001b[0mupload\u001b[0m\u001b[1;33m.\u001b[0m\u001b[0mupload_segments\u001b[0m\u001b[1;33m(\u001b[0m\u001b[0msource\u001b[0m\u001b[1;33m,\u001b[0m \u001b[0mdest_segments\u001b[0m\u001b[1;33m,\u001b[0m \u001b[0mnum_res\u001b[0m\u001b[1;33m,\u001b[0m \u001b[0mbenchmarking\u001b[0m \u001b[1;33m=\u001b[0m \u001b[1;32mTrue\u001b[0m\u001b[1;33m)\u001b[0m\u001b[1;33m\u001b[0m\u001b[1;33m\u001b[0m\u001b[0m\n\u001b[0m\u001b[0;32m      9\u001b[0m     \u001b[0mupload\u001b[0m\u001b[1;33m.\u001b[0m\u001b[0mupload_volumes\u001b[0m\u001b[1;33m(\u001b[0m\u001b[0msource\u001b[0m\u001b[1;33m,\u001b[0m \u001b[0mdest\u001b[0m\u001b[1;33m,\u001b[0m \u001b[0mnum_res\u001b[0m\u001b[1;33m,\u001b[0m \u001b[0mbenchmarking\u001b[0m \u001b[1;33m=\u001b[0m \u001b[1;32mTrue\u001b[0m\u001b[1;33m)\u001b[0m\u001b[1;33m\u001b[0m\u001b[1;33m\u001b[0m\u001b[0m\n\u001b[0;32m     10\u001b[0m \u001b[1;33m\u001b[0m\u001b[0m\n",
      "\u001b[1;32mc:\\users\\shrey\\documents\\ndd\\brainlit\\brainlit\\utils\\upload.py\u001b[0m in \u001b[0;36mupload_segments\u001b[1;34m(input_path, precomputed_path, num_mips, benchmarking)\u001b[0m\n\u001b[0;32m    487\u001b[0m             \u001b[0minput_path\u001b[0m\u001b[1;33m,\u001b[0m\u001b[1;33m\u001b[0m\u001b[1;33m\u001b[0m\u001b[0m\n\u001b[0;32m    488\u001b[0m             \u001b[0mnum_mips\u001b[0m\u001b[1;33m,\u001b[0m\u001b[1;33m\u001b[0m\u001b[1;33m\u001b[0m\u001b[0m\n\u001b[1;32m--> 489\u001b[1;33m             \u001b[0mbenchmarking\u001b[0m\u001b[1;33m=\u001b[0m\u001b[1;32mTrue\u001b[0m\u001b[1;33m,\u001b[0m\u001b[1;33m\u001b[0m\u001b[1;33m\u001b[0m\u001b[0m\n\u001b[0m\u001b[0;32m    490\u001b[0m         )\n\u001b[0;32m    491\u001b[0m         \u001b[0mchunk_size\u001b[0m \u001b[1;33m=\u001b[0m \u001b[1;33m[\u001b[0m\u001b[0mint\u001b[0m\u001b[1;33m(\u001b[0m\u001b[0mi\u001b[0m\u001b[1;33m)\u001b[0m \u001b[1;32mfor\u001b[0m \u001b[0mi\u001b[0m \u001b[1;32min\u001b[0m \u001b[0mimg_size\u001b[0m\u001b[1;33m]\u001b[0m\u001b[1;33m\u001b[0m\u001b[1;33m\u001b[0m\u001b[0m\n",
      "\u001b[1;32mc:\\users\\shrey\\documents\\ndd\\brainlit\\brainlit\\utils\\upload.py\u001b[0m in \u001b[0;36mget_volume_info\u001b[1;34m(image_dir, num_resolutions, channel, extension, benchmarking)\u001b[0m\n\u001b[0;32m     96\u001b[0m \u001b[1;33m\u001b[0m\u001b[0m\n\u001b[0;32m     97\u001b[0m     \u001b[1;32mif\u001b[0m \u001b[0mbenchmarking\u001b[0m \u001b[1;33m==\u001b[0m \u001b[1;32mTrue\u001b[0m\u001b[1;33m:\u001b[0m\u001b[1;33m\u001b[0m\u001b[1;33m\u001b[0m\u001b[0m\n\u001b[1;32m---> 98\u001b[1;33m         \u001b[0mimg_size\u001b[0m \u001b[1;33m=\u001b[0m \u001b[0mnp\u001b[0m\u001b[1;33m.\u001b[0m\u001b[0msqueeze\u001b[0m\u001b[1;33m(\u001b[0m\u001b[0mtf\u001b[0m\u001b[1;33m.\u001b[0m\u001b[0mimread\u001b[0m\u001b[1;33m(\u001b[0m\u001b[0mstr\u001b[0m\u001b[1;33m(\u001b[0m\u001b[0mp\u001b[0m \u001b[1;33m/\u001b[0m \u001b[0mfiles\u001b[0m\u001b[1;33m[\u001b[0m\u001b[1;36m0\u001b[0m\u001b[1;33m]\u001b[0m\u001b[1;33m[\u001b[0m\u001b[0mparent_dirs\u001b[0m\u001b[1;33m]\u001b[0m\u001b[1;33m)\u001b[0m\u001b[1;33m)\u001b[0m\u001b[1;33m)\u001b[0m\u001b[1;33m.\u001b[0m\u001b[0mT\u001b[0m\u001b[1;33m.\u001b[0m\u001b[0mshape\u001b[0m\u001b[1;33m\u001b[0m\u001b[1;33m\u001b[0m\u001b[0m\n\u001b[0m\u001b[0;32m     99\u001b[0m         \u001b[0mvox_size\u001b[0m \u001b[1;33m=\u001b[0m \u001b[0mimg_size\u001b[0m\u001b[1;33m\u001b[0m\u001b[1;33m\u001b[0m\u001b[0m\n\u001b[0;32m    100\u001b[0m \u001b[1;33m\u001b[0m\u001b[0m\n",
      "\u001b[1;31mIndexError\u001b[0m: list index out of range"
     ]
    }
   ],
   "source": [
    "num_res = 1\n",
    "\n",
    "for test in test_list:\n",
    "    print(test)\n",
    "    source = (Path().resolve().parents[5] / \"Downloads\" / test).as_posix()\n",
    "    dest = \"s3://open-neurodata/brainlit/benchmarking_data/\" + test\n",
    "    dest_segments = \"s3://open-neurodata/brainlit/benchmarking_data/\" + test\n",
    "    upload.upload_segments(source, dest_segments, num_res, benchmarking = True)\n",
    "    upload.upload_volumes(source, dest, num_res, benchmarking = True)\n",
    "    \n",
    "for val in validation_list:\n",
    "    print(val)\n",
    "    source = (Path().resolve().parents[5] / \"Downloads\" / val).as_posix()\n",
    "    dest = \"s3://open-neurodata/brainlit/benchmarking_data/\" + val\n",
    "    dest_segments = \"s3://open-neurodata/brainlit/benchmarking_data/\" + val\n",
    "    upload.upload_segments(source, dest_segments, num_res, benchmarking = True)    \n",
    "    upload.upload_volumes(source, dest, num_res, benchmarking = True)"
   ]
  }
 ],
 "metadata": {
  "kernelspec": {
   "display_name": "Python 3",
   "language": "python",
   "name": "python3"
  },
  "language_info": {
   "codemirror_mode": {
    "name": "ipython",
    "version": 3
   },
   "file_extension": ".py",
   "mimetype": "text/x-python",
   "name": "python",
   "nbconvert_exporter": "python",
   "pygments_lexer": "ipython3",
   "version": "3.7.9"
  }
 },
 "nbformat": 4,
 "nbformat_minor": 4
}

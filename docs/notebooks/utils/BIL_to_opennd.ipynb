{
 "cells": [
  {
   "cell_type": "code",
   "execution_count": 1,
   "metadata": {},
   "outputs": [],
   "source": [
    "from cloudvolume import CloudVolume"
   ]
  },
  {
   "cell_type": "code",
   "execution_count": 2,
   "metadata": {},
   "outputs": [],
   "source": [
    "precomputed_path = \"s3://open-neurodata/brainlit/bil1\"\n",
    "img_size = [128,128,128]\n",
    "vox_size = [350, 350, 1000]\n",
    "num_resolutions = 1\n",
    "num_mips = 1\n",
    "chunk_size = [1024, 1024, 1]\n",
    "parallel = False \n",
    "commit_info = True"
   ]
  },
  {
   "cell_type": "code",
   "execution_count": 3,
   "metadata": {},
   "outputs": [],
   "source": [
    "info = CloudVolume.create_new_info(\n",
    "    num_channels    = 1,\n",
    "    layer_type      = 'image',\n",
    "    data_type       = 'uint16', # Channel images might be 'uint8'\n",
    "    encoding        = 'raw', # raw, jpeg, compressed_segmentation, fpzip, kempressed\n",
    "    resolution      = vox_size, # Voxel scaling, units are in nanometers\n",
    "    voxel_offset    = [0, 0, 0], # x,y,z offset in voxels from the origin\n",
    "    # mesh            = 'mesh',\n",
    "    # Pick a convenient size for your underlying chunk representation\n",
    "    # Powers of two are recommended, doesn't need to cover image exactly\n",
    "    chunk_size      = chunk_size, # units are voxels\n",
    "    volume_size     = [32200, 27748, 10578], # e.g. a cubic millimeter dataset\n",
    ")\n",
    "vol = CloudVolume(precomputed_path, info=info)\n",
    "vol.commit_info()"
   ]
  },
  {
   "cell_type": "code",
   "execution_count": 11,
   "metadata": {},
   "outputs": [
    {
     "data": {
      "text/plain": [
       "True"
      ]
     },
     "execution_count": 11,
     "metadata": {},
     "output_type": "execute_result"
    }
   ],
   "source": [
    "from skimage import io \n",
    "filepath = '/Users/thomasathey/Desktop/1.tif'\n",
    "im1 = io.imread(filepath)\n",
    "filepath = '/Users/thomasathey/Desktop/2.tif'\n",
    "im2 = io.imread(filepath)\n",
    "(im1 == im2).all()"
   ]
  },
  {
   "cell_type": "code",
   "execution_count": 12,
   "metadata": {},
   "outputs": [
    {
     "name": "stdout",
     "output_type": "stream",
     "text": [
      "(32200, 27748, 10578, 1)\n",
      "[128 128   1]\n"
     ]
    }
   ],
   "source": [
    "vol = CloudVolume(precomputed_path)\n",
    "print(vol.shape)\n",
    "print(vol.chunk_size)"
   ]
  },
  {
   "cell_type": "code",
   "execution_count": null,
   "metadata": {},
   "outputs": [],
   "source": []
  }
 ],
 "metadata": {
  "interpreter": {
   "hash": "5dc00d68ff54f8375e99934614da4863299fb9e10af4294c095b7f517546ff26"
  },
  "kernelspec": {
   "display_name": "Python 3.8.10 64-bit ('docs_env': venv)",
   "name": "python3"
  },
  "language_info": {
   "codemirror_mode": {
    "name": "ipython",
    "version": 3
   },
   "file_extension": ".py",
   "mimetype": "text/x-python",
   "name": "python",
   "nbconvert_exporter": "python",
   "pygments_lexer": "ipython3",
   "version": "3.8.10"
  },
  "orig_nbformat": 4
 },
 "nbformat": 4,
 "nbformat_minor": 2
}

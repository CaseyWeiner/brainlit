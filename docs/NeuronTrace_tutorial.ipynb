{
 "cells": [
  {
   "cell_type": "code",
   "execution_count": null,
   "metadata": {},
   "outputs": [],
   "source": [
    "import numpy as np\n",
    "from pathlib import Path\n",
    "import re\n",
    "import pandas as pd\n",
    "import networkx as nx\n",
    "from cloudvolume import CloudVolume, Skeleton\n",
    "from io import StringIO\n",
    "import os\n",
    "from brainlit.utils.util import (\n",
    "    check_type,\n",
    "    check_size,\n",
    ")\n",
    "from brainlit.utils.Neuron_trace import NeuronTrace"
   ]
  },
  {
   "cell_type": "markdown",
   "metadata": {},
   "source": [
    "# NeuronTrace Class\n",
    "\n",
    "The NeuronTrace class takes neuron data either stored in .swc format or located in an s3 bucket, and loads it as a dataframe.\n",
    "\n",
    "If the neuron is stored in a .swc file, the swc filepath must be provided, and if the neuron is stored in an s3 bucket, the url, segment ID, and mip (resolution to use for scaling) must be provided."
   ]
  },
  {
   "cell_type": "code",
   "execution_count": null,
   "metadata": {},
   "outputs": [],
   "source": [
    "#swc_path = \"../../../../../tree_2.swc\"\n",
    "swc_path = \"../../../../../../Manual-GT/8-01_test_1-5/8-01_test_1/tree_2.swc\"\n",
    "s3_path = \"s3://open-neurodata/brainlit/brain1_segments\"\n",
    "seg_id = 11\n",
    "mip = 2\n",
    "\n",
    "swc_trace = NeuronTrace(swc_path)\n",
    "s3_trace = NeuronTrace(s3_path,seg_id,mip)"
   ]
  },
  {
   "cell_type": "markdown",
   "metadata": {},
   "source": [
    "## Methods of NeuronTrace Class"
   ]
  },
  {
   "cell_type": "markdown",
   "metadata": {},
   "source": [
    "### 1. get_df_arguments\n",
    "\n",
    "This method returns the arguments of the dataframe - for .swc files these will include offset, color, cc, branch, and for s3 files there should be none\n"
   ]
  },
  {
   "cell_type": "code",
   "execution_count": null,
   "metadata": {},
   "outputs": [],
   "source": [
    "swc_trace.get_df_arguments()"
   ]
  },
  {
   "cell_type": "code",
   "execution_count": null,
   "metadata": {},
   "outputs": [],
   "source": [
    "s3_trace.get_df_arguments()"
   ]
  },
  {
   "cell_type": "markdown",
   "metadata": {},
   "source": [
    "### 2. get_df\n",
    "\n",
    "This method returns the dataframe object for the input neuron"
   ]
  },
  {
   "cell_type": "code",
   "execution_count": null,
   "metadata": {},
   "outputs": [],
   "source": [
    "swc_trace.get_df()"
   ]
  },
  {
   "cell_type": "code",
   "execution_count": null,
   "metadata": {},
   "outputs": [],
   "source": [
    "s3_trace.get_df()"
   ]
  },
  {
   "cell_type": "markdown",
   "metadata": {},
   "source": [
    "### 3. get_skel\n",
    "\n",
    "This method returns the Skeleton object of the dataframe, if the input file is a swc"
   ]
  },
  {
   "cell_type": "code",
   "execution_count": null,
   "metadata": {},
   "outputs": [],
   "source": [
    "swc_trace.get_skel(benchmarking=True)"
   ]
  },
  {
   "cell_type": "code",
   "execution_count": null,
   "metadata": {},
   "outputs": [],
   "source": [
    "s3_trace.get_skel()"
   ]
  },
  {
   "cell_type": "code",
   "execution_count": null,
   "metadata": {},
   "outputs": [],
   "source": [
    "swc_trace.get_skel(benchmarking=True,origin=np.asarray([7,7,7]))"
   ]
  },
  {
   "cell_type": "code",
   "execution_count": null,
   "metadata": {},
   "outputs": [],
   "source": [
    "s3_trace.get_skel(origin=np.asarray([7,7,7]))"
   ]
  },
  {
   "cell_type": "markdown",
   "metadata": {},
   "source": [
    "### 4. get_df_voxel\n",
    "\n",
    "This method provides the dataframe converted from spatial units to voxel, if spacing and an origin is provided. If origin is not specified, it defaults to (0,0,0)"
   ]
  },
  {
   "cell_type": "code",
   "execution_count": null,
   "metadata": {},
   "outputs": [],
   "source": [
    "#swc trace - origin not provided\n",
    "swc_trace.get_df_voxel(spacing=np.asarray([2,2,2]))"
   ]
  },
  {
   "cell_type": "code",
   "execution_count": null,
   "metadata": {},
   "outputs": [],
   "source": [
    "#swc trace - origin provided\n",
    "swc_trace.get_df_voxel(spacing=np.asarray([2,2,2]),origin=np.asarray([500,500,500]))"
   ]
  },
  {
   "cell_type": "code",
   "execution_count": null,
   "metadata": {},
   "outputs": [],
   "source": [
    "#s3 trace - origin not provided\n",
    "s3_trace.get_df_voxel(spacing=np.asarray([2,2,2]))"
   ]
  },
  {
   "cell_type": "code",
   "execution_count": null,
   "metadata": {},
   "outputs": [],
   "source": [
    "#s3 trace - origin provided\n",
    "s3_trace.get_df_voxel(spacing=np.asarray([2,2,2]),origin=np.asarray([500,500,500]))"
   ]
  },
  {
   "cell_type": "markdown",
   "metadata": {},
   "source": [
    "### 5. get_graph\n",
    "\n",
    "This method provides the dataframe in graph format. \n",
    "If spacing and origin is specified, the units will be converted from spatial to voxel units prior to making the graph.\n",
    "If only spacing is specified, origin will be set to (0,0,0)\n"
   ]
  },
  {
   "cell_type": "code",
   "execution_count": null,
   "metadata": {},
   "outputs": [],
   "source": [
    "#swc input\n",
    "swc_trace.get_graph()"
   ]
  },
  {
   "cell_type": "code",
   "execution_count": null,
   "metadata": {},
   "outputs": [],
   "source": [
    "#swc input, only spacing specified, origin defaults to (0,0,0)\n",
    "swc_trace.get_graph(spacing=np.asarray([2,2,2]))"
   ]
  },
  {
   "cell_type": "code",
   "execution_count": null,
   "metadata": {},
   "outputs": [],
   "source": [
    "#swc input, spacing and origin specified\n",
    "swc_trace.get_graph(spacing=np.asarray([2,2,2]),origin=np.asarray([500,500,500]))"
   ]
  },
  {
   "cell_type": "code",
   "execution_count": null,
   "metadata": {},
   "outputs": [],
   "source": [
    "#s3 input\n",
    "s3_trace.get_graph()"
   ]
  },
  {
   "cell_type": "code",
   "execution_count": null,
   "metadata": {},
   "outputs": [],
   "source": [
    "#s3 input, only spacing specified, origin defaults to (0,0,0)\n",
    "s3_trace.get_graph(spacing=np.asarray([2,2,2]))"
   ]
  },
  {
   "cell_type": "code",
   "execution_count": null,
   "metadata": {},
   "outputs": [],
   "source": [
    "#s3 input, spacing and origin specified\n",
    "s3_trace.get_graph(spacing=np.asarray([2,2,2]),origin=np.asarray([500,500,500]))"
   ]
  },
  {
   "cell_type": "markdown",
   "metadata": {},
   "source": [
    "### 6. get_paths\n",
    "\n",
    "This method provides the dataframe as a list of paths. If spacing and origin is specified, the units will be converted from spatial to voxel units prior to making the paths. If only spacing is specified, origin will be set to (0,0,0)"
   ]
  },
  {
   "cell_type": "code",
   "execution_count": null,
   "metadata": {},
   "outputs": [],
   "source": [
    "#swc input - print 10\n",
    "swc_trace.get_paths()[0][1:10]"
   ]
  },
  {
   "cell_type": "code",
   "execution_count": null,
   "metadata": {},
   "outputs": [],
   "source": [
    "#swc input, only spacing specified, origin defaults to (0,0,0)\n",
    "swc_trace.get_paths(spacing=np.asarray([2,2,2]))[0][1:10]"
   ]
  },
  {
   "cell_type": "code",
   "execution_count": null,
   "metadata": {},
   "outputs": [],
   "source": [
    "#swc input, spacing and origin specified\n",
    "swc_trace.get_paths(spacing=np.asarray([2,2,2]),origin=np.asarray([500,500,500]))[0][1:10]"
   ]
  },
  {
   "cell_type": "code",
   "execution_count": null,
   "metadata": {},
   "outputs": [],
   "source": [
    "#s3 input\n",
    "s3_trace.get_paths()[0][1:10]"
   ]
  },
  {
   "cell_type": "code",
   "execution_count": null,
   "metadata": {},
   "outputs": [],
   "source": [
    "#s3 input, only spacing specified, origin defaults to (0,0,0)\n",
    "s3_trace.get_paths(spacing=np.asarray([2,2,2]))[0][1:10]"
   ]
  },
  {
   "cell_type": "code",
   "execution_count": null,
   "metadata": {},
   "outputs": [],
   "source": [
    "#s3 input, spacing and origin specified\n",
    "s3_trace.get_paths(spacing=np.asarray([2,2,2]),origin=np.asarray([500,500,500]))[0][1:10]"
   ]
  },
  {
   "cell_type": "markdown",
   "metadata": {},
   "source": [
    "### 7. generate_df_subset\n",
    "\n",
    "This method reads a new subset dataframe, taking in a list of voxels. An option was added to provide a subset of the neuron rather than the entire neuron (by providing subneuron_start and subneuron_end)"
   ]
  },
  {
   "cell_type": "code",
   "execution_count": null,
   "metadata": {},
   "outputs": [],
   "source": [
    "#swc input, no subneuron_start and subneuron_end\n",
    "\n",
    "#generate vox_in_img_list\n",
    "my_list = []\n",
    "for i in range(len(swc_trace.get_df())):\n",
    "    my_list.append(10)\n",
    "vox_in_img_list = [my_list,my_list,my_list]\n",
    "\n",
    "swc_trace.generate_df_subset(vox_in_img_list)"
   ]
  },
  {
   "cell_type": "code",
   "execution_count": null,
   "metadata": {},
   "outputs": [],
   "source": [
    "#swc input, subneuron_start and subneuron_end specified\n",
    "\n",
    "subneuron_start = 5\n",
    "subneuron_end = 8\n",
    "\n",
    "#generate vox_in_img_list\n",
    "my_list = []\n",
    "for i in range(subneuron_end-subneuron_start):\n",
    "    my_list.append(10)\n",
    "vox_in_img_list_2 = list([my_list,my_list,my_list])\n",
    "\n",
    "swc_trace.generate_df_subset(vox_in_img_list_2,subneuron_start,subneuron_end)"
   ]
  },
  {
   "cell_type": "code",
   "execution_count": null,
   "metadata": {},
   "outputs": [],
   "source": [
    "#s3 input, no subneuron_start and subneuron_end\n",
    "\n",
    "#generate vox_in_img_list\n",
    "my_list = []\n",
    "for i in range(len(s3_trace.get_df())):\n",
    "    my_list.append(10)\n",
    "vox_in_img_list_3 = [my_list,my_list,my_list]\n",
    "\n",
    "s3_trace.generate_df_subset(vox_in_img_list_3)"
   ]
  },
  {
   "cell_type": "code",
   "execution_count": null,
   "metadata": {},
   "outputs": [],
   "source": [
    "#s3 input, subneuron_start and subneuron_end specified\n",
    "\n",
    "subneuron_start = 5\n",
    "subneuron_end = 8\n",
    "\n",
    "#generate vox_in_img_list\n",
    "my_list = []\n",
    "for i in range(subneuron_end-subneuron_start):\n",
    "    my_list.append(10)\n",
    "vox_in_img_list_4 = [my_list,my_list,my_list]\n",
    "\n",
    "s3_trace.generate_df_subset(vox_in_img_list_4,subneuron_start,subneuron_end)"
   ]
  },
  {
   "cell_type": "markdown",
   "metadata": {},
   "source": [
    "### 8. get_bfs_subgraph\n",
    "\n",
    "This method creates a spanning subgraph from a seed node and parent graph created from the dataframes using BFS. The seed node ID and max depth for BFS should be specified. A dataframe storing indices can be specified. If spacing and origin is specified, the units will be converted from spatial to voxel units. If only spacing is specified, origin will be set to (0,0,0).\n"
   ]
  },
  {
   "cell_type": "code",
   "execution_count": null,
   "metadata": {},
   "outputs": [],
   "source": [
    "#swc input, specify node_id and depth\n",
    "swc_trace.get_bfs_subgraph(node_id=11,depth=2)"
   ]
  },
  {
   "cell_type": "code",
   "execution_count": null,
   "metadata": {},
   "outputs": [],
   "source": [
    "#swc input, provide a dataframe\n",
    "swc_trace.get_bfs_subgraph(node_id=11,depth=2,df=s3_trace.get_df())"
   ]
  },
  {
   "cell_type": "code",
   "execution_count": null,
   "metadata": {},
   "outputs": [],
   "source": [
    "#swc input, add spacing \n",
    "swc_trace.get_bfs_subgraph(node_id=11,depth=2,df=s3_trace.get_df(),spacing=np.asarray([2,2,2]))"
   ]
  },
  {
   "cell_type": "code",
   "execution_count": null,
   "metadata": {},
   "outputs": [],
   "source": [
    "#swc input, add spacing and origin\n",
    "swc_trace.get_bfs_subgraph(node_id=11,depth=2,df=s3_trace.get_df(),spacing=np.asarray([2,2,2]),origin=np.asarray([50,50,50]))"
   ]
  },
  {
   "cell_type": "code",
   "execution_count": null,
   "metadata": {},
   "outputs": [],
   "source": [
    "#s3 input, specify node_id and depth\n",
    "s3_trace.get_bfs_subgraph(node_id=11,depth=2)"
   ]
  },
  {
   "cell_type": "code",
   "execution_count": null,
   "metadata": {},
   "outputs": [],
   "source": [
    "#s3 input, provide a dataframe\n",
    "s3_trace.get_bfs_subgraph(node_id=11,depth=2,df=swc_trace.get_df())"
   ]
  },
  {
   "cell_type": "code",
   "execution_count": null,
   "metadata": {},
   "outputs": [],
   "source": [
    "#s3 input, add spacing \n",
    "s3_trace.get_bfs_subgraph(node_id=11,depth=2,df=s3_trace.get_df(),spacing=np.asarray([2,2,2]))"
   ]
  },
  {
   "cell_type": "code",
   "execution_count": null,
   "metadata": {},
   "outputs": [],
   "source": [
    "#s3 input, add spacing and origin\n",
    "s3_trace.get_bfs_subgraph(node_id=11,depth=2,df=s3_trace.get_df(),spacing=np.asarray([2,2,2]),origin=np.asarray([50,50,50]))"
   ]
  },
  {
   "cell_type": "markdown",
   "metadata": {},
   "source": [
    "### 9. get_sub_neuron\n",
    "\n",
    "This method returns a sub-neuron in graph format with node coordinates bounded by a bounding box with start and end. If spacing and origin is specified, the units will be converted from spatial to voxel units. If only spacing is specified, origin will be set to (0,0,0)."
   ]
  },
  {
   "cell_type": "code",
   "execution_count": null,
   "metadata": {},
   "outputs": [],
   "source": [
    "bounding_box=[[1,2,4],[1,2,3]]\n",
    "\n",
    "#swc input, no spacing and origin\n",
    "swc_trace.get_sub_neuron(bounding_box)"
   ]
  },
  {
   "cell_type": "code",
   "execution_count": null,
   "metadata": {},
   "outputs": [],
   "source": [
    "#swc input, spacing specified\n",
    "swc_trace.get_sub_neuron(bounding_box,spacing=np.asarray([2,2,2]))"
   ]
  },
  {
   "cell_type": "code",
   "execution_count": null,
   "metadata": {},
   "outputs": [],
   "source": [
    "#swc input, spacing and origin specified\n",
    "swc_trace.get_sub_neuron(bounding_box,spacing=np.asarray([2,2,2]),origin=np.asarray([500,500,500]))"
   ]
  },
  {
   "cell_type": "code",
   "execution_count": null,
   "metadata": {},
   "outputs": [],
   "source": [
    "#s3 input, no spacing and origin\n",
    "s3_trace.get_sub_neuron(bounding_box)"
   ]
  },
  {
   "cell_type": "code",
   "execution_count": null,
   "metadata": {},
   "outputs": [],
   "source": [
    "#s3 input, spacing specified\n",
    "s3_trace.get_sub_neuron(bounding_box,spacing=np.asarray([2,2,2]))"
   ]
  },
  {
   "cell_type": "code",
   "execution_count": null,
   "metadata": {},
   "outputs": [],
   "source": [
    "#s3 input, spacing and origin specified\n",
    "s3_trace.get_sub_neuron(bounding_box,spacing=np.asarray([2,2,2]),origin=np.asarray([500,500,500]))"
   ]
  },
  {
   "cell_type": "markdown",
   "metadata": {},
   "source": [
    "### 10. ssd\n",
    "\n",
    "Computes significant spatial distance metric between two traces (for APP1)"
   ]
  },
  {
   "cell_type": "code",
   "execution_count": null,
   "metadata": {},
   "outputs": [],
   "source": [
    "pts1 = swc_trace.get_paths()[0][1:10]\n",
    "pts2 = swc_trace.get_paths()[0][11:20]\n",
    "\n",
    "NeuronTrace.ssd(pts1,pts2)"
   ]
  },
  {
   "cell_type": "code",
   "execution_count": null,
   "metadata": {},
   "outputs": [],
   "source": []
  },
  {
   "cell_type": "code",
   "execution_count": null,
   "metadata": {},
   "outputs": [],
   "source": []
  }
 ],
 "metadata": {
  "kernelspec": {
   "display_name": "Python 3",
   "language": "python",
   "name": "python3"
  },
  "language_info": {
   "codemirror_mode": {
    "name": "ipython",
    "version": 3
   },
   "file_extension": ".py",
   "mimetype": "text/x-python",
   "name": "python",
   "nbconvert_exporter": "python",
   "pygments_lexer": "ipython3",
   "version": "3.8.5"
  }
 },
 "nbformat": 4,
 "nbformat_minor": 4
}
